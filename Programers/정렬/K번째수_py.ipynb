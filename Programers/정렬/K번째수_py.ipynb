{
 "cells": [
  {
   "cell_type": "markdown",
   "id": "f45fd5e4",
   "metadata": {},
   "source": [
    "# [K번째수](https://programmers.co.kr/learn/courses/30/lessons/42748)\n",
    "\n",
    "<br/>\n",
    "\n",
    "### 문제\n",
    "배열 array의 i번째 숫자부터 j번째 숫자까지 자르고 정렬했을 때, k번째에 있는 수를 구하려 합니다.\n",
    "\n",
    "예를 들어 array가 [1, 5, 2, 6, 3, 7, 4], i = 2, j = 5, k = 3이라면\n",
    "\n",
    "1. array의 2번째부터 5번째까지 자르면 [5, 2, 6, 3]입니다.\n",
    "2. 1에서 나온 배열을 정렬하면 [2, 3, 5, 6]입니다.\n",
    "3. 2에서 나온 배열의 3번째 숫자는 5입니다.\n",
    "\n",
    "배열 array, [i, j, k]를 원소로 가진 2차원 배열 commands가 매개변수로 주어질 때, commands의 모든 원소에 대해 앞서 설명한 연산을 적용했을 때 나온 결과를 배열에 담아 return 하도록 solution 함수를 작성해주세요.\n",
    "\n",
    "### 제한사항\n",
    "\n",
    "- array의 길이는 1 이상 100 이하입니다.\n",
    "- array의 각 원소는 1 이상 100 이하입니다.\n",
    "- commands의 길이는 1 이상 50 이하입니다.\n",
    "- commands의 각 원소는 길이가 3입니다.\n",
    "\n",
    "\n",
    "### 입출력 예\n",
    "\n",
    "|numbers|commands|return|\n",
    "|:--|:--|:--|\n",
    "|[1, 5, 2, 6, 3, 7, 4]|[[2, 5, 3], [4, 4, 1], [1, 7, 3]]|[5, 6, 3]|\n",
    "\n",
    "### 입출력 에 설명\n",
    "\n",
    "- [1, 5, 2, 6, 3, 7, 4]를 2번째부터 5번째까지 자른 후 정렬합니다. [2, 3, 5, 6]의 세 번째 숫자는 5입니다.\n",
    "- [1, 5, 2, 6, 3, 7, 4]를 4번째부터 4번째까지 자른 후 정렬합니다. [6]의 첫 번째 숫자는 6입니다.\n",
    "- [1, 5, 2, 6, 3, 7, 4]를 1번째부터 7번째까지 자릅니다. [1, 2, 3, 4, 5, 6, 7]의 세 번째 숫자는 3입니다.\n",
    "\n",
    "### 알고리즘 분류\n",
    "\n",
    "- 정렬\n",
    "---"
   ]
  },
  {
   "cell_type": "markdown",
   "id": "e9f004fa",
   "metadata": {},
   "source": [
    "## 풀이 방법 1\n",
    "\n",
    "### 문제의 해결\n",
    "\n",
    "- array의 길이는 1이상 100이하\n",
    "- 각 원소는 1이상 100이하\n",
    "- commands의 각 원소의 길이는 3\n",
    "\n",
    "### 알고리즘 설계 - 구현\n",
    "\n",
    "- commands에서 [0]의 배열을 꺼내서 조건에 맞게 array에서 구분한다.\n",
    "- commands[0]이 [2,5,3]일 때,\n",
    "- array[2-1:5]를 뽑아낸다.\n",
    "- 정렬을 한다.\n",
    "- commands[0]의 [2]의 인수 3으로 세 번째 인수를 뽑아낸다.\n",
    "    - 5\n",
    "- commands의 길이에 맞게 반복을 하고 뽑아낸 인수를 출력한다.\n",
    "- 조건이 commands의 인수에 따라서, 설정하고 있으므로.\n",
    "- for문을 통해 commands를 반복해서 실행하면 된다."
   ]
  },
  {
   "cell_type": "markdown",
   "id": "af9a48bd",
   "metadata": {},
   "source": [
    "### 코드 풀이 1"
   ]
  },
  {
   "cell_type": "code",
   "execution_count": null,
   "id": "579bdf78",
   "metadata": {},
   "outputs": [],
   "source": [
    "# array의 길이는 1이상 100이하\n",
    "# 각 원소는 1이상 100이하\n",
    "# commands의 각 원소의 길이는 3\n",
    "\n",
    "def solution(array, commands):\n",
    "    new_Array=[]\n",
    "    ans=[]\n",
    "    for c in commands:\n",
    "        new_Array=array[c[0]-1:c[1]]\n",
    "        new_Array.sort()\n",
    "        ans.append(new_Array[c[2]-1])\n",
    "    return ans"
   ]
  },
  {
   "cell_type": "markdown",
   "id": "a4d81d62",
   "metadata": {},
   "source": [
    "### 코드 풀이 2\n",
    "\n",
    "- lambda와 map을 사용하면, for문을 돌릴 필요가 없다.\n",
    "- lambda를 통해 commands의 조건에 맞게 array를 정렬한다."
   ]
  },
  {
   "cell_type": "code",
   "execution_count": null,
   "id": "3c06f63d",
   "metadata": {},
   "outputs": [],
   "source": [
    "\n",
    "def solution(array, commands):\n",
    "    return list(map(lambda x:sorted(array[x[0]-1:x[1]])[x[2]-1], commands))"
   ]
  },
  {
   "cell_type": "markdown",
   "id": "7b65fccc",
   "metadata": {},
   "source": [
    "### 람다(lambda)\n",
    "\n",
    "[더 알아보기](https://wikidocs.net/64)\n",
    "\n",
    "- `lambda 매개변수 : 표현식` "
   ]
  },
  {
   "cell_type": "code",
   "execution_count": 1,
   "id": "6748e06d",
   "metadata": {},
   "outputs": [
    {
     "data": {
      "text/plain": [
       "30"
      ]
     },
     "execution_count": 1,
     "metadata": {},
     "output_type": "execute_result"
    }
   ],
   "source": [
    "def hap(x,y):\n",
    "    return x+y\n",
    "hap(10,20)"
   ]
  },
  {
   "cell_type": "code",
   "execution_count": 2,
   "id": "d806b7ee",
   "metadata": {},
   "outputs": [
    {
     "data": {
      "text/plain": [
       "30"
      ]
     },
     "execution_count": 2,
     "metadata": {},
     "output_type": "execute_result"
    }
   ],
   "source": [
    "(lambda x,y : x+y)(10,20)"
   ]
  },
  {
   "cell_type": "markdown",
   "id": "1460c3d7",
   "metadata": {},
   "source": [
    "### map()\n",
    "\n",
    "- `map(함수, 리스트)"
   ]
  },
  {
   "cell_type": "code",
   "execution_count": 3,
   "id": "6fb98e7b",
   "metadata": {},
   "outputs": [
    {
     "data": {
      "text/plain": [
       "[0, 1, 4, 9, 16]"
      ]
     },
     "execution_count": 3,
     "metadata": {},
     "output_type": "execute_result"
    }
   ],
   "source": [
    "list(map(lambda x:x**2,range(5)))"
   ]
  },
  {
   "cell_type": "markdown",
   "id": "d094b126",
   "metadata": {},
   "source": [
    "- map함수가 매개변수로 받은 함수는 lambda x:x**2 이다. 리스크로는 range(5)를 받는다.\n",
    "- 즉, [0,1,2,3,4]라는 리스트에 맞게 각각에 2씩 제곱하여 리스트로 반환한다."
   ]
  },
  {
   "cell_type": "code",
   "execution_count": null,
   "id": "c2478fd9",
   "metadata": {},
   "outputs": [],
   "source": [
    "def solution(array, commands):\n",
    "    return list(\n",
    "        map(\n",
    "            lambda x:sorted(array[x[0]-1:x[1]])[x[2]-1]\n",
    "            ,commands\n",
    "        )\n",
    "    )"
   ]
  }
 ],
 "metadata": {
  "kernelspec": {
   "display_name": "Python 3 (ipykernel)",
   "language": "python",
   "name": "python3"
  },
  "language_info": {
   "codemirror_mode": {
    "name": "ipython",
    "version": 3
   },
   "file_extension": ".py",
   "mimetype": "text/x-python",
   "name": "python",
   "nbconvert_exporter": "python",
   "pygments_lexer": "ipython3",
   "version": "3.9.7"
  }
 },
 "nbformat": 4,
 "nbformat_minor": 5
}
