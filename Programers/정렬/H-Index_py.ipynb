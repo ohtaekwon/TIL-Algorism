{
 "cells": [
  {
   "cell_type": "markdown",
   "id": "f45fd5e4",
   "metadata": {},
   "source": [
    "# [H-Index](https://programmers.co.kr/learn/courses/30/lessons/42747)\n",
    "\n",
    "<br/>\n",
    "\n",
    "### 문제\n",
    "\n",
    "H-Index는 과학자의 생산성과 영향력을 나타내는 지표입니다. 어느 과학자의 H-Index를 나타내는 값인 h를 구하려고 합니다. 위키백과1에 따르면, H-Index는 다음과 같이 구합니다.\n",
    "\n",
    "어떤 과학자가 발표한 논문 n편 중, h번 이상 인용된 논문이 h편 이상이고 나머지 논문이 h번 이하 인용되었다면 h의 최댓값이 이 과학자의 H-Index입니다.\n",
    "\n",
    "어떤 과학자가 발표한 논문의 인용 횟수를 담은 배열 citations가 매개변수로 주어질 때, 이 과학자의 H-Index를 return 하도록 solution 함수를 작성해주세요.\n",
    "\n",
    "### 제한사항\n",
    "\n",
    "- 과학자가 발표한 논문의 수는 1편 이상 1,000편 이하입니다.\n",
    "- 논문별 인용 횟수는 0회 이상 10,000회 이하입니다.\n",
    "\n",
    "\n",
    "### 입출력 예\n",
    "\n",
    "|citations|return|\n",
    "|:--|:--:|\n",
    "|[3, 0, 6, 1, 5]|3|\n",
    "\n",
    "### 입출력 에 설명\n",
    "\n",
    "이 과학자가 발표한 논문의 수는 5편이고, 그중 3편의 논문은 3회 이상 인용되었습니다. 그리고 나머지 2편의 논문은 3회 이하 인용되었기 때문에 이 과학자의 H-Index는 3입니다.\n",
    "\n",
    "### 알고리즘 분류\n",
    "\n",
    "- 정렬\n",
    "\n",
    "---"
   ]
  },
  {
   "cell_type": "markdown",
   "id": "e9f004fa",
   "metadata": {},
   "source": [
    "## 풀이 방법 \n",
    "\n",
    "### 문제의 해결\n",
    "\n",
    "[H-index 더 알아보기](https://www.ibric.org/myboard/read.php?Board=news&id=270333)\n",
    "\n",
    "- 리스트안의 수가 배열안의 원소 중 h이상이 h개 이상이고,\n",
    "- 나머지가 h개 이하일때,\n",
    "- h의 최댓값\n",
    "- 무슨 말인가?\n",
    "- 예를 들어, [10,8,5,4,3]일 때, H-index=4\n",
    "    - 인용수가 4개 이상인 논문의 개수가 4개 이상(10,8,5,4)이다.\n",
    "- 그러면 [6,6,6,6,6,1] 일 때, H-index는?\n",
    "    - \n",
    "\n",
    "### 알고리즘 설계 - 구현\n",
    "\n",
    "- 원소를 하나 꺼내서, 해당 원소의 수 이상인 것을 체크\n",
    "- 예를 들어, [3, 0, 6, 1, 5]에서 \n",
    "    - 3을 꺼내서 3이상인 것, 3,5,6 = 3개 / 3이하인 것 0,1 = 2개\n",
    "    - 0을 꺼내서 0이상인 것, 0,1,3,5,6 = 5개 / 0이하인 것 0 = 1개\n",
    "    - 6을 꺼내서 6이상인 것, 6 = 1개 /  6이하인 것 0,1,3,5 = 4개\n",
    "    \n",
    "\n",
    "- 반복문을 작성하여, 하나씩 실시해본다.\n",
    "    - 그런데 먼저 정렬을 한다.\n",
    "        - 첫 번째, 꺼낸 요소는 제일 작은 값\n",
    "     "
   ]
  },
  {
   "cell_type": "markdown",
   "id": "af9a48bd",
   "metadata": {},
   "source": [
    "### 코드 풀이 1\n",
    "\n",
    "- H-Index의 최솟값(0)부터 1씩 증가하며, 조건을 확인하는 코드\n"
   ]
  },
  {
   "cell_type": "code",
   "execution_count": null,
   "id": "579bdf78",
   "metadata": {},
   "outputs": [],
   "source": [
    "def solution(citations):\n",
    "    h_index=0\n",
    "    for tmp_h in range(len(citations)+1):\n",
    "        \n",
    "    return h_index \n"
   ]
  },
  {
   "cell_type": "markdown",
   "id": "68d7765b",
   "metadata": {},
   "source": [
    "`check_num == h`번 인용되는 논문이 몇개인지 저장, citation == citations list에서 선택한 값 h값을 0부터 검사함 "
   ]
  },
  {
   "cell_type": "code",
   "execution_count": null,
   "id": "9c4c4f61",
   "metadata": {},
   "outputs": [],
   "source": [
    "def solution(citations):\n",
    "    h_index=0\n",
    "    for tmp_h in range(len(citations)+1):\n",
    "        check_num = 0\n",
    "        for citation in citations:\n",
    "            if (tmp_h <= citation):\n",
    "                check_num+=1\n",
    "    return h_index \n"
   ]
  },
  {
   "cell_type": "code",
   "execution_count": null,
   "id": "3d3b9dc9",
   "metadata": {},
   "outputs": [],
   "source": []
  },
  {
   "cell_type": "code",
   "execution_count": null,
   "id": "e4be0518",
   "metadata": {},
   "outputs": [],
   "source": [
    "def solution(citations):\n",
    "    h_index=0\n",
    "    for tmp_h in range(len(citations)+1):\n",
    "        check_num = 0\n",
    "        for citation in citations:\n",
    "            if (tmp_h <= citation):\n",
    "                check_num+=1\n",
    "        if (tmp_h > check_num):\n",
    "            h_index = tmp_h-1\n",
    "            break\n",
    "        else:\n",
    "            h_index=tmp_h\n",
    "    return h_index \n"
   ]
  },
  {
   "cell_type": "markdown",
   "id": "634ec052",
   "metadata": {},
   "source": [
    "### 코드 풀이 2"
   ]
  },
  {
   "cell_type": "code",
   "execution_count": null,
   "id": "44ba9f7f",
   "metadata": {},
   "outputs": [],
   "source": [
    "def solution(citations):\n",
    "    for i in range(max(citations),-1,-1):\n",
    "        if sum(1 for j in citations if j>=i) >= i:break\n",
    "    return i "
   ]
  },
  {
   "cell_type": "markdown",
   "id": "cb915f05",
   "metadata": {},
   "source": [
    "### 코드 풀이 3"
   ]
  },
  {
   "cell_type": "code",
   "execution_count": null,
   "id": "a39778f8",
   "metadata": {},
   "outputs": [],
   "source": [
    "# 풀이 2\n",
    "def solution(citations):\n",
    "    # 1.먼저 정렬을 한다.\n",
    "    citations.sort() # [0,1,3,5,6]\n",
    "    \n",
    "    # 2.배열의 길이만큼 회전\n",
    "    for i in range(len(citations)):\n",
    "        if citations[i] >= len(citations)-i: # h번 이상 인용된 논문이 h편 이상\n",
    "            # [0,1,3,5,6] 에서 0번 이상 인용된 논문은 0편 이상일때, \n",
    "            \n",
    "            \n",
    "            # 자기 자신을 포함한 이상인 것들의 갯수를 출력\n",
    "            return len(citations)-i # 인용된 논문의 개수를 최댓값부터 하나씩 줄여나간 것이다\n",
    "    # 그렇지 않다면, 없으믈, 0을 출력\n",
    "    return 0"
   ]
  }
 ],
 "metadata": {
  "kernelspec": {
   "display_name": "Python 3 (ipykernel)",
   "language": "python",
   "name": "python3"
  },
  "language_info": {
   "codemirror_mode": {
    "name": "ipython",
    "version": 3
   },
   "file_extension": ".py",
   "mimetype": "text/x-python",
   "name": "python",
   "nbconvert_exporter": "python",
   "pygments_lexer": "ipython3",
   "version": "3.9.7"
  }
 },
 "nbformat": 4,
 "nbformat_minor": 5
}
