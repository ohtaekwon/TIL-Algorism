{
 "cells": [
  {
   "cell_type": "markdown",
   "id": "f45fd5e4",
   "metadata": {},
   "source": [
    "# [가장 큰 수](https://programmers.co.kr/learn/courses/30/lessons/42746)\n",
    "\n",
    "<br/>\n",
    "\n",
    "### 문제\n",
    "0 또는 양의 정수가 주어졌을 때, 정수를 이어 붙여 만들 수 있는 가장 큰 수를 알아내 주세요.\n",
    "\n",
    "예를 들어, 주어진 정수가 [6, 10, 2]라면 [6102, 6210, 1062, 1026, 2610, 2106]를 만들 수 있고, 이중 가장 큰 수는 6210입니다.\n",
    "\n",
    "0 또는 양의 정수가 담긴 배열 numbers가 매개변수로 주어질 때, 순서를 재배치하여 만들 수 있는 가장 큰 수를 문자열로 바꾸어 return 하도록 solution 함수를 작성해주세요.\n",
    "\n",
    "\n",
    "### 제한사항\n",
    "\n",
    "- numbers의 길이는 1 이상 100,000 이하입니다.\n",
    "- numbers의 원소는 0 이상 1,000 이하입니다.\n",
    "- 정답이 너무 클 수 있으니 문자열로 바꾸어 return 합니다.\n",
    "\n",
    "### 입출력 예\n",
    "\n",
    "|numbers|return|\n",
    "|:--|:--|\n",
    "|[6, 10, 2]|\"6210\"|\n",
    "|[3, 30, 34, 5, 9]|\"9534330\"|\n",
    "\n",
    "\n",
    "### 알고리즘 분류\n",
    "\n",
    "- 정렬\n",
    "---"
   ]
  },
  {
   "cell_type": "markdown",
   "id": "e9f004fa",
   "metadata": {},
   "source": [
    "## 풀이 방법 1\n",
    "\n",
    "### 문제의 해결\n",
    "\n",
    "- (1) 빈 문자열로 수를 초기화한다.\n",
    "- (2) 가장 크게 만들 수 있는 수를 고른다.\n",
    "- (3) 그 수를 현재 수에 이어 붙인다.\n",
    "- (4) 모든 수를 다 사용할 때까지 반복한다.\n",
    "- 예제에 적용\n",
    "    - [3,30,34,5,9]\n",
    "    - \"\" (초기화)\n",
    "    - [3,30,34,5] → \"9\"\n",
    "    - [3,30,34] →  \"95\"\n",
    "    - [3,30] →  \"9534\"\n",
    "    - [30] → \"95343\"\n",
    "    - [] →  \"9534330\"\n",
    "- 이 방법을 하면, 주어진 수의 개수가 n일때, $n^2$에 비례하는 시간을 갖게 된다.\n",
    "\n",
    "\n",
    "### (조금 나은) 문제의 해결 방법\n",
    "\n",
    "- (1) 빈 문자열로 수를 초기화한다.\n",
    "- (2) 수의 목록을 (결과의 수를 `크게 만드는 것` 우선으로) 정렬한다.\n",
    "    - 정렬에 사용하는 기준을 문자열로 취급\n",
    "- (3) 목록에서 하나씩 꺼내어 현재 수에 이어 붙인다.\n",
    "- (4) 모든 수를 다 사용할 때까지 반복한다.\n",
    "\n",
    "\n",
    "### \"크게 만드는 수\"의 기준\n",
    "\n",
    "- 3, 32, 33, 34\n",
    "    - 3 vs 32\n",
    "    - 332 vs 323 →  3을 고른다\n",
    "    - 3 vs 33\n",
    "    - 333 vs 333 →  아무거나\n",
    "    - 3 vs 34\n",
    "    - 334 vs 343 →  34를 고른다.\n",
    "\n",
    "- 34, 342, 343, 344\n",
    "    - 34 vs 343\n",
    "    - 34343 vs 34334 →  34을 고른다.\n",
    "    - 34 vs 344\n",
    "    - 34344 vs 34434 → 344을 고른다.\n",
    "\n",
    "### 알고리즘 설계 - 구현\n",
    "\n",
    "- 대소 관계 비교를 위한 기준을 마련\n",
    "- 이것을 이용하여 주어진 배열을 정렬\n",
    "- 정렬된 배열을 이용하여 문자열 표현을 완성"
   ]
  },
  {
   "cell_type": "markdown",
   "id": "af9a48bd",
   "metadata": {},
   "source": [
    "### 코드 풀이\n"
   ]
  },
  {
   "cell_type": "code",
   "execution_count": null,
   "id": "579bdf78",
   "metadata": {},
   "outputs": [],
   "source": [
    "def solution(numbers):\n",
    "    numbers = [str(x) for x in numbers] # 주어진 numbers를 문자열 리스트로 취급\n",
    "    # 리스트 정렬\n",
    "    # 개별 숫자를 4번 반복하고 앞에서 4 글자까지 끊어준다.\n",
    "    # 문자열의 정렬 기준은 오름차순이 기본이므로,\n",
    "    # 큰 것을 우선으로 하기 위해서는 reverse=True\n",
    "    numbers.sort(key=lambda x: (x*4)[:4], reverse=True)\n",
    "    answer=''.join(numbers)\n",
    "    return answer\n"
   ]
  },
  {
   "cell_type": "markdown",
   "id": "f61674e0",
   "metadata": {},
   "source": [
    "- 제한 사항에서 0이상 1000이하이다.\n",
    "    - 0만 주어진 상황에서 return이 0으로 되어야 한다."
   ]
  },
  {
   "cell_type": "code",
   "execution_count": null,
   "id": "89fb8fd5",
   "metadata": {},
   "outputs": [],
   "source": [
    "def solution(numbers):\n",
    "    numbers = [str(x) for x in numbers] # 주어진 numbers를 문자열 리스트로 취급\n",
    "    # 리스트 정렬\n",
    "    # 개별 숫자를 4번 반복하고 앞에서 4 글자까지 끊어준다.\n",
    "    # 문자열의 정렬 기준은 오름차순이 기본이므로,\n",
    "    # 큰 것을 우선으로 하기 위해서는 reverse=True\n",
    "    numbers.sort(key=lambda x: (x*4)[:4], reverse=True)\n",
    "    if numbers[0]=='0':\n",
    "        answer='0'\n",
    "    else : \n",
    "        answer=''.join(numbers)\n",
    "    return answer"
   ]
  },
  {
   "cell_type": "markdown",
   "id": "b261a565",
   "metadata": {},
   "source": [
    "### 알고리즘의 복잡도\n",
    "\n",
    "```python\n",
    "# numbers의 수를 문자열로 바꾸어 list로 만든다.\n",
    "numbers = [str(x) for x in numbers]\n",
    "# numbers의 수의 개수에 비례한다. 즉, O(n)의 시간이 걸린다.\n",
    "```\n",
    "\n",
    "```python\n",
    "# 정렬\n",
    "numbers.sort(key=lambda x: (x*4)[:4], reverse=True)\n",
    "# 주어진 배열을 정렬하는데 필요한 시간은 N x logN 만큼 걸린다.\n",
    "```\n",
    "\n",
    "```python\n",
    "if numbers[0]=='0':  # 상수시간안에 끝난다.\n",
    "    answer='0'\n",
    "    \n",
    "else : \n",
    "    answer=''.join(numbers) # numbers의 문자의 개수에 비례한다.\n",
    "    \n",
    "# 결국은 O(n) + O(1) 만큼 걸린다. 즉, n에 비례한다.\n",
    "```\n",
    "\n",
    "- 가장 복잡도를 지배하는 단계는 3행의 정렬 알고리즘단계이다.\n",
    "    - 정렬을 하기 때문에, $O$($N$log$N$) 이 걸린다."
   ]
  }
 ],
 "metadata": {
  "kernelspec": {
   "display_name": "Python 3 (ipykernel)",
   "language": "python",
   "name": "python3"
  },
  "language_info": {
   "codemirror_mode": {
    "name": "ipython",
    "version": 3
   },
   "file_extension": ".py",
   "mimetype": "text/x-python",
   "name": "python",
   "nbconvert_exporter": "python",
   "pygments_lexer": "ipython3",
   "version": "3.9.7"
  }
 },
 "nbformat": 4,
 "nbformat_minor": 5
}
