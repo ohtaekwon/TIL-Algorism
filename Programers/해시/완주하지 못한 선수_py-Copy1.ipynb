{
 "cells": [
  {
   "cell_type": "markdown",
   "id": "f45fd5e4",
   "metadata": {},
   "source": [
    "# [완주하지 못한 선수](https://programmers.co.kr/learn/courses/30/lessons/42576)\n",
    "\n",
    "<br/>\n",
    "\n",
    "### 문제\n",
    "수많은 마라톤 선수들이 마라톤에 참여하였습니다. 단 한 명의 선수를 제외하고는 모든 선수가 마라톤을 완주하였습니다.\n",
    "\n",
    "마라톤에 참여한 선수들의 이름이 담긴 배열 participant와 완주한 선수들의 이름이 담긴 배열 completion이 주어질 때, 완주하지 못한 선수의 이름을 return 하도록 solution 함수를 작성해주세요.\n",
    "\n",
    "제한사항\n",
    "마라톤 경기에 참여한 선수의 수는 1명 이상 100,000명 이하입니다.\n",
    "completion의 길이는 participant의 길이보다 1 작습니다.\n",
    "참가자의 이름은 1개 이상 20개 이하의 알파벳 소문자로 이루어져 있습니다.\n",
    "참가자 중에는 동명이인이 있을 수 있습니다.\n",
    "\n",
    "\n",
    "### 제한사항\n",
    "\n",
    "- 마라톤 경기에 참여한 선수의 수는 1명 이상 100,000명 이하입니다.\n",
    "- completion의 길이는 participant의 길이보다 1 작습니다.\n",
    "- 참가자의 이름은 1개 이상 20개 이하의 알파벳 소문자로 이루어져 있습니다.\n",
    "- 참가자 중에는 동명이인이 있을 수 있습니다.\n",
    "\n",
    "### 입출력 예\n",
    "\n",
    "|participant|completion|return|\n",
    "|:--|:--|:--:|\n",
    "|[\"leo\", \"kiki\", \"eden\"]|[\"eden\", \"kiki\"]|\"leo\"|\n",
    "|[\"marina\", \"josipa\", \"nikola\", \"vinko\", \"filipa\"]|[\"josipa\", \"filipa\", \"marina\", \"nikola\"]|\"vinko\"|\n",
    "|[\"mislav\", \"stanko\", \"mislav\", \"ana\"]|[\"stanko\", \"ana\", \"mislav\"]|\"mislav\"|\n",
    "\n",
    "### 입출력 예 설명\n",
    "\n",
    "예제 #1\n",
    "\"leo\"는 참여자 명단에는 있지만, 완주자 명단에는 없기 때문에 완주하지 못했습니다.\n",
    "\n",
    "예제 #2\n",
    "\"vinko\"는 참여자 명단에는 있지만, 완주자 명단에는 없기 때문에 완주하지 못했습니다.\n",
    "\n",
    "예제 #3\n",
    "\"mislav\"는 참여자 명단에는 두 명이 있지만, 완주자 명단에는 한 명밖에 없기 때문에 한명은 완주하지 못했습니다.\n"
   ]
  },
  {
   "cell_type": "markdown",
   "id": "ea8b4d14",
   "metadata": {},
   "source": [
    "### 알고리즘 분류\n",
    "\n",
    "- 해시"
   ]
  },
  {
   "cell_type": "markdown",
   "id": "268a9d00",
   "metadata": {},
   "source": [
    "### 풀이 1)\n",
    "\n",
    "- 각 리스트들을 정렬한다.\n",
    "- `completion`을 반복하여 실행하며 `participant`와 비교한다.\n",
    "- 같지 않다면, 같지 않은 요소를 리턴한다.\n",
    "- 같다면, 멘 마지막 요소를 출력한다."
   ]
  },
  {
   "cell_type": "markdown",
   "id": "fdc9670f",
   "metadata": {},
   "source": [
    "### 최종 코드"
   ]
  },
  {
   "cell_type": "code",
   "execution_count": 1,
   "id": "57c1566f",
   "metadata": {},
   "outputs": [],
   "source": [
    "def solution(participant, completion):\n",
    "    # 각 리스트들을 정렬시켜준다. \n",
    "    participant.sort()\n",
    "    completion.sort()\n",
    "\n",
    "\n",
    "    for i in range(len(completion)): # completion 안의 리스트 길이만큼 반복\n",
    "        if participant[i]!=completion[i]: # 정렬된 리스트들이 같지 않다면\n",
    "            return participant[i] # 같지 않은 요소를 리턴\n",
    "    # 해당 for문을 다 돌았을 경우 리턴이 되지 않았다면, 완벽하게 같았다는 의미\n",
    "    # 또한, 완주하지 못한 사람은 무조건 1명이라고 했으니, participant 보다 completion 가 언제나 1명씩 더 많다. \n",
    "    # 아직 비교하지 못한 요소는 participant 리스트의 맨 뒤의 요소이므로,\n",
    "    return participant[-1] # participant의 맨 마지막 남은 요소(participant 인덱스 끝)이 리턴되어야 한다.\n"
   ]
  },
  {
   "cell_type": "code",
   "execution_count": null,
   "id": "ca4963eb",
   "metadata": {},
   "outputs": [],
   "source": []
  }
 ],
 "metadata": {
  "kernelspec": {
   "display_name": "Python 3 (ipykernel)",
   "language": "python",
   "name": "python3"
  },
  "language_info": {
   "codemirror_mode": {
    "name": "ipython",
    "version": 3
   },
   "file_extension": ".py",
   "mimetype": "text/x-python",
   "name": "python",
   "nbconvert_exporter": "python",
   "pygments_lexer": "ipython3",
   "version": "3.9.7"
  }
 },
 "nbformat": 4,
 "nbformat_minor": 5
}
