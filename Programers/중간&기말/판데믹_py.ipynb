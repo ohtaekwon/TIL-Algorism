{
 "cells": [
  {
   "cell_type": "markdown",
   "id": "f45fd5e4",
   "metadata": {},
   "source": [
    "# 판데믹\n",
    "\n",
    "<br/>\n",
    "\n",
    "## 문제\n",
    "\n",
    "세균이 증식할 수 있는 `rows`행 `columns`열의 칸으로 구성된 격자가 있습니다. 각 칸은 최대 `max_virus` 마리의 세균이 있을 수 있으며, 초기에는 이 격자에 아무런 세균이 없습니다. 당신은 일련의 쿼리 목록을 전달 받았습니다. 하나의 쿼리는 `r`과 `c` 두 정수로 이루어져 있으며, 이는 `r` 행 `c` 열의 칸에서 \"세균 증식\"을 하라는 것을 의미합니다. 세균 증식이란 다음과 같습니다.\n",
    "\n",
    "- 만약 `r`행 `c`열의 칸에 있는 세균이 `max_virus` 마리 미만이라면, 세균을 1마리 더 늘립니다.\n",
    "- 만약 `r`행 `c`열의 칸에 있는 세균이 `max_virus` 마리라면, 이 칸에 인접한 상하좌우 모든 칸에서 \"세균 증식\"을 시킵니다. 이때, \n",
    "    - 세균 증식이 여러 칸에 걸쳐서 연쇄적으로 일어날 수 있습니다.\n",
    "    - 한 쿼리에서 동일한 칸에는 최대 한 번의 세균 증식만 일어납니다.\n",
    "    \n",
    "정수 `rows`, `columns`, `max_virus`, 그리고 쿼리를 의미하는 2차원 정수 배열 `queries`가 매개변수로 주어집니다. `queries`에 들어있는 쿼리들에 의한 세균 증식을 순서대로 실행시켰을 때, 격자의 최정 상태(각 칸에 세균이 몇 마리씩 있는지)를 2차원 정수 배열로 return 하도록 solution 함수를 완성해주세요.\n",
    "\n",
    "\n",
    "## 제한사항\n",
    "\n",
    "- 1 <= `rows` , `columns` <= 20\n",
    "- 1 <= `max_virus` <= 100\n",
    "- 1 <= `queries` 의 행의 개수 <= 400\n",
    "    - `queries`의 각 행은 `[r,c]` 2개의 정수로 이루어져 있으며, 이는 `r` 행 `c` 열에 세균 증식을 하라는 의미입니다.\n",
    "    - 1 <= `r` <= `rows`\n",
    "    - 1 <= `c` <= `columns`\n",
    "- return 해야 하는 배열의 행 길이 = `rows`\n",
    "- return 해야 하는 배열의 열 길이 = `columns`\n",
    "\n",
    "## 입출력 예\n",
    "\n",
    "|rows|columns|max_virus|queries|result|\n",
    "|:-----|:-------|:----:|:----:|:----:|\n",
    "|3|4|2|[[3,2],[3,2],[2,2],[3,2],[1,4],[3,2],[2,3],[3,1]]|[[0,2,1,1],[2,2,2,1],[2,2,2,1]]\n",
    "\n",
    "## 입출력 예 설명\n",
    "\n",
    "1. 입출력 예 #1\n",
    "- 다음 그림은 주어진 쿼리대로 3행 4열의 격자에 세균 증식을 시키는 과정을 나타낸 것입니다. \n",
    "\n",
    "![판데믹_img](C:\\TIL-Algorithms\\Programers\\img\\판데믹_img.png)\n",
    "\n",
    "- 빨간색 숫자는 쿼리가 해당 격자에 세균 증식을 시킨 것을 의미하며, 보라색 숫자는 해당 격자에 세균 증식이 연쇄적으로 발생했음을 의미합니다.\n",
    "- 따라서, 격자의 최종 상태(각 칸에 세균이 몇 마리씩 있는지)인 `[[0,2,1,1],[2,2,2,1],[2,2,2,1]]`를 return 해야 합니다.\n",
    "\n",
    "\n",
    "## 알고리즘 분류\n",
    "\n",
    "- 동적 계획법"
   ]
  },
  {
   "attachments": {},
   "cell_type": "markdown",
   "id": "268a9d00",
   "metadata": {},
   "source": [
    "## 풀이 방법 \n",
    "\n",
    "PS 카테고리는 시뮬레이션 입니다.\n",
    "\n",
    "일반적으로 시뮬레이션 문제는 코테에서 시간을 잡아먹는 구현 문제라고 생각하는데요, 이번 기말고사 1번 문제 또한 고급 알고리즘이 들어갔다기 보단 단순 구현에 가까웠다고 봅니다.\n",
    "\n",
    "다만, 다음과 같은 조건에만 주의하시면 됩니다.\n",
    "\n",
    "```\n",
    "한 쿼리에서 동일한 칸에는 최대 한 번의 세균 증식만 일어납니다.\n",
    "```\n",
    "\n",
    "위의 조건은 바이러스 확산이 서로 주고받으며 무한하게 일어나지는 않는다는 의미로, 아래와 같은 예시를 방지하는 조건입니다.\n",
    "\n",
    "ex) 1x2 크기 보드에서 바이러스가 2이상일때 증식이 일어나는 상황\n",
    "\n",
    "\n",
    "|index|1|2|\n",
    "|:----:|-|-|\n",
    "|1|0|0| \n",
    "\n",
    "- 이때 1,1 지점에 바이러스를 계속 주입하면\n",
    "\n",
    "\n",
    "\n",
    "|index|1|2|\n",
    "|:----|-|-|\n",
    "|1|1|0|\n",
    "\n",
    "|index|1|2|\n",
    "|:----|-|-|\n",
    "|1|2|1|\n",
    "\n",
    "- 여기까지는 정상적이지만, 다음 단계부터는 위의 조건이 없다면 문제가 발생합니다.\n",
    "\n",
    "|index|1|2|\n",
    "|:----|-|-|\n",
    "|1|3|2|\n",
    "\n",
    "- (여기서 1,2 지점에서 연쇄 증식이 일어남)\n",
    "\n",
    "|index|1|2|\n",
    "|:----|-|-|\n",
    "|1|4|2|\n",
    "\n",
    "- (여기서 1,1 지점에서 연쇄 증식이일어남)\n",
    "\n",
    "\n",
    "|index|1|2|\n",
    "|:----|-|-|\n",
    "|1|5|3|\n",
    "\n",
    "\n",
    "|index|1|2|\n",
    "|:----|-|-|\n",
    "|1|6|4|\n",
    "\n",
    "|index|1|2|\n",
    "|:----|-|-|\n",
    "|1|7|5|\n",
    "\n",
    "- (반복되는 상황 이하 생략)\n",
    "\n",
    "이런 반복을 막기위해, 한번 증식이 일어난 칸에서는 한번의 쿼리로 인해 연쇄증식이 일어나지 않도록 예외처리하라는 조건이 들어가 있는 것 입니다.\n",
    "\n",
    "그러므로 매 쿼리를 실행할때, 한번 확산이 일어난 칸을 체크하여 한 쿼리 내에서는 재 확산이 일어나지 않도록 처리해야합니다.\n",
    "\n",
    "### deque의 의미\n",
    "\n",
    "- `큐(queue)` 선입선출(FIFO) 방식으로 작동하는 반면에 덱(deque)은 `양방향 큐`처럼 작동한다.\n",
    "- 즉, 양쪽 방향에서 원소를 추가하거나 삭제할 수 있다.\n",
    "- `deque`는 양 끝 원소의 append, pop이 압도적으로 빠르다($0$(1) 상수시간 소요)\n",
    "    - 반면, list는 양 끝 원소에 접근하여, 삽입, 삭제 하려고 하면 $O(N)$ 시간이 소요된다.\n",
    "    \n",
    "### deque는 언제 사용하는가?\n",
    "\n",
    "- 덱은 스택(stack)처럼 사용할 수도, 큐(queue)처럼 사용할수도 있다.\n",
    "- 시작점의 값을 넣고, 빼거나 끝 점의 값을 넣고 뺴는 데에 최적화된 연산 속도를 제공한다.\n",
    "- 대부분의 경우 덱이 리스트보다 월등한 옵션을 가지고 있다.\n",
    "- 덱은 특히 `push/pop` 연산이 빈번한 알고리즘에서 장점이 부각된다.\n",
    "\n",
    "### 알고리즘 설계 - 구현 \n",
    "\n",
    "- 시간은 어떻게 비교할 것인가?\n",
    "    - 시간을 물어보는 것은 아니기 때문에,\n",
    "    - 시간을 분단위로 고정시키고, 비교하면 된다.\n",
    "     \n",
    "### 알고리즘의 복잡도\n",
    "\n",
    "\n"
   ]
  },
  {
   "cell_type": "markdown",
   "id": "fdc9670f",
   "metadata": {},
   "source": [
    "## 풀이 코드"
   ]
  },
  {
   "cell_type": "markdown",
   "id": "323d2ff4",
   "metadata": {},
   "source": [
    "### 내가 푼 코드"
   ]
  },
  {
   "cell_type": "code",
   "execution_count": 94,
   "id": "57c1566f",
   "metadata": {},
   "outputs": [],
   "source": [
    "# r행 c열의 칸에 있는 세균 < max_virus미만, then 1마리 추가\n",
    "# r행 c열의 칸에 있는 세균 == max_visrus, then 인접한 칸에 세균 증식\n",
    "# 고려해야할 사항은?\n",
    "# 인접한 기준을 맞추기\n",
    "# [3,2] -> 1 -> [3,2] -> 2 -> [3,2] -> [3,1], [3,2], [3,1] , [2,2]\n",
    "# [3,2]의 인접 기준은? [3,2-1], [3,2+1], [3-1,2]\n",
    "\n",
    "def solution(rows, columns, max_virus, queries):\n",
    "    array = [[0 for col in range(columns)] for row in range(rows)]\n",
    "\n",
    "    while queries:\n",
    "        germ=queries.pop(0)\n",
    "        x=germ[0]-1\n",
    "        y=germ[1]-1\n",
    "\n",
    "        if array[x][y]<=max_virus:\n",
    "            array[x][y]+=1\n",
    "        else:\n",
    "            # 같은 행 (왼/오)\n",
    "            # 왼/오/위/아래 1씩 더해주기\n",
    "            if y-1>=0 and y+1<=columns:\n",
    "                array[x][y-1]+=1\n",
    "                array[x][y+1]+=1\n",
    "            # 다른 행 (위/아래)\n",
    "            if x-1>=rows and x+1<=rows:\n",
    "                array[x-1][y]+=1\n",
    "                array[x+1][y]+=1\n",
    "\n",
    "    return array"
   ]
  },
  {
   "cell_type": "markdown",
   "id": "514af469",
   "metadata": {},
   "source": [
    "### 풀이 코드 1)"
   ]
  },
  {
   "cell_type": "code",
   "execution_count": 3,
   "id": "6e982627",
   "metadata": {},
   "outputs": [],
   "source": [
    "rows=3\n",
    "columns=4\n",
    "max_virus=2\n",
    "queries=[[3,2],[3,2],[2,2],[3,2],[1,4],[3,2],[2,3],[3,1]]"
   ]
  },
  {
   "cell_type": "code",
   "execution_count": 4,
   "id": "f7327b85",
   "metadata": {},
   "outputs": [],
   "source": [
    "from collections import deque\n",
    "\n",
    "def spread(rows, columns, point):\n",
    "    ret =[]\n",
    "\n",
    "    if point[0] > 0:\n",
    "        ret.append((point[0] - 1, point[1]))\n",
    "    if point[1] > 0:\n",
    "        ret.append((point[0], point[1] - 1))\n",
    "    if point[0] < rows - 1:\n",
    "        ret.append((point[0] + 1, point[1]))\n",
    "    if point[1] < columns - 1:\n",
    "        ret.append((point[0], point[1] + 1))\n",
    "\n",
    "    return ret\n",
    "\n",
    "def simulation(table, query, max_virus):\n",
    "    redundant_check = set()\n",
    "    q = deque()\n",
    "\n",
    "    q.append((query[0] - 1, query[1] - 1))\n",
    "    while q:\n",
    "\n",
    "        target = q[0]\n",
    "        redundant_check.add(target)\n",
    "        if table[target[0]][target[1]] >= max_virus:\n",
    "            spreads = spread(len(table), len(table[0]), target)\n",
    "\n",
    "            for point in spreads:\n",
    "                if point in redundant_check:\n",
    "                    continue\n",
    "\n",
    "                redundant_check.add(point)\n",
    "                q.append(point)\n",
    "        else:\n",
    "            table[target[0]][target[1]] += 1\n",
    "\n",
    "        q.popleft()\n",
    "\n",
    "def solution(rows, columns, max_virus, queries):\n",
    "    table = [[0 for _ in range(columns)] for _ in range(rows)]\n",
    "\n",
    "    for query in queries:\n",
    "        simulation(table, query, max_virus)\n",
    "\n",
    "    return table\n"
   ]
  },
  {
   "cell_type": "code",
   "execution_count": 5,
   "id": "cff3175a",
   "metadata": {},
   "outputs": [
    {
     "data": {
      "text/plain": [
       "[[0, 2, 1, 1], [2, 2, 2, 1], [2, 2, 2, 1]]"
      ]
     },
     "execution_count": 5,
     "metadata": {},
     "output_type": "execute_result"
    }
   ],
   "source": [
    "solution(rows, columns, max_virus, queries)"
   ]
  },
  {
   "cell_type": "markdown",
   "id": "2ff06216",
   "metadata": {},
   "source": [
    "### 채점 코드"
   ]
  },
  {
   "cell_type": "code",
   "execution_count": null,
   "id": "813b5f61",
   "metadata": {},
   "outputs": [],
   "source": [
    "def solution(rows, columns, max_virus, queries):\n",
    "    answer = []\n",
    "\n",
    "    return answer\n",
    "\n",
    "\n",
    "\n",
    "\n",
    "\n",
    "\n",
    "###########################################################################################\n",
    "\n",
    "from collections import deque\n",
    "\n",
    "def spread_(rows, columns, point):\n",
    "    ret =[]\n",
    "\n",
    "    if point[0] > 0:\n",
    "        ret.append((point[0] - 1, point[1]))\n",
    "    if point[1] > 0:\n",
    "        ret.append((point[0], point[1] - 1))\n",
    "    if point[0] < rows - 1:\n",
    "        ret.append((point[0] + 1, point[1]))\n",
    "    if point[1] < columns - 1:\n",
    "        ret.append((point[0], point[1] + 1))\n",
    "\n",
    "    return ret\n",
    "\n",
    "def simulation_(table, query, max_virus):\n",
    "    redundant_check = set()\n",
    "    q = deque()\n",
    "\n",
    "    q.append((query[0] - 1, query[1] - 1))\n",
    "    while q:\n",
    "\n",
    "        target = q[0]\n",
    "        redundant_check.add(target)\n",
    "        if table[target[0]][target[1]] >= max_virus:\n",
    "            spreads = spread_(len(table), len(table[0]), target)\n",
    "\n",
    "            for point in spreads:\n",
    "                if point in redundant_check:\n",
    "                    continue\n",
    "\n",
    "                redundant_check.add(point)\n",
    "                q.append(point)\n",
    "        else:\n",
    "            table[target[0]][target[1]] += 1\n",
    "\n",
    "        q.popleft()\n",
    "\n",
    "def solution_(rows, columns, max_virus, queries):\n",
    "    table = [[0 for _ in range(columns)] for _ in range(rows)]\n",
    "\n",
    "    for query in queries:\n",
    "        simulation_(table, query, max_virus)\n",
    "\n",
    "    return table\n",
    "\n",
    "\n",
    "###########################################################################################\n",
    "\n",
    "\n",
    "from random import randint\n",
    "\n",
    "def inputs():\n",
    "\n",
    "    rows = randint(1, 5)\n",
    "    columns = randint(1, 5)\n",
    "    max_virus = randint(1, 5)\n",
    "\n",
    "    randCount = randint(1, 20)\n",
    "    queries = []\n",
    "    for _ in range(randCount):\n",
    "        queries.append([randint(1, rows), randint(1, columns)])\n",
    "\n",
    "    return rows, columns, max_virus, queries\n",
    "\n",
    "import copy\n",
    "\n",
    "if __name__ == \"__main__\":\n",
    "    while True:\n",
    "        rows, columns, max_virus, queries = inputs()\n",
    "        queries1 = copy.deepcopy(queries)\n",
    "        queries2 = copy.deepcopy(queries)\n",
    "\n",
    "        print(\"rows = {}\\tcolumns = {}\\t max_virus = {}\".format(rows, columns, max_virus))\n",
    "        print(\"queries = {}\".format(queries))\n",
    "\n",
    "        answer_yours = solution(rows, columns, max_virus, queries1)\n",
    "        answer = solution_(rows, columns, max_virus, queries2)\n",
    "\n",
    "        if answer != answer_yours:\n",
    "            print(\"diff\")\n",
    "            print(\"answer : {}\".format(answer))\n",
    "            print(\"yours : {}\".format(answer_yours))\n",
    "            break\n",
    "            print()\n",
    "            print()"
   ]
  },
  {
   "cell_type": "code",
   "execution_count": 13,
   "id": "8174c4b7",
   "metadata": {},
   "outputs": [],
   "source": [
    "redundant_check=set()\n",
    "\n",
    "query=[3,2]\n",
    "q = deque()\n",
    "\n",
    "q.append((query[0] - 1, query[1] - 1))"
   ]
  },
  {
   "cell_type": "code",
   "execution_count": 14,
   "id": "33b83979",
   "metadata": {},
   "outputs": [
    {
     "data": {
      "text/plain": [
       "deque([(2, 1)])"
      ]
     },
     "execution_count": 14,
     "metadata": {},
     "output_type": "execute_result"
    }
   ],
   "source": [
    "q"
   ]
  },
  {
   "cell_type": "code",
   "execution_count": 15,
   "id": "f9664811",
   "metadata": {},
   "outputs": [
    {
     "data": {
      "text/plain": [
       "(2, 1)"
      ]
     },
     "execution_count": 15,
     "metadata": {},
     "output_type": "execute_result"
    }
   ],
   "source": [
    "q[0]"
   ]
  },
  {
   "cell_type": "code",
   "execution_count": 16,
   "id": "75d69b23",
   "metadata": {},
   "outputs": [
    {
     "data": {
      "text/plain": [
       "(2, 1)"
      ]
     },
     "execution_count": 16,
     "metadata": {},
     "output_type": "execute_result"
    }
   ],
   "source": [
    "target = q[0]\n",
    "target"
   ]
  },
  {
   "cell_type": "code",
   "execution_count": 17,
   "id": "1187e221",
   "metadata": {},
   "outputs": [
    {
     "data": {
      "text/plain": [
       "{(2, 1)}"
      ]
     },
     "execution_count": 17,
     "metadata": {},
     "output_type": "execute_result"
    }
   ],
   "source": [
    "redundant_check.add(target)\n",
    "redundant_check"
   ]
  },
  {
   "cell_type": "code",
   "execution_count": 19,
   "id": "53b8b7f8",
   "metadata": {},
   "outputs": [
    {
     "data": {
      "text/plain": [
       "0"
      ]
     },
     "execution_count": 19,
     "metadata": {},
     "output_type": "execute_result"
    }
   ],
   "source": [
    "table = [[0 for _ in range(columns)] for _ in range(rows)]\n",
    "\n",
    "table[target[0]][target[1]]"
   ]
  },
  {
   "cell_type": "code",
   "execution_count": 16,
   "id": "5b8fed75",
   "metadata": {},
   "outputs": [
    {
     "ename": "NameError",
     "evalue": "name 'table' is not defined",
     "output_type": "error",
     "traceback": [
      "\u001b[1;31m---------------------------------------------------------------------------\u001b[0m",
      "\u001b[1;31mNameError\u001b[0m                                 Traceback (most recent call last)",
      "\u001b[1;32m~\\AppData\\Local\\Temp/ipykernel_3512/3406391665.py\u001b[0m in \u001b[0;36m<module>\u001b[1;34m\u001b[0m\n\u001b[1;32m----> 1\u001b[1;33m \u001b[0mtable\u001b[0m\u001b[1;33m\u001b[0m\u001b[1;33m\u001b[0m\u001b[0m\n\u001b[0m\u001b[0;32m      2\u001b[0m \u001b[1;33m\u001b[0m\u001b[0m\n",
      "\u001b[1;31mNameError\u001b[0m: name 'table' is not defined"
     ]
    }
   ],
   "source": [
    "table"
   ]
  },
  {
   "cell_type": "code",
   "execution_count": null,
   "id": "d52f6c7f",
   "metadata": {},
   "outputs": [],
   "source": []
  },
  {
   "cell_type": "markdown",
   "id": "487b24e0",
   "metadata": {},
   "source": [
    "### 풀이 코드2)"
   ]
  },
  {
   "cell_type": "code",
   "execution_count": null,
   "id": "2d559756",
   "metadata": {},
   "outputs": [],
   "source": [
    "g_rows = None\n",
    "g_columns = None\n",
    "g_max_virus = None\n",
    "direction = [(0, 1), (0, -1), (1, 0), (-1, 0)]\n",
    "\n",
    "def breeding(r, c, answer, visited):\n",
    "    visited[r][c] = True\n",
    "\n",
    "    if answer[r][c] == g_max_virus:\n",
    "        for y, x in direction:\n",
    "            nr, nc = r + y, c + x\n",
    "            if nr < 0 or nr == g_rows:\n",
    "                continue\n",
    "            elif nc < 0 or nc == g_columns:\n",
    "                continue\n",
    "            else:\n",
    "                if not visited[nr][nc]:\n",
    "                    breeding(nr, nc, answer, visited)\n",
    "    else:\n",
    "        answer[r][c] += 1\n",
    "\n",
    "def solution(rows, columns, max_virus, queries):\n",
    "    global g_rows\n",
    "    global g_columns\n",
    "    global g_max_virus\n",
    "    \n",
    "    g_rows = rows\n",
    "    g_columns = columns\n",
    "    g_max_virus = max_virus\n",
    "\n",
    "    answer = [[0] * columns for _ in range(rows)]\n",
    "\n",
    "    for q in queries:\n",
    "        visited = [[False] * columns for _ in range(rows)]\n",
    "        breeding(q[0] - 1, q[1] - 1, answer, visited)\n",
    "\n",
    "    return answer"
   ]
  },
  {
   "cell_type": "markdown",
   "id": "b3a3c89c",
   "metadata": {},
   "source": [
    "### 풀이 코드3)"
   ]
  },
  {
   "cell_type": "code",
   "execution_count": 2,
   "id": "797ac7fa",
   "metadata": {},
   "outputs": [],
   "source": [
    "def increase_virus(grid, row, col, max_virus):\n",
    "    if 0 <= row <= len(grid) - 1 and 0 <= col <= len(grid[0]) - 1:\n",
    "        if grid[row][col] < max_virus:\n",
    "            grid[row][col] += 1\n",
    "        else:\n",
    "            grid = increase_virus(grid, row, col - 1, max_virus)\n",
    "            grid = increase_virus(grid, row, col + 1, max_virus)\n",
    "            grid = increase_virus(grid, row - 1, col, max_virus)\n",
    "            grid = increase_virus(grid, row + 1, col, max_virus)\n",
    "\n",
    "    return grid\n",
    "\n",
    "\n",
    "def solution(rows, columns, max_virus, queries):\n",
    "    grid = [[0 for _ in range(columns)] for _ in range(rows)]\n",
    "    for r, c in queries:\n",
    "        # recursion 문제\n",
    "        grid = increase_virus(grid, r-1, c-1, max_virus)\n",
    "\n",
    "    return grid\n",
    "\n"
   ]
  },
  {
   "cell_type": "code",
   "execution_count": null,
   "id": "0471162f",
   "metadata": {},
   "outputs": [],
   "source": [
    "solution(rows, columns, max_virus, queries)"
   ]
  },
  {
   "cell_type": "code",
   "execution_count": 4,
   "id": "6a6e3860",
   "metadata": {},
   "outputs": [],
   "source": [
    "def bfs(answer, query, max_virus):\n",
    "    directions = [[1, 0], [-1, 0], [0, 1], [0, -1]]\n",
    "    queue = [query]\n",
    "    visited = [[False for _ in range(len(answer[0]))] for _ in range(len(answer))]\n",
    "\n",
    "    while queue:\n",
    "        left = queue.pop(0)\n",
    "        \n",
    "        if not (0 <= left[0] - 1 < len(answer)) or not (0 <= left[1] - 1 < len(answer[0])) or visited[left[0] - 1][left[1] - 1]:\n",
    "            continue\n",
    "\n",
    "        visited[left[0] - 1][left[1] - 1] = True\n",
    "        \n",
    "        if answer[left[0] - 1][left[1] - 1] < max_virus:\n",
    "            answer[left[0] - 1][left[1] - 1] += 1\n",
    "        else:\n",
    "            for direction in directions:\n",
    "                queue.append([left[0] + direction[0], left[1] + direction[1]])\n",
    "\n",
    "def solution(rows, columns, max_virus, queries):\n",
    "    answer = [[0 for _ in range(columns)] for _ in range(rows)]\n",
    "\n",
    "    for query in queries:\n",
    "        bfs(answer, query, max_virus)\n",
    "\n",
    "    return answer"
   ]
  },
  {
   "cell_type": "code",
   "execution_count": 5,
   "id": "9aea9e3a",
   "metadata": {},
   "outputs": [
    {
     "data": {
      "text/plain": [
       "[[0, 2, 1, 1], [2, 2, 2, 1], [2, 2, 2, 1]]"
      ]
     },
     "execution_count": 5,
     "metadata": {},
     "output_type": "execute_result"
    }
   ],
   "source": [
    "solution(rows, columns, max_virus, queries)"
   ]
  },
  {
   "cell_type": "code",
   "execution_count": 7,
   "id": "c7274ee5",
   "metadata": {},
   "outputs": [],
   "source": [
    "answer = [[0 for _ in range(columns)] for _ in range(rows)]\n",
    "\n",
    "visited = [[False for _ in range(len(answer[0]))] for _ in range(len(answer))]\n"
   ]
  },
  {
   "cell_type": "code",
   "execution_count": 8,
   "id": "ff8b7a13",
   "metadata": {},
   "outputs": [
    {
     "data": {
      "text/plain": [
       "[[False, False, False, False],\n",
       " [False, False, False, False],\n",
       " [False, False, False, False]]"
      ]
     },
     "execution_count": 8,
     "metadata": {},
     "output_type": "execute_result"
    }
   ],
   "source": [
    "visited"
   ]
  },
  {
   "cell_type": "code",
   "execution_count": 9,
   "id": "26a77733",
   "metadata": {},
   "outputs": [],
   "source": [
    "query=[3,2]"
   ]
  },
  {
   "cell_type": "code",
   "execution_count": 10,
   "id": "1cee42a2",
   "metadata": {},
   "outputs": [
    {
     "data": {
      "text/plain": [
       "[[3, 2]]"
      ]
     },
     "execution_count": 10,
     "metadata": {},
     "output_type": "execute_result"
    }
   ],
   "source": [
    "queue = [query]\n",
    "queue"
   ]
  },
  {
   "cell_type": "code",
   "execution_count": 11,
   "id": "d43dc55b",
   "metadata": {},
   "outputs": [
    {
     "data": {
      "text/plain": [
       "[3, 2]"
      ]
     },
     "execution_count": 11,
     "metadata": {},
     "output_type": "execute_result"
    }
   ],
   "source": [
    "left = queue.pop(0)\n",
    "left"
   ]
  },
  {
   "cell_type": "code",
   "execution_count": 12,
   "id": "1079bf73",
   "metadata": {},
   "outputs": [
    {
     "data": {
      "text/plain": [
       "3"
      ]
     },
     "execution_count": 12,
     "metadata": {},
     "output_type": "execute_result"
    }
   ],
   "source": [
    "left[0]"
   ]
  },
  {
   "cell_type": "code",
   "execution_count": 13,
   "id": "1c27d1c6",
   "metadata": {},
   "outputs": [],
   "source": [
    "from collections import deque\n",
    "\n",
    "def solution(r, c, max_virus, queries):\n",
    "    # 2D grid\n",
    "    field = [[0]*c for _ in range(r)]\n",
    "    dr = [1,0,0,-1]\n",
    "    dc = [0,1,-1,0]\n",
    "    \n",
    "    # BFS\n",
    "    def bfs(r1, c1):\n",
    "        visited = [[False]*c for _ in range(r)]\n",
    "        visited[r1][c1] = True\n",
    "        q = deque([(r1,c1)])\n",
    "        while q:\n",
    "            a,b = q.popleft()\n",
    "            for i in range(4):\n",
    "                x,y = a+dr[i],b+dc[i]\n",
    "                if 0<=x<r and 0<=y<c and not visited[x][y]:\n",
    "                    if field[x][y] == max_virus:\n",
    "                        q.append((x,y))\n",
    "                    else:\n",
    "                        field[x][y] += 1\n",
    "                    visited[x][y] = True\n",
    "\n",
    "    # queries loop\n",
    "    for r1,c1 in queries:\n",
    "        r1 -= 1; c1 -= 1\n",
    "        if field[r1][c1] == max_virus: \n",
    "            bfs(r1, c1)\n",
    "        else:\n",
    "            field[r1][c1] += 1\n",
    "    \n",
    "    return field"
   ]
  },
  {
   "cell_type": "code",
   "execution_count": 15,
   "id": "b25d12cd",
   "metadata": {},
   "outputs": [
    {
     "data": {
      "text/plain": [
       "[[0, 2, 1, 1], [2, 2, 2, 1], [2, 2, 2, 1]]"
      ]
     },
     "execution_count": 15,
     "metadata": {},
     "output_type": "execute_result"
    }
   ],
   "source": [
    "solution(rows, columns, max_virus, queries)"
   ]
  },
  {
   "cell_type": "code",
   "execution_count": null,
   "id": "a72090ad",
   "metadata": {},
   "outputs": [],
   "source": []
  }
 ],
 "metadata": {
  "kernelspec": {
   "display_name": "Python 3 (ipykernel)",
   "language": "python",
   "name": "python3"
  },
  "language_info": {
   "codemirror_mode": {
    "name": "ipython",
    "version": 3
   },
   "file_extension": ".py",
   "mimetype": "text/x-python",
   "name": "python",
   "nbconvert_exporter": "python",
   "pygments_lexer": "ipython3",
   "version": "3.9.7"
  }
 },
 "nbformat": 4,
 "nbformat_minor": 5
}
