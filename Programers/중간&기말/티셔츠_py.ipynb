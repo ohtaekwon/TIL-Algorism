{
 "cells": [
  {
   "cell_type": "markdown",
   "id": "f45fd5e4",
   "metadata": {},
   "source": [
    "# 상담예약제\n",
    "\n",
    "<br/>\n",
    "\n",
    "## 문제\n",
    "\n",
    "최대한 많은 세미나 참가자에게 티셔츠를 나눠주려고 합니다. 티셔츠를 나눠주는 조건은 다음과 같습니다.\n",
    "- 한 사람당 티셔츠를 최대 하나씩 줍니다.\n",
    "- 모든 참가자는 자신의 상의 크기와 같거나 큰 티셔츠를 받습니다.\n",
    "\n",
    "예를 들어 크기가 [1,2,3]인 티셔츠가 있고, 각각 상의 크기가 [2,3,4]인 참가자 셋이 있습니다. 첫 번째 사람에게 두 번째 티셔츠를, 두번 째 사람에게 세 번쨰 티셔츠를 나눠줄 수 있습니다. 크기가 4인 참가자는 티셔츠를 받지 못합니다. 따라서, 최대 2명에게 티셔츠를 줄 수 있습니다.\n",
    "\n",
    "참가자별 상의 크기 `people`과 세미나 주최 측이 가진 텨스츠 크기 `tshirts`가 매개변수로 주어질 때, 최대 몇 명에게 티셔츠를 나눠 줄 수 있는지 return 하도록 solution 함수를 작성하세요\n",
    "\n",
    "\n",
    "## 제한사항\n",
    "\n",
    "- 세미나에 참가한 사람 수는 2명 이상 5,000명 이하\n",
    "- 주최 측은 티셔츠를 2벌 이상 5,00벌 이하로 준비했습니다.\n",
    "- 참가자의 상의 크기과 준비한 티셔츠 크기는 1이상 1,000이하인 정수입니다.\n",
    "\n",
    "\n",
    "## 입출력 예\n",
    "\n",
    "|peolple|tshirts|result|\n",
    "|-------|-------|------|\n",
    "|[2,3]|[1,2,3]|2|\n",
    "|[1,2,3]|[1,1]|1|\n",
    "\n",
    "\n",
    "\n",
    "## 입출력 예 설명\n",
    "\n",
    "1. 입출력 예 #1\n",
    "- 첫 번째 사람에게 두 번째 티셔츠를, 두 번째 사람에게 세 번째 티셔츠를 주면 최대 2명에게 티셔츠를 줄 수 있다.\n",
    "\n",
    "2. 입출력 예 #2\n",
    "- 첫 번째 사람에게만 티셔츠를 줄 수 있습니다. \n",
    "\n",
    "## 알고리즘 분류\n",
    "\n"
   ]
  },
  {
   "cell_type": "markdown",
   "id": "268a9d00",
   "metadata": {},
   "source": [
    "## 풀이 방법 1)\n",
    "\n",
    "- 참가자들은 자신과 같거나 큰 사이즈를 받는다.\n",
    "- 데이터가 5000개 이하\n",
    "- 티셔츠 데이터는 범위가 1000까지\n",
    "- 단순 `sort()` 정렬을 사용하기에도 무리가 없다.\n",
    "- 아무 정렬을 사용해도 시간복잡도의 영향이 없음\n",
    "- 계수정렬을 사용?\n",
    "\n",
    "### 알고리즘 설계 - 구현 \n",
    "\n",
    "- 인덱스에 해당 값을 대입하고 사이즈가 하나 추가 될때마다 인덱스 값을 +1씩 추가\n",
    "\n",
    "     \n",
    "### 알고리즘의 복잡도\n",
    "\n",
    "- 시간 복잡도는 $O$($N$log$N$)\n",
    "    \n"
   ]
  },
  {
   "cell_type": "markdown",
   "id": "fdc9670f",
   "metadata": {},
   "source": [
    "## 풀이 코드"
   ]
  },
  {
   "cell_type": "code",
   "execution_count": 1,
   "id": "ea46b9ab",
   "metadata": {},
   "outputs": [],
   "source": [
    "people = [2,3]\n",
    "tshirts = [1,2,3]"
   ]
  },
  {
   "cell_type": "code",
   "execution_count": null,
   "id": "57c1566f",
   "metadata": {},
   "outputs": [],
   "source": [
    "def solution(people, tshirts):\n",
    "    answer = 0\n",
    "    \n",
    "    # 리스트 정렬\n",
    "    people.sort()\n",
    "    tshirts.sort()\n",
    "\n",
    "    key = 0\n",
    "    \n",
    "    \n",
    "    for size in tshirts: # tshirts의 반복을 사용\n",
    "        if people[key] <= size: # 티셔츠 리스트의 요소보다 작거나 같을 경우\n",
    "            answer += 1 # 입을 수 있으므로, 추가\n",
    "            key += 1 # 다음 인덱스로 진행\n",
    "\n",
    "            if key >= len(people): # 만약 리스트가 마지막이되면\n",
    "                break # break\n",
    "\n",
    "    return answer"
   ]
  },
  {
   "cell_type": "code",
   "execution_count": 4,
   "id": "b1fd4818",
   "metadata": {},
   "outputs": [
    {
     "data": {
      "text/plain": [
       "2"
      ]
     },
     "execution_count": 4,
     "metadata": {},
     "output_type": "execute_result"
    }
   ],
   "source": [
    "solution(people, tshirts)"
   ]
  },
  {
   "cell_type": "code",
   "execution_count": null,
   "id": "c04b8054",
   "metadata": {},
   "outputs": [],
   "source": [
    "def solution(people, tshirts):\n",
    "    answer=0\n",
    "    \n",
    "    people.sort()\n",
    "    tshirts.sort()\n",
    "    \n",
    "    shirtIdx = 0\n",
    "    \n",
    "    for person in people: # 입을 수 있는 사람을 체크해야하기때무에 people에서 반복\n",
    "        while shirtIdx < len(tshirts): # 마지막항까지\n",
    "            if tshirts[shirtIdx] >= person: # person보다 크거나 같은 사이즈라면\n",
    "                answer+=1 # 명수 추가\n",
    "                shirtIdx+=1\n",
    "                break\n",
    "            shirtIdx+=1 # 크거나 같은 사이즈가 아니어도 인덱스는 다음 인덱스로\n",
    "    return answer"
   ]
  },
  {
   "cell_type": "markdown",
   "id": "acbd13a9",
   "metadata": {},
   "source": [
    "## 풀이 방법 2)\n",
    "\n",
    "- `Counter` 클래스 사용\n"
   ]
  },
  {
   "cell_type": "code",
   "execution_count": null,
   "id": "d817087a",
   "metadata": {},
   "outputs": [],
   "source": [
    "from collections import Counter\n",
    "\n",
    "def solution(people, tshirts):\n",
    "    answer=0\n",
    "    p_counter = Counter(people)\n",
    "    t_counter = Counter(tshirts)\n",
    "    \n",
    "    for p in sorted(people): #\n",
    "        for t in sorted(tshirts):\n",
    "            if p<=t:\n",
    "                thsirths.remove()\n",
    "                answer+=1\n",
    "                break\n",
    "    return answer    "
   ]
  },
  {
   "cell_type": "markdown",
   "id": "2e951b7d",
   "metadata": {},
   "source": [
    "## 풀이 방법 3)\n",
    "\n",
    "- `defaultdict` 클래스 사용\n",
    "    - `defaultdict()`는 딕셔너리를 만드는 dict클래스의 서브클래스이다.\n",
    "    - 작동하는 방식은 거의 동일한데, `defaultdict()`는 인자로 주어진 `객체(defauit-factory)`의 기본값을 딕셔너리의 초깃값으로 지정할 수 있다.\n",
    "    \n",
    "    - 숫자, 리스트, 셋 등으로 초기화 할 수 있다.\n"
   ]
  },
  {
   "cell_type": "code",
   "execution_count": null,
   "id": "6211cdc2",
   "metadata": {},
   "outputs": [],
   "source": [
    "from collections import defaultdict\n",
    "int_dict = defaultdict(int)\n",
    "int_dict # defaultdict(<class 'int'>, {}) : 디폴트값이 int인 딕셔너리"
   ]
  },
  {
   "cell_type": "code",
   "execution_count": null,
   "id": "ead79e50",
   "metadata": {},
   "outputs": [],
   "source": [
    "from collections import defaultdict\n",
    "\n",
    "def solution(people, tshirts):\n",
    "    max_t = max(tshirts) # 가장 큰 사이즈\n",
    "    d = defaultdict(int) # 디폴트 값이 int형인 딕셔너리 생성\n",
    "    # defaultdict(<class 'int'>, {}) \n",
    "    \n",
    "    for t in tshirts:\n",
    "        d[t]+=1 # key값을 t로 지정하고, 같은 키 값이 나올때 1추가\n",
    "        \n",
    "    for p in people: # people을 반복\n",
    "        for i in range(p,max_t+1):  # 사람이 입을 수 있는 최대 사이즈까지 반복\n",
    "            if d[i]>0: #\n",
    "                d[i]-=1\n",
    "                answer+=1\n",
    "                break\n",
    "    return answer"
   ]
  },
  {
   "cell_type": "markdown",
   "id": "a2563134",
   "metadata": {},
   "source": [
    "## 풀이 방법 4)\n",
    "\n",
    "- `datetime.timedelta`\n"
   ]
  },
  {
   "cell_type": "code",
   "execution_count": null,
   "id": "4c9ced61",
   "metadata": {},
   "outputs": [],
   "source": [
    "def solution(people, tshirts):\n",
    "    answer = 0\n",
    "    t_dict = {}\n",
    "    for t in tshirts:\n",
    "        if t not in t_dict:\n",
    "            t_dict[t] = 0\n",
    "        t_dict[t] += 1\n",
    "    max_num = max(list(t_dict.keys()))\n",
    "    \n",
    "    for p in people:\n",
    "        temp_p = p\n",
    "        while temp_p <= max_num:\n",
    "            if temp_p in t_dict:\n",
    "                if t_dict[temp_p] > 0:\n",
    "                    answer += 1\n",
    "                    t_dict[temp_p] -= 1\n",
    "                    break\n",
    "            temp_p += 1\n",
    "            \n",
    "        \n",
    "    return answer"
   ]
  },
  {
   "cell_type": "code",
   "execution_count": null,
   "id": "8398cd3a",
   "metadata": {},
   "outputs": [],
   "source": []
  },
  {
   "cell_type": "code",
   "execution_count": null,
   "id": "4f8c0f35",
   "metadata": {},
   "outputs": [],
   "source": [
    "import datetime\n",
    "\n",
    "def solution(booked, unbooked):\n",
    "    prev = ''\n",
    "    dateformat = \"%H:%M\"\n",
    "    answer = []\n",
    "    leftlist = []\n",
    "    while len(booked) > 0 and len(unbooked) > 0:\n",
    "        if len(answer) == 0 and booked[0][0] > unbooked[0][0] :\n",
    "            answer.append(unbooked[0][1])\n",
    "            prev = unbooked[0][0]\n",
    "            del unbooked[0]\n",
    "        elif len(answer) != 0 and booked[0][0] > unbooked[0][0] :\n",
    "            prev_time = datetime.datetime.strptime(prev,dateformat) + datetime.timedelta(minutes=10)\n",
    "            if booked[0][0] > prev_time.strftime(dateformat) :\n",
    "                answer.append(unbooked[0][1])\n",
    "                prev = unbooked[0][0]\n",
    "                del unbooked[0]\n",
    "            else :\n",
    "                answer.append(booked[0][1])\n",
    "                prev = booked[0][0]\n",
    "                del booked[0]\n",
    "        else :\n",
    "            answer.append(booked[0][1])\n",
    "            prev = booked[0][0]\n",
    "            del booked[0]\n",
    "    leftlist = booked if len(booked) > 0 else unbooked\n",
    "    for i in leftlist :\n",
    "        answer.append(i[1])\n",
    "    return answer"
   ]
  }
 ],
 "metadata": {
  "kernelspec": {
   "display_name": "Python 3 (ipykernel)",
   "language": "python",
   "name": "python3"
  },
  "language_info": {
   "codemirror_mode": {
    "name": "ipython",
    "version": 3
   },
   "file_extension": ".py",
   "mimetype": "text/x-python",
   "name": "python",
   "nbconvert_exporter": "python",
   "pygments_lexer": "ipython3",
   "version": "3.9.7"
  }
 },
 "nbformat": 4,
 "nbformat_minor": 5
}
