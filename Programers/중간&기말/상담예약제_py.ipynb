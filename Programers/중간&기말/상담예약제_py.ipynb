{
 "cells": [
  {
   "cell_type": "markdown",
   "id": "f45fd5e4",
   "metadata": {},
   "source": [
    "# 상담예약제\n",
    "\n",
    "<br/>\n",
    "\n",
    "## 문제\n",
    "\n",
    "고객 센터에서 \"상담예약제\"를 실시합니다. 상담예약제란 예약 고개그이 업무를 일반 고객의 업무보다 먼저 처리하는 방식을 말한다. 상담예약제는 다음과 같은 로직으로 동작한다.\n",
    "\n",
    "\n",
    "1. 예약 고객 중 먼저 도착한 고객의 업무를 먼저 처리\n",
    "2. 예약 고객이 없으면 먼저 도착한 일반 고객의 업무를 처리\n",
    "3. 단, 시작한 업무는 중간에 중단하지 않음\n",
    "    - 즉, 일반 고객의 업무를 처리하는 도중 예약 고객이 온 경우, 일반 고객 업무를 끝낸 후 예약 고객의 업무를 처리함\n",
    "\n",
    "창구는 하나 뿐이며 창구에서 업무를 처리하는 데에는 10분이 걸리낟. 이때 창구에서 어떤 손님의 업무를 먼저 처리헀는지 알아보려고 한다. 예를 들어 다음과 같이 손님이 들어온 경우\n",
    "\n",
    "|도착시간|손님이름|예약여부|\n",
    "|--------|--------|--------|\n",
    "|09:00|kim|예약 안 함|\n",
    "|09:05|bae|예약 안 함|\n",
    "|09:10|lee|예약함|\n",
    "\n",
    "창구는 다음과 같이 `[\"kim\", \"lee\", \"bae\"]` 순으로 업무를 처리한다.\n",
    "\n",
    "- 09:00 ~ 09:10 → kim의 업무를 처리\n",
    "- 09:10 ~ 09:20 → lee의 업무를 처리\n",
    "- 09:20 ~ 09:30 → bae의 업무를 처리\n",
    "\n",
    "예약 고객의 도착 시간과 이름을 담은 배열 `booked`, 일반 고객의 도착 시각과 이름을 담은 배열 `unbooked`가 매개변수로 주어진다. 이때 고객의 이름을 업무가 처리된 순으로 담은 배열을 return 하도록 함수를 완성해주시오.\n",
    "\n",
    "\n",
    "## 제한사항\n",
    "\n",
    "- `booked` 의 길이는 1이상 50이하\n",
    "- `unbooked` 의 길이는 1이상 50이하\n",
    "- `booked` 배열의 길이와`unbooked` 배열의 원소는 `[hh:mm 형식의 도착시각, 이름]`형식이다. \n",
    "    - `hh:mm` 은 \"00:01\" ~ \"23:50\" 범위 안에서 주어진다.\n",
    "    - `이름`은 길이가 1이상 5이하인 문자열이다.\n",
    "    - `이름`은 알파벳 소문자로만 이루어져 있다.\n",
    "- 각 배열은 도착 시각 순으로 정렬되어 있다.\n",
    "- 도착 시각이 같은 고객은 없습니다.\n",
    "- `booked`, `unbooked` 배열에는 오늘 하루 동안 온 고객의 정보만 주어진다.\n",
    "\n",
    "## 입출력 예\n",
    "\n",
    "|booked|unbooked|result|\n",
    "|:-----|:-------|:----:|\n",
    "|[\"09:55\",\"lee\"]|[[\"09:00\",\"kim\"],[\"09:05\",\"bae\"]]|[\"kim\",\"lee\",\"bae\"]|\n",
    "|[[\"09:55\",\"hae\"],[\"10:05\", \"jee\"]]|[[\"10:04\",\"hee\"],[\"14:07\",\"eom\"]]|[\"hae\",\"jee\",\"hee\",\"eom\"]|\n",
    "\n",
    "## 입출력 예 설명\n",
    "\n",
    "1. 입출력 예 #1\n",
    "- 앞서 설명한 예와 같다.\n",
    "\n",
    "2. 입출력 예 #2\n",
    "- 09:55 ~ 10:05 → hae의 업무를 처리\n",
    "- 10:05 ~ 10:15 → jee의 업무를 처리\n",
    "- 10:15 → 10:25 → hee의 업무를 처리\n",
    "- 14:07 ~ 14:17 → eom의 업무를 처리\n",
    "\n",
    "## 알고리즘 분류\n",
    "\n",
    "- 큐"
   ]
  },
  {
   "attachments": {},
   "cell_type": "markdown",
   "id": "268a9d00",
   "metadata": {},
   "source": [
    "## 풀이 방법 \n",
    "\n",
    "\n",
    "![%ED%94%84%EB%A1%9C%EA%B7%B8%EB%9E%98%EB%A8%B8%EC%8A%A4.jpg](https://github.com/ohtaekwon/TIL/blob/ohtaekwon-patch-1/img/1-1.jpg?raw=true)\n",
    "\n",
    "- 우선 은행과 같은 시스템(번호표)이라면 업무를 처리할 때 선입선출(FIFO) 자료구조를 사용한다.이럴때 파이썬에서는 `deque`클래스를 사용하면 된다.\n",
    "\n",
    "- 이 문제의 경우 선입선출의 원칙을 적용하되, \n",
    "1. 업무 하고 있는 동안 도착한 경우\n",
    "2. 업무를 하고 있지 않는 동안 도착한 경우를 나눠서 생각하면 된다.\n",
    "     \n",
    "- 또하나의 특징으로는 예약한 사람과 예약하지 않은 사람이 따로 나뉘어 있기 때문에 마치 번호표 뽑는 기계가 두개 있는 것과 같다. (즉, 큐가 2개)\n",
    "\n",
    "### deque의 의미\n",
    "\n",
    "- `큐(queue)` 선입선출(FIFO) 방식으로 작동하는 반면에 덱(deque)은 `양방향 큐`처럼 작동한다.\n",
    "- 즉, 양쪽 방향에서 원소를 추가하거나 삭제할 수 있다.\n",
    "- `deque`는 양 끝 원소의 append, pop이 압도적으로 빠르다($0$(1) 상수시간 소요)\n",
    "    - 반면, list는 양 끝 원소에 접근하여, 삽입, 삭제 하려고 하면 $O(N)$ 시간이 소요된다.\n",
    "    \n",
    "### deque는 언제 사용하는가?\n",
    "\n",
    "- 덱은 스택(stack)처럼 사용할 수도, 큐(queue)처럼 사용할수도 있다.\n",
    "- 시작점의 값을 넣고, 빼거나 끝 점의 값을 넣고 뺴는 데에 최적화된 연산 속도를 제공한다.\n",
    "- 대부분의 겨웅 덱이 리스트보다 월등한 옵션을 가지고 있다.\n",
    "- 덱은 특히 `push/pop` 연산이 빈번한 알고리즘에서 장점이 부각된다.\n",
    "\n",
    "### 알고리즘 설계 - 구현 \n",
    "\n",
    "- 시간은 어떻게 비교할 것인가?\n",
    "    - 시간을 물어보는 것은 아니기 때문에,\n",
    "    - 시간을 분단위로 고정시키고, 비교하면 된다.\n",
    "     \n",
    "### 알고리즘의 복잡도\n",
    "\n",
    "\n",
    "    \n",
    "### 탐욕법(Greedy Approach)\n",
    "\n",
    "- 앞 단계에서의 선택(앞 자리에 큰 수)이 이후 단계에서의 동작에 의한 해(solution)의 최적성(optimality)에 영향을 주지 않음.\n",
    "- **즉, 앞자리에서 결정하고 뒷자리의 결정에 영향을 주지 않음**\n",
    "- 먼저 나오는 작은 것들 부터 k개를 빼서 채워나감.\n"
   ]
  },
  {
   "cell_type": "markdown",
   "id": "fdc9670f",
   "metadata": {},
   "source": [
    "## 풀이 코드"
   ]
  },
  {
   "cell_type": "code",
   "execution_count": 94,
   "id": "57c1566f",
   "metadata": {},
   "outputs": [],
   "source": [
    "from collections import deque\n",
    "\n",
    "# 시간을 구분하기 위해서 함수를 만든다.\n",
    "# 시간을 구분만 하면 되기 때문에, 분단위로 설정하고 비교한다.\n",
    "def to_minutes(raw):\n",
    "    hour, minutes = map(int, raw.split(':'))\n",
    "    return hour * 60 + minutes\n",
    "\n",
    "def solution(booked, unbooked):\n",
    "    answer = []\n",
    "    now = None\n",
    "\n",
    "    booked = deque([(to_minutes(x[0]), x[1]) for x in booked])\n",
    "    unbooked = deque([(to_minutes(x[0]), x[1]) for x in unbooked])\n",
    "\n",
    "    # 처음에는 더 빨리 도착하는 손님을 받음\n",
    "    if booked[0][0] <= unbooked[0][0]: # 예약손님이 더 빨리 오면\n",
    "        now = booked.popleft() # 예약손님 첫번째를 제거\n",
    "    else:\n",
    "        now = unbooked.popleft() # 그렇지 않으면, 비예약손님 첫번째 제거\n",
    "    \n",
    "    now = (now[0] + 10, now[1]) # now <- (종료 시간, 이름)\n",
    "    answer.append(now[1])\n",
    "\n",
    "    while booked or unbooked:\n",
    "        # 예약되어 있는 사람만 남음\n",
    "        if booked and not unbooked:\n",
    "            while booked:\n",
    "                answer.append(booked.popleft()[1])\n",
    "        # 예약되지 않은 사람만 남음\n",
    "        elif not booked and unbooked:\n",
    "            while unbooked:\n",
    "                answer.append(unbooked.popleft()[1])\n",
    "        # 둘이 섞여 있을 때\n",
    "        else:\n",
    "            t = now[0]\n",
    "            \n",
    "            # 예약한 사람이 도착해 있음\n",
    "            if booked[0][0] <= t:\n",
    "                now = booked.popleft()\n",
    "                now = (t + 10, now[1])\n",
    "                answer.append(now[1])\n",
    "            # 예약 안한 사람이 도착해 있음\n",
    "            elif unbooked[0][0] <= t:\n",
    "                now = unbooked.popleft()\n",
    "                now = (t + 10, now[1])\n",
    "                answer.append(now[1])\n",
    "            # 둘다 양수면 먼저 도착한 사람을 처리함 (시작시간 유의)\n",
    "            elif booked[0][0] <= unbooked[0][0]:\n",
    "                now = booked.popleft()\n",
    "                now = (now[0] + 10, now[1])\n",
    "                answer.append(now[1])\n",
    "            else:\n",
    "                now = unbooked.popleft()\n",
    "                now = (now[0] + 10, now[1])\n",
    "                answer.append(now[1])\n",
    "\n",
    "    return booked,unbooked,now,answer\n",
    "    "
   ]
  },
  {
   "cell_type": "code",
   "execution_count": 95,
   "id": "96a4ee97",
   "metadata": {},
   "outputs": [
    {
     "data": {
      "text/plain": [
       "(deque([]), deque([]), (615, 'jee'), ['hae', 'jee', 'hee', 'eom'])"
      ]
     },
     "execution_count": 95,
     "metadata": {},
     "output_type": "execute_result"
    }
   ],
   "source": [
    "solution(booked, unbooked)"
   ]
  },
  {
   "cell_type": "code",
   "execution_count": 92,
   "id": "ff1eeed6",
   "metadata": {},
   "outputs": [],
   "source": [
    "booked=[[\"09:55\",\"hae\"],[\"10:05\", \"jee\"]]\n",
    "unbooked=[[\"10:04\",\"hee\"],[\"14:07\",\"eom\"]]"
   ]
  },
  {
   "cell_type": "code",
   "execution_count": 90,
   "id": "ed9d368f",
   "metadata": {},
   "outputs": [],
   "source": [
    "from collections import deque\n",
    "\n",
    "def time(raw):\n",
    "    h,m = map(int,raw.split(':'))\n",
    "    return h * 60 + m\n",
    "\n",
    "def solution(booked, unbooked):\n",
    "    answer=[]\n",
    "    now=None\n",
    "    \n",
    "    # deque로 변환\n",
    "    \n",
    "    booked=deque([(time(x[0]),x[1]) for x in booked])\n",
    "    unbooked=deque([(time(x[0]),x[1]) for x in unbooked]) \n",
    "    \n",
    "    # 기준 시간을 정하자\n",
    "    if booked[0][0]<=unbooked[0][0]:\n",
    "        now=booked.popleft()\n",
    "    else:\n",
    "        now=unbooked.popleft()\n",
    "        \n",
    "    now=(now[0]+10, now[1])\n",
    "    answer.append(now[1])\n",
    "    \n",
    "    # 기준 시간 이후의 방문자\n",
    "    \n",
    "    while booked or unbooked:\n",
    "        \n",
    "        # 예약자만 남을 경우\n",
    "        if booked and not unbooked:\n",
    "            while booked:\n",
    "                answer.append(booked.popleft()[1])\n",
    "        # 비예약자만 남을 경우\n",
    "        elif not booked and unbooked:\n",
    "            while unbooked:\n",
    "                answer.append(unbooked.popleft()[1])\n",
    "        # 둘 다 남았을 경우\n",
    "        else:\n",
    "            t=now[0]\n",
    "            \n",
    "            # 예약자 먼저 도착\n",
    "            if booked[0][0] <= t:\n",
    "                now=booked.popleft()\n",
    "                now=(now[0]+1, now[1])\n",
    "                answer.append(now[1])\n",
    "            # 비예약자가 먼저 도착\n",
    "            elif unbooked[0][0]<=t:\n",
    "                now=unbooked.popleft()\n",
    "                now=(now[0]+10, now[1])\n",
    "                answer.append(now[1])\n",
    "            elif booked[0][0]<=unbooked[0][0]:\n",
    "                now=booked.popleft()\n",
    "                now=(now[0]+10, now[1])\n",
    "                answer.append(now[1])\n",
    "            else:\n",
    "                now=unbooked.popleft()\n",
    "                now=(now[0]+10, now[1])\n",
    "                answer.append(now[1])\n",
    "    return booked, unbooked, now, answer"
   ]
  },
  {
   "cell_type": "code",
   "execution_count": 91,
   "id": "5d005e32",
   "metadata": {},
   "outputs": [
    {
     "data": {
      "text/plain": [
       "(deque([]), deque([]), (606, 'jee'), ['hae', 'jee', 'hee', 'eom'])"
      ]
     },
     "execution_count": 91,
     "metadata": {},
     "output_type": "execute_result"
    }
   ],
   "source": [
    "solution(booked, unbooked)"
   ]
  },
  {
   "cell_type": "markdown",
   "id": "cccb64d3",
   "metadata": {},
   "source": [
    "### collections.deque - 데크\n",
    "\n",
    "[더 알아보기](https://wikidocs.net/104977)\n",
    "\n",
    "- `deque`는 앞과 뒤에서 데이터를 처리할 수 있는 양방향 자료형이다. 양방향이기 때문에 스택(Stack)처럼 써도 되고 큐(Queue)처럼 써도 된다.\n",
    "\n",
    "- `collections.deque` 모듈은 deque 자료형을 생성하는 모듈이다.\n",
    "\n",
    "#### 문제\n",
    "\n",
    "- 아래의 리스트에서 2만큼 회전한 리스트를 만들려면?"
   ]
  },
  {
   "cell_type": "code",
   "execution_count": 48,
   "id": "2c56159a",
   "metadata": {},
   "outputs": [
    {
     "data": {
      "text/plain": [
       "deque([9, 8, 7, 6, 5, 4, 3, 2])"
      ]
     },
     "execution_count": 48,
     "metadata": {},
     "output_type": "execute_result"
    }
   ],
   "source": [
    "a = [9,8,7,6,5,4,3,2]\n",
    "q=deque(a)\n",
    "q"
   ]
  },
  {
   "cell_type": "code",
   "execution_count": null,
   "id": "680ead56",
   "metadata": {},
   "outputs": [],
   "source": [
    "from collections import deque\n",
    "a=[1,2,3,4,5]\n",
    "q=deque(a)\n",
    "q.rotate(2)\n",
    "result=list(q)\n",
    "result # [4, 5, 1, 2, 3]"
   ]
  },
  {
   "cell_type": "markdown",
   "id": "6b7e2083",
   "metadata": {},
   "source": [
    "`deque(a)` 로 deque객체를 만든 후 rotate함수를 사용하여 2만큼 우측으로 회전하였다. (만약 좌측으로 2만큼 회전한다면 2대신 -2를 입력하면 된다.)"
   ]
  },
  {
   "cell_type": "markdown",
   "id": "7b7834b2",
   "metadata": {},
   "source": [
    "### deque 의 사용법\n",
    "\n",
    "- deque는 list와 비슷하다.\n",
    "- deque는 list와 거의 흡사하다. 스택과 큐로 사용할 수 있는 메써드들도 대부분 일치한다. 다만 deque에는 다음과 같은 메써드들이 추가로 존재한다.\n",
    "\n",
    "    - appendleft\n",
    "    - popleft\n",
    "- 예를 들어 리스트의 경우 첫번째 요소를 삭제할 경우 `pop(0)` 를 사용하지만 deque는 `popleft`를 사용한다. \n",
    "- 리스트를 사용하면 deque를 쓰는 것과 동일한 효과를 낼 수 있지만 deque를 사용하면 스택, 큐 작업시 다음과 같은 장점들이 있으니 참고하자.   \n",
    "- deque는 list보다 속도가 빠르다. pop(0)와 같은 메서드를 수행할 때 리스트의 경우 O(N)연산을 수행하지만 deque는 O(1) 연산을 수행하기 때문이다.\n",
    "- 쓰레드 환경에서 안전하다.\n",
    "\n",
    "### 빅오 표기법\n",
    "\n",
    "- $O(1)$ - 입력의 크기와 상관 없이 항상 같은 시간이 걸리는 알고리즘이다. 리스트나 딕셔너리의 데이터에 접근할 때 O(1)의 시간 복잡도를 갖는다.\n",
    "- $O(logN)$ - 문제를 해결하는데 필요한 단계들이 연산마다 줄어드는 알고리즘이다. 이진탐색, 힙 삽입/삭제 등이 O(logN)의 시간 복잡도를 갖는다.\n",
    "- $O(N)$ - 한번의 반복을 수행하고 완료되는 선형 탐사가 O(N)의 시간 복잡도를 갖는다.\n",
    "- $O$($N^2$) - 2중 반복을 돌게되는 알고리즘은 $O$($N^2$)의 시간 복잡도를 갖는다."
   ]
  }
 ],
 "metadata": {
  "kernelspec": {
   "display_name": "Python 3 (ipykernel)",
   "language": "python",
   "name": "python3"
  },
  "language_info": {
   "codemirror_mode": {
    "name": "ipython",
    "version": 3
   },
   "file_extension": ".py",
   "mimetype": "text/x-python",
   "name": "python",
   "nbconvert_exporter": "python",
   "pygments_lexer": "ipython3",
   "version": "3.9.7"
  }
 },
 "nbformat": 4,
 "nbformat_minor": 5
}
