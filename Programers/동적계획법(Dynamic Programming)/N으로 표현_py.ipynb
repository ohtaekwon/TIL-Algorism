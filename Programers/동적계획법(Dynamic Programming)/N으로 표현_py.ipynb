{
 "cells": [
  {
   "cell_type": "markdown",
   "id": "f45fd5e4",
   "metadata": {},
   "source": [
    "# [N으로 표현](https://programmers.co.kr/learn/courses/30/lessons/42895)\n",
    "\n",
    "<br/>\n",
    "\n",
    "## 문제\n",
    "아래와 같이 5와 사칙연산만으로 12를 표현할 수 있습니다.\n",
    "\n",
    "12 = 5 + 5 + (5 / 5) + (5 / 5)\n",
    "12 = 55 / 5 + 5 / 5\n",
    "12 = (55 + 5) / 5\n",
    "\n",
    "5를 사용한 횟수는 각각 6,5,4 입니다. 그리고 이중 가장 작은 경우는 4입니다.\n",
    "이처럼 숫자 N과 number가 주어질 때, N과 사칙연산만 사용해서 표현 할 수 있는 방법 중 N 사용횟수의 최솟값을 return 하도록 solution 함수를 작성하세요.\n",
    "\n",
    "\n",
    "## 제한사항\n",
    "\n",
    "- N은 1 이상 9 이하입니다.\n",
    "- number는 1 이상 32,000 이하입니다.\n",
    "- 수식에는 괄호와 사칙연산만 가능하며 나누기 연산에서 나머지는 무시합니다.\n",
    "- 최솟값이 8보다 크면 -1을 return 합니다.\n",
    "\n",
    "## 입출력 예\n",
    "\n",
    "|N|number|return|\n",
    "|:--|:--|:--:|\n",
    "|5|12|4|\n",
    "|2|11|3|\n",
    "\n",
    "## 입출력 예 설명\n",
    "\n",
    "1. 예제 #1\n",
    "문제에 나온 예와 같습니다.\n",
    "\n",
    "2. 예제 #2\n",
    "`11 = 22 / 2`와 같이 2를 3번만 사용하여 표현할 수 있습니다.\n",
    "\n",
    "\n"
   ]
  },
  {
   "cell_type": "markdown",
   "id": "ea8b4d14",
   "metadata": {},
   "source": [
    "### 알고리즘 분류\n",
    "\n",
    "- 동적 계획법"
   ]
  },
  {
   "cell_type": "markdown",
   "id": "fdc9670f",
   "metadata": {},
   "source": [
    "## 풀이 코드"
   ]
  },
  {
   "cell_type": "markdown",
   "id": "40aa192d",
   "metadata": {},
   "source": [
    "## 동적계획법(Dynamic Programming)\n",
    "\n",
    "- 주어진 최적화 문제를\n",
    "    - 재귀적인 방식으로 보다 작은 부분 문제로 나누어\n",
    "    - 부분 문제를 풀어, 이 해를 조합하여\n",
    "    - 전체 문제의 해답에 이르는 방식\n",
    "- 알고리즘의 진행에 따라 **탐색해야 할 범위를 동적으로 결정**함으로써\n",
    "    - 탐색 범위를 한정할 수 있음\n",
    "\n",
    "### 동적계획법의 적용 예\n",
    "- 피보나치 수열 → 재귀함수로 구현한다면?\n",
    "    - f(4) = f(3)    + f(2)\n",
    "    - f(4) = f(2) + f(1)    + f(1) + f(0)\n",
    "    - f(4) = f(1) + f(0) +  f(1)  + f(1) + f(0)\n",
    "    - 복잡도 : 지수함수형태\n",
    "- 피보나치 수열 → 동적계획법을 적용한다면?\n",
    "    - 부분 문제의 문제를 구하고 그것을 이용해서 더 큰 문제를 풀어 문제에 이르는 방식\n",
    "    - f(0) = 0, f(1) = 1\n",
    "    - f(2) = f(1) + f(0) = 1\n",
    "    - f(3) = f(2) + f(1) = 2\n",
    "    - f(4) = f(3) + f(2) = 3\n",
    "    - 복잡도 : 선형함수의 형태 (주어진 수에 비례)\n",
    "- Knapsack Problem\n",
    "    - 가장 높은 값을 가지도록 물건들을 골라 배낭에 담으시오"
   ]
  },
  {
   "cell_type": "markdown",
   "id": "9c6b9b2d",
   "metadata": {},
   "source": [
    "### 처음 풀이 \n",
    "\n",
    "- DP, 즉 다이나믹 프로그래밍(또는 동적 계획법)은 기본적인 아이디어로 하나의 큰 문제를 여러 개의 작은 문제로 나누어서 그 결과를 저장하여 다시 큰 문제를 해결할 때 사용하는 것으로 특정한 알고리즘이 아닌 하나의 문제해결 패러다임으로 볼 수 있다.\n",
    "\n",
    "- 즉, 하나의 큰문제를 여러개의 작은 문제로 나누어서 생각하니, 동적계획법으로 푼다."
   ]
  },
  {
   "cell_type": "markdown",
   "id": "05d85236",
   "metadata": {},
   "source": [
    "### 풀이 방법)\n",
    "\n",
    "### 문제의 해결 - 동적계획법으로 설계\n",
    "\n",
    "- N을 `한 번` 사용해서 만들 수 있는 수(들) → `1`\n",
    "- N을 `두 번` 사용해서 만들 수 있는 수(들) → `2`\n",
    "- N을 `세 번` 사용해서 만들 수 있는 수(들) → `3`\n",
    "\n",
    "### 문제의 해결 - 예제\n",
    "\n",
    "- N=5인 경우\n",
    "- `한 번` 사용해서 만들 수 있는 수 = 5 = 1가지\n",
    "- `두 번` 사용해서 만들 수 있는 수 = 55, \n",
    "    - `한 번 사용` `(+-X/)` `한 번 사용`\n",
    "    - 한 번 사용해서 만든 수를 사칙연산(`+-*/`)를 사용해서 담을 수 있다.\n",
    "```\n",
    "            55, 10 0, 25, 1 = 5가지\n",
    "```\n",
    "- `세 번` 사용해서 만들 수 있는 수 = 555, \n",
    "    - `한 번 사용` `(+-X/)` `두 번 사용`, \n",
    "    - `두 번 사용` `(+-X/)` `한 번 사용` \n",
    "\n",
    "```\n",
    "            555 60 15 5 30 6 -50\n",
    "            -5 -20 4 275 50 0\n",
    "            125 11 2 20 -4 555 = 19가지\n",
    "```\n",
    "- `네 번` 사용해서 만들 수 있는 수 = 5555,\n",
    "    - `한 번 사용` `(+-X/)` `세 번 사용`\n",
    "    - `두 번 사용` `(+-X/)` `두 번 사용`\n",
    "    - `세 번 사용` `(+-X/)` `한 번 사용`\n",
    "- `다섯 번` 사용해서 만들 수 있는 수 = 55555\n",
    "    - `한 번 사용` `(+-X/)` `네 번 사용`\n",
    "    - `두 번 사용` `(+-X/)` `세 번 사용`\n",
    "    - `세 번 사용` `(+-X/)` `두 번 사용`\n",
    "    - `네 번 사용` `(+-X/)` `한 번 사용`\n",
    "    \n",
    "    \n",
    "### 문제의 해결 - 일반화\n",
    "\n",
    "- N=x\n",
    "- `n`은 \"x\" * n \n",
    "    - `1` `(+-X/)` `n-1`\n",
    "    - `2` `(+-X/)` `n-2`\n",
    "    - ` .....`\n",
    "    - `n-1` `(+-X/)` `1`\n",
    "    \n",
    "    \n",
    "### 문제의 복잡도\n",
    "\n",
    "- (발생할 수 없는) 최악의 경우\n",
    "\n",
    "|숫자의 사용 회수|만들어지는 결과의 수효|\n",
    "|:--:|:--:|\n",
    "|1|1|\n",
    "|2|5|\n",
    "|3|41|\n",
    "|4|429|\n",
    "|5|5,073|\n",
    "|6|64,469|\n",
    "|7|859,385|\n",
    "|8|11,853,949|\n",
    "\n",
    "\n",
    "### 요약\n",
    "\n",
    "- 문제의 성질에 따라,\n",
    "    - 동적계획법으로 풀어냄으로써\n",
    "    - 탐색해야 하는 범위를 효과적으로 줄일 수 있음"
   ]
  },
  {
   "cell_type": "markdown",
   "id": "d91c8a31",
   "metadata": {},
   "source": [
    "### 정답 풀이"
   ]
  },
  {
   "cell_type": "code",
   "execution_count": 32,
   "id": "2cce08c3",
   "metadata": {},
   "outputs": [],
   "source": [
    "N=5\n",
    "number=12"
   ]
  },
  {
   "cell_type": "code",
   "execution_count": 52,
   "id": "3f0f5192",
   "metadata": {},
   "outputs": [],
   "source": [
    "def solution(N, number):\n",
    "    # 몇 번의 사용할 수 있는 수를 담기 위해서 리스트를 생성\n",
    "    # 리스트안의 수는 중복을 허용하지 않고 수를 모음 = set을 사용\n",
    "    # 1,2,3,4 ~ 8번 사용해서 만들 수 있는 집합까지 집합이 8개 담긴다.\n",
    "    s=[set() for x in range(8)] # 집합이 8개 들어있게 된다.\n",
    "    \n",
    "    # s에 들어있는 원소들을 x에 담는다.\n",
    "    # i는 1부터 시작\n",
    "    for i, x in enumerate(s,start=1):\n",
    "        # 각각의 set에다가 5, 55, 555 와 같은 i번 반복한 수를 먼저 깔아둔다.\n",
    "        x.add(int(str(N)*i))\n",
    "        \n",
    "    \"\"\"\n",
    "    1. s에는 집합이 8개 들어있게 된다.\n",
    "    2. ex) N=5라고 하면, 5, 55, 555, 5555, 55555 수 들을 일단 담게 된다.\n",
    "    \"\"\"\n",
    "     \n",
    "    # i는 1부터 시작해서 s의 길이 전까지 \n",
    "    for i in range(1,len(s)):\n",
    "        \"\"\"\n",
    "        i=1 이면, j= 0 (0부터 0까지)\n",
    "        i=2 이면, j= 0, 1 (0부터 1까지)\n",
    "        i=3 이면, j= 0, 1, 2 (0부터 2까지)\n",
    "        \"\"\"\n",
    "        print(s[i],\"s[i]\")\n",
    "        for j in range(i):\n",
    "            \n",
    "            # 연산자의 앞의 수\n",
    "            for op1 in s[j]:\n",
    "                print(op1,\"op1\")\n",
    "                \n",
    "                # 연산자의 뒤의 수\n",
    "                # j가 0,1,2,~ 햇을때, i-j-1는 2, 1, 0 과 같이 변한다. \n",
    "                for op2 in s[i-j-1]:\n",
    "                    print(op2,\"op2\")\n",
    "                    s[i].add(op1+op2)\n",
    "                    s[i].add(op1-op2)\n",
    "                    s[i].add(op1*op2)\n",
    "                    if op2 !=0:\n",
    "                        s[i].add(op1//op2)\n",
    "        \n",
    "        # s[i]안에 numbrer가 있을때,\n",
    "        if number in s[i]: \n",
    "            # i + 1 = \n",
    "            answer = i+1\n",
    "            break\n",
    "    else:\n",
    "        answer=-1\n",
    "    return answer, op1, op2"
   ]
  },
  {
   "cell_type": "code",
   "execution_count": 53,
   "id": "4055fe0f",
   "metadata": {},
   "outputs": [
    {
     "name": "stdout",
     "output_type": "stream",
     "text": [
      "{55} s[i]\n",
      "5 op1\n",
      "5 op2\n",
      "{555} s[i]\n",
      "5 op1\n",
      "0 op2\n",
      "1 op2\n",
      "10 op2\n",
      "55 op2\n",
      "25 op2\n",
      "0 op1\n",
      "5 op2\n",
      "1 op1\n",
      "5 op2\n",
      "10 op1\n",
      "5 op2\n",
      "55 op1\n",
      "5 op2\n",
      "25 op1\n",
      "5 op2\n",
      "{5555} s[i]\n",
      "5 op1\n",
      "0 op2\n",
      "2 op2\n",
      "4 op2\n",
      "5 op2\n",
      "6 op2\n",
      "555 op2\n",
      "-20 op2\n",
      "-4 op2\n",
      "-50 op2\n",
      "15 op2\n",
      "11 op2\n",
      "50 op2\n",
      "275 op2\n",
      "20 op2\n",
      "-5 op2\n",
      "60 op2\n",
      "125 op2\n",
      "30 op2\n",
      "0 op1\n",
      "0 op2\n",
      "1 op2\n",
      "10 op2\n",
      "55 op2\n",
      "25 op2\n",
      "1 op1\n",
      "0 op2\n",
      "1 op2\n",
      "10 op2\n",
      "55 op2\n",
      "25 op2\n",
      "10 op1\n",
      "0 op2\n",
      "1 op2\n",
      "10 op2\n",
      "55 op2\n",
      "25 op2\n",
      "55 op1\n",
      "0 op2\n",
      "1 op2\n",
      "10 op2\n",
      "55 op2\n",
      "25 op2\n",
      "25 op1\n",
      "0 op2\n",
      "1 op2\n",
      "10 op2\n",
      "55 op2\n",
      "25 op2\n",
      "0 op1\n",
      "5 op2\n",
      "2 op1\n",
      "5 op2\n",
      "4 op1\n",
      "5 op2\n",
      "5 op1\n",
      "5 op2\n",
      "6 op1\n",
      "5 op2\n",
      "555 op1\n",
      "5 op2\n",
      "-20 op1\n",
      "5 op2\n",
      "-4 op1\n",
      "5 op2\n",
      "-50 op1\n",
      "5 op2\n",
      "15 op1\n",
      "5 op2\n",
      "11 op1\n",
      "5 op2\n",
      "50 op1\n",
      "5 op2\n",
      "275 op1\n",
      "5 op2\n",
      "20 op1\n",
      "5 op2\n",
      "-5 op1\n",
      "5 op2\n",
      "60 op1\n",
      "5 op2\n",
      "125 op1\n",
      "5 op2\n",
      "30 op1\n",
      "5 op2\n"
     ]
    },
    {
     "data": {
      "text/plain": [
       "(4, 30, 5)"
      ]
     },
     "execution_count": 53,
     "metadata": {},
     "output_type": "execute_result"
    }
   ],
   "source": [
    "solution(N, number)"
   ]
  },
  {
   "cell_type": "code",
   "execution_count": 41,
   "id": "3ee920ac",
   "metadata": {},
   "outputs": [
    {
     "data": {
      "text/plain": [
       "[{5}, {55}, {555}, {5555}, {55555}, {555555}, {5555555}, {55555555}]"
      ]
     },
     "execution_count": 41,
     "metadata": {},
     "output_type": "execute_result"
    }
   ],
   "source": [
    "s"
   ]
  },
  {
   "cell_type": "code",
   "execution_count": 42,
   "id": "b7082359",
   "metadata": {},
   "outputs": [
    {
     "data": {
      "text/plain": [
       "{55555555}"
      ]
     },
     "execution_count": 42,
     "metadata": {},
     "output_type": "execute_result"
    }
   ],
   "source": [
    "x"
   ]
  },
  {
   "cell_type": "code",
   "execution_count": 28,
   "id": "b94d3ddf",
   "metadata": {},
   "outputs": [],
   "source": [
    "N=5\n",
    "s = [set() for x in range(8)]\n",
    "for i, x in enumerate(s,start=1):\n",
    "    x.add(int(str(N)*i))\n",
    "    \n",
    "for i in range(1,len(s)):\n",
    "    "
   ]
  },
  {
   "cell_type": "code",
   "execution_count": 30,
   "id": "c1e66a32",
   "metadata": {},
   "outputs": [
    {
     "data": {
      "text/plain": [
       "{55555555}"
      ]
     },
     "execution_count": 30,
     "metadata": {},
     "output_type": "execute_result"
    }
   ],
   "source": [
    "x"
   ]
  },
  {
   "cell_type": "code",
   "execution_count": null,
   "id": "2d2caadf",
   "metadata": {},
   "outputs": [],
   "source": []
  }
 ],
 "metadata": {
  "kernelspec": {
   "display_name": "Python 3 (ipykernel)",
   "language": "python",
   "name": "python3"
  },
  "language_info": {
   "codemirror_mode": {
    "name": "ipython",
    "version": 3
   },
   "file_extension": ".py",
   "mimetype": "text/x-python",
   "name": "python",
   "nbconvert_exporter": "python",
   "pygments_lexer": "ipython3",
   "version": "3.9.7"
  }
 },
 "nbformat": 4,
 "nbformat_minor": 5
}
