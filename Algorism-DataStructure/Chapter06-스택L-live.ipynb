{
 "cells": [
  {
   "cell_type": "markdown",
   "metadata": {},
   "source": [
    "## 꼭 알아둬야 할 자료 구조 : 스택(Stack)\n",
    "- 데이터를 제한적으로 접근할 수 있는 구조\n",
    "    - 한 쪽 끝에서만 자료를 넣거나 뺼 수 있는 구조\n",
    "    \n",
    "    \n",
    "- 가장 나중에 쌓은 데이터를 가장 먼저 빼낼 수 있는 데이터 구조\n",
    "    - 큐 : FIFO 정책\n",
    "    - 스택 : LIFO 정책"
   ]
  },
  {
   "cell_type": "markdown",
   "metadata": {},
   "source": [
    "# 스택(Stack)\n",
    "---\n",
    "\n",
    "## 1. 스택(Stack) 구조\n",
    "\n",
    "- 스택은 `LIFO(Last In, First Out)` 또는 `FILO(First In, Last Out)` 데이터 관리 방식을 따른다.\n",
    "    - LIFO : 마지막에 넣은 데이터를 가장 먼저 추출하는 데이터 관리 정책\n",
    "    - FILO : 처음에 넣은 데이터를 가장 마지막에 추출하는 데이터 관리 정책\n",
    "    \n",
    "\n",
    "- 대표적인 스택의 활용\n",
    "    - 컴퓨터 내부의 프로세스 구조의 함수 동작 방식\n",
    "\n",
    "\n",
    "- 주요기능\n",
    "    - `push()` : 데이터를 스택에 넣기\n",
    "    - `pop()` : 데이터를 스택에서 꺼내기\n",
    "\n",
    "\n",
    "- <font color='#BF360C'>Visualgo 사이트에서 시연해보며 이해하기 (enqueue/dequeue 만 클릭해보며): https://visualgo.net/en/list\n",
    "\n"
   ]
  },
  {
   "cell_type": "markdown",
   "metadata": {},
   "source": [
    "## 2. 스택 구조와 프로세스 스택\n",
    "\n",
    "- 스택 구조는 프로세스 실행 구조의 가장 기본\n",
    "    - 함수 호출시 프로세스 실행 구조를 스택과 비교해서 이해가 필요하다.\n",
    "    "
   ]
  },
  {
   "cell_type": "code",
   "execution_count": 2,
   "metadata": {},
   "outputs": [],
   "source": [
    "# 재귀함수\n",
    "def recursive(data):\n",
    "    if data<0:\n",
    "        print(\"ended\")\n",
    "    else:\n",
    "        print(data)\n",
    "        recursive(data-1)\n",
    "        print(\"returned\", data)"
   ]
  },
  {
   "cell_type": "code",
   "execution_count": 3,
   "metadata": {},
   "outputs": [
    {
     "name": "stdout",
     "output_type": "stream",
     "text": [
      "4\n",
      "3\n",
      "2\n",
      "1\n",
      "0\n",
      "ended\n",
      "returned 0\n",
      "returned 1\n",
      "returned 2\n",
      "returned 3\n",
      "returned 4\n"
     ]
    }
   ],
   "source": [
    "recursive(4)"
   ]
  },
  {
   "cell_type": "markdown",
   "metadata": {},
   "source": [
    "## 3. 자료 구조 스택의 장단점\n",
    "\n",
    "- 장점\n",
    "    - 구조가 간순해서, 구현이 쉽다.\n",
    "    - 데이터 저장/읽기 속도가 빠르다.\n",
    "\n",
    "\n",
    "- 단점(일반적인 스택 구현시)\n",
    "    - 데이터 최대 갯수를 미리 정해야 한다.\n",
    "        - 파이썬의 경우 재귀함수는 1000번까지만 호출이 가능하다. \n",
    "        \n",
    "    - 저장 공간의 낭비가 발생할 수 있다.\n",
    "        - 미리 최대 갯수만큼 저장 공간을 확보해야 한다.\n",
    "    \n",
    "> 스택은 미리 단순하고 빠른 성능을 위해 사용되므로, 보통 **배열 구조** 를 활용해서 구현하는 것이 일반적이다. 이 경우, 위에서 열거한 단점이 있을 수 있다."
   ]
  },
  {
   "cell_type": "markdown",
   "metadata": {},
   "source": [
    "## 4. 파이썬 리스트 기능에서 제공하는 메서드로 스택 사용해보기\n",
    "\n",
    "- `append(push)`, `pop` 메서드 제공."
   ]
  },
  {
   "cell_type": "code",
   "execution_count": 4,
   "metadata": {},
   "outputs": [],
   "source": [
    "# apppend 와 pop 메서드 사용\n",
    "\n",
    "data_stack = list()\n",
    "\n",
    "data_stack.append(1)\n",
    "data_stack.append(2)"
   ]
  },
  {
   "cell_type": "code",
   "execution_count": 5,
   "metadata": {},
   "outputs": [
    {
     "data": {
      "text/plain": [
       "[1, 2]"
      ]
     },
     "execution_count": 5,
     "metadata": {},
     "output_type": "execute_result"
    }
   ],
   "source": [
    "data_stack"
   ]
  },
  {
   "cell_type": "code",
   "execution_count": 6,
   "metadata": {},
   "outputs": [
    {
     "data": {
      "text/plain": [
       "2"
      ]
     },
     "execution_count": 6,
     "metadata": {},
     "output_type": "execute_result"
    }
   ],
   "source": [
    "data_stack.pop()"
   ]
  },
  {
   "cell_type": "code",
   "execution_count": 7,
   "metadata": {},
   "outputs": [
    {
     "data": {
      "text/plain": [
       "[1]"
      ]
     },
     "execution_count": 7,
     "metadata": {},
     "output_type": "execute_result"
    }
   ],
   "source": [
    "data_stack"
   ]
  },
  {
   "cell_type": "markdown",
   "metadata": {},
   "source": [
    "## 5. 프로그래밍 연습"
   ]
  },
  {
   "cell_type": "markdown",
   "metadata": {},
   "source": [
    "### 5.1. 리스트 변수로 스택을 다루는 pop, push 기능 구현해보기(pop, push 함수 사용하지 않고 직접 구혆해보기)"
   ]
  },
  {
   "cell_type": "code",
   "execution_count": 8,
   "metadata": {},
   "outputs": [],
   "source": [
    "stack_list = list()\n",
    "\n",
    "def push(data):\n",
    "    stack_list.append(data)\n",
    "    \n",
    "def pop():\n",
    "    data = stack_list[-1]   # 맨 끝의 인덱스 번호는 -1\n",
    "    del stack_list[-1]\n",
    "    return data"
   ]
  },
  {
   "cell_type": "code",
   "execution_count": null,
   "metadata": {},
   "outputs": [],
   "source": [
    "for index in range(10):\n",
    "    push(index)"
   ]
  },
  {
   "cell_type": "code",
   "execution_count": null,
   "metadata": {},
   "outputs": [],
   "source": []
  },
  {
   "cell_type": "code",
   "execution_count": null,
   "metadata": {},
   "outputs": [],
   "source": []
  },
  {
   "cell_type": "code",
   "execution_count": 11,
   "metadata": {},
   "outputs": [],
   "source": [
    "# queue 라이브러리는 함수명 put / get을 사용한다.\n",
    "# put은 데이터를 삽입\n",
    "data_queue.put(\"funcoding\")\n",
    "data_queue.put(1)"
   ]
  },
  {
   "cell_type": "code",
   "execution_count": 12,
   "metadata": {},
   "outputs": [
    {
     "data": {
      "text/plain": [
       "2"
      ]
     },
     "execution_count": 12,
     "metadata": {},
     "output_type": "execute_result"
    }
   ],
   "source": [
    "# queue의 사이즈를 확인하기 위해서 qsize를 사용\n",
    "data_queue.qsize()"
   ]
  },
  {
   "cell_type": "code",
   "execution_count": 13,
   "metadata": {},
   "outputs": [
    {
     "data": {
      "text/plain": [
       "'funcoding'"
      ]
     },
     "execution_count": 13,
     "metadata": {},
     "output_type": "execute_result"
    }
   ],
   "source": [
    "# get\n",
    "# get은 별도의 인자를 사용하지 않는다. \n",
    "\n",
    "data_queue.get() #--- 맨 먼저 넣어진 데이터가 출력이 된다."
   ]
  },
  {
   "cell_type": "code",
   "execution_count": 14,
   "metadata": {},
   "outputs": [
    {
     "data": {
      "text/plain": [
       "1"
      ]
     },
     "execution_count": 14,
     "metadata": {},
     "output_type": "execute_result"
    }
   ],
   "source": [
    "data_queue.get() #--- 다시 실행하면 다음에 넣어진 데이터가 출력된다."
   ]
  },
  {
   "cell_type": "code",
   "execution_count": 15,
   "metadata": {},
   "outputs": [
    {
     "data": {
      "text/plain": [
       "0"
      ]
     },
     "execution_count": 15,
     "metadata": {},
     "output_type": "execute_result"
    }
   ],
   "source": [
    "data_queue.qsize()  #----- 'funcoding' 과 '1' 이 queue에서 빠져나온 것을 알 수 있다."
   ]
  },
  {
   "cell_type": "markdown",
   "metadata": {},
   "source": [
    "### 3.2. LifoQueue()로 큐 만들기 LIFO(Last-In, First-Out)"
   ]
  },
  {
   "cell_type": "code",
   "execution_count": 21,
   "metadata": {},
   "outputs": [],
   "source": [
    "import queue\n",
    "\n",
    "data_Queue = queue.LifoQueue()"
   ]
  },
  {
   "cell_type": "code",
   "execution_count": 22,
   "metadata": {},
   "outputs": [
    {
     "data": {
      "text/plain": [
       "2"
      ]
     },
     "execution_count": 22,
     "metadata": {},
     "output_type": "execute_result"
    }
   ],
   "source": [
    "data_Queue.put('funcoding')\n",
    "data_Queue.put(1)\n",
    "data_Queue.qsize()"
   ]
  },
  {
   "cell_type": "code",
   "execution_count": 23,
   "metadata": {},
   "outputs": [
    {
     "data": {
      "text/plain": [
       "1"
      ]
     },
     "execution_count": 23,
     "metadata": {},
     "output_type": "execute_result"
    }
   ],
   "source": [
    "data_Queue.get() #---- 마지막에 넣은것이 가장 먼저 추출이 되므로 1이 출력이 된다."
   ]
  },
  {
   "cell_type": "code",
   "execution_count": 24,
   "metadata": {},
   "outputs": [
    {
     "data": {
      "text/plain": [
       "'funcoding'"
      ]
     },
     "execution_count": 24,
     "metadata": {},
     "output_type": "execute_result"
    }
   ],
   "source": [
    "data_Queue.get() #---- 'funcoding'은 가장 처음에 집어 넣었으므로, 가장 마지막에 출력이 된다."
   ]
  },
  {
   "cell_type": "code",
   "execution_count": 25,
   "metadata": {},
   "outputs": [
    {
     "data": {
      "text/plain": [
       "0"
      ]
     },
     "execution_count": 25,
     "metadata": {},
     "output_type": "execute_result"
    }
   ],
   "source": [
    "data_Queue.qsize() #---- 다 빠져나왔으므로 qsize는 0이다."
   ]
  },
  {
   "cell_type": "markdown",
   "metadata": {},
   "source": [
    "### 3.3. PriorityQueue()로 큐 만들기\n",
    "\n",
    "- 이 정책은 각각의 데이터를 넣을 때마다 우선수위 번호를 같이 넣는 것.\n",
    "- 이 안에서 데이터를 추출할 때는 가장 우선순위가 높은 데이터를 추출한다.\n",
    "    - 우선순위에 따라 데이터를 추출하는 순서가 달라진다."
   ]
  },
  {
   "cell_type": "code",
   "execution_count": 35,
   "metadata": {},
   "outputs": [],
   "source": [
    "import queue\n",
    "\n",
    "data_PriQueue = queue.PriorityQueue()"
   ]
  },
  {
   "cell_type": "code",
   "execution_count": 36,
   "metadata": {},
   "outputs": [],
   "source": [
    "# 데이터 삽입\n",
    "# 데이터를 넣을 때 데이터만 삽입하는 것이 아니라 우선순위도 삽입하여야 한다.\n",
    "\n",
    "data_PriQueue.put((10,\"korea\"))  # ()는 튜플을 나타내는 기호 (우선순위, \"데이터\")\n",
    "data_PriQueue.put((5,1)) # 우선순위는 5번이고 실제 적영되는 데이터는 1\n",
    "data_PriQueue.put((15, \"USA\"))"
   ]
  },
  {
   "cell_type": "code",
   "execution_count": 37,
   "metadata": {},
   "outputs": [
    {
     "data": {
      "text/plain": [
       "3"
      ]
     },
     "execution_count": 37,
     "metadata": {},
     "output_type": "execute_result"
    }
   ],
   "source": [
    "data_PriQueue.qsize()  #---- 데이터 자체는 세 개이다."
   ]
  },
  {
   "cell_type": "code",
   "execution_count": 38,
   "metadata": {},
   "outputs": [
    {
     "data": {
      "text/plain": [
       "(5, 1)"
      ]
     },
     "execution_count": 38,
     "metadata": {},
     "output_type": "execute_result"
    }
   ],
   "source": [
    "# 숫자가 낮은것이 먼저 출력된다.\n",
    "\n",
    "data_PriQueue.get()  #---- 우선순위중 가장 빠른 것은 5번이었던 1이 출력된다."
   ]
  },
  {
   "cell_type": "code",
   "execution_count": 39,
   "metadata": {},
   "outputs": [
    {
     "data": {
      "text/plain": [
       "(10, 'korea')"
      ]
     },
     "execution_count": 39,
     "metadata": {},
     "output_type": "execute_result"
    }
   ],
   "source": [
    "data_PriQueue.get() "
   ]
  },
  {
   "cell_type": "code",
   "execution_count": 40,
   "metadata": {},
   "outputs": [
    {
     "data": {
      "text/plain": [
       "(15, 'USA')"
      ]
     },
     "execution_count": 40,
     "metadata": {},
     "output_type": "execute_result"
    }
   ],
   "source": [
    "data_PriQueue.get() "
   ]
  },
  {
   "cell_type": "code",
   "execution_count": 41,
   "metadata": {},
   "outputs": [
    {
     "data": {
      "text/plain": [
       "0"
      ]
     },
     "execution_count": 41,
     "metadata": {},
     "output_type": "execute_result"
    }
   ],
   "source": [
    "data_PriQueue.qsize()"
   ]
  },
  {
   "cell_type": "markdown",
   "metadata": {},
   "source": [
    "## 3. 파이썬과 배열\n",
    "\n",
    "- 파이썬 리스트 활용"
   ]
  },
  {
   "cell_type": "code",
   "execution_count": 2,
   "metadata": {},
   "outputs": [
    {
     "name": "stdout",
     "output_type": "stream",
     "text": [
      "[1, 2, 3, 4]\n"
     ]
    }
   ],
   "source": [
    "# 1차원 배열 : 리스트로 구현식\n",
    "\n",
    "data = [1,2,3,4]\n",
    "print(data)"
   ]
  },
  {
   "cell_type": "code",
   "execution_count": 5,
   "metadata": {},
   "outputs": [
    {
     "data": {
      "text/plain": [
       "[[1, 2, 3], [4, 5, 6], [7, 8, 9]]"
      ]
     },
     "execution_count": 5,
     "metadata": {},
     "output_type": "execute_result"
    }
   ],
   "source": [
    "# 2차원 배열 : 리스트로 구현시\n",
    "data = [[1,2,3],[4,5,6],[7,8,9]]\n",
    "data\n"
   ]
  },
  {
   "cell_type": "code",
   "execution_count": 6,
   "metadata": {},
   "outputs": [
    {
     "name": "stdout",
     "output_type": "stream",
     "text": [
      "[1, 2, 3]\n"
     ]
    }
   ],
   "source": [
    "print(data[0])"
   ]
  },
  {
   "cell_type": "code",
   "execution_count": 8,
   "metadata": {},
   "outputs": [
    {
     "name": "stdout",
     "output_type": "stream",
     "text": [
      "1\n",
      "2\n",
      "3\n",
      "4\n"
     ]
    }
   ],
   "source": [
    "print(data[0][0])\n",
    "print(data[0][1])\n",
    "print(data[0][2])\n",
    "print(data[1][0])"
   ]
  },
  {
   "cell_type": "markdown",
   "metadata": {},
   "source": [
    "----"
   ]
  },
  {
   "cell_type": "markdown",
   "metadata": {},
   "source": [
    "## 참고 : 어디에 큐가 많이 쓰일까?\n",
    "\n",
    "- 멀티 태스킹을 위한 프로세스 스케쥴링 방식을 구현하기 위해 많이 사용됨 (운영체제 참조)\n",
    "> 큐의 경우에는 장단점 보다는 (특별히 언급되는 장단점이 없다.) 큐의 활용 예로 프로세스 스케쥴링 방식을 함께 이해해두는 것이 좋다."
   ]
  },
  {
   "cell_type": "markdown",
   "metadata": {},
   "source": [
    "## 4. 프로그래밍 연습"
   ]
  },
  {
   "cell_type": "markdown",
   "metadata": {},
   "source": [
    "#### 연습 4.1 : 리스트 변수로 큐를 다루는 enqueue, dequeue 기능 구현해보기\n",
    "\n",
    "#### 쉬어가기: https://youtu.be/u6RoU-SDpYE"
   ]
  },
  {
   "cell_type": "code",
   "execution_count": 47,
   "metadata": {},
   "outputs": [],
   "source": [
    "import queue\n",
    "\n",
    "queue_list =list()\n",
    "\n",
    "# enqueue()는 데이터를 넣는 함수\n",
    "def enqueue(data):\n",
    "    queue_list.append(data)\n",
    "\n",
    "# dequeue()는 데이터를 제거하는 함수\n",
    "def dequeue():\n",
    "    data = queue_list[0] # 가장 먼저 넣어진 것이 가장 먼저 추출이 되기 때문에 인덱스 0번\n",
    "    del queue_list[0]\n",
    "    return data\n",
    "    "
   ]
  },
  {
   "cell_type": "code",
   "execution_count": 48,
   "metadata": {},
   "outputs": [],
   "source": [
    "for index in range(10):\n",
    "    enqueue(index)"
   ]
  },
  {
   "cell_type": "code",
   "execution_count": 49,
   "metadata": {},
   "outputs": [
    {
     "data": {
      "text/plain": [
       "10"
      ]
     },
     "execution_count": 49,
     "metadata": {},
     "output_type": "execute_result"
    }
   ],
   "source": [
    "# 데이터의 사이즈는 10\n",
    "len(queue_list)"
   ]
  },
  {
   "cell_type": "code",
   "execution_count": 50,
   "metadata": {},
   "outputs": [
    {
     "data": {
      "text/plain": [
       "0"
      ]
     },
     "execution_count": 50,
     "metadata": {},
     "output_type": "execute_result"
    }
   ],
   "source": [
    "# 0번부터 삽입이 되었기 때문에 0번부터 빠져나온다.\n",
    "\n",
    "dequeue()"
   ]
  },
  {
   "cell_type": "code",
   "execution_count": 51,
   "metadata": {},
   "outputs": [
    {
     "data": {
      "text/plain": [
       "1"
      ]
     },
     "execution_count": 51,
     "metadata": {},
     "output_type": "execute_result"
    }
   ],
   "source": [
    "dequeue()"
   ]
  },
  {
   "cell_type": "code",
   "execution_count": 52,
   "metadata": {},
   "outputs": [
    {
     "data": {
      "text/plain": [
       "2"
      ]
     },
     "execution_count": 52,
     "metadata": {},
     "output_type": "execute_result"
    }
   ],
   "source": [
    "dequeue()"
   ]
  },
  {
   "cell_type": "code",
   "execution_count": 53,
   "metadata": {},
   "outputs": [
    {
     "data": {
      "text/plain": [
       "3"
      ]
     },
     "execution_count": 53,
     "metadata": {},
     "output_type": "execute_result"
    }
   ],
   "source": [
    "dequeue()"
   ]
  },
  {
   "cell_type": "code",
   "execution_count": null,
   "metadata": {},
   "outputs": [],
   "source": []
  }
 ],
 "metadata": {
  "kernelspec": {
   "display_name": "Python 3",
   "language": "python",
   "name": "python3"
  },
  "language_info": {
   "codemirror_mode": {
    "name": "ipython",
    "version": 3
   },
   "file_extension": ".py",
   "mimetype": "text/x-python",
   "name": "python",
   "nbconvert_exporter": "python",
   "pygments_lexer": "ipython3",
   "version": "3.8.3"
  }
 },
 "nbformat": 4,
 "nbformat_minor": 4
}
