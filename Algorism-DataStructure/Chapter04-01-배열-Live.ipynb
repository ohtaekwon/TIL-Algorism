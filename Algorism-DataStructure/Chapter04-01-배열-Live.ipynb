{
 "cells": [
  {
   "cell_type": "markdown",
   "metadata": {},
   "source": [
    "## 꼭 알아둬야 할 자료구조 : 배열(Array)"
   ]
  },
  {
   "cell_type": "markdown",
   "metadata": {},
   "source": [
    "# 배열(Array)\n",
    "---\n",
    "\n",
    "- 데이터를 나열하고, 각 데이터를 인덱스에 대응하도록 구성한 데이터 구조\n",
    "    - **인덱스** : 배열의 주소\n",
    "<br>\n",
    "<br>\n",
    "- 파이썬에서는 리스트 타입이 배열 기능을 제공하고 있다."
   ]
  },
  {
   "cell_type": "markdown",
   "metadata": {},
   "source": [
    "## 1. 배열이 왜 필요한가?\n",
    "\n",
    "- 같은 종류의 데이터를 효율적으로 관리하기 위해\n",
    "- 같은 종류의 데이터를 순차적으로 저장\n",
    "<br>\n",
    "\n",
    "\n",
    "####  1.1 배열의 장점은?\n",
    "- 빠른 접근이 가능하다.<br>\n",
    "    _why? 인덱스 번호를 사용해서 해당 배열의 값에 접근할 수 있다._\n",
    "    <br>\n",
    "  \n",
    "#### 1.2 배열의 단점은? \n",
    "- 연관된 데이터의 추가가 어렵다.\n",
    "- 데이터가 가변적일때 (추가/삭제)가 쉽지 않음"
    "- 다리의 최대 길이를 지정해야 한다."
   ]
  },
  {
   "cell_type": "code",
   "execution_count": null,
   "metadata": {},
   "outputs": [],
   "source": []
  },
  {
   "cell_type": "markdown",
   "metadata": {},
   "source": [
    "## 2. 파이썬과 C언어의 배열 예제"
   ]
  },
  {
   "cell_type": "markdown",
   "metadata": {},
   "source": [
    "### 2.1. C언어 예제"
   ]
  },
  {
   "cell_type": "code",
   "execution_count": null,
   "metadata": {},
   "outputs": [],
   "source": [
    "#include <stdio.h>\n",
    "\n",
    "int main(int argc, char*argv[])\n",
    "{\n",
    "    char country[3]=\"US\";\n",
    "    printf(\"%c%|n\",country[0],country[1]);\n",
    "    printf(\"%s|n\",country);\n",
    "    return O;\n",
    "}"
   ]
  },
  {
   "cell_type": "markdown",
   "metadata": {},
   "source": [
    "### 2.2. 파이썬 예제"
   ]
  },
  {
   "cell_type": "code",
   "execution_count": 3,
   "metadata": {},
   "outputs": [
    {
     "name": "stdout",
     "output_type": "stream",
     "text": [
      "US\n",
      "USA\n"
     ]
    },
    {
     "data": {
      "text/plain": [
       "str"
      ]
     },
     "execution_count": 3,
     "metadata": {},
     "output_type": "execute_result"
    }
   ],
   "source": [
    "country = 'US'\n",
    "print(country)\n",
    "\n",
    "country = country + 'A'\n",
    "print(country)\n",
    "\n",
    "type(country)"
   ]
  },
  {
   "cell_type": "code",
   "execution_count": null,
   "metadata": {},
   "outputs": [],
   "source": []
  }
 ],
 "metadata": {
  "kernelspec": {
   "display_name": "Python 3",
   "language": "python",
   "name": "python3"
  },
  "language_info": {
   "codemirror_mode": {
    "name": "ipython",
    "version": 3
   },
   "file_extension": ".py",
   "mimetype": "text/x-python",
   "name": "python",
   "nbconvert_exporter": "python",
   "pygments_lexer": "ipython3",
   "version": "3.8.3"
  }
 },
 "nbformat": 4,
 "nbformat_minor": 4
}
