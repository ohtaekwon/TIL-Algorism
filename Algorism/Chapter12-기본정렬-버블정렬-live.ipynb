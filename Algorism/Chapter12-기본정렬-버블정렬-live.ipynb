{
 "cells": [
  {
   "cell_type": "markdown",
   "metadata": {},
   "source": [
    "## 대표적인 정렬1: 버블 정렬 (bubble sort) "
   ]
  },
  {
   "cell_type": "markdown",
   "metadata": {},
   "source": [
    "### 0. 알고리즘 연습 방법\n",
    "* 알고리즘을 잘 작성하기 위해서는 잘 작성된 알고리즘을 이해하고, 스스로 만들어봐야 함\n",
    "  - 모사! 그림을 잘 그리기 위해서는 잘 그린 그림을 모방하는 것부터 시작\n",
    "\n",
    "> 이번 챕터부터 알고리즘 시작입니다.!"
   ]
  },
  {
   "cell_type": "markdown",
   "metadata": {},
   "source": [
    "<div class=\"alert alert-block alert-info\">\n",
    "<center><strong><font size=4em>알고리즘 연습 방법</font></strong></center>\n",
    "\n",
    "<font size=3em>1. 연습장과 펜을 준비하자.</font><br><br>\n",
    "<font size=3em>2. 알고리즘 문제를 읽고 분석한 후에,</font><br><br>\n",
    "<font size=3em>3. 간단하게 테스트용으로 매우 간단한 경우부터 복잡한 경우 순서대로 생각해보면서, 연습장과 펜을 이용하여 알고리즘을 생각해본다.</font><br><br>\n",
    "<font size=3em>4. 가능한 알고리즘이 보인다면, 구현할 알고리즘을 세부 항목으로 나누고, 문장으로 세부 항목을 나누어서 적어본다.</font><br><br>\n",
    "<font size=3em>5. 코드화하기 위해, 데이터 구조 또는 사용할 변수를 정리하고,</font><br><br>\n",
    "<font size=3em>6. 각 문장을 코드 레벨로 적는다.</font><br><br>\n",
    "<font size=3em>7. 데이터 구조 또는 사용할 변수가 코드에 따라 어떻게 변하는지를 손으로 적으면서, 임의 데이터로 코드가 정상 동작하는지를 연습장과 펜으로 검증한다.</font><br>\n",
    "</div>"
   ]
  },
  {
   "cell_type": "markdown",
   "metadata": {},
   "source": [
    "### 1. 정렬 (sorting) 이란?\n",
    "- 정렬 (sorting): 어떤 데이터들이 주어졌을 때 이를 정해진 순서대로 나열하는 것\n",
    "- 정렬은 프로그램 작성시 빈번하게 필요로 함\n",
    "- 다양한 알고리즘이 고안되었으며, 알고리즘 학습의 필수\n",
    "\n",
    "> 다양한 정렬 알고리즘 이해를 통해, 동일한 문제에 대해 다양한 알고리즘이 고안될 수 있음을 이해하고,\n",
    "> 각 알고리즘간 성능 비교를 통해, 알고리즘 성능 분석에 대해서도 이해할 수 있음"
   ]
  },
  {
   "cell_type": "markdown",
   "metadata": {},
   "source": [
    "### 2. 버블 정렬 (bubble sort) 란?\n",
    "* 두 인접한 데이터를 비교해서, 앞에 있는 데이터가 뒤에 있는 데이터보다 크면, 자리를 바꾸는 정렬 알고리즘\n",
    "\n",
    "#### 직접 눈으로 보면 더 이해가 쉽다: https://visualgo.net/en/sorting\n",
    "\n",
    "<img src=\"https://upload.wikimedia.org/wikipedia/commons/c/c8/Bubble-sort-example-300px.gif\" width=600/>\n",
    "\n",
    "> 출처: https://en.wikipedia.org/wiki/Bubble_sort"
   ]
  },
  {
   "cell_type": "markdown",
   "metadata": {
    "collapsed": true
   },
   "source": [
    "### 3. 어떻게 코드로 만들까?\n",
    "\n",
    "> 알고리즘 연습 방법에 기반해서 단계별로 생각해봅니다."
   ]
  },
  {
   "cell_type": "markdown",
   "metadata": {},
   "source": [
    "<div class=\"alert alert-block alert-warning\">\n",
    "<strong><font color=\"blue\" size=\"4em\">프로그래밍 연습</font></strong><br>\n",
    "데이터가 두 개일 때 버블 정렬 알고리즘 방식으로 정렬해보세요<br>\n",
    "</div>"
   ]
  },
  {
   "cell_type": "code",
   "execution_count": 55,
   "metadata": {},
   "outputs": [
    {
     "name": "stdout",
     "output_type": "stream",
     "text": [
      "[1, 9] 반복한 횟수 : 1\n"
     ]
    }
   ],
   "source": [
    "data=[9,1]\n",
    "cnt=0\n",
    "\n",
    "for i in range(len(data)-1):\n",
    "    cnt+=1\n",
    "    for j in range(len(data)-i-1):\n",
    "        if data[j]>data[j+1]:\n",
    "            data[j],data[j+1]=data[j+1],data[j]\n",
    "print(data,\"반복한 횟수 :\", cnt)"
   ]
  },
  {
   "cell_type": "markdown",
   "metadata": {},
   "source": [
    "<div class=\"alert alert-block alert-warning\">\n",
    "<strong><font color=\"blue\" size=\"4em\">프로그래밍 연습</font></strong><br>\n",
    "데이터가 세 개일 때 버블 정렬 알고리즘 방식으로 정렬해보세요<br>\n",
    "</div>"
   ]
  },
  {
   "cell_type": "code",
   "execution_count": 53,
   "metadata": {},
   "outputs": [
    {
     "name": "stdout",
     "output_type": "stream",
     "text": [
      "[1, 3, 9] 반복한 횟수 :  2\n"
     ]
    }
   ],
   "source": [
    "data=[1,9,3]\n",
    "cnt=0\n",
    "for i in range(len(data)-1):\n",
    "    cnt+=1\n",
    "    for j in range(len(data)-i-1):\n",
    "        if data[j]>data[j+1]:\n",
    "            data[j],data[j+1]=data[j+1],data[j]\n",
    "print(data, \"반복한 횟수 : \", cnt)"
   ]
  },
  {
   "cell_type": "markdown",
   "metadata": {},
   "source": [
    "<div class=\"alert alert-block alert-warning\">\n",
    "<strong><font color=\"blue\" size=\"4em\">프로그래밍 연습</font></strong><br>\n",
    "데이터가 네 개일 때 버블 정렬 알고리즘 방식으로 정렬해보세요<br>\n",
    "</div>"
   ]
  },
  {
   "cell_type": "code",
   "execution_count": 52,
   "metadata": {},
   "outputs": [
    {
     "name": "stdout",
     "output_type": "stream",
     "text": [
      "[1, 2, 3, 9] 반복한 횟수 :  3\n"
     ]
    }
   ],
   "source": [
    "data=[1,3,2,9]\n",
    "cnt=0\n",
    "for i in range(len(data)-1): # 로직의 차수\n",
    "    cnt+=1\n",
    "    for j in range(len(data)-i-1): # 자릿수 비교\n",
    "        if data[j]>data[j+1]:\n",
    "            data[j],data[j+1]=data[j+1],data[j]\n",
    "print(data, \"반복한 횟수 : \", cnt)"
   ]
  },
  {
   "cell_type": "markdown",
   "metadata": {},
   "source": [
    "* 데이터가 네 개 일때 (데이터 갯수에 따라 복잡도가 떨어지는 것은 아니므로, 네 개로 바로 로직을 이해해보자.)\n",
    "  - 예: data_list = [1, 9, 3, 2]\n",
    "    - 1차 로직 적용\n",
    "      - 1 와 9 비교, 자리바꿈없음 [1, 9, 3, 2]\n",
    "      - 9 와 3 비교, 자리바꿈 [1, 3, 9, 2]\n",
    "      - 9 와 2 비교, 자리바꿈 [1, 3, 2, 9]\n",
    "    - 2차 로직 적용\n",
    "      - 1 와 3 비교, 자리바꿈없음 [1, 3, 2, 9]\n",
    "      - 3 과 2 비교, 자리바꿈 [1, 2, 3, 9]\n",
    "      - 3 와 9 비교, 자리바꿈없음 [1, 2, 3, 9]\n",
    "    - 3차 로직 적용\n",
    "      - 1 과 2 비교, 자리바꿈없음 [1, 2, 3, 9]\n",
    "      - 2 과 3 비교, 자리바꿈없음 [1, 2, 3, 9]\n",
    "      - 3 과 9 비교, 자리바꿈없음 [1, 2, 3, 9]"
   ]
  },
  {
   "cell_type": "markdown",
   "metadata": {
    "collapsed": true
   },
   "source": [
    "### 4. 알고리즘 구현\n",
    "* **특이점 찾아보기**\n",
    "  - n개의 리스트가 있는 경우 최대 n-1번의 로직을 적용한다.\n",
    "  - 로직을 1번 적용할 때마다 가장 큰 숫자가 뒤에서부터 1개씩 결정된다.\n",
    "  - 로직이 경우에 따라 일찍 끝날 수도 있다. 따라서 로직을 적용할 때 한 번도 데이터가 교환된 적이 없다면 이미 정렬된 상태이므로 더 이상 로직을 반복 적용할 필요가 없다.\n",
    "<img src=\"https://www.fun-coding.org/00_Images/bubblealgo.png\" />"
   ]
  },
  {
   "cell_type": "markdown",
   "metadata": {
    "collapsed": true
   },
   "source": [
    "1. for num in range(len(data_list)) 반복\n",
    "2. swap = 0 (교환이 되었는지를 확인하는 변수를 두자)\n",
    "2. 반복문 안에서, for index in range(len(data_list) - num - 1) n - 1번 반복해야 하므로\n",
    "3. 반복문안의 반복문 안에서, if data_list[index] > data_list[index + 1] 이면\n",
    "4.                data_list[index], data_list[index + 1] = data_list[index + 1], data_list[index]\n",
    "5.                swap += 1\n",
    "6. 반복문 안에서, if swap == 0 이면, break 끝\n",
    "\n",
    "```py\n",
    "for index in range(데이터길이-1):\n",
    "    for index2 in range(데이터길이-index-1):\n",
    "        if 앞데이터 > 뒤데이터:\n",
    "            swap(앞데이터, 뒤데이터)\n",
    "```"
   ]
  },
  {
   "cell_type": "code",
   "execution_count": 2,
   "metadata": {},
   "outputs": [
    {
     "name": "stdout",
     "output_type": "stream",
     "text": [
      "0 0\n",
      "0 1\n",
      "0 2\n",
      "0 3\n",
      "1 0\n",
      "1 1\n",
      "1 2\n",
      "2 0\n",
      "2 1\n",
      "3 0\n"
     ]
    }
   ],
   "source": [
    "n=5\n",
    "for i in range(n-1):\n",
    "    for j in range(n-i-1):\n",
    "        print(i, j)"
   ]
  },
  {
   "cell_type": "code",
   "execution_count": 91,
   "metadata": {},
   "outputs": [
    {
     "name": "stdout",
     "output_type": "stream",
     "text": [
      "[9, 14, 84, 48, 29, 79, 12, 85, 53, 32, 60, 76, 62, 41, 8, 18, 92, 27, 49, 70, 21, 28, 6, 46, 93, 83, 26, 56, 91, 25, 42, 39, 89, 19, 71, 67, 17, 57, 24, 66, 95, 51, 99, 54, 64, 2, 73, 37, 4, 20] 최댓값 : 99 최솟값 :  2\n",
      "------------- 비교 -------------\n",
      "[2, 4, 6, 8, 9, 12, 14, 17, 18, 19, 20, 21, 24, 25, 26, 27, 28, 29, 32, 37, 39, 41, 42, 46, 48, 49, 51, 53, 54, 56, 57, 60, 62, 64, 66, 67, 70, 71, 73, 76, 79, 83, 84, 85, 89, 91, 92, 93, 95, 99]\n"
     ]
    }
   ],
   "source": [
    "import random\n",
    "\n",
    "data_list=random.sample(range(100),50)\n",
    "\n",
    "def bubblesort(data):\n",
    "    for index in range(len(data)-1):\n",
    "        swap=False\n",
    "        for index2 in range(len(data)-index-1):\n",
    "            if data[index2]>data[index2+1]:\n",
    "                data[index2], data[index2+1] = data[index2+1], data[index2]\n",
    "                swap=True\n",
    "\n",
    "        if swap==False:break\n",
    "    return data\n",
    "print(data_list, '최댓값 :', max(data_list), '최솟값 : ', min(data_list))\n",
    "print(\"------------- 비교 -------------\")\n",
    "print(bubblesort(data_list))"
   ]
  },
  {
   "cell_type": "code",
   "execution_count": null,
   "metadata": {},
   "outputs": [],
   "source": [
    "def bubblesort(data):\n",
    "    for index in range(len(data) - 1):\n",
    "        swap = False\n",
    "        for index2 in range(len(data) - index - 1):\n",
    "            if data[index2] > data[index2 + 1]:\n",
    "                data[index2], data[index2 + 1] = data[index2 + 1], data[index2]\n",
    "                swap = True\n",
    "        \n",
    "        if swap == False:\n",
    "            break\n",
    "    return data"
   ]
  },
  {
   "cell_type": "code",
   "execution_count": 2,
   "metadata": {},
   "outputs": [
    {
     "name": "stdout",
     "output_type": "stream",
     "text": [
      "[88, 28, 63, 20, 23, 68, 62, 2, 53, 89, 84, 44, 75, 26, 72, 61, 98, 22, 51, 3, 66, 40, 31, 41, 56, 65, 79, 77, 95, 21, 35, 82, 11, 57, 50, 96, 86, 7, 59, 90, 17, 12, 85, 92, 13, 94, 1, 70, 0, 54]\n"
     ]
    }
   ],
   "source": [
    "import random\n",
    "\n",
    "data_list = random.sample(range(100), 50)\n",
    "print (bubblesort(data_list))"
   ]
  },
  {
   "cell_type": "code",
   "execution_count": 7,
   "metadata": {},
   "outputs": [
    {
     "name": "stdout",
     "output_type": "stream",
     "text": [
      "[88, 28, 63, 20, 23, 68, 62, 2, 53, 89, 84, 44, 75, 26, 72, 61, 98, 22, 51, 3, 66, 40, 31, 41, 56, 65, 79, 77, 95, 21, 35, 82, 11, 57, 50, 96, 86, 7, 59, 90, 17, 12, 85, 92, 13, 94, 1, 70, 0, 54]\n"
     ]
    }
   ],
   "source": [
    "def bubblesort(data):\n",
    "    def swapData(data1,data2):\n",
    "        data1,data2=data2,data1\n",
    "        return data1, data2\n",
    "\n",
    "    for index in range(len(data) - 1):\n",
    "        swap = False\n",
    "        for index2 in range(len(data) - index - 1):\n",
    "            if data[index2] > data[index2 + 1]:\n",
    "                swapData(data[index2],data[index2+1])\n",
    "                swap = True\n",
    "        \n",
    "        if swap == False:\n",
    "            break\n",
    "    return data\n",
    "print(bubblesort(data_list))"
   ]
  },
  {
   "cell_type": "markdown",
   "metadata": {},
   "source": [
    "### 5. 알고리즘 분석\n",
    "* 반복문이 두 개 $O$($n^2$)\n",
    "  - 최악의 경우, <font size=5em>$\\frac { n * (n - 1)}{ 2 }$</font>\n",
    "* 완전 정렬이 되어 있는 상태라면 최선은 O(n)"
   ]
  },
  {
   "cell_type": "markdown",
   "metadata": {},
   "source": [
    "<div class=\"alert alert-block alert-info\">\n",
    "<strong><font color=\"blue\" size=\"4em\">프로그래밍 연습</font></strong><br>\n",
    "지금 설명한 버블 정렬을 알고리즘 연습 방법에 따라서, 다시 스스로 작성해보세요<br>\n",
    "</div>"
   ]
  },
  {
   "cell_type": "markdown",
   "metadata": {},
   "source": [
    "1. for num in range(len(data_list)-1) 반복\n",
    "2. swap = 0 (교환이 되었는지를 확인하는 변수를 둔다.\n",
    "3. 반복문 안에서, for index in range(len(data)-num-1) 반복하므로,\n",
    "    - n-1번 반복해야 하므로,\n",
    "4. 반복문안의 반복문 안에서, if data_list[index]>data_list[index+1] 이면,\n",
    "    - 앞과 뒤는 서로 바꾼다.\n",
    "5. swap+=1\n",
    "6. 반복문 안에서, if swap==0이면, 반복하지 않아도 되는 것이므로, \n",
    "    - break를 하여 끝낸다.\n",
    "    \n",
    "```py\n",
    "for index in range(데이터의 길이 -1):\n",
    "    for index2 in range(데이터의 길이 - index - 1):\n",
    "        if 앞데이터>뒤데이터: # 앞의 데이터가 더 크면 자리 바꿈\n",
    "            swap(앞데이터, 뒤데이터)\n",
    "            \n",
    "\n",
    "```"
   ]
  },
  {
   "cell_type": "code",
   "execution_count": 10,
   "metadata": {},
   "outputs": [
    {
     "name": "stdout",
     "output_type": "stream",
     "text": [
      "[1, 2, 3, 9]\n"
     ]
    }
   ],
   "source": [
    "data=[1,3,2,9]\n",
    "\n",
    "for index in range(len(data)-1):\n",
    "    swap=False\n",
    "    for index2 in range(len(data)-index-1):\n",
    "        if data[index2]>data[index2+1]:\n",
    "            data[index2],data[index2+1]= data[index2+1],data[index2]\n",
    "            swap=True\n",
    "    if swap==False:break\n",
    "print(data)"
   ]
  },
  {
   "cell_type": "code",
   "execution_count": null,
   "metadata": {},
   "outputs": [],
   "source": []
  }
 ],
 "metadata": {
  "kernelspec": {
   "display_name": "Python 3 (ipykernel)",
   "language": "python",
   "name": "python3"
  },
  "language_info": {
   "codemirror_mode": {
    "name": "ipython",
    "version": 3
   },
   "file_extension": ".py",
   "mimetype": "text/x-python",
   "name": "python",
   "nbconvert_exporter": "python",
   "pygments_lexer": "ipython3",
   "version": "3.9.7"
  },
  "nbTranslate": {
   "displayLangs": [
    "*"
   ],
   "hotkey": "alt-t",
   "langInMainMenu": true,
   "sourceLang": "en",
   "targetLang": "fr",
   "useGoogleTranslate": true
  }
 },
 "nbformat": 4,
 "nbformat_minor": 1
}
