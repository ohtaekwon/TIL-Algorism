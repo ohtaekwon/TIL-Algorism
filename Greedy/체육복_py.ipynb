{
 "cells": [
  {
   "cell_type": "markdown",
   "id": "f45fd5e4",
   "metadata": {},
   "source": [
    "# [체육복](https://programmers.co.kr/learn/courses/30/lessons/42862)\n",
    "\n",
    "<br/>\n",
    "\n",
    "### 문제\n",
    "점심시간에 도둑이 들어, 일부 학생이 체육복을 도난당했습니다. 다행히 여벌 체육복이 있는 학생이 이들에게 체육복을 빌려주려 합니다. 학생들의 번호는 체격 순으로 매겨져 있어, 바로 앞번호의 학생이나 바로 뒷번호의 학생에게만 체육복을 빌려줄 수 있습니다. 예를 들어, 4번 학생은 3번 학생이나 5번 학생에게만 체육복을 빌려줄 수 있습니다. 체육복이 없으면 수업을 들을 수 없기 때문에 체육복을 적절히 빌려 최대한 많은 학생이 체육수업을 들어야 합니다.\n",
    "\n",
    "전체 학생의 수 n, 체육복을 도난당한 학생들의 번호가 담긴 배열 lost, 여벌의 체육복을 가져온 학생들의 번호가 담긴 배열 reserve가 매개변수로 주어질 때, 체육수업을 들을 수 있는 학생의 최댓값을 return 하도록 solution 함수를 작성해주세요.\n",
    "\n",
    "\n",
    "### 제한사항\n",
    "\n",
    "- 전체 학생의 수는 2명 이상 30명 이하입니다.\n",
    "- 체육복을 도난당한 학생의 수는 1명 이상 n명 이하이고 중복되는 번호는 없습니다.\n",
    "- 여벌의 체육복을 가져온 학생의 수는 1명 이상 n명 이하이고 중복되는 번호는 없습니다.\n",
    "- 여벌 체육복이 있는 학생만 다른 학생에게 체육복을 빌려줄 수 있습니다.\n",
    "- 여벌 체육복을 가져온 학생이 체육복을 도난당했을 수 있습니다. 이때 이 학생은 체육복을 하나만 도난당했다고 가정하며, 남은 체육복이 하나이기에 다른 학생에게는 체육복을 빌려줄 수 없습니다.\n",
    "\n",
    "### 입출력 예\n",
    "\n",
    "|n|lost|reserve|return|\n",
    "|:--|:--|:--|:--:|\n",
    "|5 | [2,4] | [1,3,5] |5|\n",
    "|5 | [2,4] | [3] | 4 |\n",
    "|3 | [3] |[1] | 2 |\n",
    "\n",
    "### 입출력 예 설명\n",
    "\n",
    "예제 #1\n",
    "1번 학생이 2번 학생에게 체육복을 빌려주고, 3번 학생이나 5번 학생이 4번 학생에게 체육복을 빌려주면 학생 5명이 체육수업을 들을 수 있습니다.\n",
    "\n",
    "예제 #2\n",
    "3번 학생이 2번 학생이나 4번 학생에게 체육복을 빌려주면 학생 4명이 체육수업을 들을 수 있습니다.\n"
   ]
  },
  {
   "cell_type": "markdown",
   "id": "ea8b4d14",
   "metadata": {},
   "source": [
    "### 알고리즘 분류\n",
    "\n",
    "- Greedy"
   ]
  },
  {
   "cell_type": "markdown",
   "id": "268a9d00",
   "metadata": {},
   "source": [
    "### 풀이 1)\n",
    "\n",
    "- 체육복을 잃어버린 사람은 1명 이상 n명 이하\n",
    "- 여벌의 체육복을 가져온 사람은 도난을 당했을 수도 있다.\n",
    "- 도난 당할 경우, 남은 체육복은 1개 이므로, 다른 학생에게 빌려줄 수 없음"
   ]
  },
  {
   "cell_type": "markdown",
   "id": "fdc9670f",
   "metadata": {},
   "source": [
    "### 최종 코드"
   ]
  },
  {
   "cell_type": "code",
   "execution_count": 1,
   "id": "57c1566f",
   "metadata": {},
   "outputs": [],
   "source": [
    "# 체육복을 잃어버린 사람은 1명 이상 n명 이하\n",
    "# 여벌의 체육복을 가져온 사람의 수는 1명 이상 n명 이하\n",
    "# 여벌의 체육복을 가져온 사람은 도난을 당했을 수도 있다. \n",
    "# 이때 남은 체육복은 1개 이므로, 다른 학생에게 빌려줄수없음\n",
    "\n",
    "def solution(n, lost, reserve):\n",
    "    # 여벌의 학생은 잃어버린 학생이 되어도, 체육수업을 들을 수 있다.\n",
    "    # 어차피 중복이 없으므로, set자료형을 통해서 차집합을 구한다.\n",
    "    setReserve = set(reserve) - set(lost) # 여벌의 학생이 잃어버린 경우 제외\n",
    "    setLost = set(lost) - set(reserve) # 잃어버린 학생이 여벌의 옷을 가질 경우 제외\n",
    "\n",
    "    for r in setReserve:\n",
    "        if r-1 in setLost: # 여벌의 옷 학생 앞 사람이 잃어버린 학생이라면\n",
    "            setLost.remove(r-1) # 빌려줄수 있으므로, 지운다.\n",
    "        elif r+1 in setLost: # 여벌의 옷 학생 뒷 사람이 잃어버린 학생이라면 \n",
    "            setLost.remove(r+1) # 빌려줄 수 있으므로, 지운다.\n",
    "\n",
    "    return n - len(setLost) # 전체 인원 - 빌릴 수 없는 남은 잃어버린 학생"
   ]
  },
  {
   "cell_type": "markdown",
   "id": "26c98e85",
   "metadata": {},
   "source": [
    "### 알게된 점"
   ]
  },
  {
   "cell_type": "markdown",
   "id": "ebea7988",
   "metadata": {},
   "source": [
    "#### 내장함수 set\n",
    "\n",
    "- set은 집합 함수로 **중복되지 않은 원소(unique)** 를 얻고자 할 떄 사용할 수 있는 python의 내장함수 이다.\n",
    "- set에 추가할때는 명령어 `add()` 를 쓴다.\n",
    "\n",
    "```python\n",
    "s=set([1,2,3,4])\n",
    "print(s) # {1,2,3,4}\n",
    "s.add(5)\n",
    "print(s) # {1,2,3,4,5}\n",
    "```\n",
    "\n",
    "- set에 여러개의 값을 추가할 때는 `update()` 를 사용한다.\n",
    "- set 안의 값을 제거하려면 `remove`와 `discard` 가 있다.\n",
    "- 합집합 : `|` or `union`\n",
    "- 교집합 : `&` or `intersection`\n",
    "- 차집합 : `-` or `difference`\n",
    "- 대칭차집합(합집합-교집합) : `^` or `symmetric_difference`"
   ]
  }
 ],
 "metadata": {
  "kernelspec": {
   "display_name": "Python 3 (ipykernel)",
   "language": "python",
   "name": "python3"
  },
  "language_info": {
   "codemirror_mode": {
    "name": "ipython",
    "version": 3
   },
   "file_extension": ".py",
   "mimetype": "text/x-python",
   "name": "python",
   "nbconvert_exporter": "python",
   "pygments_lexer": "ipython3",
   "version": "3.9.7"
  }
 },
 "nbformat": 4,
 "nbformat_minor": 5
}
