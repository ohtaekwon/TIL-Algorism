{
 "cells": [
  {
   "cell_type": "code",
   "execution_count": null,
   "metadata": {},
   "outputs": [],
   "source": [
    "v=[[1, 4], [3, 4], [3, 10]]\n",
    "\n",
    "x,y=[],[]\n",
    "def solution(v):  \n",
    "    answer = []\n",
    "\n",
    "    x=[v[i][0] for i in range(len(v))]\n",
    "    y=[v[i][1] for i in range(len(v))]\n",
    "\n",
    "    x1=0\n",
    "    y1=0\n",
    "    for j in range(3):\n",
    "        if x.count(x[j]) == 1:\n",
    "            x1+=x[j]\n",
    "        if y.count(y[j])==1:\n",
    "            y1=y[j]\n",
    "            \n",
    "    answer.append(x1)\n",
    "    answer.append(y1)\n",
    "\n",
    "    return answer\n",
    "\n",
    "print(solution(v))"
   ]
  },
  {
   "cell_type": "code",
   "execution_count": null,
   "metadata": {},
   "outputs": [],
   "source": []
  }
 ],
 "metadata": {
  "kernelspec": {
   "display_name": "Python 3",
   "language": "python",
   "name": "python3"
  },
  "language_info": {
   "codemirror_mode": {
    "name": "ipython",
    "version": 3
   },
   "file_extension": ".py",
   "mimetype": "text/x-python",
   "name": "python",
   "nbconvert_exporter": "python",
   "pygments_lexer": "ipython3",
   "version": "3.8.3"
  }
 },
 "nbformat": 4,
 "nbformat_minor": 4
}
