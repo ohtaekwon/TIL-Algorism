{
 "cells": [
  {
   "cell_type": "markdown",
   "metadata": {},
   "source": [
    "# [Z](https://www.acmicpc.net/problem/1074)\n",
    "\n",
    "<br/>\n",
    "<br/>\n",
    "\n",
    "## 문제\n",
    "\n",
    "한수는 크기가 2N × 2N인 2차원 배열을 Z모양으로 탐색하려고 한다. 예를 들어, 2×2배열을 왼쪽 위칸, 오른쪽 위칸, 왼쪽 아래칸, 오른쪽 아래칸 순서대로 방문하면 Z모양이다.\n",
    "\n",
    "![](https://upload.acmicpc.net/21c73b56-5a91-43aa-b71f-9b74925c0adc/-/preview/)\n",
    "\n",
    "N > 1인 경우, 배열을 크기가 2$^N$$^-$$^1$ × 2$^N$$^-$$^1$로 4등분 한 후에 재귀적으로 순서대로 방문한다.\n",
    "\n",
    "다음 예는 22 × 22 크기의 배열을 방문한 순서이다.\n",
    "\n",
    "\n",
    "![](https://upload.acmicpc.net/adc7cfae-e84d-4d5c-af8e-ee011f8fff8f/-/preview/)\n",
    "\n",
    "N이 주어졌을 때, r행 c열을 몇 번째로 방문하는지 출력하는 프로그램을 작성하시오.\n",
    "\n",
    "다음은 N=3일 때의 예이다.\n",
    "\n",
    "![](https://upload.acmicpc.net/d3e84bb7-9424-4764-ad3a-811e7fcbd53f/-/preview/)\n",
    "\n",
    "## 입력\n",
    "\n",
    "첫째 줄에 정수 N, r, c가 주어진다.\n",
    "\n",
    "## 출력\n",
    "\n",
    "r행 c열을 몇 번째로 방문했는지 출력한다.\n",
    "\n",
    "## 제한\n",
    "\n",
    "- 1 ≤ N ≤ 15\n",
    "- 0 ≤ r, c < 2$^N$\n",
    "\n",
    "## 예제 입력\n",
    "\n",
    "```\n",
    "2 3 1\n",
    "```\n",
    "\n",
    "## 예제 출력\n",
    "\n",
    "```\n",
    "11\n",
    "```\n",
    "\n",
    "## 알고리즘 분류\n",
    "\n",
    "- 분할 정복\n",
    "- 재귀"
   ]
  },
  {
   "cell_type": "markdown",
   "metadata": {},
   "source": [
    "----"
   ]
  },
  {
   "cell_type": "markdown",
   "metadata": {},
   "source": [
    "## 풀이 방법\n",
    "\n",
    "\n",
    "### 문제 풀이 - 핵심 아이디어\n",
    "\n",
    "\n",
    "### 알고리즘 구현\n",
    "\n",
    "\n",
    "    \n",
    "   \n"
   ]
  },
  {
   "cell_type": "markdown",
   "metadata": {},
   "source": [
    "### 풀이 코드 1)"
   ]
  },
  {
   "cell_type": "code",
   "execution_count": 2,
   "metadata": {},
   "outputs": [
    {
     "name": "stdout",
     "output_type": "stream",
     "text": [
      "2 3 1\n"
     ]
    }
   ],
   "source": [
    "N,r,c = map(int,input().split())"
   ]
  },
  {
   "cell_type": "code",
   "execution_count": null,
   "metadata": {},
   "outputs": [],
   "source": []
  }
 ],
 "metadata": {
  "kernelspec": {
   "display_name": "Python 3 (ipykernel)",
   "language": "python",
   "name": "python3"
  },
  "language_info": {
   "codemirror_mode": {
    "name": "ipython",
    "version": 3
   },
   "file_extension": ".py",
   "mimetype": "text/x-python",
   "name": "python",
   "nbconvert_exporter": "python",
   "pygments_lexer": "ipython3",
   "version": "3.9.7"
  }
 },
 "nbformat": 4,
 "nbformat_minor": 4
}
