{
 "cells": [
  {
   "cell_type": "markdown",
   "metadata": {},
   "source": [
    "# [01타일](https://www.acmicpc.net/problem/1904)\n",
    "\n",
    "<br/>\n",
    "<br/>\n",
    "\n",
    "## 문제\n",
    "\n",
    "지원이에게 2진 수열을 가르쳐 주기 위해, 지원이 아버지는 그에게 타일들을 선물해주셨다. 그리고 이 각각의 타일들은 0 또는 1이 쓰여 있는 낱장의 타일들이다.\n",
    "\n",
    "어느 날 짓궂은 동주가 지원이의 공부를 방해하기 위해 0이 쓰여진 낱장의 타일들을 붙여서 한 쌍으로 이루어진 00 타일들을 만들었다. 결국 현재 1 하나만으로 이루어진 타일 또는 0타일을 두 개 붙인 한 쌍의 00타일들만이 남게 되었다.\n",
    "\n",
    "그러므로 지원이는 타일로 더 이상 크기가 N인 모든 2진 수열을 만들 수 없게 되었다. 예를 들어, N=1일 때 1만 만들 수 있고, N=2일 때는 00, 11을 만들 수 있다. (01, 10은 만들 수 없게 되었다.) 또한 N=4일 때는 0011, 0000, 1001, 1100, 1111 등 총 5개의 2진 수열을 만들 수 있다.\n",
    "\n",
    "우리의 목표는 N이 주어졌을 때 지원이가 만들 수 있는 모든 가짓수를 세는 것이다. 단 타일들은 무한히 많은 것으로 가정하자.\n",
    "\n",
    "## 입력\n",
    "\n",
    "첫 번째 줄에 자연수 N이 주어진다. (1 ≤ N ≤ 1,000,000)\n",
    "\n",
    "\n",
    "\n",
    "## 출력\n",
    "\n",
    "첫 번째 줄에 지원이가 만들 수 있는 길이가 N인 모든 2진 수열의 개수를 15746으로 나눈 나머지를 출력한다.\n",
    "\n",
    "\n",
    "\n",
    "\n",
    "## 예제 입력\n",
    "\n",
    "```\n",
    "4\n",
    "```\n",
    "\n",
    "## 예제 출력\n",
    "\n",
    "```\n",
    "5\n",
    "```\n",
    "\n",
    "## 알고리즘 분류\n",
    "\n",
    "- 다이나믹 프로그래밍"
   ]
  },
  {
   "cell_type": "markdown",
   "metadata": {},
   "source": [
    "----"
   ]
  },
  {
   "cell_type": "markdown",
   "metadata": {},
   "source": [
    "## 풀이 방법 2)\n",
    "\n",
    "\n",
    "### 문제 풀이 - 핵심 아이디어\n",
    "\n",
    "- n=1일때, `1`\n",
    "- n=2일때, `11` / `00` /\n",
    "- n=3일때, `111` / `001` / `100` /\n",
    "- n=4일때, `1111`/ `00100` / `00001` / `11100` / `11001` / `10011` / `00111` /  `10000` \n",
    "\n",
    "### 알고리즘 구현\n",
    "\n",
    "- n=1일때,1가지\n",
    "- n=2일때,2가지\n",
    "- n=3일때,3가지\n",
    "- n=4일때,5가지\n",
    "- n=5일때,8가지\n",
    "- 동적 계획법으로 구한다.\n",
    "- 점화식을 살펴보면,\n",
    "    - dp[index]=dp[index-1]+dp[index-2]라는 식이 생성된다.\n",
    "- 기본값을 dp[1]=1, dp[2]=2로 설정하였으니,\n",
    "- 반복설정은 range(3,n+1)까지로 설정한다.\n",
    "\n",
    "\n",
    "   "
   ]
  },
  {
   "cell_type": "markdown",
   "metadata": {},
   "source": [
    "### 풀이 코드 1)"
   ]
  },
  {
   "cell_type": "code",
   "execution_count": 4,
   "metadata": {},
   "outputs": [
    {
     "name": "stdout",
     "output_type": "stream",
     "text": [
      "4\n",
      "5\n"
     ]
    }
   ],
   "source": [
    "n=int(input())\n",
    "dp=[0]*10000001\n",
    "dp[1]=1\n",
    "dp[2]=2\n",
    "dp[3]=3\n",
    "dp[4]=5\n",
    "\n",
    "for index in range(3,n+1):\n",
    "    dp[index]=(dp[index-1]+dp[index-2])%15746\n",
    "print(dp[n])"
   ]
  }
 ],
 "metadata": {
  "kernelspec": {
   "display_name": "Python 3 (ipykernel)",
   "language": "python",
   "name": "python3"
  },
  "language_info": {
   "codemirror_mode": {
    "name": "ipython",
    "version": 3
   },
   "file_extension": ".py",
   "mimetype": "text/x-python",
   "name": "python",
   "nbconvert_exporter": "python",
   "pygments_lexer": "ipython3",
   "version": "3.9.7"
  }
 },
 "nbformat": 4,
 "nbformat_minor": 4
}
