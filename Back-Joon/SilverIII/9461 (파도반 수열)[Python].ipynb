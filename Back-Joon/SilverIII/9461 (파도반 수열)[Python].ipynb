{
 "cells": [
  {
   "cell_type": "markdown",
   "metadata": {},
   "source": [
    "# [파도반 수열](https://www.acmicpc.net/problem/9461)\n",
    "\n",
    "<br/>\n",
    "<br/>\n",
    "\n",
    "## 문제\n",
    "\n",
    "오른쪽 그림과 같이 삼각형이 나선 모양으로 놓여져 있다. 첫 삼각형은 정삼각형으로 변의 길이는 1이다. 그 다음에는 다음과 같은 과정으로 정삼각형을 계속 추가한다. 나선에서 가장 긴 변의 길이를 k라 했을 때, 그 변에 길이가 k인 정삼각형을 추가한다.\n",
    "\n",
    "파도반 수열 P(N)은 나선에 있는 정삼각형의 변의 길이이다. P(1)부터 P(10)까지 첫 10개 숫자는 1, 1, 1, 2, 2, 3, 4, 5, 7, 9이다.\n",
    "\n",
    "N이 주어졌을 때, P(N)을 구하는 프로그램을 작성하시오.\n",
    "\n",
    "![](https://www.acmicpc.net/upload/images/pandovan.png)\n",
    "\n",
    "## 입력\n",
    "\n",
    "첫째 줄에 테스트 케이스의 개수 T가 주어진다. 각 테스트 케이스는 한 줄로 이루어져 있고, N이 주어진다. (1 ≤ N ≤ 100)\n",
    "\n",
    "\n",
    "\n",
    "\n",
    "\n",
    "## 출력\n",
    "\n",
    "각 테스트 케이스마다 P(N)을 출력한다.\n",
    "\n",
    "\n",
    "\n",
    "\n",
    "\n",
    "## 예제 입력\n",
    "\n",
    "```\n",
    "2\n",
    "6\n",
    "12\n",
    "```\n",
    "\n",
    "## 예제 출력\n",
    "\n",
    "```\n",
    "3\n",
    "16\n",
    "```\n",
    "\n",
    "## 알고리즘 분류\n",
    "\n",
    "- 수학\n",
    "- 다이나믹 프로그래밍"
   ]
  },
  {
   "cell_type": "markdown",
   "metadata": {},
   "source": [
    "----"
   ]
  },
  {
   "cell_type": "markdown",
   "metadata": {},
   "source": [
    "## 풀이 방법 2)\n",
    "\n",
    "\n",
    "### 문제 풀이 - 핵심 아이디어\n",
    "\n",
    "- 동적계획법으로 구한다.\n",
    "- 기본 점화식을 살펴봄\n",
    "\n",
    "### 알고리즘 구현\n",
    "\n",
    "- n=1일때,1가지\n",
    "- n=2일때,2가지\n",
    "- n=3일때,3가지\n",
    "- 동적 계획법으로 구한다.\n",
    "- 점화식을 살펴보면,\n",
    "    - dp[index + 3] = dp[index] + dp[index + 1]]라는 식이 생성된다.\n",
    "- 기본값을 dp[1]=1, dp[2]=2로 설정하였으니,\n",
    "- 반복설정은 range(3, dp의 길이만큼)까지로 설정한다.\n",
    "\n",
    "\n",
    "   "
   ]
  },
  {
   "cell_type": "markdown",
   "metadata": {},
   "source": [
    "### 풀이 코드 1)"
   ]
  },
  {
   "cell_type": "code",
   "execution_count": 4,
   "metadata": {},
   "outputs": [
    {
     "name": "stdout",
     "output_type": "stream",
     "text": [
      "4\n",
      "5\n"
     ]
    }
   ],
   "source": [
    "T=int(input())\n",
    "\n",
    "\n",
    "for _ in range(T):\n",
    "    n=int(input())\n",
    "    dp = [0] * 101\n",
    "    dp[1] = 1\n",
    "    dp[2] = 1\n",
    "    dp[3] = 1\n",
    "\n",
    "    for index in range(0, 98):\n",
    "        dp[index + 3] = dp[index] + dp[index + 1]\n",
    "    \n",
    "    print(dp[n])"
   ]
  }
 ],
 "metadata": {
  "kernelspec": {
   "display_name": "Python 3 (ipykernel)",
   "language": "python",
   "name": "python3"
  },
  "language_info": {
   "codemirror_mode": {
    "name": "ipython",
    "version": 3
   },
   "file_extension": ".py",
   "mimetype": "text/x-python",
   "name": "python",
   "nbconvert_exporter": "python",
   "pygments_lexer": "ipython3",
   "version": "3.9.7"
  }
 },
 "nbformat": 4,
 "nbformat_minor": 4
}
