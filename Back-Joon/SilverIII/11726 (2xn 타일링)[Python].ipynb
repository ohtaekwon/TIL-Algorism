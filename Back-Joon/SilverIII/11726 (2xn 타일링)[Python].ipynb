{
 "cells": [
  {
   "cell_type": "markdown",
   "metadata": {},
   "source": [
    "# [2Xn 타일링](https://www.acmicpc.net/problem/11726)\n",
    "\n",
    "<br/>\n",
    "<br/>\n",
    "\n",
    "## 문제\n",
    "\n",
    "2×n 크기의 직사각형을 1×2, 2×1 타일로 채우는 방법의 수를 구하는 프로그램을 작성하시오.\n",
    "\n",
    "아래 그림은 2×5 크기의 직사각형을 채운 한 가지 방법의 예이다.\n",
    "\n",
    "![](https://onlinejudgeimages.s3-ap-northeast-1.amazonaws.com/problem/11726/1.png)\n",
    "\n",
    "## 입력\n",
    "\n",
    "첫째 줄에 n이 주어진다. (1 ≤ n ≤ 1,000)\n",
    "\n",
    "\n",
    "\n",
    "\n",
    "## 출력\n",
    "\n",
    "첫째 줄에 2×n 크기의 직사각형을 채우는 방법의 수를 10,007로 나눈 나머지를 출력한다.\n",
    "\n",
    "\n",
    "\n",
    "\n",
    "## 예제 입력\n",
    "\n",
    "```\n",
    "2\n",
    "```\n",
    "\n",
    "## 예제 출력\n",
    "\n",
    "```\n",
    "2\n",
    "```\n",
    "\n",
    "## 알고리즘 분류\n",
    "\n",
    "- 다이나믹 프로그래밍"
   ]
  },
  {
   "cell_type": "markdown",
   "metadata": {},
   "source": [
    "----"
   ]
  },
  {
   "cell_type": "markdown",
   "metadata": {},
   "source": [
    "## 풀이 방법 2)\n",
    "\n",
    "\n",
    "### 문제 풀이 - 핵심 아이디어\n",
    "\n",
    "- 동적계획법으로 구한다.\n",
    "- 기본 점화식을 살펴봄\n",
    "\n",
    "### 알고리즘 구현\n",
    "\n",
    "- n=1일때,1가지\n",
    "- n=2일때,2가지\n",
    "- 동적 계획법으로 구한다.\n",
    "- 점화식을 살펴보면,\n",
    "    - dp[index]=dp[index-1]+dp[index-2]라는 식이 생성된다.\n",
    "- 기본값을 dp[1]=1, dp[2]=2로 설정하였으니,\n",
    "- 반복설정은 range(3, dp의 길이만큼)까지로 설정한다.\n",
    "\n",
    "\n",
    "   "
   ]
  },
  {
   "cell_type": "markdown",
   "metadata": {},
   "source": [
    "### 풀이 코드 1)"
   ]
  },
  {
   "cell_type": "code",
   "execution_count": 4,
   "metadata": {},
   "outputs": [
    {
     "name": "stdout",
     "output_type": "stream",
     "text": [
      "4\n",
      "5\n"
     ]
    }
   ],
   "source": [
    "dp=[0]*1001\n",
    "dp[0]=0\n",
    "dp[1]=1\n",
    "dp[2]=2\n",
    "\n",
    "for index in range(3,len(dp)):\n",
    "    dp[index]=dp[index-1]+dp[index-2]\n",
    "print(dp[int(input())]%10007)"
   ]
  }
 ],
 "metadata": {
  "kernelspec": {
   "display_name": "Python 3 (ipykernel)",
   "language": "python",
   "name": "python3"
  },
  "language_info": {
   "codemirror_mode": {
    "name": "ipython",
    "version": 3
   },
   "file_extension": ".py",
   "mimetype": "text/x-python",
   "name": "python",
   "nbconvert_exporter": "python",
   "pygments_lexer": "ipython3",
   "version": "3.9.7"
  }
 },
 "nbformat": 4,
 "nbformat_minor": 4
}
