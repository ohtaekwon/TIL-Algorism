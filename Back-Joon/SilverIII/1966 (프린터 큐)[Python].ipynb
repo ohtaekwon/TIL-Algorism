{
 "cells": [
  {
   "cell_type": "markdown",
   "metadata": {},
   "source": [
    "# [프린터 큐](https://www.acmicpc.net/problem/1966)\n",
    "\n",
    "<br/>\n",
    "<br/>\n",
    "\n",
    "## 문제\n",
    "\n",
    "여러분도 알다시피 여러분의 프린터 기기는 여러분이 인쇄하고자 하는 문서를 인쇄 명령을 받은 ‘순서대로’, 즉 먼저 요청된 것을 먼저 인쇄한다. 여러 개의 문서가 쌓인다면 Queue 자료구조에 쌓여서 FIFO - First In First Out - 에 따라 인쇄가 되게 된다. 하지만 상근이는 새로운 프린터기 내부 소프트웨어를 개발하였는데, 이 프린터기는 다음과 같은 조건에 따라 인쇄를 하게 된다.\n",
    "\n",
    "1. 현재 Queue의 가장 앞에 있는 문서의 ‘중요도’를 확인한다.\n",
    "2. 나머지 문서들 중 현재 문서보다 중요도가 높은 문서가 하나라도 있다면, 이 문서를 인쇄하지 않고 Queue의 가장 뒤에 재배치 한다. 그렇지 않다면 바로 인쇄를 한다.\n",
    "예를 들어 Queue에 4개의 문서(A B C D)가 있고, 중요도가 2 1 4 3 라면 C를 인쇄하고, 다음으로 D를 인쇄하고 A, B를 인쇄하게 된다.\n",
    "\n",
    "여러분이 할 일은, 현재 Queue에 있는 문서의 수와 중요도가 주어졌을 때, 어떤 한 문서가 몇 번째로 인쇄되는지 알아내는 것이다. 예를 들어 위의 예에서 C문서는 1번째로, A문서는 3번째로 인쇄되게 된다.\n",
    "\n",
    "## 입력\n",
    "\n",
    "첫 줄에 테스트케이스의 수가 주어진다. 각 테스트케이스는 두 줄로 이루어져 있다.\n",
    "\n",
    "테스트케이스의 첫 번째 줄에는 문서의 개수 N(1 ≤ N ≤ 100)과, 몇 번째로 인쇄되었는지 궁금한 문서가 현재 Queue에서 몇 번째에 놓여 있는지를 나타내는 정수 M(0 ≤ M < N)이 주어진다. 이때 맨 왼쪽은 0번째라고 하자. 두 번째 줄에는 N개 문서의 중요도가 차례대로 주어진다. 중요도는 1 이상 9 이하의 정수이고, 중요도가 같은 문서가 여러 개 있을 수도 있다.\n",
    "\n",
    "## 출력\n",
    "\n",
    "각 테스트 케이스에 대해 문서가 몇 번째로 인쇄되는지 출력한다.\n",
    "\n",
    "\n",
    "## 예제 입력\n",
    "\n",
    "```\n",
    "3\n",
    "1 0\n",
    "5\n",
    "4 2\n",
    "1 2 3 4\n",
    "6 0\n",
    "1 1 9 1 1 1\n",
    "```\n",
    "\n",
    "## 예제 출력\n",
    "\n",
    "```\n",
    "1\n",
    "2\n",
    "5\n",
    "```\n",
    "\n",
    "## 알고리즘 분류\n",
    "\n",
    "- 구현\n",
    "- 자료구조\n",
    "- 시뮬레이션\n",
    "- 큐"
   ]
  },
  {
   "cell_type": "markdown",
   "metadata": {},
   "source": [
    "----"
   ]
  },
  {
   "cell_type": "markdown",
   "metadata": {},
   "source": [
    "## 풀이 방법\n",
    "\n",
    "\n",
    "### 문제 풀이 - 핵심 아이디어\n",
    "\n",
    "- First In First Out\n",
    "- 문서의 중요도를 확인한다.\n",
    "- 현재 문서보다 중요도가 높은 문서가 있다면, 그 문서를 가장 뒤에 재배치\n",
    "- 그렇지 않다면 인쇄\n",
    "- 예를 들어 a,b,c,d에서 중요도가 2,1,4,3 이라면 c를 인쇄하고 다음으로 d, 다음으로, a, 다음으로 b를 차례로 인쇄한다.\n",
    "- 중요도는 1이상 9이하의 정수, 중요도가 같은 문서는 여러개 있을 수 있다.\n",
    "- 맨 왼쪽은 0부터 시작한다.\n",
    "\n",
    "### 알고리즘 구현\n",
    "\n",
    "- testcase의 수가 주어진다.\n",
    "- 해당 수에 맞게 문서의 개수(n)와 궁금한 문서(m)를 입력한다.\n",
    "    - 현재 queue에서 몇 번째 놓여 있는지를 나타내는 정수 m\n",
    "- 두번째 줄, n개 문서의 중요도\n",
    "- 왠지 딕셔너리로도 가능하지 않을까?\n",
    "    - key : 문서 , value : 중요도\n",
    "    \n",
    "   \n"
   ]
  },
  {
   "cell_type": "markdown",
   "metadata": {},
   "source": [
    "### 풀이 코드 1)"
   ]
  },
  {
   "cell_type": "code",
   "execution_count": null,
   "metadata": {},
   "outputs": [],
   "source": [
    "from queue import Queue\n",
    "que=Queue()\n",
    "\n",
    "cnt=0\n",
    "testcase=int(input())\n",
    "\n",
    "for _ in range(testcase):\n",
    "    n,m = map(int, input().split())\n",
    "    important=list(map(int, input().split()))\n",
    "    important_value=important[m]\n",
    "    for i in important[::-1]:\n",
    "        que.put(i)\n",
    "    \n",
    "    for i in important[::-1]:\n",
    "        \n",
    "    que.__init__()\n",
    "    print(cnt)\n",
    "    cnt=0\n",
    "       \n",
    "    \n",
    "    "
   ]
  },
  {
   "cell_type": "code",
   "execution_count": 23,
   "metadata": {},
   "outputs": [
    {
     "data": {
      "text/plain": [
       "1"
      ]
     },
     "execution_count": 23,
     "metadata": {},
     "output_type": "execute_result"
    }
   ],
   "source": [
    "\n",
    "    # 중복이 있을 때,\n",
    "    if important.count(important_value)>1:\n",
    "        for _ in range(important.count(iimportant_value)):\n",
    "            que.get()\n",
    "            cnt+=1\n"
   ]
  },
  {
   "cell_type": "markdown",
   "metadata": {},
   "source": [
    "## 풀이 방법 2\n",
    "\n",
    "\n",
    "### 문제 풀이 - 핵심 아이디어\n",
    "\n",
    "- 나머지 문서중 중요도가 가장 높은 순으로 출력이 된다.\n",
    "- 중요도 순으로 문서를 출력한다.\n",
    "- 그 문서가 몇번째로 출력이 되는지 알아본다.\n",
    "\n",
    "### 알고리즘 구현\n",
    "\n",
    "1. 데이터의 개수(N<=100)가 많지 않으므로, 단순히 문제에서 요구하는 대로 구현한다.\n",
    "2. 현재 리스트에서 가장 큰 수가 앞에 올 때까지 회진시킨 뒤에 추출한다.\n",
    "3. 가장 큰 수가 M이면서 가장 앞에 있을 때 프로그램을 종료한다.\n",
    "\n",
    "- 예를 들어서 [1,2,3,4]가 주어지고 보고자 하는 수가 index=2일 때,\n",
    "    - index=2 / count=0 / 가장 큰 수 = 4\n",
    "    - 1,2,`3`,4\n",
    "    - 2,`3`,4,1\n",
    "    - `3`,4,1,2\n",
    "    - 4,1,2,`3`\n",
    "    - 이제 가장 큰 수 4를 뽑는다.\n",
    "    - count=1\n",
    "    - 가장 큰 수 = 3\n",
    "    - 1, 2, `3`\n",
    "    - 2,`3`,1\n",
    "    - `3`,1,2\n",
    "    - 이제 가장 큰 수 `3`을 뽑는다.\n",
    "    - count=2\n",
    "    - 목표로 하는 M이 2번째로 추출되었으므로, 정답은 2이다.\n",
    "    \n",
    "    "
   ]
  },
  {
   "cell_type": "code",
   "execution_count": 6,
   "metadata": {},
   "outputs": [
    {
     "name": "stdout",
     "output_type": "stream",
     "text": [
      "3\n",
      "1 0\n",
      "5\n",
      "1\n",
      "4 2\n",
      "1 2 3 4\n",
      "2\n",
      "6 0\n",
      "1 1 9 1 1 1\n",
      "5\n"
     ]
    }
   ],
   "source": [
    "# 테스트 케이스 입력\n",
    "test_case=int(input())\n",
    "\n",
    "for _ in range(test_case):\n",
    "    n,m=list(map(int,input().split())) # n,m 입력\n",
    "    queue=list(map(int,input().split())) \n",
    "    queue=[(i,idx) for idx, i in enumerate(queue)] # 튜플 형태로 입력\n",
    "    \n",
    "    count=0\n",
    "    \n",
    "    while True:\n",
    "        # queue의 가장 앞쪽의 원소를 확인해서\n",
    "        # 그것의 중요도가 현재 queue의 가장 큰 중요도와 동일하다면,\n",
    "        if queue[0][0]==max(queue, key=lambda x:x[0])[0]:\n",
    "            count+=1 # count를 하나 추가하고\n",
    "            if queue[0][1]==m:# 그 뽑은 문서가 찾고자 하는 m이라면,\n",
    "                print(count) # 출력하고\n",
    "                break\n",
    "            else:\n",
    "                queue.pop(0) # 그렇지 않다면, 그냥 뽑고\n",
    "        else:\n",
    "            queue.append(queue.pop(0)) \n",
    "            # 그렇지 않고, 설정한 앞쪽의 문서가 전체 문서중 가장 중요도가 높은 문서가 아니라면\n",
    "            # 다시 뒤로 배치\n",
    "    "
   ]
  },
  {
   "cell_type": "code",
   "execution_count": null,
   "metadata": {},
   "outputs": [],
   "source": [
    "# 테스트 케이스 입력\n",
    "test_case=int(input())\n",
    "\n",
    "for _ in range(test_case):\n",
    "    n,m=list(map(int,input().split())) # n,m 입력\n",
    "    queue=list(map(int,input().split()))\n",
    "    queue=[(i,idx)for idx, i in enumerate(queue)] # 튜플 형태로 입력\n",
    "    cnt=0\n",
    "    \n",
    "    while True:\n",
    "        # queue[0][0] 은 제일 앞에 있는 문서\n",
    "        # max(queue,key=lambda x:x[0])[0]는 제일 중요도가 큰 문서\n",
    "        # 제일 앞에 있는 문서가 제일 중요도가 큰 문서라면,\n",
    "        if queue[0][0]==max(queue,key=lambda x:x[0])[0]:\n",
    "            cnt+=1 # 카운트 1 추가\n",
    "            \n",
    "            if queue[0][1]==m: # 제일 앞에 있는 문서의 인덱스가 m과 같다면,\n",
    "                print(count) \n",
    "                break # 실행 종료\n",
    "            else:\n",
    "                queue.pop(0) # 그렇지 않다면, 앞에 있는 문서는 그냥 뽑는다.\n",
    "        \n",
    "        \n",
    "        else: # 제일 앞에 있는 문서가 제일 중요도가 큰 문서가 아니라면,\n",
    "            queue.append(queue.pop(0)) # 그 문서를 맨 뒤로 옮긴다.\n",
    "            "
   ]
  },
  {
   "cell_type": "markdown",
   "metadata": {},
   "source": [
    "### max의 key 값\n",
    "\n",
    "[더 알아보기](https://velog.io/@kjy5947/python-max%ED%95%A8%EC%88%98%EC%9D%98-key%EB%B3%80%EC%88%98-%EC%82%AC%EC%9A%A9)\n",
    "\n",
    "- max에서 key를 사용하는 주된 목적은 index(key)와 value의 짝의 튜플 형태로 이루어진 리스트에서 key와 value 중에 어떤 것을 기준으로 max값을 구할지 선택하기 위한 목적으로 많이 활용된다.\n",
    "\n",
    "🔥 max의 key : 함수로 구현되어있고, lambda함수로 작성해도 상관없다.\n",
    "\n",
    "### 사용할 수 있는 함수의 형태\n",
    "\n",
    "#### 1. arr이 리스트라고 할때, str = max(arr,key = lambda x:x[1])"
   ]
  },
  {
   "cell_type": "code",
   "execution_count": 9,
   "metadata": {},
   "outputs": [
    {
     "name": "stdout",
     "output_type": "stream",
     "text": [
      "(3, 24)\n"
     ]
    }
   ],
   "source": [
    "arr = [(0,10),(1,14),(2,2),(3,24)]\n",
    "str = max(arr,key = lambda x:x[1]) \n",
    "print(str)"
   ]
  },
  {
   "cell_type": "markdown",
   "metadata": {},
   "source": [
    "- arr리스트의 각 원소가 순서대로 lambda함수의 입력x로 들어가고 \n",
    "- x[0]은 각 원소tuple의  첫번째값을 의미한다.\n",
    "- x[1]은 각원소tuple의 2번째값을 의미한다.\n",
    "- 예: 위 arr리스트에서 첫번째값인 (0,10)원소에서 x[0]=0 ,x[1]=10이 된다.\n",
    "    - 따라서, 이 예시에서 `x[1]이 제일 큰 원소를 찾겠다` 라는 의미이다.\n",
    "    - str에서는 24가 제일 크므로 (3,24)의 원소가 담긴다."
   ]
  },
  {
   "cell_type": "markdown",
   "metadata": {},
   "source": [
    "#### 2. str2 = max ((0,40),(1,20),(2,42),(3,100),key = lambda x:x[1])\n"
   ]
  },
  {
   "cell_type": "code",
   "execution_count": 10,
   "metadata": {},
   "outputs": [
    {
     "name": "stdout",
     "output_type": "stream",
     "text": [
      "(3, 100)\n"
     ]
    }
   ],
   "source": [
    "str2 = max ((0,40),(1,20),(2,42),(3,100),key = lambda x:x[1])\n",
    "print(str2)"
   ]
  },
  {
   "cell_type": "markdown",
   "metadata": {},
   "source": [
    "#### 3. str3 = max(4,100,120,50,11,key = lambda x:x)"
   ]
  },
  {
   "cell_type": "code",
   "execution_count": 11,
   "metadata": {},
   "outputs": [
    {
     "name": "stdout",
     "output_type": "stream",
     "text": [
      "120\n"
     ]
    }
   ],
   "source": [
    "str3 = max(4,100,120,50,11,key = lambda x:x)\n",
    "print(str3)"
   ]
  }
 ],
 "metadata": {
  "kernelspec": {
   "display_name": "Python 3 (ipykernel)",
   "language": "python",
   "name": "python3"
  },
  "language_info": {
   "codemirror_mode": {
    "name": "ipython",
    "version": 3
   },
   "file_extension": ".py",
   "mimetype": "text/x-python",
   "name": "python",
   "nbconvert_exporter": "python",
   "pygments_lexer": "ipython3",
   "version": "3.9.7"
  }
 },
 "nbformat": 4,
 "nbformat_minor": 4
}
