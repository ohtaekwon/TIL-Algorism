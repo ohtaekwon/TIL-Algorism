{
 "cells": [
  {
   "cell_type": "markdown",
   "metadata": {},
   "source": [
    "# [키로거](https://www.acmicpc.net/problem/5397)\n",
    "\n",
    "<br/>\n",
    "<br/>\n",
    "\n",
    "## 문제\n",
    "\n",
    "창영이는 강산이의 비밀번호를 훔치기 위해서 강산이가 사용하는 컴퓨터에 키로거를 설치했다. 며칠을 기다린 끝에 창영이는 강산이가 비밀번호 창에 입력하는 글자를 얻어냈다.\n",
    "\n",
    "키로거는 사용자가 키보드를 누른 명령을 모두 기록한다. 따라서, 강산이가 비밀번호를 입력할 때, 화살표나 백스페이스를 입력해도 정확한 비밀번호를 알아낼 수 있다. \n",
    "\n",
    "강산이가 비밀번호 창에서 입력한 키가 주어졌을 때, 강산이의 비밀번호를 알아내는 프로그램을 작성하시오. 강산이는 키보드로 입력한 키는 알파벳 대문자, 소문자, 숫자, 백스페이스, 화살표이다.\n",
    "\n",
    "## 입력\n",
    "\n",
    "첫째 줄에 테스트 케이스의 개수가 주어진다. 각 테스트 케이스는 한줄로 이루어져 있고, 강산이가 입력한 순서대로 길이가 L인 문자열이 주어진다. (1 ≤ L ≤ 1,000,000) 강산이가 백스페이스를 입력했다면, '-'가 주어진다. 이때 커서의 바로 앞에 글자가 존재한다면, 그 글자를 지운다. 화살표의 입력은 '<'와 '>'로 주어진다. 이때는 커서의 위치를 움직일 수 있다면, 왼쪽 또는 오른쪽으로 1만큼 움직인다. 나머지 문자는 비밀번호의 일부이다. 물론, 나중에 백스페이스를 통해서 지울 수는 있다. 만약 커서의 위치가 줄의 마지막이 아니라면, 커서 및 커서 오른쪽에 있는 모든 문자는 오른쪽으로 한 칸 이동한다.\n",
    "\n",
    "## 출력\n",
    "\n",
    "각 테스트 케이스에 대해서, 강산이의 비밀번호를 출력한다. 비밀번호의 길이는 항상 0보다 크다.\n",
    "\n",
    "\n",
    "\n",
    "## 예제 입력\n",
    "\n",
    "```\n",
    "2\n",
    "<<BP<A>>Cd-\n",
    "ThIsIsS3Cr3t\n",
    "```\n",
    "\n",
    "## 예제 출력\n",
    "\n",
    "```\n",
    "BAPC\n",
    "ThIsIsS3Cr3t\n",
    "```\n",
    "\n",
    "## 알고리즘 분류\n",
    "\n",
    "- 자료구조\n",
    "- 스택\n",
    "- 연결리스트"
   ]
  },
  {
   "cell_type": "markdown",
   "metadata": {},
   "source": [
    "----"
   ]
  },
  {
   "cell_type": "markdown",
   "metadata": {},
   "source": [
    "## 풀이 방법 1)\n",
    "\n",
    "\n",
    "### 문제 풀이 - 핵심 아이디어\n",
    "\n",
    "- 문자를 입력한다.\n",
    "- <와 >로 문자의 위치를 조정한다.\n",
    "- '-' 는 앞의 문자를 제거 \n",
    "- 커서를 기준으로 방향표와 `-`를 사용하므로, \n",
    "- 커서를 기준으로 왼쪽과 오른쪽으로 스택을 나눔\n",
    "    1. 문자열이 들어오면 왼쪽 스택에 붙이고\n",
    "    2. `>` 가 들어오면 오른쪽 스택의 마지막 값을 \n",
    "    3. `<` 가 들어오면 왼쪽 스택의 마지막 값을 오른쪽 스택에 붙이고\n",
    "    4. `-` 가 들어오면 왼쪽 스택의 마지막 값을 지운다.\n",
    "- 단, 화살표와 지우기 버튼이 유효한 조건이 있다. \n",
    "    - 유효한 경우는 `문자 + </> + 문자` 일 경우나 `문자+<` 혹은 `>+문자`\n",
    "    - delete버튼도 마찬가지 `문자 + -`인 경우에 유효하다.\n",
    "- 화살표나 지우기 버튼에 이웃한 문자열이 있어야 유효하기 때문이다.\n",
    "    - `>`는 오른쪽을 왼쪽에 붙이는 거니까 오른쪽의 스택이 있어야 하고\n",
    "    - `>`는 왼쪽을 오른쪽에 붙이는 거니까 왼쪽의 스택이 있어야하고\n",
    "    - `-`는 왼쪽의 스택의 마지막 값을 지우는 거니까 왼쪽의 스택 값이 있어야한다.\n",
    "- 마지막으로, 왼쪽 스택을 공백없이 붙이되, 오른쪽 스택은 `reversed`로 하고 붙인다.\n",
    "    - 오른쪽 스택에 붙일 때, 가장 맨 뒤에 붙여지는데 실제로 디해하는 건 커서 바로 뒤(오른쪽 스택 맨 앞)에 붙여지는 것\n",
    "    \n",
    "    \n",
    "### 알고리즘 구현\n"
   ]
  },
  {
   "cell_type": "markdown",
   "metadata": {},
   "source": [
    "### 풀이 코드 1)"
   ]
  },
  {
   "cell_type": "code",
   "execution_count": 13,
   "metadata": {},
   "outputs": [
    {
     "name": "stdout",
     "output_type": "stream",
     "text": [
      "2\n",
      "<<BP<A>>Cd-\n",
      "<<BP<AC\n",
      "ThIsIsS3Cr3t\n",
      "ThIsIsS3Cr3t\n"
     ]
    }
   ],
   "source": [
    "test_case=int(input())\n",
    "\n",
    "for _ in range(test_case):\n",
    "    left=[]\n",
    "    right=[]\n",
    "    pwd=input()\n",
    "    \n",
    "    for x in pwd:\n",
    "        if x=='>':\n",
    "            if right:\n",
    "                left.append(right.pop())\n",
    "        elif x=='>':\n",
    "            if left:\n",
    "                right.append(left.pop())\n",
    "        elif x=='-':\n",
    "            if left:\n",
    "                left.pop()\n",
    "        else:\n",
    "            left.append(x)\n",
    "            \n",
    "    print(''.join(left)+''.join(reversed(right)))"
   ]
  },
  {
   "cell_type": "markdown",
   "metadata": {},
   "source": [
    "## 풀이 방법 2)\n",
    "\n",
    "\n",
    "### 문제 풀이 - 핵심 아이디어\n",
    "\n",
    "1. 문자열 크기가 최대 1,000,000이므로 시뮬레이션 방식으로는 문제를 해결할 수 없다.\n",
    "    - 즉, 단순하게 문제가 요구하는대로만 구하면 해결할 수 없다.\n",
    "    - 적절한 알고리즘을 설계해야한다.\n",
    "2. 스택을 활용하여 선형시간 문제를 해결할 수 있는 알고리즘을 설계한다.\n",
    "    - $O$($n$)\n",
    "\n",
    "- 1) 스택 두 개를 만들고, 스택 두 개의 중간 지점을 커서(Cursor)로 간주한다.  \n",
    "    -  커서를 두 스택의 중간에 위치\n",
    "    - `왼쪽 스택` `[커서]` `오른쪽 스택`\n",
    "\n",
    "- 2) 문자 입력 : 왼쪽 스택에 원소를 삽입한다.\n",
    "- 3) - 입력 : 왼쪽 스택에서 원소를 삭제한다.\n",
    "- 4) < 입력 : 왼쪽 스택에서 오른쪽 스택으로 원소를 이동한다.\n",
    "- 5) > 입력 : 오른쪽 스택에서 왼쪽 스택으로 원소를 이동한다.\n",
    "\n",
    "### 알고리즘 구현\n",
    "\n",
    "\n",
    "\n",
    "   "
   ]
  },
  {
   "cell_type": "code",
   "execution_count": 12,
   "metadata": {},
   "outputs": [
    {
     "name": "stdout",
     "output_type": "stream",
     "text": [
      "2\n",
      "<<BP<A>>Cd-\n",
      "BAPC\n",
      "ThIsIsS3Cr3t\n",
      "ThIsIsS3Cr3t\n"
     ]
    }
   ],
   "source": [
    "test_case=int(input())\n",
    "\n",
    "for _ in range(test_case):\n",
    "    left_stack=[]\n",
    "    right_stack=[]\n",
    "    data=input()\n",
    "    \n",
    "    for i in data:\n",
    "        if i == '-':\n",
    "            if left_stack:\n",
    "                left_stack.pop()\n",
    "        elif i == '<':\n",
    "            if left_stack:\n",
    "                right_stack.append(left_stack.pop())\n",
    "        elif i == '>':\n",
    "            if right_stack:\n",
    "                left_stack.append(right_stack.pop())\n",
    "        else:\n",
    "            left_stack.append(i)\n",
    "    \n",
    "    left_stack.extend(reversed(right_stack))\n",
    "    print(''.join(left_stack))"
   ]
  }
 ],
 "metadata": {
  "kernelspec": {
   "display_name": "Python 3 (ipykernel)",
   "language": "python",
   "name": "python3"
  },
  "language_info": {
   "codemirror_mode": {
    "name": "ipython",
    "version": 3
   },
   "file_extension": ".py",
   "mimetype": "text/x-python",
   "name": "python",
   "nbconvert_exporter": "python",
   "pygments_lexer": "ipython3",
   "version": "3.9.7"
  }
 },
 "nbformat": 4,
 "nbformat_minor": 4
}
