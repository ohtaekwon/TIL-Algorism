{
 "cells": [
  {
   "cell_type": "markdown",
   "metadata": {},
   "source": [
    "# [스택 수열](https://www.acmicpc.net/problem/1874)\n",
    "\n",
    "<br/>\n",
    "<br/>\n",
    "\n",
    "## 문제\n",
    "\n",
    "스택 (stack)은 기본적인 자료구조 중 하나로, 컴퓨터 프로그램을 작성할 때 자주 이용되는 개념이다. 스택은 자료를 넣는 (push) 입구와 자료를 뽑는 (pop) 입구가 같아 제일 나중에 들어간 자료가 제일 먼저 나오는 (LIFO, Last in First out) 특성을 가지고 있다.\n",
    "\n",
    "1부터 n까지의 수를 스택에 넣었다가 뽑아 늘어놓음으로써, 하나의 수열을 만들 수 있다. 이때, 스택에 push하는 순서는 반드시 오름차순을 지키도록 한다고 하자. 임의의 수열이 주어졌을 때 스택을 이용해 그 수열을 만들 수 있는지 없는지, 있다면 어떤 순서로 push와 pop 연산을 수행해야 하는지를 알아낼 수 있다. 이를 계산하는 프로그램을 작성하라.\n",
    "\n",
    "## 입력\n",
    "\n",
    "첫 줄에 n (1 ≤ n ≤ 100,000)이 주어진다. 둘째 줄부터 n개의 줄에는 수열을 이루는 1이상 n이하의 정수가 하나씩 순서대로 주어진다. 물론 같은 정수가 두 번 나오는 일은 없다.\n",
    "\n",
    "## 출력\n",
    "\n",
    "입력된 수열을 만들기 위해 필요한 연산을 한 줄에 한 개씩 출력한다. push연산은 +로, pop 연산은 -로 표현하도록 한다. 불가능한 경우 NO를 출력한다.\n",
    "\n",
    "## 예제 입력\n",
    "\n",
    "```\n",
    "8\n",
    "4\n",
    "3\n",
    "6\n",
    "8\n",
    "7\n",
    "5\n",
    "2\n",
    "1\n",
    "```\n",
    "\n",
    "## 예제 출력\n",
    "\n",
    "```\n",
    "+\n",
    "+\n",
    "+\n",
    "+\n",
    "-\n",
    "-\n",
    "+\n",
    "+\n",
    "-\n",
    "+\n",
    "+\n",
    "-\n",
    "-\n",
    "-\n",
    "-\n",
    "-\n",
    "```\n",
    "\n",
    "## 알고리즘 분류\n",
    "\n",
    "- 자료구조\n",
    "- 스택\n",
    "- 그리디"
   ]
  },
  {
   "cell_type": "markdown",
   "metadata": {},
   "source": [
    "----"
   ]
  },
  {
   "cell_type": "markdown",
   "metadata": {},
   "source": [
    "## 풀이 방법\n",
    "\n",
    "\n",
    "### 문제 풀이 - 핵심 아이디어\n",
    "\n",
    "- 스택에 원소를 삽입할 때는, 단순히 특정 수에 도달할 떄까지 삽입하면 된다.\n",
    "- 스택에서 원소를 연달라 빼낼 때 `내림차순`을 유지할 수 있는지 확인한다.\n"
   ]
  },
  {
   "cell_type": "markdown",
   "metadata": {},
   "source": [
    "### 풀이 코드 1)"
   ]
  },
  {
   "cell_type": "code",
   "execution_count": 1,
   "metadata": {},
   "outputs": [
    {
     "name": "stdout",
     "output_type": "stream",
     "text": [
      "8\n",
      "4\n",
      "3\n",
      "6\n",
      "8\n",
      "7\n",
      "5\n",
      "2\n",
      "1\n",
      "+\n",
      "+\n",
      "+\n",
      "+\n",
      "-\n",
      "-\n",
      "+\n",
      "+\n",
      "-\n",
      "+\n",
      "+\n",
      "-\n",
      "-\n",
      "-\n",
      "-\n",
      "-\n"
     ]
    }
   ],
   "source": [
    "n = int(input())\n",
    "stack = []\n",
    "answer = []\n",
    "flag = 0\n",
    "cur = 1\n",
    "for i in range(n):\n",
    "    num = int(input())\n",
    "    while cur <= num:       # 입력한 수를 만날 때 까지 오름차순으로 push\n",
    "        stack.append(cur)\n",
    "        answer.append(\"+\")\n",
    "        cur += 1\n",
    "    # 입력한 수를 만나면 while문 탈출. 즉 cur = num일 때 까지 while문을 돌아 스택을 쌓는다.\n",
    "\n",
    "    if stack[-1] == num:    # stack의 TOP이 입력한 숫자와 같다면\n",
    "        stack.pop()         # 스택의 TOP을 꺼내 수열을 만들어 준다.\n",
    "        answer.append(\"-\")\n",
    "    else:                   # stack의 TOP이 입력한 수가 아니면 주어진 스택을 만들 수 없다.\n",
    "        print(\"NO\")         # 왜냐하면 12345 처럼 오름차순으로 스택이 입력되는데\n",
    "        flag = 1            # TOP이 num보다 크면 num은 TOP보다 더 아래에 쌓여있기 때문이다.\n",
    "        break               \n",
    "\n",
    "if flag == 0:\n",
    "    for i in answer:\n",
    "        print(i)"
   ]
  },
  {
   "cell_type": "markdown",
   "metadata": {},
   "source": [
    "### 풀이 코드 2)\n",
    "\n",
    "- exit(0)를 사용\n",
    "    - exit(0)는 오류 / 문제없이 깨끗한 출구를 의미한다.\n",
    "- exit(1)은 문제 / 오류 / 문제가 있음을 의미하므로 프로그램이 종료된다.\n",
    "- 즉, 프로그램을 정상적으로 종료시키고 싶을 때, `exit(0)`을 쓰고,\n",
    "- 프로그램을 비정상적으로라도, 강제적으로 종료시키고 싶을 때,`exit(1)`을 쓴다."
   ]
  },
  {
   "cell_type": "code",
   "execution_count": 2,
   "metadata": {},
   "outputs": [
    {
     "name": "stdout",
     "output_type": "stream",
     "text": [
      "8\n",
      "4\n",
      "3\n",
      "6\n",
      "8\n",
      "7\n",
      "5\n",
      "2\n",
      "1\n",
      "+\n",
      "+\n",
      "+\n",
      "+\n",
      "-\n",
      "-\n",
      "+\n",
      "+\n",
      "-\n",
      "+\n",
      "+\n",
      "-\n",
      "-\n",
      "-\n",
      "-\n",
      "-\n"
     ]
    }
   ],
   "source": [
    "n=int(input())\n",
    "\n",
    "count=1\n",
    "stack=[]\n",
    "result=[]\n",
    "\n",
    "for i in range(1,n+1): # 데이터 개수만큼 반복\n",
    "    data=int(input())\n",
    "    while count<=data: # 입력 받은 데이터에 도달할 때까지 삽입\n",
    "        stack.append(count)\n",
    "        count+=1\n",
    "        result.append(\"+\")\n",
    "    if stack[-1] == data: # 스택의 최상위 원소가 데이터와 같을 때 빼야 한다.\n",
    "        stack.pop()\n",
    "        result.append(\"-\")\n",
    "    else : # 최상위 원소가 data와 같지 않을 경우 뺄 수 없으므로,\n",
    "        print(\"NO\")\n",
    "        exit(0) # 프로그램을 종료\n",
    "        \n",
    "print('\\n'.join(result)) # 가능한 경우 한 줄씩 출력"
   ]
  }
 ],
 "metadata": {
  "kernelspec": {
   "display_name": "Python 3 (ipykernel)",
   "language": "python",
   "name": "python3"
  },
  "language_info": {
   "codemirror_mode": {
    "name": "ipython",
    "version": 3
   },
   "file_extension": ".py",
   "mimetype": "text/x-python",
   "name": "python",
   "nbconvert_exporter": "python",
   "pygments_lexer": "ipython3",
   "version": "3.9.7"
  }
 },
 "nbformat": 4,
 "nbformat_minor": 4
}
