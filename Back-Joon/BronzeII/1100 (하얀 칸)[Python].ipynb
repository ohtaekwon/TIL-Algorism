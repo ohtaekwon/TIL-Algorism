{
 "cells": [
  {
   "cell_type": "markdown",
   "metadata": {},
   "source": [
    "# 하얀 칸\n",
    "\n",
    "\n",
    "<br>\n",
    "<br>\n",
    "\n",
    "## 문제\n",
    "\n",
    "---\n",
    "\n",
    "체스판은 8×8크기이고, 검정 칸과 하얀 칸이 번갈아가면서 색칠되어 있다. 가장 왼쪽 위칸 (0,0)은 하얀색이다. 체스판의 상태가 주어졌을 때, 하얀 칸 위에 말이 몇 개 있는지 출력하는 프로그램을 작성하시오."
   ]
  },
  {
   "cell_type": "markdown",
   "metadata": {},
   "source": [
    "### 입력\n",
    "\n",
    "---\n",
    "첫째 줄부터 8개의 줄에 체스판의 상태가 주어진다. ‘.’은 빈 칸이고, ‘F’는 위에 말이 있는 칸이다.\n",
    "\n",
    "\n",
    "### 출력\n",
    "---\n",
    "첫째 줄에 문제의 정답을 출력한다."
   ]
  },
  {
   "cell_type": "markdown",
   "metadata": {},
   "source": [
    "----"
   ]
  },
  {
   "cell_type": "markdown",
   "metadata": {},
   "source": [
    "### 예제 입력1\n",
    "\n",
    "```\n",
    ".F.F...F\n",
    "F...F.F.\n",
    "...F.F.F\n",
    "F.F...F.\n",
    ".F...F..\n",
    "F...F.F.\n",
    ".F.F.F.F\n",
    "..FF..F.\n",
    "```\n",
    "\n",
    "### 예제 출력1\n",
    "\n",
    "```\n",
    "1\n",
    "```"
   ]
  },
  {
   "cell_type": "markdown",
   "metadata": {},
   "source": [
    "### 예제 입력2\n",
    "\n",
    "```\n",
    "........\n",
    "........\n",
    "........\n",
    "........\n",
    "........\n",
    "........\n",
    "........\n",
    "........\n",
    "```\n",
    "\n",
    "### 예제 출력2\n",
    "\n",
    "```\n",
    "0\n",
    "```"
   ]
  },
  {
   "cell_type": "markdown",
   "metadata": {},
   "source": [
    "### 예제 입력3\n",
    "\n",
    "```\n",
    "FFFFFFFF\n",
    "FFFFFFFF\n",
    "FFFFFFFF\n",
    "FFFFFFFF\n",
    "FFFFFFFF\n",
    "FFFFFFFF\n",
    "FFFFFFFF\n",
    "FFFFFFFF\n",
    "```\n",
    "\n",
    "### 예제 출력3\n",
    "\n",
    "```\n",
    "32\n",
    "```"
   ]
  },
  {
   "cell_type": "markdown",
   "metadata": {},
   "source": [
    "### 예제 입력4\n",
    "\n",
    "```\n",
    "........\n",
    "..F.....\n",
    ".....F..\n",
    ".....F..\n",
    "........\n",
    "........\n",
    ".......F\n",
    ".F......\n",
    "```\n",
    "\n",
    "### 예제 출력4\n",
    "\n",
    "```\n",
    "2\n",
    "```"
   ]
  },
  {
   "cell_type": "markdown",
   "metadata": {},
   "source": [
    "### 풀이"
   ]
  },
  {
   "cell_type": "markdown",
   "metadata": {},
   "source": [
    "### 답1) 한 줄씩 출력"
   ]
  },
  {
   "cell_type": "code",
   "execution_count": 251,
   "metadata": {},
   "outputs": [
    {
     "name": "stdout",
     "output_type": "stream",
     "text": [
      ".F.F...F\n",
      "F...F.F.\n",
      "...F.F.F\n",
      "F.F...F.\n",
      ".F...F..\n",
      "F...F.F.\n",
      ".F.F.F.F\n",
      "..FF..F.\n"
     ]
    }
   ],
   "source": [
    "chess=[]\n",
    "cnt=0\n",
    "\n",
    "for _ in range(8):\n",
    "    chess.append(input())"
   ]
  },
  {
   "cell_type": "code",
   "execution_count": 254,
   "metadata": {},
   "outputs": [
    {
     "data": {
      "text/plain": [
       "8"
      ]
     },
     "execution_count": 254,
     "metadata": {},
     "output_type": "execute_result"
    }
   ],
   "source": [
    "len(chess)"
   ]
  },
  {
   "cell_type": "code",
   "execution_count": 255,
   "metadata": {},
   "outputs": [
    {
     "data": {
      "text/plain": [
       "list"
      ]
     },
     "execution_count": 255,
     "metadata": {},
     "output_type": "execute_result"
    }
   ],
   "source": [
    "type(chess)"
   ]
  },
  {
   "cell_type": "code",
   "execution_count": 248,
   "metadata": {},
   "outputs": [
    {
     "name": "stdout",
     "output_type": "stream",
     "text": [
      ".F.F...F\n",
      "F...F.F.\n",
      "...F.F.F\n",
      "F.F...F.\n",
      "F.F...F.\n",
      "F...F.F.\n",
      ".F.F.F.F\n",
      ".F.F.F.F\n",
      "7\n"
     ]
    }
   ],
   "source": [
    "chess=[]\n",
    "cnt=0\n",
    "\n",
    "for _ in range(8):\n",
    "    chess.append(input())\n",
    "    \n",
    "for i in range(8):\n",
    "    for j in range(8):\n",
    "        if i%2==1 and j%2==1 and chess[i][j] ==\"F\":\n",
    "            cnt+=1\n",
    "        if i % 2 == 0 and j%2 == 0 and chess[i][j] ==\"F\":\n",
    "            cnt+=1\n",
    "            \n",
    "print(cnt)"
   ]
  },
  {
   "cell_type": "markdown",
   "metadata": {},
   "source": [
    "### 답2) 한 번에 출력"
   ]
  },
  {
   "cell_type": "code",
   "execution_count": 249,
   "metadata": {},
   "outputs": [
    {
     "name": "stdout",
     "output_type": "stream",
     "text": [
      ".F.F...F F...F.F. ...F.F.F F.F...F. .F...F.. F...F.F. .F.F.F.F ..FF..F.\n",
      "1\n"
     ]
    }
   ],
   "source": [
    "#chess=input()\n",
    "\n",
    "n=input()\n",
    "chess=[]\n",
    "\n",
    "for i in n:\n",
    "    chess.append(i)\n",
    "\n",
    "new_chess=chess[::2]\n",
    "cnt=0\n",
    "\n",
    "for item in new_chess:\n",
    "    if item=='F':\n",
    "        cnt+=1\n",
    "print(cnt)"
   ]
  },
  {
   "cell_type": "markdown",
   "metadata": {},
   "source": [
    "### 연습"
   ]
  },
  {
   "cell_type": "code",
   "execution_count": 245,
   "metadata": {},
   "outputs": [
    {
     "name": "stdout",
     "output_type": "stream",
     "text": [
      "0 0  =  white\n",
      "1 0  =  black\n",
      "2 0  =  white\n",
      "3 0  =  black\n",
      "4 0  =  white\n",
      "5 0  =  black\n",
      "6 0  =  white\n",
      "7 0  =  black\n",
      "0 1  =  black\n",
      "1 1  =  white\n",
      "2 1  =  black\n",
      "3 1  =  white\n",
      "4 1  =  black\n",
      "5 1  =  white\n",
      "6 1  =  black\n",
      "7 1  =  white\n",
      "0 2  =  white\n",
      "1 2  =  black\n",
      "2 2  =  white\n",
      "3 2  =  black\n",
      "4 2  =  white\n",
      "5 2  =  black\n",
      "6 2  =  white\n",
      "7 2  =  black\n",
      "0 3  =  black\n",
      "1 3  =  white\n",
      "2 3  =  black\n",
      "3 3  =  white\n",
      "4 3  =  black\n",
      "5 3  =  white\n",
      "6 3  =  black\n",
      "7 3  =  white\n",
      "0 4  =  white\n",
      "1 4  =  black\n",
      "2 4  =  white\n",
      "3 4  =  black\n",
      "4 4  =  white\n",
      "5 4  =  black\n",
      "6 4  =  white\n",
      "7 4  =  black\n",
      "0 5  =  black\n",
      "1 5  =  white\n",
      "2 5  =  black\n",
      "3 5  =  white\n",
      "4 5  =  black\n",
      "5 5  =  white\n",
      "6 5  =  black\n",
      "7 5  =  white\n",
      "0 6  =  white\n",
      "1 6  =  black\n",
      "2 6  =  white\n",
      "3 6  =  black\n",
      "4 6  =  white\n",
      "5 6  =  black\n",
      "6 6  =  white\n",
      "7 6  =  black\n",
      "0 7  =  black\n",
      "1 7  =  white\n",
      "2 7  =  black\n",
      "3 7  =  white\n",
      "4 7  =  black\n",
      "5 7  =  white\n",
      "6 7  =  black\n",
      "7 7  =  white\n"
     ]
    }
   ],
   "source": [
    "x=[0,1,2,3,4,5,6,7]\n",
    "y=[0,1,2,3,4,5,6,7]\n",
    "\n",
    "for i in x:\n",
    "    for j in y:\n",
    "        if (i+j)%2==0:\n",
    "            print(j,i , \" = \", \"white\")\n",
    "        else:\n",
    "            print(j,i , \" = \", \"black\")"
   ]
  }
 ],
 "metadata": {
  "kernelspec": {
   "display_name": "Python 3",
   "language": "python",
   "name": "python3"
  },
  "language_info": {
   "codemirror_mode": {
    "name": "ipython",
    "version": 3
   },
   "file_extension": ".py",
   "mimetype": "text/x-python",
   "name": "python",
   "nbconvert_exporter": "python",
   "pygments_lexer": "ipython3",
   "version": "3.8.3"
  }
 },
 "nbformat": 4,
 "nbformat_minor": 4
}
