{
 "cells": [
  {
   "cell_type": "markdown",
   "metadata": {},
   "source": [
    "# [블랙잭](https://www.acmicpc.net/problem/2798)\n",
    "\n",
    "<br/>\n",
    "<br/>\n",
    "\n",
    "## 문제\n",
    "\n",
    "카지노에서 제일 인기 있는 게임 블랙잭의 규칙은 상당히 쉽다. 카드의 합이 21을 넘지 않는 한도 내에서, 카드의 합을 최대한 크게 만드는 게임이다. 블랙잭은 카지노마다 다양한 규정이 있다.\n",
    "\n",
    "한국 최고의 블랙잭 고수 김정인은 새로운 블랙잭 규칙을 만들어 상근, 창영이와 게임하려고 한다.\n",
    "\n",
    "김정인 버전의 블랙잭에서 각 카드에는 양의 정수가 쓰여 있다. 그 다음, 딜러는 N장의 카드를 모두 숫자가 보이도록 바닥에 놓는다. 그런 후에 딜러는 숫자 M을 크게 외친다.\n",
    "\n",
    "이제 플레이어는 제한된 시간 안에 N장의 카드 중에서 3장의 카드를 골라야 한다. 블랙잭 변형 게임이기 때문에, 플레이어가 고른 카드의 합은 M을 넘지 않으면서 M과 최대한 가깝게 만들어야 한다.\n",
    "\n",
    "N장의 카드에 써져 있는 숫자가 주어졌을 때, M을 넘지 않으면서 M에 최대한 가까운 카드 3장의 합을 구해 출력하시오.\n",
    "\n",
    "## 입력\n",
    "\n",
    "첫째 줄에 카드의 개수 N(3 ≤ N ≤ 100)과 M(10 ≤ M ≤ 300,000)이 주어진다. 둘째 줄에는 카드에 쓰여 있는 수가 주어지며, 이 값은 100,000을 넘지 않는 양의 정수이다.\n",
    "\n",
    "합이 M을 넘지 않는 카드 3장을 찾을 수 있는 경우만 입력으로 주어진다.\n",
    "\n",
    "## 출력\n",
    "\n",
    "첫째 줄에 M을 넘지 않으면서 M에 최대한 가까운 카드 3장의 합을 출력한다.\n",
    "\n",
    "## 예제 입력\n",
    "\n",
    "```\n",
    "5 21\n",
    "5 6 7 8 9\n",
    "```\n",
    "\n",
    "## 예제 출력\n",
    "\n",
    "```\n",
    "21\n",
    "```\n",
    "\n",
    "## 알고리즘 분류\n",
    "\n",
    "- 브루트포스 알고리즘"
   ]
  },
  {
   "cell_type": "markdown",
   "metadata": {},
   "source": [
    "----"
   ]
  },
  {
   "cell_type": "markdown",
   "metadata": {},
   "source": [
    "## 풀이 방법\n",
    "\n",
    "### 제한 사항\n",
    "\n",
    "-  N(3 ≤ N ≤ 100)\n",
    "- M(10 ≤ M ≤ 300,000)\n",
    "- 세장의 카드 합이 m을 넘지 않아야 한다.\n",
    "\n",
    "### 문제 풀이 핵심 아이디어\n",
    "\n",
    "- 1. 카드 중 3개씩 뽑는 모든 경우의 수는 $n$ $C$$~$3 이며, n은 최대 100이다.\n",
    "    - 즉, 전체 경우의 수를 전부 고려해도 1000000이라 하더라도\n",
    "    - 컴퓨터가 충분히 계산이 가능하다.\n",
    "    - 따라서, 완전탐색으로 문제를 풀어도 가능하다.\n",
    "- 2. 따라서, 단순히 3중 반복문으로 모든 경우의 수를 확인하여 문제를 해결할 수 있다. \n",
    "\n"
   ]
  },
  {
   "cell_type": "markdown",
   "metadata": {},
   "source": [
    "### 풀이1)"
   ]
  },
  {
   "cell_type": "code",
   "execution_count": null,
   "metadata": {},
   "outputs": [],
   "source": [
    "n,m = map(int,input().split())\n",
    "data=list(map(int,input().split()))\n",
    "\n",
    "result=0\n",
    "length=len(data)\n",
    "\n",
    "# 3중 반복문으로 다 뽑아서 비교한다.\n",
    "for i in range(0,length): # 첫 번째 카드\n",
    "    for j in range(i+1,length):# 첫 번째 카드를 제외한 두 번째 카드\n",
    "        for k in range(j+1, length): # 첫 번째, 두 번쨰를 제외한 카드\n",
    "            sum_value=data[i]+data[j]+data[k] # 그 합을 구한다.\n",
    "            if sum_value<=m: # 합이 m보다 작을때\n",
    "                result=max(result,sum_value) # 세 수의 합 중 가장 큰 값이 담긴다.\n",
    "print(result)"
   ]
  }
 ],
 "metadata": {
  "kernelspec": {
   "display_name": "Python 3 (ipykernel)",
   "language": "python",
   "name": "python3"
  },
  "language_info": {
   "codemirror_mode": {
    "name": "ipython",
    "version": 3
   },
   "file_extension": ".py",
   "mimetype": "text/x-python",
   "name": "python",
   "nbconvert_exporter": "python",
   "pygments_lexer": "ipython3",
   "version": "3.9.7"
  }
 },
 "nbformat": 4,
 "nbformat_minor": 4
}
