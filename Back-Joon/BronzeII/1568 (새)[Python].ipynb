{
 "cells": [
  {
   "cell_type": "markdown",
   "metadata": {},
   "source": [
    "# 책 정리\n",
    "\n",
    "\n",
    "\n",
    "<br>\n",
    "<br>\n",
    "\n",
    "## 문제\n",
    "\n",
    "---\n",
    "\n",
    "N마리의 새가 나무에 앉아있고, 자연수를 배우기 원한다. 새들은 1부터 모든 자연수를 오름차순으로 노래한다. 어떤 숫자 K를 노래할 때, K마리의 새가 나무에서 하늘을 향해 날아간다. 만약, 현재 나무에 앉아있는 새의 수가 지금 불러야 하는 수 보다 작을 때는, 1부터 게임을 다시 시작한다.\n",
    "\n",
    "나무에 앉아 있는 새의 수 N이 주어질 때, 하나의 수를 노래하는데 1초가 걸린다고 하면, 모든 새가 날아가기까지 총 몇 초가 걸리는지 출력하는 프로그램을 작성하시오."
   ]
  },
  {
   "cell_type": "markdown",
   "metadata": {},
   "source": [
    "### 입력\n",
    "\n",
    "---\n",
    "첫째 줄에 새의 수 N이 주어진다. 이 값은 109보다 작거나 같은 자연수이다.\n",
    "\n",
    "\n",
    "<br>\n",
    "\n",
    "### 출력\n",
    "---\n",
    "\n",
    "첫째 줄에 정답을 출력한다.\n",
    "\n"
   ]
  },
  {
   "cell_type": "markdown",
   "metadata": {},
   "source": [
    "----"
   ]
  },
  {
   "cell_type": "markdown",
   "metadata": {},
   "source": [
    "### 예제 입력1\n",
    "\n",
    "```\n",
    "14\n",
    "```\n",
    "\n",
    "### 예제 출력1\n",
    "\n",
    "```\n",
    "7\n",
    "```\n",
    "\n"
   ]
  },
  {
   "cell_type": "markdown",
   "metadata": {},
   "source": [
    "### 풀이 1)\n",
    "\n",
    "#### Intuition\n",
    "N이 10억으로 꽤 크지만 문제에서 요구하는 대로 구현하면 된다. 반복을 할 건데 N이 0보다 클 동안 반복하고, 자연수 K는 하나씩 증가하고, N에서는 자연수 K를 뺀 값을 저장한다. 그리고 만약 N이 K보다 작아지면 다시 K를 1로 세팅한다.\n",
    "\n",
    "#### Solution\n",
    "\n",
    "1. `n`을 인풋으로 받고\n",
    "2. `result`와 자연수 `k`를 초기화\n",
    "3. `n>0`일 동안 `n`은 `k`를 빼주고, `k`는 1씩 증가하고, `result`는 1씩 더해준다 (`result`는 여기서 반복 횟수)\n",
    "4. 만약 `n<k`라면 다시 `k`를 1로 초기화해준다.\n",
    "5. `result` 출력"
   ]
  },
  {
   "cell_type": "code",
   "execution_count": 1,
   "metadata": {},
   "outputs": [
    {
     "name": "stdout",
     "output_type": "stream",
     "text": [
      "14\n"
     ]
    }
   ],
   "source": [
    "n=int(input())"
   ]
  },
  {
   "cell_type": "code",
   "execution_count": null,
   "metadata": {},
   "outputs": [],
   "source": [
    "result=0\n",
    "k=1\n",
    "\n",
    "while n>0:\n",
    "    if n<k:\n",
    "        k=1\n",
    "    n-=k\n",
    "    k+=1\n",
    "    result+=1\n",
    "print(result)"
   ]
  },
  {
   "cell_type": "markdown",
   "metadata": {},
   "source": [
    "### 풀이 2)"
   ]
  },
  {
   "cell_type": "code",
   "execution_count": null,
   "metadata": {},
   "outputs": [],
   "source": [
    "# 박스의 개수(n), 책의 개수(m)\n",
    "n,m = map(int, input().split())\n",
    "\n",
    "# 박스의 용량(a), 책의 크기(b)\n",
    "a=list(input().split())\n",
    "b=list(input().split())\n",
    "\n",
    "# for문을 활용하여 A,B 변수안에 a와 b의 합을 구한다.   \n",
    "A=0\n",
    "for num in a:\n",
    "    A+=int(num)\n",
    "B=0\n",
    "for num in b:\n",
    "    B+=int(num)\n",
    "\n",
    "# a,b의 합의 차\n",
    "print(abs(A-B))"
   ]
  },
  {
   "cell_type": "markdown",
   "metadata": {},
   "source": [
    "### 풀이 3)\n",
    "\n",
    "그리디 알고리즘 문제이다.\n",
    "\n",
    "박스 용량의 합에 박스에 들어간 책 크기의 합을 빼두면 된다.\n",
    "\n",
    "`sum(box)` - `in_box`"
   ]
  },
  {
   "cell_type": "code",
   "execution_count": null,
   "metadata": {},
   "outputs": [],
   "source": [
    "N, M = map(int, input().split())\n",
    "box = list(map(int, input().split()))\n",
    "book = list(map(int, input().split()))\n",
    "i = j = t = in_box = 0\n",
    "while i < N and j < M:\n",
    "    if box[i] < t+book[j]:\n",
    "        t = 0\n",
    "        i += 1\n",
    "    else:\n",
    "        in_box += book[j]\n",
    "        t += book[j]\n",
    "        j += 1\n",
    "print(sum(box)-in_box)    "
   ]
  }
 ],
 "metadata": {
  "kernelspec": {
   "display_name": "Python 3",
   "language": "python",
   "name": "python3"
  },
  "language_info": {
   "codemirror_mode": {
    "name": "ipython",
    "version": 3
   },
   "file_extension": ".py",
   "mimetype": "text/x-python",
   "name": "python",
   "nbconvert_exporter": "python",
   "pygments_lexer": "ipython3",
   "version": "3.8.3"
  }
 },
 "nbformat": 4,
 "nbformat_minor": 4
}
