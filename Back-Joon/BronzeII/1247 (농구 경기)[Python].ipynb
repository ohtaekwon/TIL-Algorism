{
 "cells": [
  {
   "cell_type": "markdown",
   "metadata": {},
   "source": [
    "# 농구 경기\n",
    "\n",
    "<br>\n",
    "<br>\n",
    "\n",
    "\n",
    "## 문제\n",
    "---\n",
    "\n",
    "상근이는 농구의 세계에서 점차 영향력을 넓혀가고 있다. 처음에 그는 농구 경기를 좋아하는 사람이었다. 농구에 대한 열정은 그를 막을 수 없었고, 결국 상근이는 농구장을 청소하는 일을 시작했다. 상근이도 농구장을 청소하면서 감독이 되기 위해 가져야할 능력을 공부해나갔다. 서당개 3년이면 풍월을 읊듯이 상근이는 점점 감독으로 한 걸음 다가가고 있었다. 어느 날 그에게 지방의 한 프로농구팀을 감독할 기회가 생기게 되었다. 그는 엄청난 지도력을 보여주며 프로 리그에서 우승을 했고, 이제 국가대표팀의 감독이 되었다.\n",
    "\n",
    "내일은 일본과 국가대표 친선 경기가 있는 날이다. 상근이는 내일 경기에 나설 선발 명단을 작성해야 한다.\n",
    "\n",
    "국가대표팀의 감독이 된 이후에 상근이는 매우 게을러졌다. 그는 선수의 이름을 기억하지 못하고, 각 선수의 능력도 알지 못한다. 따라서, 누가 선발인지 기억하기 쉽게 하기 위해 성의 첫 글자가 같은 선수 5명을 선발하려고 한다. 만약, 성의 첫 글자가 같은 선수가 5명보다 적다면, 상근이는 내일 있을 친선 경기를 기권하려고 한다.\n",
    "\n",
    "상근이는 내일 경기를 위해 뽑을 수 있는 성의 첫 글자를 모두 구해보려고 한다.\n",
    "\n",
    "\n",
    "### 입력\n",
    "---\n",
    "첫째 줄에 선수의 수 N (1 ≤ N ≤ 150)이 주어진다. 다음 N개 줄에는 각 선수의 성이 주어진다. (성은 알파벳 소문자로만 이루어져 있고, 최대 30글자이다)"
   ]
  },
  {
   "cell_type": "markdown",
   "metadata": {},
   "source": [
    "### 출력\n",
    "---\n",
    "\n",
    "상근이가 선수 다섯 명을 선발할 수 없는 경우에는 \"PREDAJA\" (따옴표 없이)를 출력한다. PREDAJA는 크로아티아어로 항복을 의미한다. 선발할 수 있는 경우에는 가능한 성의 첫 글자를 사전순으로 공백없이 모두 출력한다."
   ]
  },
  {
   "cell_type": "markdown",
   "metadata": {},
   "source": [
    "### 예제 입력1\n",
    "\n",
    "```\n",
    "18\n",
    "babic\n",
    "keksic\n",
    "boric\n",
    "bukic\n",
    "sarmic\n",
    "balic\n",
    "kruzic\n",
    "hrenovkic\n",
    "beslic\n",
    "boksic\n",
    "krafnic\n",
    "pecivic\n",
    "klavirkovic\n",
    "kukumaric\n",
    "sunkic\n",
    "kolacic\n",
    "kovacic\n",
    "prijestolonasljednikovi\n",
    "```\n",
    "\n",
    "### 예제 출력1\n",
    "\n",
    "```\n",
    "bk\n",
    "```"
   ]
  },
  {
   "cell_type": "code",
   "execution_count": null,
   "metadata": {},
   "outputs": [],
   "source": []
  },
  {
   "cell_type": "markdown",
   "metadata": {},
   "source": [
    "### 예제 입력2\n",
    "\n",
    "```\n",
    "6\n",
    "michael\n",
    "jordan\n",
    "lebron\n",
    "james\n",
    "kobe\n",
    "bryant\n",
    "```\n",
    "\n",
    "### 예제 출력2\n",
    "\n",
    "```\n",
    "PREDAJA\n",
    "\n",
    "```"
   ]
  },
  {
   "cell_type": "markdown",
   "metadata": {},
   "source": [
    "### 풀이"
   ]
  },
  {
   "cell_type": "markdown",
   "metadata": {},
   "source": [
    "### 답1) "
   ]
  },
  {
   "cell_type": "code",
   "execution_count": 84,
   "metadata": {},
   "outputs": [
    {
     "name": "stdout",
     "output_type": "stream",
     "text": [
      "5\n",
      "bbq\n",
      "bmw\n",
      "bts\n",
      "bbqa\n",
      "bads\n",
      "['b']\n",
      "PREDAJA\n"
     ]
    }
   ],
   "source": [
    "n=int(input())\n",
    "\n",
    "name_list=[]\n",
    "lastname_list=[]\n",
    "last=[]\n",
    "for _ in range(n):\n",
    "    name_list.append(input())\n",
    "\n",
    "\n",
    "lastname_list = [lastname[0] for lastname in name_list]\n",
    "\n",
    "#for lastname in name_list:\n",
    "#    lastname_list.append(lastname[0])\n",
    "    \n",
    "\n",
    "if lastname_list.count(max(lastname_list))>=5:\n",
    "    last.append(max(lastname_list))\n",
    "    lastname_list.remove(max(lastname_list))\n",
    "    print(last)\n",
    "if lastname_list.count(max(lastname_list))<5:\n",
    "    print(\"PREDAJA\")\n",
    "            \n",
    "lastname_list = [lastname[0] for lastname in name_list]\n",
    "     \n",
    "        \n",
    "        "
   ]
  },
  {
   "cell_type": "code",
   "execution_count": null,
   "metadata": {},
   "outputs": [],
   "source": [
    "# lastname_list.count(max(lastname_list))"
   ]
  },
  {
   "cell_type": "code",
   "execution_count": 81,
   "metadata": {},
   "outputs": [
    {
     "data": {
      "text/plain": [
       "'s'"
      ]
     },
     "execution_count": 81,
     "metadata": {},
     "output_type": "execute_result"
    }
   ],
   "source": [
    "max(lastname_list)"
   ]
  },
  {
   "cell_type": "code",
   "execution_count": 48,
   "metadata": {},
   "outputs": [
    {
     "data": {
      "text/plain": [
       "['a', 'b', 'c']"
      ]
     },
     "execution_count": 48,
     "metadata": {},
     "output_type": "execute_result"
    }
   ],
   "source": [
    "a=['a','b','csunkic']\n",
    "b=[]\n",
    "for i in a:\n",
    "    b.append(i[0])\n",
    "\n",
    "b"
   ]
  },
  {
   "cell_type": "code",
   "execution_count": 82,
   "metadata": {},
   "outputs": [],
   "source": [
    "lastname_list = [lastname[0] for lastname in name_list]\n"
   ]
  },
  {
   "cell_type": "code",
   "execution_count": null,
   "metadata": {},
   "outputs": [],
   "source": []
  },
  {
   "cell_type": "markdown",
   "metadata": {},
   "source": [
    "### 답2) "
   ]
  },
  {
   "cell_type": "code",
   "execution_count": null,
   "metadata": {},
   "outputs": [],
   "source": [
    "li = sorted([input()[0] for _ in range(int(input()))])\n",
    "s = set(li)\n",
    "res = []\n",
    "for c in s:\n",
    "    if li.count(c) >= 5:\n",
    "        res.append(c)\n",
    "print(''.join(sorted(res)) if len(res) > 0 else \"PREDAJA\")"
   ]
  },
  {
   "cell_type": "code",
   "execution_count": null,
   "metadata": {},
   "outputs": [],
   "source": []
  },
  {
   "cell_type": "code",
   "execution_count": 85,
   "metadata": {},
   "outputs": [],
   "source": [
    "a = [2, 4, 1, 9, 100, 29, 40, 10]\n"
   ]
  },
  {
   "cell_type": "code",
   "execution_count": 86,
   "metadata": {},
   "outputs": [],
   "source": [
    "b = sorted(a)"
   ]
  },
  {
   "cell_type": "code",
   "execution_count": 87,
   "metadata": {},
   "outputs": [
    {
     "data": {
      "text/plain": [
       "[1, 2, 4, 9, 10, 29, 40, 100]"
      ]
     },
     "execution_count": 87,
     "metadata": {},
     "output_type": "execute_result"
    }
   ],
   "source": [
    "b"
   ]
  },
  {
   "cell_type": "code",
   "execution_count": 88,
   "metadata": {},
   "outputs": [],
   "source": [
    "c = sorted(a, reverse = True)"
   ]
  },
  {
   "cell_type": "code",
   "execution_count": 89,
   "metadata": {},
   "outputs": [
    {
     "data": {
      "text/plain": [
       "[100, 40, 29, 10, 9, 4, 2, 1]"
      ]
     },
     "execution_count": 89,
     "metadata": {},
     "output_type": "execute_result"
    }
   ],
   "source": [
    "c"
   ]
  },
  {
   "cell_type": "code",
   "execution_count": 91,
   "metadata": {},
   "outputs": [
    {
     "name": "stdout",
     "output_type": "stream",
     "text": [
      "3\n",
      "aad\n",
      "a\n",
      "dfd\n",
      "d\n",
      "vda\n",
      "v\n"
     ]
    }
   ],
   "source": [
    "for _ in range(int(input())):\n",
    "    print(input()[0])"
   ]
  },
  {
   "cell_type": "code",
   "execution_count": 92,
   "metadata": {},
   "outputs": [
    {
     "name": "stdout",
     "output_type": "stream",
     "text": [
      "5\n",
      "bab\n",
      "kek\n",
      "bor\n",
      "buk\n",
      "sar\n"
     ]
    }
   ],
   "source": [
    "name = sorted([input()[0]for _ in range(int(input()))])\n",
    "s=set(name)\n",
    "res=[]\n"
   ]
  },
  {
   "cell_type": "code",
   "execution_count": 94,
   "metadata": {},
   "outputs": [
    {
     "name": "stdout",
     "output_type": "stream",
     "text": [
      "name: ['b', 'b', 'b', 'k', 's']\n",
      "s: {'b', 's', 'k'}\n",
      "res :  []\n"
     ]
    }
   ],
   "source": [
    "print(\"name:\",name)\n",
    "print(\"s:\" ,s)\n",
    "print(\"res : \", res)"
   ]
  },
  {
   "cell_type": "code",
   "execution_count": 95,
   "metadata": {},
   "outputs": [
    {
     "name": "stdout",
     "output_type": "stream",
     "text": [
      "PREDAJA\n"
     ]
    }
   ],
   "source": [
    "for last in s:\n",
    "    if name.count(last) >= 5:\n",
    "        res.append(last)\n",
    "print(''.join(sorted(res)) if len(res) > 0 else \"PREDAJA\")"
   ]
  },
  {
   "cell_type": "code",
   "execution_count": null,
   "metadata": {},
   "outputs": [],
   "source": []
  }
 ],
 "metadata": {
  "kernelspec": {
   "display_name": "Python 3",
   "language": "python",
   "name": "python3"
  },
  "language_info": {
   "codemirror_mode": {
    "name": "ipython",
    "version": 3
   },
   "file_extension": ".py",
   "mimetype": "text/x-python",
   "name": "python",
   "nbconvert_exporter": "python",
   "pygments_lexer": "ipython3",
   "version": "3.8.3"
  }
 },
 "nbformat": 4,
 "nbformat_minor": 4
}
