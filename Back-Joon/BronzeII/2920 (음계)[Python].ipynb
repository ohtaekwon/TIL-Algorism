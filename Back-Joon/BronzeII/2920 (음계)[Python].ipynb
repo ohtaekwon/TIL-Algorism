{
 "cells": [
  {
   "cell_type": "markdown",
   "metadata": {},
   "source": [
    "# [음계](https://www.acmicpc.net/problem/2920)\n",
    "\n",
    "<br/>\n",
    "<br/>\n",
    "\n",
    "## 문제\n",
    "\n",
    "다장조는 c d e f g a b C, 총 8개 음으로 이루어져있다. 이 문제에서 8개 음은 다음과 같이 숫자로 바꾸어 표현한다. c는 1로, d는 2로, ..., C를 8로 바꾼다.\n",
    "\n",
    "1부터 8까지 차례대로 연주한다면 ascending, 8부터 1까지 차례대로 연주한다면 descending, 둘 다 아니라면 mixed 이다.\n",
    "\n",
    "연주한 순서가 주어졌을 때, 이것이 ascending인지, descending인지, 아니면 mixed인지 판별하는 프로그램을 작성하시오.\n",
    "\n",
    "## 입력\n",
    "\n",
    "첫째 줄에 8개 숫자가 주어진다. 이 숫자는 문제 설명에서 설명한 음이며, 1부터 8까지 숫자가 한 번씩 등장한다.\n",
    "\n",
    "## 출력\n",
    "\n",
    "첫째 줄에 ascending, descending, mixed 중 하나를 출력한다.\n",
    "\n",
    "## 예제 입력\n",
    "\n",
    "```\n",
    "1 2 3 4 5 6 7 8\n",
    "```\n",
    "\n",
    "## 예제 출력\n",
    "\n",
    "```\n",
    "ascending\n",
    "```\n",
    "\n",
    "## 알고리즘 분류\n",
    "\n",
    "- 구현"
   ]
  },
  {
   "cell_type": "markdown",
   "metadata": {},
   "source": [
    "----"
   ]
  },
  {
   "cell_type": "markdown",
   "metadata": {},
   "source": [
    "### 풀이 방법\n",
    "\n",
    "- 각각의 원소가 오름차순인지 내림차순인지 판별하는 것이 문제에서 요구하는 사항\n",
    "- 내림차순도, 오름차순도 아닐 경우, `mixed`를 출력한다."
   ]
  },
  {
   "cell_type": "code",
   "execution_count": 1,
   "metadata": {},
   "outputs": [
    {
     "name": "stdout",
     "output_type": "stream",
     "text": [
      "1 2 3 4 5 6 7 8\n",
      "ascending\n"
     ]
    }
   ],
   "source": [
    "n=list(map(int,input().split()))\n",
    "answer=\"\"\n",
    "if n == sorted(n):\n",
    "    answer='ascending'\n",
    "elif n==sorted(n,reverse=True):\n",
    "    answer='descending'\n",
    "else:\n",
    "    answer='mixed'\n",
    "print(answer)"
   ]
  },
  {
   "cell_type": "code",
   "execution_count": null,
   "metadata": {},
   "outputs": [],
   "source": [
    "n=list(map(int,input().split()))\n",
    "\n",
    "# 초기값을 true로 설정\n",
    "ascending = True\n",
    "descending = True\n",
    "\n",
    "# 8개의 원소를 하나씩 확인\n",
    "for i in range(1,8):\n",
    "    # 뒤에 있는 원소가 더 크다면, 오름차순을 의미하므로\n",
    "    if a[i]>a[i-1]:\n",
    "        descending = False # descending은 false\n",
    "    # 뒤에 있는 원소보다 앞의 원소가 더 크다면\n",
    "    elif a[i]<a[i-1]:\n",
    "        ascending=False\n",
    "if ascending:\n",
    "    print('ascending)\n",
    "elif descending:\n",
    "    print('descending')\n",
    "else:\n",
    "    print('mixed')\n",
    "        "
   ]
  }
 ],
 "metadata": {
  "kernelspec": {
   "display_name": "Python 3 (ipykernel)",
   "language": "python",
   "name": "python3"
  },
  "language_info": {
   "codemirror_mode": {
    "name": "ipython",
    "version": 3
   },
   "file_extension": ".py",
   "mimetype": "text/x-python",
   "name": "python",
   "nbconvert_exporter": "python",
   "pygments_lexer": "ipython3",
   "version": "3.9.7"
  }
 },
 "nbformat": 4,
 "nbformat_minor": 4
}
