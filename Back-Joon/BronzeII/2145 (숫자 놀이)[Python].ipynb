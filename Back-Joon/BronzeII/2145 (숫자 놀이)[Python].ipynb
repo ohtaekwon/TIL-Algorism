{
 "cells": [
  {
   "cell_type": "markdown",
   "metadata": {},
   "source": [
    "# [숫자 놀이](https://www.acmicpc.net/problem/2145)\n",
    "\n",
    "<br/>\n",
    "<br/>\n",
    "\n",
    "## 문제\n",
    "\n",
    "초등학생인 도겸이는 숫자를 좋아한다. 어느 날 도겸이는 숫자 책을 보다가 간단한 놀이를 하나 생각해냈다. 숫자 놀이의 규칙은 다음과 같다.\n",
    "\n",
    "1. 주어진 숫자의 각 자릿수를 더한다.\n",
    "2. 9결과가 한 자릿수가 될 때 까지 규칙1을 반복한다.\n",
    "예를들어, 숫자 673에 규칙을 적용해보면 결과는 7이 된다 ; 6 + 7 + 3 = 16, 1 + 6 = 7 \n",
    "\n",
    "도겸이는 당신과 함께 숫자놀이를 하고싶어한다. 도겸이가 주는 숫자들을 풀어보자.\n",
    "\n",
    "## 입력\n",
    "\n",
    "각 줄에 숫자 N이 주어진다. N은 100,000보다 작은 양의 정수이다. 마지막 입력은 0이며, 0에 대한 결과는 출력하지 않는다.\n",
    "\n",
    "## 출력\n",
    "\n",
    "한 줄에 하나씩 한 자릿수 결과를 출력한다.\n",
    "\n",
    "\n",
    "## 예제 입력\n",
    "\n",
    "```\n",
    "673\n",
    "51\n",
    "1000\n",
    "99\n",
    "0\n",
    "```\n",
    "\n",
    "## 예제 출력\n",
    "\n",
    "```\n",
    "7\n",
    "6\n",
    "1\n",
    "9\n",
    "```\n",
    "\n",
    "## 알고리즘 분류\n",
    "\n",
    "- 수학\n",
    "- 구현"
   ]
  },
  {
   "cell_type": "markdown",
   "metadata": {},
   "source": [
    "----"
   ]
  },
  {
   "cell_type": "markdown",
   "metadata": {},
   "source": [
    "## 풀이 방법\n",
    "\n",
    "### 제한 사항\n",
    "\n",
    "-  N(3 ≤ N ≤ 100)\n",
    "- M(10 ≤ M ≤ 300,000)\n",
    "- 세장의 카드 합이 m을 넘지 않아야 한다.\n",
    "\n",
    "### 문제 풀이 핵심 아이디어\n",
    "\n",
    "- 1. 카드 중 3개씩 뽑는 모든 경우의 수는 $n$ $C$$~$3 이며, n은 최대 100이다.\n",
    "    - 즉, 전체 경우의 수를 전부 고려해도 1000000이라 하더라도\n",
    "    - 컴퓨터가 충분히 계산이 가능하다.\n",
    "    - 따라서, 완전탐색으로 문제를 풀어도 가능하다.\n",
    "- 2. 따라서, 단순히 3중 반복문으로 모든 경우의 수를 확인하여 문제를 해결할 수 있다. \n",
    "\n"
   ]
  },
  {
   "cell_type": "markdown",
   "metadata": {},
   "source": [
    "### 풀이1)"
   ]
  },
  {
   "cell_type": "code",
   "execution_count": 61,
   "metadata": {},
   "outputs": [
    {
     "name": "stdout",
     "output_type": "stream",
     "text": [
      "673\n",
      "7\n",
      "39\n",
      "3\n",
      "0\n"
     ]
    }
   ],
   "source": [
    "while True:\n",
    "    n=input()\n",
    "    if n == \"0\":\n",
    "        break\n",
    "    while True:\n",
    "        if len(n) == 1:\n",
    "            print(n)\n",
    "            break\n",
    "        n = str(sum(list(map(int,n))))\n",
    "        "
   ]
  }
 ],
 "metadata": {
  "kernelspec": {
   "display_name": "Python 3 (ipykernel)",
   "language": "python",
   "name": "python3"
  },
  "language_info": {
   "codemirror_mode": {
    "name": "ipython",
    "version": 3
   },
   "file_extension": ".py",
   "mimetype": "text/x-python",
   "name": "python",
   "nbconvert_exporter": "python",
   "pygments_lexer": "ipython3",
   "version": "3.9.7"
  }
 },
 "nbformat": 4,
 "nbformat_minor": 4
}
