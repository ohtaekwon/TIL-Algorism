{
 "cells": [
  {
   "cell_type": "markdown",
   "metadata": {},
   "source": [
    "# 저항\n",
    "\n",
    "<br>\n",
    "<br>\n",
    "\n",
    "## 문제\n",
    "\n",
    "---\n",
    "\n",
    "전자 제품에는 저항이 들어간다. 저항은 색 3개를 이용해서 그 저항이 몇 옴인지 나타낸다. 처음 색 2개는 저항의 값이고, 마지막 색은 곱해야 하는 값이다. 저항의 값은 다음 표를 이용해서 구한다.\n",
    "\n",
    "|색|값|곱|\n",
    "|:--|:--|:--|\n",
    "|black|0|1|\n",
    "|brown|1|10|\n",
    "|red|2|100|\n",
    "|orange|3|1,000|\n",
    "|yellow|4|10,000|\n",
    "|green|5|100,000|\n",
    "|blue|6|1,000,000|\n",
    "|violet|7|10,000,000|\n",
    "|grey|8|100,000,000|\n",
    "|white|9|1,000,000,000|\n",
    "\n",
    "예를 들어, 저항의 색이 yellow, violet, red였다면 저항의 값은 4,700이 된다.\n",
    "\n"
   ]
  },
  {
   "cell_type": "markdown",
   "metadata": {},
   "source": [
    "### 입력\n",
    "\n",
    "---\n",
    "첫째 줄에 첫 번째 색, 둘째 줄에 두 번째 색, 셋째 줄에 세 번째 색이 주어진다. 위의 표에 있는 색만 입력으로 주어진다.\n",
    "\n",
    "<br>\n",
    "\n",
    "### 출력\n",
    "---\n",
    "입력으로 주어진 저항의 저항값을 계산하여 첫째 줄에 출력한다.\n",
    "\n"
   ]
  },
  {
   "cell_type": "markdown",
   "metadata": {},
   "source": [
    "----"
   ]
  },
  {
   "cell_type": "markdown",
   "metadata": {},
   "source": [
    "### 예제 입력1\n",
    "\n",
    "```\n",
    "yellow\n",
    "violet\n",
    "red\n",
    "```\n",
    "\n",
    "### 예제 출력1\n",
    "\n",
    "```\n",
    "4700\n",
    "```"
   ]
  },
  {
   "cell_type": "markdown",
   "metadata": {},
   "source": [
    "### 예제 입력2\n",
    "\n",
    "```\n",
    "orange\n",
    "red\n",
    "blue\n",
    "```\n",
    "\n",
    "### 예제 출력2\n",
    "\n",
    "```\n",
    "32000000\n",
    "```"
   ]
  },
  {
   "cell_type": "markdown",
   "metadata": {},
   "source": [
    "### 예제 입력3\n",
    "\n",
    "```\n",
    "white\n",
    "white\n",
    "white\n",
    "```\n",
    "\n",
    "### 예제 출력3\n",
    "\n",
    "```\n",
    "99000000000\n",
    "```"
   ]
  },
  {
   "cell_type": "markdown",
   "metadata": {},
   "source": [
    "### 풀이\n",
    "\n",
    "- 뒤에 두 자리를 없애기 위해서 100으로 나눈다.\n",
    "- 나눈 값을 다시 100을 곱해주면 뒤에 두 자리는 00으로 바뀐다.\n",
    "    - // : 나누기 연산 후 소수점 이하를 버린 정수부분의 수"
   ]
  },
  {
   "cell_type": "markdown",
   "metadata": {},
   "source": [
    "### 답1)"
   ]
  },
  {
   "cell_type": "code",
   "execution_count": 7,
   "metadata": {},
   "outputs": [],
   "source": [
    "color_list=[\"black\",\"brown\",\"red\",\"orange\",\"yellow\",\"green\",\"blue\",\"violet\",\"grey\",\"white\"]\n",
    "\n",
    "resistance = {\"black\":0,\n",
    "              \"brown\":1,\n",
    "              \"red\":2,\n",
    "              \"orange\":3,\n",
    "              \"yellow\":4,\n",
    "              \"green\":5,\n",
    "              \"blue\":6,\n",
    "              \"violet\":7,\n",
    "              \"grey\":8,\n",
    "              \"white\":9,\n",
    "             }"
   ]
  },
  {
   "cell_type": "code",
   "execution_count": 8,
   "metadata": {},
   "outputs": [
    {
     "name": "stdout",
     "output_type": "stream",
     "text": [
      "black\n",
      "black\n",
      "black\n"
     ]
    }
   ],
   "source": [
    "\n",
    "s=[]\n",
    "for i in range(3):\n",
    "    color=input()\n",
    "    \n",
    "    for li in color_list:\n",
    "        for key,value in resistance.items():\n",
    "            if co==color and i!=3:\n",
    "                s.append(value)\n",
    "            \n",
    "            "
   ]
  },
  {
   "cell_type": "code",
   "execution_count": 9,
   "metadata": {},
   "outputs": [
    {
     "data": {
      "text/plain": [
       "[0,\n",
       " 0,\n",
       " 0,\n",
       " 0,\n",
       " 0,\n",
       " 0,\n",
       " 0,\n",
       " 0,\n",
       " 0,\n",
       " 0,\n",
       " 0,\n",
       " 0,\n",
       " 0,\n",
       " 0,\n",
       " 0,\n",
       " 0,\n",
       " 0,\n",
       " 0,\n",
       " 0,\n",
       " 0,\n",
       " 0,\n",
       " 0,\n",
       " 0,\n",
       " 0,\n",
       " 0,\n",
       " 0,\n",
       " 0,\n",
       " 0,\n",
       " 0,\n",
       " 0]"
      ]
     },
     "execution_count": 9,
     "metadata": {},
     "output_type": "execute_result"
    }
   ],
   "source": [
    "\n",
    "s=[]\n",
    "for i in range(3):\n",
    "    color=input()\n",
    "    \n",
    "    for li in color_list:\n",
    "        if li==color and i<3:\n",
    "            s.append(value)\n",
    "            i+=1\n",
    "        elif li==color and i==3:\n",
    "            s.\n",
    "            \n",
    "            "
   ]
  },
  {
   "cell_type": "code",
   "execution_count": 2,
   "metadata": {},
   "outputs": [
    {
     "name": "stdout",
     "output_type": "stream",
     "text": [
      "1000\n",
      "3\n",
      "02\n"
     ]
    }
   ],
   "source": [
    "n = int(input())\n",
    "f = int(input())\n",
    "\n",
    "front = n // 100 # 뒤에 두자리를 00으로 바꾸기 위해서 100으로 나눈다\n",
    "answer = front * 100 # 다시 100을 곱해주면 뒤에 두자리를 00으로 바뀐다.\n",
    "\n",
    "# answer 을 f로 나눠준 나머지기 0이 아니라면 \n",
    "# 즉, 나누어 떨어지지 않는다면 이 과정을 반복한다.\n",
    "# 1을 더해준다.\n",
    "while answer % f != 0:\n",
    "    answer+=1\n",
    "\n",
    "print(str(answer)[-2:]) # 1) int는 문자열 관련해서 인덱싱을 할 수 없다."
   ]
  },
  {
   "cell_type": "code",
   "execution_count": 12,
   "metadata": {},
   "outputs": [
    {
     "name": "stdout",
     "output_type": "stream",
     "text": [
      "35\n"
     ]
    }
   ],
   "source": [
    "# 1) int는 문자열 관련해서 인덱싱을 할 수 없다.\n",
    "num_int = 1231435\n",
    "num_str = '123435'\n",
    "# print(num_int[-2:])\n",
    "print(num_str[-2:])"
   ]
  },
  {
   "cell_type": "code",
   "execution_count": null,
   "metadata": {},
   "outputs": [],
   "source": [
    "import sys\n",
    "\n",
    "N = int(sys.stdin.readline())\n",
    "F = int(sys.stdin.readline())\n",
    "\n",
    "N = N //100\n",
    "tmp = N*100\n",
    "\n",
    "while tmp%F!=0:\n",
    "    tmp+=1\n",
    "print(str(tmp)[-2:])"
   ]
  },
  {
   "cell_type": "markdown",
   "metadata": {},
   "source": [
    "### 답2)"
   ]
  },
  {
   "cell_type": "code",
   "execution_count": 3,
   "metadata": {},
   "outputs": [
    {
     "name": "stdout",
     "output_type": "stream",
     "text": [
      "1000\n",
      "3\n",
      "02\n"
     ]
    }
   ],
   "source": [
    "n = input()\n",
    "f = int(input())\n",
    "a=int(n[:-2]+'00')\n",
    "\n",
    "\n",
    "while True:\n",
    "    if a %  f == 0:\n",
    "        break\n",
    "    a += 1\n",
    "print(str(a)[-2:]) "
   ]
  },
  {
   "cell_type": "code",
   "execution_count": null,
   "metadata": {},
   "outputs": [],
   "source": []
  }
 ],
 "metadata": {
  "kernelspec": {
   "display_name": "Python 3",
   "language": "python",
   "name": "python3"
  },
  "language_info": {
   "codemirror_mode": {
    "name": "ipython",
    "version": 3
   },
   "file_extension": ".py",
   "mimetype": "text/x-python",
   "name": "python",
   "nbconvert_exporter": "python",
   "pygments_lexer": "ipython3",
   "version": "3.8.3"
  }
 },
 "nbformat": 4,
 "nbformat_minor": 4
}
