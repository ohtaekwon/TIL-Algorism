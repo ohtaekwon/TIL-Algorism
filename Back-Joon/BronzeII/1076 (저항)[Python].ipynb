{
 "cells": [
  {
   "cell_type": "markdown",
   "metadata": {},
   "source": [
    "# 저항\n",
    "\n",
    "<br>\n",
    "<br>\n",
    "\n",
    "## 문제\n",
    "\n",
    "---\n",
    "\n",
    "전자 제품에는 저항이 들어간다. 저항은 색 3개를 이용해서 그 저항이 몇 옴인지 나타낸다. 처음 색 2개는 저항의 값이고, 마지막 색은 곱해야 하는 값이다. 저항의 값은 다음 표를 이용해서 구한다.\n",
    "\n",
    "|색|값|곱|\n",
    "|:--|:--|:--|\n",
    "|black|0|1|\n",
    "|brown|1|10|\n",
    "|red|2|100|\n",
    "|orange|3|1,000|\n",
    "|yellow|4|10,000|\n",
    "|green|5|100,000|\n",
    "|blue|6|1,000,000|\n",
    "|violet|7|10,000,000|\n",
    "|grey|8|100,000,000|\n",
    "|white|9|1,000,000,000|\n",
    "\n",
    "예를 들어, 저항의 색이 yellow, violet, red였다면 저항의 값은 4,700이 된다.\n",
    "\n"
   ]
  },
  {
   "cell_type": "markdown",
   "metadata": {},
   "source": [
    "### 입력\n",
    "\n",
    "---\n",
    "첫째 줄에 첫 번째 색, 둘째 줄에 두 번째 색, 셋째 줄에 세 번째 색이 주어진다. 위의 표에 있는 색만 입력으로 주어진다.\n",
    "\n",
    "<br>\n",
    "\n",
    "### 출력\n",
    "---\n",
    "입력으로 주어진 저항의 저항값을 계산하여 첫째 줄에 출력한다.\n",
    "\n"
   ]
  },
  {
   "cell_type": "markdown",
   "metadata": {},
   "source": [
    "----"
   ]
  },
  {
   "cell_type": "markdown",
   "metadata": {},
   "source": [
    "### 예제 입력1\n",
    "\n",
    "```\n",
    "yellow\n",
    "violet\n",
    "red\n",
    "```\n",
    "\n",
    "### 예제 출력1\n",
    "\n",
    "```\n",
    "4700\n",
    "```"
   ]
  },
  {
   "cell_type": "markdown",
   "metadata": {},
   "source": [
    "### 예제 입력2\n",
    "\n",
    "```\n",
    "orange\n",
    "red\n",
    "blue\n",
    "```\n",
    "\n",
    "### 예제 출력2\n",
    "\n",
    "```\n",
    "32000000\n",
    "```"
   ]
  },
  {
   "cell_type": "markdown",
   "metadata": {},
   "source": [
    "### 예제 입력3\n",
    "\n",
    "```\n",
    "white\n",
    "white\n",
    "white\n",
    "```\n",
    "\n",
    "### 예제 출력3\n",
    "\n",
    "```\n",
    "99000000000\n",
    "```"
   ]
  },
  {
   "cell_type": "markdown",
   "metadata": {},
   "source": [
    "### 풀이 1)\n",
    "\n",
    "딕셔너리를 사용하여 문제를 푼다\n",
    "\n",
    "- 딕셔너리의 `KEY`와 `VALUE`를 활용"
   ]
  },
  {
   "cell_type": "code",
   "execution_count": 55,
   "metadata": {},
   "outputs": [
    {
     "name": "stdout",
     "output_type": "stream",
     "text": [
      "yellow\n",
      "black\n",
      "black\n",
      "40\n"
     ]
    }
   ],
   "source": [
    "resistance = {\"black\":\"0\",\n",
    "              \"brown\":\"1\",\n",
    "              \"red\":\"2\",\n",
    "              \"orange\":\"3\",\n",
    "              \"yellow\":\"4\",\n",
    "              \"green\":\"5\",\n",
    "              \"blue\":\"6\",\n",
    "              \"violet\":\"7\",\n",
    "              \"grey\":\"8\",\n",
    "              \"white\":\"9\",\n",
    "             }\n",
    "s=[]\n",
    "i=0\n",
    "for i in range(3):\n",
    "    color=input()\n",
    "    \n",
    "    for key,value in resistance.items():\n",
    "        if color==key :\n",
    "            s.append(value)\n",
    "            i+=1\n",
    "        if i==3:\n",
    "            break\n",
    "\n",
    "a=s[0]+s[1]\n",
    "b=10**int(s[2])\n",
    "print(int(a)*b)\n"
   ]
  },
  {
   "cell_type": "markdown",
   "metadata": {},
   "source": [
    "### 풀이 2)\n",
    "\n",
    "리스트를 활용하여 풀기\n",
    "- 인덱스 메서드를 활용하여 리스트안에 맞는 것을 찾는 방법"
   ]
  },
  {
   "cell_type": "code",
   "execution_count": 58,
   "metadata": {},
   "outputs": [
    {
     "name": "stdout",
     "output_type": "stream",
     "text": [
      "yellow\n",
      "black\n",
      "red\n",
      "4000\n"
     ]
    }
   ],
   "source": [
    "x= [\"black\",\"brwon\", \"red\", \"ornage\",\"yellow\",\"green\",\"blue\",\"violet\",\"grey\",\"white\"]\n",
    "\n",
    "a,b,c=[input() for i in range(3)]\n",
    "result = ((x.index(a)*10) + x.index(b)) * (10**x.index(c))\n",
    "print(result)"
   ]
  },
  {
   "cell_type": "code",
   "execution_count": null,
   "metadata": {},
   "outputs": [],
   "source": []
  }
 ],
 "metadata": {
  "kernelspec": {
   "display_name": "Python 3",
   "language": "python",
   "name": "python3"
  },
  "language_info": {
   "codemirror_mode": {
    "name": "ipython",
    "version": 3
   },
   "file_extension": ".py",
   "mimetype": "text/x-python",
   "name": "python",
   "nbconvert_exporter": "python",
   "pygments_lexer": "ipython3",
   "version": "3.8.3"
  }
 },
 "nbformat": 4,
 "nbformat_minor": 4
}
