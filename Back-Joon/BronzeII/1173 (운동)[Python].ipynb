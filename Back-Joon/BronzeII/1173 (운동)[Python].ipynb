{
 "cells": [
  {
   "cell_type": "markdown",
   "metadata": {},
   "source": [
    "# 운동\n",
    "\n",
    "\n",
    "\n",
    "<br>\n",
    "<br>\n",
    "\n",
    "## 문제\n",
    "\n",
    "---\n",
    "\n",
    "영식이가 운동을 하는 과정은 1분 단위로 나누어져 있다. 매 분마다 영식이는 운동과 휴식 중 하나를 선택해야 한다.\n",
    "\n",
    "운동을 선택한 경우, 영식이의 맥박이 T만큼 증가한다. 즉, 영식이의 맥박이 X였다면, 1분 동안 운동을 한 후 맥박이 X+T가 되는 것이다. 영식이는 맥박이 M을 넘는 것을 원하지 않기 때문에, X+T가 M보다 작거나 같을 때만 운동을 할 수 있다. 휴식을 선택하는 경우 맥박이 R만큼 감소한다. 즉, 영식이의 맥박이 X였다면, 1분 동안 휴식을 한 후 맥박은 X-R이 된다. 맥박은 절대로 m보다 낮아지면 안된다. 따라서, X-R이 m보다 작으면 맥박은 m이 된다.\n",
    "\n",
    "영식이의 초기 맥박은 m이다. 운동을 N분 하려고 한다. 이때 운동을 N분하는데 필요한 시간의 최솟값을 구해보자. 운동하는 시간은 연속되지 않아도 된다."
   ]
  },
  {
   "cell_type": "markdown",
   "metadata": {},
   "source": [
    "### 입력\n",
    "\n",
    "---\n",
    "첫째 줄에 다섯 정수 N, m, M, T, R이 주어진다.\n",
    "\n",
    "\n",
    "### 출력\n",
    "---\n",
    "첫째 줄에 운동을 N분하는데 필요한 시간의 최솟값을 출력한다.. 만약 운동을 N분 할 수 없다면 -1을 출력한다.\n",
    "\n",
    "\n",
    "### 제한\n",
    "---\n",
    "\n",
    "- 1 ≤ N, T, R ≤ 200\n",
    "- 50 ≤ m ≤ M ≤ 200"
   ]
  },
  {
   "cell_type": "markdown",
   "metadata": {},
   "source": [
    "----"
   ]
  },
  {
   "cell_type": "markdown",
   "metadata": {},
   "source": [
    "### 예제 입력1\n",
    "\n",
    "```\n",
    "5 70 120 25 15\n",
    "```\n",
    "\n",
    "### 예제 출력1\n",
    "\n",
    "```\n",
    "10\n",
    "```"
   ]
  },
  {
   "cell_type": "markdown",
   "metadata": {},
   "source": [
    "### 예제 입력2\n",
    "\n",
    "```\n",
    "100 50 100 5 200\n",
    "```\n",
    "\n",
    "### 예제 출력2\n",
    "\n",
    "```\n",
    "109\n",
    "```"
   ]
  },
  {
   "cell_type": "markdown",
   "metadata": {},
   "source": [
    "### 예제 입력3\n",
    "\n",
    "```\n",
    "1 60 70 11 11\n",
    "```\n",
    "\n",
    "### 예제 출력3\n",
    "\n",
    "```\n",
    "-1\n",
    "```"
   ]
  },
  {
   "cell_type": "markdown",
   "metadata": {},
   "source": [
    "### 힌트\n",
    "\n",
    "|시간|행동|행동을 한 후의 맥박|\n",
    "|:----:|:----:|:-----------------:|\n",
    "|1|운동|95|\n",
    "|2|운동|120|\n",
    "|3|휴식|105|\n",
    "|4|휴식|90|\n",
    "|5|운동|115|\n",
    "|6|휴식|100|\n",
    "|7|휴식|85|\n",
    "|8|운동|110|\n",
    "|9|휴식|95|\n",
    "|10|운동|120|"
   ]
  },
  {
   "cell_type": "markdown",
   "metadata": {},
   "source": [
    "### 풀이\n",
    "\n",
    "\n",
    "1. 문장 앞이나 뒤에 '공백(띄어쓰기)'이 있는 경우\n",
    "    - 문장을 띄어쓰기로 분리하면 '공백'도 리스트 안에 포함된다. 따라서, `list.remove(' ')`로 공백을 제거해야한다.\n",
    "\n",
    "\n",
    "2. 문장 앞 뒤 양쪽에 '공백' 이 있는 경우\n",
    "    - `list.remove(' ')` 는 공백을 모두 없애는 게 아니라 한 번만 삭제한다. 따라서 양쪽의 공백을 모두 제거해야 한다.\n",
    "    \n",
    "    \n",
    "3. 단어 하나도 없고 공백만 있는 경우\n",
    "    - 이런 경우에도 공백을 문자열로 인식하므로 위처럼 공백을 제거해야한다."
   ]
  },
  {
   "cell_type": "markdown",
   "metadata": {},
   "source": [
    "#### 풀이 1-1)"
   ]
  },
  {
   "cell_type": "code",
   "execution_count": 26,
   "metadata": {},
   "outputs": [
    {
     "name": "stdout",
     "output_type": "stream",
     "text": [
      "5 70 120 25 15\n"
     ]
    }
   ],
   "source": [
    "# 시간 분(N), 초기 맥박(m), 최대허용맥박(M), 맥박의 증가(T), 휴식후 감소(R) \n",
    "N, m, M, T, R = map(int,input().split())\n",
    "\n"
   ]
  },
  {
   "cell_type": "code",
   "execution_count": 5,
   "metadata": {},
   "outputs": [
    {
     "data": {
      "text/plain": [
       "120"
      ]
     },
     "execution_count": 5,
     "metadata": {},
     "output_type": "execute_result"
    }
   ],
   "source": [
    "# 운동을 하는 경우 : M보다 작거나 같을 때만 운동을 할 수 있다\n",
    "m+T<=M\n",
    "\n",
    "# 휴식을 선택하는 경우\n",
    "m+T-R # m보다 낮을 수 없음"
   ]
  },
  {
   "cell_type": "markdown",
   "metadata": {},
   "source": [
    "#### 풀이 1-3) "
   ]
  },
  {
   "cell_type": "code",
   "execution_count": 98,
   "metadata": {},
   "outputs": [
    {
     "name": "stdout",
     "output_type": "stream",
     "text": [
      "print(t if cnt == N else -1)\n"
     ]
    },
    {
     "ename": "ValueError",
     "evalue": "invalid literal for int() with base 10: 'print(t'",
     "output_type": "error",
     "traceback": [
      "\u001b[1;31m---------------------------------------------------------------------------\u001b[0m",
      "\u001b[1;31mValueError\u001b[0m                                Traceback (most recent call last)",
      "\u001b[1;32m<ipython-input-98-855ba655495f>\u001b[0m in \u001b[0;36m<module>\u001b[1;34m\u001b[0m\n\u001b[1;32m----> 1\u001b[1;33m \u001b[0mN\u001b[0m\u001b[1;33m,\u001b[0m \u001b[0mm\u001b[0m\u001b[1;33m,\u001b[0m \u001b[0mM\u001b[0m\u001b[1;33m,\u001b[0m \u001b[0mT\u001b[0m\u001b[1;33m,\u001b[0m \u001b[0mR\u001b[0m \u001b[1;33m=\u001b[0m \u001b[0mmap\u001b[0m\u001b[1;33m(\u001b[0m\u001b[0mint\u001b[0m\u001b[1;33m,\u001b[0m\u001b[0minput\u001b[0m\u001b[1;33m(\u001b[0m\u001b[1;33m)\u001b[0m\u001b[1;33m.\u001b[0m\u001b[0msplit\u001b[0m\u001b[1;33m(\u001b[0m\u001b[1;33m)\u001b[0m\u001b[1;33m)\u001b[0m\u001b[1;33m\u001b[0m\u001b[1;33m\u001b[0m\u001b[0m\n\u001b[0m\u001b[0;32m      2\u001b[0m \u001b[1;33m\u001b[0m\u001b[0m\n\u001b[0;32m      3\u001b[0m \u001b[0mcnt\u001b[0m\u001b[1;33m=\u001b[0m\u001b[0mt\u001b[0m\u001b[1;33m=\u001b[0m\u001b[1;36m0\u001b[0m\u001b[1;33m\u001b[0m\u001b[1;33m\u001b[0m\u001b[0m\n\u001b[0;32m      4\u001b[0m \u001b[0mnow\u001b[0m\u001b[1;33m=\u001b[0m\u001b[0mm\u001b[0m\u001b[1;33m\u001b[0m\u001b[1;33m\u001b[0m\u001b[0m\n\u001b[0;32m      5\u001b[0m \u001b[0mwork\u001b[0m\u001b[1;33m=\u001b[0m\u001b[0mm\u001b[0m\u001b[1;33m+\u001b[0m\u001b[0mT\u001b[0m\u001b[1;33m\u001b[0m\u001b[1;33m\u001b[0m\u001b[0m\n",
      "\u001b[1;31mValueError\u001b[0m: invalid literal for int() with base 10: 'print(t'"
     ]
    }
   ],
   "source": [
    "N, m, M, T, R = map(int,input().split())\n",
    "\n",
    "cnt=t=0\n",
    "now=m\n",
    "work=m+T\n",
    "after=work-R\n",
    "\n",
    "\n",
    "while cnt<N:\n",
    "    if work>M:\n",
    "        break\n",
    "    if now+T<=M:\n",
    "        now+=T\n",
    "        cnt+=1  \n",
    "    else:\n",
    "        now=max(now-R,m)\n",
    "    t+=1\n",
    " \n",
    "print(t if cnt==N else -1)"
   ]
  },
  {
   "cell_type": "markdown",
   "metadata": {},
   "source": [
    "#### 풀이 2)"
   ]
  },
  {
   "cell_type": "code",
   "execution_count": null,
   "metadata": {},
   "outputs": [],
   "source": [
    "N, m, M, T, R = map(int, input().split())\n",
    "cnt = t = 0\n",
    "now = m\n",
    "while cnt < N:\n",
    "    if m+T > M:\n",
    "        break\n",
    "    if now + T <= M:\n",
    "        now += T\n",
    "        cnt += 1\n",
    "    else:\n",
    "        now = max(now-R, m)\n",
    "    t += 1\n",
    "print(t if cnt == N else -1)"
   ]
  }
 ],
 "metadata": {
  "kernelspec": {
   "display_name": "Python 3",
   "language": "python",
   "name": "python3"
  },
  "language_info": {
   "codemirror_mode": {
    "name": "ipython",
    "version": 3
   },
   "file_extension": ".py",
   "mimetype": "text/x-python",
   "name": "python",
   "nbconvert_exporter": "python",
   "pygments_lexer": "ipython3",
   "version": "3.8.3"
  }
 },
 "nbformat": 4,
 "nbformat_minor": 4
}
