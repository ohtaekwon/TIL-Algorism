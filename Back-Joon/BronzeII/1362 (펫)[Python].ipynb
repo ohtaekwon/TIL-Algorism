{
 "cells": [
  {
   "cell_type": "markdown",
   "metadata": {},
   "source": [
    "# 펫\n",
    "\n",
    "\n",
    "<br>\n",
    "<br>\n",
    "\n",
    "## 문제\n",
    "\n",
    "---\n",
    "\n",
    "당신은 게임으로 펫을 기르고 있습니다. 이 펫은 웃는 표정, 슬픈 표정을 가지고 있으며, 만약 죽는다면 '드러눕습니다.'\n",
    "\n",
    "펫에게는 적정 체중이 있습니다. 펫의 실제 체중이 적정 체중의 1/2배를 초과하면서 적정 체중의 2배 미만이라면 펫은 행복합니다. 펫의 실제 체중이 0 이하일 경우 펫은 사망하게 되며, 그 외의 경우 펫은 슬픕니다.\n",
    "\n",
    "당신은 콘솔을 통해 펫에게 아래의 두 가지 작용을 할 수 있습니다.\n",
    "\n",
    "1. 'E'와 숫자를 입력해 펫을 운동시킬 수 있습니다. 입력된 숫자(n)만큼의 시간(분; minute)이 지나면 펫의 실제 체중이 n 감소합니다.\n",
    "2. 'F'와 숫자를 입력해 펫에게 먹이를 줄 수 있습니다. 입력된 숫자(n)만큼 펫에게 먹이를 주면 펫의 실제 체중이 n 증가합니다.\n",
    "\n",
    "각 작용에 입력할 수 있는 숫자는 1 이상, 999 이하의 정수입니다. 매 작용이 끝날 때마다 펫은 자신의 상태를 표시하며, 펫이 중간에 죽는다면 이후의 작용은 무시됩니다."
   ]
  },
  {
   "cell_type": "markdown",
   "metadata": {},
   "source": [
    "### 입력\n",
    "\n",
    "---\n",
    "입력은 번호를 가진 시나리오들로 구성됩니다. 시나리오는 1번부터 시작되며 1씩 증가합니다.\n",
    "\n",
    "적정 체중(o)와 실제 체중(w)가 한 줄에 입력됨으로써 시나리오가 시작됩니다(10 ≤ o, w ≤ 1000). 그 다음 줄부터 펫에 가할 작용이 한 줄에 하나씩 주어지며, \"# 0\"을 마지막 줄로 하여 시나리오가 종료됩니다. \"# 0\"은 처리하지 않습니다.\n",
    "\n",
    "펫에게 가할 각 작용은 'E' 또는 'F'로 시작하며, 공백을 두고 숫자 n (1 ≤ n ≤ 999)이 주어집니다.\n",
    "\n",
    "모든 시나리오가 끝나면 \"0 0\"이 입력되며, \"0 0\"은 처리하지 않습니다.\n",
    "\n",
    "<br>\n",
    "\n",
    "### 출력\n",
    "---\n",
    "\n",
    "각 시나리오에 대하여, 시나리오 번호와 모든 작용이 완료된 후 펫의 상태를 공백으로 구분하여 한 줄씩 출력합니다.\n",
    "\n",
    "- 행복한 경우, \":-)\"을 출력합니다.\n",
    "- 슬픈 경우 \":-(\"을 출력합니다.\n",
    "- 사망한 경우 \"RIP\"를 출력합니다."
   ]
  },
  {
   "cell_type": "markdown",
   "metadata": {},
   "source": [
    "----"
   ]
  },
  {
   "cell_type": "markdown",
   "metadata": {},
   "source": [
    "### 예제 입력1\n",
    "\n",
    "```\n",
    "100 100\n",
    "F 10\n",
    "F 10\n",
    "E 20\n",
    "# 0\n",
    "50 30\n",
    "F 5\n",
    "E 20\n",
    "# 0\n",
    "0 0\n",
    "```\n",
    "\n",
    "### 예제 출력1\n",
    "\n",
    "```\n",
    "1 :-)\n",
    "2 :-(\n",
    "```\n",
    "\n"
   ]
  },
  {
   "cell_type": "markdown",
   "metadata": {},
   "source": [
    "### 풀이 1)"
   ]
  },
  {
   "cell_type": "code",
   "execution_count": 28,
   "metadata": {},
   "outputs": [
    {
     "name": "stdout",
     "output_type": "stream",
     "text": [
      "100 100\n",
      "F 10\n",
      "F 10\n",
      "E 20\n",
      "# 0\n",
      "1 :-(\n",
      "50 30\n",
      "F 5\n",
      "E 20\n",
      "# 0\n",
      "2 :-(\n",
      "0 0\n"
     ]
    }
   ],
   "source": [
    "# 적정체중(o) 실제 체중(w)\n",
    "import sys\n",
    "\n",
    "def Pet():\n",
    "    ex=[\":-)\",\"RIP\",\":-(\"]\n",
    "    if w>o*2 and w>o//2:\n",
    "        return ex[0]\n",
    "    elif w<=0:\n",
    "        return ex[1]\n",
    "    else:\n",
    "        return ex[2]\n",
    "\n",
    "cnt=1\n",
    "\n",
    "o,w = map(int, input().split())\n",
    "#o,w =map(int,sys.stdin.readline().split())\n",
    "\n",
    "while True:\n",
    "    #ef,n = map(str,sys.stdin.readline().split())\n",
    "    ef,n = map(str,input().split())\n",
    "    if ef==\"0\" and n==\"0\":\n",
    "        break\n",
    "    if ef==\"#\" and n==\"0\":\n",
    "        print(cnt,Pet())\n",
    "        cnt+=1\n",
    "    if ef==\"E\":\n",
    "        w-=int(n)\n",
    "    if ef==\"F\":\n",
    "        w+=int(n)\n",
    "  "
   ]
  },
  {
   "cell_type": "markdown",
   "metadata": {},
   "source": [
    "### 풀이 2)"
   ]
  },
  {
   "cell_type": "code",
   "execution_count": 23,
   "metadata": {},
   "outputs": [
    {
     "name": "stdout",
     "output_type": "stream",
     "text": [
      "100 100\n",
      "F 10\n",
      "F 10\n",
      "E 20\n",
      "# 0\n",
      "1 :-)\n",
      "50 30\n",
      "F 5\n",
      "E 20\n",
      "# 0\n",
      "2 :-(\n",
      "0 0\n"
     ]
    }
   ],
   "source": [
    "count = 0\n",
    "\n",
    "while True:\n",
    "    count += 1\n",
    "    death = 0\n",
    "    o, w = map(int, input().split())\n",
    "    \n",
    "    if o == 0 and w == 0:\n",
    "        break\n",
    "    \n",
    "    while True:\n",
    "        ef, n = input().split()\n",
    "        if ef == '#' and n == '0':\n",
    "            break\n",
    "        n = int(n)\n",
    "        if ef == 'E':\n",
    "            w -= n\n",
    "        else:\n",
    "            w += n\n",
    "        if w <= 0:\n",
    "            death = 1\n",
    "\n",
    "    print(count, end = \" \")\n",
    "    if death == 1:\n",
    "        print(\"RIP\")\n",
    "    else:\n",
    "        if w > o/2 and w < o*2:\n",
    "            print(\":-)\")\n",
    "        else:\n",
    "            print(\":-(\")"
   ]
  },
  {
   "cell_type": "code",
   "execution_count": null,
   "metadata": {},
   "outputs": [],
   "source": []
  }
 ],
 "metadata": {
  "kernelspec": {
   "display_name": "Python 3",
   "language": "python",
   "name": "python3"
  },
  "language_info": {
   "codemirror_mode": {
    "name": "ipython",
    "version": 3
   },
   "file_extension": ".py",
   "mimetype": "text/x-python",
   "name": "python",
   "nbconvert_exporter": "python",
   "pygments_lexer": "ipython3",
   "version": "3.8.3"
  }
 },
 "nbformat": 4,
 "nbformat_minor": 4
}
