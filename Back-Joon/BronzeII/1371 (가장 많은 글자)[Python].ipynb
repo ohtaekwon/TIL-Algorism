{
 "cells": [
  {
   "cell_type": "markdown",
   "metadata": {},
   "source": [
    "# 2진수 8진수\n",
    "\n",
    "\n",
    "<br>\n",
    "<br>\n",
    "\n",
    "## 문제\n",
    "\n",
    "---\n",
    "\n",
    "영어에서는 어떤 글자가 다른 글자보다 많이 쓰인다. 예를 들어, 긴 글에서 약 12.31% 글자는 e이다.\n",
    "\n",
    "어떤 글이 주어졌을 때, 가장 많이 나온 글자를 출력하는 프로그램을 작성하시오.\n",
    "<br>\n",
    "\n",
    "### 입력\n",
    "---\n",
    "첫째 줄부터 글의 문장이 주어진다. 글은 최대 50개의 줄로 이루어져 있고, 각 줄은 최대 50개의 글자로 이루어져 있다. 각 줄에는 공백과 알파벳 소문자만 있다. 문장에 알파벳은 적어도 하나 이상 있다.\n",
    "\n",
    "<br>\n",
    "\n",
    "### 출력\n",
    "---\n",
    "첫째 줄에 가장 많이 나온 문자를 출력한다. 여러 개일 경우에는 알파벳 순으로 앞서는 것부터 모두 공백없이 출력한다."
   ]
  },
  {
   "cell_type": "markdown",
   "metadata": {},
   "source": [
    "----"
   ]
  },
  {
   "cell_type": "markdown",
   "metadata": {},
   "source": [
    "### 예제 입력1\n",
    "\n",
    "```\n",
    "english is a west germanic\n",
    "language originating in england\n",
    "and is the first language for\n",
    "most people in the united\n",
    "kingdom the united states\n",
    "canada australia new zealand\n",
    "ireland and the anglophone\n",
    "caribbean it is used\n",
    "extensively as a second\n",
    "language and as an official\n",
    "language throughout the world\n",
    "especially in common wealth\n",
    "countries and in many\n",
    "international organizations\n",
    "```\n",
    "\n",
    "### 예제 출력1\n",
    "\n",
    "```\n",
    "a\n",
    "```"
   ]
  },
  {
   "cell_type": "markdown",
   "metadata": {},
   "source": [
    "### 풀이 1)\n",
    "\n",
    "하지만 틀렸습니다라는 메시지가 뜬다."
   ]
  },
  {
   "cell_type": "code",
   "execution_count": 15,
   "metadata": {},
   "outputs": [
    {
     "name": "stdout",
     "output_type": "stream",
     "text": [
      "english is a west germanic language originating in england and is the first language for most people in the united kingdom the united states canada australia new zealand ireland and the anglophone caribbean it is used extensively as a second language and as an official language throughout the world especially in common wealth countries and in many international organizations\n",
      "a\n"
     ]
    }
   ],
   "source": [
    "# 1. 알파벳 26개를 담은 word 리스트를 만든다. \n",
    "word=['a','b','c','d','e','f','g','h','i','j','k','l',\n",
    "      'm','n','o','p','q','r','s','t','u','v','w','x','y','z']\n",
    "# 2. string이라는 변수에 알파벳만 포함(isalpha)하는 메서드를 사용\n",
    "# list를 만든다.\n",
    "string=list(filter(str.isalpha, input()))\n",
    "\n",
    "# 3. sol이라는 딕셔너리의 key는 알파벳을 담고 valuse는 input에 입력된 알파벳의 나온 갯수를 담는다.\n",
    "sol={}\n",
    "\n",
    "# 4. for문을 활용하여 딕셔너리의 key값은 word리스트의 요소, values값은 count메서드를 활용한 개수\n",
    "for w in word:\n",
    "    sol[w]=string.count(w)\n",
    "\n",
    "# 5. for문을 활용하여 sol 딕셔너리에서 sol의 key값들 중 value가 최대인 것을 result 리스트에 담기    \n",
    "result=[key for key, values in sol.items() if sol[(key)]==max(sol.values())]\n",
    "\n",
    "# 6. result리스트에서 공백을 제거하고 출력\n",
    "print(\"\".join(result)) # 리스트의 요소들을 공백을 활용하여 출력\n"
   ]
  },
  {
   "cell_type": "code",
   "execution_count": 17,
   "metadata": {},
   "outputs": [
    {
     "name": "stdout",
     "output_type": "stream",
     "text": [
      "{'a': 41, 'b': 2, 'c': 8, 'd': 14, 'e': 33, 'f': 4, 'g': 17, 'h': 10, 'i': 29, 'j': 0, 'k': 1, 'l': 18, 'm': 6, 'n': 39, 'o': 18, 'p': 4, 'q': 0, 'r': 12, 's': 18, 't': 23, 'u': 11, 'v': 1, 'w': 4, 'x': 1, 'y': 3, 'z': 2}\n"
     ]
    }
   ],
   "source": [
    "print(sol)"
   ]
  },
  {
   "cell_type": "markdown",
   "metadata": {},
   "source": [
    "### 풀이 1-1)\n",
    "\n",
    "`import sys`와 \n",
    "\n",
    "`input` 을  `sys.stdin.read()` 로 바꿔준다"
   ]
  },
  {
   "cell_type": "code",
   "execution_count": 12,
   "metadata": {},
   "outputs": [
    {
     "name": "stdout",
     "output_type": "stream",
     "text": [
      "abcdefghijklmnopqrstuvwxyz\n"
     ]
    }
   ],
   "source": [
    "import sys\n",
    "\n",
    "# 1. 알파벳 26개를 담은 word 리스트를 만든다. \n",
    "word=['a','b','c','d','e','f','g','h','i','j','k','l',\n",
    "      'm','n','o','p','q','r','s','t','u','v','w','x','y','z']\n",
    "# 2. string이라는 변수에 알파벳만 포함(isalpha)하는 메서드를 사용\n",
    "# list를 만든다.\n",
    "string=list(filter(str.isalpha, sys.stdin.read()))\n",
    "\n",
    "# 3. sol이라는 딕셔너리의 key는 알파벳을 담고 valuse는 input에 입력된 알파벳의 나온 갯수를 담는다.\n",
    "sol={}\n",
    "\n",
    "# 4. for문을 활용하여 딕셔너리의 key값은 word리스트의 요소, values값은 count메서드를 활용한 개수\n",
    "for w in word:\n",
    "    sol[w]=string.count(w)\n",
    "\n",
    "# 5. for문을 활용하여 sol 딕셔너리에서 sol의 key값들 중 value가 최대인 것을 result 리스트에 담기    \n",
    "result=[key for key, values in sol.items() if sol[(key)]==max(sol.values())]\n",
    "\n",
    "# 6. result리스트에서 공백을 제거하고 출력\n",
    "print(\"\".join(result)) # 리스트의 요소들을 공백을 활용하여 출력\n"
   ]
  },
  {
   "cell_type": "markdown",
   "metadata": {},
   "source": [
    "### 풀이 2)"
   ]
  },
  {
   "cell_type": "code",
   "execution_count": 6,
   "metadata": {},
   "outputs": [
    {
     "name": "stdout",
     "output_type": "stream",
     "text": [
      "abcdefghijklmnopqrstuvwxyz\n"
     ]
    }
   ],
   "source": [
    "import sys\n",
    "\n",
    "S = sys.stdin.read()\n",
    "cnt = [0] * 26\n",
    "for s in S:\n",
    "    if s.islower():\n",
    "        cnt[ord(s) - ord('a')] += 1\n",
    "\n",
    "max_value = max(cnt)\n",
    "result = ''\n",
    "for i in range(len(cnt)):\n",
    "    if cnt[i] == max_value:\n",
    "        result += chr(i + ord('a'))\n",
    "print(result)\n"
   ]
  },
  {
   "cell_type": "markdown",
   "metadata": {},
   "source": [
    "### 풀이 3)"
   ]
  },
  {
   "cell_type": "code",
   "execution_count": 9,
   "metadata": {},
   "outputs": [
    {
     "name": "stdout",
     "output_type": "stream",
     "text": [
      "abc\n",
      "a\n"
     ]
    }
   ],
   "source": [
    "def most_common_word(input_string): \n",
    "    count_dict = {} \n",
    "    result = \"\" \n",
    "    alphabet_word = \"abcdefghijklmnopqrstuvwxyz\" \n",
    "    \n",
    "    for alphabet in alphabet_word: \n",
    "        count_dict[alphabet] = input_string.count(alphabet) \n",
    "        \n",
    "    items = sorted(count_dict.items(), key=lambda x: (-x[1], x[0])) \n",
    "    \n",
    "    max_count = items[0][1] \n",
    "    \n",
    "    for item in items: \n",
    "        if item[1] == max_count: \n",
    "            result += item[0] \n",
    "        return result\n",
    "\n",
    "if __name__ == \"__main__\":\n",
    "    input_string=input()\n",
    "    \n",
    "    print(most_common_word(input_string))"
   ]
  }
 ],
 "metadata": {
  "kernelspec": {
   "display_name": "Python 3",
   "language": "python",
   "name": "python3"
  },
  "language_info": {
   "codemirror_mode": {
    "name": "ipython",
    "version": 3
   },
   "file_extension": ".py",
   "mimetype": "text/x-python",
   "name": "python",
   "nbconvert_exporter": "python",
   "pygments_lexer": "ipython3",
   "version": "3.8.3"
  }
 },
 "nbformat": 4,
 "nbformat_minor": 4
}
