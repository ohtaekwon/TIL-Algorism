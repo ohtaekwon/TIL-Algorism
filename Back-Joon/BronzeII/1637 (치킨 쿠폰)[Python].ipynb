{
 "cells": [
  {
   "cell_type": "markdown",
   "metadata": {},
   "source": [
    "# [치킨 쿠폰](https://www.acmicpc.net/problem/1673)\n",
    "\n",
    "<br/>\n",
    "<br/>\n",
    "\n",
    "## 문제\n",
    "\n",
    "강민이는 치킨 한 마리를 주문할 수 있는 치킨 쿠폰을 n장 가지고 있다. 이 치킨집에서는 치킨을 한 마리 주문할 때마다 도장을 하나씩 찍어 주는데, 도장을 k개 모으면 치킨 쿠폰 한 장으로 교환할 수 있다.\n",
    "\n",
    "강민이가 지금 갖고 있는 치킨 쿠폰으로 치킨을 최대 몇 마리나 먹을 수 있는지 구하여라. 단, 치킨을 주문하기 위해서는 반드시 치킨 쿠폰을 갖고 있어야 한다.\n",
    "\n",
    "## 입력\n",
    "\n",
    "여러 줄에 걸쳐서 자연수 n과 k가 주어진다.\n",
    "\n",
    "## 출력\n",
    "\n",
    "각 입력마다 한 줄에 정답을 출력한다.\n",
    "\n",
    "## 제한\n",
    "\n",
    "- 1 < k ≤ n ≤ 1,000,000,000\n",
    "\n",
    "\n",
    "## 예제 입력\n",
    "\n",
    "```\n",
    "4 3\n",
    "10 3\n",
    "100 5\n",
    "```\n",
    "\n",
    "## 예제 출력\n",
    "\n",
    "```\n",
    "5\n",
    "14\n",
    "124\n",
    "```\n",
    "\n",
    "## 알고리즘 분류\n",
    "\n",
    "- 수학\n",
    "- 구현"
   ]
  },
  {
   "cell_type": "markdown",
   "metadata": {},
   "source": [
    "----"
   ]
  },
  {
   "cell_type": "markdown",
   "metadata": {},
   "source": [
    "## 풀이 방법\n",
    "\n",
    "### 제한 사항\n",
    "\n",
    "-  N(3 ≤ N ≤ 100)\n",
    "- M(10 ≤ M ≤ 300,000)\n",
    "- 세장의 카드 합이 m을 넘지 않아야 한다.\n",
    "\n",
    "### 문제 풀이 핵심 아이디어\n",
    "\n",
    "- 1. 카드 중 3개씩 뽑는 모든 경우의 수는 $n$ $C$$~$3 이며, n은 최대 100이다.\n",
    "    - 즉, 전체 경우의 수를 전부 고려해도 1000000이라 하더라도\n",
    "    - 컴퓨터가 충분히 계산이 가능하다.\n",
    "    - 따라서, 완전탐색으로 문제를 풀어도 가능하다.\n",
    "- 2. 따라서, 단순히 3중 반복문으로 모든 경우의 수를 확인하여 문제를 해결할 수 있다. \n",
    "\n"
   ]
  },
  {
   "cell_type": "markdown",
   "metadata": {},
   "source": [
    "### 풀이1)"
   ]
  },
  {
   "cell_type": "code",
   "execution_count": 61,
   "metadata": {},
   "outputs": [
    {
     "name": "stdout",
     "output_type": "stream",
     "text": [
      "673\n",
      "7\n",
      "39\n",
      "3\n",
      "0\n"
     ]
    }
   ],
   "source": [
    "# h=쿠폰 개수 , k=\n",
    "# k-n = 0 일 때, 먹을 수 있는 마리 1 추가"
   ]
  },
  {
   "cell_type": "code",
   "execution_count": 15,
   "metadata": {},
   "outputs": [
    {
     "name": "stdout",
     "output_type": "stream",
     "text": [
      "100 5\n",
      "124\n"
     ]
    }
   ],
   "source": [
    "import sys\n",
    "for i in sys.stdin.readlines():\n",
    "    n,k = map(int,i.strip().split())\n",
    "    cnt=0\n",
    "    temp=0\n",
    "\n",
    "    while n:\n",
    "        if temp==k:\n",
    "            n+=1\n",
    "            temp=0\n",
    "        n-=1\n",
    "        cnt+=1\n",
    "        temp+=1\n",
    "\n",
    "    print(cnt)"
   ]
  },
  {
   "cell_type": "code",
   "execution_count": 12,
   "metadata": {},
   "outputs": [
    {
     "name": "stdout",
     "output_type": "stream",
     "text": [
      "124\n"
     ]
    }
   ],
   "source": [
    "while 1:\n",
    "    try:\n",
    "        n, k = map(int, input().split())\n",
    "        res = 0 \n",
    "        res += n\n",
    "        while n//k:\n",
    "            res += n//k\n",
    "            n = n//k + n%k\n",
    "        print(res)\n",
    "    except:\n",
    "        break"
   ]
  },
  {
   "cell_type": "code",
   "execution_count": 4,
   "metadata": {},
   "outputs": [
    {
     "data": {
      "text/plain": [
       "0"
      ]
     },
     "execution_count": 4,
     "metadata": {},
     "output_type": "execute_result"
    }
   ],
   "source": [
    "cnt"
   ]
  },
  {
   "cell_type": "code",
   "execution_count": 6,
   "metadata": {},
   "outputs": [
    {
     "data": {
      "text/plain": [
       "0"
      ]
     },
     "execution_count": 6,
     "metadata": {},
     "output_type": "execute_result"
    }
   ],
   "source": [
    "n"
   ]
  },
  {
   "cell_type": "code",
   "execution_count": null,
   "metadata": {},
   "outputs": [],
   "source": []
  }
 ],
 "metadata": {
  "kernelspec": {
   "display_name": "Python 3 (ipykernel)",
   "language": "python",
   "name": "python3"
  },
  "language_info": {
   "codemirror_mode": {
    "name": "ipython",
    "version": 3
   },
   "file_extension": ".py",
   "mimetype": "text/x-python",
   "name": "python",
   "nbconvert_exporter": "python",
   "pygments_lexer": "ipython3",
   "version": "3.9.7"
  }
 },
 "nbformat": 4,
 "nbformat_minor": 4
}
