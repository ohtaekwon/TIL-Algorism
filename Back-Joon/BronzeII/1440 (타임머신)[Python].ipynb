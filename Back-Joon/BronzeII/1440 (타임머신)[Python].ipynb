{
 "cells": [
  {
   "cell_type": "markdown",
   "metadata": {},
   "source": [
    "# 나누기\n",
    "\n",
    "\n",
    "<br>\n",
    "<br>\n",
    "\n",
    "## 문제\n",
    "\n",
    "---\n",
    "\n",
    "다솜이는 타임머신을 타고 8364년으로 갔다. 다행히 지구는 평화롭다.\n",
    "\n",
    "다솜이는 2008년으로 돌아가기 전에 시계를 샀다. 다솜이는 시계를 볼 줄 모르기 때문에, 디지털 시계를 샀다. 디지털 시계는 HH:MM:SS와 같은 모양으로 시간을 나타내 준다. 그리고 앞에서부터 차례대로 HH는 시, MM은 분, SS는 초를 나타낸다.\n",
    "\n",
    "다솜이는 8364년에는 2008년과 같은 방법으로 시간을 나타내는지 모른다. 2008년엔 시:분:초를 나타내는지만, 8364년엔 분:시:초로 나타낼지도 모른다.\n",
    "\n",
    "다행히 시는 01부터 12, 분은 00부터 59, 초는 00부터 59를 나타낸다.\n",
    "\n",
    "다솜이의 시계에 쓰여 있는 숫자가 주어졌을 때, 이 시간을 읽을 수 있는 가능한 방법의 수를 출력하는 프로그램을 작성하시오. 나타내는 시간이 같더라도, 시, 분, 초를 읽을 수 있는 위치가 다르면 다른 방법으로 센다. 또한, 방법의 수가 0일 수도 있다.\n",
    "\n",
    "예를 들어, 21:23:01 은 21분 23초 01시 로 읽을 수도 있지만, 21초 23분 01시로 읽을 수도 있다.\n",
    "\n",
    "<br>\n",
    "\n",
    "### 입력\n",
    "\n",
    "---\n",
    "첫째 줄에 시간이 주어진다. 시간은 DD:DD:DD와 같은 꼴로 주어진다. 항상 8자리(:도 포함)로만 들어오며, D는 0-9 사이의 숫자이다\n",
    "\n",
    "<br>\n",
    "\n",
    "### 출력\n",
    "---\n",
    "첫째 줄에 시간을 읽을 수 있는 가능한 방법의 수를 출력한다.\n"
   ]
  },
  {
   "cell_type": "markdown",
   "metadata": {},
   "source": [
    "----"
   ]
  },
  {
   "cell_type": "markdown",
   "metadata": {},
   "source": [
    "### 예제 입력1\n",
    "\n",
    "```\n",
    "00:00:00\n",
    "```\n",
    "\n",
    "### 예제 출력1\n",
    "\n",
    "```\n",
    "0\n",
    "```"
   ]
  },
  {
   "cell_type": "markdown",
   "metadata": {},
   "source": [
    "### 예제 입력2\n",
    "\n",
    "```\n",
    "01:00:00\n",
    "\n",
    "```\n",
    "\n",
    "### 예제 출력2\n",
    "\n",
    "```\n",
    "2\n",
    "```"
   ]
  },
  {
   "cell_type": "markdown",
   "metadata": {},
   "source": [
    "### 예제 입력3\n",
    "\n",
    "```\n",
    "01:12:23\n",
    "```\n",
    "\n",
    "### 예제 출력3\n",
    "\n",
    "```\n",
    "4\n",
    "```"
   ]
  },
  {
   "cell_type": "markdown",
   "metadata": {},
   "source": [
    "### 풀이 1)\n",
    "\n",
    "틀렸다고 나온다..."
   ]
  },
  {
   "cell_type": "code",
   "execution_count": 148,
   "metadata": {},
   "outputs": [
    {
     "name": "stdout",
     "output_type": "stream",
     "text": [
      "23:23:01\n",
      "2\n"
     ]
    }
   ],
   "source": [
    "Time=list(map(int,input().split(\":\")))\n",
    "\n",
    "count_H=0\n",
    "count_MS=0\n",
    "count_zero=0\n",
    "\n",
    "for t in Time:\n",
    "    if 0<t<=12:\n",
    "        count_H+=1\n",
    "    if 12<t<=59:\n",
    "        count_MS+=1\n",
    "    if t==0:\n",
    "        count_zero+=1\n",
    "\n",
    "if count_zero==3 or count_H==0:\n",
    "    print(0)\n",
    "if count_H==1 :\n",
    "    print(2)\n",
    "if count_H==2 :\n",
    "    print(4)\n",
    "if count_H==3:\n",
    "    print(6)\n"
   ]
  },
  {
   "cell_type": "markdown",
   "metadata": {},
   "source": [
    "### 답2)"
   ]
  },
  {
   "cell_type": "code",
   "execution_count": 149,
   "metadata": {},
   "outputs": [
    {
     "name": "stdout",
     "output_type": "stream",
     "text": [
      "23:23:01\n",
      "2\n"
     ]
    }
   ],
   "source": [
    "from itertools import permutations\n",
    "perms = list(permutations(map(int, input().split(\":\"))))\n",
    "cnt = 0\n",
    "for perm in perms:\n",
    "    if 1 <= perm[0] <= 12 and 0 <= perm[1] <= 59 and 0 <= perm[2] <= 59:\n",
    "        cnt += 1\n",
    "print(cnt)\n",
    "\n"
   ]
  },
  {
   "cell_type": "code",
   "execution_count": 98,
   "metadata": {},
   "outputs": [
    {
     "data": {
      "text/plain": [
       "[(21, 23, 1), (21, 1, 23), (23, 21, 1), (23, 1, 21), (1, 21, 23), (1, 23, 21)]"
      ]
     },
     "execution_count": 98,
     "metadata": {},
     "output_type": "execute_result"
    }
   ],
   "source": [
    "perms"
   ]
  },
  {
   "cell_type": "code",
   "execution_count": null,
   "metadata": {},
   "outputs": [],
   "source": []
  }
 ],
 "metadata": {
  "kernelspec": {
   "display_name": "Python 3",
   "language": "python",
   "name": "python3"
  },
  "language_info": {
   "codemirror_mode": {
    "name": "ipython",
    "version": 3
   },
   "file_extension": ".py",
   "mimetype": "text/x-python",
   "name": "python",
   "nbconvert_exporter": "python",
   "pygments_lexer": "ipython3",
   "version": "3.8.3"
  }
 },
 "nbformat": 4,
 "nbformat_minor": 4
}
