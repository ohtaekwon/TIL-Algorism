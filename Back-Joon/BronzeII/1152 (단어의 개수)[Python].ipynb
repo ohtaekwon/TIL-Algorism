{
 "cells": [
  {
   "cell_type": "markdown",
   "metadata": {},
   "source": [
    "# 단어의 개수\n",
    "\n",
    "\n",
    "<br>\n",
    "<br>\n",
    "\n",
    "## 문제\n",
    "\n",
    "---\n",
    "\n",
    "영어 대소문자와 공백으로 이루어진 문자열이 주어진다. 이 문자열에는 몇 개의 단어가 있을까? 이를 구하는 프로그램을 작성하시오. 단, 한 단어가 여러 번 등장하면 등장한 횟수만큼 모두 세어야 한다."
   ]
  },
  {
   "cell_type": "markdown",
   "metadata": {},
   "source": [
    "### 입력\n",
    "\n",
    "---\n",
    "첫 줄에 영어 대소문자와 공백으로 이루어진 문자열이 주어진다. 이 문자열의 길이는 1,000,000을 넘지 않는다. 단어는 공백 한 개로 구분되며, 공백이 연속해서 나오는 경우는 없다. 또한 문자열은 공백으로 시작하거나 끝날 수 있다.\n",
    "\n",
    "\n",
    "\n",
    "### 출력\n",
    "---\n",
    "첫째 줄에 단어의 개수를 출력한다.\n"
   ]
  },
  {
   "cell_type": "markdown",
   "metadata": {},
   "source": [
    "----"
   ]
  },
  {
   "cell_type": "markdown",
   "metadata": {},
   "source": [
    "### 예제 입력1\n",
    "\n",
    "```\n",
    "The Curious Case of Benjamin Button\n",
    "```\n",
    "\n",
    "### 예제 출력1\n",
    "\n",
    "```\n",
    "6\n",
    "```"
   ]
  },
  {
   "cell_type": "markdown",
   "metadata": {},
   "source": [
    "### 예제 입력2\n",
    "\n",
    "```\n",
    " The first character is a blank\n",
    "```\n",
    "\n",
    "### 예제 출력2\n",
    "\n",
    "```\n",
    "6\n",
    "```"
   ]
  },
  {
   "cell_type": "markdown",
   "metadata": {},
   "source": [
    "### 예제 입력3\n",
    "\n",
    "```\n",
    "The last character is a blank \n",
    "```\n",
    "\n",
    "### 예제 출력3\n",
    "\n",
    "```\n",
    "6\n",
    "```"
   ]
  },
  {
   "cell_type": "markdown",
   "metadata": {},
   "source": [
    "### 풀이\n",
    "\n",
    "\n",
    "1. 문장 앞이나 뒤에 '공백(띄어쓰기)'이 있는 경우\n",
    "    - 문장을 띄어쓰기로 분리하면 '공백'도 리스트 안에 포함된다. 따라서, `list.remove(' ')`로 공백을 제거해야한다.\n",
    "\n",
    "\n",
    "2. 문장 앞 뒤 양쪽에 '공백' 이 있는 경우\n",
    "    - `list.remove(' ')` 는 공백을 모두 없애는 게 아니라 한 번만 삭제한다. 따라서 양쪽의 공백을 모두 제거해야 한다.\n",
    "    \n",
    "    \n",
    "3. 단어 하나도 없고 공백만 있는 경우\n",
    "    - 이런 경우에도 공백을 문자열로 인식하므로 위처럼 공백을 제거해야한다."
   ]
  },
  {
   "cell_type": "markdown",
   "metadata": {},
   "source": [
    "#### 풀이 1-1) 리스트로 풀기"
   ]
  },
  {
   "cell_type": "code",
   "execution_count": 77,
   "metadata": {},
   "outputs": [
    {
     "name": "stdout",
     "output_type": "stream",
     "text": [
      " The first character is a blank\n",
      "6\n"
     ]
    }
   ],
   "source": [
    "words = list(input())\n",
    "\n",
    "if words[0]==\" \":\n",
    "    del words[0]\n",
    "\n",
    "if words[-1]==' ':\n",
    "    del words[-1]\n",
    "    \n",
    "print(words.count(\" \")+1)"
   ]
  },
  {
   "cell_type": "markdown",
   "metadata": {},
   "source": [
    "#### 풀이 1-2) "
   ]
  },
  {
   "cell_type": "code",
   "execution_count": null,
   "metadata": {},
   "outputs": [],
   "source": [
    "string = input(\"\")\n",
    "if string == \" \": # 문장 자체가 공백인 경우 \n",
    "    print(0)\n",
    "else : \n",
    "    words = string.split(\" \") # 띄어쓰기로 구분\n",
    "    \n",
    "    while '' in words : #문장 양쪽에 있는 공백이 없어질 때까지 반복\n",
    "        words.remove('')\n",
    "        \n",
    "print(len(words))"
   ]
  },
  {
   "cell_type": "markdown",
   "metadata": {},
   "source": [
    "#### 풀이 1-3) "
   ]
  },
  {
   "cell_type": "code",
   "execution_count": null,
   "metadata": {},
   "outputs": [],
   "source": [
    "string = input(\"\")\n",
    "words = string.split(\" \")\n",
    "words = [w for w in words if w != \"\"] # 공백이 아닌 경우에만 words에 넣음 # 리스트 조건제시법\n",
    "print(len(words)) "
   ]
  },
  {
   "cell_type": "markdown",
   "metadata": {},
   "source": [
    "#### 풀이 2)"
   ]
  },
  {
   "cell_type": "code",
   "execution_count": 36,
   "metadata": {},
   "outputs": [
    {
     "name": "stdout",
     "output_type": "stream",
     "text": [
      "The last character is a blank \n",
      "6\n"
     ]
    }
   ],
   "source": [
    "word=input().split()\n",
    "print(len(word))"
   ]
  },
  {
   "cell_type": "code",
   "execution_count": 45,
   "metadata": {},
   "outputs": [
    {
     "name": "stdout",
     "output_type": "stream",
     "text": [
      "words = list(input())\n",
      "3\n"
     ]
    }
   ],
   "source": [
    "# 한줄로 작성하기\n",
    "print(len(input().split()))"
   ]
  }
 ],
 "metadata": {
  "kernelspec": {
   "display_name": "Python 3",
   "language": "python",
   "name": "python3"
  },
  "language_info": {
   "codemirror_mode": {
    "name": "ipython",
    "version": 3
   },
   "file_extension": ".py",
   "mimetype": "text/x-python",
   "name": "python",
   "nbconvert_exporter": "python",
   "pygments_lexer": "ipython3",
   "version": "3.8.3"
  }
 },
 "nbformat": 4,
 "nbformat_minor": 4
}
