{
 "cells": [
  {
   "cell_type": "markdown",
   "metadata": {},
   "source": [
    "# 이상한 곱셈\n",
    "\n",
    "\n",
    "\n",
    "<br>\n",
    "<br>\n",
    "\n",
    "## 문제\n",
    "\n",
    "---\n",
    "\n",
    "A×B를 계산하다 지겨워진 형택이는 A×B를 새로운 방법으로 정의하려고 한다.\n",
    "\n",
    "A에서 한 자리를 뽑고 × B에서 임의로 한 자리를 뽑아 곱한다.\n",
    "\n",
    "의 가능한 모든 조합 (A가 n자리, B가 m자리 수라면 총 가능한 조합은 n×m개)을 더한 수로 정의하려고 한다.\n",
    "\n",
    "예를 들어 121×34는\n",
    "\n",
    "1×3 + 1×4 + 2×3 + 2×4 + 1×3 + 1×4 = 28\n",
    "\n",
    "이 된다. 이러한 형택이의 곱셈 결과를 구하는 프로그램을 작성하시오."
   ]
  },
  {
   "cell_type": "markdown",
   "metadata": {},
   "source": [
    "### 입력\n",
    "\n",
    "---\n",
    "첫째 줄에 A와 B가 주어진다. 주어지는 두 수는 모두 10,000자리를 넘는 음이 아닌 정수이다. 수가 0인 경우에는 0만 주어지며, 그 외의 경우 수는 0으로 시작하지 않는다.\n",
    "\n",
    "\n",
    "### 출력\n",
    "---\n",
    "첫째 줄에 형택이의 곱셈 결과를 출력한다.\n",
    "\n"
   ]
  },
  {
   "cell_type": "markdown",
   "metadata": {},
   "source": [
    "----"
   ]
  },
  {
   "cell_type": "markdown",
   "metadata": {},
   "source": [
    "### 예제 입력1\n",
    "\n",
    "```\n",
    "123 45\n",
    "```\n",
    "\n",
    "### 예제 출력1\n",
    "\n",
    "```\n",
    "54\n",
    "```"
   ]
  },
  {
   "cell_type": "markdown",
   "metadata": {},
   "source": [
    "### 풀이\n",
    "\n",
    "\n"
   ]
  },
  {
   "cell_type": "markdown",
   "metadata": {},
   "source": [
    "#### 풀이 1-1) 시관초가가 나옴\n",
    "\n",
    "첫 째 줄에 num1. num2가 주어진다. 주어지는 두 수는 모두 10,000자리를 넘지 않는다.\n",
    "\n",
    "위 조건을 보고 생각해보면 가장 오래 걸리는 경우는 10,000 * 10,000 == 100,000,000 이다.\n",
    "\n",
    "또한, abc x def 일때, 구하는 식은(ad + ae + af + bd + be + bf + cd + ce + cf)이다. \n",
    "\n",
    "이것은 (a+b+c) x (d+e+f) 와 같다."
   ]
  },
  {
   "cell_type": "code",
   "execution_count": 26,
   "metadata": {},
   "outputs": [
    {
     "name": "stdout",
     "output_type": "stream",
     "text": [
      "100000 100000\n",
      "1\n"
     ]
    }
   ],
   "source": [
    "\n",
    "num1, num2 = map(str, input().split())\n",
    "\n",
    "solution=0\n",
    "\n",
    "for i in range(len(num1)):\n",
    "    for j in range(len(num2)):\n",
    "        solution+=int(num1[i]) * int(num2[j])\n",
    "        \n",
    "print(solution)"
   ]
  },
  {
   "cell_type": "markdown",
   "metadata": {},
   "source": [
    "#### 풀이 1-2) "
   ]
  },
  {
   "cell_type": "code",
   "execution_count": 30,
   "metadata": {},
   "outputs": [
    {
     "name": "stdout",
     "output_type": "stream",
     "text": [
      "123 45\n",
      "54\n"
     ]
    }
   ],
   "source": [
    "num1, num2 =  map(str, input().split())\n",
    "\n",
    "a=list(map(int, num1))\n",
    "b=list(map(int, num2))\n",
    "\n",
    "print(sum(a)*sum(b))\n",
    "        "
   ]
  },
  {
   "cell_type": "markdown",
   "metadata": {},
   "source": [
    "#### 풀이 2-1) 함수를 이용"
   ]
  },
  {
   "cell_type": "code",
   "execution_count": 31,
   "metadata": {},
   "outputs": [
    {
     "name": "stdout",
     "output_type": "stream",
     "text": [
      "123 45\n",
      "54\n"
     ]
    }
   ],
   "source": [
    "def strange_multiplication(string): \n",
    "    result = 0 \n",
    "    number1, number2 = string.split() \n",
    "    \n",
    "    for num1 in number1: \n",
    "        for num2 in number2: \n",
    "            result += int(num1) * int(num2) \n",
    "    \n",
    "    return result \n",
    "        \n",
    "    \n",
    "if __name__ == \"__main__\": \n",
    "    string = input() \n",
    "    \n",
    "    print(strange_multiplication(string))\n",
    "\n"
   ]
  },
  {
   "cell_type": "markdown",
   "metadata": {},
   "source": [
    "#### 풀이 2-2)"
   ]
  },
  {
   "cell_type": "code",
   "execution_count": 32,
   "metadata": {},
   "outputs": [
    {
     "name": "stdout",
     "output_type": "stream",
     "text": [
      "123 45\n",
      "54\n"
     ]
    }
   ],
   "source": [
    "def strange_multiplication(string): \n",
    "    result = 0 \n",
    "    number1, number2 = string.split() \n",
    "    num1 = list(map(int, number1)) \n",
    "    num2 = list(map(int, number2)) \n",
    "    return sum(num1) * sum(num2) \n",
    "\n",
    "if __name__ == \"__main__\": \n",
    "    string = input() \n",
    "    print(strange_multiplication(string))"
   ]
  },
  {
   "cell_type": "code",
   "execution_count": null,
   "metadata": {},
   "outputs": [],
   "source": [
    "def strangeMultiplecation(string):\n",
    "    result=0\n",
    "    num1,num2 = string.split()\n",
    "    a=list(map(int, num1))\n",
    "    b=list(map(int, num2))\n",
    "    \n",
    "    return "
   ]
  }
 ],
 "metadata": {
  "kernelspec": {
   "display_name": "Python 3",
   "language": "python",
   "name": "python3"
  },
  "language_info": {
   "codemirror_mode": {
    "name": "ipython",
    "version": 3
   },
   "file_extension": ".py",
   "mimetype": "text/x-python",
   "name": "python",
   "nbconvert_exporter": "python",
   "pygments_lexer": "ipython3",
   "version": "3.8.3"
  }
 },
 "nbformat": 4,
 "nbformat_minor": 4
}
