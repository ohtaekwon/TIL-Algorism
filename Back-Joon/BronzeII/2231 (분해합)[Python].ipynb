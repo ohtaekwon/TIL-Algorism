{
 "cells": [
  {
   "cell_type": "markdown",
   "metadata": {},
   "source": [
    "# 분해합\n",
    "---\n",
    "\n",
    "<br>\n",
    "\n",
    "\n",
    "## 문제\n",
    "---\n",
    "\n",
    "어떤 자연수 N이 있을 때, 그 자연수 N의 분해합은 N과 N을 이루는 각 자리수의 합을 의미한다. 어떤 자연수 M의 분해합이 N인 경우, M을 N의 생성자라 한다. 예를 들어, 245의 분해합은 256(=245+2+4+5)이 된다. 따라서 245는 256의 생성자가 된다. 물론, 어떤 자연수의 경우에는 생성자가 없을 수도 있다. 반대로, 생성자가 여러 개인 자연수도 있을 수 있다.\n",
    "\n",
    "자연수 N이 주어졌을 때, N의 가장 작은 생성자를 구해내는 프로그램을 작성하시오.\n",
    "\n",
    "<br>\n",
    "\n",
    "### 입력\n",
    "---\n",
    "첫째 줄에 자연수 N(1 ≤ N ≤ 1,000,000)이 주어진다.\n",
    "\n",
    "<br>\n",
    "\n",
    "### 출력\n",
    "---\n",
    "\n",
    "첫째 줄에 답을 출력한다. 생성자가 없는 경우에는 0을 출력한다."
   ]
  },
  {
   "cell_type": "markdown",
   "metadata": {},
   "source": [
    "### 예제 입력1\n",
    "\n",
    "```\n",
    "216\n",
    "```\n",
    "\n",
    "### 예제 출력1\n",
    "\n",
    "```\n",
    "198\n",
    "```"
   ]
  },
  {
   "cell_type": "markdown",
   "metadata": {},
   "source": [
    "----"
   ]
  },
  {
   "cell_type": "markdown",
   "metadata": {},
   "source": [
    "### 풀이 1) "
   ]
  },
  {
   "cell_type": "code",
   "execution_count": 14,
   "metadata": {},
   "outputs": [
    {
     "name": "stdout",
     "output_type": "stream",
     "text": [
      "216\n",
      "198\n"
     ]
    }
   ],
   "source": [
    "n = int(input())  # 분해합을 입력값으로 받음\n",
    "\n",
    "for i in range(1, n+1):   # 해당 분해합의 생성자 찾기\n",
    "    num = sum(map(int, str(i)))  # i의 각 자릿수를 더함\n",
    "    num_sum = i + num  # 분해합 = 생성자 + 각 자릿수의 합\n",
    "    # i가 작은 수부터 차례로 들어가므로 처음으로 분해합과 입력값이 같을때가 가장 작은 생성자를 가짐\n",
    "    if num_sum == n:\n",
    "        print(i)\n",
    "        break\n",
    "    if i == n:  # 생성자 i와 입력값이 같다는 것은 생성자가 없다는 뜻\n",
    "        print(0)"
   ]
  },
  {
   "cell_type": "markdown",
   "metadata": {},
   "source": [
    "### 풀이 2) "
   ]
  },
  {
   "cell_type": "code",
   "execution_count": 24,
   "metadata": {},
   "outputs": [
    {
     "name": "stdout",
     "output_type": "stream",
     "text": [
      "216\n",
      "198\n"
     ]
    }
   ],
   "source": [
    "# boj, 2231 : 분해합, python3\n",
    "N = int(input())\n",
    "result = 0\n",
    "\n",
    "for i in range(1, N+1):        \n",
    "    a = list(map(int, str(i)))  \n",
    "    s = i + sum(a)              \n",
    "    if(s == N):                 \n",
    "        result = i                   \n",
    "        break\n",
    "\n",
    "print(result)"
   ]
  }
 ],
 "metadata": {
  "kernelspec": {
   "display_name": "Python 3 (ipykernel)",
   "language": "python",
   "name": "python3"
  },
  "language_info": {
   "codemirror_mode": {
    "name": "ipython",
    "version": 3
   },
   "file_extension": ".py",
   "mimetype": "text/x-python",
   "name": "python",
   "nbconvert_exporter": "python",
   "pygments_lexer": "ipython3",
   "version": "3.9.7"
  }
 },
 "nbformat": 4,
 "nbformat_minor": 4
}
