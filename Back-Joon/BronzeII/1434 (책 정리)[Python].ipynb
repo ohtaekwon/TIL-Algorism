{
 "cells": [
  {
   "cell_type": "markdown",
   "metadata": {},
   "source": [
    "# 책 정리\n",
    "\n",
    "\n",
    "\n",
    "<br>\n",
    "<br>\n",
    "\n",
    "## 문제\n",
    "\n",
    "---\n",
    "\n",
    "빈 박스 N개가 한 줄로 놓여져 있고, 박스에 책 M개를 넣으려고 한다. 박스는 1번부터 N번까지 번호가 매겨져 있고, 책도 1번부터 M번까지 번호가 매겨져 있다. 다음은 책을 박스에 넣는 방법이며, 가장 처음에는 1번 박스의 앞에 있고, 손에는 1번 책을 들고 있다.\n",
    "\n",
    "1. 현재 책이 현재 박스에 들어가지 않으면, 3번으로 간다. 아니면 2번으로 간다.\n",
    "2. 현재 책을 현재 박스에 넣는다. 다음 책을 손에 집고 1번으로 간다.\n",
    "3. 현재 박스를 다른 쪽으로 치운 다음에, 테이프로 못 열게 봉인한다. 다음 박스를 앞으로 가져오고 1번으로 간다.\n",
    "\n",
    "i번 박스의 용량은 Ai이고, j번 책의 크기는 Bj이다. 책의 크기와 박스에 들어있는 책의 크기의 합이 박스의 용량을 넘지 않으면 책을 박스에 넣을 수 있다.\n",
    "\n",
    "위의 방법대로 책을 넣었을 때, 전체 박스의 낭비된 용량의 합을 구하는 프로그램을 작성하시오. 박스의 낭비된 용량은 박스의 용량에서 박스에 들어있는 책의 크기의 합을 뺀 값이다.\n",
    "\n",
    "입력으로 주어진 박스와 책의 순서를 변경하면 안된다."
   ]
  },
  {
   "cell_type": "markdown",
   "metadata": {},
   "source": [
    "### 입력\n",
    "\n",
    "---\n",
    "첫째 줄에 박스의 개수 N, 책의 개수 M이 주어진다. 둘째 줄에는 박스의 용량 A1, A2, ..., AN이 주어지고, 셋째 줄에는 B1, B2, ..., BM이 주어진다.\n",
    "\n",
    "<br>\n",
    "\n",
    "### 출력\n",
    "---\n",
    "\n",
    "첫째 줄에 전체 박스의 낭비된 용량의 합을 출력한다.\n",
    "\n",
    "\n",
    "<br>\n",
    "\n",
    "### 제한\n",
    "---\n",
    "\n",
    "- 1 ≤ N, M ≤ 50\n",
    "- 1 ≤ Ai, Bj ≤ 1,000\n",
    "- 문제에 주어진 방법으로 모든 책을 박스에 넣을 수 있는 경우만 입력으로 주어진다.\n"
   ]
  },
  {
   "cell_type": "markdown",
   "metadata": {},
   "source": [
    "----"
   ]
  },
  {
   "cell_type": "markdown",
   "metadata": {},
   "source": [
    "### 예제 입력1\n",
    "\n",
    "```\n",
    "3 3\n",
    "5 5 5\n",
    "5 5 5\n",
    "```\n",
    "\n",
    "### 예제 출력1\n",
    "\n",
    "```\n",
    "0\n",
    "\n",
    "```\n",
    "\n"
   ]
  },
  {
   "cell_type": "markdown",
   "metadata": {},
   "source": [
    "### 풀이 1)"
   ]
  },
  {
   "cell_type": "code",
   "execution_count": 29,
   "metadata": {},
   "outputs": [
    {
     "name": "stdout",
     "output_type": "stream",
     "text": [
      "4 5\n",
      "3 4 5 6\n",
      "3 3 3 3 3\n"
     ]
    }
   ],
   "source": [
    "# 박스의 개수(n), 책의 개수(m)\n",
    "n,m = map(int, input().split())\n",
    "\n",
    "# 박스의 용량(a), 책의 크기(b)\n",
    "a=list(input().split())\n",
    "b=list(input().split())\n",
    "\n",
    "# A,B의 리스트 안에 정수값을 담은 리스트를 만든다.\n",
    "A=[int(num) for num in a]\n",
    "B=[int(num) for num in b]\n",
    "\n",
    "# 각 리스트들의 합의 차    \n",
    "print(sum(A)-sum(B))"
   ]
  },
  {
   "cell_type": "markdown",
   "metadata": {},
   "source": [
    "### 풀이 2)"
   ]
  },
  {
   "cell_type": "code",
   "execution_count": null,
   "metadata": {},
   "outputs": [],
   "source": [
    "# 박스의 개수(n), 책의 개수(m)\n",
    "n,m = map(int, input().split())\n",
    "\n",
    "# 박스의 용량(a), 책의 크기(b)\n",
    "a=list(input().split())\n",
    "b=list(input().split())\n",
    "\n",
    "# for문을 활용하여 A,B 변수안에 a와 b의 합을 구한다.   \n",
    "A=0\n",
    "for num in a:\n",
    "    A+=int(num)\n",
    "B=0\n",
    "for num in b:\n",
    "    B+=int(num)\n",
    "\n",
    "# a,b의 합의 차\n",
    "print(abs(A-B))"
   ]
  },
  {
   "cell_type": "markdown",
   "metadata": {},
   "source": [
    "### 풀이 3)\n",
    "\n",
    "그리디 알고리즘 문제이다.\n",
    "\n",
    "박스 용량의 합에 박스에 들어간 책 크기의 합을 빼두면 된다.\n",
    "\n",
    "`sum(box)` - `in_box`"
   ]
  },
  {
   "cell_type": "code",
   "execution_count": null,
   "metadata": {},
   "outputs": [],
   "source": [
    "N, M = map(int, input().split())\n",
    "box = list(map(int, input().split()))\n",
    "book = list(map(int, input().split()))\n",
    "i = j = t = in_box = 0\n",
    "while i < N and j < M:\n",
    "    if box[i] < t+book[j]:\n",
    "        t = 0\n",
    "        i += 1\n",
    "    else:\n",
    "        in_box += book[j]\n",
    "        t += book[j]\n",
    "        j += 1\n",
    "print(sum(box)-in_box)    "
   ]
  }
 ],
 "metadata": {
  "kernelspec": {
   "display_name": "Python 3",
   "language": "python",
   "name": "python3"
  },
  "language_info": {
   "codemirror_mode": {
    "name": "ipython",
    "version": 3
   },
   "file_extension": ".py",
   "mimetype": "text/x-python",
   "name": "python",
   "nbconvert_exporter": "python",
   "pygments_lexer": "ipython3",
   "version": "3.8.3"
  }
 },
 "nbformat": 4,
 "nbformat_minor": 4
}
