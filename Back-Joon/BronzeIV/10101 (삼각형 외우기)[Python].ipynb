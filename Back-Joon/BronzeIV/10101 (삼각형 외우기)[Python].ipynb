{
 "cells": [
  {
   "cell_type": "markdown",
   "metadata": {},
   "source": [
    "# 삼각형 외우기\n",
    "\n",
    "\n",
    "<br>\n",
    "<br>\n",
    "\n",
    "## 문제\n",
    "\n",
    "---\n",
    "창영이는 삼각형의 종류를 잘 구분하지 못한다. 따라서 프로그램을 이용해 이를 외우려고 한다.\n",
    "\n",
    "삼각형의 세 각을 입력받은 다음, \n",
    "\n",
    "- 세 각의 크기가 모두 60이면, Equilateral\n",
    "- 세 각의 합이 180이고, 두 각이 같은 경우에는 Isosceles\n",
    "- 세 각의 합이 180이고, 같은 각이 없는 경우에는 Scalene\n",
    "- 세 각의 합이 180이 아닌 경우에는 Error\n",
    "를 출력하는 프로그램을 작성하시오."
   ]
  },
  {
   "cell_type": "markdown",
   "metadata": {},
   "source": [
    "### 입력\n",
    "\n",
    "---\n",
    "총 3개의 줄에 걸쳐 삼각형의 각의 크기가 주어진다. 모든 정수는 0보다 크고, 180보다 작다.\n",
    "\n",
    "### 출력\n",
    "---\n",
    "문제의 설명에 따라 Equilateral, Isosceles, Scalene, Error 중 하나를 출력한다.\n",
    "\n"
   ]
  },
  {
   "cell_type": "markdown",
   "metadata": {},
   "source": [
    "---"
   ]
  },
  {
   "cell_type": "markdown",
   "metadata": {},
   "source": [
    "### 예제 입력1\n",
    "\n",
    "```\n",
    "60\n",
    "70\n",
    "50\n",
    "```\n",
    "\n",
    "### 예제 출력1\n",
    "```\n",
    "Scalene\n",
    "\n",
    "```"
   ]
  },
  {
   "cell_type": "markdown",
   "metadata": {},
   "source": [
    "---"
   ]
  },
  {
   "cell_type": "markdown",
   "metadata": {},
   "source": [
    "### 풀이\n",
    "\n",
    "- 두 시간의 차이를 구하기 위해서 같은 단위의 수로 바꿔주는 것이 관건이다.\n",
    "\n",
    "- 같은 단위로 바꾸기 위해서 두 시간을 `초(seocnd)`단위로 변환하여 차이를 구한다.\n",
    "\n",
    "- 차이를 구한 초를 다시 시, 분, 초 단위로 변환한다.\n",
    "\n",
    "\n",
    "1. 초에서 시간을 변환할때\n",
    "\n",
    "```python\n",
    "초//(60*60)\n",
    "```\n",
    "\n",
    "2. 초에서 남은 분을 변환할 때\n",
    "\n",
    "```python\n",
    "초%(60*60)//60\n",
    "```\n",
    "\n",
    "3. 초에서 남은 초를 변환할 때\n",
    "\n",
    "```python\n",
    "(초%(60*60)%60\n",
    "```\n"
   ]
  },
  {
   "cell_type": "markdown",
   "metadata": {},
   "source": [
    "#### 답 1)"
   ]
  },
  {
   "cell_type": "code",
   "execution_count": 31,
   "metadata": {},
   "outputs": [
    {
     "name": "stdout",
     "output_type": "stream",
     "text": [
      "9 0 0 18 0 0\n",
      "9 0 0\n",
      "9 0 1 18 0 0\n",
      "8 59 59\n",
      "12 14 52 12 15 30\n",
      "0 0 38\n"
     ]
    }
   ],
   "source": [
    "a=int(input())\n",
    "b=int(input())\n",
    "c=int(input())\n",
    "\n",
    "sum_tri=a+b+c\n",
    "\n",
    "if a==b==c==60:\n",
    "    print(\"Equilateral\")\n",
    "if sum_tri==180 :\n",
    "    if a!=b==c or a==b!=c or a==c!=b:\n",
    "        print(\"Isosceles\")\n",
    "    elif a!=b!=c:\n",
    "        print(\"Scalene\")\n",
    "if sum_tri!=180:\n",
    "    print(\"Error\")\n"
   ]
  }
 ],
 "metadata": {
  "kernelspec": {
   "display_name": "Python 3",
   "language": "python",
   "name": "python3"
  },
  "language_info": {
   "codemirror_mode": {
    "name": "ipython",
    "version": 3
   },
   "file_extension": ".py",
   "mimetype": "text/x-python",
   "name": "python",
   "nbconvert_exporter": "python",
   "pygments_lexer": "ipython3",
   "version": "3.8.3"
  }
 },
 "nbformat": 4,
 "nbformat_minor": 4
}
