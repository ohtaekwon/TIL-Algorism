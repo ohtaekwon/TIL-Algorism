{
 "cells": [
  {
   "cell_type": "markdown",
   "metadata": {},
   "source": [
    "# 공백 없는 A+B\n",
    "\n",
    "<br>\n",
    "<br>\n",
    "\n",
    "## 문제\n",
    "---\n",
    "\n",
    "자연수 A, B가 주어지면 A+B를 구하는 프로그램을 작성하시오.\n",
    "\n",
    "\n",
    "### 입력\n",
    "\n",
    "---\n",
    "\n",
    "자연수 A, B (0 < A, B ≤ 10)가 첫 번째 줄에 주어진다. 단, 두 수의 사이에는 공백이 주어지지 않는다. 두 수의 앞에 불필요한 0이 붙는 경우는 없다."
   ]
  },
  {
   "cell_type": "markdown",
   "metadata": {},
   "source": [
    "### 출력\n",
    "---\n",
    "\n",
    "첫 번째 줄에 A+B의 값을 출력한다."
   ]
  },
  {
   "cell_type": "markdown",
   "metadata": {},
   "source": [
    "---\n",
    "### 예제 입력1\n",
    "\n",
    "```\n",
    "37\n",
    "\n",
    "```\n",
    "\n",
    "### 예제 출력1\n",
    "\n",
    "```\n",
    "10\n",
    "```"
   ]
  },
  {
   "cell_type": "markdown",
   "metadata": {},
   "source": [
    "---\n",
    "### 예제 입력2\n",
    "\n",
    "```\n",
    "102\n",
    "```\n",
    "\n",
    "### 예제 출력2\n",
    "\n",
    "```\n",
    "12\n",
    "```"
   ]
  },
  {
   "cell_type": "markdown",
   "metadata": {},
   "source": [
    "### 풀이 1)\n",
    "\n",
    "이 문제의 중점은 A 혹은 B가 10인 경우이다.\n",
    "(둘 다 10인 경우는 10+10으로 간단히 해결!!)\n",
    "\n",
    "따라서, 경우를 나눌 필요가 있다.\n",
    "\n",
    "먼저, 비교적 조건문을 작성하기 쉬운 두 가지 경우를 나눈다.\n",
    "- 예를 들어, 둘 다 10이 아닌 경우와 둘 다 10인 경우\n",
    "\n",
    "위의 조건에서는 문자열의 길이를 통해 판단할 수 있다.\n",
    "- 둘 다 10인 경우는 문자열이 4이며 둘 다 10이 아니라면 문자열이 2일 것이다.\n",
    "\n",
    "남은 부분은 둘 중 하나가 10인 경우이다. (십 의 자리가 10이거나 일 의 자리가 10인 경우)\n",
    "\n",
    "- 해당 조건의 경우에는 둘 중 하나가 10일테니, 0의 위치로 다시 if문을 사용해 경우를 나눈다. \n"
   ]
  },
  {
   "cell_type": "code",
   "execution_count": 36,
   "metadata": {},
   "outputs": [
    {
     "name": "stdout",
     "output_type": "stream",
     "text": [
      "37\n",
      "10\n"
     ]
    }
   ],
   "source": [
    "n=input()\n",
    "\n",
    "if len(n)==2: # 둘 다 10이 아닐 경우\n",
    "    a=int(n)//10\n",
    "    b=int(n)%10\n",
    "    print(a+b)\n",
    "elif len(n)==4:  # 둘 다 10인 경우\n",
    "    a=int(n)//100\n",
    "    b=int(n)%100\n",
    "    print(a+b)\n",
    "else : # 둘 중 하나가 10인 경우\n",
    "    if int(n[-1])==0:\n",
    "        print(int(n[0])+10)\n",
    "    else:\n",
    "        print(int(n[-1])+10)\n"
   ]
  },
  {
   "cell_type": "code",
   "execution_count": 38,
   "metadata": {},
   "outputs": [
    {
     "data": {
      "text/plain": [
       "7"
      ]
     },
     "execution_count": 38,
     "metadata": {},
     "output_type": "execute_result"
    }
   ],
   "source": [
    "# 일의 자리\n",
    "int(n)%10"
   ]
  },
  {
   "cell_type": "code",
   "execution_count": 37,
   "metadata": {},
   "outputs": [
    {
     "data": {
      "text/plain": [
       "3"
      ]
     },
     "execution_count": 37,
     "metadata": {},
     "output_type": "execute_result"
    }
   ],
   "source": [
    "# 십의 자리\n",
    "int(n)//10"
   ]
  },
  {
   "cell_type": "code",
   "execution_count": 39,
   "metadata": {},
   "outputs": [
    {
     "data": {
      "text/plain": [
       "'7'"
      ]
     },
     "execution_count": 39,
     "metadata": {},
     "output_type": "execute_result"
    }
   ],
   "source": [
    "# 일의 자리 (문자열)\n",
    "n[-1]"
   ]
  },
  {
   "cell_type": "code",
   "execution_count": 40,
   "metadata": {},
   "outputs": [
    {
     "data": {
      "text/plain": [
       "'3'"
      ]
     },
     "execution_count": 40,
     "metadata": {},
     "output_type": "execute_result"
    }
   ],
   "source": [
    "# 십의 자리 (문자열)\n",
    "n[-2]"
   ]
  }
 ],
 "metadata": {
  "kernelspec": {
   "display_name": "Python 3",
   "language": "python",
   "name": "python3"
  },
  "language_info": {
   "codemirror_mode": {
    "name": "ipython",
    "version": 3
   },
   "file_extension": ".py",
   "mimetype": "text/x-python",
   "name": "python",
   "nbconvert_exporter": "python",
   "pygments_lexer": "ipython3",
   "version": "3.8.3"
  }
 },
 "nbformat": 4,
 "nbformat_minor": 4
}
