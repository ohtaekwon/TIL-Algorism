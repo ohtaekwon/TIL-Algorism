{
 "cells": [
  {
   "cell_type": "markdown",
   "metadata": {},
   "source": [
    "# 과목 선택\n",
    "\n",
    "<br>\n",
    "<br>\n",
    "\n",
    "## 문제\n",
    "---\n",
    "\n",
    "JOI는 물리, 화학, 생물, 지구과학, 역사, 지리 총 6 과목의 시험을 봤다. 각 시험의 만점은 100점이다.\n",
    "\n",
    "JOI는 물리, 화학, 생물, 지구과학 4과목 중에서 3 과목을 선택하고 역사, 지리 2 과목 중에서 한 과목을 선택한다.\n",
    "\n",
    "시험 점수의 합이 가장 높게 나오도록 과목을 선택할 때, JOI가 선택한 과목의 시험 점수의 합을 구하시오.\n",
    "\n",
    "\n",
    "### 입력\n",
    "\n",
    "---\n",
    "\n",
    "입력은 6행으로 되어있으며, 각 행에 1개의 정수가 주어진다.\n",
    "\n",
    "1행에는 JOI의 물리 시험의 점수 A가 주어진다.\n",
    "\n",
    "2행에는 JOI의 화학 시험의 점수 B가 주어진다.\n",
    "\n",
    "3행에는 JOI의 생물 시험의 점수 C가 주어진다.\n",
    "\n",
    "4행에는 JOI의 지구과학의 시험 점수 D가 주어진다.\n",
    "\n",
    "5행에는 JOI의 역사 시험의 점수 E가 주어진다.\n",
    "\n",
    "6행에는 JOI의 지리 시험의 점수 F가 주어진다.\n",
    "\n",
    "입력한 정수 A, B, C, D, E, F는 모두 0이상 100이하이다."
   ]
  },
  {
   "cell_type": "markdown",
   "metadata": {},
   "source": [
    "### 출력\n",
    "---\n",
    "\n",
    "JOI가 선택한 과목의 총 점수를 1행에 출력하시오.\n"
   ]
  },
  {
   "cell_type": "markdown",
   "metadata": {},
   "source": [
    "---\n",
    "### 예제 입력1\n",
    "\n",
    "```\n",
    "100\n",
    "34\n",
    "76\n",
    "42\n",
    "10\n",
    "0\n",
    "```\n",
    "\n",
    "### 예제 출력1\n",
    "\n",
    "```\n",
    "228\n",
    "```"
   ]
  },
  {
   "cell_type": "code",
   "execution_count": null,
   "metadata": {},
   "outputs": [],
   "source": []
  },
  {
   "cell_type": "markdown",
   "metadata": {},
   "source": [
    "---\n",
    "### 예제 입력2\n",
    "\n",
    "```\n",
    "15\n",
    "21\n",
    "15\n",
    "42\n",
    "15\n",
    "62\n",
    "```\n",
    "\n",
    "### 예제 출력2\n",
    "\n",
    "```\n",
    "140\n",
    "```"
   ]
  },
  {
   "cell_type": "markdown",
   "metadata": {},
   "source": [
    "### 힌트\n",
    "\n",
    "예제 입/출력 1에서는 JOI가 물리, 생물, 지구과학, 역사, 4과목을 선택한 경우에 시험의 총 점수가 제일 높습니다.\n",
    "\n",
    "물리, 생물, 지구과학, 역사의 점수가 각각 100, 76,42, 10이므로 선택한 과목의 총 점수는 228입니다.\n",
    "\n",
    "예제 입/출력 2에서는 JOI가 화학, 생물, 지구과학, 지리, 4과목을 선택한 경우에 시험의 총 점수가 제일 높습니다.\n",
    "\n",
    "화학, 생물, 지구과학, 지리의 점수가 각각 21, 15, 42, 62이므로 선택한 과목의 총 점수는 140입니다."
   ]
  },
  {
   "cell_type": "markdown",
   "metadata": {},
   "source": [
    "### 풀이"
   ]
  },
  {
   "cell_type": "code",
   "execution_count": 1,
   "metadata": {},
   "outputs": [
    {
     "name": "stdout",
     "output_type": "stream",
     "text": [
      "100\n",
      "34\n",
      "76\n",
      "42\n",
      "10\n",
      "0\n"
     ]
    }
   ],
   "source": [
    "a=int(input())\n",
    "b=int(input())\n",
    "c=int(input())\n",
    "d=int(input())\n",
    "e=int(input())\n",
    "f=int(input())\n",
    "\n",
    "\n",
    "first=a+b+c+d - min(a,b,c,d)\n",
    "second=max(e,f)\n",
    "\n",
    "print(first+second)"
   ]
  },
  {
   "cell_type": "code",
   "execution_count": 3,
   "metadata": {},
   "outputs": [],
   "source": [
    "first=min(a,b,c,d)"
   ]
  },
  {
   "cell_type": "code",
   "execution_count": 9,
   "metadata": {},
   "outputs": [],
   "source": [
    "\n",
    "first=a+b+c+d - min(a,b,c,d)"
   ]
  },
  {
   "cell_type": "code",
   "execution_count": 13,
   "metadata": {},
   "outputs": [
    {
     "data": {
      "text/plain": [
       "218"
      ]
     },
     "execution_count": 13,
     "metadata": {},
     "output_type": "execute_result"
    }
   ],
   "source": [
    "first"
   ]
  },
  {
   "cell_type": "code",
   "execution_count": 11,
   "metadata": {},
   "outputs": [],
   "source": [
    "second=max(e,f)"
   ]
  },
  {
   "cell_type": "code",
   "execution_count": 12,
   "metadata": {},
   "outputs": [
    {
     "data": {
      "text/plain": [
       "10"
      ]
     },
     "execution_count": 12,
     "metadata": {},
     "output_type": "execute_result"
    }
   ],
   "source": [
    "second"
   ]
  },
  {
   "cell_type": "code",
   "execution_count": null,
   "metadata": {},
   "outputs": [],
   "source": []
  }
 ],
 "metadata": {
  "kernelspec": {
   "display_name": "Python 3",
   "language": "python",
   "name": "python3"
  },
  "language_info": {
   "codemirror_mode": {
    "name": "ipython",
    "version": 3
   },
   "file_extension": ".py",
   "mimetype": "text/x-python",
   "name": "python",
   "nbconvert_exporter": "python",
   "pygments_lexer": "ipython3",
   "version": "3.8.3"
  }
 },
 "nbformat": 4,
 "nbformat_minor": 4
}
