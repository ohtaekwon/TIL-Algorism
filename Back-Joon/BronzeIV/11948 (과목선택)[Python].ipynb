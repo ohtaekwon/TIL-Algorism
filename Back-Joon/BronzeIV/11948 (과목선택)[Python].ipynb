{
 "cells": [
  {
   "cell_type": "markdown",
   "metadata": {},
   "source": [
    "# 과목 선택\n",
    "\n",
    "<br>\n",
    "<br>\n",
    "\n",
    "## 문제\n",
    "---\n",
    "\n",
    "JOI는 물리, 화학, 생물, 지구과학, 역사, 지리 총 6 과목의 시험을 봤다. 각 시험의 만점은 100점이다.\n",
    "\n",
    "JOI는 물리, 화학, 생물, 지구과학 4과목 중에서 3 과목을 선택하고 역사, 지리 2 과목 중에서 한 과목을 선택한다.\n",
    "\n",
    "시험 점수의 합이 가장 높게 나오도록 과목을 선택할 때, JOI가 선택한 과목의 시험 점수의 합을 구하시오.\n",
    "\n",
    "\n",
    "### 입력\n",
    "\n",
    "---\n",
    "\n",
    "입력은 6행으로 되어있으며, 각 행에 1개의 정수가 주어진다.\n",
    "\n",
    "1행에는 JOI의 물리 시험의 점수 A가 주어진다.\n",
    "\n",
    "2행에는 JOI의 화학 시험의 점수 B가 주어진다.\n",
    "\n",
    "3행에는 JOI의 생물 시험의 점수 C가 주어진다.\n",
    "\n",
    "4행에는 JOI의 지구과학의 시험 점수 D가 주어진다.\n",
    "\n",
    "5행에는 JOI의 역사 시험의 점수 E가 주어진다.\n",
    "\n",
    "6행에는 JOI의 지리 시험의 점수 F가 주어진다.\n",
    "\n",
    "입력한 정수 A, B, C, D, E, F는 모두 0이상 100이하이다."
   ]
  },
  {
   "cell_type": "markdown",
   "metadata": {},
   "source": [
    "### 출력\n",
    "---\n",
    "\n",
    "JOI가 선택한 과목의 총 점수를 1행에 출력하시오.\n"
   ]
  },
  {
   "cell_type": "markdown",
   "metadata": {},
   "source": [
    "---\n",
    "### 예제 입력1\n",
    "\n",
    "```\n",
    "100\n",
    "34\n",
    "76\n",
    "42\n",
    "10\n",
    "0\n",
    "```\n",
    "\n",
    "### 예제 출력1\n",
    "\n",
    "```\n",
    "228\n",
    "```"
   ]
  },
  {
   "cell_type": "code",
   "execution_count": null,
   "metadata": {},
   "outputs": [],
   "source": []
  },
  {
   "cell_type": "markdown",
   "metadata": {},
   "source": [
    "---\n",
    "### 예제 입력2\n",
    "\n",
    "```\n",
    "15\n",
    "21\n",
    "15\n",
    "42\n",
    "15\n",
    "62\n",
    "```\n",
    "\n",
    "### 예제 출력2\n",
    "\n",
    "```\n",
    "140\n",
    "```"
   ]
  },
  {
   "cell_type": "markdown",
   "metadata": {},
   "source": [
    "### 힌트\n",
    "\n",
    "예제 입/출력 1에서는 JOI가 물리, 생물, 지구과학, 역사, 4과목을 선택한 경우에 시험의 총 점수가 제일 높습니다.\n",
    "\n",
    "물리, 생물, 지구과학, 역사의 점수가 각각 100, 76,42, 10이므로 선택한 과목의 총 점수는 228입니다.\n",
    "\n",
    "예제 입/출력 2에서는 JOI가 화학, 생물, 지구과학, 지리, 4과목을 선택한 경우에 시험의 총 점수가 제일 높습니다.\n",
    "\n",
    "화학, 생물, 지구과학, 지리의 점수가 각각 21, 15, 42, 62이므로 선택한 과목의 총 점수는 140입니다."
   ]
  },
  {
   "cell_type": "markdown",
   "metadata": {},
   "source": [
    "### 풀이 1)"
   ]
  },
  {
   "cell_type": "code",
   "execution_count": 1,
   "metadata": {},
   "outputs": [
    {
     "name": "stdout",
     "output_type": "stream",
     "text": [
      "100\n",
      "34\n",
      "76\n",
      "42\n",
      "10\n",
      "0\n"
     ]
    }
   ],
   "source": [
    "a=int(input())\n",
    "b=int(input())\n",
    "c=int(input())\n",
    "d=int(input())\n",
    "e=int(input())\n",
    "f=int(input())\n",
    "\n",
    "\n",
    "first=a+b+c+d - min(a,b,c,d)\n",
    "second=max(e,f)\n",
    "\n",
    "print(first+second)"
   ]
  },
  {
   "cell_type": "markdown",
   "metadata": {},
   "source": [
    "### 풀이 2)\n",
    "\n",
    "sorted 함수 : 리스트 정렬\n",
    "\n",
    "리스트 자체 함수인 `sort`는 해당 리스트를 정렬하는 것과 달리 `sorted` 함수는 정렬한 새로운 리스트를 반환한다.\n",
    "\n",
    "**정렬된 리스트 = sorted(기존 리스트)**\n",
    "\n",
    "또한, **sorted 함수의 reverse 파라미터(옵션)를 True** 로 변경하면 **내림차순** 으로 정렬한다."
   ]
  },
  {
   "cell_type": "code",
   "execution_count": 15,
   "metadata": {},
   "outputs": [
    {
     "name": "stdout",
     "output_type": "stream",
     "text": [
      "[2, 4, 1, 9, 100, 29, 40, 10]\n",
      "[1, 2, 4, 9, 10, 29, 40, 100]\n",
      "[100, 40, 29, 10, 9, 4, 2, 1]\n"
     ]
    }
   ],
   "source": [
    "# 2-1 sorted 함수 예제 : 리스트 사용\n",
    "a = [2, 4, 1, 9, 100, 29, 40, 10]\n",
    "b = sorted(a)\n",
    "c = sorted(a, reverse=True)\n",
    "\n",
    "print(a)\n",
    "print(b)\n",
    "print(c)"
   ]
  },
  {
   "cell_type": "code",
   "execution_count": 23,
   "metadata": {},
   "outputs": [
    {
     "name": "stdout",
     "output_type": "stream",
     "text": [
      "\n",
      "1. 기본 딕셔너리\n",
      "{'a': 66, 'i': 20, 'e': 30, 'd': 33, 'f': 50, 'g': 60, 'c': 22, 'h': 80, 'b': 11}\n",
      "\n",
      "2. 키 정렬 sorted(d.items())\n",
      "[('a', 66), ('b', 11), ('c', 22), ('d', 33), ('e', 30), ('f', 50), ('g', 60), ('h', 80), ('i', 20)]\n",
      "\n",
      "4. 키만 정렬 sorted(d.keys())\n",
      "['a', 'b', 'c', 'd', 'e', 'f', 'g', 'h', 'i']\n",
      "\n",
      "5. 키만 정렬 sorted(d)\n",
      "['a', 'b', 'c', 'd', 'e', 'f', 'g', 'h', 'i']\n"
     ]
    }
   ],
   "source": [
    "# 2-2 sorted 함수 예제 : 딕셔너리 key 정렬\n",
    "\n",
    "# 딕셔너리\n",
    "d = dict()\n",
    "d['a'] = 66\n",
    "d['i'] = 20\n",
    "d['e'] = 30\n",
    "d['d'] = 33\n",
    "d['f'] = 50\n",
    "d['g'] = 60\n",
    "d['c'] = 22\n",
    "d['h'] = 80\n",
    "d['b'] = 11\n",
    "\n",
    "# 딕셔너리 출력\n",
    "print(\"\\n1. 기본 딕셔너리\")\n",
    "print(d)\n",
    "\n",
    "# 딕셔너리 키 정렬 오름차순(디폴트)\n",
    "print(\"\\n2. 키 정렬 sorted(d.items())\")\n",
    "f=sorted(d.items())\n",
    "print(f)\n",
    "\n",
    "\n",
    "# 딕셔너리 키만 정렬 및 출력1\n",
    "print(\"\\n4. 키만 정렬 sorted(d.keys())\")\n",
    "h=sorted(d.keys())\n",
    "print(h)\n",
    "\n",
    "# 딕셔너리 키만 정렬 및 출력2\n",
    "print(\"\\n5. 키만 정렬 sorted(d)\")\n",
    "i=sorted(d)\n",
    "print(i)\n"
   ]
  },
  {
   "cell_type": "code",
   "execution_count": 24,
   "metadata": {},
   "outputs": [
    {
     "name": "stdout",
     "output_type": "stream",
     "text": [
      "1. 원본 딕셔너리\n",
      "dict_items([('b', 400), ('f', 300), ('a', 200), ('d', 100), ('c', 500)])\n",
      "\n",
      "2. 딕셔너리 정렬 : sorted(d.items())\n",
      "[('a', 200), ('b', 400), ('c', 500), ('d', 100), ('f', 300)]\n",
      "\n",
      "3. 딕셔너리 정렬 : sorted(d.items(), key=operator.itemgetter(1))\n",
      "[('d', 100), ('a', 200), ('f', 300), ('b', 400), ('c', 500)]\n",
      "\n",
      "4. 딕셔너리 정렬 : sorted(d.items(), key=operator.itemgetter(1), reverse=True)\n",
      "[('c', 500), ('b', 400), ('f', 300), ('a', 200), ('d', 100)]\n"
     ]
    }
   ],
   "source": [
    "# 2-3) sorted 함수 예제 :  딕셔너리 value 정렬 (operator 모듈 이용)\n",
    "\n",
    "import operator\n",
    " \n",
    "d = {'b': 400, 'f': 300, 'a': 200, 'd': 100, 'c': 500}\n",
    " \n",
    "print('1. 원본 딕셔너리')\n",
    "print(d.items())\n",
    " \n",
    "print('\\n2. 딕셔너리 정렬 : sorted(d.items())')\n",
    "f = sorted(d.items())\n",
    "print(f)\n",
    " \n",
    "print('\\n3. 딕셔너리 정렬 : sorted(d.items(), key=operator.itemgetter(1))')\n",
    "g = sorted(d.items(), key=operator.itemgetter(1))\n",
    "print(g)\n",
    " \n",
    "print('\\n4. 딕셔너리 정렬 : sorted(d.items(), key=operator.itemgetter(1), reverse=True)')\n",
    "h = sorted(d.items(), key=operator.itemgetter(1), reverse=True)\n",
    "print(h)\n"
   ]
  },
  {
   "cell_type": "code",
   "execution_count": 26,
   "metadata": {},
   "outputs": [
    {
     "name": "stdout",
     "output_type": "stream",
     "text": [
      "1. 원본 딕셔너리\n",
      "dict_items([('blockdmask', 400), ('equal', 300), ('apple', 200), ('dish', 100), ('cook', 500)])\n",
      "\n",
      "2. 딕셔너리 정렬 : sorted(d.items())\n",
      "[('apple', 200), ('blockdmask', 400), ('cook', 500), ('dish', 100), ('equal', 300)]\n",
      "\n",
      "3. 딕셔너리 정렬 : sorted(d.items(), key=lambda x: x[1])\n",
      "[('dish', 100), ('apple', 200), ('equal', 300), ('blockdmask', 400), ('cook', 500)]\n",
      "\n",
      "4. 딕셔너리 정렬 : sorted(d.items(), key=lambda x: x[1], reverse=True)\n",
      "[('cook', 500), ('blockdmask', 400), ('equal', 300), ('apple', 200), ('dish', 100)]\n"
     ]
    }
   ],
   "source": [
    "# 2-4) sorted 함수 예제 : 딕셔너리 value 정렬 (lambda 이용)\n",
    "\n",
    "import operator\n",
    " \n",
    "d = {'blockdmask': 400, 'equal': 300, 'apple': 200, 'dish': 100, 'cook': 500}\n",
    " \n",
    "print('1. 원본 딕셔너리')\n",
    "print(d.items())\n",
    " \n",
    "\n",
    "print('\\n2. 딕셔너리 정렬 : sorted(d.items())')\n",
    "f = sorted(d.items())\n",
    "print(f)\n",
    " \n",
    "\n",
    "print('\\n3. 딕셔너리 정렬 : sorted(d.items(), key=lambda x: x[1])')\n",
    "g = sorted(d.items(), key=lambda x: x[1])\n",
    "print(g)\n",
    " \n",
    "\n",
    "print('\\n4. 딕셔너리 정렬 : sorted(d.items(), key=lambda x: x[1], reverse=True)')\n",
    "h = sorted(d.items(), key=lambda x: x[1], reverse=True)\n",
    "print(h)\n",
    "\n",
    "\n"
   ]
  },
  {
   "cell_type": "markdown",
   "metadata": {},
   "source": [
    "sorted 함수에서 딕셔너리 value를 기준으로 정렬을 하기 위한 두 번째 방법은 람다를 이용하는 것입니다.\n",
    "\n",
    "sorted(딕셔너리.items(), key=lambda x: x[1]) 이를 이용해서 key=를 x로 세팅해주어서 정렬하도록 할 수 있습니다.\n"
   ]
  },
  {
   "cell_type": "code",
   "execution_count": 33,
   "metadata": {},
   "outputs": [
    {
     "name": "stdout",
     "output_type": "stream",
     "text": [
      "100\n",
      "34\n",
      "76\n",
      "42\n",
      "10\n",
      "0\n",
      "228\n"
     ]
    }
   ],
   "source": [
    "subject=[]\n",
    "\n",
    "for _ in range(6):\n",
    "    subject.append(int(input()))\n",
    "\n",
    "science = sorted(subject[:4])\n",
    "social=subject[4:]\n",
    "\n",
    "print(sum(science[1:])+max(social))"
   ]
  }
 ],
 "metadata": {
  "kernelspec": {
   "display_name": "Python 3",
   "language": "python",
   "name": "python3"
  },
  "language_info": {
   "codemirror_mode": {
    "name": "ipython",
    "version": 3
   },
   "file_extension": ".py",
   "mimetype": "text/x-python",
   "name": "python",
   "nbconvert_exporter": "python",
   "pygments_lexer": "ipython3",
   "version": "3.8.3"
  }
 },
 "nbformat": 4,
 "nbformat_minor": 4
}
