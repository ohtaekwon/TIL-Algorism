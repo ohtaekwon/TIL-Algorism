{
 "cells": [
  {
   "cell_type": "markdown",
   "metadata": {},
   "source": [
    "# 시험 점수\n",
    "\n",
    "<br>\n",
    "<br>\n",
    "\n",
    "## 문제\n",
    "\n",
    "---\n",
    "JOI 상사는 직원의 근무시간을 타임 카드로 관리하고있다. 직원들은 전용 장비를 사용하여 타임 카드에 출근 시간을 기록한다. 근무를 마치고 퇴근할 때도 타임 카드에 퇴근 시간을 기록한다. 타임카드에서 사용하는 시간단위는 24 시간제를 사용한다.\n",
    "\n",
    "보안상의 이유로 직원들의 출근 시간은 7시 이후이다. 또한, 모든 직원은 23시 이전에 퇴근한다. 직원의 퇴근 시간은 항상 출근 시간보다 늦다.\n",
    "\n",
    "입력으로 JOI 상사의 3 명의 직원 A 씨, B 씨, C 씨의 출근 시간과 퇴근 시간이 주어 졌을 때 각 직원의 근무시간을 계산하는 프로그램을 작성하라."
   ]
  },
  {
   "cell_type": "markdown",
   "metadata": {},
   "source": [
    "### 입력\n",
    "\n",
    "---\n",
    "입력은 3 행으로 구성된다.\n",
    "\n",
    "첫 번째 줄에는 A 씨의 출근 시간과 퇴근 시간,\n",
    "\n",
    "두 번째 줄에는 B 씨의 출근 시간과 퇴근 시간,\n",
    "\n",
    "세 번째 줄에는 C 씨의 출근 시간과 퇴근 시간이 각각 공백으로 구분되어 있다.\n",
    "\n",
    "시간은 각각 공백으로 구분된 3 개의 정수로 쓰여져있다.\n",
    "\n",
    "3 개의 정수 h(7 ≦ h ≦ 22), m(0 ≦ m ≦ 59), s(0 ≦ s ≦ 59)는 h시 m 분 s 초를 나타낸다.\n",
    "\n",
    "### 출력\n",
    "---\n",
    "첫 번째 줄에 A 씨의 근무 시간,\n",
    "\n",
    "두 번째 줄에 B 씨의 근무 시간,\n",
    "\n",
    "세 번째 줄에 C 씨의 근무 시간을 출력하라.\n",
    "\n",
    "근무 시간이 h 시간 m 분 s 초이면 h, m, s의 순으로 공백으로 분리하여 출력하라."
   ]
  },
  {
   "cell_type": "markdown",
   "metadata": {},
   "source": [
    "---"
   ]
  },
  {
   "cell_type": "markdown",
   "metadata": {},
   "source": [
    "### 예제 입력1\n",
    "\n",
    "```\n",
    "9 0 0 18 0 0\n",
    "9 0 1 18 0 0\n",
    "12 14 52 12 15 30\n",
    "```\n",
    "\n",
    "### 예제 출력1\n",
    "```\n",
    "9 0 0\n",
    "8 59 59\n",
    "0 0 38\n",
    "```"
   ]
  },
  {
   "cell_type": "markdown",
   "metadata": {},
   "source": [
    "---"
   ]
  },
  {
   "cell_type": "markdown",
   "metadata": {},
   "source": [
    "### 풀이\n",
    "\n",
    "- 두 시간의 차이를 구하기 위해서 같은 단위의 수로 바꿔주는 것이 관건이다.\n",
    "\n",
    "- 같은 단위로 바꾸기 위해서 두 시간을 `초(seocnd)`단위로 변환하여 차이를 구한다.\n",
    "\n",
    "- 차이를 구한 초를 다시 시, 분, 초 단위로 변환한다.\n",
    "\n",
    "\n",
    "1. 초에서 시간을 변환할때\n",
    "\n",
    "```python\n",
    "초//(60*60)\n",
    "```\n",
    "\n",
    "2. 초에서 남은 분을 변환할 때\n",
    "\n",
    "```python\n",
    "초%(60*60)//60\n",
    "```\n",
    "\n",
    "3. 초에서 남은 초를 변환할 때\n",
    "\n",
    "```python\n",
    "(초%(60*60)%60\n",
    "```\n"
   ]
  },
  {
   "cell_type": "markdown",
   "metadata": {},
   "source": [
    "#### 답 1)"
   ]
  },
  {
   "cell_type": "code",
   "execution_count": 31,
   "metadata": {},
   "outputs": [
    {
     "name": "stdout",
     "output_type": "stream",
     "text": [
      "9 0 0 18 0 0\n",
      "9 0 0\n",
      "9 0 1 18 0 0\n",
      "8 59 59\n",
      "12 14 52 12 15 30\n",
      "0 0 38\n"
     ]
    }
   ],
   "source": [
    "for _ in range(3):\n",
    "    h1, m1, s1, h2, m2, s2 = map(int, input().split())\n",
    "    \n",
    "    # 시간을 초로 변환하기\n",
    "    first = (h1*60*60) + (m1*60) + s1\n",
    "    last = (h2*60*60) + (m2*60) + s2\n",
    "    \n",
    "    # 초로 변환한 시간 last와 first를 뺴주기\n",
    "    time = last-first\n",
    "    \n",
    "    # 뺴준 시간을 다시 시간(h), 분(m), 초(s)로 변환\n",
    "    # 시간(hour)을 변환하기 위해서 한시간(3600초)로 나눈 몫\n",
    "    h = time // (60*60)\n",
    "    # 분(minute)을 변환하기 위해서 3600초로 나눈 나머지를 구한 뒤  60으로 나누기\n",
    "    m = (time % (60*60)) // 60\n",
    "    # 초(second)를 변환하기 위해서 60으로 나눈 나머지를 구하면\n",
    "    # 남은 초를 알 수 있다.\n",
    "    s = (time%(60*60)) % 60\n",
    "    \n",
    "    print(h,m,s)\n"
   ]
  }
 ],
 "metadata": {
  "kernelspec": {
   "display_name": "Python 3",
   "language": "python",
   "name": "python3"
  },
  "language_info": {
   "codemirror_mode": {
    "name": "ipython",
    "version": 3
   },
   "file_extension": ".py",
   "mimetype": "text/x-python",
   "name": "python",
   "nbconvert_exporter": "python",
   "pygments_lexer": "ipython3",
   "version": "3.8.3"
  }
 },
 "nbformat": 4,
 "nbformat_minor": 4
}
