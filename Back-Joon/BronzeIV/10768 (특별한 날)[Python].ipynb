{
 "cells": [
  {
   "cell_type": "markdown",
   "metadata": {},
   "source": [
    "# 특별한 날\n",
    "\n",
    "<br>\n",
    "<br>\n",
    "\n",
    "## 문제\n",
    "\n",
    "---\n",
    "\n",
    "2월 18일은 올해 CCC에 있어서 특별한 날이다.\n",
    "\n",
    "사용자로부터 정수인 월과 일을 입력받아 날짜가 2월 18일인지 전인지 후인지를 출력하는 프로그램이다.\n",
    "\n",
    "만약 날짜가 2월 18일 전이면, \"Before\"을 출력한다. 만약 날짜가 2월 18일 후면, \"After\"을 출력한다. 만약 2월 18일이라면 \"Special\" 을 출력한다."
   ]
  },
  {
   "cell_type": "markdown",
   "metadata": {},
   "source": [
    "### 입력\n",
    "\n",
    "---\n",
    "\n",
    "입력은 두 개의 정수가 각 줄에 걸쳐 입력된다. 이 정수들은 2015년의 날짜에 포함된다.\n",
    "\n",
    "첫 번째 줄은 1에서 12사이의 월을 입력한다.\n",
    "\n",
    "두 번째 줄은 1에서 31사이의 그 달에 들어있는 날짜를 입력한다 .\n",
    "\n",
    "\n",
    "\n",
    "### 출력\n",
    "---\n",
    "\n",
    "마지막 줄에 \"Before\", \"After\"나 \"Special\"을 출력한다."
   ]
  },
  {
   "cell_type": "markdown",
   "metadata": {},
   "source": [
    "---"
   ]
  },
  {
   "cell_type": "markdown",
   "metadata": {},
   "source": [
    "### 예제 입력1\n",
    "\n",
    "```\n",
    "1\n",
    "7\n",
    "```\n",
    "\n",
    "### 예제 출력1\n",
    "\n",
    "```\n",
    "Before\n",
    "```"
   ]
  },
  {
   "cell_type": "markdown",
   "metadata": {},
   "source": [
    "### 예제 입력2\n",
    "\n",
    "```\n",
    "8\n",
    "31\n",
    "```\n",
    "\n",
    "### 예제 출력2\n",
    "```\n",
    "After\n",
    "```"
   ]
  },
  {
   "cell_type": "markdown",
   "metadata": {},
   "source": [
    "---"
   ]
  },
  {
   "cell_type": "markdown",
   "metadata": {},
   "source": [
    "#### 답 1)"
   ]
  },
  {
   "cell_type": "code",
   "execution_count": 10,
   "metadata": {},
   "outputs": [
    {
     "name": "stdout",
     "output_type": "stream",
     "text": [
      "2\n",
      "17\n",
      "Before\n"
     ]
    }
   ],
   "source": [
    "month=int(input())\n",
    "day=int(input())\n",
    "\n",
    "if month==1:\n",
    "    print(\"Before\")\n",
    "elif month==2 and day<18:\n",
    "    print(\"Before\")\n",
    "elif month==2 and day==18:\n",
    "    print(\"Special\")\n",
    "else:\n",
    "    print(\"After\")\n",
    "    "
   ]
  },
  {
   "cell_type": "code",
   "execution_count": null,
   "metadata": {},
   "outputs": [],
   "source": []
  }
 ],
 "metadata": {
  "kernelspec": {
   "display_name": "Python 3",
   "language": "python",
   "name": "python3"
  },
  "language_info": {
   "codemirror_mode": {
    "name": "ipython",
    "version": 3
   },
   "file_extension": ".py",
   "mimetype": "text/x-python",
   "name": "python",
   "nbconvert_exporter": "python",
   "pygments_lexer": "ipython3",
   "version": "3.8.3"
  }
 },
 "nbformat": 4,
 "nbformat_minor": 4
}
