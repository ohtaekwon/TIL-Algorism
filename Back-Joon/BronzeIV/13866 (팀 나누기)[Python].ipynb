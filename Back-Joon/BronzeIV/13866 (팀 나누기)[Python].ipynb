{
 "cells": [
  {
   "cell_type": "markdown",
   "metadata": {},
   "source": [
    "# 평균 점수\n",
    "\n",
    "<br>\n",
    "<br>\n",
    "\n",
    "## 문제\n",
    "\n",
    "---\n",
    "4명의 친구가 탁구를 하고 있다. 각각은 정수형으로 표현된 스킬 레벨을 가지고 있고, 숫자가 높을수록 더 좋은 플레이어다.\n",
    "\n",
    "4명의 친구는 각각 두 명씩 구성된 두 팀을 구성하려고 한다. 게임이 더 흥미롭게 하기 위해서 팀의 스킬 레벨을 최대한 가깝게 유지하기를 원한다. 팀의 스킬 레벨은 팀원의 스킬 레벨의 합계이다.\n",
    "\n",
    "그들은 탁구 선수로는 탁월하지만, 수학이나 컴퓨터와 같은 다른 것들에 능숙하지 않다. 팀의 스킬 레벨이 가능한 작은 차이를 갖도록 도와주자."
   ]
  },
  {
   "cell_type": "markdown",
   "metadata": {},
   "source": [
    "### 입력\n",
    "\n",
    "---\n",
    "입력은 네 개의 정수 A, B, C 및 D가 포함된 한 줄로 구성되며 4명의 스킬 레벨이 주어진다. (0 ≤ A ≤ B ≤ C ≤ D ≤ 104)\n",
    "\n",
    "\n",
    "\n",
    "### 출력\n",
    "---\n",
    "두 팀의 스킬 레벨 차이의 최솟값을 출력한다.\n",
    "\n",
    "\n"
   ]
  },
  {
   "cell_type": "markdown",
   "metadata": {},
   "source": [
    "---"
   ]
  },
  {
   "cell_type": "markdown",
   "metadata": {},
   "source": [
    "### 예제 입력1\n",
    "\n",
    "```\n",
    "4 7 10 20\n",
    "\n",
    "```\n",
    "\n",
    "### 예제 출력1\n",
    "```\n",
    "7\n",
    "```"
   ]
  },
  {
   "cell_type": "markdown",
   "metadata": {},
   "source": [
    "---"
   ]
  },
  {
   "cell_type": "markdown",
   "metadata": {},
   "source": [
    "### 풀이 1)\n",
    "\n",
    "단순 수학 문제 \n",
    "- 제일 큰 값에서 제일 작은 값을 한 팀으로 구성한다.\n",
    "- 그다음 제일 큰 값에서 그다음 작은 값을 한팀으로 구성한다.\n",
    "- 구서"
   ]
  },
  {
   "cell_type": "code",
   "execution_count": 67,
   "metadata": {},
   "outputs": [
    {
     "name": "stdout",
     "output_type": "stream",
     "text": [
      "4 7 10 20\n",
      "7\n"
     ]
    }
   ],
   "source": [
    "a,b,c,d=map(int,input().split())\n",
    "print(abs(abs(b-a)-abs(d-c)))\n"
   ]
  },
  {
   "cell_type": "markdown",
   "metadata": {},
   "source": [
    "### 풀이 2)"
   ]
  },
  {
   "cell_type": "code",
   "execution_count": 60,
   "metadata": {},
   "outputs": [
    {
     "name": "stdout",
     "output_type": "stream",
     "text": [
      "4 7 10 20\n",
      "7\n"
     ]
    }
   ],
   "source": [
    "a,b,c,d=map(int,input().split())\n",
    "people=[]\n",
    "for i in a,b,c,d:\n",
    "    people.append(i)\n",
    "\n",
    "\n",
    "print(max(people)+min(people)-(people[2]+people[1]))"
   ]
  }
 ],
 "metadata": {
  "kernelspec": {
   "display_name": "Python 3",
   "language": "python",
   "name": "python3"
  },
  "language_info": {
   "codemirror_mode": {
    "name": "ipython",
    "version": 3
   },
   "file_extension": ".py",
   "mimetype": "text/x-python",
   "name": "python",
   "nbconvert_exporter": "python",
   "pygments_lexer": "ipython3",
   "version": "3.8.3"
  }
 },
 "nbformat": 4,
 "nbformat_minor": 4
}
