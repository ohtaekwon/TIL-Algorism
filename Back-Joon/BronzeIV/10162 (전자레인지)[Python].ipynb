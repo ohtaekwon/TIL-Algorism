{
 "cells": [
  {
   "cell_type": "markdown",
   "metadata": {},
   "source": [
    "# 전자레인지\n",
    "\n",
    "<br>\n",
    "<br>\n",
    "\n",
    "## 문제\n",
    "\n",
    "---\n",
    "3개의 시간조절용 버튼 A B C가 달린 전자레인지가 있다. 각 버튼마다 일정한 시간이 지정되어 있어 해당 버튼을 한번 누를 때마다 그 시간이 동작시간에 더해진다. 버튼 A, B, C에 지정된 시간은 각각 5분, 1분, 10초이다.\n",
    "\n",
    "냉동음식마다 전자레인지로 요리해야할 시간 T가 초단위로 표시되어 있다. 우리는 A, B, C 3개의 버튼을 적절히 눌러서 그 시간의 합이 정확히 T초가 되도록 해야 한다. 단 버튼 A, B, C를 누른 횟수의 합은 항상 최소가 되어야 한다. 이것을 최소버튼 조작이라고 한다. \n",
    "\n",
    "만일 요리시간이 100초라고 하면(T=100) B를 1번, C는 4번 누르면 된다. 이와 다르게 C를 10번 눌러도 100초가 되지만 이 경우 10번은 최소 횟수가 아니기 때문이 답이 될 수 없다. 이 경우 B 1번, C 4번, 총 5번이 최소버튼 조작이다. 그리고 T=234와 같이 3개의 버튼으로 시간을 정확히 맞출 수 없는 경우도 있다. \n",
    "\n",
    "여러분은 주어진 요리시간 T초를 맞추기 위한 최소버튼 조작 방법을 구하는 프로그램을 작성해야 한다. "
   ]
  },
  {
   "cell_type": "markdown",
   "metadata": {},
   "source": [
    "### 입력\n",
    "\n",
    "---\n",
    "첫 번째 줄에는 요리시간 T(초)가 정수로 주어져 있으며 그 범위는 1 ≤ T ≤ 10,000 이다. \n",
    "\n",
    "<br>\n",
    "\n",
    "### 출력\n",
    "---\n",
    "여러분은 T초를 위한 최소버튼 조작의 A B C 횟수를 첫 줄에 차례대로 출력해야 한다. 각각의 횟수 사이에는 빈 칸을 둔다. 해당 버튼을 누르지 않는 경우에는 숫자 0을 출력해야한다. 만일 제시된 3개의 버튼으로 T초를 맞출 수 없으면 음수 -1을 첫 줄에 출력해야 한다. \n"
   ]
  },
  {
   "cell_type": "markdown",
   "metadata": {},
   "source": [
    "### 서브태스크\n",
    "---\n",
    "\n",
    "|번호|배점|제한|\n",
    "|---|---|---|\n",
    "|1 | 30 | T<=60|\n",
    "|2 | 30 | T<=300|\n",
    "|3 | 40 | T<=10,000"
   ]
  },
  {
   "cell_type": "markdown",
   "metadata": {},
   "source": [
    "### 예제 입력1\n",
    "\n",
    "```\n",
    "100\n",
    "```\n",
    "\n",
    "\n",
    "### 예제 출력1\n",
    "\n",
    "```\n",
    "0 1 4\n",
    "```\n",
    "\n",
    "\n",
    "### 예제 입력2\n",
    "\n",
    "```\n",
    "189\n",
    "```\n",
    "\n",
    "\n",
    "### 예제 출력2\n",
    "\n",
    "```\n",
    "-1\n",
    "```\n",
    "\n",
    "\n"
   ]
  },
  {
   "cell_type": "code",
   "execution_count": null,
   "metadata": {},
   "outputs": [],
   "source": []
  },
  {
   "cell_type": "markdown",
   "metadata": {},
   "source": [
    "### 풀이"
   ]
  },
  {
   "cell_type": "markdown",
   "metadata": {},
   "source": [
    "#### 답 1)"
   ]
  },
  {
   "cell_type": "code",
   "execution_count": 78,
   "metadata": {},
   "outputs": [
    {
     "name": "stdout",
     "output_type": "stream",
     "text": [
      "189\n",
      "-1\n"
     ]
    }
   ],
   "source": [
    "# A는 5분 , B는 1분 , C는 10초\n",
    "\n",
    "#A = 300\n",
    "#B = 60\n",
    "#C = 10\n",
    "\n",
    "A=0\n",
    "B=0\n",
    "C=0\n",
    "\n",
    "T = int(input())\n",
    "\n",
    "if T%10==0:    \n",
    "    A = T//300\n",
    "    B = (T%300)//60\n",
    "    C = (T%60)//10\n",
    "    print(A, B, C)\n",
    "    \n",
    "elif 0 < T%10 < 10:\n",
    "    print(\"-1\")"
   ]
  },
  {
   "cell_type": "markdown",
   "metadata": {},
   "source": [
    "#### 답 2)"
   ]
  },
  {
   "cell_type": "code",
   "execution_count": null,
   "metadata": {},
   "outputs": [],
   "source": [
    "t = int(input())\n",
    "\n",
    "if t % 10 != 0:\n",
    "    print(-1)\n",
    "else:\n",
    "    a = 0\n",
    "    b = 0\n",
    "    c = 0\n",
    "    a = t // 300\n",
    "    b = (t % 300) // 60\n",
    "    c = (t % 300) % 60 // 10\n",
    "    print(a, b, c)"
   ]
  }
 ],
 "metadata": {
  "kernelspec": {
   "display_name": "Python 3",
   "language": "python",
   "name": "python3"
  },
  "language_info": {
   "codemirror_mode": {
    "name": "ipython",
    "version": 3
   },
   "file_extension": ".py",
   "mimetype": "text/x-python",
   "name": "python",
   "nbconvert_exporter": "python",
   "pygments_lexer": "ipython3",
   "version": "3.8.3"
  }
 },
 "nbformat": 4,
 "nbformat_minor": 4
}
