{
 "cells": [
  {
   "cell_type": "markdown",
   "metadata": {},
   "source": [
    "# TV크기\n",
    "\n",
    "<br>\n",
    "<br>\n",
    "\n",
    "## 문제\n",
    "---\n",
    "\n",
    "동규는 세수를 하다가 정렬이 하고싶어졌다.\n",
    "\n",
    "숫자 세 개를 생각한 뒤에, 이를 오름차순으로 정렬하고 싶어 졌다.\n",
    "\n",
    "숫자 세 개가 주어졌을 때, 가장 작은 수, 그 다음 수, 가장 큰 수를 출력하는 프로그램을 작성하시오.\n",
    "\n",
    "\n",
    "### 입력\n",
    "\n",
    "---\n",
    "\n",
    "숫자 세 개가 주어진다. 이 숫자는 1보다 크거나 같고, 1,000,000보다 작거나 같다. 이 숫자는 모두 다르다.\n",
    "\n",
    "\n",
    "<br>\n"
   ]
  },
  {
   "cell_type": "markdown",
   "metadata": {},
   "source": [
    "### 출력\n",
    "---\n",
    "\n",
    "제일 작은 수, 그 다음 수, 제일 큰 수를 차례대로 출력한다.\n",
    "\n",
    "<br>"
   ]
  },
  {
   "cell_type": "markdown",
   "metadata": {},
   "source": [
    "---\n",
    "### 예제 입력1\n",
    "\n",
    "```\n",
    "3 1 2\n",
    "```\n",
    "\n",
    "### 예제 출력1\n",
    "```\n",
    "1 2 3\n",
    "```"
   ]
  },
  {
   "cell_type": "markdown",
   "metadata": {},
   "source": [
    "### 풀이"
   ]
  },
  {
   "cell_type": "code",
   "execution_count": 3,
   "metadata": {},
   "outputs": [
    {
     "name": "stdout",
     "output_type": "stream",
     "text": [
      "3 1 2\n"
     ]
    },
    {
     "data": {
      "text/plain": [
       "True"
      ]
     },
     "execution_count": 3,
     "metadata": {},
     "output_type": "execute_result"
    }
   ],
   "source": [
    "a,b,c = map(int, input().split())\n",
    "1<=a<=1000000\n",
    "1<=b<=1000000\n",
    "1<=c<=1000000\n",
    "a!=b\n",
    "b!=c\n",
    "a!=c\n",
    "\n",
    "if a>b>c:\n",
    "    print(c, b, a)\n",
    "elif b>a>c:\n",
    "    print(c, a, b)\n",
    "elif c>b>a:\n",
    "    print(a, b, c)\n",
    "elif b>c>a:\n",
    "    print(a, c, b)\n",
    "elif c>a>b:\n",
    "    print(b,a,c)\n",
    "else:\n",
    "    print(b,c,a)\n",
    "    "
   ]
  },
  {
   "cell_type": "code",
   "execution_count": 11,
   "metadata": {},
   "outputs": [
    {
     "name": "stdout",
     "output_type": "stream",
     "text": [
      "1 2 3\n"
     ]
    }
   ],
   "source": [
    "if a>b>c:\n",
    "    print(c, b, a)\n",
    "if b>a>c:\n",
    "    print(c, a, b)\n",
    "if c>b>a:\n",
    "    print(a, b, c)\n",
    "if b>c>a:\n",
    "    print(a, c, b)\n",
    "if c>a>b:\n",
    "    print(b,a,c)\n",
    "if a>c>b:\n",
    "    print(b,c,a)\n",
    "    \n",
    "    "
   ]
  },
  {
   "cell_type": "code",
   "execution_count": null,
   "metadata": {},
   "outputs": [],
   "source": []
  }
 ],
 "metadata": {
  "kernelspec": {
   "display_name": "Python 3",
   "language": "python",
   "name": "python3"
  },
  "language_info": {
   "codemirror_mode": {
    "name": "ipython",
    "version": 3
   },
   "file_extension": ".py",
   "mimetype": "text/x-python",
   "name": "python",
   "nbconvert_exporter": "python",
   "pygments_lexer": "ipython3",
   "version": "3.8.3"
  }
 },
 "nbformat": 4,
 "nbformat_minor": 4
}
