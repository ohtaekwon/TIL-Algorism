{
 "cells": [
  {
   "cell_type": "markdown",
   "metadata": {},
   "source": [
    "# 평균 점수\n",
    "\n",
    "<br>\n",
    "<br>\n",
    "\n",
    "## 문제\n",
    "\n",
    "---\n",
    "\n",
    "JOI군이 살고 있는 지역에는 X사와 Y사, 두 개의 수도회사가 있다. 두 회사의 수도요금은 한 달간 수도의 사용량에 따라 다음과 같이 정해진다.\n",
    "\n",
    "- X사 : 1리터당 A엔.\n",
    "- Y사 : 기본요금은 B엔이고, 사용량이 C리터 이하라면 요금은 기본요금만 청구된다. 사용량이 C리터가 넘었을 경우 기본요금 B엔에 더해서 추가요금이 붙는다. 추가요금은 사용량이 C리터를 넘었을 경우 1리터를 넘었을 때마다 D엔이다.\n",
    "JOI군의 집에서 한 달간 쓰는 수도의 양은 P리터이다.\n",
    "\n",
    "수도요금이 최대한 싸게 되도록 수도회사를 고를 때, JOI군의 집의 1달간 수도요금을 구하여라."
   ]
  },
  {
   "cell_type": "markdown",
   "metadata": {},
   "source": [
    "### 입력\n",
    "\n",
    "---\n",
    "\n",
    "입력은 5줄이고 한 줄에 하나씩 정수가 입력된다.\n",
    "\n",
    "- 첫 번째 줄에는 X사의 1리터당 요금 A가 입력된다.\n",
    "- 두 번째 줄에는 Y사의 기본요금 B가 입력된다.\n",
    "- 세 번째 줄에는 Y사의 요금이 기본요금이 되는 사용량의 상한 C가 입력된다.\n",
    "- 네 번째 줄에는 Y사의 1리터 당 추가요금 D가 입력된다.\n",
    "- 다섯 번째 줄에는 JOI군의 집에서 사용하는 한 달간 수도의 양 P가 입력된다.\n",
    "\n",
    "입력되는 정수 A,B,C,D,P는 전부 1 이상 10000 이하이다.\n",
    "\n",
    "\n",
    "\n",
    "### 출력\n",
    "---\n",
    "\n",
    "JOI군의 집에서 지불하는 한 달간 수도요금을 첫째 줄에 출력한다.\n"
   ]
  },
  {
   "cell_type": "markdown",
   "metadata": {},
   "source": [
    "---"
   ]
  },
  {
   "cell_type": "markdown",
   "metadata": {},
   "source": [
    "### 예제 입력1\n",
    "\n",
    "```\n",
    "9\n",
    "100\n",
    "20\n",
    "3\n",
    "10\n",
    "```\n",
    "\n",
    "### 예제 출력1\n",
    "```\n",
    "90\n",
    "```"
   ]
  },
  {
   "cell_type": "markdown",
   "metadata": {},
   "source": [
    "### 예제 입력2\n",
    "\n",
    "```\n",
    "8\n",
    "300\n",
    "100\n",
    "10\n",
    "250\n",
    "```\n",
    "\n",
    "### 예제 출력2\n",
    "```\n",
    "1800"
   ]
  },
  {
   "cell_type": "markdown",
   "metadata": {},
   "source": [
    "---"
   ]
  },
  {
   "cell_type": "markdown",
   "metadata": {},
   "source": [
    "### 힌트\n",
    "\n",
    "입출력예제 1에서, JOI군의 집에서 사용하는 수도의 양은 10리터이다.\n",
    "\n",
    "- X사의 수도요금은 9 × 10 = 90엔이다.\n",
    "- JOI군의 집에서 사용한 양이 20리터 이하이므로 Y사의 수도요금은 기본요금인 100엔이다.\n",
    "\n",
    "JOI군의 집은 수도요금이 더 싼 X사를 고르고, 이때의 한 달치 수도요금은 90엔이다.\n",
    "입출력예제 2에서, JOI군의 집에서 사용하는 수도의 양은 250리터이다.\n",
    "\n",
    "- X사의 수도요금은 8 × 250 = 2000엔이다.\n",
    "- JOI군의 집에서 사용한 양이 100리터 이상이므로 초과량은 250 - 100 = 150리터이다. 따라서 Y사의 수도요금은 기본요금인 300엔에 더해서 10 × 150 = 1500엔의 추가요금이 붙고, 총 요금은 300 + 1500 = 1800엔이 된다.\n",
    "\n",
    "JOI군의 집은 수도요금이 더 싼 Y사를 고르고, 이때의 한 달치 수도요금은 1800엔이다."
   ]
  },
  {
   "cell_type": "markdown",
   "metadata": {},
   "source": [
    "#### 답 1)"
   ]
  },
  {
   "cell_type": "code",
   "execution_count": 1,
   "metadata": {},
   "outputs": [
    {
     "name": "stdout",
     "output_type": "stream",
     "text": [
      "9\n",
      "100\n",
      "20\n",
      "3\n",
      "10\n",
      "90\n"
     ]
    }
   ],
   "source": [
    "a = int(input())\n",
    "b = int(input())\n",
    "c = int(input())\n",
    "d = int(input())\n",
    "p = int(input())\n",
    "x = a * p\n",
    "if c < p:\n",
    "    y = b + ((p - c) * d)\n",
    "else:\n",
    "    y = b\n",
    "if x < y:\n",
    "    print(x)\n",
    "else:\n",
    "    print(y)"
   ]
  },
  {
   "cell_type": "code",
   "execution_count": null,
   "metadata": {},
   "outputs": [],
   "source": []
  }
 ],
 "metadata": {
  "kernelspec": {
   "display_name": "Python 3",
   "language": "python",
   "name": "python3"
  },
  "language_info": {
   "codemirror_mode": {
    "name": "ipython",
    "version": 3
   },
   "file_extension": ".py",
   "mimetype": "text/x-python",
   "name": "python",
   "nbconvert_exporter": "python",
   "pygments_lexer": "ipython3",
   "version": "3.8.3"
  }
 },
 "nbformat": 4,
 "nbformat_minor": 4
}
