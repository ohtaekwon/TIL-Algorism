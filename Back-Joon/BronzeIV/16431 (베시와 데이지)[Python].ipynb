{
 "cells": [
  {
   "cell_type": "markdown",
   "metadata": {},
   "source": [
    "# 베시와 데이지\n",
    "\n",
    "\n",
    "<br>\n",
    "<br>\n",
    "\n",
    "## 문제\n",
    "\n",
    "---\n",
    "\n",
    "농부 존은 소 베시와 소 데이지를 키우고 있습니다.\n",
    "\n",
    "두 소는 자유롭게 1,000 × 1,000 2차원 격자 목초지를 누비며 놀고 있습니다. 농부 존이 종을 치면 베시와 데이지가 농부 존이 있는 곳으로 달려갑니다. \n",
    "\n",
    "![](https://upload.acmicpc.net/9ede513c-e62e-464d-9ac9-e1d1408cf770/-/preview/)\n",
    "\n",
    "_베시가 B에 있을 때 1초 후에 움직일 수 있는 칸과 데이지가 D에 있을 때 1초 후에 움직일 수 있는 칸을 나타낸 그림_\n",
    " \n",
    "\n",
    "베시는 1초 후에 꼭짓점을 공유하는 8개의 칸 중 하나로 이동할 수 있고 데이지는 1초 후에 변을 공유하는 4개의 칸 중 하나로 이동할 수 있습니다. 칸들은 충분히 넓어서 칸 하나에도 베시와 데이지 그리고 존이 같이 서 있을 수 있습니다. \n",
    "\n",
    "베시와 데이지 두 소 모두 최단 경로로 존에게 갈 때 어떤 소가 더 빨리 도착할까요?"
   ]
  },
  {
   "cell_type": "markdown",
   "metadata": {},
   "source": [
    "### 입력\n",
    "\n",
    "---\n",
    "첫 번째 줄에 베시의 좌표 Br, Bc (1 ≤ Br, Bc ≤ 1,000) 이 주어집니다.\n",
    "\n",
    "두 번째 줄에 데이지의 좌표 Dr, Dc (1 ≤ Dr, Dc ≤ 1,000) 이 주어집니다.\n",
    "\n",
    "세 번째 줄에 존의 좌표 Jr, Jc (1 ≤ Jr, Jc ≤ 1,000) 이 주어집니다.\n",
    "\n",
    "처음에 존이 있는 칸에는 베시와 데이지가 없음이 보장됩니다.\n",
    "\n",
    "<br>\n",
    "\n",
    "### 출력\n",
    "---\n",
    "첫 번째 줄에 베시가 더 빨리 도착하면 'bessie', 데이지가 더 빨리 도착하면 'daisy', 동시에 도착하면 'tie' 를 출력합니다."
   ]
  },
  {
   "cell_type": "markdown",
   "metadata": {},
   "source": [
    "### 예제 입력1\n",
    "\n",
    "`3 5`\n",
    "\n",
    "`1 1`\n",
    "\n",
    "`2 3`\n",
    "\n",
    "### 예제 출력1\n",
    "\n",
    "`bessie`"
   ]
  },
  {
   "cell_type": "markdown",
   "metadata": {},
   "source": [
    "![](https://upload.acmicpc.net/cb4e6c95-127c-466f-8535-2093d8570fff/-/preview/)\n",
    "\n",
    "베시는 (3, 5) > (2, 4) > (2, 3) 경로로 이동하여 존에게 오는데 2초가 걸립니다.\n",
    "\n",
    "반면 데이지는 (1, 1) > (1, 2) > (1, 3) > (2, 3) 경로로 이동하여 존에게 오는데 3초가 걸리므로 베시가 더 빨리 도착합니다."
   ]
  },
  {
   "cell_type": "markdown",
   "metadata": {},
   "source": [
    "### 예제 입력2\n",
    "\n",
    "`13 13`\n",
    "\n",
    "`11 11`\n",
    "\n",
    "`11 12`\n",
    "\n",
    "### 예제 출력2\n",
    "\n",
    "`daisy`"
   ]
  },
  {
   "cell_type": "code",
   "execution_count": null,
   "metadata": {},
   "outputs": [],
   "source": []
  },
  {
   "cell_type": "markdown",
   "metadata": {},
   "source": [
    "### 예제 입력3\n",
    "\n",
    "`4 5`\n",
    "\n",
    "`5 4`\n",
    "\n",
    "`4 4`\n",
    "\n",
    "### 예제 출력3\n",
    "\n",
    "`tie`"
   ]
  },
  {
   "cell_type": "markdown",
   "metadata": {},
   "source": [
    "----"
   ]
  },
  {
   "cell_type": "markdown",
   "metadata": {},
   "source": [
    "### 풀이"
   ]
  },
  {
   "cell_type": "markdown",
   "metadata": {},
   "source": [
    "- 존의 좌표에서 각각의 좌표를 뺀 x좌표 절댓값, y좌표 절댓값 중 큰 것이 베시의 최소 이동 거리이다.\n",
    "- 존의 좌표에서 각각의 좌표를 뺀 x좌표 절댓값, y좌표 절댓값을 더한 것이 데이지의 최소 이동 거리이다.\n",
    "- 베시는 대각선으로 이동할 수 있기 때문에 대각선으로 이동하는 것이 항상 최소가 된다.\n",
    "- 대각선으로 이동하면 x좌표, y좌표를 동일하게 빼고, 남는 것의 절댓값을 더하면 된다."
   ]
  },
  {
   "cell_type": "code",
   "execution_count": null,
   "metadata": {},
   "outputs": [],
   "source": [
    "#a = list(map(int, input().split()))\n",
    "#b = list(map(int, input().split()))\n",
    "#c = list(map(int, input().split()))\n"
   ]
  },
  {
   "cell_type": "code",
   "execution_count": 7,
   "metadata": {},
   "outputs": [
    {
     "name": "stdout",
     "output_type": "stream",
     "text": [
      "13 13\n",
      "11 11\n",
      "11 12\n",
      "daisy\n"
     ]
    }
   ],
   "source": [
    "br, bc = map(int, input().split())\n",
    "dr, dc = map(int, input().split())\n",
    "jr, jc = map(int, input().split())\n",
    "\n",
    "b_min = max(abs(jr-br), abs(jc-bc))\n",
    "d_min = abs(jr-dr) + abs(jc-dc)\n",
    "result = ''\n",
    "\n",
    "if b_min < d_min:\n",
    "    result = 'bessie'\n",
    "elif b_min == d_min:\n",
    "    result = 'tie'\n",
    "else:\n",
    "    result = 'daisy'\n",
    "print(result)"
   ]
  },
  {
   "cell_type": "code",
   "execution_count": 5,
   "metadata": {},
   "outputs": [
    {
     "name": "stdout",
     "output_type": "stream",
     "text": [
      "-2 5\n",
      "7\n"
     ]
    }
   ],
   "source": [
    "# 사파리 월드\n",
    "\n",
    "n, m = map(int,input().split())\n",
    "\n",
    "print(abs(n-m))"
   ]
  },
  {
   "cell_type": "code",
   "execution_count": 6,
   "metadata": {},
   "outputs": [
    {
     "name": "stdout",
     "output_type": "stream",
     "text": [
      "5\n",
      "1 6\n"
     ]
    }
   ],
   "source": [
    "T = int(input())\n",
    "A = []\n",
    "B = []\n",
    "\n",
    "for _ in range(T):\n",
    "    num1, num2 = map(int, input().split())\n",
    "    A.append(num1)\n",
    "    B.append(num2)"
   ]
  },
  {
   "cell_type": "code",
   "execution_count": null,
   "metadata": {},
   "outputs": [],
   "source": []
  }
 ],
 "metadata": {
  "kernelspec": {
   "display_name": "Python 3",
   "language": "python",
   "name": "python3"
  },
  "language_info": {
   "codemirror_mode": {
    "name": "ipython",
    "version": 3
   },
   "file_extension": ".py",
   "mimetype": "text/x-python",
   "name": "python",
   "nbconvert_exporter": "python",
   "pygments_lexer": "ipython3",
   "version": "3.8.3"
  }
 },
 "nbformat": 4,
 "nbformat_minor": 4
}
