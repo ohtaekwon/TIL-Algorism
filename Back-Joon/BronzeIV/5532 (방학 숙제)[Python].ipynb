{
 "cells": [
  {
   "cell_type": "markdown",
   "metadata": {},
   "source": [
    "# 방학 숙제\n",
    "\n",
    "<br>\n",
    "<br>\n",
    "\n",
    "## 문제\n",
    "---\n",
    "\n",
    "상근이는 초등학교에 다닐 때, 방학 숙제를 남들보다 먼저 미리 하고 남은 기간을 놀았다. 방학 숙제는 수학과 국어 문제 풀기이다.\n",
    "\n",
    "방학은 총 L일이다. 수학은 총 B페이지, 국어는 총 A페이지를 풀어야 한다. 상근이는 하루에 국어를 최대 C페이지, 수학을 최대 D페이지 풀 수 있다.\n",
    "\n",
    "상근이가 겨울 방학동안 숙제를 하지 않고 놀 수 있는 최대 날의 수를 구하는 프로그램을 작성하시오.\n",
    "\n",
    "### 입력\n",
    "\n",
    "---\n",
    "\n",
    "한 줄에 하나씩 총 다섯 줄에 걸쳐 L, A, B, C, D가 주어진다. (2 ≤ L ≤ 40, 1 ≤ A, B ≤ 1000, 1 ≤ C, D ≤ 100)\n",
    "\n",
    "항상 방학 숙제를 방학 기간내에 다 할 수 있는 경우만 입력으로 주어진다.\n"
   ]
  },
  {
   "cell_type": "markdown",
   "metadata": {},
   "source": [
    "### 출력\n",
    "---\n",
    "\n",
    "첫째 줄에 상근이가 놀 수 있는 날의 최댓값을 출력한다.\n"
   ]
  },
  {
   "cell_type": "markdown",
   "metadata": {},
   "source": [
    "---\n",
    "### 예제 입력1\n",
    "\n",
    "```\n",
    "20\n",
    "25\n",
    "30\n",
    "6\n",
    "8\n",
    "```\n",
    "\n",
    "### 예제 출력1\n",
    "```\n",
    "15\n",
    "```"
   ]
  },
  {
   "cell_type": "code",
   "execution_count": null,
   "metadata": {},
   "outputs": [],
   "source": []
  },
  {
   "cell_type": "markdown",
   "metadata": {},
   "source": [
    "---\n",
    "### 예제 입력1\n",
    "\n",
    "```\n",
    "15\n",
    "32\n",
    "48\n",
    "4\n",
    "6\n",
    "```\n",
    "\n",
    "### 예제 출력1\n",
    "```\n",
    "7\n",
    "\n",
    "```"
   ]
  },
  {
   "cell_type": "markdown",
   "metadata": {},
   "source": [
    "### 풀이"
   ]
  },
  {
   "cell_type": "code",
   "execution_count": 54,
   "metadata": {},
   "outputs": [
    {
     "name": "stdout",
     "output_type": "stream",
     "text": [
      "15\n",
      "32\n",
      "48\n",
      "4\n",
      "6\n",
      "7\n"
     ]
    }
   ],
   "source": [
    "# 총방학(L), 국어 총 페이지(A), 수학 총 페이지(B),\n",
    "# 하루 국어 푸는 페이지(C), 하루 수학 푸는 페이지(D)\n",
    "\n",
    "import math as m\n",
    "\n",
    "L = int(input())\n",
    "A = int(input())\n",
    "B = int(input())\n",
    "C = int(input())\n",
    "D = int(input())\n",
    "\n",
    "cnt=0\n",
    "\n",
    "if L>=(A/C) and L>=(B/D):\n",
    "    day=max(m.ceil(A/C),m.ceil(B/D))\n",
    "    cnt+=day\n",
    "    \n",
    "print(L-cnt)"
   ]
  },
  {
   "cell_type": "code",
   "execution_count": null,
   "metadata": {},
   "outputs": [],
   "source": [
    "l = int(input())\n",
    "a = int(input())\n",
    "b = int(input())\n",
    "c = int(input())\n",
    "d = int(input())\n",
    "\n",
    "e = a // c\n",
    "f = b // d\n",
    "\n",
    "if e > f:\n",
    "    if a % c == 0:\n",
    "        print(l - e)\n",
    "    else:\n",
    "        print(l - 1 - e)\n",
    "else:\n",
    "    if b % d == 0:\n",
    "        print(l - f)\n",
    "    else:\n",
    "        print(l - 1 - f)"
   ]
  }
 ],
 "metadata": {
  "kernelspec": {
   "display_name": "Python 3",
   "language": "python",
   "name": "python3"
  },
  "language_info": {
   "codemirror_mode": {
    "name": "ipython",
    "version": 3
   },
   "file_extension": ".py",
   "mimetype": "text/x-python",
   "name": "python",
   "nbconvert_exporter": "python",
   "pygments_lexer": "ipython3",
   "version": "3.8.3"
  }
 },
 "nbformat": 4,
 "nbformat_minor": 4
}
