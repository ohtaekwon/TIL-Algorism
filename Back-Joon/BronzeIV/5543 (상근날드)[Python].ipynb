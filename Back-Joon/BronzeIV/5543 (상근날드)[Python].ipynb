{
 "cells": [
  {
   "cell_type": "markdown",
   "metadata": {},
   "source": [
    "# 상근날드\n",
    "\n",
    "<br>\n",
    "<br>\n",
    "\n",
    "## 문제\n",
    "---\n",
    "상근날드에서 가장 잘 팔리는 메뉴는 세트 메뉴이다. 주문할 때, 자신이 원하는 햄버거와 음료를 하나씩 골라, 세트로 구매하면, 가격의 합계에서 50원을 뺀 가격이 세트 메뉴의 가격이 된다.\n",
    "\n",
    "햄버거는 총 3종류 상덕버거, 중덕버거, 하덕버거가 있고, 음료는 콜라와 사이다 두 종류가 있다.\n",
    "\n",
    "햄버거와 음료의 가격이 주어졌을 때, 가장 싼 세트 메뉴의 가격을 출력하는 프로그램을 작성하시오.\n"
   ]
  },
  {
   "cell_type": "markdown",
   "metadata": {},
   "source": [
    "### 입력\n",
    "---\n",
    "입력은 총 다섯 줄이다. 첫째 줄에는 상덕버거, 둘째 줄에는 중덕버거, 셋째 줄에는 하덕버거의 가격이 주어진다. 넷째 줄에는 콜라의 가격, 다섯째 줄에는 사이다의 가격이 주어진다. 모든 가격은 100원 이상, 2000원 이하이다."
   ]
  },
  {
   "cell_type": "markdown",
   "metadata": {},
   "source": [
    "### 출력\n",
    "---\n",
    "첫째 줄에 가장 싼 세트 메뉴의 가격을 출력한다."
   ]
  },
  {
   "cell_type": "markdown",
   "metadata": {},
   "source": [
    "### 예제 입력1\n",
    "\n",
    "```\n",
    "800\n",
    "700\n",
    "900\n",
    "198\n",
    "330\n",
    "```\n",
    "\n",
    "### 예제 출력1\n",
    "```\n",
    "848\n",
    "```"
   ]
  },
  {
   "cell_type": "markdown",
   "metadata": {},
   "source": [
    "\n",
    "### 예제 입력2\n",
    "\n",
    "```\n",
    "1999\n",
    "1999\n",
    "100\n",
    "189\n",
    "100\n",
    "```\n",
    "\n",
    "### 예제 출력2\n",
    "\n",
    "```\n",
    "150\n",
    "```"
   ]
  },
  {
   "cell_type": "markdown",
   "metadata": {},
   "source": [
    "---"
   ]
  },
  {
   "cell_type": "markdown",
   "metadata": {},
   "source": [
    "### 풀이\n"
   ]
  },
  {
   "cell_type": "markdown",
   "metadata": {},
   "source": [
    "### 답1)"
   ]
  },
  {
   "cell_type": "code",
   "execution_count": null,
   "metadata": {},
   "outputs": [],
   "source": [
    "# 상덕버거, 중덕버거, 하덕버거\n",
    "# 콜라, 사이다\n",
    "# 세트메뉴 = 햄버거 + 음료수 -50\n",
    "\n",
    "sh=int(input())\n",
    "jh=int(input())\n",
    "hh=int(input())\n",
    "cola=int(input())\n",
    "soda=int(input())\n",
    "\n",
    "print(min(sh+cola-50,sh+soda-50,jh+cola-50,jh+soda-50,hh+cola-50,hh+soda-50))"
   ]
  },
  {
   "cell_type": "markdown",
   "metadata": {},
   "source": [
    "### 답2)"
   ]
  },
  {
   "cell_type": "code",
   "execution_count": 11,
   "metadata": {},
   "outputs": [
    {
     "name": "stdout",
     "output_type": "stream",
     "text": [
      "800\n",
      "700\n",
      "900\n",
      "330\n",
      "198\n",
      "848\n"
     ]
    }
   ],
   "source": [
    "burgur = 2000\n",
    "beverage = 2000\n",
    "\n",
    "for i in range(3):\n",
    "    food = int(input())\n",
    "    burgur=min(burgur,food)\n",
    "    \n",
    "for j in range(2):\n",
    "    drink = int(input())\n",
    "    beverage=min(beverage,drink)\n",
    "    \n",
    "print(burgur+beverage-50)"
   ]
  },
  {
   "cell_type": "code",
   "execution_count": 10,
   "metadata": {},
   "outputs": [
    {
     "data": {
      "text/plain": [
       "330"
      ]
     },
     "execution_count": 10,
     "metadata": {},
     "output_type": "execute_result"
    }
   ],
   "source": [
    "drink_min"
   ]
  },
  {
   "cell_type": "markdown",
   "metadata": {},
   "source": [
    "### 답3)"
   ]
  },
  {
   "cell_type": "code",
   "execution_count": 6,
   "metadata": {},
   "outputs": [
    {
     "name": "stdout",
     "output_type": "stream",
     "text": [
      "800\n",
      "700\n",
      "900\n",
      "198\n",
      "330\n",
      "848\n"
     ]
    }
   ],
   "source": [
    "# 변수 선언\n",
    "hamb = [] \n",
    "beve = []\n",
    "\n",
    "# 변수 입력\n",
    "for i in range(0,3):\n",
    "    inputNum = int(input())\n",
    "    hamb.append(inputNum)\n",
    "    \n",
    "for i in range(0,2):\n",
    "    inputNum = int(input())\n",
    "    beve.append(inputNum)\n",
    "    \n",
    "# 결과값 출력\n",
    "print(min(hamb)+min(beve)-50)"
   ]
  }
 ],
 "metadata": {
  "kernelspec": {
   "display_name": "Python 3",
   "language": "python",
   "name": "python3"
  },
  "language_info": {
   "codemirror_mode": {
    "name": "ipython",
    "version": 3
   },
   "file_extension": ".py",
   "mimetype": "text/x-python",
   "name": "python",
   "nbconvert_exporter": "python",
   "pygments_lexer": "ipython3",
   "version": "3.8.3"
  }
 },
 "nbformat": 4,
 "nbformat_minor": 4
}
