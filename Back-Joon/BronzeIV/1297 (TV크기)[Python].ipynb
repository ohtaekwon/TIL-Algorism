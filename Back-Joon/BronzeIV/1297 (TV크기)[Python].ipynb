{
 "cells": [
  {
   "cell_type": "markdown",
   "metadata": {},
   "source": [
    "# TV크기\n",
    "\n",
    "<br>\n",
    "<br>\n",
    "\n",
    "## 문제\n",
    "\n",
    "---\n",
    "김탑은 TV를 사러 인터넷 쇼핑몰에 들어갔다. 쇼핑을 하던 중에, TV의 크기는 그 TV의 대각선의 길이로 나타낸 다는 것을 알았다. 하지만, 김탑은 대각선의 길이가 같다고 해도, 실제 TV의 크기는 다를 수도 있다는 사실에 직접 TV를 보러갈걸 왜 인터넷 쇼핑을 대각선의 길이만 보고있는지 후회하고 있었다.\n",
    "\n",
    "인터넷 쇼핑몰 관리자에게 이메일을 보내서 실제 높이와 실제 너비를 보내달라고 했지만, 관리자는 실제 높이와 실제 너비를 보내지 않고 그것의 비율을 보내왔다.\n",
    "\n",
    "TV의 대각선 길이와, 높이 너비의 비율이 주어졌을 때, 실제 높이와 너비의 길이를 출력하는 프로그램을 작성하시오."
   ]
  },
  {
   "cell_type": "markdown",
   "metadata": {},
   "source": [
    "### 입력\n",
    "\n",
    "---\n",
    "첫째 줄에 TV의 대각선 길이 D, TV의 높이 비율 H, TV의 너비 비율 W이 공백 한 칸을 사이에 두고 주어진다.\n",
    "\n",
    "\n",
    "<br>\n",
    "\n",
    "### 출력\n",
    "---\n",
    "첫째 줄에 TV의 높이와 TV의 너비를 공백 한 칸을 이용해서 구분지은 후 출력한다. 만약, 실제 TV의 높이나 너비가 소수점이 나올 경우에는 그 수보다 작으면서 가장 큰 정수로 출력한다. (예) 1.7 -> 1\n",
    "\n",
    "\n",
    "### 제한\n",
    "---\n",
    "\n",
    "- 5 ≤ D ≤ 1,000\n",
    "- 1 ≤ H ≤ 99\n",
    "- 2 ≤ W ≤ 100\n",
    "- H < W\n",
    "- D, H, W는 정수\n"
   ]
  },
  {
   "cell_type": "markdown",
   "metadata": {},
   "source": [
    "***\n",
    "### 예제 입력1\n",
    "\n",
    "```\n",
    "52 9 16\n",
    "```\n",
    "\n",
    "### 예제 출력1\n",
    "```\n",
    "25 45\n",
    "```\n",
    "\n",
    "---"
   ]
  },
  {
   "cell_type": "markdown",
   "metadata": {},
   "source": [
    "\n",
    "### 예제 입력2\n",
    "\n",
    "```\n",
    "7 2 3\n",
    "```\n",
    "\n",
    "### 예제 출력2\n",
    "\n",
    "```\n",
    "3 5\n",
    "```\n",
    "***"
   ]
  },
  {
   "cell_type": "markdown",
   "metadata": {},
   "source": [
    "\n",
    "### 예제 입력3\n",
    "\n",
    "```\n",
    "13 7 10\n",
    "\n",
    "```\n",
    "\n",
    "### 예제 출력3\n",
    "\n",
    "```\n",
    "7 10\n",
    "```\n",
    "\n",
    "---"
   ]
  },
  {
   "cell_type": "markdown",
   "metadata": {},
   "source": [
    "### 예제 입력4\n",
    "\n",
    "```\n",
    "7 32 47\n",
    "```\n",
    "\n",
    "### 예제 출력4\n",
    "\n",
    "```\n",
    "3 5\n",
    "```\n"
   ]
  },
  {
   "cell_type": "markdown",
   "metadata": {},
   "source": [
    "\n",
    "### 예제 입력5\n",
    "\n",
    "```\n",
    "11 15 16\n",
    "```\n",
    "\n",
    "### 예제 출력5\n",
    "\n",
    "```\n",
    "7 8\n",
    "```\n",
    "\n",
    "---"
   ]
  },
  {
   "cell_type": "markdown",
   "metadata": {},
   "source": [
    "### 풀이\n",
    "\n",
    "높이와 너비의 비율이 주어졌다. 이들의 비율 1에 해당하는 r을 구하면 된다. 이 r은 대각선의 길이로 구할 수 있게 된다. 너비를 W, 높이를 H 라고 했을 때, $W^2 + H^2=기울기^2$ 를 만족하고, $W:H = a:b$의 비율을 만족시키는 r이 있다고 한다.\n",
    "\n",
    "(r은 W=a*r, H=b*r을 만족한다.)\n",
    "\n",
    "그러면 다음을 만족한다.\n",
    "\n",
    "$a^2r^2+b^2r^2=기울기^2$\n",
    "\n",
    "따라서, r로 묶어서 계산할 수 있다. 최종적으로 $a*r, b*r$을 출력하면 된다."
   ]
  },
  {
   "cell_type": "code",
   "execution_count": 17,
   "metadata": {},
   "outputs": [
    {
     "name": "stdout",
     "output_type": "stream",
     "text": [
      "52 9 16\n",
      "25 45\n"
     ]
    }
   ],
   "source": [
    "# 대각선 길이(D), 높이 비율(H), 너비 비율(W)\n",
    "import math as m\n",
    "D, H, W = map(int, input().split())\n",
    "\n",
    "5<=D<=1000\n",
    "1<=H<=99\n",
    "2<=W<=100\n",
    "H<W\n",
    "\n",
    "r=m.sqrt(((D**2)/(W**2+H**2)))\n",
    "print(int((r*H)),int((r*W)))"
   ]
  },
  {
   "cell_type": "code",
   "execution_count": 14,
   "metadata": {},
   "outputs": [
    {
     "data": {
      "text/plain": [
       "30"
      ]
     },
     "execution_count": 14,
     "metadata": {},
     "output_type": "execute_result"
    }
   ],
   "source": [
    "import math\n",
    "\n",
    "# math.sqrt(9**2 + 16**2)\n",
    "int(math.sqrt(D * math.sqrt(H**2 + W**2)))"
   ]
  },
  {
   "cell_type": "code",
   "execution_count": null,
   "metadata": {},
   "outputs": [],
   "source": []
  }
 ],
 "metadata": {
  "kernelspec": {
   "display_name": "Python 3",
   "language": "python",
   "name": "python3"
  },
  "language_info": {
   "codemirror_mode": {
    "name": "ipython",
    "version": 3
   },
   "file_extension": ".py",
   "mimetype": "text/x-python",
   "name": "python",
   "nbconvert_exporter": "python",
   "pygments_lexer": "ipython3",
   "version": "3.8.3"
  }
 },
 "nbformat": 4,
 "nbformat_minor": 4
}
