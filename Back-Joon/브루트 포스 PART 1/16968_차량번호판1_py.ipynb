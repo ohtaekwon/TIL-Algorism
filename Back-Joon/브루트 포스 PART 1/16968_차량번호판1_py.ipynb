{
 "cells": [
  {
   "cell_type": "markdown",
   "id": "f45fd5e4",
   "metadata": {},
   "source": [
    "# 차량 번호파1\n",
    "\n",
    "<br/>\n",
    "\n",
    "### 1. 문제\n",
    "상도시의 차량 번호판 형식이 주어졌을 때, 가능한 차량 번호판의 개수를 구해보자.\n",
    "\n",
    "- 번호판에 사용할 수 있는 숫자는 0, 1, 2, ..., 8, 9이다.\n",
    "- 사용할 수 있는 문자는 a, b, c, d, ..., y, z이다.\n",
    "- 차량 번호판의 형식은 최대 4글자이고, c와 d로 이루어진 문자열로 나타낼 수 있다.\n",
    "- c는 문자가 위치하는 자리, d는 숫자가 위치하는 자리이다.\n",
    "- 같은 문자 또는 숫자가 연속해서 2번 나타나면 안 된다.\n",
    "\n",
    "예를 들어, 형식이 \"cd\"이면, a1, d4, h5, k4 등이 가능하다. 형식이 \"dd\"인 경우에 01, 10, 34, 69는 가능하지만, 00, 11, 55, 66은 같은 숫자가 2번 연속해서 불가능하다.\n",
    "\n",
    "\n",
    "### 2. 입력\n",
    "\n",
    "첫째 줄에 차량 번호판의 형식이 주어진다. 형식은 길이가 4보다 작거나 같으며, c와 d로만 이루어져 있다.\n",
    "\n",
    "### 3.출력\n",
    "\n",
    "첫째 줄에 가능한 차량 번호판의 개수를 출력한다.\n",
    "\n",
    "\n",
    "---\n",
    "\n",
    "\n",
    "### 예제 입력\n",
    "\n",
    "```\n",
    "dd\n",
    "```\n",
    "\n",
    "### 예제 출력\n",
    "\n",
    "```\n",
    "90\n",
    "```"
   ]
  },
  {
   "cell_type": "markdown",
   "id": "ea8b4d14",
   "metadata": {},
   "source": [
    "### 알고리즘 분류\n",
    "\n",
    "- 수학\n",
    "- 조합론"
   ]
  },
  {
   "cell_type": "markdown",
   "id": "268a9d00",
   "metadata": {},
   "source": [
    "### 풀이 1)\n",
    "\n",
    "풀이 방법 : 재귀함수를 사용\n",
    "\n",
    "- 문자의 경우 26가지\n",
    "- 숫자의 경우 10가지\n",
    "\n",
    "- 경우의 수가 가장 많은 것 : `cccc`\n",
    "    - 연속해서 두 번이 나오면 안되기 때문에,\n",
    "    - 경우의 수 : 26 x 25$^3$\n",
    "\n",
    "- 기준 : 각각의 위치에 `_` `_` `_` `_` <- 각각에 무엇이 왔을 때,앞에 있는 것과 같은지 비교\n",
    "\n",
    "\n",
    "### 언제 좋은 방법일까?\n",
    "\n",
    "- 가능한 번호판을 다 구해야 하는 경우"
   ]
  },
  {
   "cell_type": "code",
   "execution_count": 29,
   "id": "aee29924",
   "metadata": {},
   "outputs": [
    {
     "name": "stdout",
     "output_type": "stream",
     "text": [
      "dd\n",
      "90\n"
     ]
    }
   ],
   "source": [
    "# s : 문제의 입력 (번호판의 패턴)\n",
    "# index : 인덱스(몇번째)\n",
    "# last : 이전 문자(index-1 번째 문자)\n",
    "\n",
    "def go(s, index, last):\n",
    "    if len(s)==index: # 마지막까지 결정하고 다음을 호출할 때\n",
    "        return 1 # 이때, 방법을 하나를 취하였으니까 1을 호출한다.\n",
    "    # index번 째의 문자가 'c' 이면 a 이고, 아니면 0\n",
    "    # index번 째의 문자가 'c'이면 z 이고, 아니면 9\n",
    "    # 즉, index번 째의 문자가 'c'이면 a~z까지, 아니면 0~9까지\n",
    "    start = ord('a') if s[index]=='c' else ord('0')\n",
    "    end = ord('z') if s[index]=='c' else ord('9')\n",
    "    \n",
    "    ans=0\n",
    "    for i in range(start,end+1): # start부터 마지막자리 +1까지의 반복을 하고\n",
    "        if i!=last: # 이전에 사용한 문자와 다를때만\n",
    "            ans+=go(s,index+1,i) # 정답을 더해준다\n",
    "    return ans\n",
    "    \n",
    "s=input()\n",
    "print(go(s,0,''))"
   ]
  },
  {
   "cell_type": "markdown",
   "id": "6d69f1ca",
   "metadata": {},
   "source": [
    "### 풀이 2)\n",
    "\n",
    "풀이 방법 : 조합을 통해서 해결\n",
    "\n",
    " `1` `_` `_` `_` 일 때,\n",
    " \n",
    " - 연속되지 않을 경우\n",
    "     -  `1`의 위치가 `c` 이면, 26개 `d` 이면 10개\n",
    " \n",
    " - 연속될 경우\n",
    "     - `ccdd` : 26 x 25 x 10 x 9"
   ]
  },
  {
   "cell_type": "code",
   "execution_count": 27,
   "id": "85782d91",
   "metadata": {},
   "outputs": [
    {
     "name": "stdout",
     "output_type": "stream",
     "text": [
      "dd\n",
      "90\n"
     ]
    }
   ],
   "source": [
    "s=input()\n",
    "\n",
    "if s[0]=='c':\n",
    "    answer=26\n",
    "else:\n",
    "    answer=10\n",
    "    \n",
    "for i in range(1, len(s)):\n",
    "    if s[i]=='c':\n",
    "        if s[i-1]=='c':\n",
    "            answer*=25\n",
    "        else:\n",
    "            answer*=26\n",
    "    else :\n",
    "        if s[i-1]=='d':\n",
    "            answer*=9\n",
    "        else:\n",
    "            answer*=10\n",
    "print(answer)"
   ]
  }
 ],
 "metadata": {
  "kernelspec": {
   "display_name": "Python 3 (ipykernel)",
   "language": "python",
   "name": "python3"
  },
  "language_info": {
   "codemirror_mode": {
    "name": "ipython",
    "version": 3
   },
   "file_extension": ".py",
   "mimetype": "text/x-python",
   "name": "python",
   "nbconvert_exporter": "python",
   "pygments_lexer": "ipython3",
   "version": "3.9.7"
  }
 },
 "nbformat": 4,
 "nbformat_minor": 5
}
