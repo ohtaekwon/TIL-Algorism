{
 "cells": [
  {
   "cell_type": "markdown",
   "id": "f45fd5e4",
   "metadata": {},
   "source": [
    "# 차량 번호파1\n",
    "\n",
    "<br/>\n",
    "\n",
    "### 1. 문제\n",
    "\n",
    "현진 치킨에서 판매하는 치킨은 양념 치킨, 후라이드 치킨, 반반 치킨으로 총 세 종류이다. 반반 치킨은 절반은 양념 치킨, 절반은 후라이드 치킨으로 이루어져있다. 양념 치킨 한 마리의 가격은 A원, 후라이드 치킨 한 마리의 가격은 B원, 반반 치킨 한 마리의 가격은 C원이다.\n",
    "\n",
    "상도는 오늘 파티를 위해 양념 치킨 최소 X마리, 후라이드 치킨 최소 Y마리를 구매하려고 한다. 반반 치킨을 두 마리 구입해 양념 치킨 하나와 후라이드 치킨 하나를 만드는 방법도 가능하다. 상도가 치킨을 구매하는 금액의 최솟값을 구해보자.\n",
    "\n",
    "\n",
    "### 2. 입력\n",
    "\n",
    "첫째 줄에 다섯 정수 A, B, C, X, Y가 주어진다.\n",
    "\n",
    "\n",
    "\n",
    "### 3.출력\n",
    "\n",
    "양념 치킨 최소 X마리, 후라이드 치킨 최소 Y마리를 구매하는 비용의 최솟값을 출력한다.\n",
    "\n",
    "\n",
    "### 제한\n",
    "\n",
    "- 1 ≤ A, B, C ≤ 5,000\n",
    "- 1 ≤ X, Y ≤ 100,000\n",
    "\n",
    "---\n",
    "\n",
    "### 예제 입력\n",
    "\n",
    "```\n",
    "1500 2000 1600 3 2\n",
    "```\n",
    "\n",
    "### 예제 출력\n",
    "\n",
    "```\n",
    "7900\n",
    "```"
   ]
  },
  {
   "cell_type": "markdown",
   "id": "ea8b4d14",
   "metadata": {},
   "source": [
    "### 알고리즘 분류\n",
    "\n",
    "- 수학\n",
    "- 구현\n",
    "- 사칙연산"
   ]
  },
  {
   "cell_type": "markdown",
   "id": "268a9d00",
   "metadata": {},
   "source": [
    "### 풀이 1)\n",
    "\n",
    "**풀이 방법** : 재귀함수를 사용\n",
    "\n"
   ]
  },
  {
   "cell_type": "code",
   "execution_count": 1,
   "id": "c7884acc",
   "metadata": {},
   "outputs": [
    {
     "name": "stdout",
     "output_type": "stream",
     "text": [
      "1500 2000 1600 3 2\n"
     ]
    }
   ],
   "source": [
    "a,b,c,x,y = map(int,input().split())"
   ]
  },
  {
   "cell_type": "code",
   "execution_count": 15,
   "id": "752b60f9",
   "metadata": {},
   "outputs": [
    {
     "name": "stdout",
     "output_type": "stream",
     "text": [
      "21300\n"
     ]
    }
   ],
   "source": [
    "if a+b<c*2:\n",
    "    c*=max(x,y)-min(x,y)\n",
    "    a*=x\n",
    "    b*=y\n",
    "    print(a+b+c)\n",
    "else:\n",
    "    c*=x-max(x,y)-min(x,y)\n",
    "    if x>y:\n",
    "        a*=max(x,y)-min(x,y)\n",
    "    else:\n",
    "        b*=max(x,y)-min(x,y)\n",
    "    print(a+b+c)"
   ]
  },
  {
   "cell_type": "code",
   "execution_count": null,
   "id": "044a8116",
   "metadata": {},
   "outputs": [],
   "source": []
  }
 ],
 "metadata": {
  "kernelspec": {
   "display_name": "Python 3 (ipykernel)",
   "language": "python",
   "name": "python3"
  },
  "language_info": {
   "codemirror_mode": {
    "name": "ipython",
    "version": 3
   },
   "file_extension": ".py",
   "mimetype": "text/x-python",
   "name": "python",
   "nbconvert_exporter": "python",
   "pygments_lexer": "ipython3",
   "version": "3.9.7"
  }
 },
 "nbformat": 4,
 "nbformat_minor": 5
}
