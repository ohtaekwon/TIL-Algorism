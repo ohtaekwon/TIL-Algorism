{
 "cells": [
  {
   "cell_type": "markdown",
   "id": "f45fd5e4",
   "metadata": {},
   "source": [
    "# [양념 반 후라이드 반](https://www.acmicpc.net/problem/16917)\n",
    "\n",
    "<br/>\n",
    "\n",
    "\n",
    "### 1. 문제\n",
    "\n",
    "현진 치킨에서 판매하는 치킨은 양념 치킨, 후라이드 치킨, 반반 치킨으로 총 세 종류이다. 반반 치킨은 절반은 양념 치킨, 절반은 후라이드 치킨으로 이루어져있다. 양념 치킨 한 마리의 가격은 A원, 후라이드 치킨 한 마리의 가격은 B원, 반반 치킨 한 마리의 가격은 C원이다.\n",
    "\n",
    "상도는 오늘 파티를 위해 양념 치킨 최소 X마리, 후라이드 치킨 최소 Y마리를 구매하려고 한다. 반반 치킨을 두 마리 구입해 양념 치킨 하나와 후라이드 치킨 하나를 만드는 방법도 가능하다. 상도가 치킨을 구매하는 금액의 최솟값을 구해보자.\n",
    "\n",
    "\n",
    "### 2. 입력\n",
    "\n",
    "첫째 줄에 다섯 정수 A, B, C, X, Y가 주어진다.\n",
    "\n",
    "\n",
    "\n",
    "### 3.출력\n",
    "\n",
    "양념 치킨 최소 X마리, 후라이드 치킨 최소 Y마리를 구매하는 비용의 최솟값을 출력한다.\n",
    "\n",
    "\n",
    "### 제한\n",
    "\n",
    "- 1 ≤ A, B, C ≤ 5,000\n",
    "- 1 ≤ X, Y ≤ 100,000\n",
    "\n",
    "---\n",
    "\n",
    "### 예제 입력\n",
    "\n",
    "```\n",
    "1500 2000 1600 3 2\n",
    "```\n",
    "\n",
    "### 예제 출력\n",
    "\n",
    "```\n",
    "7900\n",
    "```"
   ]
  },
  {
   "cell_type": "markdown",
   "id": "ea8b4d14",
   "metadata": {},
   "source": [
    "### 알고리즘 분류\n",
    "\n",
    "- 수학\n",
    "- 구현\n",
    "- 사칙연산"
   ]
  },
  {
   "cell_type": "markdown",
   "id": "268a9d00",
   "metadata": {},
   "source": [
    "### 풀이 1)\n",
    "\n",
    "**풀이 방법** : \n",
    "\n",
    "- 반반 치킨 2마리 = 양념1, 후라이드1\n",
    "- 경우의 수\n",
    "    - 양념 : x \n",
    "    - 후라이드 : y\n",
    "    - 반반 : x-1. y-1\n",
    "- 이 문제에서 중요한 것은 : 반반은 몇마리 할 것인가가 중요하다.\n",
    "- 반반은 항상 짝수개로 구매한다.\n",
    "- 반반 : z 이라면\n",
    "    - 양념 = x-z/2\n",
    "    - 후라이드 = y-z/2 \n",
    "    - z는 짝수\n",
    "\n",
    "- 식으로 정리해보면\n",
    "    - 반반 치킨을 2i 구매했다면\n",
    "    - 양념 치킨은 X-i개, 후라이드 치킨은 Y-i개 구매해야 한다.\n",
    "    - 이때 비용은\n",
    "    - 2i X C + max(0,X-i) X A + max(0,Y-i) X B\n",
    "    - 가능한 i의 버위는 0<=i<=100,000"
   ]
  },
  {
   "cell_type": "code",
   "execution_count": 29,
   "id": "c7884acc",
   "metadata": {},
   "outputs": [
    {
     "name": "stdout",
     "output_type": "stream",
     "text": [
      "1500 2000 500 90000 100000\n"
     ]
    }
   ],
   "source": [
    "# a = 양념치킨 가격\n",
    "# b = 후라이드 치킨 가격\n",
    "# c = 반반치킨 가격\n",
    "# x = 양념치킨 개수\n",
    "# y = 후라이드치킨 개수\n",
    "a,b,c,x,y = map(int,input().split())"
   ]
  },
  {
   "cell_type": "code",
   "execution_count": 33,
   "id": "b26f7d56",
   "metadata": {},
   "outputs": [
    {
     "name": "stdout",
     "output_type": "stream",
     "text": [
      "110000000\n"
     ]
    }
   ],
   "source": [
    "# 두 가지 경우를 나누어 볼 수 있다.\n",
    "# 반반 치킨 2개의 가격이 양념치킨 1개 + 후라이드 1개 보다 큰 경우와 작은 경우\n",
    "result=0\n",
    "# 반반 치킨의 가격이 더 큰 경우\n",
    "# 반반치킨을 고려 하지 않아도 된다.\n",
    "if 2*c > a+b:\n",
    "    result=(a*x) + (b*y)\n",
    "else:\n",
    "    # 반반치킨의 가격이 더 낮은 경우\n",
    "    # 반반치킨의 가격은 빼고 남은 치킨의 가격을 계산한다.\n",
    "    d=min(x,y) # 양념과 후라이드중 더 작은 개수를 구한다.\n",
    "    e=(max(x,y)-min(x,y))\n",
    "    if x>y:\n",
    "        result=(a*e)+(c*d*2)\n",
    "    else:\n",
    "        result=(b*e)+(c*d*2)\n",
    "\n",
    "print(result)"
   ]
  },
  {
   "cell_type": "markdown",
   "id": "ce896ba4",
   "metadata": {},
   "source": [
    "### 풀이 2)"
   ]
  },
  {
   "cell_type": "code",
   "execution_count": 20,
   "id": "046fce05",
   "metadata": {},
   "outputs": [
    {
     "name": "stdout",
     "output_type": "stream",
     "text": [
      "1500 2000 1600 3 2\n",
      "7900\n"
     ]
    }
   ],
   "source": [
    "A, B, C, X, Y = map(int, input().split())\n",
    "result = 0\n",
    "if 2 * C > A + B:                                   # 반반 치킨 두 마리가 한 마리씩 따로 사는 것보다 비싸면\n",
    "    result = A * X + B * Y                          # 각 치킨을 각 값 그대로 삼\n",
    "else:                                               # 반마리 치킨 두 마리가 각각 한 마리씩 사는 것보다 싸면\n",
    "    d = min(X, Y)                                   # d는 양념, 후라이드 최소 필요 개수 중 작은 값\n",
    "    # 일단 작은 메뉴 개수만큼 반반 치킨으로 삼. 남은 후라이드나 양념을 반반 치킨으로 사야 싼지 따로 한 마리로 사야 싼지 비교하고 연산\n",
    "    result = (2 * C * d) + \\\n",
    "             (min(2 * C, A) * max(0, X - d)) + \\\n",
    "             (min(2 * C, B) * max(0, Y - d))\n",
    "print(result)"
   ]
  },
  {
   "cell_type": "code",
   "execution_count": null,
   "id": "6a772bf6",
   "metadata": {},
   "outputs": [],
   "source": []
  }
 ],
 "metadata": {
  "kernelspec": {
   "display_name": "Python 3 (ipykernel)",
   "language": "python",
   "name": "python3"
  },
  "language_info": {
   "codemirror_mode": {
    "name": "ipython",
    "version": 3
   },
   "file_extension": ".py",
   "mimetype": "text/x-python",
   "name": "python",
   "nbconvert_exporter": "python",
   "pygments_lexer": "ipython3",
   "version": "3.9.7"
  }
 },
 "nbformat": 4,
 "nbformat_minor": 5
}
