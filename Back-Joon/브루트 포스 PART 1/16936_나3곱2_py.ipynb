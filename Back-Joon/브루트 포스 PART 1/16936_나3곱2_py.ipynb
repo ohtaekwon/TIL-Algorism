{
 "cells": [
  {
   "cell_type": "markdown",
   "id": "f45fd5e4",
   "metadata": {},
   "source": [
    "# [나3곱2](https://www.acmicpc.net/problem/16936)\n",
    "\n",
    "<br/>\n",
    "\n",
    "### 1. 문제\n",
    "나3곱2 게임은 정수 하나를 이용한다. 가장 먼저, 정수 x로 시작하고, 연산을 N-1번 적용한다. 적용할 수 있는 연산은 두 가지 있고, 아래와 같다.\n",
    "\n",
    "- 나3: x를 3으로 나눈다. x는 3으로 나누어 떨어져야 한다.\n",
    "- 곱2: x에 2를 곱한다.\n",
    "나3곱2 게임을 진행하면서, 만든 수를 모두 기록하면 수열 A를 만들 수 있다. 예를 들어, x = 9, N = 6이고, 적용한 연산이 곱2, 곱2, 나3, 곱2, 나3인 경우에 A = [9, 18, 36, 12, 24, 8] 이다.\n",
    "\n",
    "수열 A의 순서를 섞은 수열 B가 주어졌을 때, 수열 A를 구해보자.\n",
    "\n",
    "### 2. 입력\n",
    "\n",
    "첫째 줄에 수열의 크기 N(2 ≤ N ≤ 100)이 주어진다. 둘째 줄에는 수열 B가 주어진다. B에 포함된 원소는 1018 보다 작거나 같은 자연수이다.\n",
    "\n",
    "\n",
    "### 3.출력\n",
    "\n",
    "나3곱2 게임의 결과 수열 A를 출력한다. 항상 정답이 존재하는 경우에만 입력으로 주어지며, 가능한 정답이 여러가지인 경우에는 아무거나 출력한다.\n",
    "\n",
    "\n",
    "---\n",
    "\n",
    "\n",
    "### 예제 입력\n",
    "\n",
    "```\n",
    "6\n",
    "4 8 6 3 12 9\n",
    "```\n",
    "\n",
    "### 예제 출력\n",
    "\n",
    "```\n",
    "9 3 6 12 4 8\n",
    "\n",
    "```"
   ]
  },
  {
   "cell_type": "markdown",
   "id": "ea8b4d14",
   "metadata": {},
   "source": [
    "### 알고리즘 분류\n",
    "\n",
    "- 수학\n",
    "- 정렬"
   ]
  },
  {
   "cell_type": "markdown",
   "id": "268a9d00",
   "metadata": {},
   "source": [
    "### 풀이 1)\n",
    "\n",
    "풀이 방법 : \n",
    "\n",
    "- 정수 x로 시작해서, 연산은 N-1번 사용해 수열 A를 만든다.\n",
    "- 나3: X를 3으로 나눈다. X는 3으로 나누어 떨어져야 한다.\n",
    "- 곱2 : X에 2를 곱한다\n",
    "    - 아무때나 사용이 가능하다.\n",
    "- 수열 A의 순서를 섞은 수열 B가 주어졌을 때. A를 구하는 문제\n",
    "- B = 4,8,6,3,12,9 인 경우 A = [9,3,6,12,4,8] \n",
    "- 중요한 점은 수열 A는 연산을 이용해 만들었다는 것\n",
    "    - 따라서, 수열B를 적절히 섞으면 A가 반드시 만들어진다.\n",
    "    - 나눔의 연산 : 수가 작아진다.\n",
    "    - 곱의 연산 : 수가 커진다.\n",
    "    - 3으로 몇번 나누어 떨어지는가가 중요하다.\n",
    "    \n",
    "|수|3으로 나누어 떨어지는 횟 수|\n",
    "|--|:--:|\n",
    "|4|0번|\n",
    "|8|0번|\n",
    "|6|1번|\n",
    "|3|1번|\n",
    "|12|1번|\n",
    "|9|2번|\n",
    "\n",
    "- 3으로 나누어 떨어지는 횟 수는 작아짐의 순서를 유지해한다.\n",
    "- 따라서, 9가 가장 먼저 필요하다\n",
    "- 그다음으로, 3, 12, 6 4, 8 순서를 이루어야한다.\n",
    "- 따라서, 9 -> 나누어 떨어지는 수(3, 12, 6) -> 나누어 떨어지지 않는 수(4,8)\n",
    "- 각각의 `->` 로 갈 때는 수가 작아지므로 나눔의 연산을 사용한다.\n",
    "- 하지만 `()` 안의 수는 커지므로 곱의 연산으로 해야 한다.\n",
    "- 곱의 연산을 사용할 시 수가 커지므로, 오름차순으로 정렬을 한다.\n",
    "    - 9 -`나눔의 연산 사용`-> (3, 6, 12) -`곱의 연산을 사용`-> (4,8)\n",
    "- 따라서, 이 문제는 정렬하는 문제이다.\n",
    "    - 3으로 나누어 떨어지는 횟 수의 내림차순 정렬\n",
    "    - 같을 경우에는 수가 커지는 순으로 오름차순 정렬"
   ]
  },
  {
   "cell_type": "code",
   "execution_count": 12,
   "id": "7c042fc1",
   "metadata": {},
   "outputs": [
    {
     "name": "stdout",
     "output_type": "stream",
     "text": [
      "6\n",
      "4 8 6 3 12 9\n"
     ]
    }
   ],
   "source": [
    "# 수열의 크기 N 이 주어진다. \n",
    "# 다음으로, 수열 B가 주어진다. \n",
    "N = int(input())\n",
    "B = list(map(int,input().split()))"
   ]
  },
  {
   "cell_type": "code",
   "execution_count": 13,
   "id": "108fd8e4",
   "metadata": {},
   "outputs": [
    {
     "data": {
      "text/plain": [
       "[4, 8, 6, 3, 12, 9]"
      ]
     },
     "execution_count": 13,
     "metadata": {},
     "output_type": "execute_result"
    }
   ],
   "source": [
    "B"
   ]
  },
  {
   "cell_type": "code",
   "execution_count": 14,
   "id": "f529b1d1",
   "metadata": {},
   "outputs": [
    {
     "name": "stdout",
     "output_type": "stream",
     "text": [
      "9 3 6 12 4 8\n"
     ]
    }
   ],
   "source": [
    "# 1) 3으로 나누어 떨어지는 횟 수 (내림차순)\n",
    "#  2) 수\n",
    "for i in range(N):\n",
    "    num = B[i]\n",
    "    cnt=0\n",
    "    while num%3 == 0:\n",
    "        num = num//3\n",
    "        cnt += 1\n",
    "    B[i] = (-cnt,B[i])\n",
    "B.sort()\n",
    "ans = [x[1] for x in B]\n",
    "print(*ans, sep=' ')\n",
    "    "
   ]
  },
  {
   "cell_type": "code",
   "execution_count": null,
   "id": "57c1566f",
   "metadata": {},
   "outputs": [],
   "source": []
  }
 ],
 "metadata": {
  "kernelspec": {
   "display_name": "Python 3 (ipykernel)",
   "language": "python",
   "name": "python3"
  },
  "language_info": {
   "codemirror_mode": {
    "name": "ipython",
    "version": 3
   },
   "file_extension": ".py",
   "mimetype": "text/x-python",
   "name": "python",
   "nbconvert_exporter": "python",
   "pygments_lexer": "ipython3",
   "version": "3.9.7"
  }
 },
 "nbformat": 4,
 "nbformat_minor": 5
}
