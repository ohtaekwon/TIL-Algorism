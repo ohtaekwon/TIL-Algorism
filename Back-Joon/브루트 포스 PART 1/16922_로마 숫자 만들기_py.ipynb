{
 "cells": [
  {
   "cell_type": "markdown",
   "id": "f45fd5e4",
   "metadata": {},
   "source": [
    "# [로마 숫자 만들기](https://www.acmicpc.net/problem/16922)\n",
    "\n",
    "<br/>\n",
    "\n",
    "### 1. 문제\n",
    "\n",
    "로마 숫자에서는 수를 나타내기 위해서 I, V, X, L을 사용한다. 각 문자는 1, 5, 10, 50을 의미하고, 이 문제에서 다른 문자는 사용하지 않는다.\n",
    "\n",
    "하나 또는 그 이상의 문자를 이용해서 수를 나타낼 수 있다. 문자열이 나타내는 값은, 각 문자가 의미하는 수를 모두 합한 값이다. 예를 들어, XXXV는 35, IXI는 12를 의미한다.\n",
    "\n",
    "실제 로마 숫자에서는 문자의 순서가 중요하지만, 이 문제에서는 순서는 신경쓰지 않는다. 예를 들어, 실제 로마 숫자에서 IX는 9를 의미하지만, 이 문제에서는 11을 의미한다.\n",
    "\n",
    "로마 숫자를 N개 사용해서 만들 수 있는 서로 다른 수의 개수를 구해보자.\n",
    "\n",
    "\n",
    "### 2. 입력\n",
    "\n",
    "첫째 줄에 사용할 수 있는 문자의 개수 N (1 ≤ N ≤ 20)이 주어진다.\n",
    "\n",
    "\n",
    "\n",
    "### 3.출력\n",
    "\n",
    "첫째 줄에 로마 숫자 N개를 사용해서 만들 수 있는 서로 다른 수의 개수를 출력한다.\n",
    "\n",
    "---\n",
    "\n",
    "\n",
    "### 예제 입력\n",
    "\n",
    "```\n",
    "1\n",
    "```\n",
    "\n",
    "### 예제 출력\n",
    "\n",
    "```\n",
    "4\n",
    "```"
   ]
  },
  {
   "cell_type": "markdown",
   "id": "268a9d00",
   "metadata": {},
   "source": [
    "### 풀이 1)\n",
    "\n",
    "풀이 방법 : \n",
    "\n",
    "- 로마 숫자 I, V, X, L 을 사용하는데, 각각은 1,5,10,50 이다.\n",
    "- 로마 숫자를 n개 사용해서 만들 수 있는 서로 다른 수의 개수를 구하는 문제 (n<=20)\n",
    "- n=1 인 경우 답은 4\n",
    "- n=2 인 경우 답은 10(2,6,10,11,15,20,51,55,60,100)\n",
    "- 경우의 수 4$^n$\n",
    "- 가 아니다\n",
    "- 순서만 다른 것은 의미가 없기 때문에, 경우의 수에서 제외해야 한다.\n",
    "- 따라서, 경우의 수는 n$^4$\n"
   ]
  },
  {
   "cell_type": "code",
   "execution_count": 8,
   "id": "dcab49f7",
   "metadata": {},
   "outputs": [
    {
     "name": "stdout",
     "output_type": "stream",
     "text": [
      "3\n",
      "20\n"
     ]
    }
   ],
   "source": [
    "n=int(input())\n",
    "check =[False]*(50*20+1)\n",
    "\n",
    "for i in range(n+1):\n",
    "    for j in range(n-i+1):\n",
    "        for k in range(n-i-j+1):\n",
    "            l=n-i-j-k\n",
    "            val =i+5*j+10*k+50*l\n",
    "            check[val]=True\n",
    "ans=0\n",
    "for i in range(1,50*20+1):\n",
    "    if check[i]:\n",
    "        ans+=1\n",
    "print(ans)\n",
    "\n"
   ]
  }
 ],
 "metadata": {
  "kernelspec": {
   "display_name": "Python 3 (ipykernel)",
   "language": "python",
   "name": "python3"
  },
  "language_info": {
   "codemirror_mode": {
    "name": "ipython",
    "version": 3
   },
   "file_extension": ".py",
   "mimetype": "text/x-python",
   "name": "python",
   "nbconvert_exporter": "python",
   "pygments_lexer": "ipython3",
   "version": "3.9.7"
  }
 },
 "nbformat": 4,
 "nbformat_minor": 5
}
