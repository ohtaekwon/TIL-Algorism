{
 "cells": [
  {
   "cell_type": "markdown",
   "id": "f45fd5e4",
   "metadata": {},
   "source": [
    "# [숫자 재배치](https://www.acmicpc.net/problem/16943)\n",
    "\n",
    "<br/>\n",
    "\n",
    "### 1. 문제\n",
    "두 정수 A와 B가 있을 때, A에 포함된 숫자의 순서를 섞어서 새로운 수 C를 만들려고 한다. 즉, C는 A의 순열 중 하나가 되어야 한다. \n",
    "\n",
    "가능한 C 중에서 B보다 작으면서, 가장 큰 값을 구해보자. C는 0으로 시작하면 안 된다.\n",
    "\n",
    "\n",
    "### 2. 입력\n",
    "\n",
    "첫째 줄에 두 정수 A와 B가 주어진다.\n",
    "\n",
    "\n",
    "\n",
    "### 3.출력\n",
    "\n",
    "B보다 작은 C중에서 가장 큰 값을 출력한다. 그러한 C가 없는 경우에는 -1을 출력한다.\n",
    "\n",
    "\n",
    "### 4. 제한\n",
    "\n",
    "- 1 ≤ A, B < 109\n",
    "\n",
    "---\n",
    "\n",
    "\n",
    "### 예제 입력\n",
    "\n",
    "```\n",
    "dd\n",
    "```\n",
    "\n",
    "### 예제 출력\n",
    "\n",
    "```\n",
    "90\n",
    "```"
   ]
  },
  {
   "cell_type": "markdown",
   "id": "ea8b4d14",
   "metadata": {},
   "source": [
    "### 알고리즘 분류"
   ]
  },
  {
   "cell_type": "markdown",
   "id": "268a9d00",
   "metadata": {},
   "source": [
    "### 풀이 1)\n",
    "\n",
    "풀이 방법 : 재귀함수를 사용\n"
   ]
  },
  {
   "cell_type": "code",
   "execution_count": 1,
   "id": "61afbbdd",
   "metadata": {},
   "outputs": [
    {
     "name": "stdout",
     "output_type": "stream",
     "text": [
      "1234 3456\n"
     ]
    }
   ],
   "source": [
    "a,b=map(int,input().split())"
   ]
  }
 ],
 "metadata": {
  "kernelspec": {
   "display_name": "Python 3 (ipykernel)",
   "language": "python",
   "name": "python3"
  },
  "language_info": {
   "codemirror_mode": {
    "name": "ipython",
    "version": 3
   },
   "file_extension": ".py",
   "mimetype": "text/x-python",
   "name": "python",
   "nbconvert_exporter": "python",
   "pygments_lexer": "ipython3",
   "version": "3.9.7"
  }
 },
 "nbformat": 4,
 "nbformat_minor": 5
}
