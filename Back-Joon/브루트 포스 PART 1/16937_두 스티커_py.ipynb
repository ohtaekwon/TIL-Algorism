{
 "cells": [
  {
   "cell_type": "markdown",
   "id": "f45fd5e4",
   "metadata": {},
   "source": [
    "# [두 스티커](https://www.acmicpc.net/problem/16937)\n",
    "\n",
    "<br/>\n",
    "\n",
    "### 1. 문제\n",
    "크기가 H×W인 모눈종이와 스티커 N개가 있다. i번째 스티커의 크기는 Ri×Ci이다. 모눈종이는 크기가 1×1인 칸으로 나누어져 있으며, 간격 1을 두고 선이 그어져 있다.\n",
    "\n",
    "오늘은 모눈종이에 스티커 2개를 붙이려고 한다. 스티커의 변은 격자의 선과 일치하게 붙여야 하고, 두 스티커가 서로 겹치면 안 된다. 단, 스티커가 접하는 것은 가능하다. 스티커를 90도 회전시키는 것은 가능하다. 스티커가 모눈종이를 벗어나는 것은 불가능하다.\n",
    "\n",
    "두 스티커가 붙여진 넓이의 최댓값을 구해보자.\n",
    "\n",
    "### 2. 입력\n",
    "\n",
    "첫째 줄에 모눈종이의 크기 H, W, 둘째 줄에 스티커의 수 N이 주어진다. 다음 N개의 줄에는 스티커의 크기 Ri, Ci가 주어진다.\n",
    "\n",
    "### 3.출력\n",
    "\n",
    "첫째 줄에 두 스티커가 붙여진 넓이의 최댓값을 출력한다. 두 스티커를 붙일 수 없는 경우에는 0을 출력한다.\n",
    "\n",
    "### 4. 제한\n",
    "\n",
    "- 1 ≤ H, W, N ≤ 100\n",
    "- 1 ≤ Ri, Ci ≤ 100\n",
    "\n",
    "---\n",
    "\n",
    "\n",
    "### 예제 입력\n",
    "\n",
    "```\n",
    "2 2\n",
    "2\n",
    "1 2\n",
    "2 1\n",
    "```\n",
    "\n",
    "### 예제 출력\n",
    "\n",
    "```\n",
    "4\n",
    "```"
   ]
  },
  {
   "cell_type": "markdown",
   "id": "ea8b4d14",
   "metadata": {},
   "source": [
    "### 알고리즘 분류\n"
   ]
  },
  {
   "cell_type": "markdown",
   "id": "268a9d00",
   "metadata": {},
   "source": [
    "### 풀이 1)\n",
    "\n"
   ]
  },
  {
   "cell_type": "code",
   "execution_count": null,
   "id": "57c1566f",
   "metadata": {},
   "outputs": [
    {
     "name": "stdout",
     "output_type": "stream",
     "text": [
      "2 2\n",
      "2\n",
      "1 2\n"
     ]
    }
   ],
   "source": [
    "h,w = map(int,input().split())\n",
    "n=int(input())\n",
    "r=[0]*n\n",
    "c=[0]*n\n",
    "\n",
    "for i in range(n):\n",
    "    r[i], c[i] = map(int,input().split())\n",
    "ans = 0\n",
    "for i in range(n):\n",
    "    r1, c1 = r[i], c[i]\n",
    "    for j in range(i+1, n):\n",
    "        r2, c2 = r[j], c[j]\n",
    "        for rot1 in range(2):\n",
    "            for rot2 in range(2):\n",
    "                if r1+r2 <= h and max(c1,c2) <= w:\n",
    "                    temp = r1*c1+r2*c2\n",
    "                    if ans < temp:\n",
    "                        ans = temp\n",
    "                if max(r1,r2) <= h and c1+c2 <= w:\n",
    "                    temp = r1*c1+r2*c2\n",
    "                    if ans < temp:\n",
    "                        ans = temp\n",
    "                r2, c2 = c2, r2\n",
    "            r1, c1 = c1, r1\n",
    "print(ans)"
   ]
  },
  {
   "cell_type": "code",
   "execution_count": null,
   "id": "781c6fe9",
   "metadata": {},
   "outputs": [],
   "source": [
    "2 2\n",
    "2\n",
    "1 2\n",
    "2 "
   ]
  }
 ],
 "metadata": {
  "kernelspec": {
   "display_name": "Python 3 (ipykernel)",
   "language": "python",
   "name": "python3"
  },
  "language_info": {
   "codemirror_mode": {
    "name": "ipython",
    "version": 3
   },
   "file_extension": ".py",
   "mimetype": "text/x-python",
   "name": "python",
   "nbconvert_exporter": "python",
   "pygments_lexer": "ipython3",
   "version": "3.9.7"
  }
 },
 "nbformat": 4,
 "nbformat_minor": 5
}
