{
 "cells": [
  {
   "cell_type": "markdown",
   "id": "f45fd5e4",
   "metadata": {},
   "source": [
    "# [두 스티커](https://www.acmicpc.net/problem/16937)\n",
    "\n",
    "<br/>\n",
    "\n",
    "### 1. 문제\n",
    "크기가 H×W인 모눈종이와 스티커 N개가 있다. i번째 스티커의 크기는  R<sub>i</sub> X C<sub>i</sub>이다. 모눈종이는 크기가 1×1인 칸으로 나누어져 있으며, 간격 1을 두고 선이 그어져 있다.\n",
    "\n",
    "오늘은 모눈종이에 스티커 2개를 붙이려고 한다. 스티커의 변은 격자의 선과 일치하게 붙여야 하고, 두 스티커가 서로 겹치면 안 된다. 단, 스티커가 접하는 것은 가능하다. 스티커를 90도 회전시키는 것은 가능하다. 스티커가 모눈종이를 벗어나는 것은 불가능하다.\n",
    "\n",
    "두 스티커가 붙여진 넓이의 최댓값을 구해보자.\n",
    "\n",
    "### 2. 입력\n",
    "\n",
    "첫째 줄에 모눈종이의 크기 H, W, 둘째 줄에 스티커의 수 N이 주어진다. 다음 N개의 줄에는 스티커의 크기 Ri, Ci가 주어진다.\n",
    "\n",
    "### 3.출력\n",
    "\n",
    "첫째 줄에 두 스티커가 붙여진 넓이의 최댓값을 출력한다. 두 스티커를 붙일 수 없는 경우에는 0을 출력한다.\n",
    "\n",
    "### 4. 제한\n",
    "\n",
    "- 1 ≤ H, W, N ≤ 100\n",
    "- 1 ≤ Ri, Ci ≤ 100\n",
    "\n",
    "---\n",
    "\n",
    "\n",
    "### 예제 입력\n",
    "\n",
    "```\n",
    "2 2\n",
    "2\n",
    "1 2\n",
    "2 1\n",
    "```\n",
    "\n",
    "### 예제 출력\n",
    "\n",
    "```\n",
    "4\n",
    "```"
   ]
  },
  {
   "cell_type": "markdown",
   "id": "ea8b4d14",
   "metadata": {},
   "source": [
    "### 알고리즘 분류\n"
   ]
  },
  {
   "cell_type": "markdown",
   "id": "268a9d00",
   "metadata": {},
   "source": [
    "### 풀이 1)\n",
    "\n",
    "- 크기가 H X W인 모눈 종이가 있고, 스티커 N개가 있다. 1=<H,W,N=<100\n",
    "- i번 스티커의 크기는 R<sub>i</sub> X C<sub>i</sub>이다. 스티커는 90도 회전시킬 수 있다.\n",
    "- 스티커 2개를 붙이려고 한다. 두 스티커는 겹치면 안된다. 접하는 것은 가능하다.\n",
    "- 붙여진 넓이의 최댓값을 구하는 문제\n",
    "\n",
    "\n",
    "#### 고려해야 하는 사항\n",
    "- 스티커가 n개 주어지고 그중 2개를 붙여야 한다.\n",
    "- 스티커들은 겹치면 안된다.\n",
    "- 스티커들은 90도 회전이 가능하다.\n",
    "- 스티커들은 접할 수 있다.\n",
    "\n",
    "#### 경우의 수\n",
    "- 스티커 n개 중에서 2개를 붙이는 경우의 수 = $N^2$\n",
    "    - 각각의 스티커를 다 하는 방법이므로 N\n",
    "- 스티커를 회전시키는 경우의 수 = $2^2$\n",
    "    - `1` 번 스티커를 회전하는 경우 or 회전하지 않는 경우 = 2가지\n",
    "    - `2` 번 스티커를 회전하는 경우 or 회전하지 않는 경우 = 2가지\n",
    "    - 따라서, 2 x 2 = $2^2$\n",
    "- 따라서, 스티커 n 개중에 2개를 붙이는데, 회전의 수도 고려를 한다면 경우의 수는\n",
    "     - $N^2$ x $2^2$ 번이 된다.\n",
    "- 스티커를 붙이는데 경우의 수 = 2 가지\n",
    "     - 가로를 연속해서 붙이는 방법\n",
    "     - 세로를 연속해서 붙이는 방법 \n",
    "- 따라서, 총 경의 수는 $N^2$ x $2^2$ x 2 가 된다.\n",
    "- 최대 경우의 수 : $100^2$ X 4 X 2 = 80000 가지가 된다.\n",
    "\n",
    "#### 스티커를 H X W 모눈 종이에 붙일 수 있는지 없는지 여부\n",
    "- 세로를 붙일 경우\n",
    "    - R<sub>1</sub> + R<sub>2</sub> <= H and max(C<sub>1</sub>, C<sub>2</sub>) <= W\n",
    "- 가로를 붙일 경우\n",
    "    - C<sub>1</sub> + C<sub>2</sub> <= W and max(R<sub>1</sub>, R<sub>2</sub>) <= H"
   ]
  },
  {
   "cell_type": "markdown",
   "id": "fdc9670f",
   "metadata": {},
   "source": [
    "### 최종 코드"
   ]
  },
  {
   "cell_type": "code",
   "execution_count": 1,
   "id": "57c1566f",
   "metadata": {},
   "outputs": [
    {
     "name": "stdout",
     "output_type": "stream",
     "text": [
      "2 2\n",
      "2\n",
      "1 2\n",
      "2 1\n",
      "4\n"
     ]
    }
   ],
   "source": [
    "# 모눈종이의 크기 h, w\n",
    "# 스티커의 수 n\n",
    "# 스티커의 크기 : RI x Ci\n",
    "h,w = map(int,input().split())\n",
    "n=int(input())\n",
    "r=[0]*n\n",
    "c=[0]*n\n",
    "\n",
    "for i in range(n):\n",
    "    r[i], c[i] = map(int,input().split()) # 스티커의 정보를 입력 받음\n",
    "\n",
    "\n",
    "    \n",
    "ans = 0\n",
    "\n",
    "for i in range(n): # 두 스티커를 골라준다.\n",
    "    r1, c1 = r[i], c[i] # i번 스티커 = 스티커 1\n",
    "    for j in range(i+1, n):\n",
    "        r2, c2 = r[j], c[j] # j번 스티커 = 스티커 2\n",
    "        \n",
    "        # 회전 여부\n",
    "        for rot1 in range(2):\n",
    "            for rot2 in range(2):\n",
    "                # 스티커를 모눈 종이에 붙일 수 있는지 여부\n",
    "                if r1+r2 <= h and max(c1,c2) <= w:\n",
    "                    temp = r1*c1+r2*c2\n",
    "                    if ans < temp:\n",
    "                        ans = temp\n",
    "                if max(r1,r2) <= h and c1+c2 <= w:\n",
    "                    temp = r1*c1+r2*c2\n",
    "                    if ans < temp:\n",
    "                        ans = temp\n",
    "                r2, c2 = c2, r2\n",
    "            r1, c1 = c1, r1\n",
    "print(ans)"
   ]
  },
  {
   "cell_type": "markdown",
   "id": "a67a9b87",
   "metadata": {},
   "source": [
    "#### 1)  스티커의 정보를 입력 받는다."
   ]
  },
  {
   "cell_type": "code",
   "execution_count": 5,
   "id": "d62c233d",
   "metadata": {},
   "outputs": [
    {
     "name": "stdout",
     "output_type": "stream",
     "text": [
      "2 2\n",
      "2\n"
     ]
    }
   ],
   "source": [
    "h,w = map(int,input().split())\n",
    "n=int(input())\n",
    "r=[0]*n\n",
    "c=[0]*n\n"
   ]
  },
  {
   "cell_type": "code",
   "execution_count": 7,
   "id": "12e71bb6",
   "metadata": {},
   "outputs": [
    {
     "data": {
      "text/plain": [
       "[0, 0]"
      ]
     },
     "execution_count": 7,
     "metadata": {},
     "output_type": "execute_result"
    }
   ],
   "source": [
    "r"
   ]
  },
  {
   "cell_type": "code",
   "execution_count": 8,
   "id": "163a2dcf",
   "metadata": {},
   "outputs": [
    {
     "data": {
      "text/plain": [
       "[0, 0]"
      ]
     },
     "execution_count": 8,
     "metadata": {},
     "output_type": "execute_result"
    }
   ],
   "source": [
    "c"
   ]
  },
  {
   "cell_type": "code",
   "execution_count": 9,
   "id": "5630764c",
   "metadata": {},
   "outputs": [
    {
     "name": "stdout",
     "output_type": "stream",
     "text": [
      "1 2\n",
      "2 1\n"
     ]
    }
   ],
   "source": [
    "for i in range(n):\n",
    "    r[i], c[i] = map(int,input().split())\n",
    "ans = 0"
   ]
  },
  {
   "cell_type": "code",
   "execution_count": 11,
   "id": "4c96e314",
   "metadata": {},
   "outputs": [
    {
     "name": "stdout",
     "output_type": "stream",
     "text": [
      "[1, 2]\n",
      "[2, 1]\n"
     ]
    }
   ],
   "source": [
    "print(r)\n",
    "print(c)"
   ]
  },
  {
   "cell_type": "markdown",
   "id": "cc5f5799",
   "metadata": {},
   "source": [
    "#### 2) 두 스티커를 i , j 로 골라준다.\n",
    "\n",
    "- i번 스티커 = 스티커 1\n",
    "- j번 스티커 = 스티커 2"
   ]
  },
  {
   "cell_type": "code",
   "execution_count": 12,
   "id": "b576620d",
   "metadata": {},
   "outputs": [],
   "source": [
    "for i in range(n):\n",
    "    r1, c1 = r[i], c[i]\n",
    "    for j in range(i+1, n):\n",
    "        r2, c2 = r[j], c[j]"
   ]
  },
  {
   "cell_type": "code",
   "execution_count": 14,
   "id": "3f9b11bc",
   "metadata": {},
   "outputs": [
    {
     "data": {
      "text/plain": [
       "(2, 1)"
      ]
     },
     "execution_count": 14,
     "metadata": {},
     "output_type": "execute_result"
    }
   ],
   "source": [
    "r1, c1"
   ]
  },
  {
   "cell_type": "code",
   "execution_count": 15,
   "id": "2700e0fc",
   "metadata": {},
   "outputs": [
    {
     "data": {
      "text/plain": [
       "(2, 1)"
      ]
     },
     "execution_count": 15,
     "metadata": {},
     "output_type": "execute_result"
    }
   ],
   "source": [
    "r2, c2"
   ]
  },
  {
   "cell_type": "markdown",
   "id": "a4ffdc97",
   "metadata": {},
   "source": [
    "#### 3) 회전 한다 or 회전하지 않는다의 경우의 수 추가"
   ]
  },
  {
   "cell_type": "code",
   "execution_count": null,
   "id": "123723be",
   "metadata": {},
   "outputs": [],
   "source": [
    "for i in range(n):\n",
    "    r1, c1 = r[i], c[i]\n",
    "    for j in range(i+1, n):\n",
    "        r2, c2 = r[j], c[j]\n",
    "        \n",
    "        # 회전 여부\n",
    "        for rot1 in range(2):\n",
    "            for rot2 in range(2):\n",
    "                r2, c2 = c2, r2\n",
    "            r1, c1 = c1, r1"
   ]
  },
  {
   "cell_type": "markdown",
   "id": "b5e8f200",
   "metadata": {},
   "source": [
    "#### 4) 스티커를 모눈 종이에 붙일 수 있는지 여부"
   ]
  },
  {
   "cell_type": "code",
   "execution_count": null,
   "id": "e28018e6",
   "metadata": {},
   "outputs": [],
   "source": [
    "for i in range(n): # 두 스티커를 골라준다.\n",
    "    r1, c1 = r[i], c[i] # i번 스티커 = 스티커 1\n",
    "    for j in range(i+1, n):\n",
    "        r2, c2 = r[j], c[j] # j번 스티커 = 스티커 2\n",
    "        \n",
    "        # 회전 여부\n",
    "        for rot1 in range(2):\n",
    "            for rot2 in range(2):\n",
    "                \n",
    "                # 스티커를 모눈 종이에 붙일 수 있는지 여부\n",
    "                # 세로로 붙일 경우\n",
    "                if r1+r2 <= h and max(c1,c2) <= w:\n",
    "                    # 임시 저장 공간 temp\n",
    "                    temp = r1*c1+r2*c2\n",
    "                    if ans < temp:\n",
    "                        ans = temp\n",
    "                # 가로로 붙일 경우\n",
    "                if max(r1,r2) <= h and c1+c2 <= w:\n",
    "                    temp = r1*c1+r2*c2\n",
    "                    if ans < temp:\n",
    "                        ans = temp\n",
    "                r2, c2 = c2, r2\n",
    "            r1, c1 = c1, r1\n",
    "print(ans)"
   ]
  }
 ],
 "metadata": {
  "kernelspec": {
   "display_name": "Python 3 (ipykernel)",
   "language": "python",
   "name": "python3"
  },
  "language_info": {
   "codemirror_mode": {
    "name": "ipython",
    "version": 3
   },
   "file_extension": ".py",
   "mimetype": "text/x-python",
   "name": "python",
   "nbconvert_exporter": "python",
   "pygments_lexer": "ipython3",
   "version": "3.9.7"
  }
 },
 "nbformat": 4,
 "nbformat_minor": 5
}
