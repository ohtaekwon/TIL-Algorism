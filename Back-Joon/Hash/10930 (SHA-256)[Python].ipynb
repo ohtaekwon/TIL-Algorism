{
 "cells": [
  {
   "cell_type": "markdown",
   "metadata": {},
   "source": [
    "# [SHA-256](https://www.acmicpc.net/problem/10930)\n",
    "\n",
    "<br/>\n",
    "<br/>\n",
    "\n",
    "## 문제\n",
    "\n",
    "문자열 S가 주어졌을 때, SHA-256 해시값을 구하는 프로그램을 작성하시오.\n",
    "\n",
    "\n",
    "\n",
    "## 입력\n",
    "\n",
    "첫째 줄에 문자열 S가 주어진다. S는 알파벳 대문자와 소문자, 그리고 숫자로만 이루어져 있으며, 길이는 최대 50이다.\n",
    "\n",
    "\n",
    "## 출력\n",
    "\n",
    "첫째 줄에 S의 SHA-256 해시값을 출력한다.\n",
    "\n",
    "\n",
    "\n",
    "\n",
    "## 예제 입력\n",
    "\n",
    "```\n",
    "Baekjoon\n",
    "\n",
    "```\n",
    "\n",
    "## 예제 출력\n",
    "\n",
    "```\n",
    "9944e1862efbb2a4e2486392dc6701896416b251eccdecb8332deb7f4cf2a857\n",
    "\n",
    "```\n",
    "\n",
    "## 알고리즘 분류\n",
    "\n",
    "- 수학\n",
    "- 다이나믹 프로그래밍"
   ]
  },
  {
   "cell_type": "markdown",
   "metadata": {},
   "source": [
    "----"
   ]
  },
  {
   "cell_type": "markdown",
   "metadata": {},
   "source": [
    "## 풀이 방법 1)\n",
    "\n",
    "\n",
    "### 문제 풀이 - 핵심 아이디어\n",
    "\n",
    "- 알파벳 대문자, 소문자, 숫자로만 구성\n",
    "- 길이는 50\n",
    "1. hashlib의 sha256 함수를 이용하면 SHA256 해시를 구할 수 있다.\n",
    "2. hashlib.sha256(문자열의 바이트 객체).hexdiget(): 해시 결과 문자열\n",
    "\n",
    "\n",
    "\n",
    "### 알고리즘 구현\n",
    "\n",
    "- 해시 라이브러를 사용\n",
    "\n",
    "### Hash\n",
    "\n",
    "- Hash는 암호화된 값이다.\n",
    "\n",
    "|0|1 |2 |3 |4 |5|\n",
    "|:--:|--|--|--|--|--|\n",
    "|hello| | | | |\n",
    "\n",
    "\n",
    "- 위와 같이 값을 배열에 저장 하려면 arr[0] = 'hello' 이렇게 저장을 하면 되지만\n",
    "\n",
    "\n",
    "- 저장된 값에 접근을 하려면 반드시 index를 알아야 합니다. index를 모른다면 배열을 0번부터 원하는 값이 나올때까지 모두 검색을 해야 합니다.\n",
    "- 그래서 배열 번호로 접근 하는 것이 아니라 key로 데이터에 접근을 하기 위해 Hash를 사용하는데 Hash를 사용하는 맵은 HashMap이라고 합니다.\n",
    "- Hash는 Hash를 만들어주는 함수가 있고 그 함수가 return하는 값은 배열의 번호 입니다. 예를들어 'aa'라는 key를 make_hash(char) 라는 함수를 이용해 hash로 만들었다면 0이라는 값을 return 해주고 map['aa'] 이렇게 검색하면 'hello'를 찾을 수 있습니다.\n",
    "- Hash를 만드는 함수는 여러가지가 존재 합니다. hashlib문서를 보면 SHA1, SHA224, SHA256, SHA384, SHA512 이러한 function들이 들어있다고 합니다. 또한 hash함수는 직접 만들 수도 있다."
   ]
  },
  {
   "cell_type": "markdown",
   "metadata": {},
   "source": [
    "### 풀이 코드 1)"
   ]
  },
  {
   "cell_type": "code",
   "execution_count": 3,
   "metadata": {},
   "outputs": [
    {
     "name": "stdout",
     "output_type": "stream",
     "text": [
      "backjoon\n",
      "765101f874de7d559bc42ad7f819f59ba3adead9bfbad7674986a6e0bdb45c9e\n"
     ]
    }
   ],
   "source": [
    "import hashlib # hashlib import\n",
    "\n",
    "input_data = input() # 문자열을 입력 받음\n",
    "\n",
    "encoded_data= input_data.encode() # 입력받은 문자열의 바이트 객체를 불러오기 위해서\n",
    "                                # encode 함수를 불러온다.\n",
    "result = hashlib.sha256(encoded_data).hexdigest()\n",
    "print(result)"
   ]
  }
 ],
 "metadata": {
  "kernelspec": {
   "display_name": "Python 3 (ipykernel)",
   "language": "python",
   "name": "python3"
  },
  "language_info": {
   "codemirror_mode": {
    "name": "ipython",
    "version": 3
   },
   "file_extension": ".py",
   "mimetype": "text/x-python",
   "name": "python",
   "nbconvert_exporter": "python",
   "pygments_lexer": "ipython3",
   "version": "3.9.7"
  }
 },
 "nbformat": 4,
 "nbformat_minor": 4
}
