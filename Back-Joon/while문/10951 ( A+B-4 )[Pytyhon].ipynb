A+B - 4


문제
두 정수 A 와 B 를 입력 받은 다음, A + B 를 출력하는 프로그램을 작성하시오.


입력
입력은 여러 개의 테스트 케이스로 이루어져 있다.

각 테스트 케이스는 한 줄로 이루어져 있으며, 각 줄에 A와 B가 주어진다. (0 < A, B < 10)


출력
각 테스트 케이스마다 A + B를 출력한다.



📌 나의 정답

1
while(True):
2
    try:
3
        A, B = map(int, input().split())
4
        0 < A and B < 10
5
        print(A+B)
6
    except:
7
        break
📌 풀이 해석

어떤 코드가 동작하는 과정에서, 오류가 발생할 수도 있고 발생하지 않을 수도 있다.

이때 오류를 컨트롤하기 위해 사용하는 것이 try-except-else-finally 구문이다.

파이썬 정보를 입력받을때 어디가 끝인지를 확인하는 기능이 자체적으로 없기때문에, 만약에 예외처리 를 하지 않는다면 이 문제에서는 계속적인 인풋을 받는다.

몇개의 테스트 케이스가 주어졌는지 알 수 없는 경우 입력을 파일 끝(End of File, EOF) 까지 받으면 된다.

그래서 예의 처리 를 사용해서 문제를 접근해야 한다.

1
while(True):
2
    try:
3
        A, B = map(int, input().split())
4
        0 < A and B < 10
5
        print(A+B)
  File "<ipython-input-3-f4a4926a6d64>", line 5
    print(A+B)
              ^
SyntaxError: unexpected EOF while parsing


try 부분에는 실행할 부분의 코드 를 입력한다.

입력값 A, B 를 빈칸을 기준으로 받고 각각 조건에 맞게 범위를 설정해 준다.

1
    except:
2
        break
except 부분에는 예외가 일어났을 때 처리하는 코드 를 입력한다.

이 경우 입력값이 없을 경우 while 반복문을 빠져나온다.

📌 다른 풀이

1
import sys
2
​
3
for line in sys.stdin:
4
​
5
    a,b = map(int, line.split())
6
​
7
    print(a+b)
sys 모듈을 import 해서 문제를 해결했다.

왜냐하면 sys,stdin 은 ^Z 를 입력받으면 종료 해주기 떄문에 위 처럼 사용
