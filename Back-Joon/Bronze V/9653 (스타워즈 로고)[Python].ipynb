{
 "cells": [
  {
   "cell_type": "markdown",
   "metadata": {},
   "source": [
    "# 스타워즈 로고\n",
    "\n",
    "<br>\n",
    "<br>\n",
    "\n",
    "### 문제\n",
    "---\n",
    "스타워즈 로고를 예제 출력과 같이 출력하는 프로그램을 작성하시오.\n",
    "\n",
    "\n",
    "<br>\n",
    "\n",
    "### 출력\n",
    "스타워즈 로고를 출력한다."
   ]
  },
  {
   "cell_type": "markdown",
   "metadata": {},
   "source": [
    "### 예제 입력1\n",
    "\n",
    "\n",
    "\n",
    "### 예제 출력1\n",
    "\n",
    "    8888888888  888    88888\n",
    "   88     88   88 88   88  88\n",
    "    8888  88  88   88  88888\n",
    "       88 88 888888888 88   88\n",
    "88888888  88 88     88 88    888888\n",
    "\n",
    "88  88  88   888    88888    888888\n",
    "88  88  88  88 88   88  88  88\n",
    "88 8888 88 88   88  88888    8888\n",
    " 888  888 888888888 88  88      88\n",
    "  88  88  88     88 88   88888888\n"
   ]
  },
  {
   "cell_type": "markdown",
   "metadata": {},
   "source": [
    "---"
   ]
  },
  {
   "cell_type": "markdown",
   "metadata": {},
   "source": [
    "#### 풀이"
   ]
  },
  {
   "cell_type": "code",
   "execution_count": 36,
   "metadata": {},
   "outputs": [
    {
     "name": "stdout",
     "output_type": "stream",
     "text": [
      "2 1 2 1 2 1\n",
      "-1 0 0 1 0 7 "
     ]
    }
   ],
   "source": [
    "chess = [1,1,2,2,2,8] # 정해진 말의 수\n",
    "\n",
    "n = list(map(int, input().split())) # list로 만들어야 인덱스로 값을 찾을 수 있다.\n",
    "\n",
    "for i in range(6):\n",
    "    print(chess[i] - n[i], end=' ')\n"
   ]
  },
  {
   "cell_type": "code",
   "execution_count": 15,
   "metadata": {},
   "outputs": [
    {
     "name": "stdout",
     "output_type": "stream",
     "text": [
      "0 4 2 5 6\n",
      "1\n"
     ]
    }
   ],
   "source": [
    "a,b,c,d,e = map(int,input().split())\n",
    "\n",
    "print(((a**2)+(b**2)+(c**2)+(d**2)+(e**2))%10)"
   ]
  },
  {
   "cell_type": "code",
   "execution_count": 5,
   "metadata": {},
   "outputs": [
    {
     "name": "stdout",
     "output_type": "stream",
     "text": [
      "    8888888888  888    88888\n",
      "   88     88   88 88   88  88\n",
      "    8888  88  88   88  88888\n",
      "       88 88 888888888 88   88\n",
      "88888888  88 88     88 88    888888\n",
      "\n",
      "\n",
      "88  88  88   888    88888    888888\n",
      "88  88  88  88 88   88  88  88\n",
      "88 8888 88 88   88  88888    8888\n",
      " 888  888 888888888 88  88      88\n",
      "  88  88  88     88 88   88888888\n"
     ]
    }
   ],
   "source": [
    "print(\"    8888888888  888    88888\")\n",
    "print(\"   88     88   88 88   88  88\")\n",
    "print(\"    8888  88  88   88  88888\")\n",
    "print(\"       88 88 888888888 88   88\")\n",
    "print(\"88888888  88 88     88 88    888888\")\n",
    "print(\"\")\n",
    "print(\"88  88  88   888    88888    888888\")\n",
    "print(\"88  88  88  88 88   88  88  88\")\n",
    "print(\"88 8888 88 88   88  88888    8888\")\n",
    "print(\" 888  888 888888888 88  88      88\")\n",
    "print(\"  88  88  88     88 88   88888888\")"
   ]
  },
  {
   "cell_type": "code",
   "execution_count": null,
   "metadata": {},
   "outputs": [
    {
     "name": "stdout",
     "output_type": "stream",
     "text": [
      "    8888888888  888    88888\n",
      "   88     88   88 88   88  88\n",
      "    8888  88  88   88  88888\n",
      "       88 88 888888888 88   88\n",
      "88888888  88 88     88 88    888888\n",
      "\n",
      "88  88  88   888    88888    888888\n",
      "88  88  88  88 88   88  88  88\n",
      "88 8888 88 88   88  88888    8888\n",
      " 888  888 888888888 88  88      88\n",
      "  88  88  88     88 88   88888888"
     ]
    }
   ],
   "source": [
    "from multiprocessing import Process\n",
    "import time\n",
    "import sys\n",
    "\n",
    "for i in range(1):\n",
    "    sys.stdout.write(\"\"\"    8888888888  888    88888\n",
    "   88     88   88 88   88  88\n",
    "    8888  88  88   88  88888\n",
    "       88 88 888888888 88   88\n",
    "88888888  88 88     88 88    888888\n",
    "\n",
    "88  88  88   888    88888    888888\n",
    "88  88  88  88 88   88  88  88\n",
    "88 8888 88 88   88  88888    8888\n",
    " 888  888 888888888 88  88      88\n",
    "  88  88  88     88 88   88888888\"\"\")\n",
    "    \n",
    "    time.sleep(1000)"
   ]
  },
  {
   "cell_type": "code",
   "execution_count": 6,
   "metadata": {},
   "outputs": [],
   "source": [
    "from multiprocessing import Process\n",
    "import time\n",
    "import sys\n",
    "\n",
    "\n",
    "TIMEOUT = 5\n",
    "\n",
    "\n",
    "def tenSecond():\n",
    "    for i in range(10):\n",
    "        sys.stdout.write('\\r{} sec'.format(i + 1))\n",
    "        time.sleep(1)\n",
    "    print('\\nDone!!')"
   ]
  },
  {
   "cell_type": "code",
   "execution_count": null,
   "metadata": {},
   "outputs": [],
   "source": []
  }
 ],
 "metadata": {
  "kernelspec": {
   "display_name": "Python 3",
   "language": "python",
   "name": "python3"
  },
  "language_info": {
   "codemirror_mode": {
    "name": "ipython",
    "version": 3
   },
   "file_extension": ".py",
   "mimetype": "text/x-python",
   "name": "python",
   "nbconvert_exporter": "python",
   "pygments_lexer": "ipython3",
   "version": "3.8.3"
  }
 },
 "nbformat": 4,
 "nbformat_minor": 4
}
