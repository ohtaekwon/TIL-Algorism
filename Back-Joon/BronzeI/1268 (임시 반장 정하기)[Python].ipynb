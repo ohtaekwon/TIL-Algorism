{
 "cells": [
  {
   "cell_type": "markdown",
   "metadata": {},
   "source": [
    "# 팀 이름 정하기\n",
    "\n",
    "<br>\n",
    "<br>\n",
    "\n",
    "## 문제\n",
    "\n",
    "---\n",
    "\n",
    "연두는 프로그래밍 대회에 나갈 팀 이름을 정하려고 한다. 미신을 믿는 연두는 이환이에게 공식을 하나 받아왔고, 이 공식을 이용해 우승할 확률이 가장 높은 팀 이름을 찾으려고 한다.\n",
    "\n",
    "이환이가 만든 공식은 사용하려면 먼저 다음 4가지 변수의 값을 계산해야 한다.\n",
    "\n",
    "- L = 연두의 이름과 팀 이름에서 등장하는 L의 개수\n",
    "- O = 연두의 이름과 팀 이름에서 등장하는 O의 개수\n",
    "- V = 연두의 이름과 팀 이름에서 등장하는 V의 개수\n",
    "- E = 연두의 이름과 팀 이름에서 등장하는 E의 개수\n",
    "그 다음, 위에서 구한 변수를 다음 식에 입력하면 팀 이름의 우승할 확률을 구할 수 있다.\n",
    "\n",
    "((L+O) × (L+V) × (L+E) × (O+V) × (O+E) × (V+E)) mod 100\n",
    "\n",
    "연두의 영어 이름과 팀 이름 후보 N개가 주어졌을 때, 우승할 확률이 가장 높은 팀 이름을 구해보자. 확률이 가장 높은 팀이 여러가지인 경우 사전 순으로 가장 앞서는 팀 이름이 우승할 확률이 가장 높은 것이다.\n",
    "\n",
    "### 입력\n",
    "\n",
    "---\n",
    "첫째 줄에 연두의 영어 이름이 주어진다. 둘째 줄에는 팀 이름 후보의 개수 N이 주어진다. 셋째 줄부터 N개의 줄에 팀 이름이 한 줄에 하나씩 주어진다.\n",
    "\n",
    "연두의 영어 이름과 팀 이름은 길이는 1보다 크거나 같고, 20보다 작거나 같으며, 알파벳 대문자로만 이루어져 있다. N은 50보다 작거나 같은 자연수이다.\n",
    "\n",
    "\n",
    "### 출력\n",
    "---\n",
    "첫째 줄에 우승할 확률이 가장 높은 팀 이름을 출력한다."
   ]
  },
  {
   "cell_type": "markdown",
   "metadata": {},
   "source": [
    "---"
   ]
  },
  {
   "cell_type": "markdown",
   "metadata": {},
   "source": [
    "### 예제 입력1\n",
    "\n",
    "```\n",
    "LOVE\n",
    "3\n",
    "JACOB\n",
    "FRANK\n",
    "DANO\n",
    "```\n",
    "\n",
    "### 예제 출력1\n",
    "\n",
    "```\n",
    "FRANK\n",
    "\n",
    "```"
   ]
  },
  {
   "cell_type": "code",
   "execution_count": null,
   "metadata": {},
   "outputs": [],
   "source": []
  },
  {
   "cell_type": "markdown",
   "metadata": {},
   "source": [
    "### 예제 입력2\n",
    "\n",
    "```\n",
    "JANE\n",
    "4\n",
    "THOMAS\n",
    "MICHAEL\n",
    "INDY\n",
    "LIU\n",
    "```\n",
    "\n",
    "### 예제 출력2\n",
    "\n",
    "```\n",
    "INDY\n",
    "```\n"
   ]
  },
  {
   "cell_type": "code",
   "execution_count": null,
   "metadata": {},
   "outputs": [],
   "source": []
  },
  {
   "cell_type": "markdown",
   "metadata": {},
   "source": [
    "### 예제 입력3\n",
    "\n",
    "```\n",
    "LILLY\n",
    "1\n",
    "PIERRE\n",
    "```\n",
    "\n",
    "### 예제 출력3\n",
    "\n",
    "```\n",
    "PIERRE\n",
    "```"
   ]
  },
  {
   "cell_type": "markdown",
   "metadata": {},
   "source": [
    "### 풀이\n",
    "\n",
    "\n",
    "처음에 이해했을 때는 행에 `X`가 하나라도 없을 경우에만 카운트를 추가하는 것인 줄 알았지만 `답2)` 코드를 적용해보니 오답처리가 되었다.\n",
    "\n",
    "\n",
    "다시 확인해보니 `행`과 `열`에서 `X`가 있어야 한다.\n",
    "\n",
    "따라서 \n",
    "\n",
    "```PYTHON\n",
    "for j in range(m):\n",
    "    if \"X\" not in [board[i][j] for i in range(n)]:\n",
    "        cnt_b +=1\n",
    "```\n",
    "\n",
    "여기에서 행과 열에서 `X`가 없는 경우를 카운트를 해서 \n",
    "\n",
    "행에만 카운트한 수와 행과 열에서 카운트를 한 수의 최대값이 갑이 된다."
   ]
  },
  {
   "cell_type": "markdown",
   "metadata": {},
   "source": [
    "### 답1)"
   ]
  },
  {
   "cell_type": "code",
   "execution_count": 76,
   "metadata": {},
   "outputs": [
    {
     "name": "stdout",
     "output_type": "stream",
     "text": [
      "LOVE\n",
      "3\n"
     ]
    }
   ],
   "source": [
    "name=list(input())\n",
    "\n",
    "people=int(input())"
   ]
  },
  {
   "cell_type": "code",
   "execution_count": 79,
   "metadata": {},
   "outputs": [
    {
     "name": "stdout",
     "output_type": "stream",
     "text": [
      "['L', 'O', 'V', 'E']\n",
      "['L', 'O', 'V', 'E']\n",
      "['L', 'O', 'V', 'E']\n",
      "['L', 'O', 'V', 'E']\n"
     ]
    }
   ],
   "source": []
  },
  {
   "cell_type": "code",
   "execution_count": 82,
   "metadata": {},
   "outputs": [
    {
     "name": "stdout",
     "output_type": "stream",
     "text": [
      "TOMAS\n",
      "ASDASD\n",
      "SADAS\n"
     ]
    }
   ],
   "source": [
    "for i in range(people):\n",
    "    p=input()\n",
    "    cnt=0\n",
    "    for word in name:\n",
    "        for i in p:\n",
    "            if word == i:\n",
    "                cnt+=1"
   ]
  },
  {
   "cell_type": "code",
   "execution_count": 84,
   "metadata": {},
   "outputs": [
    {
     "data": {
      "text/plain": [
       "'A'"
      ]
     },
     "execution_count": 84,
     "metadata": {},
     "output_type": "execute_result"
    }
   ],
   "source": [
    "p[1]"
   ]
  },
  {
   "cell_type": "markdown",
   "metadata": {},
   "source": [
    "### 답2)"
   ]
  },
  {
   "cell_type": "code",
   "execution_count": 73,
   "metadata": {},
   "outputs": [
    {
     "name": "stdout",
     "output_type": "stream",
     "text": [
      "12\n"
     ]
    }
   ],
   "source": [
    "for woman_idx in range(N):\n",
    "    woman_name = "
   ]
  },
  {
   "cell_type": "code",
   "execution_count": null,
   "metadata": {},
   "outputs": [],
   "source": []
  }
 ],
 "metadata": {
  "kernelspec": {
   "display_name": "Python 3",
   "language": "python",
   "name": "python3"
  },
  "language_info": {
   "codemirror_mode": {
    "name": "ipython",
    "version": 3
   },
   "file_extension": ".py",
   "mimetype": "text/x-python",
   "name": "python",
   "nbconvert_exporter": "python",
   "pygments_lexer": "ipython3",
   "version": "3.8.3"
  }
 },
 "nbformat": 4,
 "nbformat_minor": 4
}
