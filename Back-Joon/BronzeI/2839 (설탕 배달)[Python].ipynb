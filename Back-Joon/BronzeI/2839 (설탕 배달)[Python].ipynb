{
 "cells": [
  {
   "cell_type": "markdown",
   "metadata": {},
   "source": [
    "# 설탕 배달\n",
    "\n",
    "<br>\n",
    "<br>\n",
    "\n",
    "## 문제\n",
    "\n",
    "---\n",
    "상근이는 요즘 설탕공장에서 설탕을 배달하고 있다. 상근이는 지금 사탕가게에 설탕을 정확하게 N킬로그램을 배달해야 한다. 설탕공장에서 만드는 설탕은 봉지에 담겨져 있다. 봉지는 3킬로그램 봉지와 5킬로그램 봉지가 있다.\n",
    "\n",
    "상근이는 귀찮기 때문에, 최대한 적은 봉지를 들고 가려고 한다. 예를 들어, 18킬로그램 설탕을 배달해야 할 때, 3킬로그램 봉지 6개를 가져가도 되지만, 5킬로그램 3개와 3킬로그램 1개를 배달하면, 더 적은 개수의 봉지를 배달할 수 있다.\n",
    "\n",
    "상근이가 설탕을 정확하게 N킬로그램 배달해야 할 때, 봉지 몇 개를 가져가면 되는지 그 수를 구하는 프로그램을 작성하시오.\n",
    "\n",
    "<br>\n",
    "\n",
    "\n",
    "### 입력\n",
    "\n",
    "---\n",
    "첫째 줄에 N이 주어진다. (3 ≤ N ≤ 5000)\n",
    "\n",
    "\n",
    "\n",
    "<br>\n",
    "\n",
    "### 출력\n",
    "\n",
    "---\n",
    "상근이가 배달하는 봉지의 최소 개수를 출력한다. 만약, 정확하게 N킬로그램을 만들 수 없다면 -1을 출력한다.\n",
    "\n"
   ]
  },
  {
   "cell_type": "markdown",
   "metadata": {},
   "source": [
    "### 예제 입력1\n",
    "\n",
    "```\n",
    "18\n",
    "```\n",
    "\n",
    "### 예제 출력1\n",
    "\n",
    "```\n",
    "4\n",
    "```"
   ]
  },
  {
   "cell_type": "markdown",
   "metadata": {},
   "source": [
    "---"
   ]
  },
  {
   "cell_type": "markdown",
   "metadata": {},
   "source": [
    "### 풀이 1)\n",
    "\n",
    "문제가 요구하는 것 : **나눠 담을 수 있는 봉지 수를 최대한 적게 만드는 것**\n",
    "\n",
    "설탕을 담을 수 있는 봉지는 5kg과 3kg으로 두 종류를 사용한다.\n",
    "\n",
    "중요\n",
    "1. 최대한 많은 양을 5kg에 담을것\n",
    "\n",
    "2. 3kg를 최대한 적게 사용할 것\n",
    "\n",
    "\n",
    "ex)\n",
    "1. 18 = 5+5+5+3 : 4\n",
    "2. 4 = 3 ... 1 : -1(나눠지지 않을 경우)\n",
    "3. 6 = 3+3 : 2\n",
    "4. 9 = 3+3+3 : 3\n",
    "5. 11 = 5+3+3 : 3\n",
    "\n",
    "이 문제에서 나올 수 있는 경우의 수는 총 4가지 이다.\n",
    "\n",
    "1. N이 5로 나눠질 경우\n",
    "2. N이 5과 3의 조합으로 나눠 담을 수 있을 경우\n",
    "3. N이 3으로 나눠질 경우\n",
    "4. 그리고.. 5와 3으로는 나눠지지 않을 경우\n",
    "\n",
    "\n",
    "이 문제가 요구하는 것이 최소한의 봉지만 사용하여 설탕을 담는 것이기 때문에\n",
    "\n",
    "1. 가장 큰 단위인 5만으로 나눠 담는 것\n",
    "2. 최소한의 3과 최대한의 5를 사용하여 나눠 담는 것\n",
    "3. 3으로 나눠 담는 것\n",
    "4. 나눠지지 않을 때"
   ]
  },
  {
   "cell_type": "code",
   "execution_count": null,
   "metadata": {},
   "outputs": [],
   "source": [
    "n=int(input())\n",
    "\n",
    "if n%5==0: # 5로 나누어 떨어질 때\n",
    "    print(n//5)\n",
    "else:\n",
    "    p=0 # 봉지 수\n",
    "    while n>0:\n",
    "        n-=3 # 3kg 빼기\n",
    "        p+=1 # 봉지 추가\n",
    "        \n",
    "        if n%5==0: # 3kg과 5kg을 조합해서 담을 수 있을 때\n",
    "            p+=n//5\n",
    "            print(p)\n",
    "            break\n",
    "        elif n==1 or n==2: # 설탕 봉지만으로 나눌 수 없을 때\n",
    "            print(-1)\n",
    "            break\n",
    "        elif n==0: # 3으로 나누어 떨어질 때\n",
    "            print(p)\n",
    "            break"
   ]
  },
  {
   "cell_type": "markdown",
   "metadata": {},
   "source": [
    "### 풀이 2)"
   ]
  },
  {
   "cell_type": "code",
   "execution_count": 14,
   "metadata": {},
   "outputs": [
    {
     "name": "stdout",
     "output_type": "stream",
     "text": [
      "18\n",
      "4\n"
     ]
    }
   ],
   "source": [
    "n = int(input()) # 설탕\n",
    "\n",
    "result = 0 # 봉지 수\n",
    "\n",
    "while n >= 0:\n",
    "    if n % 5 == 0: # 5로 나눈 나머지가 0인 경우\n",
    "        result += n // 5 # 5로 나눈 몫 추력\n",
    "        print(result)\n",
    "        break\n",
    "    n -= 3 # 설탕이 5의 배수가 될때까지 반복\n",
    "    result += 1 # 봉지 추가\n",
    "else:\n",
    "    print(-1) # while문이 거짓이 되면 -1 출력"
   ]
  }
 ],
 "metadata": {
  "kernelspec": {
   "display_name": "Python 3",
   "language": "python",
   "name": "python3"
  },
  "language_info": {
   "codemirror_mode": {
    "name": "ipython",
    "version": 3
   },
   "file_extension": ".py",
   "mimetype": "text/x-python",
   "name": "python",
   "nbconvert_exporter": "python",
   "pygments_lexer": "ipython3",
   "version": "3.8.3"
  }
 },
 "nbformat": 4,
 "nbformat_minor": 4
}
