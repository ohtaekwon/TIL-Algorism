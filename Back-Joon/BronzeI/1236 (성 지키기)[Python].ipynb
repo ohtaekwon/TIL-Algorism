{
 "cells": [
  {
   "cell_type": "markdown",
   "metadata": {},
   "source": [
    "# 성 지키기\n",
    "\n",
    "<br>\n",
    "<br>\n",
    "\n",
    "## 문제\n",
    "\n",
    "---\n",
    "\n",
    "영식이는 직사각형 모양의 성을 가지고 있다. 성의 1층은 몇 명의 경비원에 의해서 보호되고 있다. 영식이는 모든 행과 모든 열에 한 명 이상의 경비원이 있으면 좋겠다고 생각했다.\n",
    "\n",
    "성의 크기와 경비원이 어디있는지 주어졌을 때, 몇 명의 경비원을 최소로 추가해야 영식이를 만족시키는지 구하는 프로그램을 작성하시오.\n",
    "\n",
    "### 입력\n",
    "\n",
    "---\n",
    "첫째 줄에 성의 세로 크기 N과 가로 크기 M이 주어진다. N과 M은 50보다 작거나 같은 자연수이다. 둘째 줄부터 N개의 줄에는 성의 상태가 주어진다. 성의 상태는 .은 빈칸, X는 경비원이 있는 칸이다.\n",
    "\n",
    "<br>\n",
    "\n",
    "### 출력\n",
    "---\n",
    "첫째 줄에 추가해야 하는 경비원의 최솟값을 출력한다.\n"
   ]
  },
  {
   "cell_type": "markdown",
   "metadata": {},
   "source": [
    "---"
   ]
  },
  {
   "cell_type": "markdown",
   "metadata": {},
   "source": [
    "### 예제 입력1\n",
    "\n",
    "```\n",
    "4 4\n",
    "....\n",
    "....\n",
    "....\n",
    "....\n",
    "```\n",
    "\n",
    "### 예제 출력1\n",
    "\n",
    "```\n",
    "4\n",
    "```"
   ]
  },
  {
   "cell_type": "code",
   "execution_count": null,
   "metadata": {},
   "outputs": [],
   "source": []
  },
  {
   "cell_type": "markdown",
   "metadata": {},
   "source": [
    "### 예제 입력2\n",
    "\n",
    "```\n",
    "3 5\n",
    "XX...\n",
    ".XX..\n",
    "...XX\n",
    "```\n",
    "\n",
    "### 예제 출력2\n",
    "\n",
    "```\n",
    "0\n",
    "```\n"
   ]
  },
  {
   "cell_type": "code",
   "execution_count": null,
   "metadata": {},
   "outputs": [],
   "source": []
  },
  {
   "cell_type": "markdown",
   "metadata": {},
   "source": [
    "### 예제 입력3\n",
    "\n",
    "```\n",
    "5 8\n",
    "....XXXX\n",
    "........\n",
    "XX.X.XX.\n",
    "........\n",
    "........\n",
    "```\n",
    "\n",
    "### 예제 출력3\n",
    "\n",
    "```\n",
    "3\n",
    "```"
   ]
  },
  {
   "cell_type": "markdown",
   "metadata": {},
   "source": [
    "### 풀이\n",
    "\n",
    "\n",
    "처음에 이해했을 때는 행에 `X`가 하나라도 없을 경우에만 카운트를 추가하는 것인 줄 알았지만 `답2)` 코드를 적용해보니 오답처리가 되었다.\n",
    "\n",
    "\n",
    "다시 확인해보니 `행`과 `열`에서 `X`가 있어야 한다.\n",
    "\n",
    "따라서 \n",
    "\n",
    "```PYTHON\n",
    "for j in range(m):\n",
    "    if \"X\" not in [board[i][j] for i in range(n)]:\n",
    "        cnt_b +=1\n",
    "```\n",
    "\n",
    "여기에서 행과 열에서 `X`가 없는 경우를 카운트를 해서 \n",
    "\n",
    "행에만 카운트한 수와 행과 열에서 카운트를 한 수의 최대값이 갑이 된다."
   ]
  },
  {
   "cell_type": "markdown",
   "metadata": {},
   "source": [
    "### 답1)"
   ]
  },
  {
   "cell_type": "code",
   "execution_count": null,
   "metadata": {},
   "outputs": [],
   "source": [
    "n,m = map(int,input().split())\n",
    "\n",
    "board=[]\n",
    "\n",
    "for _ in range(n):\n",
    "    board.append(input())\n",
    "    \n",
    "cnt_a, cnt_b=0, 0\n",
    "\n",
    "for i in range(n):\n",
    "    if \"X\" not in board[i]:\n",
    "        cnt_a +=1\n",
    "\n",
    "for j in range(m):\n",
    "    if \"X\" not in [board[i][j] for i in range(n)]:\n",
    "        cnt_b +=1\n",
    "\n",
    "print(max(cnt_a, cnt_b))"
   ]
  },
  {
   "cell_type": "markdown",
   "metadata": {},
   "source": [
    "### 답2)"
   ]
  },
  {
   "cell_type": "code",
   "execution_count": null,
   "metadata": {},
   "outputs": [],
   "source": [
    "# 원래 했던 코드\n",
    "n,m = map(int, input().split())\n",
    "\n",
    "0<=n<=50\n",
    "0<=m<=50\n",
    "\n",
    "castle=[]\n",
    "\n",
    "\n",
    "for _ in range(n):\n",
    "    cnt=0\n",
    "    castle.append(input())\n",
    "    for line in castle:\n",
    "        if set(line)=={\".\"} and set(line)!={\".\",\"X\"}:\n",
    "            cnt+=1\n",
    "print(cnt)"
   ]
  },
  {
   "cell_type": "code",
   "execution_count": null,
   "metadata": {},
   "outputs": [],
   "source": []
  },
  {
   "cell_type": "code",
   "execution_count": null,
   "metadata": {},
   "outputs": [],
   "source": [
    "n,m = map(int,input().split())\n",
    "castle=[]\n",
    "\n",
    "for _ in range(n):\n",
    "    castle.append(input())\n",
    "\n",
    "row = []\n",
    "col = []\n",
    "\n",
    "for i in range(n):\n",
    "    row.append(\"X\" not in castle[i])\n",
    "\n",
    "for j in range(m):\n",
    "    col.append(\"X\" not in [castle[i][j] for i in range(n)])    \n",
    "\n",
    "print(max(sum(row),sum(col)))"
   ]
  }
 ],
 "metadata": {
  "kernelspec": {
   "display_name": "Python 3",
   "language": "python",
   "name": "python3"
  },
  "language_info": {
   "codemirror_mode": {
    "name": "ipython",
    "version": 3
   },
   "file_extension": ".py",
   "mimetype": "text/x-python",
   "name": "python",
   "nbconvert_exporter": "python",
   "pygments_lexer": "ipython3",
   "version": "3.8.3"
  }
 },
 "nbformat": 4,
 "nbformat_minor": 4
}
