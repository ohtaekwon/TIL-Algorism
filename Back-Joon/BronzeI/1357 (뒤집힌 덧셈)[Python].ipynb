{
 "cells": [
  {
   "cell_type": "markdown",
   "metadata": {},
   "source": [
    "# 뒤집힌 덧셈\n",
    "\n",
    "<br>\n",
    "<br>\n",
    "\n",
    "## 문제\n",
    "\n",
    "---\n",
    "\n",
    "어떤 수 X가 주어졌을 때, X의 모든 자리수가 역순이 된 수를 얻을 수 있다. Rev(X)를 X의 모든 자리수를 역순으로 만드는 함수라고 하자. 예를 들어, X=123일 때, Rev(X) = 321이다. 그리고, X=100일 때, Rev(X) = 1이다.\n",
    "\n",
    "두 양의 정수 X와 Y가 주어졌을 때, Rev(Rev(X) + Rev(Y))를 구하는 프로그램을 작성하시오"
   ]
  },
  {
   "cell_type": "markdown",
   "metadata": {},
   "source": [
    "### 입력\n",
    "---\n",
    "첫째 줄에 수 X와 Y가 주어진다. X와 Y는 1,000보다 작거나 같은 자연수이다."
   ]
  },
  {
   "cell_type": "markdown",
   "metadata": {},
   "source": [
    "### 출력\n",
    "---\n",
    "첫째 줄에 문제의 정답을 출력한다."
   ]
  },
  {
   "cell_type": "markdown",
   "metadata": {},
   "source": [
    "### 예제 입력1\n",
    "\n",
    "```\n",
    "123 100\n",
    "\n",
    "```\n",
    "\n",
    "### 예제 출력1\n",
    "\n",
    "```\n",
    "223\n",
    "```\n",
    "\n",
    "### 예제 입력2\n",
    "\n",
    "```\n",
    "111 111\n",
    "```\n",
    "\n",
    "### 예제 출력2\n",
    "\n",
    "```\n",
    "222\n",
    "```\n",
    "\n",
    "### 예제 입력3\n",
    "\n",
    "```\n",
    "5 5\n",
    "\n",
    "```\n",
    "\n",
    "### 예제 출력3\n",
    "\n",
    "```\n",
    "1\n",
    "```\n",
    "\n",
    "### 예제 입력4\n",
    "\n",
    "```\n",
    "1000 1\n",
    "```\n",
    "\n",
    "### 예제 출력4\n",
    "\n",
    "```\n",
    "2\n",
    "```\n",
    "\n",
    "### 예제 입력5\n",
    "\n",
    "```\n",
    "456 789\n",
    "```\n",
    "\n",
    "### 예제 출력5\n",
    "\n",
    "```\n",
    "1461\n",
    "```"
   ]
  },
  {
   "cell_type": "markdown",
   "metadata": {},
   "source": [
    "---"
   ]
  },
  {
   "cell_type": "markdown",
   "metadata": {},
   "source": [
    "### 풀이\n",
    "\n",
    "\n",
    "- 문제의 Rev(x) 함수를 구현한다.\n",
    "- 매개변수로 숫자로 이루어진 문자열 X를 하나 받는다.\n",
    "\n",
    "```python\n",
    "def Rev(x):\n",
    "    # 문자열 X를 뒤집고 정수형으로 만들어준다.\n",
    "    x = int(x[::-1])\n",
    "    \n",
    "    return x\n",
    "```\n",
    "\n",
    "- 첫째 줄에 x,y를 입력한다.\n",
    "- x,y는 1000보다 작거나 같은 자연수이다.\n",
    "\n",
    "```python\n",
    "x,y = input().split()\n",
    "```\n",
    "\n",
    "- Rev(Rev(x) + Rev(y)) 를 계산한다.\n",
    "- Rev(x) + Rev(y)는 정수형인데, Rev 함수는 문자열 형태의 인수를 받으므로\n",
    "- str(Rev(x)+Rev(y))로 문자열 형태로 변환해서 넣어준다.\n",
    "\n",
    "```python\n",
    "result=Rev(str(Rev(x)+Rev(y)))\n",
    "```\n",
    "\n",
    "- 계산 결과를 출력한다.\n",
    "```python\n",
    "print(result)\n",
    "```"
   ]
  },
  {
   "cell_type": "markdown",
   "metadata": {},
   "source": [
    "### 답1)"
   ]
  },
  {
   "cell_type": "code",
   "execution_count": 93,
   "metadata": {},
   "outputs": [
    {
     "name": "stdout",
     "output_type": "stream",
     "text": [
      "456 789\n",
      "1461\n"
     ]
    }
   ],
   "source": [
    "X, Y = map(str, input().split())\n",
    "\n",
    "xyPlus= (int(X[::-1]) + int(Y[::-1]))\n",
    "\n",
    "Rev=str(xyPlus)\n",
    "Rev=int(Rev[::-1])\n",
    "print(Rev)"
   ]
  },
  {
   "cell_type": "markdown",
   "metadata": {},
   "source": [
    "### 답2)"
   ]
  },
  {
   "cell_type": "code",
   "execution_count": null,
   "metadata": {},
   "outputs": [],
   "source": [
    "x, y = map(str, input().split())\n",
    "s = str(int(x[::-1]) + int(y[::-1]))\n",
    "print(int(s[::-1]))"
   ]
  },
  {
   "cell_type": "markdown",
   "metadata": {},
   "source": [
    "### 답3)"
   ]
  },
  {
   "cell_type": "code",
   "execution_count": 95,
   "metadata": {},
   "outputs": [
    {
     "name": "stdout",
     "output_type": "stream",
     "text": [
      "123 100\n",
      "223\n"
     ]
    }
   ],
   "source": [
    "# 문제의 Rev(x) 함수를 구현한다.\n",
    "# 매개변수로 숫자로 이루어진 문자열 X를 하나 받는다.\n",
    "\n",
    "def Rev(x):\n",
    "    # 문자열 X를 뒤집고 정수형으로 만들어준다.\n",
    "    x = int(x[::-1])\n",
    "    \n",
    "    return x\n",
    "\n",
    "# 첫째 줄에 x,y를 입력한다.\n",
    "# x,y는 1000보다 작거나 같은 자연수이다.\n",
    "\n",
    "x,y = input().split()\n",
    "\n",
    "# Rev(Rev(x) + Rev(y)) 를 계산한다.\n",
    "# Rev(x) + Rev(y)는 정수형인데, Rev 함수는 문자열 형태의 인수를 받으므로\n",
    "# str(Rev(x)+Rev(y))로 문자열 형태로 변환해서 넣어준다.\n",
    "result=Rev(str(Rev(x)+Rev(y)))\n",
    "\n",
    "\n",
    "# 계산 결과를 출력한다.\n",
    "print(result)"
   ]
  }
 ],
 "metadata": {
  "kernelspec": {
   "display_name": "Python 3",
   "language": "python",
   "name": "python3"
  },
  "language_info": {
   "codemirror_mode": {
    "name": "ipython",
    "version": 3
   },
   "file_extension": ".py",
   "mimetype": "text/x-python",
   "name": "python",
   "nbconvert_exporter": "python",
   "pygments_lexer": "ipython3",
   "version": "3.8.3"
  }
 },
 "nbformat": 4,
 "nbformat_minor": 4
}
