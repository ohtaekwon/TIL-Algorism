{
 "cells": [
  {
   "cell_type": "markdown",
   "metadata": {},
   "source": [
    "# 행렬 곱셈\n",
    "\n",
    "\n",
    "<br>\n",
    "<br>\n",
    "\n",
    "## 문제\n",
    "---\n",
    "N * M 크기의 행렬 A와 M*K크기의 행렬 B가 주어졌을 때, 두 행렬을 곱하는 프로그램을 작성하시오.\n",
    "\n",
    "\n",
    "<br>\n",
    "\n",
    "### 입력\n",
    "---\n",
    "첫째 줄에 행렬 A의 크기 N 과 M이 주어진다. 둘째 줄부터 N개의 줄에 행렬 A의 원소 M개가 순서대로 주어진다. 그 다음 줄에는 행렬 B의 크기 M과 K가 주어진다. 이어서 M개의 줄에 행렬 B의 원소 K개가 차례대로 주어진다. N과 M, 그리고 K는 100보다 작거나 같고, 행렬의 원소는 절댓값이 100보다 작거나 같은 정수이다.\n",
    "\n",
    "\n",
    "<br>\n",
    "\n",
    "### 출력\n",
    "---\n",
    "첫째 줄부터 N개의 줄에 행렬 A와 B를 곱한 행렬을 출력한다. 행렬의 각 원소는 공백으로 구분한다."
   ]
  },
  {
   "cell_type": "markdown",
   "metadata": {},
   "source": [
    "### 예제 입력1\n",
    "\n",
    "```\n",
    "3 2\n",
    "1 2\n",
    "3 4\n",
    "5 6\n",
    "2 3\n",
    "-1 -2 0\n",
    "0 0 3\n",
    "```\n",
    "\n",
    "### 예제 출력1\n",
    "\n",
    "```\n",
    "-1 -2 6\n",
    "-3 -6 12\n",
    "-5 -10 18\n",
    "\n",
    "```"
   ]
  },
  {
   "cell_type": "markdown",
   "metadata": {},
   "source": [
    "---"
   ]
  },
  {
   "cell_type": "markdown",
   "metadata": {},
   "source": [
    "### 풀이 1)\n"
   ]
  },
  {
   "cell_type": "code",
   "execution_count": 91,
   "metadata": {},
   "outputs": [
    {
     "name": "stdout",
     "output_type": "stream",
     "text": [
      "3 2\n",
      "1 2\n",
      "3 4\n",
      "5 6\n",
      "2 3\n",
      "-1 -2 0\n",
      "0 0 3\n",
      "-1 -2 6 \n",
      "-3 -6 12 \n",
      "-5 -10 18 \n"
     ]
    }
   ],
   "source": [
    "# 행렬 A\n",
    "N,M = map(int,input().split())\n",
    "A=[list(map(int,input().split())) for _ in range(N)]\n",
    "\n",
    "# 행렬 B\n",
    "M,K = map(int,input().split())\n",
    "B=[list(map(int,input().split())) for _ in range(M)]\n",
    "\n",
    "# 곱한 행렬 C\n",
    "# C=[[0]*K for _ in range(K)]\n",
    "C=[]\n",
    "for _ in range(N):\n",
    "    C.append([0]*K)\n",
    "\n",
    "# 행렬의 곱셈\n",
    "for n in range(N):\n",
    "    for k in range(K):\n",
    "        for m in range(M):\n",
    "            C[n][k]+=A[n][m]*B[m][k]\n",
    "            \n",
    "# 출력문\n",
    "for c in C:\n",
    "    for j in c:\n",
    "        print(j, end=' ')\n",
    "    print()"
   ]
  },
  {
   "cell_type": "markdown",
   "metadata": {},
   "source": [
    "### 풀이 2)\n"
   ]
  },
  {
   "cell_type": "code",
   "execution_count": 89,
   "metadata": {},
   "outputs": [
    {
     "name": "stdout",
     "output_type": "stream",
     "text": [
      "3 2\n",
      "1 2\n",
      "3 4\n",
      "5 6\n",
      "2 3\n",
      "-1 -2 0\n",
      "0 0 3\n",
      "-1 -2 6 \n",
      "-3 -6 12 \n",
      "-5 -10 18 \n"
     ]
    }
   ],
   "source": [
    "N, M = map(int, input().split())\n",
    "A = []\n",
    "for _ in range(N):\n",
    "    A.append(list(map(int, input().split())))\n",
    "\n",
    "M, K = map(int, input().split())\n",
    "B = []\n",
    "for _ in range(M):\n",
    "    B.append(list(map(int, input().split())))\n",
    "\n",
    "\n",
    "#행렬 곱셈\n",
    "C = [[0 for _ in range(K)] for _ in range(N)]\n",
    "\n",
    "for n in range(N):\n",
    "    for k in range(K):\n",
    "        for m in range(M):\n",
    "            C[n][k] += A[n][m] * B[m][k]\n",
    "\n",
    "#출력문\n",
    "for i in C:\n",
    "    for j in i:\n",
    "        print(j, end = ' ')\n",
    "    print()"
   ]
  }
 ],
 "metadata": {
  "kernelspec": {
   "display_name": "Python 3",
   "language": "python",
   "name": "python3"
  },
  "language_info": {
   "codemirror_mode": {
    "name": "ipython",
    "version": 3
   },
   "file_extension": ".py",
   "mimetype": "text/x-python",
   "name": "python",
   "nbconvert_exporter": "python",
   "pygments_lexer": "ipython3",
   "version": "3.8.3"
  }
 },
 "nbformat": 4,
 "nbformat_minor": 4
}
