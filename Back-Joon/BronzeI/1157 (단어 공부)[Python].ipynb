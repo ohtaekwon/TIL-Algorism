{
 "cells": [
  {
   "cell_type": "markdown",
   "metadata": {},
   "source": [
    "# 단어 공부\n",
    "\n",
    "<br>\n",
    "<br>\n",
    "\n",
    "## 문제\n",
    "\n",
    "---\n",
    "\n",
    "알파벳 대소문자로 된 단어가 주어지면, 이 단어에서 가장 많이 사용된 알파벳이 무엇인지 알아내는 프로그램을 작성하시오. 단, 대문자와 소문자를 구분하지 않는다.\n",
    "\n",
    "\n",
    "### 입력\n",
    "\n",
    "---\n",
    "첫째 줄에 알파벳 대소문자로 이루어진 단어가 주어진다. 주어지는 단어의 길이는 1,000,000을 넘지 않는다.\n",
    "\n",
    "\n",
    "<br>\n",
    "\n",
    "### 출력\n",
    "---\n",
    "첫째 줄에 이 단어에서 가장 많이 사용된 알파벳을 대문자로 출력한다. 단, 가장 많이 사용된 알파벳이 여러 개 존재하는 경우에는 ?를 출력한다."
   ]
  },
  {
   "cell_type": "markdown",
   "metadata": {},
   "source": [
    "### 예제 입력1\n",
    "\n",
    "```\n",
    "Mississipi\n",
    "```\n",
    "\n",
    "### 예제 출력1\n",
    "\n",
    "```\n",
    "?\n",
    "```\n",
    "\n",
    "### 예제 입력2\n",
    "\n",
    "```\n",
    "55\n",
    "```\n",
    "\n",
    "### 예제 출력2\n",
    "\n",
    "```\n",
    "3\n",
    "```\n",
    "\n",
    "### 예제 입력3\n",
    "\n",
    "```\n",
    "1\n",
    "```\n",
    "\n",
    "### 예제 출력3\n",
    "\n",
    "```\n",
    "60\n",
    "```\n",
    "\n",
    "### 예제 입력4\n",
    "\n",
    "```\n",
    "0\n",
    "```\n",
    "\n",
    "### 예제 출력4\n",
    "\n",
    "```\n",
    "1\n",
    "```\n",
    "\n",
    "### 예제 입력5\n",
    "\n",
    "```\n",
    "71\n",
    "```\n",
    "\n",
    "### 예제 출력5\n",
    "\n",
    "```\n",
    "12\n",
    "```"
   ]
  },
  {
   "cell_type": "markdown",
   "metadata": {},
   "source": [
    "### 풀이 1)\n",
    "\n",
    "리스트나 튜플은 순서가 있기 때문에 인덱싱을 통해 자료형의 값을 얻을 수 있지만, set 자료형은 순서가 없기 때문에 인덱싱으로 값을 얻을 수 없다.\n",
    "\n",
    "딕셔너리 역시 순서가 없는 자료형이라 인덱싱을 지원하지 않는다.\n",
    "\n",
    "만약 set 자료형에 저장된 값을 인덱싱으로 접근하려면 다음과 같이 리스트나 튜플로 변환한후 해야 한다.\n",
    "\n",
    "만약 set 자료혀엥 저장된 값을 인덱싱으로 접근하려면 다음과 같이 리스트나 튜플로 변환후 해야 한다.\n",
    "\n",
    "- 중복을 허용하지 않는 set의 특징은 자료형의 중복을 제거하기 위한 필터 역할로 종종 사용됨"
   ]
  },
  {
   "cell_type": "code",
   "execution_count": 20,
   "metadata": {},
   "outputs": [
    {
     "name": "stdout",
     "output_type": "stream",
     "text": [
      "zzza\n",
      "Z\n"
     ]
    }
   ],
   "source": [
    "words = input().upper()\n",
    "unique_words = list(set(words))  # 입력받은 문자열에서 중복값을 제거\n",
    "\n",
    "cnt_list = []\n",
    "for x in unique_words :\n",
    "    cnt = words.count(x)\n",
    "    cnt_list.append(cnt)  # count 숫자를 리스트에 append\n",
    "\n",
    "if cnt_list.count(max(cnt_list)) > 1 :  # count 숫자 최대값이 중복되면\n",
    "    print('?')\n",
    "else :\n",
    "    max_index = cnt_list.index(max(cnt_list))  # count 숫자 최대값 인덱스(위치)\n",
    "    print(unique_words[max_index])"
   ]
  }
 ],
 "metadata": {
  "kernelspec": {
   "display_name": "Python 3",
   "language": "python",
   "name": "python3"
  },
  "language_info": {
   "codemirror_mode": {
    "name": "ipython",
    "version": 3
   },
   "file_extension": ".py",
   "mimetype": "text/x-python",
   "name": "python",
   "nbconvert_exporter": "python",
   "pygments_lexer": "ipython3",
   "version": "3.8.3"
  }
 },
 "nbformat": 4,
 "nbformat_minor": 4
}
