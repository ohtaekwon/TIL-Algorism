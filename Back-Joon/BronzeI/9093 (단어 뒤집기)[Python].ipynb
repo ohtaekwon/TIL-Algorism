{
 "cells": [
  {
   "cell_type": "markdown",
   "metadata": {},
   "source": [
    "# 단어 뒤집기\n",
    "\n",
    "<br>\n",
    "<br>\n",
    "\n",
    "## 문제\n",
    "\n",
    "---\n",
    "문장이 주어졌을 때, 단어를 모두 뒤집어서 출력하는 프로그램을 작성하시오. 단, 단어의 순서는 바꿀 수 없다. 단어는 영어 알파벳으로만 이루어져 있다.\n",
    "\n",
    "<br>\n",
    "\n",
    "\n",
    "### 입력\n",
    "\n",
    "---\n",
    "첫째 줄에 테스트 케이스의 개수 T가 주어진다. 각 테스트 케이스는 한 줄로 이루어져 있으며, 문장이 하나 주어진다. 단어의 길이는 최대 20, 문장의 길이는 최대 1000이다. 단어와 단어 사이에는 공백이 하나 있다.\n",
    "\n",
    "<br>\n",
    "\n",
    "### 출력\n",
    "\n",
    "---\n",
    "각 테스트 케이스에 대해서, 입력으로 주어진 문장의 단어를 모두 뒤집어 출력한다.\n"
   ]
  },
  {
   "cell_type": "markdown",
   "metadata": {},
   "source": [
    "### 예제 입력1\n",
    "\n",
    "```\n",
    "2\n",
    "I am happy today\n",
    "We want to win the first prize```\n",
    "```\n",
    "### 예제 출력1\n",
    "\n",
    "```\n",
    "I ma yppah yadot\n",
    "eW tnaw ot niw eht tsrif ezirp\n",
    "```"
   ]
  },
  {
   "cell_type": "markdown",
   "metadata": {},
   "source": [
    "---"
   ]
  },
  {
   "cell_type": "markdown",
   "metadata": {},
   "source": [
    "### 풀이 1)"
   ]
  },
  {
   "cell_type": "code",
   "execution_count": 85,
   "metadata": {},
   "outputs": [
    {
     "name": "stdout",
     "output_type": "stream",
     "text": [
      "2\n",
      "We want to win the first prize\n",
      "eW tnaw ot niw eht tsrif ezirp\n",
      "I am happy today\n",
      "I ma yppah yadot\n"
     ]
    }
   ],
   "source": [
    "T=int(input())\n",
    "for _ in range(T):\n",
    "    string=input().split()\n",
    "    sol=[]\n",
    "    for i in range(len(string)):\n",
    "        sol.append(string[i][::-1])\n",
    "    print(\" \".join(sol))"
   ]
  },
  {
   "cell_type": "markdown",
   "metadata": {},
   "source": [
    "### 풀이 2)\n",
    "\n",
    "1) for문 활용\n",
    "```python\n",
    "s = \"abcd\"\n",
    "s_reverse = '' # 기존 문자열을 역순으로 담아줄 빈 문자열 선언\n",
    "\n",
    "for char in s:\n",
    "    s_reverse=char + s_reverse\n",
    "print(s_reverse)  # dcba\n",
    "```\n",
    "\n",
    "2) 파이썬에서 제공하는 `reverse()` 사용\n",
    "\n",
    "```python\n",
    "s='abcd'\n",
    "print(''.join(reversed(s)))\n",
    "```\n",
    "\n",
    "\n",
    "3) 문자열 슬라이싱\n",
    "\n",
    "```python\n",
    "s = \"abcde\"\n",
    "print(s[::-1])  # edcba\n",
    "print(s[3:0:-1])  # dcb, 3번 인덱스부터 1번 인덱스까지 역순으로 출력\n",
    "```"
   ]
  },
  {
   "cell_type": "code",
   "execution_count": null,
   "metadata": {},
   "outputs": [],
   "source": [
    "import sys\n",
    "N = int(input())\n",
    "\n",
    "for _ in range(N):\n",
    "    str = sys.stdin.readline().rstrip()\n",
    "    words = list(str.split())\n",
    "    reverse_words = []\n",
    "\n",
    "    for word in words:\n",
    "        reverse_words.append(word[::-1])\n",
    "\n",
    "    answer = \" \".join(reverse_words)\n",
    "    print(answer)"
   ]
  }
 ],
 "metadata": {
  "kernelspec": {
   "display_name": "Python 3 (ipykernel)",
   "language": "python",
   "name": "python3"
  },
  "language_info": {
   "codemirror_mode": {
    "name": "ipython",
    "version": 3
   },
   "file_extension": ".py",
   "mimetype": "text/x-python",
   "name": "python",
   "nbconvert_exporter": "python",
   "pygments_lexer": "ipython3",
   "version": "3.9.7"
  }
 },
 "nbformat": 4,
 "nbformat_minor": 4
}
