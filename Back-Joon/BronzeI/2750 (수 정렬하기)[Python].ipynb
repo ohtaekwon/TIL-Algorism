{
 "cells": [
  {
   "cell_type": "markdown",
   "metadata": {},
   "source": [
    "# [수 정렬하기](https://www.acmicpc.net/problem/2750)\n",
    "\n",
    "<br/>\n",
    "<br/>\n",
    "\n",
    "## 문제\n",
    "\n",
    "N개의 수가 주어졌을 때, 이를 오름차순으로 정렬하는 프로그램을 작성하시오.\n",
    "\n",
    "\n",
    "## 입력\n",
    "\n",
    "첫째 줄에 수의 개수 N(1 ≤ N ≤ 1,000)이 주어진다. 둘째 줄부터 N개의 줄에는 수 주어진다. 이 수는 절댓값이 1,000보다 작거나 같은 정수이다. 수는 중복되지 않는다.\n",
    "\n",
    "\n",
    "## 출력\n",
    "\n",
    "첫째 줄부터 N개의 줄에 오름차순으로 정렬한 결과를 한 줄에 하나씩 출력한다.\n",
    "\n",
    "\n",
    "## 예제 입력1\n",
    "\n",
    "```\n",
    "5\n",
    "5\n",
    "2\n",
    "3\n",
    "4\n",
    "1\n",
    "```\n",
    "\n",
    "## 예제 출력1\n",
    "\n",
    "```\n",
    "1\n",
    "2\n",
    "3\n",
    "4\n",
    "5\n",
    "```\n",
    "\n",
    "## 알고리즘 분류\n",
    "\n",
    "- 구현\n",
    "- 정렬"
   ]
  },
  {
   "cell_type": "markdown",
   "metadata": {},
   "source": [
    "---"
   ]
  },
  {
   "cell_type": "markdown",
   "metadata": {},
   "source": [
    "## 풀이 방법\n",
    "\n",
    "### 문제 해결 아이디어\n",
    "\n",
    "- 데이터의 개수가 1000까지이므로, 하나씩 단순 정렬을 사용해도 속도면에서 이상이 없다.\n",
    "    - 따라서, 1) 선택 정렬 알고리즘으로 문제 해결 할 수 있다.\n",
    "    - 또는 2) 수를 입력 받고 `sort`를 사용하여 정렬 후 하나씩 출력"
   ]
  },
  {
   "cell_type": "markdown",
   "metadata": {},
   "source": [
    "### 풀이 코드 1) - 선택 정렬 알고리즘\n",
    "\n",
    "- $O$($N^2$)"
   ]
  },
  {
   "cell_type": "code",
   "execution_count": 4,
   "metadata": {},
   "outputs": [
    {
     "name": "stdout",
     "output_type": "stream",
     "text": [
      "5\n",
      "5\n",
      "2\n",
      "3\n",
      "4\n",
      "1\n",
      "1\n",
      "2\n",
      "3\n",
      "4\n",
      "5\n"
     ]
    }
   ],
   "source": [
    "n=int(input())\n",
    "array=list()\n",
    "\n",
    "for _ in range(n):\n",
    "    array.append(int(input()))\n",
    "    \n",
    "for index in range(n): # index는 가장 앞에 위치한 인덱스\n",
    "    min_index = index # 가장 작은 원소의 인덱스\n",
    "    for index2 in range(index+1, n): # 설정한 가장 작은 인덱스 그 뒤에부터 시작\n",
    "        if array[min_index] > array[index2]: # min_index보다 더 작다면\n",
    "            min_index = index2 # min_index값을 더 작은 값으로 갱신하고\n",
    "    array[index], array[min_index] = array[min_index], array[index] # 가장 앞쪽으로 보내주기 위해서\n",
    "\n",
    "for i in array:\n",
    "    print(i)\n",
    "        "
   ]
  },
  {
   "cell_type": "markdown",
   "metadata": {},
   "source": [
    "### 풀이 코드 2) - 파이썬 기본 정렬 라이브러리로 문제 해결하기\n",
    "\n",
    "- 기본 정렬 라이브러리를 이용해도 $O$($N$log$N$)을 보장한다.\n",
    "- 기본 정렬함수인 `sort()` 함수를 이용"
   ]
  },
  {
   "cell_type": "code",
   "execution_count": 9,
   "metadata": {},
   "outputs": [
    {
     "name": "stdout",
     "output_type": "stream",
     "text": [
      "5\n",
      "5\n",
      "2\n",
      "3\n",
      "4\n",
      "1\n",
      "1\n",
      "2\n",
      "3\n",
      "4\n",
      "5\n"
     ]
    }
   ],
   "source": [
    "n=int(input())\n",
    "numbers=[int(input()) for _ in range(n)]\n",
    "numbers.sort()\n",
    "for number in numbers:\n",
    "    print(number)"
   ]
  }
 ],
 "metadata": {
  "kernelspec": {
   "display_name": "Python 3 (ipykernel)",
   "language": "python",
   "name": "python3"
  },
  "language_info": {
   "codemirror_mode": {
    "name": "ipython",
    "version": 3
   },
   "file_extension": ".py",
   "mimetype": "text/x-python",
   "name": "python",
   "nbconvert_exporter": "python",
   "pygments_lexer": "ipython3",
   "version": "3.9.7"
  }
 },
 "nbformat": 4,
 "nbformat_minor": 4
}
