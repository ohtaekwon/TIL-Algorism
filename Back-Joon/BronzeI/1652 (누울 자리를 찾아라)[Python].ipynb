{
 "cells": [
  {
   "cell_type": "markdown",
   "metadata": {},
   "source": [
    "# 임시 반장 정하기\n",
    "\n",
    "\n",
    "\n",
    "<br>\n",
    "<br>\n",
    "\n",
    "## 문제\n",
    "\n",
    "---\n",
    "\n",
    "일 년 동안 세계일주를 하던 영식이는 여행을 하다 너무 피곤해서 근처에 있는 코레스코 콘도에서 하룻밤 잠을 자기로 하고 방을 잡았다.\n",
    "\n",
    "코레스코 콘도에 있는 방은 NxN의 정사각형모양으로 생겼다. 방 안에는 옮길 수 없는 짐들이 이것저것 많이 있어서 영식이의 누울 자리를 차지하고 있었다. 영식이는 이 열악한 환경에서 누울 수 있는 자리를 찾아야 한다. 영식이가 누울 수 있는 자리에는 조건이 있다. 똑바로 연속해서 2칸 이상의 빈 칸이 존재하면 그 곳에 몸을 양 옆으로 쭉 뻗으면서 누울 수 있다. 가로로 누울 수도 있고 세로로 누울 수도 있다. 누울 때는 무조건 몸을 쭉 뻗기 때문에 반드시 벽이나 짐에 닿게 된다. (중간에 어정쩡하게 눕는 경우가 없다.)\n",
    "\n",
    "![](https://www.acmicpc.net/JudgeOnline/upload/201005/map.PNG)\n",
    "\n",
    "만약 방의 구조가 위의 그림처럼 생겼다면, 가로로 누울 수 있는 자리는 5개이고, 세로로 누울 수 있는 자리는 4개 이다. 방의 크기 N과 방의 구조가 주어졌을 때, 가로로 누울 수 있는 자리와 세로로 누울 수 있는 자리의 수를 구하는 프로그램을 작성하시오.\n",
    "\n",
    "<br>\n",
    "\n",
    "### 입력\n",
    "\n",
    "---\n",
    "첫째 줄에 방의 크기 N이 주어진다. N은 1이상 100이하의 정수이다. 그 다음 N줄에 걸쳐 N개의 문자가 들어오는데 '.'은 아무것도 없는 곳을 의미하고, 'X'는 짐이 있는 곳을 의미한다.\n",
    "\n",
    "\n",
    "<br>\n",
    "\n",
    "### 출력\n",
    "---\n",
    "첫째 줄에 가로로 누울 수 있는 자리와 세로로 누울 수 있는 자리의 개수를 출력한다.\n"
   ]
  },
  {
   "cell_type": "markdown",
   "metadata": {},
   "source": [
    "---"
   ]
  },
  {
   "cell_type": "markdown",
   "metadata": {},
   "source": [
    "### 예제 입력1\n",
    "\n",
    "```\n",
    "5\n",
    "....X\n",
    "..XX.\n",
    ".....\n",
    ".XX..\n",
    "X....\n",
    "```\n",
    "\n",
    "### 예제 출력1\n",
    "\n",
    "```\n",
    "5 4\n",
    "```"
   ]
  },
  {
   "cell_type": "code",
   "execution_count": 1,
   "metadata": {},
   "outputs": [
    {
     "name": "stdout",
     "output_type": "stream",
     "text": [
      "5\n"
     ]
    }
   ],
   "source": [
    "n=int(input())"
   ]
  },
  {
   "cell_type": "code",
   "execution_count": 2,
   "metadata": {},
   "outputs": [
    {
     "name": "stdout",
     "output_type": "stream",
     "text": [
      "....X\n",
      "..XX.\n",
      ".....\n",
      ".XX..\n",
      "X....\n"
     ]
    }
   ],
   "source": [
    "room=[]\n",
    "for _ in range(n):\n",
    "    room.append(list(map(str,input().split())))"
   ]
  },
  {
   "cell_type": "code",
   "execution_count": 20,
   "metadata": {},
   "outputs": [
    {
     "name": "stdout",
     "output_type": "stream",
     "text": [
      "[['....X'], ['..XX.'], ['.....'], ['.XX..'], ['X....']]\n"
     ]
    }
   ],
   "source": [
    "print(room)"
   ]
  },
  {
   "cell_type": "code",
   "execution_count": 18,
   "metadata": {},
   "outputs": [
    {
     "name": "stdout",
     "output_type": "stream",
     "text": [
      ".\n",
      ".\n",
      ".\n",
      ".\n",
      "X\n"
     ]
    }
   ],
   "source": [
    "j=0\n",
    "for i in range(n):\n",
    "    for r in room[i]:\n",
    "        if r==\".\"\n",
    "\n",
    "    "
   ]
  },
  {
   "cell_type": "markdown",
   "metadata": {},
   "source": [
    "### 풀이 1)"
   ]
  },
  {
   "cell_type": "code",
   "execution_count": 2,
   "metadata": {},
   "outputs": [
    {
     "name": "stdout",
     "output_type": "stream",
     "text": [
      "5\n"
     ]
    }
   ],
   "source": [
    "# import sys\n",
    "# sys.stdin = open('input.txt')\n",
    "\n",
    "N = int(input())\n",
    "arr = [list(input()) for _ in range(N)]\n",
    "# 가로, 세로 누울 수 있는 자리 초기화\n",
    "row, col = 0, 0\n",
    "# 가로로 누울 수 있는 곳 검사\n",
    "for i in range(N):\n",
    "    cnt = 0\n",
    "    for j in range(N):\n",
    "        if arr[i][j] == '.' and j < N-1:\n",
    "            cnt+=1\n",
    "        elif arr[i][j] == '.' and j == N-1:\n",
    "            cnt+=1\n",
    "            if cnt>=2:\n",
    "                row+=1\n",
    "        # X가 나오면 여태 나온 .의 개수를 확인\n",
    "        elif arr[i][j] == 'X':\n",
    "            if cnt>=2:\n",
    "                row+=1\n",
    "            cnt = 0\n",
    "# 세로로 누울 수 있는 자리 검사\n",
    "for j in range(N):\n",
    "    cnt = 0\n",
    "    for i in range(N):\n",
    "        if arr[i][j] == '.' and i < N-1:\n",
    "            cnt+=1\n",
    "        elif arr[i][j] == '.' and i == N-1:\n",
    "            cnt+=1\n",
    "            if cnt>=2:\n",
    "                col+=1\n",
    "        elif arr[i][j] == 'X':\n",
    "            if cnt>=2:\n",
    "                col+=1\n",
    "            cnt = 0\n",
    "print(row, col)"
   ]
  },
  {
   "cell_type": "markdown",
   "metadata": {},
   "source": [
    "### 풀이 2)"
   ]
  }
 ],
 "metadata": {
  "kernelspec": {
   "display_name": "Python 3",
   "language": "python",
   "name": "python3"
  },
  "language_info": {
   "codemirror_mode": {
    "name": "ipython",
    "version": 3
   },
   "file_extension": ".py",
   "mimetype": "text/x-python",
   "name": "python",
   "nbconvert_exporter": "python",
   "pygments_lexer": "ipython3",
   "version": "3.8.3"
  }
 },
 "nbformat": 4,
 "nbformat_minor": 4
}
