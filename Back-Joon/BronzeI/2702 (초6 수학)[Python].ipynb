{
 "cells": [
  {
   "cell_type": "markdown",
   "metadata": {},
   "source": [
    "# 초6 수학\n",
    "\n",
    "\n",
    "<br>\n",
    "<br>\n",
    "\n",
    "## 문제\n",
    "---\n",
    "두 정수 a와 b 최소공배수는 두 수의 공통된 배수 중 가장 작은 수이고, 최대공약수는 두 수의 공통된 약수중 가장 큰 수이다.\n",
    "\n",
    "a와 b가 주어졌을 때, 최소공배수와 최대공약수를 구하는 프로그램을 작성하시오.\n",
    "\n",
    "<br>\n",
    "\n",
    "### 입력\n",
    "---\n",
    "첫째 줄에 테스트 케이스의 개수 T(1<=T<=1,000)가 주어진다. 각 테스트 케이스는 두 정수 a와 b로 이루어져 있고, 공백으로 구분되어 있다. (1 <= a,b <= 1,000)\n",
    "\n",
    "<br>\n",
    "\n",
    "### 출력\n",
    "---\n",
    "각 테스트 케이스에 대해 최소공배수와 최대공약수를 차례대로 출력한다."
   ]
  },
  {
   "cell_type": "markdown",
   "metadata": {},
   "source": [
    "### 예제 입력1\n",
    "\n",
    "```\n",
    "3\n",
    "5 10\n",
    "7 23\n",
    "42 56\n",
    "```\n",
    "\n",
    "### 예제 출력1\n",
    "\n",
    "```\n",
    "10 5\n",
    "161 1\n",
    "168 14\n",
    "```"
   ]
  },
  {
   "cell_type": "markdown",
   "metadata": {},
   "source": [
    "---"
   ]
  },
  {
   "cell_type": "markdown",
   "metadata": {},
   "source": [
    "### 풀이 1)\n"
   ]
  },
  {
   "cell_type": "code",
   "execution_count": 84,
   "metadata": {},
   "outputs": [
    {
     "name": "stdout",
     "output_type": "stream",
     "text": [
      "3\n",
      "5 10\n",
      "10 5\n",
      "7 23\n",
      "161 1\n",
      "42 56\n",
      "168 14\n"
     ]
    }
   ],
   "source": [
    "# 최대공약수\n",
    "def gcd_r(a,b) :\n",
    "    if b == 0 :\n",
    "        return a\n",
    "    else :\n",
    "        return gcd_r(b,a%b)\n",
    "\n",
    "# 최소공배수\n",
    "def lcm(a,b) :\n",
    "    return a*b//gcd_r(a,b)\n",
    "\n",
    "T=int(input())\n",
    "for _ in range(T):\n",
    "    a,b=list(map(int,input().split()))\n",
    "    \n",
    "    # 답\n",
    "    print(lcm(a,b),gcd_r(a,b))"
   ]
  },
  {
   "cell_type": "markdown",
   "metadata": {},
   "source": [
    "### 풀이 2)\n"
   ]
  },
  {
   "cell_type": "code",
   "execution_count": null,
   "metadata": {},
   "outputs": [],
   "source": [
    "def gcd_r(a,b) :\n",
    "    if b == 0 :\n",
    "        return a\n",
    "    else :\n",
    "        return gcd_r(b,a%b)\n",
    "\n",
    "def gcd_for(a,b) :\n",
    "    while b > 0 :\n",
    "        tmp = a % b\n",
    "        a = b\n",
    "        b = tmp\n",
    "    return a\n",
    "\n",
    "def lcm(a,b) :\n",
    "    return a*b//gcd_r(a,b)\n",
    "\n",
    "print(gcd_r(a,b))\n",
    "print(lcm(a,b))"
   ]
  }
 ],
 "metadata": {
  "kernelspec": {
   "display_name": "Python 3 (ipykernel)",
   "language": "python",
   "name": "python3"
  },
  "language_info": {
   "codemirror_mode": {
    "name": "ipython",
    "version": 3
   },
   "file_extension": ".py",
   "mimetype": "text/x-python",
   "name": "python",
   "nbconvert_exporter": "python",
   "pygments_lexer": "ipython3",
   "version": "3.9.7"
  }
 },
 "nbformat": 4,
 "nbformat_minor": 4
}
