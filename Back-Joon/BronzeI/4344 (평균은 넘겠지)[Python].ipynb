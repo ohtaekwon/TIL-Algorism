{
 "cells": [
  {
   "cell_type": "markdown",
   "metadata": {},
   "source": [
    "# 평균은 넘겠지\n",
    "\n",
    "<br>\n",
    "<br>\n",
    "\n",
    "## 문제\n",
    "\n",
    "---\n",
    "대학생 새내기들의 90%는 자신이 반에서 평균은 넘는다고 생각한다. 당신은 그들에게 슬픈 진실을 알려줘야 한다.\n",
    "\n",
    "<br>\n",
    "\n",
    "### 입력\n",
    "\n",
    "---\n",
    "첫째 줄에는 테스트 케이스의 개수 C가 주어진다.\n",
    "\n",
    "둘째 줄부터 각 테스트 케이스마다 학생의 수 N(1 ≤ N ≤ 1000, N은 정수)이 첫 수로 주어지고, 이어서 N명의 점수가 주어진다. 점수는 0보다 크거나 같고, 100보다 작거나 같은 정수이다.\n",
    "\n",
    "<br>\n",
    "\n",
    "### 출력\n",
    "\n",
    "---\n",
    "각 케이스마다 한 줄씩 평균을 넘는 학생들의 비율을 반올림하여 소수점 셋째 자리까지 출력한다.\n",
    "\n"
   ]
  },
  {
   "cell_type": "markdown",
   "metadata": {},
   "source": [
    "### 예제 입력1\n",
    "\n",
    "```\n",
    "5\n",
    "5 50 50 70 80 100\n",
    "7 100 95 90 80 70 60 50\n",
    "3 70 90 80\n",
    "3 70 90 81\n",
    "9 100 99 98 97 96 95 94 93 91\n",
    "```\n",
    "\n",
    "### 예제 출력1\n",
    "\n",
    "```\n",
    "40.000%\n",
    "57.143%\n",
    "33.333%\n",
    "66.667%\n",
    "55.556%\n",
    "```"
   ]
  },
  {
   "cell_type": "markdown",
   "metadata": {},
   "source": [
    "---"
   ]
  },
  {
   "cell_type": "markdown",
   "metadata": {},
   "source": [
    "### 풀이 1)\n"
   ]
  },
  {
   "cell_type": "code",
   "execution_count": 35,
   "metadata": {},
   "outputs": [
    {
     "name": "stdout",
     "output_type": "stream",
     "text": [
      "5\n",
      "5 50 50 70 80 100\n",
      "40.000%\n",
      "7 100 95 90 80 70 60 50\n",
      "57.143%\n",
      "3 70 90 80\n",
      "33.333%\n",
      "3 70 90 81\n",
      "66.667%\n",
      "9 100 99 98 97 96 95 94 93 91\n",
      "55.556%\n"
     ]
    }
   ],
   "source": [
    "c=int(input())\n",
    "for _ in range(c):\n",
    "    n=list(map(int,input().split()))\n",
    "    avg=sum(n[1:])/n[0]\n",
    "    cnt=0\n",
    "    \n",
    "    for i in range(1,len(n)):\n",
    "        if n[i]>avg:\n",
    "            cnt+=1\n",
    "    rate=cnt/n[0]*100\n",
    "    print(f'{rate:.3f}%' )"
   ]
  },
  {
   "cell_type": "markdown",
   "metadata": {},
   "source": [
    "### 풀이 2)\n",
    "\n",
    "\n",
    "#### 1. 코드 작성에 대한 전체적인 내용 풀이\n",
    "\n",
    "파이썬에는 평균을 구하는 함수가 없기 때문에 sum함수로 시험 점수의 합을 구하고서 학생수로 나누어서 평균을 구했다. 이후에 for문을 작성하여 if 조건식으로 평균점수보다 큰 수의 숫자를 구하고 학생수와 평균 이상 학생수의 비율을 출력 할 때는 f-string 표기법을 이용해서 소수점 자릿수를 지정하였다.\n"
   ]
  },
  {
   "cell_type": "markdown",
   "metadata": {},
   "source": [
    "#### 2. for문 상단, 점수의 평균을 구한다."
   ]
  },
  {
   "cell_type": "code",
   "execution_count": null,
   "metadata": {},
   "outputs": [],
   "source": [
    "for _ in range(n):\n",
    "    nums = list(map(int, input().split()))\n",
    "    avg = sum(nums[1:])/nums[0]  # 평균을 구함 (nums[0]: 학생수, nums[1:] 점수)"
   ]
  },
  {
   "cell_type": "markdown",
   "metadata": {},
   "source": [
    "#### 3. for문 중반부, 평균 이상인 학생 수를 구한다."
   ]
  },
  {
   "cell_type": "code",
   "execution_count": null,
   "metadata": {},
   "outputs": [],
   "source": [
    "cnt = 0\n",
    "for score in nums[1:]:\n",
    "    if score > avg:\n",
    "        cnt += 1  # 평균 이상인 학생 수"
   ]
  },
  {
   "cell_type": "markdown",
   "metadata": {},
   "source": [
    "#### 4. 평균보다 높은 점수를 받은 학생 비율을 구하고 출력문을 작성한다."
   ]
  },
  {
   "cell_type": "code",
   "execution_count": null,
   "metadata": {},
   "outputs": [],
   "source": [
    "# 결과물을 작성할 때는 f-string 표기법으로 작성한다.\n",
    "    rate = cnt/nums[0] *100\n",
    "    print(f'{rate:.3f}%')"
   ]
  },
  {
   "cell_type": "markdown",
   "metadata": {},
   "source": [
    "### 전체 풀이"
   ]
  },
  {
   "cell_type": "code",
   "execution_count": null,
   "metadata": {},
   "outputs": [],
   "source": [
    "n = int(input())\n",
    "\n",
    "for _ in range(n):\n",
    "    nums = list(map(int, input().split()))\n",
    "    avg = sum(nums[1:])/nums[0]  # 평균을 구함 (nums[0]: 학생수, nums[1:] 점수)\n",
    "    cnt = 0\n",
    "    for score in nums[1:]:\n",
    "        if score > avg:\n",
    "            cnt += 1  # 평균 이상인 학생 수\n",
    "    rate = cnt/nums[0] *100\n",
    "    print(f'{rate:.3f}%')"
   ]
  }
 ],
 "metadata": {
  "kernelspec": {
   "display_name": "Python 3",
   "language": "python",
   "name": "python3"
  },
  "language_info": {
   "codemirror_mode": {
    "name": "ipython",
    "version": 3
   },
   "file_extension": ".py",
   "mimetype": "text/x-python",
   "name": "python",
   "nbconvert_exporter": "python",
   "pygments_lexer": "ipython3",
   "version": "3.8.3"
  }
 },
 "nbformat": 4,
 "nbformat_minor": 4
}
