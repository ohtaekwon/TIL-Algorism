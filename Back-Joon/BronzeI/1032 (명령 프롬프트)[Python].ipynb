{
 "cells": [
  {
   "cell_type": "markdown",
   "metadata": {},
   "source": [
    "# 명령 프롬프트\n",
    "\n",
    "<br>\n",
    "<br>\n",
    "\n",
    "## 문제\n",
    "\n",
    "---\n",
    "\n",
    "시작 -> 실행 -> cmd를 쳐보자. 검정 화면이 눈에 보인다. 여기서 dir이라고 치면 그 디렉토리에 있는 서브디렉토리와 파일이 모두 나온다. 이때 원하는 파일을 찾으려면 다음과 같이 하면 된다.\n",
    "\n",
    "dir *.exe라고 치면 확장자가 exe인 파일이 다 나온다. \"dir 패턴\"과 같이 치면 그 패턴에 맞는 파일만 검색 결과로 나온다. 예를 들어, dir a?b.exe라고 검색하면 파일명의 첫 번째 글자가 a이고, 세 번째 글자가 b이고, 확장자가 exe인 것이 모두 나온다. 이때 두 번째 문자는 아무거나 나와도 된다. 예를 들어, acb.exe, aab.exe, apb.exe가 나온다.\n",
    "\n",
    "이 문제는 검색 결과가 먼저 주어졌을 때, 패턴으로 뭘 쳐야 그 결과가 나오는지를 출력하는 문제이다. 패턴에는 알파벳과 \".\" 그리고 \"?\"만 넣을 수 있다. 가능하면 ?을 적게 써야 한다. 그 디렉토리에는 검색 결과에 나온 파일만 있다고 가정하고, 파일 이름의 길이는 모두 같다."
   ]
  },
  {
   "cell_type": "markdown",
   "metadata": {},
   "source": [
    "### 입력\n",
    "\n",
    "---\n",
    "첫째 줄에 파일 이름의 개수 N이 주어진다. 둘째 줄부터 N개의 줄에는 파일 이름이 주어진다. N은 50보다 작거나 같은 자연수이고 파일 이름의 길이는 모두 같고 길이는 최대 50이다. 파일이름은 알파벳 소문자와 '.' 로만 이루어져 있다.\n",
    "\n",
    "<br>\n",
    "\n",
    "### 출력\n",
    "---\n",
    "첫째 줄에 패턴을 출력하면 된다."
   ]
  },
  {
   "cell_type": "markdown",
   "metadata": {},
   "source": [
    "### 예제 입력1\n",
    "\n",
    "```\n",
    "3\n",
    "config.sys\n",
    "config.inf\n",
    "configures\n",
    "```\n",
    "\n",
    "### 예제 출력1\n",
    "\n",
    "```\n",
    "config????\n",
    "```\n",
    "\n",
    "### 예제 입력2\n",
    "\n",
    "```\n",
    "2\n",
    "contest.txt\n",
    "context.txt\n",
    "```\n",
    "\n",
    "### 예제 출력2\n",
    "\n",
    "```\n",
    "conte?t.txt\n",
    "```\n",
    "\n",
    "### 예제 입력3\n",
    "\n",
    "```\n",
    "3\n",
    "c.user.mike.programs\n",
    "c.user.nike.programs\n",
    "c.user.rice.programs\n",
    "```\n",
    "\n",
    "### 예제 출력3\n",
    "\n",
    "```\n",
    "c.user.?i?e.programs\n",
    "```\n",
    "\n",
    "### 예제 입력4\n",
    "\n",
    "```\n",
    "4\n",
    "a\n",
    "a\n",
    "b\n",
    "b\n",
    "```\n",
    "\n",
    "### 예제 출력4\n",
    "\n",
    "```\n",
    "?\n",
    "```\n",
    "\n",
    "### 예제 입력5\n",
    "\n",
    "```\n",
    "1\n",
    "onlyonefile\n",
    "```\n",
    "\n",
    "### 예제 출력5\n",
    "\n",
    "```\n",
    "onlyonefile\n",
    "```"
   ]
  },
  {
   "cell_type": "markdown",
   "metadata": {},
   "source": [
    "---"
   ]
  },
  {
   "cell_type": "markdown",
   "metadata": {},
   "source": [
    "### 풀이"
   ]
  },
  {
   "cell_type": "markdown",
   "metadata": {},
   "source": [
    "#### 풀이 1)\n",
    "\n",
    "1. 우선 파일 이름의 길이 N을 정수형으로 입력받는다.\n",
    "\n",
    "2. 비교의 기준을 설정하기 위해 첫 번째 파일 이름을 리스트 형태로 받아 따로 저장해둔다. 입력 값이 \"config.sys\"라면 ['c', 'o', 'n', 'f', 'i', 'g', '.', 's', 'y', 's']로 저장되게 된다.\n",
    "\n",
    "3. len() 함수를 이용해 파일 이름의 길이를 알아낸다. 파일 이름의 길이는 모두 같기 때문에 하나의 입력 값만 보아도 된다.\n",
    "\n",
    "4. 나머지 파일 이름도 리스트로 변환해 입력받고, 첫 번째 리스트와 비교해가며 같은 인덱스의 값이 서로 다르면 첫 번째 리스트의 해당 인덱스의 값을 \"?\"로 바꿔준다.\n",
    "\n",
    "5. 예를 들어 두 번째 입력 값이 \"config.inf\"라면 ['c', 'o', 'n', 'f', 'i', 'g', '.', 's', 'y', 's']와 ['c', 'o', 'n', 'f', 'i', 'g', '.', 'i', 'n', 'f'] 두 리스트를 비교하여 인덱스는 같지만 서로 다른 값을 지닌 7, 8, 9번째 인덱스의 값만 \"?\"로 변환해준다."
   ]
  },
  {
   "cell_type": "code",
   "execution_count": 4,
   "metadata": {},
   "outputs": [
    {
     "name": "stdout",
     "output_type": "stream",
     "text": [
      "3\n",
      "config.sys\n",
      "config.inf\n",
      "configures\n",
      "config????\n"
     ]
    }
   ],
   "source": [
    "N = int(input()) # 파일 이름의 개수\n",
    "name = list(input()) # 첫 번째 파일 이름을 리스트 형식으로 저장\n",
    "name_len = len(name) # 첫 번째 파일 이름의 길이\n",
    "             \n",
    "for i in range(N - 1):\n",
    "    other_name = list(input())\n",
    "    for j in range(name_len):\n",
    "        if name[j] != other_name[j]:\n",
    "            name[j] = '?'\n",
    "\n",
    "print(''.join(name))"
   ]
  },
  {
   "cell_type": "code",
   "execution_count": 8,
   "metadata": {},
   "outputs": [
    {
     "name": "stdout",
     "output_type": "stream",
     "text": [
      "3\n",
      "c.user.mike.programs\n",
      "c.user.nike.programs\n",
      "c.user.rice.programs\n",
      "c.user.?i?e.programs\n"
     ]
    }
   ],
   "source": [
    "n=int(input())\n",
    "name=list(input())\n",
    "name_len=len(name)\n",
    "\n",
    "for i in range(n-1):\n",
    "    other_name=list(input())\n",
    "    \n",
    "    for j in range(name_len):\n",
    "        if name[j]!=other_name[j]:\n",
    "            name[j]='?'\n",
    "print(''.join(name))"
   ]
  }
 ],
 "metadata": {
  "kernelspec": {
   "display_name": "Python 3",
   "language": "python",
   "name": "python3"
  },
  "language_info": {
   "codemirror_mode": {
    "name": "ipython",
    "version": 3
   },
   "file_extension": ".py",
   "mimetype": "text/x-python",
   "name": "python",
   "nbconvert_exporter": "python",
   "pygments_lexer": "ipython3",
   "version": "3.8.3"
  }
 },
 "nbformat": 4,
 "nbformat_minor": 4
}
