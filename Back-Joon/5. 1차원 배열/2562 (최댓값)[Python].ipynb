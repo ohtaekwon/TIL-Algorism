{
 "cells": [
  {
   "cell_type": "markdown",
   "metadata": {},
   "source": [
    "# 최소, 최대\n",
    "<br>\n",
    "<br>\n",
    "\n",
    "### 문제\n",
    "---\n",
    "9개의 서로 다른 자연수가 주어질 때, 이들 중 최댓값을 찾고 그 최댓값이 몇 번째 수인지를 구하는 프로그램을 작성하시오.\n",
    "\n",
    "예를 들어, 서로 다른 9개의 자연수\n",
    "\n",
    "3, 29, 38, 12, 57, 74, 40, 85, 61\n",
    "\n",
    "이 주어지면, 이들 중 최댓값은 85이고, 이 값은 8번째 수이다.\n",
    "<br>\n",
    "\n",
    "### 입력\n",
    "---\n",
    "\n",
    "- 첫째 줄부터 아홉 번째 줄까지 한 줄에 하나의 자연수가 주어진다. 주어지는 자연수는 100 보다 작다.\n",
    "\n",
    "\n",
    "<br>\n",
    "\n",
    "### 출력\n",
    "---\n",
    "첫째 줄에 최댓값을 출력하고, 둘째 줄에 최댓값이 몇 번째 수인지를 출력한다.\n",
    "\n",
    "\n",
    "![](https://github.com/ohtaekwon/TIL-Algorithms/blob/master/Back-Joon/5.%201%EC%B0%A8%EC%9B%90%20%EB%B0%B0%EC%97%B4/img/2562-1.png?raw=true)\n",
    "\n"
   ]
  },
  {
   "cell_type": "markdown",
   "metadata": {},
   "source": [
    "📌 ***나의 정답***"
   ]
  },
  {
   "cell_type": "code",
   "execution_count": null,
   "metadata": {},
   "outputs": [],
   "source": []
  },
  {
   "cell_type": "markdown",
   "metadata": {},
   "source": [
    "📌 ***풀이 해석***"
   ]
  },
  {
   "cell_type": "markdown",
   "metadata": {},
   "source": [
    "어떤 코드가 동작하는 과정에서, **오류가 발생할 수도 있고 발생하지 않을 수도 있다.** \n",
    "<br>\n",
    "\n",
    "이때 오류를 컨트롤하기 위해 사용하는 것이 `try-except-else-finally` 구문이다.\n",
    "<br>\n",
    "\n",
    "파이썬 정보를 입력받을때 어디가 끝인지를 확인하는 기능이 자체적으로 없기때문에, 만약에 **예외처리** 를 하지 않는다면 이 문제에서는 계속적인 인풋을 받는다.\n",
    "<br>\n",
    "\n",
    "몇개의 테스트 케이스가 주어졌는지 **알 수 없는 경우** 입력을 **파일 끝(End of File, EOF)** 까지 받으면 된다.\n",
    "<br>\n",
    "\n",
    "그래서 **예의 처리** 를 사용해서 문제를 접근해야 한다."
   ]
  },
  {
   "cell_type": "code",
   "execution_count": null,
   "metadata": {},
   "outputs": [],
   "source": []
  },
  {
   "cell_type": "markdown",
   "metadata": {},
   "source": [
    "**try 부분에는 실행할 부분의 코드** 를 입력한다.\n",
    "<br>\n",
    "\n",
    "입력값 `A`, `B` 를 빈칸을 기준으로 받고 각각 조건에 맞게 범위를 설정해 준다."
   ]
  },
  {
   "cell_type": "code",
   "execution_count": null,
   "metadata": {},
   "outputs": [],
   "source": []
  },
  {
   "cell_type": "markdown",
   "metadata": {},
   "source": [
    "**except 부분에는 예외가 일어났을 때 처리하는 코드** 를 입력한다.\n",
    "<br>\n",
    "\n",
    "이 경우 입력값이 없을 경우 `while` 반복문을 빠져나온다."
   ]
  },
  {
   "cell_type": "markdown",
   "metadata": {},
   "source": [
    "📌 ***다른 풀이***"
   ]
  },
  {
   "cell_type": "code",
   "execution_count": null,
   "metadata": {},
   "outputs": [],
   "source": []
  },
  {
   "cell_type": "markdown",
   "metadata": {},
   "source": [
    "`sys` 모듈을 `import` 해서 문제를 해결했다.\n",
    "<br>\n",
    "\n",
    "왜냐하면 `sys,stdin` 은 **^Z 를 입력받으면 종료** 해주기 떄문에 위 처럼 사용"
   ]
  },
  {
   "cell_type": "code",
   "execution_count": null,
   "metadata": {},
   "outputs": [],
   "source": []
  }
 ],
 "metadata": {
  "kernelspec": {
   "display_name": "Python 3",
   "language": "python",
   "name": "python3"
  },
  "language_info": {
   "codemirror_mode": {
    "name": "ipython",
    "version": 3
   },
   "file_extension": ".py",
   "mimetype": "text/x-python",
   "name": "python",
   "nbconvert_exporter": "python",
   "pygments_lexer": "ipython3",
   "version": "3.8.3"
  }
 },
 "nbformat": 4,
 "nbformat_minor": 4
}
