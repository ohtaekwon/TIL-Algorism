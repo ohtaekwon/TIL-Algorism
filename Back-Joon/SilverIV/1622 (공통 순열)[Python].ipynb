{
 "cells": [
  {
   "cell_type": "markdown",
   "metadata": {},
   "source": [
    "# [공통 순열](https://www.acmicpc.net/problem/1622)\n",
    "\n",
    "\n",
    "<br/>\n",
    "<br/>\n",
    "\n",
    "## 문제\n",
    "\n",
    "\n",
    "알파벳 소문자로 이루어진 두 문자열 a와 b에 대해, a의 부분 수열의 순열이자 b의 부분 수열의 순열이 되는 가장 긴 문자열 x를 구하여라.\n",
    "\n",
    "## 입력\n",
    "\n",
    "각각의 입력은 한 쌍의 줄로 이루어져 있다.\n",
    "\n",
    "첫 줄에는 문자열 a가 두 번째 줄에는 문자열 b가 주어진다.\n",
    "\n",
    "각각의 문자열은 줄로 구분되며, 최대 1000개의 알파벳 소문자로 이루어졌다.\n",
    "\n",
    "\n",
    "## 출력\n",
    "\n",
    "각각의 입력에 대해, x를 출력한다.\n",
    "\n",
    "가능한 x가 여러 개 존재하는 경우, 사전순으로 가장 앞에 오는 것을 출력한다.\n",
    "\n",
    "\n",
    "<br/><br/>\n",
    "\n",
    "### 예제 입력1\n",
    "\n",
    "```\n",
    "pretty\n",
    "women\n",
    "walking\n",
    "down\n",
    "the\n",
    "street\n",
    "```\n",
    "\n",
    "### 예제 출력1\n",
    "\n",
    "```\n",
    "e\n",
    "nw\n",
    "et\n",
    "```\n",
    "\n",
    "<br/>\n",
    "\n",
    "\n",
    "### 알고리즘 분류 \n",
    "\n",
    "- 문자열\n",
    "- 정렬"
   ]
  },
  {
   "cell_type": "markdown",
   "metadata": {},
   "source": [
    "---"
   ]
  },
  {
   "cell_type": "markdown",
   "metadata": {},
   "source": [
    "## 풀이 방법 \n",
    "\n",
    "- 버스는 특정 시작 시간 기준으로 10분 마다 출발\n",
    "- 터미널에서 T분에 도착했을 때, 버스를 타려면 몇 분을 더 기다려야 하는가\n",
    "\n",
    "### 알고리즘 설계 - 구현 \n",
    "\n",
    "- set 자료형을 통해서 교집합을 구한다.\n",
    "- 중복이 없으므로, set()을 써도 된다.\n",
    "    \n",
    "### 알고리즘의 복잡도\n",
    "\n",
    "- $O$(len(a) + len(b))"
   ]
  },
  {
   "cell_type": "markdown",
   "metadata": {},
   "source": [
    "### 코드 풀이 1)"
   ]
  },
  {
   "cell_type": "code",
   "execution_count": null,
   "metadata": {},
   "outputs": [],
   "source": [
    "from collections import defaultdict\n",
    "\n",
    "while True:\n",
    "    try:\n",
    "        a=input()\n",
    "        b=input()\n",
    "        alpha1=defaultdict(int)\n",
    "        alpha2=defaultdict(int)\n",
    "        ans=''\n",
    "        for s in a:\n",
    "            alpha1[s]+=1\n",
    "        for s in b:\n",
    "            alpha2[s]+=1\n",
    "        s = []\n",
    "        for char in alpha1:\n",
    "            if char in alpha2:\n",
    "                s.append(char)\n",
    "        s.sort()\n",
    "        for char in s:\n",
    "            ans += char*min(alpha1[char],alpha2[char])\n",
    "        print(ans)\n",
    "    except:\n",
    "        break\n"
   ]
  },
  {
   "cell_type": "markdown",
   "metadata": {},
   "source": [
    "# "
   ]
  }
 ],
 "metadata": {
  "kernelspec": {
   "display_name": "Python 3 (ipykernel)",
   "language": "python",
   "name": "python3"
  },
  "language_info": {
   "codemirror_mode": {
    "name": "ipython",
    "version": 3
   },
   "file_extension": ".py",
   "mimetype": "text/x-python",
   "name": "python",
   "nbconvert_exporter": "python",
   "pygments_lexer": "ipython3",
   "version": "3.9.7"
  }
 },
 "nbformat": 4,
 "nbformat_minor": 4
}
