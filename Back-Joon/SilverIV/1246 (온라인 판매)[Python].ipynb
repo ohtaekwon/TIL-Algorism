{
 "cells": [
  {
   "cell_type": "markdown",
   "metadata": {},
   "source": [
    "# [온라인 판매](https://www.acmicpc.net/problem/1246)\n",
    "\n",
    "\n",
    "<br/>\n",
    "<br/>\n",
    "\n",
    "## 문제\n",
    "\n",
    "경래는 닭을 기르는데 올 겨울 달걀 풍년으로 함박 웃음을 짓고 있다. 그리고 이 달걀을 영양란으로 둔갑하여 옥션에 판매하려한다.\n",
    "\n",
    "경래는 총 N개의 달걀이 있고, 그의 잠재적인 고객은 총 M명이다. 그리고 각각의 i번째 고객은 각자 달걀 하나를 Pi 가격 이하로 살 수 있다고 밝혔다.\n",
    "\n",
    "경래는 영양란이라 속인 죄책감에 한 고객에게 두 개 이상의 달걀은 팔지 않기로 하였다. 하지만 위의 규칙 하에 수익은 최대로 올리고 싶기에 얼마로 팔지 고민하고 있다. 즉, A가격에 달걀을 판다고 하면 Pi가 A가격보다 크거나 같은 모든 고객은 달걀을 산다는 뜻이다. (물론 달걀 총 수량을 초과하여 팔 수 는 없다)\n",
    "\n",
    "문제는 이러한 경래를 도와 최대 수익을 올릴 수 있는 달걀의 가장 낮은 가격을 책정하는 것이다.\n",
    "\n",
    "\n",
    "\n",
    "## 입력\n",
    "\n",
    "첫째 줄에 정수 N(1 ≤ N ≤ 1,000)과 M(1 ≤ M ≤ 1,000)이 입력된다. 둘째 줄부터 M+1번째 줄까지 i+1번째 줄에는 Pi(1 ≤ Pi ≤ 1,000,000)가 입력된다.\n",
    "\n",
    "\n",
    "## 출력\n",
    "\n",
    "첫째 줄에 경래가 책정한 가격과 이 가격으로 올릴 수 있는 수익을 출력한다.\n",
    "\n",
    "\n",
    "\n",
    "<br/>\n",
    "\n",
    "\n",
    "\n",
    "### 예제 입력1\n",
    "\n",
    "```\n",
    "5 4\n",
    "2\n",
    "8\n",
    "10\n",
    "7\n",
    "```\n",
    "\n",
    "### 예제 출력1\n",
    "\n",
    "```\n",
    "7 21\n",
    "```\n",
    "\n",
    "### 알고리즘 분류\n",
    "\n",
    "- 그리다 알고리즘\n",
    "- 정렬\n"
   ]
  },
  {
   "cell_type": "markdown",
   "metadata": {},
   "source": [
    "---"
   ]
  },
  {
   "cell_type": "markdown",
   "metadata": {},
   "source": [
    "## 풀이 방법 \n",
    "\n",
    "- a = 10 / b = 9 일 때,\n",
    "    - |a - b + T| 가 최소가 되어야 한다.\n",
    "    - 10 - 9 + T \n",
    "    - 1 + T 가 최소값이려면, 0이다.\n",
    "    - 0이 되기 위해서는 T= -1 이면 된다.\n",
    "- a = 20 / b = 18 일 때,\n",
    "    - |a - b + T|이면,\n",
    "    - | 20 - 18 + T |=0\n",
    "    = | 2 + T | 이므로, T=-3\n",
    "- a = 30 / b = 25 일 때,\n",
    "    - |a - b + T|이면,\n",
    "    - | 30 - 25 + T |이면,\n",
    "    - T=-5\n",
    "    \n",
    "### 알고리즘 설계 - 구현 \n",
    "\n",
    "\n",
    "     \n",
    "### 알고리즘의 복잡도\n",
    "\n",
    "- deque의 시간 복잡도는 $O$(1)"
   ]
  },
  {
   "cell_type": "markdown",
   "metadata": {},
   "source": [
    "### 처음 문제 풀이\n",
    "\n",
    "- 기준을 잘 못 생각했다.\n",
    "- 문제를 풀 때의 기준은 언제 2번 연산을 할지, 3번을 연산을 할지가 중요하다\n",
    "- 그 기준을 해야 하는 것이 중간의 길이를 지정하여 낮은 수면\n",
    "    - 오른쪽으로 이동\n",
    "- 그 기준이 높은 수면, \n",
    "    - 왼쪽으로 이동을 해야한다."
   ]
  },
  {
   "cell_type": "code",
   "execution_count": 1,
   "metadata": {},
   "outputs": [
    {
     "name": "stdout",
     "output_type": "stream",
     "text": [
      "5 4\n"
     ]
    }
   ],
   "source": [
    "# 달걀의 개수 n \n",
    "# 잠재 고객 m\n",
    "n,m=map(int,input().split())"
   ]
  },
  {
   "cell_type": "code",
   "execution_count": null,
   "metadata": {},
   "outputs": [],
   "source": [
    "N, M = map(int, input().split())\n",
    "li = sorted([int(input()) for _ in range(M)])\n",
    "max_p = max_b = 0\n",
    "for i in range(M):\n",
    "    t = li[i] * ((M-i) if M-i <= N else N)\n",
    "    if max_b < t:\n",
    "        max_b = t\n",
    "        max_p = li[i]\n",
    "print(max_p, max_b)"
   ]
  }
 ],
 "metadata": {
  "kernelspec": {
   "display_name": "Python 3 (ipykernel)",
   "language": "python",
   "name": "python3"
  },
  "language_info": {
   "codemirror_mode": {
    "name": "ipython",
    "version": 3
   },
   "file_extension": ".py",
   "mimetype": "text/x-python",
   "name": "python",
   "nbconvert_exporter": "python",
   "pygments_lexer": "ipython3",
   "version": "3.9.7"
  }
 },
 "nbformat": 4,
 "nbformat_minor": 4
}
