{
 "cells": [
  {
   "cell_type": "markdown",
   "metadata": {},
   "source": [
    "# [수 찾기](https://www.acmicpc.net/problem/1920)\n",
    "\n",
    "\n",
    "<br>\n",
    "<br>\n",
    "\n",
    "## 문제\n",
    "\n",
    "N개의 정수 A[1], A[2], …, A[N]이 주어져 있을 때, 이 안에 X라는 정수가 존재하는지 알아내는 프로그램을 작성하시오.\n",
    "\n",
    "\n",
    "## 입력\n",
    "\n",
    "첫째 줄에 자연수 N(1 ≤ N ≤ 100,000)이 주어진다. 다음 줄에는 N개의 정수 A[1], A[2], …, A[N]이 주어진다. 다음 줄에는 M(1 ≤ M ≤ 100,000)이 주어진다. 다음 줄에는 M개의 수들이 주어지는데, 이 수들이 A안에 존재하는지 알아내면 된다. 모든 정수의 범위는 -231 보다 크거나 같고 2 $^31$보다 작다.\n",
    "\n",
    "\n",
    "\n",
    "## 출력\n",
    "\n",
    "M개의 줄에 답을 출력한다. 존재하면 1을, 존재하지 않으면 0을 출력한다.\n",
    "\n",
    "\n",
    "## 예제 입력1\n",
    "\n",
    "```\n",
    "5\n",
    "4 1 5 2 3\n",
    "5\n",
    "1 3 7 9 5\n",
    "```\n",
    "\n",
    "## 예제 출력1\n",
    "\n",
    "```\n",
    "1\n",
    "1\n",
    "0\n",
    "0\n",
    "1\n",
    "```\n",
    "\n",
    "## 알고리즘 분류\n",
    "\n",
    "- 자료구조\n",
    "- 이분 탐색"
   ]
  },
  {
   "cell_type": "markdown",
   "metadata": {},
   "source": [
    "---"
   ]
  },
  {
   "cell_type": "markdown",
   "metadata": {},
   "source": [
    "## 풀이 방법 1)\n",
    "\n",
    ": 시간 초과 발생\n",
    "\n",
    "왜냐하면 n과 m이 1부터 10만 사이로 주어지기 때문에 시간이 오래걸릴수 밖에 없다."
   ]
  },
  {
   "cell_type": "code",
   "execution_count": 33,
   "metadata": {},
   "outputs": [
    {
     "name": "stdout",
     "output_type": "stream",
     "text": [
      "5\n",
      "4 1 5 2 3\n",
      "5\n",
      "1 4 7 9 6\n",
      "1\n",
      "1\n",
      "0\n",
      "0\n",
      "0\n"
     ]
    }
   ],
   "source": [
    "n=int(input())\n",
    "num_n=list(map(int, input().split()))\n",
    "m=int(input())\n",
    "num_m=list(map(int,input().split()))\n",
    "for n in num_m:\n",
    "    if num_n.count(n)==1:\n",
    "        print(1)\n",
    "    else:\n",
    "        print(0)"
   ]
  },
  {
   "cell_type": "markdown",
   "metadata": {},
   "source": [
    "## 풀이 방법 2)"
   ]
  },
  {
   "cell_type": "code",
   "execution_count": 2,
   "metadata": {},
   "outputs": [
    {
     "name": "stdout",
     "output_type": "stream",
     "text": [
      "5\n",
      "4 1 5 2 3\n",
      "5\n",
      "1 4 7 9 6\n",
      "1\n",
      "1\n",
      "0\n",
      "0\n",
      "0\n"
     ]
    }
   ],
   "source": [
    "def binary_search(el, li, start=0, end=None):\n",
    "    if end==None:\n",
    "        end = len(li)-1\n",
    "    if start > end:\n",
    "        return 0\n",
    "    mid = (start + end)//2\n",
    "    \n",
    "    if el==li[mid]:\n",
    "        return 1\n",
    "    elif el < li[mid]:\n",
    "        end=mid-1\n",
    "    elif el > li[mid]:\n",
    "        start=mid+1\n",
    "    return binary_search(el,li,start,end)\n",
    "\n",
    "n=int(input())\n",
    "n_li = list(map(int,input().split()))\n",
    "sorted_li = sorted(n_li)\n",
    "\n",
    "m = int(input())\n",
    "m_li = list(map(int,input().split()))\n",
    "\n",
    "for i in range(len(m_li)):\n",
    "    print(binary_search(m_li[i],sorted_li))"
   ]
  },
  {
   "cell_type": "markdown",
   "metadata": {},
   "source": [
    "알고리즘 분류가 이분 탐색으로 되어 있기때문에 다음과 같이 푼다. binary_search라는 함술ㄹ 만들어서 파라미터로 el,li,start,end가 주어진다.\n",
    "\n",
    "el가 li라는 리스트에 들어있는지 계속 반으로 나눠가면서 확인하는 함수이다.\n",
    "\n",
    "li의 중앙 인덱스(mid)를 찾아서 이것보다 작은 곳에 위치하면 end를 mid-1로 바꿔준다.\n",
    "\n",
    "반대로 이것보다 크게되면 start를 mid+1로 바꿔주고 찾으려는 수가 mid와 같다면 그대로 1을 리턴해준다.\n",
    "\n",
    "만약 `el`가 `li`에 속하지 않다면 `binary_search`함수가 진행되면서 `el`를 찾기 위해 리스트가 계속 반으로 줄어들고 이 과정이 반복되다가\n",
    "\n",
    "`start` 인덱스가 `ene` 인덱스보다 커져버리고 이 뜻은 리스트가 반으로 나눠지면서 탐색을 했지만 `el`를 발견하지 못했다는 의미이므로 `0`을 리턴해준다.\n",
    "\n",
    "이런식으로 재귀를 이용해서 풀어주면 계속해서 탐색범위가 반으로 줄어들기 때문에\n",
    "\n",
    "시간복잡도를 줄일 수 있다고 생각했다.\n",
    "\n",
    "코드를 작성하다보니 내가 만든 `binary_search`는 정렬된 리스트에서만 사용할수있다는걸\n",
    "\n",
    "뒤늦게 깨닫고 밑에서 입력받은 `n_li`를 `sorted`를 이용해 오름차순으로 정렬해주고\n",
    "\n",
    "for문을 이용해 `m_li`의 인덱스들이 `li`에 있는지 `binary_search`함수를 이용해 출력하였다."
   ]
  },
  {
   "cell_type": "markdown",
   "metadata": {},
   "source": [
    "## 풀이 방법 2)\n",
    "\n",
    "### 문제 풀이 - 핵심 아이디어\n",
    "\n",
    "1. 특정 정수의 등장 여부만을 간단히 체크하면 된다.\n",
    "2. Python에서는 dictionary 자료형을 해시처럼 사용할 수 있다.\n",
    "3. 본 문제는 set자료형을 이용해 더욱 간단하게 풀 수 있다.\n",
    "\n",
    "\n",
    "- n은 100,000까지, m도 100,000까지\n",
    "    - for문을 통해서 비교하는건 오래 걸리지 않을까?\n",
    "    \n",
    "- 리스트에 중복이 허용이 되는가?\n",
    "\n",
    "- 중요한 것은 정수 범위 -$2^3$$^1$ 보다 크거나 같고 $2^3$$^1$ 보다 작다라는 말이다."
   ]
  },
  {
   "cell_type": "code",
   "execution_count": 6,
   "metadata": {},
   "outputs": [
    {
     "name": "stdout",
     "output_type": "stream",
     "text": [
      "5\n",
      "4 1 5 2 3\n",
      "5\n",
      "1 3 7 9 5\n",
      "1\n",
      "0\n",
      "1\n",
      "0\n",
      "1\n"
     ]
    }
   ],
   "source": [
    "n=int(input())\n",
    "n_num = list(map(int,input().split()))\n",
    "m=int(input())\n",
    "m_num = list(map(int, input().split()))\n",
    "\n",
    "n_num.sort()\n",
    "flag=0\n",
    "while flag<len(n_num):\n",
    "    if n_num[flag] in m_num:\n",
    "        print(1)\n",
    "        flag+=1\n",
    "    elif n_num[flag] not in m_num:\n",
    "        print(0)\n",
    "        flag+=1\n",
    "\n"
   ]
  },
  {
   "cell_type": "markdown",
   "metadata": {},
   "source": [
    "- 특정한 원소가 어떤 집합안에 포함되어 있는지 판단하는 문제의 경우 set자료형을 쓴다."
   ]
  },
  {
   "cell_type": "code",
   "execution_count": 7,
   "metadata": {},
   "outputs": [
    {
     "name": "stdout",
     "output_type": "stream",
     "text": [
      "5\n",
      "1 2 3 4 5\n",
      "5\n",
      "1 3 4 5\n",
      "1\n",
      "1\n",
      "1\n",
      "1\n"
     ]
    }
   ],
   "source": [
    "n=int(input())\n",
    "n_num = set(map(int,input().split()))\n",
    "m=int(input())\n",
    "m_num = list(map(int, input().split()))\n",
    "\n",
    "\n",
    "for i in m_num:\n",
    "    if i not in n_num:\n",
    "        print('0')\n",
    "    else:\n",
    "        print('1')"
   ]
  }
 ],
 "metadata": {
  "kernelspec": {
   "display_name": "Python 3 (ipykernel)",
   "language": "python",
   "name": "python3"
  },
  "language_info": {
   "codemirror_mode": {
    "name": "ipython",
    "version": 3
   },
   "file_extension": ".py",
   "mimetype": "text/x-python",
   "name": "python",
   "nbconvert_exporter": "python",
   "pygments_lexer": "ipython3",
   "version": "3.9.7"
  }
 },
 "nbformat": 4,
 "nbformat_minor": 4
}
