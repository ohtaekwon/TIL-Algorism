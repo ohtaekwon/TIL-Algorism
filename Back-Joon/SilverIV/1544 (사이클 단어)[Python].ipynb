{
 "cells": [
  {
   "cell_type": "markdown",
   "metadata": {},
   "source": [
    "# [사이클 단어](https://www.acmicpc.net/problem/1544)\n",
    "\n",
    "\n",
    "<br/>\n",
    "<br/>\n",
    "\n",
    "## 문제\n",
    "\n",
    "\n",
    "사이클 단어는 어떤 단어를 원형 모양으로 차례대로 쓴 것이다. 따라서, 어떤 단어를 이렇게 쓴 후에 임의의 단어를 고른다. 그 후에 시계방향으로 차례대로 읽으면 그 것이 단어가 된다. 만약에 단어 A와 단어 B가 있을 때, 단어 B를 원형으로 써서, 단어 A와 같이 읽을 수 있으면, 두 단어는 같은 단어이다. 따라서, picture와 turepic은 같은 단어다.\n",
    "\n",
    "N개의 단어가 주어졌을 때, 서로 다른 단어가 총 몇 개인지 구하는 프로그램을 작성하시오.\n",
    "\n",
    "\n",
    "## 입력\n",
    "\n",
    "\n",
    "첫째 줄에 단어의 개수 N이 주어진다. 둘째 줄부터 단어가 한 줄에 하나씩 주어진다. 단어는 영어 소문자로만 이루어져 있다. N은 50보다 작거나 같은 자연수이며, 단어의 길이는 최대 50이다.\n",
    "\n",
    "\n",
    "## 출력\n",
    "\n",
    "첫째 줄에 서로 다른 단어가 몇 개인지 출력한다.\n",
    "\n",
    "\n",
    "<br/><br/>\n",
    "\n",
    "### 예제 입력1\n",
    "\n",
    "```\n",
    "5\n",
    "picture\n",
    "turepic\n",
    "icturep\n",
    "word\n",
    "ordw\n",
    "```\n",
    "\n",
    "### 예제 출력1\n",
    "\n",
    "```\n",
    "2\n",
    "```\n",
    "\n",
    "<br/>\n",
    "\n",
    "### 알고리즘 분류 \n",
    "\n",
    "- 구현\n",
    "- 자료구조\n",
    "- 문자열\n",
    "- 브루트포스 알고리즘\n",
    "- 해시를 사용한 집합과 맵\n"
   ]
  },
  {
   "cell_type": "markdown",
   "metadata": {},
   "source": [
    "---"
   ]
  },
  {
   "cell_type": "markdown",
   "metadata": {},
   "source": [
    "## 풀이 방법 \n",
    "\n",
    "\n",
    "### 알고리즘 설계 - 구현 \n",
    "\n",
    "- set 자료형을 통해서 교집합을 구한다.\n",
    "- 중복이 없으므로, set()을 써도 된다.\n",
    "    \n",
    "### 알고리즘의 복잡도\n",
    "\n",
    "- $O$(len(a) + len(b))"
   ]
  },
  {
   "cell_type": "markdown",
   "metadata": {},
   "source": [
    "### 코드 풀이 1)\n",
    "\n",
    "- 시간 초과가 나왔다.\n",
    "- n과 m은 500,000까지 이다.\n",
    "- 하나씩 꺼내서 비교하므로, 최악의 경우 길이가 500,000인 리스트 두 개를 비교하게 된다.\n"
   ]
  },
  {
   "cell_type": "code",
   "execution_count": 2,
   "metadata": {},
   "outputs": [
    {
     "name": "stdout",
     "output_type": "stream",
     "text": [
      "1\n",
      "picture\n"
     ]
    }
   ],
   "source": [
    "n=int(input())\n",
    "\n",
    "words=[]\n",
    "dict={}\n",
    "word_dict=[]\n",
    "a={}\n",
    "\n",
    "for _ in range(n):\n",
    "    words.append(list(input()))\n",
    "    \n",
    "    for word in words:\n",
    "        for idx,w in enumerate(word):\n",
    "            a[word[idx-1]]=word[idx]\n",
    "    word_dict.append(a)\n",
    "    words.pop(0)\n",
    "    a={}\n",
    "\n"
   ]
  },
  {
   "cell_type": "code",
   "execution_count": 3,
   "metadata": {},
   "outputs": [
    {
     "data": {
      "text/plain": [
       "[{'e': 'p', 'p': 'i', 'i': 'c', 'c': 't', 't': 'u', 'u': 'r', 'r': 'e'}]"
      ]
     },
     "execution_count": 3,
     "metadata": {},
     "output_type": "execute_result"
    }
   ],
   "source": [
    "word_dict"
   ]
  },
  {
   "cell_type": "code",
   "execution_count": 24,
   "metadata": {},
   "outputs": [
    {
     "name": "stdout",
     "output_type": "stream",
     "text": [
      "1\n",
      "ttt\n"
     ]
    }
   ],
   "source": [
    "class word(object):\n",
    "    def __init__(self,name):\n",
    "        self.name = name\n",
    "\n",
    "    def __str__(self):\n",
    "        return self.name\n",
    "\n",
    "    def __repr__(self):\n",
    "        return \"'\"+self.name+\"'\"\n",
    "\n",
    "\n",
    "\n",
    "tmp_dict = {}\n",
    "\n",
    "n=int(input())\n",
    "\n",
    "for _ in range(n):\n",
    "    words.append(list(input()))\n",
    "    \n",
    "for word in words:\n",
    "    for idx,w in enumerate(word):\n",
    "        tmp_dict[word[idx-1]]=word[idx]"
   ]
  },
  {
   "cell_type": "code",
   "execution_count": 12,
   "metadata": {},
   "outputs": [
    {
     "ename": "KeyError",
     "evalue": "<class '__main__.person'>",
     "output_type": "error",
     "traceback": [
      "\u001b[1;31m---------------------------------------------------------------------------\u001b[0m",
      "\u001b[1;31mKeyError\u001b[0m                                  Traceback (most recent call last)",
      "\u001b[1;32m~\\AppData\\Local\\Temp/ipykernel_10860/778292990.py\u001b[0m in \u001b[0;36m<module>\u001b[1;34m\u001b[0m\n\u001b[1;32m----> 1\u001b[1;33m \u001b[0mtmp_dict\u001b[0m\u001b[1;33m[\u001b[0m\u001b[0mperson\u001b[0m\u001b[1;33m]\u001b[0m\u001b[1;33m\u001b[0m\u001b[1;33m\u001b[0m\u001b[0m\n\u001b[0m",
      "\u001b[1;31mKeyError\u001b[0m: <class '__main__.person'>"
     ]
    }
   ],
   "source": [
    "class word(object):\n",
    "    def __init__(self,name):\n",
    "        self.name = name\n",
    "\n",
    "    def __str__(self):\n",
    "        return self.name\n",
    "\n",
    "    def __repr__(self):\n",
    "        return \"'\"+self.name+\"'\"\n",
    "    \n",
    "    \n",
    "n=int(input())\n",
    "\n",
    "for _ in range(n):\n",
    "    words.append(list(input()))\n",
    "    \n",
    "tmp_dict[word('t')]='t'\n",
    "tmp_dict[word('t')]='t'\n",
    "tmp_dict[word('t')]='t'"
   ]
  },
  {
   "cell_type": "code",
   "execution_count": null,
   "metadata": {},
   "outputs": [],
   "source": [
    "res=[[False for col in range(n)] for row in range(n)]\n",
    "cnt=0\n",
    "for i in range(len(word_dict)):\n",
    "    for j in range(len(word_dict)):\n",
    "        if word_dict[i]==word_dict[j]:\n",
    "            res[i][j]=True\n",
    "            \n"
   ]
  },
  {
   "cell_type": "code",
   "execution_count": null,
   "metadata": {},
   "outputs": [],
   "source": [
    "res"
   ]
  },
  {
   "cell_type": "code",
   "execution_count": null,
   "metadata": {},
   "outputs": [],
   "source": [
    "for r in res:\n",
    "    for i in range(len(r)):\n",
    "        "
   ]
  },
  {
   "cell_type": "markdown",
   "metadata": {},
   "source": [
    "### 코드 풀이 2)"
   ]
  },
  {
   "cell_type": "code",
   "execution_count": null,
   "metadata": {},
   "outputs": [],
   "source": [
    "import sys\n",
    "from collections import deque\n",
    "\n",
    "N = int(sys.stdin.readline())\n",
    "w_li = list()\n",
    "for i in range(N):\n",
    "    w_li.append(sys.stdin.readline().rstrip())\n",
    "\n",
    "for i in range(N):\n",
    "    dq = deque(w_li[i])\n",
    "    while True:\n",
    "        dq.append(dq.popleft())\n",
    "        save = \"\".join(dq)\n",
    "        if save == w_li[i]:\n",
    "            break\n",
    "\n",
    "        if save in w_li:\n",
    "            idx = w_li.index(save)\n",
    "            w_li.pop(idx)\n",
    "            w_li.insert(idx, w_li[i])\n",
    "\n",
    "w_li = set(w_li)\n",
    "print(len(w_li))"
   ]
  },
  {
   "cell_type": "code",
   "execution_count": null,
   "metadata": {},
   "outputs": [],
   "source": [
    "from collections import deque\n",
    "\n",
    "N = int(input())\n",
    "w_li = list()\n",
    "for i in range(N):\n",
    "    w_li.append(input())\n",
    "\n",
    "for i in range(N):\n",
    "    dq = deque(w_li[i])\n",
    "    while True:\n",
    "        dq.append(dq.popleft())\n",
    "        save = \"\".join(dq)\n",
    "        if save == w_li[i]:\n",
    "            break\n",
    "\n",
    "        if save in w_li:\n",
    "            idx = w_li.index(save)\n",
    "            w_li.pop(idx)\n",
    "            w_li.insert(idx, w_li[i])\n",
    "\n",
    "w_li = set(w_li)\n",
    "print(len(w_li))"
   ]
  },
  {
   "cell_type": "markdown",
   "metadata": {},
   "source": [
    "# "
   ]
  }
 ],
 "metadata": {
  "kernelspec": {
   "display_name": "Python 3 (ipykernel)",
   "language": "python",
   "name": "python3"
  },
  "language_info": {
   "codemirror_mode": {
    "name": "ipython",
    "version": 3
   },
   "file_extension": ".py",
   "mimetype": "text/x-python",
   "name": "python",
   "nbconvert_exporter": "python",
   "pygments_lexer": "ipython3",
   "version": "3.9.7"
  }
 },
 "nbformat": 4,
 "nbformat_minor": 4
}
