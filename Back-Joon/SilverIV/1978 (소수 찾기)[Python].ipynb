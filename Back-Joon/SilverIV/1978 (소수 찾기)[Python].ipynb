{
 "cells": [
  {
   "cell_type": "markdown",
   "metadata": {},
   "source": [
    "# 소수 찾기\n",
    "\n",
    "\n",
    "<br>\n",
    "<br>\n",
    "\n",
    "## 문제\n",
    "\n",
    "---\n",
    "주어진 수 N개 중에서 소수가 몇 개인지 찾아서 출력하는 프로그램을 작성하시오.\n",
    "\n",
    "<br>\n",
    "\n",
    "\n",
    "### 입력\n",
    "\n",
    "---\n",
    "첫 줄에 수의 개수 N이 주어진다. N은 100이하이다. 다음으로 N개의 수가 주어지는데 수는 1,000 이하의 자연수이다.\n",
    "\n",
    "<br>\n",
    "\n",
    "### 출력\n",
    "---\n",
    "주어진 수들 중 소수의 개수를 출력한다.\n",
    "\n"
   ]
  },
  {
   "cell_type": "markdown",
   "metadata": {},
   "source": [
    "### 예제 입력1\n",
    "\n",
    "```\n",
    "4\n",
    "1 3 5 7\n",
    "```\n",
    "\n",
    "### 예제 출력1\n",
    "\n",
    "```\n",
    "3\n",
    "```"
   ]
  },
  {
   "cell_type": "markdown",
   "metadata": {},
   "source": [
    "---"
   ]
  },
  {
   "cell_type": "markdown",
   "metadata": {},
   "source": [
    "### 풀이 1)\n",
    "\n",
    "_소수는 영어로 Prime Number라고 부르며 1과 자기자신 외에는 어떠한 수로도 나누어 떨어지지 않는 수를 말한다._\n",
    "\n"
   ]
  },
  {
   "cell_type": "code",
   "execution_count": 13,
   "metadata": {},
   "outputs": [
    {
     "name": "stdout",
     "output_type": "stream",
     "text": [
      "4\n",
      "1 3 5 7\n",
      "3\n"
     ]
    }
   ],
   "source": [
    "# 소수를 구하는 함수\n",
    "def prime_num(n):\n",
    "    for i in range(2,n):\n",
    "        if n%i ==0:\n",
    "            return False # i로 나누어 떨어지면 소수가 아니므로 False 리턴\n",
    "    return True # False가 리턴되지 않고 for문을 빠져나왔다면 소수이므로 True 리턴\n",
    "\n",
    "# n 개의 자리수\n",
    "n=int(input())\n",
    "\n",
    "# n개의 수를 담은 리스트\n",
    "li=list(map(int,input().split()))\n",
    "\n",
    "# 소수의 개수를 할당하는 변수\n",
    "cnt=0\n",
    "\n",
    "# li 안의 원소들을 반복할때\n",
    "for num in li:\n",
    "    # 원소가 1이 아니고 소수를 구하는 함수에서 True가 나온다면\n",
    "    if num!=1 and prime_num(num)==True:\n",
    "        # 소수의 개수 +1\n",
    "        cnt+=1\n",
    "        \n",
    "# 소수의 총 개수를 출력하시오\n",
    "print(cnt)"
   ]
  },
  {
   "cell_type": "markdown",
   "metadata": {},
   "source": [
    "#### 1.1. 소수를 판별하는 알고리즘\n",
    "\n",
    "- 특정 수 n이 소수인지 아닌지 구하는 법은 2부터 n-1까지의 수로 해당 수를 나눠보고, 이 과정에서 어떠한 수에 의해 나누어 떨어지는지 확인하는 것이다.\n",
    "\n",
    "- 나누어 떨어지지 않는다면 해당 수는 소수인 것이고, 도중에 다른 수에 의해 나누어 떨어진다면 그 수는 소수가 아니다."
   ]
  },
  {
   "cell_type": "code",
   "execution_count": 6,
   "metadata": {},
   "outputs": [],
   "source": [
    "# 소수를 구하는 함수\n",
    "def prime_num(n):\n",
    "    for i in range(2,n):\n",
    "        if n%i ==0:\n",
    "            return False # i로 나누어 떨어지면 소수가 아니므로 False 리턴\n",
    "    return True # False가 리턴되지 않고 for문을 빠져나왔다면 소수이므로 True 리턴"
   ]
  },
  {
   "cell_type": "markdown",
   "metadata": {},
   "source": [
    "<br>\n",
    "\n",
    "---\n",
    "\n",
    "<br>"
   ]
  },
  {
   "cell_type": "markdown",
   "metadata": {},
   "source": [
    "#### 1.2. 에라토스테네의 체\n",
    "\n",
    "우리는 위에서 특정 수 N이 주어졌을 때, 그 수가 소수인지 아닌지 판별하는 방법을 알아봤다.\n",
    "\n",
    " \n",
    "\n",
    "그런데 만약 여러 개의 수에 대하여 소수 판별을 해줘야하는 상황이라면 어떨까?\n",
    "\n",
    " \n",
    "\n",
    "예컨대 100 ~ 300 사이의 모든 소수들을 구해야하는 상황이라면 우리는 위의 방식을 이용해 하나하나 모든 수들을 판별해줘야할까?\n",
    "\n",
    " \n",
    "\n",
    "계산에 소요되는 시간과 수고스러움을 생각해봤을 때 다른 방법이 필요해보인다.\n",
    "\n",
    " \n",
    "\n",
    "그리고 이 상황에서 사용할 수 있는 알고리즘 중 하나가 에라토스테네스의 체 방식이다.\n",
    "\n",
    " \n",
    "\n",
    "에라토스테네스의 체 알고리즘의 작동방식은 다음과 같다.\n",
    "\n",
    " \n",
    "\n",
    "1. 2 ~ N까지의 범위가 담긴 배열을 만든다.\n",
    "\n",
    " \n",
    "\n",
    "2. 해당 배열 내의 가장 작은 수 i 부터 시작하여, i의 배수들을 해당 배열에서 지워준다. (i는 소수이기 때문에 i자체는 지우지 않는다.)\n",
    "\n",
    " \n",
    "\n",
    "3. 주어진 범위 내에서 i의 배수가 모두 지워지면 i 다음으로 작은 수의 배수를 같은 방식으로 배열에서 지워준다.\n",
    "\n",
    " \n",
    "\n",
    "4. 더 이상 반복할 수 없을 때까지 2, 3번의 과정을 반복해준다.\n",
    "\n",
    " \n",
    "\n",
    " \n",
    "\n",
    "에라토스테네스의 체 방식을 코드로 구현하면 다음과 같다."
   ]
  },
  {
   "cell_type": "code",
   "execution_count": 14,
   "metadata": {},
   "outputs": [
    {
     "name": "stdout",
     "output_type": "stream",
     "text": [
      "2 3 5 7 11 13 17 19 23 29 31 37 41 43 47 "
     ]
    }
   ],
   "source": [
    "def is_prime_num(n):\n",
    "    arr = [True] * (n + 1) # 특정 수가 지워졌는지 아닌지 확인하기 위한 배열\n",
    "    arr[0] = False\n",
    "    arr[1] = False\n",
    "\n",
    "    for i in range(2, n + 1):\n",
    "        if arr[i] == True: # 특정 수가 지워지지 않았다면 (소수여서)\n",
    "            j = 2\n",
    "\n",
    "            while (i * j) <= n:\n",
    "                arr[i*j] = False # i의 배수의 값을 False로 지워준다.\n",
    "                j += 1\n",
    "\n",
    "    return arr\n",
    "\n",
    "arr = is_prime_num(50) # 0 ~ 50중 소수를 구하기 위한 함수\n",
    "\n",
    "for i in range(len(arr)):\n",
    "    if arr[i] == True:\n",
    "        print(i, end=' ')"
   ]
  },
  {
   "cell_type": "code",
   "execution_count": null,
   "metadata": {},
   "outputs": [],
   "source": []
  }
 ],
 "metadata": {
  "kernelspec": {
   "display_name": "Python 3 (ipykernel)",
   "language": "python",
   "name": "python3"
  },
  "language_info": {
   "codemirror_mode": {
    "name": "ipython",
    "version": 3
   },
   "file_extension": ".py",
   "mimetype": "text/x-python",
   "name": "python",
   "nbconvert_exporter": "python",
   "pygments_lexer": "ipython3",
   "version": "3.9.7"
  }
 },
 "nbformat": 4,
 "nbformat_minor": 4
}
