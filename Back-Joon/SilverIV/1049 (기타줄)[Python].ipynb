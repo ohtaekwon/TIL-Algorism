{
 "cells": [
  {
   "cell_type": "markdown",
   "metadata": {},
   "source": [
    "# [기타줄](https://www.acmicpc.net/problem/1049)\n",
    "\n",
    "\n",
    "<br/>\n",
    "<br/>\n",
    "\n",
    "## 문제\n",
    "\n",
    "Day Of Mourning의 기타리스트 강토가 사용하는 기타에서 N개의 줄이 끊어졌다. 따라서 새로운 줄을 사거나 교체해야 한다. 강토는 되도록이면 돈을 적게 쓰려고 한다. 6줄 패키지를 살 수도 있고, 1개 또는 그 이상의 줄을 낱개로 살 수도 있다.\n",
    "\n",
    "끊어진 기타줄의 개수 N과 기타줄 브랜드 M개가 주어지고, 각각의 브랜드에서 파는 기타줄 6개가 들어있는 패키지의 가격, 낱개로 살 때의 가격이 주어질 때, 적어도 N개를 사기 위해 필요한 돈의 수를 최소로 하는 프로그램을 작성하시오.\n",
    "\n",
    "## 입력\n",
    "\n",
    "첫째 줄에 N과 M이 주어진다. N은 100보다 작거나 같은 자연수이고, M은 50보다 작거나 같은 자연수이다. 둘째 줄부터 M개의 줄에는 각 브랜드의 패키지 가격과 낱개의 가격이 공백으로 구분하여 주어진다. 가격은 0보다 크거나 같고, 1,000보다 작거나 같은 정수이다.\n",
    "\n",
    "## 출력\n",
    "\n",
    "첫째 줄에 기타줄을 적어도 N개 사기 위해 필요한 돈의 최솟값을 출력한다.\n",
    "\n",
    "\n",
    "## 예제 입력1\n",
    "\n",
    "```\n",
    "4 2\n",
    "12 3\n",
    "15 4\n",
    "```\n",
    "\n",
    "## 예제 출력1\n",
    "\n",
    "```\n",
    "12\n",
    "```\n",
    "\n",
    "## 알고리즘 분류\n",
    "\n",
    "- 수학\n",
    "- 그리디 알고리즘"
   ]
  },
  {
   "cell_type": "markdown",
   "metadata": {},
   "source": [
    "---"
   ]
  },
  {
   "cell_type": "markdown",
   "metadata": {},
   "source": [
    "## 풀이 방법\n",
    "\n",
    "- 끊어진 기타줄의 개수 N개\n",
    "- 기타줄 브랜드 M개\n",
    "- 패키지 1개는 6개\n",
    "- 끊어진 기타줄의 개수 N개를 사기 위해 필요한 최소의 돈\n",
    "- 1개의 패키지에서 1개의 가격 brand[0]//6\n",
    "\n",
    "### 문제 해결 방법 - 아이디어\n",
    "\n",
    "- 이 문제의 핵심은 되도록 돈을 적게 쓰는 것\n",
    "- 6개 패키지 기타줄을 사서 기타줄이 남더라도 낱개로 사는것보다 싸다면 6개짜리를 택하는게 핵심이다.\n",
    "\n",
    "- 패키지의 최소값을 구한다.\n",
    "- 낱개의 최소값을 구한다.\n"
   ]
  },
  {
   "cell_type": "markdown",
   "metadata": {},
   "source": [
    "### 풀이 코드 1)\n",
    "\n",
    "- 틀렸다고 나온다....\n",
    "- 반례에서 비교해보면\n",
    "    - 16 1\n",
    "    - 7 1\n",
    "    - 답 : 16이 되어야 하는데\n",
    "    - 18이 출력되었다."
   ]
  },
  {
   "cell_type": "code",
   "execution_count": 72,
   "metadata": {},
   "outputs": [
    {
     "name": "stdout",
     "output_type": "stream",
     "text": [
      "16 1\n",
      "7 1\n",
      "18\n"
     ]
    }
   ],
   "source": [
    "# brand[0] = 패키지 가격 / brand[1] = 낱개 가격\n",
    "n,m = map(int,input().split())\n",
    "brand=[]\n",
    "price=0\n",
    "\n",
    "for _ in range(m):\n",
    "    brand.append(list(map(int,input().split())))\n",
    "    \n",
    "min_brand=sorted(brand,key=lambda x:x[1])[0][1]\n",
    "\n",
    "\n",
    "\n",
    "if n==6:\n",
    "    price=min(brand)[0]\n",
    "else:\n",
    "    while n>6:\n",
    "        price+=min(brand)[0]\n",
    "        n-=6\n",
    "    if n<6:\n",
    "        if (min_brand*n)>min(brand)[0]:\n",
    "            price+=min(brand)[0]\n",
    "        else:\n",
    "            price+=(min_brand*n)\n",
    "print(price)"
   ]
  },
  {
   "cell_type": "code",
   "execution_count": 68,
   "metadata": {},
   "outputs": [
    {
     "data": {
      "text/plain": [
       "2"
      ]
     },
     "execution_count": 68,
     "metadata": {},
     "output_type": "execute_result"
    }
   ],
   "source": [
    "min_brand"
   ]
  },
  {
   "cell_type": "code",
   "execution_count": 69,
   "metadata": {},
   "outputs": [
    {
     "data": {
      "text/plain": [
       "[[10, 3], [12, 2]]"
      ]
     },
     "execution_count": 69,
     "metadata": {},
     "output_type": "execute_result"
    }
   ],
   "source": [
    "brand"
   ]
  },
  {
   "cell_type": "code",
   "execution_count": 70,
   "metadata": {},
   "outputs": [
    {
     "data": {
      "text/plain": [
       "[10, 3]"
      ]
     },
     "execution_count": 70,
     "metadata": {},
     "output_type": "execute_result"
    }
   ],
   "source": [
    "min(brand)"
   ]
  },
  {
   "cell_type": "markdown",
   "metadata": {},
   "source": [
    "### 풀이 코드 2)"
   ]
  },
  {
   "cell_type": "code",
   "execution_count": null,
   "metadata": {},
   "outputs": [],
   "source": [
    "n, m = map(int, input().split())\n",
    "\n",
    "answer = 0\n",
    "price_list = []\n",
    "\n",
    "for _ in range(m):\n",
    "    price = tuple(map(int, input().split()))\n",
    "    price_list.append(price)\n",
    "\n",
    "six_list = sorted(price_list, key=lambda x : x[0])\n",
    "one_list = sorted(price_list, key=lambda x : x[1])\n",
    "\n",
    "if six_list[0][0] <= one_list[0][1] * 6:\n",
    "    answer = six_list[0][0] * (n // 6) + one_list[0][1] * (n % 6)\n",
    "    if six_list[0][0] < one_list[0][1] * (n % 6):\n",
    "        answer = six_list[0][0] * (n//6 + 1)\n",
    "else:\n",
    "    answer = one_list[0][1] * n\n",
    "\n",
    "print(answer)\n"
   ]
  }
 ],
 "metadata": {
  "kernelspec": {
   "display_name": "Python 3 (ipykernel)",
   "language": "python",
   "name": "python3"
  },
  "language_info": {
   "codemirror_mode": {
    "name": "ipython",
    "version": 3
   },
   "file_extension": ".py",
   "mimetype": "text/x-python",
   "name": "python",
   "nbconvert_exporter": "python",
   "pygments_lexer": "ipython3",
   "version": "3.9.7"
  }
 },
 "nbformat": 4,
 "nbformat_minor": 4
}
