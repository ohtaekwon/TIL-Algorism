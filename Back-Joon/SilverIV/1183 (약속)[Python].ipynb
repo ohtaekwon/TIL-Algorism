{
 "cells": [
  {
   "cell_type": "markdown",
   "metadata": {},
   "source": [
    "# [약속](https://www.acmicpc.net/problem/1183)\n",
    "\n",
    "<br/>\n",
    "<br/>\n",
    "\n",
    "## 문제\n",
    "\n",
    "마법사 N명이 머글 문화를 이해하기 위해 머글과 약속을 잡았다. 각 마법사는 한 명의 머글을 만날 예정이다. 하지만, 마법사는 약속 시간보다 빨리 또는 늦게 도착할 수 있기 때문에 고민에 빠졌다. 결국 기다리는 시간을 최소화 하기 위해 모든 약속 시간을 T씩 미루려고 한다. 기다리는 시간은 먼저 도착한 사람이 늦게 도착한 사람이 도착할 때까지 기다리는 시간을 의미한다.\n",
    "\n",
    "마법사의 약속 시간은 A1, A2, ..., AN이고, 도착 시간은 B1, B2, ..., BN이다. 약속 시간을 T만큼 미루면, 기다리는 시간의 합은 |Ai + T - Bi|의 합과 같다. 기다리는 시간의 합이 최소가 되는 서로 다른 정수 T의 개수를 구해보자.\n",
    "\n",
    "## 입력\n",
    "\n",
    "첫째 줄에 N이 주어진다. 다음 N개의 줄에 Ai, Bi가 주어진다.\n",
    "\n",
    "\n",
    "\n",
    "## 출력\n",
    "\n",
    "첫째 줄에 기다리는 시간의 합이 최소인 서로 다른 정수 T의 개수를 출력한다.\n",
    "\n",
    "\n",
    "<br/>\n",
    "\n",
    "## 제한\n",
    "\n",
    "- 1 ≤ N ≤ 50\n",
    "- 1 ≤ Ai, Bi ≤ 10$^9$\n",
    "\n",
    "### 예제 입력1\n",
    "\n",
    "```\n",
    "10 3\n",
    "1 2 3\n",
    "```\n",
    "\n",
    "### 예제 출력1\n",
    "\n",
    "```\n",
    "0\n",
    "```\n",
    "\n",
    "### 알고리즘 분류\n",
    "\n",
    "- 수학\n",
    "- 정렬\n"
   ]
  },
  {
   "cell_type": "markdown",
   "metadata": {},
   "source": [
    "---"
   ]
  },
  {
   "cell_type": "markdown",
   "metadata": {},
   "source": [
    "## 풀이 방법 \n",
    "\n",
    "- a = 10 / b = 9 일 때,\n",
    "    - |a - b + T| 가 최소가 되어야 한다.\n",
    "    - 10 - 9 + T \n",
    "    - 1 + T 가 최소값이려면, 0이다.\n",
    "    - 0이 되기 위해서는 T= -1 이면 된다.\n",
    "- a = 20 / b = 18 일 때,\n",
    "    - |a - b + T|이면,\n",
    "    - | 20 - 18 + T |=0\n",
    "    = | 2 + T | 이므로, T=-3\n",
    "- a = 30 / b = 25 일 때,\n",
    "    - |a - b + T|이면,\n",
    "    - | 30 - 25 + T |이면,\n",
    "    - T=-5\n",
    "    \n",
    "### 알고리즘 설계 - 구현 \n",
    "\n",
    "\n",
    "     \n",
    "### 알고리즘의 복잡도\n",
    "\n",
    "- deque의 시간 복잡도는 $O$(1)"
   ]
  },
  {
   "cell_type": "markdown",
   "metadata": {},
   "source": [
    "### 처음 문제 풀이\n",
    "\n",
    "- 기준을 잘 못 생각했다.\n",
    "- 문제를 풀 때의 기준은 언제 2번 연산을 할지, 3번을 연산을 할지가 중요하다\n",
    "- 그 기준을 해야 하는 것이 중간의 길이를 지정하여 낮은 수면\n",
    "    - 오른쪽으로 이동\n",
    "- 그 기준이 높은 수면, \n",
    "    - 왼쪽으로 이동을 해야한다."
   ]
  },
  {
   "cell_type": "code",
   "execution_count": 16,
   "metadata": {},
   "outputs": [
    {
     "name": "stdout",
     "output_type": "stream",
     "text": [
      "2\n",
      "10 11\n",
      "20 17\n",
      "5\n"
     ]
    }
   ],
   "source": [
    "n=int(input())\n",
    "\n",
    "temp=[]\n",
    "\n",
    "for _ in range(n):\n",
    "    a,b=map(int,input().split())\n",
    "    t=b-a\n",
    "    temp.append(t)\n",
    "    \n",
    "if n%2==1:\n",
    "    print(1)\n",
    "else:\n",
    "    temp=sorted(temp)\n",
    "    print((temp[-1]-temp[0])+1)\n",
    "#     temp=[i for i in range(temp[0],temp[-1]+1)]\n",
    "#     print(len(temp))"
   ]
  },
  {
   "cell_type": "code",
   "execution_count": 9,
   "metadata": {},
   "outputs": [
    {
     "data": {
      "text/plain": [
       "[-5, -4, -3, -2]"
      ]
     },
     "execution_count": 9,
     "metadata": {},
     "output_type": "execute_result"
    }
   ],
   "source": [
    "temp"
   ]
  },
  {
   "cell_type": "code",
   "execution_count": 14,
   "metadata": {},
   "outputs": [
    {
     "data": {
      "text/plain": [
       "4"
      ]
     },
     "execution_count": 14,
     "metadata": {},
     "output_type": "execute_result"
    }
   ],
   "source": [
    "(temp[-1]-temp[0])+1"
   ]
  },
  {
   "cell_type": "code",
   "execution_count": null,
   "metadata": {},
   "outputs": [],
   "source": []
  }
 ],
 "metadata": {
  "kernelspec": {
   "display_name": "Python 3 (ipykernel)",
   "language": "python",
   "name": "python3"
  },
  "language_info": {
   "codemirror_mode": {
    "name": "ipython",
    "version": 3
   },
   "file_extension": ".py",
   "mimetype": "text/x-python",
   "name": "python",
   "nbconvert_exporter": "python",
   "pygments_lexer": "ipython3",
   "version": "3.9.7"
  }
 },
 "nbformat": 4,
 "nbformat_minor": 4
}
