{
 "cells": [
  {
   "cell_type": "markdown",
   "metadata": {},
   "source": [
    "# [회전하는 큐](https://www.acmicpc.net/problem/1021)\n",
    "\n",
    "<br/>\n",
    "<br/>\n",
    "\n",
    "## 문제\n",
    "\n",
    "지민이는 N개의 원소를 포함하고 있는 양방향 순환 큐를 가지고 있다. 지민이는 이 큐에서 몇 개의 원소를 뽑아내려고 한다.\n",
    "\n",
    "지민이는 이 큐에서 다음과 같은 3가지 연산을 수행할 수 있다.\n",
    "\n",
    "1. 첫 번째 원소를 뽑아낸다. 이 연산을 수행하면, 원래 큐의 원소가 a1, ..., ak이었던 것이 a2, ..., ak와 같이 된다.\n",
    "2. 왼쪽으로 한 칸 이동시킨다. 이 연산을 수행하면, a1, ..., ak가 a2, ..., ak, a1이 된다.\n",
    "3. 오른쪽으로 한 칸 이동시킨다. 이 연산을 수행하면, a1, ..., ak가 ak, a1, ..., ak-1이 된다.\n",
    "\n",
    "큐에 처음에 포함되어 있던 수 N이 주어진다. 그리고 지민이가 뽑아내려고 하는 원소의 위치가 주어진다. (이 위치는 가장 처음 큐에서의 위치이다.) 이때, 그 원소를 주어진 순서대로 뽑아내는데 드는 2번, 3번 연산의 최솟값을 출력하는 프로그램을 작성하시오.\n",
    "\n",
    "\n",
    "## 입력\n",
    "\n",
    "첫째 줄에 큐의 크기 N과 뽑아내려고 하는 수의 개수 M이 주어진다. N은 50보다 작거나 같은 자연수이고, M은 N보다 작거나 같은 자연수이다. 둘째 줄에는 지민이가 뽑아내려고 하는 수의 위치가 순서대로 주어진다. 위치는 1보다 크거나 같고, N보다 작거나 같은 자연수이다.\n",
    "\n",
    "## 출력\n",
    "\n",
    "첫째 줄에 문제의 정답을 출력한다.\n",
    "\n",
    "<br/>\n",
    "\n",
    "### 예제 입력1\n",
    "\n",
    "```\n",
    "10 3\n",
    "1 2 3\n",
    "```\n",
    "\n",
    "### 예제 출력1\n",
    "\n",
    "```\n",
    "0\n",
    "```\n",
    "\n",
    "### 알고리즘 분류\n",
    "\n",
    "- 자료구조\n",
    "- 덱"
   ]
  },
  {
   "cell_type": "markdown",
   "metadata": {},
   "source": [
    "---"
   ]
  },
  {
   "cell_type": "markdown",
   "metadata": {},
   "source": [
    "## 풀이 방법 \n",
    "\n",
    "- 양방향의 순환 큐를 가지고 있다.\n",
    "    - `deque` 를 사용\n",
    "- 세 가지 연산\n",
    "    - 1번 연산 : 앞에 원소를 빼기\n",
    "    - 2번 연산 : 뺀 원소를 맨 뒤로 넣기\n",
    "    - 3번 연산 : 맨뒤의 원솔르 맨 앞으로 넣기\n",
    "- n은 50보다 작거나 같은 자연수\n",
    "    - 큐의 크기가 50이므로, 시간복잡도에 걸릴 위험이 없다.\n",
    "    - m<=n\n",
    "- 위치는 1부터 시작\n",
    "\n",
    "### 알고리즘 설계 - 구현 \n",
    "\n",
    "\n",
    "     \n",
    "### 알고리즘의 복잡도\n",
    "\n",
    "- deque의 시간 복잡도는 $O$(1)"
   ]
  },
  {
   "cell_type": "markdown",
   "metadata": {},
   "source": [
    "### 처음 문제 풀이\n",
    "\n",
    "- 기준을 잘 못 생각했다.\n",
    "- 문제를 풀 때의 기준은 언제 2번 연산을 할지, 3번을 연산을 할지가 중요하다\n",
    "- 그 기준을 해야 하는 것이 중간의 길이를 지정하여 낮은 수면\n",
    "    - 오른쪽으로 이동\n",
    "- 그 기준이 높은 수면, \n",
    "    - 왼쪽으로 이동을 해야한다."
   ]
  },
  {
   "cell_type": "code",
   "execution_count": 9,
   "metadata": {},
   "outputs": [
    {
     "name": "stdout",
     "output_type": "stream",
     "text": [
      "10 3\n",
      "2 9 5\n"
     ]
    }
   ],
   "source": [
    "# 큐의 크기 n\n",
    "# 뽑아내려하는 수의 개수 m\n",
    "from collections import deque\n",
    "\n",
    "n,m = map(int,input().split())\n",
    "select=list(map(int, input().split()))\n",
    "\n",
    "deq=deque(range(1,n+1))\n",
    "answer=[]\n",
    "\n",
    "while len(answer)!=m:\n",
    "    choose=deq.popleft()\n",
    "    for s in select:\n",
    "        if choose==s:\n",
    "            answer.append(choose)\n",
    "        else:\n",
    "            # 왼쪽으로 이동\n",
    "            deq.appendleft(choose)\n",
    "            \n",
    "            \n",
    "            # 오른쪽으로 이동\n",
    "            deq.append(choose)"
   ]
  },
  {
   "cell_type": "markdown",
   "metadata": {},
   "source": [
    "### 다시 푼 코드"
   ]
  },
  {
   "cell_type": "code",
   "execution_count": 30,
   "metadata": {},
   "outputs": [
    {
     "name": "stdout",
     "output_type": "stream",
     "text": [
      "10 3\n",
      "2 9 5\n",
      "8\n"
     ]
    }
   ],
   "source": [
    "# 큐의 크기 n\n",
    "# 뽑아내려하는 수의 개수 m\n",
    "from collections import deque\n",
    "\n",
    "n,m = map(int,input().split())\n",
    "select=deque(map(int, input().split()))\n",
    "\n",
    "# 큐 설정\n",
    "deq=deque(range(1,n+1))\n",
    "# 횟수 설정\n",
    "count=0\n",
    "answer=[]\n",
    "\n",
    "while select:\n",
    "    mid=len(deq)//2\n",
    "    \n",
    "    # 선택하려는 원소가 중간보다 앞에 있다면,\n",
    "    if deq.index(select[0])>mid:\n",
    "        # 오른쪽으로 이동\n",
    "        while select[0]!=deq[0]:\n",
    "            deq.appendleft(deq.pop())\n",
    "            count+=1\n",
    "        answer.append(deq.popleft())\n",
    "        select.popleft()\n",
    "        \n",
    "    # 선택하려는 원소가 중간보다 뒤에 있다면,\n",
    "    else:\n",
    "        # 왼쪽으로 이동\n",
    "        while select[0]!=deq[0]:\n",
    "            deq.append(deq.popleft())\n",
    "            count+=1\n",
    "        answer.append(deq.popleft())\n",
    "        select.popleft()\n",
    "\n",
    "print(count)"
   ]
  },
  {
   "cell_type": "code",
   "execution_count": 35,
   "metadata": {},
   "outputs": [
    {
     "name": "stdout",
     "output_type": "stream",
     "text": [
      "10 3\n",
      "2 9 5\n",
      "8\n",
      "[2, 9, 5]\n",
      "deque([6, 7, 8, 10, 1, 3, 4])\n",
      "deque([])\n"
     ]
    },
    {
     "data": {
      "text/plain": [
       "(None, None, None, None)"
      ]
     },
     "execution_count": 35,
     "metadata": {},
     "output_type": "execute_result"
    }
   ],
   "source": [
    "from collections import deque\n",
    "\n",
    "def solution(n,m,select):\n",
    "    # 큐 설정\n",
    "    deq=deque(range(1,n+1))\n",
    "    # 횟수 설정\n",
    "    count=0\n",
    "    answer=[]\n",
    "\n",
    "    while select:\n",
    "        mid=len(deq)//2\n",
    "\n",
    "        # 선택하려는 원소가 중간보다 앞에 있다면,\n",
    "        if deq.index(select[0])>mid:\n",
    "            # 오른쪽으로 이동\n",
    "            while select[0]!=deq[0]:\n",
    "                deq.appendleft(deq.pop())\n",
    "                count+=1\n",
    "            answer.append(deq.popleft())\n",
    "            select.popleft()\n",
    "\n",
    "        # 선택하려는 원소가 중간보다 뒤에 있다면,\n",
    "        else:\n",
    "            # 왼쪽으로 이동\n",
    "            while select[0]!=deq[0]:\n",
    "                deq.append(deq.popleft())\n",
    "                count+=1\n",
    "            answer.append(deq.popleft())\n",
    "            select.popleft()\n",
    "    \n",
    "    return print(count), print(answer), print(deq), print(select)\n",
    "    \n",
    "    \n",
    "n,m = map(int,input().split())\n",
    "select=deque(map(int, input().split()))\n",
    "solution(n,m,select)"
   ]
  }
 ],
 "metadata": {
  "kernelspec": {
   "display_name": "Python 3 (ipykernel)",
   "language": "python",
   "name": "python3"
  },
  "language_info": {
   "codemirror_mode": {
    "name": "ipython",
    "version": 3
   },
   "file_extension": ".py",
   "mimetype": "text/x-python",
   "name": "python",
   "nbconvert_exporter": "python",
   "pygments_lexer": "ipython3",
   "version": "3.9.7"
  }
 },
 "nbformat": 4,
 "nbformat_minor": 4
}
