{
 "cells": [
  {
   "cell_type": "markdown",
   "metadata": {},
   "source": [
    "# [알바생 강호](https://www.acmicpc.net/problem/1758)\n",
    "\n",
    "\n",
    "<br/>\n",
    "<br/>\n",
    "\n",
    "## 문제\n",
    "\n",
    "스타박스는 손님을 입장시킬 때 독특한 방법으로 입장시킨다.\n",
    "\n",
    "스타박스에서는 손님을 8시가 될 때 까지, 문앞에 줄 세워 놓는다. 그리고 8시가 되는 순간 손님들은 모두 입구에서 커피를 하나씩 받고, 자리로 간다. 강호는 입구에서 커피를 하나씩 주는 역할을 한다.\n",
    "\n",
    "손님들은 입구에 들어갈 때, 강호에게 팁을 준다. 손님들은 자기가 커피를 몇 번째 받는지에 따라 팁을 다른 액수로 강호에게 준다. 각 손님은 강호에게 원래 주려고 생각했던 돈 - (받은 등수 - 1) 만큼의 팁을 강호에게 준다. 만약, 위의 식으로 나온 값이 음수라면, 강호는 팁을 받을 수 없다.\n",
    "\n",
    "예를 들어, 민호는 팁을 3원 주려고 했고, 재필이는 팁을 2원, 주현이가 팁을 1원 주려고 한 경우를 생각해보자.\n",
    "\n",
    "민호, 재필, 주현이 순서대로 줄을 서있다면, 민호는 강호에게 3-(1-1) = 3원, 재필이는 2-(2-1) = 1원, 주현이는 1-(3-1) = -1원을 팁으로 주게 된다. 주현이는 음수이기 때문에, 강호에게 팁을 주지 않는다. 따라서, 강호는 팁을 3+1+0=4원을 받게 된다.\n",
    "\n",
    "스타박스 앞에 있는 사람의 수 N과, 각 사람이 주려고 생각하는 팁이 주어질 때, 손님의 순서를 적절히 바꿨을 때, 강호가 받을 수 잇는 팁의 최댓값을 구하는 프로그램을 작성하시오.\n",
    "\n",
    "\n",
    "## 입력\n",
    "\n",
    "첫째 줄에 스타박스 앞에 서 있는 사람의 수 N이 주어진다. N은 100,000보다 작거나 같은 자연수이다. 둘째 줄부터 총 N개의 줄에 각 사람이 주려고 하는 팁이 주어진다. 팁은 100,000보다 작거나 같은 자연수이다.\n",
    "\n",
    "## 출력\n",
    "\n",
    "\n",
    "강호가 받을 수 있는 팁의 최댓값을 출력한다.\n",
    "\n",
    "\n",
    "\n",
    "<br/><br/>\n",
    "\n",
    "### 예제 입력1\n",
    "\n",
    "```\n",
    "4\n",
    "3\n",
    "3\n",
    "3\n",
    "3\n",
    "```\n",
    "\n",
    "### 예제 출력1\n",
    "\n",
    "```\n",
    "6\n",
    "```\n",
    "\n",
    "<br/>\n",
    "\n",
    "### 알고리즘 분류 \n",
    "\n",
    "- 그리디 알고리즘\n",
    "- 정렬"
   ]
  },
  {
   "cell_type": "markdown",
   "metadata": {},
   "source": [
    "---"
   ]
  },
  {
   "cell_type": "markdown",
   "metadata": {},
   "source": [
    "## 풀이 방법 \n",
    "\n",
    "- 생각했던 돈 - (받은 등수 - 1) \n",
    "- 음수라면, 팁을 받을 수 없음\n",
    "- ex) 3원, 2원, 1원\n",
    "    - 3 - (1-1) = 3\n",
    "    - 2 - (2-1) = 1\n",
    "    - 1 - (3-1) = -1 (팁 x)\n",
    "- 최댓값이 되려면?\n",
    "- 팁 > 받은 등수 정렬\n",
    "\n",
    "\n",
    "### 알고리즘 설계 - 구현 \n",
    "\n",
    "- 팁 순으로 내림차순 정렬을 한다.\n",
    "- 반복문을 통해  < 팁 - (순서 - 1) > 를 추가한다.\n",
    "- 단, 음수라면 배열에 넣지 않는다.\n",
    "- sum합을 구한다.\n",
    "    \n",
    "### 알고리즘의 복잡도\n",
    "\n",
    "- $O$($NlogN$)"
   ]
  },
  {
   "cell_type": "markdown",
   "metadata": {},
   "source": [
    "### 코드 풀이 1)"
   ]
  },
  {
   "cell_type": "code",
   "execution_count": 21,
   "metadata": {},
   "outputs": [
    {
     "name": "stdout",
     "output_type": "stream",
     "text": [
      "3\n",
      "1\n",
      "2\n",
      "3\n",
      "4\n"
     ]
    }
   ],
   "source": [
    "n=int(input())\n",
    "\n",
    "tips=[int(input()) for _ in range(n)]\n",
    "tips=sorted(tips, reverse=True)\n",
    "res=[]\n",
    "for idx, tip in enumerate(tips, start=1):\n",
    "    x = tip - (idx-1)\n",
    "    if x<0:\n",
    "        pass\n",
    "    else:\n",
    "        res.append(x)\n",
    "print(sum(res))"
   ]
  }
 ],
 "metadata": {
  "kernelspec": {
   "display_name": "Python 3 (ipykernel)",
   "language": "python",
   "name": "python3"
  },
  "language_info": {
   "codemirror_mode": {
    "name": "ipython",
    "version": 3
   },
   "file_extension": ".py",
   "mimetype": "text/x-python",
   "name": "python",
   "nbconvert_exporter": "python",
   "pygments_lexer": "ipython3",
   "version": "3.9.7"
  }
 },
 "nbformat": 4,
 "nbformat_minor": 4
}
