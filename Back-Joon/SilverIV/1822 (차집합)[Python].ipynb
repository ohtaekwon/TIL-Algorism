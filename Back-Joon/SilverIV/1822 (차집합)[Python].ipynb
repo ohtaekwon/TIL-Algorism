{
 "cells": [
  {
   "cell_type": "markdown",
   "metadata": {},
   "source": [
    "# [차집합](https://www.acmicpc.net/problem/1822)\n",
    "\n",
    "\n",
    "<br/>\n",
    "<br/>\n",
    "\n",
    "## 문제\n",
    "\n",
    "\n",
    "몇 개의 자연수로 이루어진 두 집합 A와 B가 있다. 집합 A에는 속하면서 집합 B에는 속하지 않는 모든 원소를 구하는 프로그램을 작성하시오.\n",
    "\n",
    "## 입력\n",
    "\n",
    "첫째 줄에는 집합 A의 원소의 개수 n(A)와 집합 B의 원소의 개수 n(B)가 빈 칸을 사이에 두고 주어진다. (1 ≤ n(A), n(B) ≤ 500,000)이 주어진다. 둘째 줄에는 집합 A의 원소가, 셋째 줄에는 집합 B의 원소가 빈 칸을 사이에 두고 주어진다. 하나의 집합의 원소는 2,147,483,647 이하의 자연수이며, 하나의 집합에 속하는 모든 원소의 값은 다르다.\n",
    "\n",
    "## 출력\n",
    "\n",
    "첫째 줄에 집합 A에는 속하면서 집합 B에는 속하지 않는 원소의 개수를 출력한다. 다음 줄에는 구체적인 원소를 빈 칸을 사이에 두고 증가하는 순서로 출력한다. 집합 A에는 속하면서 집합 B에는 속하지 않는 원소가 없다면 첫째 줄에 0만을 출력하면 된다.\n",
    "\n",
    "\n",
    "<br/><br/>\n",
    "\n",
    "### 예제 입력1\n",
    "\n",
    "```\n",
    "4 3\n",
    "2 5 11 7\n",
    "9 7 4\n",
    "```\n",
    "\n",
    "### 예제 출력1\n",
    "\n",
    "```\n",
    "3\n",
    "2 5 11\n",
    "```\n",
    "\n",
    "<br/>\n",
    "\n",
    "\n",
    "### 알고리즘 분류 \n",
    "\n",
    "- 자료구조\n",
    "- 정렬\n",
    "- 트리를 사용한 집합과 맵"
   ]
  },
  {
   "cell_type": "markdown",
   "metadata": {},
   "source": [
    "---"
   ]
  },
  {
   "cell_type": "markdown",
   "metadata": {},
   "source": [
    "## 풀이 방법 \n",
    "\n",
    "- 집합 a와 b의 개수가 최대 500,000개...\n",
    "- 집합의 원소는  2,147,483,647 이하..\n",
    "- 하나의 집합에 속하는 모든 원소의 값은 다르다. \n",
    "- 즉, 중복의 값이 없다. 따라서, 정렬의 방식을 통해서, 비교할 필요 없다.\n",
    "- set자료형을 사용하는 것이 알고리즘 복잡도에서 더 유용할 것\n",
    "\n",
    "\n",
    "- 첫째 줄에 집합 A에는 속하면서 집합 B에는 속하지 않는 원소의 개수를 출력한다\n",
    "- 구체적인 원소를 빈 칸을 사이에 두고 증가하는 순서로 출력한다. \n",
    "    - 단, 속하는 원소가 없다면, 0을 출력한다.\n",
    "    \n",
    "    \n",
    "### 알고리즘 설계 - 구현 \n",
    "\n",
    "- set 자료형을 통해서 교집합을 구한다.\n",
    "- 중복이 없으므로, set()을 써도 된다.\n",
    "    \n",
    "### 알고리즘의 복잡도\n",
    "\n",
    "- $O$(len(a) + len(b))"
   ]
  },
  {
   "cell_type": "markdown",
   "metadata": {},
   "source": [
    "### 코드 풀이 1)\n",
    "\n",
    "- set을 이용한 풀이 방법"
   ]
  },
  {
   "cell_type": "code",
   "execution_count": 30,
   "metadata": {},
   "outputs": [
    {
     "name": "stdout",
     "output_type": "stream",
     "text": [
      "3 5\n",
      "2 5 4\n",
      "1 2 3 4 5\n",
      "0\n"
     ]
    }
   ],
   "source": [
    "n_A , n_B = map(int,input().split())\n",
    "A=set(map(int,input().split()))\n",
    "B=set(map(int,input().split()))\n",
    "\n",
    "\n",
    "A_diff_B = sorted(list(A.difference(B)))\n",
    "\n",
    "print(len(A_diff_B))\n",
    "\n",
    "if len(A_diff_B) != 0 :\n",
    "    for el in A_diff_B:\n",
    "        print(el, end=' ')"
   ]
  },
  {
   "cell_type": "markdown",
   "metadata": {},
   "source": [
    "### 코드 풀이 2)\n",
    "\n",
    "- 딕셔너리(해시)로 풀이\n",
    "- 어차피 중복의 값이 없으므로, index번호를 해당 집합의 수라고 생각하고, 해당 집합의 수가 있다면, 해당 index의 값을 1로 한다."
   ]
  },
  {
   "cell_type": "code",
   "execution_count": 36,
   "metadata": {},
   "outputs": [
    {
     "name": "stdout",
     "output_type": "stream",
     "text": [
      "4 3\n",
      "2 5 11 7\n",
      "9 7 4\n",
      "3\n",
      "2 5 11\n"
     ]
    }
   ],
   "source": [
    "a, b = map(int, input().split())\n",
    "A, B = {}, {}\n",
    "for n in map(int, input().split()):\n",
    "    A[n] = 1\n",
    "for n in map(int, input().split()):\n",
    "    B[n] = 1\n",
    "cnt = 0\n",
    "res = []\n",
    "for n in A:\n",
    "    if n not in B:\n",
    "        cnt += 1\n",
    "        res.append(n)\n",
    "print(cnt)\n",
    "if cnt:\n",
    "    print(*sorted(res))"
   ]
  },
  {
   "cell_type": "code",
   "execution_count": 37,
   "metadata": {
    "scrolled": true
   },
   "outputs": [
    {
     "data": {
      "text/plain": [
       "{2: 1, 5: 1, 11: 1, 7: 1}"
      ]
     },
     "execution_count": 37,
     "metadata": {},
     "output_type": "execute_result"
    }
   ],
   "source": [
    "A"
   ]
  },
  {
   "cell_type": "code",
   "execution_count": 38,
   "metadata": {},
   "outputs": [
    {
     "data": {
      "text/plain": [
       "{9: 1, 7: 1, 4: 1}"
      ]
     },
     "execution_count": 38,
     "metadata": {},
     "output_type": "execute_result"
    }
   ],
   "source": [
    "B"
   ]
  },
  {
   "cell_type": "code",
   "execution_count": 42,
   "metadata": {},
   "outputs": [
    {
     "name": "stdout",
     "output_type": "stream",
     "text": [
      "2\n",
      "11\n",
      "5\n",
      "7\n",
      "6\n",
      "2 5 11\n"
     ]
    }
   ],
   "source": [
    "res=[]\n",
    "for n in A:\n",
    "    print(n)\n",
    "    if n not in B:\n",
    "        cnt+=1\n",
    "        res.append(n)\n",
    "print(cnt)\n",
    "\n",
    "if cnt:\n",
    "    print(*sorted(res))"
   ]
  }
 ],
 "metadata": {
  "kernelspec": {
   "display_name": "Python 3 (ipykernel)",
   "language": "python",
   "name": "python3"
  },
  "language_info": {
   "codemirror_mode": {
    "name": "ipython",
    "version": 3
   },
   "file_extension": ".py",
   "mimetype": "text/x-python",
   "name": "python",
   "nbconvert_exporter": "python",
   "pygments_lexer": "ipython3",
   "version": "3.9.7"
  }
 },
 "nbformat": 4,
 "nbformat_minor": 4
}
