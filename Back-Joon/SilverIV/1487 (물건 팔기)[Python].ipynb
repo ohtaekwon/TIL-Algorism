{
 "cells": [
  {
   "cell_type": "markdown",
   "metadata": {},
   "source": [
    "# [물건 팔기](https://www.acmicpc.net/problem/1487)\n",
    "\n",
    "<br/>\n",
    "<br/>\n",
    "\n",
    "## 문제\n",
    "\n",
    "세준이는 오랜 연구기간 끝에 신상품을 내놓았다. 세준이는 오랜 시간이 걸린 만큼 이 상품을 최대 이익에 팔려고 한다.\n",
    "\n",
    "세준이는 이 상품을 사려고 하는 사람들이 총 몇 명이나 되는지 알아봤다. 무려 N명이나 살 의향을 보였다. 각각의 사람은 자기가 지불할 생각이 있는 최대 한도가 있다. 따라서, 어떤 사람이 20원까지 지불할 생각이 있는데, 세준이가 가격을 30원으로 책정하면 이 사람은 절대 안 살 것이고, 15원으로 책정하면 이 사람은 이 상품을 15원에 살 것이다. (단, 세준이가 안 팔수도 있다.)\n",
    "\n",
    "그리고, 세준이는 각각의 사람에게 배달하는 비용이 얼마나 걸리는 지 알고 있다.\n",
    "\n",
    "N명의 사람과, 각각의 사람이 지불할 용의가 있는 최대 금액과 배송비가 주어졌을 때, 세준이의 이익을 최대로 하는 가격을 출력하는 프로그램을 작성하시오.\n",
    "\n",
    "\n",
    "## 입력\n",
    "\n",
    "첫째 줄에 세준이의 물건을 구매할 의향이 있는 사람의 수 N이 주어진다. 이 값은 50보다 작거나 같다. 둘째 줄부터 각 사람이 지불할 최대 금액과 배송비가 공백을 사이에 두고 주어진다. 두 값은 모두 106보다 작거나 같은 음이 아닌 정수이고, 배송비는 0이 될 수도 있다.\n",
    "## 출력\n",
    "\n",
    "첫째 줄에 최대 이익을 만들어주는 가격을 출력한다. 이익이 최대인 가격이 여러개라면, 가장 낮은 가격을 출력한다. 또, 어떤 가격으로 팔아도 이익을 남길 수 없다면 0을 출력한다.\n",
    "\n",
    "<br/>\n",
    "\n",
    "### 예제 입력1\n",
    "\n",
    "```\n",
    "3\n",
    "13 0\n",
    "22 0\n",
    "35 0\n",
    "```\n",
    "\n",
    "### 예제 출력1\n",
    "\n",
    "```\n",
    "22\n",
    "\n",
    "```\n",
    "\n",
    "### 알고리즘 분류\n",
    "\n",
    "- 브루트포스 알고리즘\n",
    "\n"
   ]
  },
  {
   "cell_type": "markdown",
   "metadata": {},
   "source": [
    "---"
   ]
  },
  {
   "cell_type": "markdown",
   "metadata": {},
   "source": [
    "## 풀이 방법 \n",
    "\n",
    "- 구매자의 수는 50까지\n",
    "- 최대금액 배송비가 주어진다\n",
    "- 다음과 같이 주어질때 최대 가격은/\n",
    "    - 13 5\n",
    "    - 22 15\n",
    "    - 35 30\n",
    "    - 가격이 13으로 주어진다면\n",
    "        - (13 + 5) + (13 + 15) + (13 + 30) = 89\n",
    "    - 가격이 22로 주어진다면\n",
    "        - 13을 선택한 사람은 사지 않고,\n",
    "        - (22 + 15) + (22 + 30) = 89\n",
    "    - 가격이 35으로 주어진다면,\n",
    "        - 13을 선택한 사람은 사지 않고,\n",
    "        - 22를 선택한 사람은 사지 않는다.\n",
    "        - (35 + 30) = 65\n",
    "    - 13으로 선택할 때와, 22로 선택할 때 가격이 같으므로, 13을 선택한다.\n",
    "\n",
    "\n",
    "### 알고리즘 설계 - 구현 \n",
    "\n",
    "    \n",
    "### 알고리즘의 복잡도\n",
    "\n",
    "- $O$($N$$^2$)"
   ]
  },
  {
   "cell_type": "markdown",
   "metadata": {},
   "source": [
    "### 코드 풀이 1)\n",
    "\n",
    "- 틀렸다....\n",
    "- 생각을 잘 못했다.\n",
    "- 판매가 - 배송가를 해야한다.\n",
    "\n"
   ]
  },
  {
   "cell_type": "code",
   "execution_count": 44,
   "metadata": {},
   "outputs": [
    {
     "name": "stdout",
     "output_type": "stream",
     "text": [
      "3\n",
      "13 15\n",
      "22 30\n",
      "35 40\n",
      "13\n"
     ]
    }
   ],
   "source": [
    "n=int(input())\n",
    "price=[]\n",
    "for _ in range(n):\n",
    "    a, b = map(int,input().split())\n",
    "    price.append([a,b])\n",
    "    \n",
    "new_price=[]\n",
    "\n",
    "\n",
    "for i in range(len(price)):\n",
    "    p=0\n",
    "    stand=price[i][0]\n",
    "    for j in range(len(price)):\n",
    "        if stand>price[j][0]:\n",
    "            pass\n",
    "        else:\n",
    "            p+=stand+price[j][1]\n",
    "            \n",
    "    new_price.append(p)\n",
    "    \n",
    "\n",
    "max_p = new_price.index(max(new_price))\n",
    "print(price[max_p][0])\n",
    "    "
   ]
  },
  {
   "cell_type": "code",
   "execution_count": 45,
   "metadata": {},
   "outputs": [
    {
     "data": {
      "text/plain": [
       "[124, 114, 75]"
      ]
     },
     "execution_count": 45,
     "metadata": {},
     "output_type": "execute_result"
    }
   ],
   "source": [
    "new_price"
   ]
  },
  {
   "cell_type": "code",
   "execution_count": 47,
   "metadata": {},
   "outputs": [
    {
     "data": {
      "text/plain": [
       "124"
      ]
     },
     "execution_count": 47,
     "metadata": {},
     "output_type": "execute_result"
    }
   ],
   "source": [
    "13+15 + 13 + 30 + 13 + 40"
   ]
  },
  {
   "cell_type": "code",
   "execution_count": 39,
   "metadata": {},
   "outputs": [
    {
     "name": "stdout",
     "output_type": "stream",
     "text": [
      "13\n"
     ]
    }
   ],
   "source": [
    "print(price[max_p][0])"
   ]
  },
  {
   "cell_type": "code",
   "execution_count": null,
   "metadata": {},
   "outputs": [],
   "source": [
    "n = int(input())\n",
    " \n",
    "board = [list(map(int,input().split())) for _ in range(n)]\n",
    " \n",
    "board.sort(key=lambda x:x[0])\n",
    " \n",
    "max_num = 0\n",
    "res = 0\n",
    " \n",
    "idx = 0\n",
    "while idx < n:\n",
    "    temp = 0\n",
    " \n",
    "    for q in range(idx,n):\n",
    "        \n",
    "        # 팔지 말지 정하기\n",
    "        # 배송비가 판매 금액보다 비싸면 안 팜\n",
    "        if board[idx][0] - board[q][1] > 0:\n",
    "            temp += board[idx][0] - board[q][1]\n",
    " \n",
    "    if temp > max_num:\n",
    "        max_num = temp\n",
    "        res = board[idx][0]\n",
    " \n",
    "    idx += 1\n",
    " \n",
    "print(res)"
   ]
  },
  {
   "cell_type": "markdown",
   "metadata": {},
   "source": [
    "### 코드풀이 3)"
   ]
  },
  {
   "cell_type": "code",
   "execution_count": 33,
   "metadata": {},
   "outputs": [
    {
     "name": "stdout",
     "output_type": "stream",
     "text": [
      "13\n"
     ]
    }
   ],
   "source": [
    "import sys\n",
    "input = sys.stdin.readline\n",
    "\n",
    "N = int(input())\n",
    "costs = [list(map(int, input().split())) for _ in range(N)]\n",
    "costs.sort()\n",
    "\n",
    "dp = [0] * N\n",
    "max_profit = 0\n",
    "answers = []\n",
    "for i in range(N):\n",
    "    for j in range(i, N):\n",
    "        tmp = costs[i][0] - costs[j][1]\n",
    "        if tmp > 0:\n",
    "            dp[i] += tmp\n",
    "    if max_profit <= dp[i]:\n",
    "        if max_profit < dp[i]:\n",
    "            answers = []\n",
    "        max_profit = dp[i]\n",
    "        answers.append(costs[i][0])\n",
    "print(min(answers) if answers else 0)\n",
    "    "
   ]
  }
 ],
 "metadata": {
  "kernelspec": {
   "display_name": "Python 3 (ipykernel)",
   "language": "python",
   "name": "python3"
  },
  "language_info": {
   "codemirror_mode": {
    "name": "ipython",
    "version": 3
   },
   "file_extension": ".py",
   "mimetype": "text/x-python",
   "name": "python",
   "nbconvert_exporter": "python",
   "pygments_lexer": "ipython3",
   "version": "3.9.7"
  }
 },
 "nbformat": 4,
 "nbformat_minor": 4
}
