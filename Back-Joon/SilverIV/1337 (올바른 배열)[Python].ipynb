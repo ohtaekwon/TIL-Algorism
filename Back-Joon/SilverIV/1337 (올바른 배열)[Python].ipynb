{
 "cells": [
  {
   "cell_type": "markdown",
   "metadata": {},
   "source": [
    "# [올바른 배열](https://www.acmicpc.net/problem/1337)\n",
    "\n",
    "<br/>\n",
    "<br/>\n",
    "\n",
    "## 문제\n",
    "\n",
    "올바른 배열이란 어떤 배열 속에 있는 원소 중 5개가 연속적인 것을 말한다. (연속적인 것이란 5개의 수를 정렬했을 때, 인접한 수의 차이가 1인 것을 말한다.)\n",
    "\n",
    "예를 들어 배열 {6, 1, 9, 5, 7, 15, 8}은 올바른 배열이다. 왜냐하면 이 배열 속의 원소인 5, 6, 7, 8, 9가 연속이기 때문이다.\n",
    "\n",
    "배열이 주어지면, 이 배열이 올바른 배열이 되게 하기 위해서 추가되어야 할 원소의 개수를 출력하는 프로그램을 작성하시오.\n",
    "\n",
    "## 입력\n",
    "\n",
    "첫째 줄에 배열의 크기 N이 주어진다. N은 50보다 작거나 같은 자연수이다. 둘째 줄부터 N개의 줄에 배열의 원소가 한 줄에 하나씩 주어진다. 원소는 1,000,000,000보다 작거나 같은 음이 아닌 정수이다. 배열에 중복되는 수는 없다.\n",
    "\n",
    "## 출력\n",
    "\n",
    "첫째 줄에 입력으로 주어진 배열이 올바른 배열이 되게 하기 위해서 추가되어야할 원소의 최소 개수를 출력한다.\n",
    "<br/>\n",
    "\n",
    "### 예제 입력1\n",
    "\n",
    "```\n",
    "3\n",
    "5\n",
    "6\n",
    "7\n",
    "```\n",
    "\n",
    "### 예제 출력1\n",
    "\n",
    "```\n",
    "2\n",
    "```\n",
    "\n",
    "### 알고리즘 분류\n",
    "\n",
    "- 구현\n",
    "- 정렬\n",
    "- 두 포인터\n",
    "\n"
   ]
  },
  {
   "cell_type": "markdown",
   "metadata": {},
   "source": [
    "---"
   ]
  },
  {
   "cell_type": "markdown",
   "metadata": {},
   "source": [
    "## 풀이 방법 \n",
    "\n",
    "- a = 10 / b = 9 일 때,\n",
    "    - |a - b + T| 가 최소가 되어야 한다.\n",
    "    - 10 - 9 + T \n",
    "    - 1 + T 가 최소값이려면, 0이다.\n",
    "    - 0이 되기 위해서는 T= -1 이면 된다.\n",
    "- a = 20 / b = 18 일 때,\n",
    "    - |a - b + T|이면,\n",
    "    - | 20 - 18 + T |=0\n",
    "    = | 2 + T | 이므로, T=-3\n",
    "- a = 30 / b = 25 일 때,\n",
    "    - |a - b + T|이면,\n",
    "    - | 30 - 25 + T |이면,\n",
    "    - T=-5\n",
    "    \n",
    "### 알고리즘 설계 - 구현 \n",
    "\n",
    "\n",
    "     \n",
    "### 알고리즘의 복잡도\n",
    "\n",
    "- deque의 시간 복잡도는 $O$(1)"
   ]
  },
  {
   "cell_type": "markdown",
   "metadata": {},
   "source": [
    "### 처음 문제 풀이\n",
    "\n",
    "- 기준을 잘 못 생각했다.\n",
    "- 문제를 풀 때의 기준은 언제 2번 연산을 할지, 3번을 연산을 할지가 중요하다\n",
    "- 그 기준을 해야 하는 것이 중간의 길이를 지정하여 낮은 수면\n",
    "    - 오른쪽으로 이동\n",
    "- 그 기준이 높은 수면, \n",
    "    - 왼쪽으로 이동을 해야한다."
   ]
  },
  {
   "cell_type": "code",
   "execution_count": 14,
   "metadata": {},
   "outputs": [
    {
     "name": "stdout",
     "output_type": "stream",
     "text": [
      "5\n",
      "1\n",
      "4\n",
      "1\n",
      "2\n",
      "4\n"
     ]
    }
   ],
   "source": [
    "n=int(input())\n",
    "array=[]\n",
    "for _ in range(n):\n",
    "    array.append(int(input()))"
   ]
  },
  {
   "cell_type": "code",
   "execution_count": 15,
   "metadata": {},
   "outputs": [
    {
     "data": {
      "text/plain": [
       "[1, 4, 1, 2, 4]"
      ]
     },
     "execution_count": 15,
     "metadata": {},
     "output_type": "execute_result"
    }
   ],
   "source": [
    "set(array)\n",
    "array"
   ]
  },
  {
   "cell_type": "code",
   "execution_count": 16,
   "metadata": {},
   "outputs": [
    {
     "data": {
      "text/plain": [
       "[1, 1, 2, 4, 4]"
      ]
     },
     "execution_count": 16,
     "metadata": {},
     "output_type": "execute_result"
    }
   ],
   "source": [
    "array=sorted(array)\n",
    "array\n"
   ]
  },
  {
   "cell_type": "code",
   "execution_count": null,
   "metadata": {},
   "outputs": [],
   "source": [
    "\n",
    "while 1:\n",
    "    for i in array:\n",
    "        if i+1 in array:\n",
    "            \n",
    "        elif i-1 in array:"
   ]
  },
  {
   "cell_type": "markdown",
   "metadata": {},
   "source": [
    "### 코드 풀이 2)"
   ]
  },
  {
   "cell_type": "code",
   "execution_count": 17,
   "metadata": {},
   "outputs": [
    {
     "name": "stdout",
     "output_type": "stream",
     "text": [
      "3\n",
      "4\n",
      "5\n",
      "6\n",
      "2\n"
     ]
    }
   ],
   "source": [
    "n=int(input())\n",
    "\n",
    "array = [int(input()) for _ in range(n)]\n",
    "array=sorted(array)\n",
    "\n",
    "temp=[]\n",
    "\n",
    "for i in range(0,n):\n",
    "    cnt = 0\n",
    "    for j in range(array[i],array[i]+5):\n",
    "        if j not in array:\n",
    "            cnt+=1\n",
    "    temp.append(cnt)\n",
    "print(min(temp))"
   ]
  }
 ],
 "metadata": {
  "kernelspec": {
   "display_name": "Python 3 (ipykernel)",
   "language": "python",
   "name": "python3"
  },
  "language_info": {
   "codemirror_mode": {
    "name": "ipython",
    "version": 3
   },
   "file_extension": ".py",
   "mimetype": "text/x-python",
   "name": "python",
   "nbconvert_exporter": "python",
   "pygments_lexer": "ipython3",
   "version": "3.9.7"
  }
 },
 "nbformat": 4,
 "nbformat_minor": 4
}
