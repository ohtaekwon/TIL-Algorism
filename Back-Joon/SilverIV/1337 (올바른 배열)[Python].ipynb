{
 "cells": [
  {
   "cell_type": "markdown",
   "metadata": {},
   "source": [
    "# [올바른 배열](https://www.acmicpc.net/problem/1337)\n",
    "\n",
    "<br/>\n",
    "<br/>\n",
    "\n",
    "## 문제\n",
    "\n",
    "올바른 배열이란 어떤 배열 속에 있는 원소 중 5개가 연속적인 것을 말한다. (연속적인 것이란 5개의 수를 정렬했을 때, 인접한 수의 차이가 1인 것을 말한다.)\n",
    "\n",
    "예를 들어 배열 {6, 1, 9, 5, 7, 15, 8}은 올바른 배열이다. 왜냐하면 이 배열 속의 원소인 5, 6, 7, 8, 9가 연속이기 때문이다.\n",
    "\n",
    "배열이 주어지면, 이 배열이 올바른 배열이 되게 하기 위해서 추가되어야 할 원소의 개수를 출력하는 프로그램을 작성하시오.\n",
    "\n",
    "## 입력\n",
    "\n",
    "첫째 줄에 배열의 크기 N이 주어진다. N은 50보다 작거나 같은 자연수이다. 둘째 줄부터 N개의 줄에 배열의 원소가 한 줄에 하나씩 주어진다. 원소는 1,000,000,000보다 작거나 같은 음이 아닌 정수이다. 배열에 중복되는 수는 없다.\n",
    "\n",
    "## 출력\n",
    "\n",
    "첫째 줄에 입력으로 주어진 배열이 올바른 배열이 되게 하기 위해서 추가되어야할 원소의 최소 개수를 출력한다.\n",
    "<br/>\n",
    "\n",
    "### 예제 입력1\n",
    "\n",
    "```\n",
    "3\n",
    "5\n",
    "6\n",
    "7\n",
    "```\n",
    "\n",
    "### 예제 출력1\n",
    "\n",
    "```\n",
    "2\n",
    "```\n",
    "\n",
    "### 알고리즘 분류\n",
    "\n",
    "- 구현\n",
    "- 정렬\n",
    "- 두 포인터\n",
    "\n"
   ]
  },
  {
   "cell_type": "markdown",
   "metadata": {},
   "source": [
    "---"
   ]
  },
  {
   "cell_type": "markdown",
   "metadata": {},
   "source": [
    "## 풀이 방법 \n",
    "\n",
    "- 주어진 숫자들을 배열에 넣고 정렬을 한다.\n",
    "- 순서대로 배열의 요소를 선택하고 그 요소부터 순서대로 5개의 요소가 이어져 있는지 확인한다.\n",
    "- 예를 들어, [3, 4, 5] 배열이 주어졌을 때,\n",
    "    - 선택 요소가 3일 때,\n",
    "        - for문 3,4,5,6,7 / 배열에 없는 나머지 6,7\n",
    "    - 선택 요소가 4일 때,\n",
    "        - for문 4,5,6,7,8 / 배열에 없는 나머지 6,7,8\n",
    "    - 선택 요소가 5일 때, \n",
    "        - for문 5,6,7,8,9 / 배열에 없는 나머지 6,7,8,9\n",
    "- 나머지 개수들을 temp 배열에 넣고 가장 작은 것을 출력한다.\n",
    "\n",
    "\n",
    "### 알고리즘 설계 - 구현 \n",
    "\n",
    "- 배열을 정렬한다.\n",
    "    - sorted\n",
    "- 배열안의 요소를 선택하는 for문\n",
    "- 선택된 요소에서 +1씩 하여, 5개까지 나타내는 for문\n",
    "- 그 반복문을 시행했을 때, 배열에 없는 요소가 있다면, 개수 추가\n",
    "\n",
    "     \n",
    "### 알고리즘의 복잡도\n",
    "\n",
    "- $O$($N$$^2$)"
   ]
  },
  {
   "cell_type": "markdown",
   "metadata": {},
   "source": [
    "### 코드 풀이 1)"
   ]
  },
  {
   "cell_type": "code",
   "execution_count": 23,
   "metadata": {},
   "outputs": [
    {
     "name": "stdout",
     "output_type": "stream",
     "text": [
      "3\n",
      "4\n",
      "7\n",
      "9\n"
     ]
    }
   ],
   "source": [
    "n=int(input())\n",
    "array=sorted([int(input()) for _ in range(n)])\n",
    "temp=[]\n",
    "for i in range(n):\n",
    "    cnt=0\n",
    "    for j in range(array[i], array[i]+5):\n",
    "        if j not in array:\n",
    "            cnt+=1\n",
    "    temp.append(cnt)\n",
    "print(min(temp))\n",
    "    "
   ]
  },
  {
   "cell_type": "code",
   "execution_count": 30,
   "metadata": {},
   "outputs": [
    {
     "name": "stdout",
     "output_type": "stream",
     "text": [
      "0 4\n",
      "0 5\n",
      "0 6\n",
      "0 7\n",
      "0 8\n",
      "1 7\n",
      "1 8\n",
      "1 9\n",
      "1 10\n",
      "1 11\n",
      "2 9\n",
      "2 10\n",
      "2 11\n",
      "2 12\n",
      "2 13\n"
     ]
    }
   ],
   "source": [
    "for i in range(0,n):\n",
    "    for j in range(array[i],array[i]+5):\n",
    "        print(i,j)"
   ]
  },
  {
   "cell_type": "code",
   "execution_count": null,
   "metadata": {},
   "outputs": [],
   "source": []
  }
 ],
 "metadata": {
  "kernelspec": {
   "display_name": "Python 3 (ipykernel)",
   "language": "python",
   "name": "python3"
  },
  "language_info": {
   "codemirror_mode": {
    "name": "ipython",
    "version": 3
   },
   "file_extension": ".py",
   "mimetype": "text/x-python",
   "name": "python",
   "nbconvert_exporter": "python",
   "pygments_lexer": "ipython3",
   "version": "3.9.7"
  }
 },
 "nbformat": 4,
 "nbformat_minor": 4
}
