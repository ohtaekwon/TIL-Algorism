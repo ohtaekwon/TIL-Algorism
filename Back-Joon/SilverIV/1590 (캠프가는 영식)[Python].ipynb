{
 "cells": [
  {
   "cell_type": "markdown",
   "metadata": {},
   "source": [
    "# [캠프가는 영식](https://www.acmicpc.net/problem/1590)\n",
    "\n",
    "\n",
    "<br/>\n",
    "<br/>\n",
    "\n",
    "## 문제\n",
    "\n",
    "\n",
    "영식이는 민식이와 함게 고속버스를 타고 캠프를 가야 하지만, 민식이는 영식이를 깨우지 않고 혼자 버스를 타고 캠프에 가버렸다.\n",
    "\n",
    "영식이는 혼자 고속버스터미널까지 가서 캠프에 오려고 한다. 터미널에는 캠프 장소까지 운행하는 N가지의 버스가 있다. 각각의 버스는 시작 시각, 간격, 대수의 정보를 가지고 있다. 예를 들어, 어떤 버스의 시작 시각이 특점 시점을 기준으로 10분 후이고, 간격은 10분이고, 대수가 5대이면, 이 버스는 10분, 20분, 30분, 40분, 50분에 한 대씩 출발한다.\n",
    "\n",
    "영식이는 버스터미널에 T분에 도착했다. 영식이가 버스를 타려면 최소 몇 분을 더 기다려야 하는지 구하는 프로그램을 작성하시오.\n",
    "\n",
    "## 입력\n",
    "\n",
    "첫째 줄에 버스의 개수 N과 영식이가 버스터미널에 도착하는 시간 T가 주어진다. 둘째 줄부터 총 N개의 줄에 각 버스의 시작 시각 Si, 간격 Ii, 대수 Ci가 공백을 사이에 두고 주어진다.\n",
    "\n",
    "## 출력\n",
    "\n",
    "첫째 줄에 영식이가 기다려야 하는 시간을 출력한다. 영식이가 도착하는 동시에 버스가 출발하면 정답은 0이다. 만약 버스가 없어서 캠프에 갈 수 없으면 -1을 출력한다. 정답은 2$^31$보다 작다.\n",
    "\n",
    "\n",
    "## 제한\n",
    "\n",
    "- 1 ≤ N ≤ 50\n",
    "- 1 ≤ T ≤ 1,000,000\n",
    "- 1 ≤ Si ≤ 1,000,000\n",
    "- 1 ≤ Ii ≤ 10,000\n",
    "- 1 ≤ Ci ≤ 100\n",
    "\n",
    "<br/><br/>\n",
    "\n",
    "### 예제 입력1\n",
    "\n",
    "```\n",
    "1 285\n",
    "150 50 10\n",
    "```\n",
    "\n",
    "### 예제 출력1\n",
    "\n",
    "```\n",
    "15\n",
    "```\n",
    "\n",
    "<br/>\n",
    "\n",
    "\n",
    "### 힌트\n",
    "\n",
    "- 예제 1의 경우 150분, 200분, 250분, ..., 600분에 한 대씩 버스가 출발한다. 따라서 영식이는 300분에 버스를 타면 된다.\n",
    "\n",
    "### 알고리즘 분류 \n",
    "\n",
    "- 수학\n",
    "- 브루트포스 알고리즘"
   ]
  },
  {
   "cell_type": "markdown",
   "metadata": {},
   "source": [
    "---"
   ]
  },
  {
   "cell_type": "markdown",
   "metadata": {},
   "source": [
    "## 풀이 방법 \n",
    "\n",
    "- 버스는 특정 시작 시간 기준으로 10분 마다 출발\n",
    "- 터미널에서 T분에 도착했을 때, 버스를 타려면 몇 분을 더 기다려야 하는가\n",
    "\n",
    "### 알고리즘 설계 - 구현 \n",
    "\n",
    "- set 자료형을 통해서 교집합을 구한다.\n",
    "- 중복이 없으므로, set()을 써도 된다.\n",
    "    \n",
    "### 알고리즘의 복잡도\n",
    "\n",
    "- $O$(len(a) + len(b))"
   ]
  },
  {
   "cell_type": "markdown",
   "metadata": {},
   "source": [
    "### 코드 풀이 1)"
   ]
  },
  {
   "cell_type": "code",
   "execution_count": 18,
   "metadata": {},
   "outputs": [
    {
     "name": "stdout",
     "output_type": "stream",
     "text": [
      "1 285\n",
      "150 50 10\n"
     ]
    }
   ],
   "source": [
    "# 버스의 개수 : N\n",
    "# 버스터미널에 도착하는 시간 : T\n",
    "# 버스의 시작 시간 s\n",
    "# 간격 = l\n",
    "# 대수 =  c\n",
    "\n",
    "n,t = map(int,input().split())\n",
    "s,l,c=map(int,input().split())"
   ]
  },
  {
   "cell_type": "code",
   "execution_count": 15,
   "metadata": {},
   "outputs": [
    {
     "name": "stdout",
     "output_type": "stream",
     "text": [
      "1 285\n",
      "[150, 50, 10]\n",
      "[100, 40]\n",
      "3\n"
     ]
    }
   ],
   "source": [
    "l=[abs(s[i]-s[i-1]) for i in range(1,len(s))]\n",
    "c=len(s)\n",
    "print(n,t)\n",
    "print(s)\n",
    "print(l)\n",
    "print(c)"
   ]
  },
  {
   "cell_type": "code",
   "execution_count": null,
   "metadata": {},
   "outputs": [],
   "source": [
    "start=min(l)\n",
    "\n"
   ]
  },
  {
   "cell_type": "markdown",
   "metadata": {},
   "source": [
    "# "
   ]
  }
 ],
 "metadata": {
  "kernelspec": {
   "display_name": "Python 3 (ipykernel)",
   "language": "python",
   "name": "python3"
  },
  "language_info": {
   "codemirror_mode": {
    "name": "ipython",
    "version": 3
   },
   "file_extension": ".py",
   "mimetype": "text/x-python",
   "name": "python",
   "nbconvert_exporter": "python",
   "pygments_lexer": "ipython3",
   "version": "3.9.7"
  }
 },
 "nbformat": 4,
 "nbformat_minor": 4
}
