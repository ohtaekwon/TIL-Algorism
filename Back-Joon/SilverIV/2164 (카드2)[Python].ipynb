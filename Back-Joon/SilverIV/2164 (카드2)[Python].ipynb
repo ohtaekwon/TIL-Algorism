{
 "cells": [
  {
   "cell_type": "markdown",
   "metadata": {},
   "source": [
    "# 카드2\n",
    "\n",
    "\n",
    "<br>\n",
    "<br>\n",
    "\n",
    "## 문제\n",
    "\n",
    "---\n",
    "N장의 카드가 있다. 각각의 카드는 차례로 1부터 N까지의 번호가 붙어 있으며, 1번 카드가 제일 위에, N번 카드가 제일 아래인 상태로 순서대로 카드가 놓여 있다.\n",
    "\n",
    "이제 다음과 같은 동작을 카드가 한 장 남을 때까지 반복하게 된다. 우선, 제일 위에 있는 카드를 바닥에 버린다. 그 다음, 제일 위에 있는 카드를 제일 아래에 있는 카드 밑으로 옮긴다.\n",
    "\n",
    "예를 들어 N=4인 경우를 생각해 보자. 카드는 제일 위에서부터 1234 의 순서로 놓여있다. 1을 버리면 234가 남는다. 여기서 2를 제일 아래로 옮기면 342가 된다. 3을 버리면 42가 되고, 4를 밑으로 옮기면 24가 된다. 마지막으로 2를 버리고 나면, 남는 카드는 4가 된다.\n",
    "\n",
    "N이 주어졌을 때, 제일 마지막에 남게 되는 카드를 구하는 프로그램을 작성하시오.\n",
    "\n",
    "<br>\n",
    "\n",
    "\n",
    "### 입력\n",
    "\n",
    "---\n",
    "첫째 줄에 정수 N(1 ≤ N ≤ 500,000)이 주어진다.\n",
    "\n",
    "<br>\n",
    "\n",
    "### 출력\n",
    "---\n",
    "첫째 줄에 남게 되는 카드의 번호를 출력한다.\n"
   ]
  },
  {
   "cell_type": "markdown",
   "metadata": {},
   "source": [
    "### 예제 입력1\n",
    "\n",
    "```\n",
    "6\n",
    "```\n",
    "\n",
    "### 예제 출력1\n",
    "\n",
    "```\n",
    "4\n",
    "```"
   ]
  },
  {
   "cell_type": "markdown",
   "metadata": {},
   "source": [
    "---"
   ]
  },
  {
   "cell_type": "markdown",
   "metadata": {},
   "source": [
    "### 알고리즘 분류\n",
    "\n",
    "- 자료구조\n",
    "- 큐"
   ]
  },
  {
   "cell_type": "markdown",
   "metadata": {},
   "source": [
    "---"
   ]
  },
  {
   "cell_type": "markdown",
   "metadata": {},
   "source": [
    "### 풀이 1)\n",
    "\n",
    "결과 : `시간초과`\n",
    "\n",
    "#### ✍ 문제 접근 과정\n",
    "\n",
    "제일 먼저 문제에 대한 접근 방법은 **QUEUE** 이다.\n",
    "\n",
    "큐로 문제를 접근하여 풀면, 다음과 같이 구현이 된다.\n",
    "\n"
   ]
  },
  {
   "cell_type": "code",
   "execution_count": 43,
   "metadata": {},
   "outputs": [
    {
     "name": "stdout",
     "output_type": "stream",
     "text": [
      "6\n",
      "4\n"
     ]
    }
   ],
   "source": [
    "n=int(input())\n",
    "li=[i for i in range(1,n+1)]\n",
    "x=0\n",
    "\n",
    "while x<len(li):\n",
    "    li.pop(x)\n",
    "    li.append(li.pop(x))\n",
    "    if len(li)==1:\n",
    "        break\n",
    "    else:\n",
    "        continue\n",
    "        x+=1\n",
    "        \n",
    "print(li[0])"
   ]
  },
  {
   "cell_type": "markdown",
   "metadata": {},
   "source": [
    "하지만, **시간초과** 가 뜬다.\n",
    "\n",
    "이유는...? 시간을 더 줄일수 있는 방법을 찾아야 한다. 시간 복잡도를 더 줄일 수 있는 방법은 뭘까?\n",
    "\n",
    "- 라이브러리를 적극 활용하는 방법\n",
    "    - 라이브러리를 사용하는 방법은 파이썬 라이브러리중 collection의 `deque`가 있다.\n",
    "    - 라이브러리를 사용하여 문제를 풀면 타임 리미트를 해결할 수 있다.\n",
    "- 일정한 규칙을 발견하여 공식을 찾는 방법\n",
    "    - 시간복잡도 부분에선 난이도 높은편이다.\n",
    "\n",
    "\n",
    "\n",
    "#### 참고\n",
    "\n",
    "데크(deque)에 존재하는 메서드(method)는 대략 다음과 같다.\n",
    "\n",
    "- `deque.append(item)`: item을 데크의 오른쪽 끝에 삽입한다.\n",
    "- `deque.appendleft(item)`: item을 데크의 왼쪽 끝에 삽입한다.\n",
    "- `deque.pop()`: 데크의 오른쪽 끝 엘리먼트를 가져오는 동시에 데크에서 삭제한다.\n",
    "- `deque.popleft()`: 데크의 왼쪽 끝 엘리먼트를 가져오는 동시에 데크에서 삭제한다.\n",
    "- `deque.extend(array)`: 주어진 배열(array)을 순환하면서 데크의 오른쪽에 추가한다.\n",
    "- `deque.extendleft(array)`: 주어진 배열(array)을 순환하면서 데크의 왼쪽에 추가한다.\n",
    "- `deque.remove(item)`: item을 데크에서 찾아 삭제한다.\n",
    "- `deque.rotate(num)`: 데크를 num만큼 회전한다(양수면 오른쪽, 음수면 왼쪽)."
   ]
  },
  {
   "cell_type": "markdown",
   "metadata": {},
   "source": [
    "### 풀이 2) 라이브러리를 활용한 방법 - deque"
   ]
  },
  {
   "cell_type": "code",
   "execution_count": 72,
   "metadata": {},
   "outputs": [
    {
     "name": "stdout",
     "output_type": "stream",
     "text": [
      "6\n"
     ]
    }
   ],
   "source": [
    "from collections import deque\n",
    "\n",
    "n = int(input())\n",
    "deque=deque()\n",
    "for i in range(1,n+1):\n",
    "    deque.append(i)"
   ]
  },
  {
   "cell_type": "code",
   "execution_count": 73,
   "metadata": {},
   "outputs": [
    {
     "data": {
      "text/plain": [
       "deque([1, 2, 3, 4, 5, 6])"
      ]
     },
     "execution_count": 73,
     "metadata": {},
     "output_type": "execute_result"
    }
   ],
   "source": [
    "# deque로 표현\n",
    "deque"
   ]
  },
  {
   "cell_type": "code",
   "execution_count": 74,
   "metadata": {},
   "outputs": [
    {
     "data": {
      "text/plain": [
       "1"
      ]
     },
     "execution_count": 74,
     "metadata": {},
     "output_type": "execute_result"
    }
   ],
   "source": [
    "# 데크의 왼쪽 끝 엘리먼트를 가져오는 동시에 데크에서 삭제한다.\n",
    "deque.popleft()"
   ]
  },
  {
   "cell_type": "code",
   "execution_count": 75,
   "metadata": {},
   "outputs": [
    {
     "data": {
      "text/plain": [
       "2"
      ]
     },
     "execution_count": 75,
     "metadata": {},
     "output_type": "execute_result"
    }
   ],
   "source": [
    "# move_num이라는 변수에 왼쪽의 엘리먼트에 삭제된 수를 할당\n",
    "move_num=deque.popleft()\n",
    "a"
   ]
  },
  {
   "cell_type": "code",
   "execution_count": 76,
   "metadata": {},
   "outputs": [],
   "source": [
    "# move_num을 맨 뒤에 입력\n",
    "deque.append(move_num)"
   ]
  },
  {
   "cell_type": "code",
   "execution_count": 77,
   "metadata": {},
   "outputs": [
    {
     "data": {
      "text/plain": [
       "deque([3, 4, 5, 6, 2])"
      ]
     },
     "execution_count": 77,
     "metadata": {},
     "output_type": "execute_result"
    }
   ],
   "source": [
    "# 삭제된 후의 deque\n",
    "deque"
   ]
  },
  {
   "cell_type": "code",
   "execution_count": 78,
   "metadata": {},
   "outputs": [
    {
     "data": {
      "text/plain": [
       "5"
      ]
     },
     "execution_count": 78,
     "metadata": {},
     "output_type": "execute_result"
    }
   ],
   "source": [
    "# deque의 길이가 하나 줄어 들었다.\n",
    "len(deque)"
   ]
  },
  {
   "cell_type": "markdown",
   "metadata": {},
   "source": [
    "#### 이러한 원리를 `while문`으로 적용을 시키면"
   ]
  },
  {
   "cell_type": "code",
   "execution_count": 60,
   "metadata": {},
   "outputs": [
    {
     "name": "stdout",
     "output_type": "stream",
     "text": [
      "3\n"
     ]
    }
   ],
   "source": [
    "# deque의 길이가 1일 때까지 반복\n",
    "while len(deque)>1:\n",
    "    # 데크의 왼쪽 끝 엘리먼트를 가져오는 동시에 데크에서 삭제한다.\n",
    "    deque.popleft()\n",
    "    # 삭제한 엘리먼트의 왼쪽 끝의 수를 move_num이라는 변수에 할당\n",
    "    move_num=deque.popleft()\n",
    "    # 삭제된 앞의 변수 move_num을 다시 뒤로 넣기\n",
    "    deque.append(move_num)\n",
    "print(deque[0])"
   ]
  },
  {
   "cell_type": "markdown",
   "metadata": {},
   "source": [
    "### 위의 풀이를 정리하면 다음과 같이 나온다."
   ]
  },
  {
   "cell_type": "code",
   "execution_count": 79,
   "metadata": {},
   "outputs": [
    {
     "name": "stdout",
     "output_type": "stream",
     "text": [
      "6\n",
      "4\n"
     ]
    }
   ],
   "source": [
    "from collections import deque\n",
    "\n",
    "n = int(input())\n",
    "deque=deque([i for i in range(1,n+1)])\n",
    "\n",
    "# deque의 길이가 1일 때까지 반복\n",
    "while len(deque)>1:\n",
    "    # 데크의 왼쪽 끝 엘리먼트를 가져오는 동시에 데크에서 삭제한다.\n",
    "    deque.popleft()\n",
    "    # 삭제한 엘리먼트의 왼쪽 끝의 수를 move_num이라는 변수에 할당\n",
    "    move_num=deque.popleft()\n",
    "    # 삭제된 앞의 변수 move_num을 다시 뒤로 넣기\n",
    "    deque.append(move_num)\n",
    "print(deque[0])"
   ]
  },
  {
   "cell_type": "markdown",
   "metadata": {},
   "source": [
    "### 풀이 3) 일정한 규칙을 발견하여 공식을 찾는 방법\n",
    "\n",
    "<br/>\n",
    "\n",
    "- INPUT -> 2 OUTPUT -> 2\n",
    "- INPUT -> 3 OUTPUT -> 2\n",
    "- INPUT -> 4 OUTPUT -> 4\n",
    "- INPUT -> 5 OUTPUT -> 2\n",
    "- INPUT -> 6 OUTPUT -> 4\n",
    "- INPUT -> 7 OUTPUT -> 6\n",
    "- INPUT -> 8 OUTPUT -> 8\n",
    "\n",
    "OUTPUT의 규칙을 살펴본다면,\n",
    "\n",
    "- 3일때: (3-2) X 2 = 2\n",
    "- 4일때: (4-2) X 2 = 4\n",
    "- 5일때: (5-4) X 2 = 2\n",
    "- 6일때: (6-4) X 2 = 2\n",
    "- 7일때: (7-4) X 2 = 2\n",
    "- 8일때: (8-4) X 2 = 2\n",
    "\n",
    "즉, [INPUT - 2**(INPUT의 2의 제곱) ] X 2\n",
    "\n",
    "\n"
   ]
  },
  {
   "cell_type": "code",
   "execution_count": 80,
   "metadata": {},
   "outputs": [
    {
     "name": "stdout",
     "output_type": "stream",
     "text": [
      "6\n",
      "4\n"
     ]
    }
   ],
   "source": [
    "input = int(input())\n",
    "square = 2\n",
    "\n",
    "while True:\n",
    "    if (input == 1 or input == 2):\n",
    "        print(input)\n",
    "        break\n",
    "    square *= 2\n",
    "    if (square >= input):\n",
    "        print((input-(square//2))*2)\n",
    "        break"
   ]
  }
 ],
 "metadata": {
  "kernelspec": {
   "display_name": "Python 3 (ipykernel)",
   "language": "python",
   "name": "python3"
  },
  "language_info": {
   "codemirror_mode": {
    "name": "ipython",
    "version": 3
   },
   "file_extension": ".py",
   "mimetype": "text/x-python",
   "name": "python",
   "nbconvert_exporter": "python",
   "pygments_lexer": "ipython3",
   "version": "3.9.7"
  }
 },
 "nbformat": 4,
 "nbformat_minor": 4
}
