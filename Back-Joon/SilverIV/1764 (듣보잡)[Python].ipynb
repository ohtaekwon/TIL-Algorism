{
 "cells": [
  {
   "cell_type": "markdown",
   "metadata": {},
   "source": [
    "# [듣보잡](https://www.acmicpc.net/problem/1764)\n",
    "\n",
    "\n",
    "<br/>\n",
    "<br/>\n",
    "\n",
    "## 문제\n",
    "\n",
    "\n",
    "김진영이 듣도 못한 사람의 명단과, 보도 못한 사람의 명단이 주어질 때, 듣도 보도 못한 사람의 명단을 구하는 프로그램을 작성하시오.\n",
    "\n",
    "\n",
    "## 입력\n",
    "\n",
    "\n",
    "첫째 줄에 듣도 못한 사람의 수 N, 보도 못한 사람의 수 M이 주어진다. 이어서 둘째 줄부터 N개의 줄에 걸쳐 듣도 못한 사람의 이름과, N+2째 줄부터 보도 못한 사람의 이름이 순서대로 주어진다. 이름은 띄어쓰기 없이 알파벳 소문자로만 이루어지며, 그 길이는 20 이하이다. N, M은 500,000 이하의 자연수이다.\n",
    "\n",
    "듣도 못한 사람의 명단에는 중복되는 이름이 없으며, 보도 못한 사람의 명단도 마찬가지이다.\n",
    "\n",
    "\n",
    "## 출력\n",
    "\n",
    "듣보잡의 수와 그 명단을 사전순으로 출력한다.\n",
    "\n",
    "<br/><br/>\n",
    "\n",
    "### 예제 입력1\n",
    "\n",
    "```\n",
    "3 4\n",
    "ohhenrie\n",
    "charlie\n",
    "baesangwook\n",
    "obama\n",
    "baesangwook\n",
    "ohhenrie\n",
    "clinton\n",
    "```\n",
    "\n",
    "### 예제 출력1\n",
    "\n",
    "```\n",
    "2\n",
    "baesangwook\n",
    "ohhenrie\n",
    "```\n",
    "\n",
    "<br/>\n",
    "\n",
    "### 알고리즘 분류 \n",
    "\n",
    "- 자료구조\n",
    "- 문자열\n",
    "- 정렬\n",
    "- 해시를 사용한 집합과 맵\n"
   ]
  },
  {
   "cell_type": "markdown",
   "metadata": {},
   "source": [
    "---"
   ]
  },
  {
   "cell_type": "markdown",
   "metadata": {},
   "source": [
    "## 풀이 방법 \n",
    "\n",
    "- 더 수가 많은 쪽의 리스트를 하나 꺼내서\n",
    "\n",
    "### 알고리즘 설계 - 구현 \n",
    "\n",
    "- \n",
    "    \n",
    "### 알고리즘의 복잡도\n",
    "\n",
    "- $O$($N$$^2$)"
   ]
  },
  {
   "cell_type": "markdown",
   "metadata": {},
   "source": [
    "### 코드 풀이 1)\n",
    "\n",
    "- 시간 초과가 나왔다.\n",
    "- n과 m은 500,000까지 이다.\n",
    "- 하나씩 꺼내서 비교하므로, \n"
   ]
  },
  {
   "cell_type": "code",
   "execution_count": 6,
   "metadata": {},
   "outputs": [
    {
     "name": "stdout",
     "output_type": "stream",
     "text": [
      "3 4\n",
      "ohhenrie\n",
      "charlie\n",
      "baesangwook\n",
      "obama\n",
      "baesangwook\n",
      "ohhenrie\n",
      "clinton\n",
      "2\n",
      "baesangwook\n",
      "ohhenrie\n"
     ]
    }
   ],
   "source": [
    "n,m=map(int,input().split())\n",
    "\n",
    "no_listen=[]\n",
    "no_see=[]\n",
    "\n",
    "for _ in range(n):\n",
    "    no_listen.append(input())\n",
    "    \n",
    "for _ in range(m):\n",
    "    no_see.append(input())\n",
    "    \n",
    "res=[]\n",
    "\n",
    "if m<=n:\n",
    "    for name in no_see:\n",
    "        if name in no_listen:\n",
    "                res.append(name)\n",
    "else:\n",
    "    for name in no_listen:\n",
    "        if name in no_see:\n",
    "            res.append(name)\n",
    "            \n",
    "print(len(res))\n",
    "for name in sorted(res):\n",
    "    print(name)\n"
   ]
  },
  {
   "cell_type": "markdown",
   "metadata": {},
   "source": [
    "### 코드 풀이 2)\n",
    "\n",
    "- 집합 자료형 `set`을 사용한다.\n",
    "- set() 의 경우 시간 복잡도로는 $O$(len(a) + len(b))만큼 소요된다."
   ]
  },
  {
   "cell_type": "code",
   "execution_count": 7,
   "metadata": {},
   "outputs": [
    {
     "name": "stdout",
     "output_type": "stream",
     "text": [
      "3 4\n",
      "ohhenrie\n",
      "charlie\n",
      "baesangwook\n",
      "obama\n",
      "baesangwook\n",
      "ohhenrie\n",
      "clinton\n"
     ]
    }
   ],
   "source": [
    "n,m=map(int,input().split())\n",
    "\n",
    "no_listen=sorted([input() for _ in range(n)])\n",
    "no_see=sorted([input() for _ in range(m)])\n",
    "\n",
    "res=sorted(list(set(no_listen) & set(no_see)))\n",
    "\n",
    "print(len(res))\n",
    "for name in res:\n",
    "    print(name)"
   ]
  }
 ],
 "metadata": {
  "kernelspec": {
   "display_name": "Python 3 (ipykernel)",
   "language": "python",
   "name": "python3"
  },
  "language_info": {
   "codemirror_mode": {
    "name": "ipython",
    "version": 3
   },
   "file_extension": ".py",
   "mimetype": "text/x-python",
   "name": "python",
   "nbconvert_exporter": "python",
   "pygments_lexer": "ipython3",
   "version": "3.9.7"
  }
 },
 "nbformat": 4,
 "nbformat_minor": 4
}
