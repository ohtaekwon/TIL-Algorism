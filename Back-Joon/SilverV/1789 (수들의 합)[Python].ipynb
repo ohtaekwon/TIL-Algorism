{
 "cells": [
  {
   "cell_type": "markdown",
   "metadata": {},
   "source": [
    "# 수들의 합\n",
    "\n",
    "---\n",
    "<br>\n",
    "\n",
    "### 문제\n",
    "\n",
    "서로 다른 N개의 자연수의 합이 S라고 한다. S를 알 때, 자연수 N의 최댓값은 얼마일까?\n",
    "\n",
    "\n",
    "<br>\n",
    "\n",
    "\n",
    "### 입력\n",
    "\n",
    "\n",
    "첫째 줄에 자연수 S(1 ≤ S ≤ 4,294,967,295)가 주어진다.\n",
    "\n",
    "\n",
    "<br>\n",
    "\n",
    "### 출력\n",
    "\n",
    "첫째 줄에 자연수 N의 최댓값을 출력한다.\n",
    "\n",
    "---"
   ]
  },
  {
   "cell_type": "markdown",
   "metadata": {},
   "source": [
    "### 예제 입력1\n",
    "\n",
    "```\n",
    "60\n",
    "100\n",
    "```\n",
    "\n",
    "### 예제 출력1\n",
    "\n",
    "```\n",
    "620\n",
    "61\n",
    "```"
   ]
  },
  {
   "cell_type": "markdown",
   "metadata": {},
   "source": [
    "---"
   ]
  },
  {
   "cell_type": "markdown",
   "metadata": {},
   "source": [
    "### 풀이 1)\n",
    "\n",
    "서로 다른 n개의 자연수의 합이 s일때, n의 최댓값을 구하는 알고리즘이다. 최댓값을 구하는 문제이므로, 1부터 차례대로 더하여 s보다 커지게 되면 그 개수에서 1을 뺴면 된다.\n",
    "\n",
    "- 합의 공식 : n*(n+1)/2 \n",
    "    - 1 부터 n까지의 합의 공식"
   ]
  },
  {
   "cell_type": "code",
   "execution_count": 18,
   "metadata": {},
   "outputs": [
    {
     "name": "stdout",
     "output_type": "stream",
     "text": [
      "200\n",
      "19\n"
     ]
    }
   ],
   "source": [
    "s = int(input())\n",
    "n = 1\n",
    "while n * (n + 1) / 2 <= s: # 합의 공식이 s보다 작을 때까지 반복\n",
    "    # n이 19일때, true\n",
    "    n += 1 # n = 19 + 1 이 된다.\n",
    "# print(n) 만약 그대로 출력하게 되면 n 의 값은 20으로 출력이 되는데, \n",
    "# 이는 합의 공식으로 보면 210이 되므로, 기존의 s값 보다 크게 돈다.\n",
    "# 따라서, n-1을 출력해야 맞다.\n",
    "print(n - 1)"
   ]
  }
 ],
 "metadata": {
  "kernelspec": {
   "display_name": "Python 3 (ipykernel)",
   "language": "python",
   "name": "python3"
  },
  "language_info": {
   "codemirror_mode": {
    "name": "ipython",
    "version": 3
   },
   "file_extension": ".py",
   "mimetype": "text/x-python",
   "name": "python",
   "nbconvert_exporter": "python",
   "pygments_lexer": "ipython3",
   "version": "3.9.7"
  }
 },
 "nbformat": 4,
 "nbformat_minor": 4
}
