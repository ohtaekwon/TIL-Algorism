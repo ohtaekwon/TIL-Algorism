{
 "cells": [
  {
   "cell_type": "markdown",
   "metadata": {},
   "source": [
    "# 막대기\n",
    "\n",
    "<br>\n",
    "<br>\n",
    "\n",
    "## 문제\n",
    "\n",
    "---\n",
    "\n",
    "지민이는 길이가 64cm인 막대를 가지고 있다. 어느 날, 그는 길이가 Xcm인 막대가 가지고 싶어졌다. 지민이는 원래 가지고 있던 막대를 더 작은 막대로 자른다음에, 풀로 붙여서 길이가 Xcm인 막대를 만들려고 한다.\n",
    "\n",
    "막대를 자르는 가장 쉬운 방법은 절반으로 자르는 것이다. 지민이는 아래와 같은 과정을 거쳐서 막대를 자르려고 한다.\n",
    "\n",
    "지민이가 가지고 있는 막대의 길이를 모두 더한다. 처음에는 64cm 막대 하나만 가지고 있다. 이때, 합이 X보다 크다면, 아래와 같은 과정을 반복한다.\n",
    "가지고 있는 막대 중 길이가 가장 짧은 것을 절반으로 자른다.\n",
    "만약, 위에서 자른 막대의 절반 중 하나를 버리고 남아있는 막대의 길이의 합이 X보다 크거나 같다면, 위에서 자른 막대의 절반 중 하나를 버린다.\n",
    "이제, 남아있는 모든 막대를 풀로 붙여서 Xcm를 만든다.\n",
    "X가 주어졌을 때, 위의 과정을 거친다면, 몇 개의 막대를 풀로 붙여서 Xcm를 만들 수 있는지 구하는 프로그램을 작성하시오. "
   ]
  },
  {
   "cell_type": "markdown",
   "metadata": {},
   "source": [
    "### 입력\n",
    "\n",
    "---\n",
    "첫째 줄에 X가 주어진다. X는 64보다 작거나 같은 자연수이다.\n",
    "\n",
    "\n",
    "<br>\n",
    "\n",
    "### 출력\n",
    "---\n",
    "문제의 과정을 거친다면, 몇 개의 막대를 풀로 붙여서 Xcm를 만들 수 있는지 출력한다.\n",
    "\n"
   ]
  },
  {
   "cell_type": "markdown",
   "metadata": {},
   "source": [
    "### 예제 입력1\n",
    "\n",
    "```\n",
    "23\n",
    "```\n",
    "\n",
    "### 예제 출력1\n",
    "\n",
    "```\n",
    "4\n",
    "```\n",
    "\n",
    "### 예제 입력2\n",
    "\n",
    "```\n",
    "32\n",
    "```\n",
    "\n",
    "### 예제 출력2\n",
    "\n",
    "```\n",
    "1\n",
    "```\n"
   ]
  },
  {
   "cell_type": "markdown",
   "metadata": {},
   "source": [
    "---"
   ]
  },
  {
   "cell_type": "markdown",
   "metadata": {},
   "source": [
    "### 풀이 1)\n",
    "\n",
    "길이가 `64`, `32`, `16`, `8`, `4`, `2`, `1` 짜리 막대를 최소 몇개 붙여야 하느냐를 묻는 문제이다.\n",
    "\n",
    "2진법으로 나타냈을 때 1 이 몇개 있냐는 말이다.\n",
    "\n",
    "예를 들어 5같은 경우 이진법으로 나타내면 101이다. 1이 2개 있으므로 답은 2이다.\n",
    "\n",
    "23같은 경우 이진법으로 나타내면 10111이다. 1이 4애 있으므로 답은 4이다."
   ]
  },
  {
   "cell_type": "code",
   "execution_count": null,
   "metadata": {},
   "outputs": [],
   "source": [
    "# X보다 크다면,\n",
    "\n",
    "## 1) 가장 짧은 것을 1/2 = a\n",
    "## 2) 절반 중 하나를 버리고 남아 있는 막대의 길이의 합이 x<= a\n",
    "## 절반 중 하나를 버림\n",
    "\n",
    "# 남아 있는 모든 막대 +"
   ]
  },
  {
   "cell_type": "code",
   "execution_count": 3,
   "metadata": {},
   "outputs": [
    {
     "name": "stdout",
     "output_type": "stream",
     "text": [
      "23\n",
      "4\n"
     ]
    }
   ],
   "source": [
    "x=int(input())\n",
    "cnt=0\n",
    "while x!=0:\n",
    "    if x%2==1: # 짝수이면\n",
    "        cnt+=1\n",
    "    x=x//2\n",
    "print(cnt)\n",
    "        \n",
    "        "
   ]
  },
  {
   "cell_type": "code",
   "execution_count": 11,
   "metadata": {},
   "outputs": [
    {
     "name": "stdout",
     "output_type": "stream",
     "text": [
      "23\n",
      "2\n"
     ]
    }
   ],
   "source": [
    "x=int(input())\n",
    "\n",
    "s = [64, 32, 16, 8, 4, 2, 1]\n",
    "cnt=0\n",
    "\n",
    "for i in s:\n",
    "    if i >= x:\n",
    "        cnt+=1\n",
    "    \n",
    "print(cnt)"
   ]
  },
  {
   "cell_type": "markdown",
   "metadata": {},
   "source": [
    "### 풀이 2)\n",
    "\n",
    "- X가 주어졌을 때, 몇 개의 막대를 풀로 붙여서 Xcm를 만들 수 있는가?\n",
    "- 막대의 처음 길이는 64cm.\n",
    "- X는 64보다 작거나 같은 자연수이다.\n"
   ]
  },
  {
   "cell_type": "code",
   "execution_count": 12,
   "metadata": {},
   "outputs": [],
   "source": [
    "def stick(x):\n",
    "    num = 1 ## 이어 붙일 막대기 수\n",
    "    total_stick = 64 ## 남아있는 막대기 총 길이\n",
    "    min_stick = 64 ## 가장 짧은 막대기\n",
    "    \n",
    "    while(total_stick != x):\n",
    "        min_stick = min_stick/2\n",
    "        ## 가장 짧은 막대를 절반으로 자르고, 절반 중 하나를 제외했을 때\n",
    "        ## (막대기 전체 총 길이 > x) 라면, 절반 중 하나를 버린다. \n",
    "        if total_stick - min_stick > x:\n",
    "            total_stick = total_stick - min_stick\n",
    "        elif total_stick - min_stick < x:\n",
    "            num = num + 1 ## 막대기 수가 늘어난다.\n",
    "        else: \n",
    "            return num\n",
    "    return num\n"
   ]
  },
  {
   "cell_type": "code",
   "execution_count": 13,
   "metadata": {},
   "outputs": [
    {
     "name": "stdout",
     "output_type": "stream",
     "text": [
      "stick(23) :  4\n"
     ]
    }
   ],
   "source": [
    "print(\"stick(23) : \", stick(23))\n",
    "\n"
   ]
  },
  {
   "cell_type": "code",
   "execution_count": null,
   "metadata": {},
   "outputs": [],
   "source": []
  }
 ],
 "metadata": {
  "kernelspec": {
   "display_name": "Python 3",
   "language": "python",
   "name": "python3"
  },
  "language_info": {
   "codemirror_mode": {
    "name": "ipython",
    "version": 3
   },
   "file_extension": ".py",
   "mimetype": "text/x-python",
   "name": "python",
   "nbconvert_exporter": "python",
   "pygments_lexer": "ipython3",
   "version": "3.8.3"
  }
 },
 "nbformat": 4,
 "nbformat_minor": 4
}
