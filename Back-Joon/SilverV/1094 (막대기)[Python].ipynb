{
 "cells": [
  {
   "cell_type": "markdown",
   "metadata": {},
   "source": [
    "# 막대기\n",
    "\n",
    "<br>\n",
    "<br>\n",
    "\n",
    "## 문제\n",
    "\n",
    "---\n",
    "\n",
    "지민이는 길이가 64cm인 막대를 가지고 있다. 어느 날, 그는 길이가 Xcm인 막대가 가지고 싶어졌다. 지민이는 원래 가지고 있던 막대를 더 작은 막대로 자른다음에, 풀로 붙여서 길이가 Xcm인 막대를 만들려고 한다.\n",
    "\n",
    "막대를 자르는 가장 쉬운 방법은 절반으로 자르는 것이다. 지민이는 아래와 같은 과정을 거쳐서 막대를 자르려고 한다.\n",
    "\n",
    "지민이가 가지고 있는 막대의 길이를 모두 더한다. 처음에는 64cm 막대 하나만 가지고 있다. 이때, 합이 X보다 크다면, 아래와 같은 과정을 반복한다.\n",
    "가지고 있는 막대 중 길이가 가장 짧은 것을 절반으로 자른다.\n",
    "만약, 위에서 자른 막대의 절반 중 하나를 버리고 남아있는 막대의 길이의 합이 X보다 크거나 같다면, 위에서 자른 막대의 절반 중 하나를 버린다.\n",
    "이제, 남아있는 모든 막대를 풀로 붙여서 Xcm를 만든다.\n",
    "X가 주어졌을 때, 위의 과정을 거친다면, 몇 개의 막대를 풀로 붙여서 Xcm를 만들 수 있는지 구하는 프로그램을 작성하시오. "
   ]
  },
  {
   "cell_type": "markdown",
   "metadata": {},
   "source": [
    "### 입력\n",
    "\n",
    "---\n",
    "첫째 줄에 X가 주어진다. X는 64보다 작거나 같은 자연수이다.\n",
    "\n",
    "\n",
    "<br>\n",
    "\n",
    "### 출력\n",
    "---\n",
    "문제의 과정을 거친다면, 몇 개의 막대를 풀로 붙여서 Xcm를 만들 수 있는지 출력한다.\n",
    "\n"
   ]
  },
  {
   "cell_type": "markdown",
   "metadata": {},
   "source": [
    "### 예제 입력1\n",
    "\n",
    "```\n",
    "23\n",
    "```\n",
    "\n",
    "### 예제 출력1\n",
    "\n",
    "```\n",
    "4\n",
    "```\n",
    "\n",
    "### 예제 입력2\n",
    "\n",
    "```\n",
    "2\n",
    "contest.txt\n",
    "context.txt\n",
    "```\n",
    "\n",
    "### 예제 출력2\n",
    "\n",
    "```\n",
    "conte?t.txt\n",
    "```\n",
    "\n",
    "### 예제 입력3\n",
    "\n",
    "```\n",
    "3\n",
    "c.user.mike.programs\n",
    "c.user.nike.programs\n",
    "c.user.rice.programs\n",
    "```\n",
    "\n",
    "### 예제 출력3\n",
    "\n",
    "```\n",
    "c.user.?i?e.programs\n",
    "```\n",
    "\n",
    "### 예제 입력4\n",
    "\n",
    "```\n",
    "4\n",
    "a\n",
    "a\n",
    "b\n",
    "b\n",
    "```\n",
    "\n",
    "### 예제 출력4\n",
    "\n",
    "```\n",
    "?\n",
    "```\n",
    "\n",
    "### 예제 입력5\n",
    "\n",
    "```\n",
    "1\n",
    "onlyonefile\n",
    "```\n",
    "\n",
    "### 예제 출력5\n",
    "\n",
    "```\n",
    "onlyonefile\n",
    "```"
   ]
  },
  {
   "cell_type": "markdown",
   "metadata": {},
   "source": [
    "---"
   ]
  },
  {
   "cell_type": "markdown",
   "metadata": {},
   "source": [
    "### 풀이\n",
    "\n",
    "- 뒤에 두 자리를 없애기 위해서 100으로 나눈다.\n",
    "- 나눈 값을 다시 100을 곱해주면 뒤에 두 자리는 00으로 바뀐다.\n",
    "    - // : 나누기 연산 후 소수점 이하를 버린 정수부분의 수"
   ]
  },
  {
   "cell_type": "markdown",
   "metadata": {},
   "source": [
    "#### 풀이 1)"
   ]
  },
  {
   "cell_type": "code",
   "execution_count": 1,
   "metadata": {},
   "outputs": [
    {
     "name": "stdout",
     "output_type": "stream",
     "text": [
      "23\n"
     ]
    }
   ],
   "source": [
    "x=int(input())"
   ]
  },
  {
   "cell_type": "code",
   "execution_count": null,
   "metadata": {},
   "outputs": [],
   "source": [
    "# X보다 크다면,\n",
    "\n",
    "## 1) 가장 짧은 것을 1/2 = a\n",
    "## 2) 절반 중 하나를 버리고 남아 있는 막대의 길이의 합이 x<= a\n",
    "## 절반 중 하나를 버림\n",
    "\n",
    "# 남아 있는 모든 막대 +"
   ]
  },
  {
   "cell_type": "code",
   "execution_count": null,
   "metadata": {},
   "outputs": [],
   "source": [
    "while True:\n",
    "    cnt=0\n",
    "    \n",
    "    if  <= x:\n",
    "        \n",
    "        break\n",
    "        \n",
    "    if "
   ]
  },
  {
   "cell_type": "code",
   "execution_count": 3,
   "metadata": {},
   "outputs": [
    {
     "data": {
      "text/plain": [
       "16"
      ]
     },
     "execution_count": 3,
     "metadata": {},
     "output_type": "execute_result"
    }
   ],
   "source": [
    "s = [64, 32, 16, 8, 4, 2, 1]\n",
    "cnt=0\n",
    "\n",
    "for i in s:\n",
    "    if i >= x:\n",
    "        cnt+=1\n",
    "    else:"
   ]
  },
  {
   "cell_type": "markdown",
   "metadata": {},
   "source": [
    "#### 풀이 2)"
   ]
  }
 ],
 "metadata": {
  "kernelspec": {
   "display_name": "Python 3",
   "language": "python",
   "name": "python3"
  },
  "language_info": {
   "codemirror_mode": {
    "name": "ipython",
    "version": 3
   },
   "file_extension": ".py",
   "mimetype": "text/x-python",
   "name": "python",
   "nbconvert_exporter": "python",
   "pygments_lexer": "ipython3",
   "version": "3.8.3"
  }
 },
 "nbformat": 4,
 "nbformat_minor": 4
}
