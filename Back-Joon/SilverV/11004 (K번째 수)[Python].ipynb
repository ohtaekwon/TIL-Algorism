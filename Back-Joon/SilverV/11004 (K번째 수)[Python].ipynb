{
 "cells": [
  {
   "cell_type": "markdown",
   "metadata": {},
   "source": [
    "# [K번째 수](https://www.acmicpc.net/problem/11004)\n",
    "\n",
    "\n",
    "<br/>\n",
    "<br/>\n",
    "\n",
    "## 문제\n",
    "\n",
    "수 N개 A1, A2, ..., AN이 주어진다. A를 오름차순 정렬했을 때, 앞에서부터 K번째 있는 수를 구하는 프로그램을 작성하시오.\n",
    "\n",
    "\n",
    "## 입력\n",
    "\n",
    "첫째 줄에 N(1 ≤ N ≤ 5,000,000)과 K (1 ≤ K ≤ N)이 주어진다.\n",
    "\n",
    "둘째에는 A1, A2, ..., AN이 주어진다. (-10$^9$ ≤ Ai ≤ 10$^9$)\n",
    "\n",
    "\n",
    "## 출력\n",
    "\n",
    "A를 정렬했을 때, 앞에서부터 K번째 있는 수를 출력한다.\n",
    "\n",
    "\n",
    "## 예제 입력1\n",
    "\n",
    "```\n",
    "5 2\n",
    "4 1 2 3 5\n",
    "```\n",
    "\n",
    "## 예제 출력1\n",
    "\n",
    "```\n",
    "2\n",
    "```\n",
    "\n",
    "## 알고리즘 분류\n",
    "\n",
    "- 정렬"
   ]
  },
  {
   "cell_type": "markdown",
   "metadata": {},
   "source": [
    "---"
   ]
  },
  {
   "cell_type": "markdown",
   "metadata": {},
   "source": [
    "## 풀이 방법\n",
    "\n",
    "- 데이터의 개수가 최대 5,000,000개이다.\n",
    "- 시간 복잡도 $O$($N$log$N$)의 정렬 알고리즘을 이용해야 한다.\n",
    "    - 500000 x 22 = 1억\n",
    "- 고급 정렬 알고리즘 (병합 정렬, 퀵 정렬, 힙 정렬 등)을 이용하여 문제를 해결할 수 있다.\n",
    "- 혹은 파이썬의 기본 라이브러리를 이용하여 문제를 풀 수 있다.\n",
    "    - 기본 라이브러리는 $O$($N$log$N$의 알고리즘을 보장한다.\n",
    "- 시간적 이점을 위하여 PyPy3를 선택하여 코드를 제출한다."
   ]
  },
  {
   "cell_type": "markdown",
   "metadata": {},
   "source": [
    "### 풀이 코드 1)\n",
    "\n",
    "- 단순 기본 라이브러리 이용"
   ]
  },
  {
   "cell_type": "code",
   "execution_count": 7,
   "metadata": {},
   "outputs": [
    {
     "name": "stdout",
     "output_type": "stream",
     "text": [
      "5 2\n",
      "4 1 2 3 5\n",
      "2\n"
     ]
    }
   ],
   "source": [
    "n,k=map(int,input().split())\n",
    "array=list(map(int,input().split()))\n",
    "array=sorted(array)\n",
    "print(array[k-1])"
   ]
  },
  {
   "cell_type": "markdown",
   "metadata": {},
   "source": [
    "### 풀이 코드 2)"
   ]
  },
  {
   "cell_type": "code",
   "execution_count": null,
   "metadata": {},
   "outputs": [],
   "source": [
    "def merge_sort(array):\n",
    "    if len(array)<=1:\n",
    "        return array\n",
    "    \n",
    "    mid=len(array) // 2\n",
    "    left=merge_sort(array[:mid])\n",
    "    right=merge_sort(array[mid:])\n",
    "    i,j,k = 0,0,0\n",
    "    \n",
    "    while i<len(left) and j<len(right): # 왼쪽 혹은 오른쪽이 끝날 때까지\n",
    "        if left[i]<right[j]:\n",
    "            array[k]=left[i]\n",
    "            i+=1\n",
    "        else: # left[i]>right[j]\n",
    "            array[k]=right[j]\n",
    "            j+=1\n",
    "        k+=1\n",
    "    \n",
    "    \n",
    "    # 왼쪽 리스트와 오른쪽 리스트중 먼저 끝난 경우\n",
    "    if i==len(left): # 왼쪽이 먼저 끝난 경우\n",
    "        while j < len(right): # 나머지 오른쪽을 이어 붙인다. \n",
    "            array[k]=right[j]\n",
    "            j+=1\n",
    "            k+=1\n",
    "    elif j==len(right): #오른쪽이 먼저 끝난 경우\n",
    "        while i < len(left): # 나머지 왼쪽을 이어 붙인다. \n",
    "            array[k]=left[i]\n",
    "            i+=1\n",
    "            k+=1\n",
    "\n",
    "    return array\n",
    "\n",
    "\n",
    "n,k=map(int,input().split())\n",
    "array=list(map(int,input().split()))\n",
    "array=merge_sort(array)\n",
    "print(array[k-1])"
   ]
  }
 ],
 "metadata": {
  "kernelspec": {
   "display_name": "Python 3 (ipykernel)",
   "language": "python",
   "name": "python3"
  },
  "language_info": {
   "codemirror_mode": {
    "name": "ipython",
    "version": 3
   },
   "file_extension": ".py",
   "mimetype": "text/x-python",
   "name": "python",
   "nbconvert_exporter": "python",
   "pygments_lexer": "ipython3",
   "version": "3.9.7"
  }
 },
 "nbformat": 4,
 "nbformat_minor": 4
}
