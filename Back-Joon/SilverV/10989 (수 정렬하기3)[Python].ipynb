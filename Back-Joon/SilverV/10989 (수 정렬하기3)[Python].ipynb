{
 "cells": [
  {
   "cell_type": "markdown",
   "metadata": {},
   "source": [
    "# [수 정렬하기 3](https://www.acmicpc.net/problem/10989)\n",
    "\n",
    "<br/>\n",
    "<br/>\n",
    "\n",
    "## 문제\n",
    "\n",
    "N개의 수가 주어졌을 때, 이를 오름차순으로 정렬하는 프로그램을 작성하시오.\n",
    "\n",
    "\n",
    "## 입력\n",
    "\n",
    "첫째 줄에 수의 개수 N(1 ≤ N ≤ 10,000,000)이 주어진다. 둘째 줄부터 N개의 줄에는 수가 주어진다. 이 수는 10,000보다 작거나 같은 자연수이다.\n",
    "\n",
    "## 출력\n",
    "\n",
    "첫째 줄부터 N개의 줄에 오름차순으로 정렬한 결과를 한 줄에 하나씩 출력한다.\n",
    "\n",
    "## 예제 입력\n",
    "\n",
    "```\n",
    "10\n",
    "5\n",
    "2\n",
    "3\n",
    "1\n",
    "4\n",
    "2\n",
    "3\n",
    "5\n",
    "1\n",
    "7\n",
    "```\n",
    "\n",
    "## 예제 출력\n",
    "\n",
    "```\n",
    "1\n",
    "1\n",
    "2\n",
    "2\n",
    "3\n",
    "3\n",
    "4\n",
    "5\n",
    "5\n",
    "7\n",
    "```\n",
    "\n",
    "## 알고리즘 분류\n",
    "\n",
    "- 정렬"
   ]
  },
  {
   "cell_type": "markdown",
   "metadata": {},
   "source": [
    "---"
   ]
  },
  {
   "cell_type": "markdown",
   "metadata": {},
   "source": [
    "## 풀이\n",
    "\n",
    "### 문제 해결 방법 - 알고리즘\n",
    "\n",
    "- 데이터의 개수가 10,000,000까지 있으므로, 시간복잡도에 대해서 생각을 해야한다.\n",
    "- 데이터의 개수가 10,000,000까지\n",
    "    - 즉 데이터의 개수가 많지만, 범위가 좁다.\n",
    "- 시간복잡도 $O$($N$)의 정렬을 이용해야 한다.\n",
    "- 수의 범위가 1~10,000이므로, `계수 정렬`을 이용할 수 있다.\n",
    "\n",
    "### 계수 정렬 (Counting Sort)알고리즘\n",
    "\n",
    "- 배열의 인덱스를 특정한 데이터의 값으로 여기는 정렬 방법이다.\n",
    "- 배열의 크기는 데이터의 범위를 포함할 수 있도록 설정한다.\n",
    "- 데이터가 등장한 횟수를 센다.\n",
    "\n",
    "|0|1|2|3|4|5|6|7|8|9|\n",
    "|-|-|-|-|-|-|-|-|-|-|\n",
    "|0|0|0|0|0|0|0|0|0|0|\n",
    "\n",
    "- 예를 들어서 [3,3,7] 이라면,\n",
    "\n",
    "|0|1|2|3|4|5|6|7|8|9|\n",
    "|-|-|-|-|-|-|-|-|-|-|\n",
    "|0|0|0|2|0|0|0|1|0|0|\n",
    "\n",
    "- 예시 데이터 : 7,5,9,0,3,1,6,2,9,1,4,8,0,5,2\n",
    "\n",
    "|0|1|2|3|4|5|6|7|8|9|\n",
    "|-|-|-|-|-|-|-|-|-|-|\n",
    "|2|2|2|1|1|2|1|1|1|2|\n",
    "\n",
    "- 유의 사항 : 데이터의 개수가 많을 때 파이썬에서는 `sys.stdin.readline()`을 사용해야 한다.\n",
    "\n",
    "### 또 다른 풀이 방법\n",
    "- 1) 버블 정렬을 통해서 푼다\n",
    "    - 앞의 수와 뒤의 수를 비교해서 자리를 바꿔간다.\n",
    "    - 시간 복잡도를 초과한다\n",
    "- 2) 힙정렬로 풀면?\n",
    "    - 시간 복잡도는 $O$($N$log$N$)이다."
   ]
  },
  {
   "cell_type": "markdown",
   "metadata": {},
   "source": [
    "### 풀이 코드 1)\n",
    "\n",
    "- for 문 속에서 자리를 append를 사용하는 것은 메모리 재할당이 이루어져서 메모리를 효율적으로 사용할 수 없다.\n",
    "- 일반적으로 입력값이 크지 않은 경우에는 상관이 없지만, 입력값이 극한으로 주어질 때에는 메모리를 좀 더 효율적으로 관리해야한다.\n",
    "- 그래서, 입력값이 100000개 주어일 수 있으니 10000개 만큼의 리스트를 미리 만들어 놓는다."
   ]
  },
  {
   "cell_type": "code",
   "execution_count": 10,
   "metadata": {
    "scrolled": false
   },
   "outputs": [
    {
     "ename": "ValueError",
     "evalue": "invalid literal for int() with base 10: ''",
     "output_type": "error",
     "traceback": [
      "\u001b[1;31m---------------------------------------------------------------------------\u001b[0m",
      "\u001b[1;31mValueError\u001b[0m                                Traceback (most recent call last)",
      "\u001b[1;32m~\\AppData\\Local\\Temp/ipykernel_33932/1172041793.py\u001b[0m in \u001b[0;36m<module>\u001b[1;34m\u001b[0m\n\u001b[0;32m      1\u001b[0m \u001b[1;32mimport\u001b[0m \u001b[0msys\u001b[0m\u001b[1;33m\u001b[0m\u001b[1;33m\u001b[0m\u001b[0m\n\u001b[0;32m      2\u001b[0m \u001b[1;33m\u001b[0m\u001b[0m\n\u001b[1;32m----> 3\u001b[1;33m \u001b[0mn\u001b[0m\u001b[1;33m=\u001b[0m\u001b[0mint\u001b[0m\u001b[1;33m(\u001b[0m\u001b[0msys\u001b[0m\u001b[1;33m.\u001b[0m\u001b[0mstdin\u001b[0m\u001b[1;33m.\u001b[0m\u001b[0mreadline\u001b[0m\u001b[1;33m(\u001b[0m\u001b[1;33m)\u001b[0m\u001b[1;33m)\u001b[0m\u001b[1;33m\u001b[0m\u001b[1;33m\u001b[0m\u001b[0m\n\u001b[0m\u001b[0;32m      4\u001b[0m \u001b[0marray\u001b[0m\u001b[1;33m=\u001b[0m\u001b[1;33m[\u001b[0m\u001b[1;36m0\u001b[0m\u001b[1;33m]\u001b[0m\u001b[1;33m*\u001b[0m\u001b[1;36m10001\u001b[0m\u001b[1;33m\u001b[0m\u001b[1;33m\u001b[0m\u001b[0m\n\u001b[0;32m      5\u001b[0m \u001b[1;33m\u001b[0m\u001b[0m\n",
      "\u001b[1;31mValueError\u001b[0m: invalid literal for int() with base 10: ''"
     ]
    }
   ],
   "source": [
    "import sys\n",
    "\n",
    "n=int(sys.stdin.readline())\n",
    "array=[0]*10001\n",
    "\n",
    "for _ in range(n):\n",
    "    data=int(sys.stdin.readline())\n",
    "    array[data]+=1\n",
    "    # 인덱스로 입력하여 해당 원소에 입력이 되면, +1\n",
    "    # 이렇게 하면 인덱스별로 입력이 되었기때문에 정렬이 된다.\n",
    "\n",
    "for i in range(10001):\n",
    "    if array[i] !=0: # array[i] != 0 은 원소가 입력이 되었다는 말\n",
    "        for j in range(array[i]):\n",
    "            print(i)"
   ]
  },
  {
   "cell_type": "code",
   "execution_count": 8,
   "metadata": {},
   "outputs": [
    {
     "name": "stdout",
     "output_type": "stream",
     "text": [
      "10\n",
      "5\n",
      "2\n",
      "3\n",
      "1\n",
      "4\n",
      "2\n",
      "3\n",
      "5\n",
      "1\n",
      "7\n",
      "1\n",
      "1\n",
      "2\n",
      "2\n",
      "3\n",
      "3\n",
      "4\n",
      "5\n",
      "5\n",
      "7\n"
     ]
    }
   ],
   "source": [
    "n=int(input())\n",
    "array=[0]*100001\n",
    "\n",
    "for _ in range(n):\n",
    "    data=int(input())\n",
    "    array[data]+=1\n",
    "    \n",
    "for i in range(10001):\n",
    "    if array[i]!=0:\n",
    "        for _ in range(array[i]):\n",
    "            print(i)"
   ]
  },
  {
   "cell_type": "markdown",
   "metadata": {},
   "source": [
    "## 또 다른 풀이"
   ]
  },
  {
   "cell_type": "markdown",
   "metadata": {},
   "source": [
    "### 풀이 코드 2)\n",
    "\n",
    "- 메모리 초과가 나온다."
   ]
  },
  {
   "cell_type": "code",
   "execution_count": 1,
   "metadata": {},
   "outputs": [
    {
     "name": "stdout",
     "output_type": "stream",
     "text": [
      "10\n",
      "5\n",
      "2\n",
      "3\n",
      "1\n",
      "4\n",
      "2\n",
      "3\n",
      "5\n",
      "1\n",
      "7\n",
      "1\n",
      "1\n",
      "2\n",
      "2\n",
      "3\n",
      "3\n",
      "4\n",
      "5\n",
      "5\n",
      "7\n"
     ]
    }
   ],
   "source": [
    "n=int(input())\n",
    "numbers=[]\n",
    "flag=1\n",
    "for _ in range(n):\n",
    "    num=int(input())\n",
    "    numbers.append(num)\n",
    "\n",
    "for i in range(len(numbers)-1):\n",
    "    for j in range(len(numbers)-i-1):\n",
    "        if numbers[j]>numbers[j+1]:\n",
    "            numbers[j],numbers[j+1] =numbers[j+1], numbers[j]\n",
    "            flag=1\n",
    "if flag!=0:\n",
    "    for i in numbers:\n",
    "        print(i)"
   ]
  },
  {
   "cell_type": "markdown",
   "metadata": {},
   "source": [
    "### 풀이 코드 3)\n",
    "\n",
    "- 힙정렬로 풀이\n",
    "- 메모리가 초과한다."
   ]
  },
  {
   "cell_type": "code",
   "execution_count": 7,
   "metadata": {},
   "outputs": [
    {
     "name": "stdout",
     "output_type": "stream",
     "text": [
      "10\n",
      "5\n",
      "2\n",
      "3\n",
      "1\n",
      "4\n",
      "2\n",
      "3\n",
      "5\n",
      "1\n",
      "7\n",
      "1\n",
      "1\n",
      "2\n",
      "2\n",
      "4\n",
      "3\n",
      "3\n",
      "5\n",
      "5\n",
      "7\n"
     ]
    }
   ],
   "source": [
    "import heapq\n",
    "n=int(input())\n",
    "numbers=[int(input()) for _ in range(n)]\n",
    "heapq.heapify(numbers)\n",
    "for i in numbers:\n",
    "    print(i)"
   ]
  }
 ],
 "metadata": {
  "kernelspec": {
   "display_name": "Python 3 (ipykernel)",
   "language": "python",
   "name": "python3"
  },
  "language_info": {
   "codemirror_mode": {
    "name": "ipython",
    "version": 3
   },
   "file_extension": ".py",
   "mimetype": "text/x-python",
   "name": "python",
   "nbconvert_exporter": "python",
   "pygments_lexer": "ipython3",
   "version": "3.9.7"
  }
 },
 "nbformat": 4,
 "nbformat_minor": 4
}
