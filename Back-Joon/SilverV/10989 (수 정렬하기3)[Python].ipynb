{
 "cells": [
  {
   "cell_type": "markdown",
   "metadata": {},
   "source": [
    "# [수 정렬하기 3](https://www.acmicpc.net/problem/10989)\n",
    "\n",
    "<br>\n",
    "<br>\n",
    "\n",
    "## 문제\n",
    "\n",
    "N개의 수가 주어졌을 때, 이를 오름차순으로 정렬하는 프로그램을 작성하시오.\n",
    "\n",
    "\n",
    "## 입력\n",
    "\n",
    "첫째 줄에 수의 개수 N(1 ≤ N ≤ 10,000,000)이 주어진다. 둘째 줄부터 N개의 줄에는 수가 주어진다. 이 수는 10,000보다 작거나 같은 자연수이다.\n",
    "\n",
    "## 출력\n",
    "\n",
    "첫째 줄부터 N개의 줄에 오름차순으로 정렬한 결과를 한 줄에 하나씩 출력한다.\n",
    "\n",
    "## 예제 입력\n",
    "\n",
    "```\n",
    "10\n",
    "5\n",
    "2\n",
    "3\n",
    "1\n",
    "4\n",
    "2\n",
    "3\n",
    "5\n",
    "1\n",
    "7\n",
    "```\n",
    "\n",
    "## 예제 출력\n",
    "\n",
    "```\n",
    "1\n",
    "1\n",
    "2\n",
    "2\n",
    "3\n",
    "3\n",
    "4\n",
    "5\n",
    "5\n",
    "7\n",
    "```\n",
    "\n",
    "## 알고리즘 분류\n",
    "\n",
    "- 정렬"
   ]
  },
  {
   "cell_type": "markdown",
   "metadata": {},
   "source": [
    "---"
   ]
  },
  {
   "cell_type": "markdown",
   "metadata": {},
   "source": [
    "## 풀이\n",
    "\n",
    "### 문제 해결 방법 - 알고리즘\n",
    "\n",
    "- 버블 정렬을 통해서 푼다.\n",
    "- 앞의 수와 뒤의 수를 비교해서 자리를 바꿔간다."
   ]
  },
  {
   "cell_type": "markdown",
   "metadata": {},
   "source": [
    "### 풀이 코드 1)\n",
    "\n",
    "- 메모리 초과가 나온다."
   ]
  },
  {
   "cell_type": "code",
   "execution_count": 1,
   "metadata": {},
   "outputs": [
    {
     "ename": "IndentationError",
     "evalue": "expected an indented block (Temp/ipykernel_26860/4213672622.py, line 15)",
     "output_type": "error",
     "traceback": [
      "\u001b[1;36m  File \u001b[1;32m\"C:\\Users\\태권\\AppData\\Local\\Temp/ipykernel_26860/4213672622.py\"\u001b[1;36m, line \u001b[1;32m15\u001b[0m\n\u001b[1;33m    print(i)\u001b[0m\n\u001b[1;37m    ^\u001b[0m\n\u001b[1;31mIndentationError\u001b[0m\u001b[1;31m:\u001b[0m expected an indented block\n"
     ]
    }
   ],
   "source": [
    "n=int(input())\n",
    "numbers=[]\n",
    "flag=1\n",
    "for _ in range(n):\n",
    "    num=int(input())\n",
    "    numbers.append(num)\n",
    "\n",
    "for i in range(len(numbers)-1):\n",
    "    for j in range(len(numbers)-i-1):\n",
    "        if numbers[j]>numbers[j+1]:\n",
    "            numbers[j],numbers[j+1] =numbers[j+1], numbers[j]\n",
    "            flag=1\n",
    "if flag!=0:\n",
    "    for i in numbers:\n",
    "        print(i)"
   ]
  },
  {
   "cell_type": "markdown",
   "metadata": {},
   "source": [
    "### 풀이 코드 2)\n",
    "\n",
    "- for 문 속에서 자리를 append를 사용하는 것은 메모리 재할당이 이루어져서 메모리를 효율적으로 사용할 수 없다.\n",
    "- 일반적으로 입력값이 크지 않은 경우에는 상관이 없지만, 입력값이 극한으로 주어질 때에는 메모리를 좀 더 효율적으로 관리해야한다.\n",
    "- 그래서, 입력값이 100000개 주어일 수 있으니 10000개 만큼의 리스트를 미리 만들어 놓는다."
   ]
  },
  {
   "cell_type": "code",
   "execution_count": null,
   "metadata": {},
   "outputs": [],
   "source": [
    "import sys\n",
    "\n",
    "n = int(sys.stdin.readline())\n",
    "num_list = [0] * 10001\n",
    "\n",
    "for _ in range(n):\n",
    "    num_list[int(sys.stdin.readline())] += 1\n",
    "\n",
    "for i in range(10001):\n",
    "    if num_list[i] != 0:\n",
    "        for j in range(num_list[i]):\n",
    "            print(i)"
   ]
  },
  {
   "cell_type": "code",
   "execution_count": null,
   "metadata": {},
   "outputs": [],
   "source": []
  },
  {
   "cell_type": "code",
   "execution_count": 8,
   "metadata": {},
   "outputs": [
    {
     "name": "stdout",
     "output_type": "stream",
     "text": [
      "5\n",
      "4\n",
      "3\n",
      "2\n",
      "1\n",
      "1\n",
      "2\n",
      "3\n",
      "4\n",
      "5\n"
     ]
    }
   ],
   "source": [
    "n=5\n",
    "num_list=[0]*10001\n",
    "\n",
    "for _ in range(n):\n",
    "    num_list[int(input())] +=1 \n",
    "# 인덱스로 입력하여 해당 원소에 입력이 되면, +1\n",
    "# 이렇게 하면 인덱스별로 입력이 되었기때문에 정렬이 된다.\n",
    "\n",
    "for i in range(10001): \n",
    "    if num_list[i]!=0:# num_list != 0 은 원소가 입력이 되었다는 말\n",
    "        for j in range(num_list[i]):\n",
    "            print(i)"
   ]
  }
 ],
 "metadata": {
  "kernelspec": {
   "display_name": "Python 3 (ipykernel)",
   "language": "python",
   "name": "python3"
  },
  "language_info": {
   "codemirror_mode": {
    "name": "ipython",
    "version": 3
   },
   "file_extension": ".py",
   "mimetype": "text/x-python",
   "name": "python",
   "nbconvert_exporter": "python",
   "pygments_lexer": "ipython3",
   "version": "3.9.7"
  }
 },
 "nbformat": 4,
 "nbformat_minor": 4
}
