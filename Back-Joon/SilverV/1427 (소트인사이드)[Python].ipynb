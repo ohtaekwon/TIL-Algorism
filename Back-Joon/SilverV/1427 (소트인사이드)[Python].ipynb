{
 "cells": [
  {
   "cell_type": "markdown",
   "metadata": {},
   "source": [
    "# [소트인사이드](https://www.acmicpc.net/problem/1427)\n",
    "\n",
    "<br/>\n",
    "<br/>\n",
    "\n",
    "## 문제\n",
    "\n",
    "배열을 정렬하는 것은 쉽다. 수가 주어지면, 그 수의 각 자리수를 내림차순으로 정렬해보자.\n",
    "\n",
    "\n",
    "## 입력\n",
    "\n",
    "첫째 줄에 정렬하려고 하는 수 N이 주어진다. N은 1,000,000,000보다 작거나 같은 자연수이다.\n",
    "\n",
    "\n",
    "\n",
    "## 출력\n",
    "\n",
    "첫째 줄에 자리수를 내림차순으로 정렬한 수를 출력한다.\n",
    "\n",
    "## 예제 입력1\n",
    "\n",
    "```\n",
    "2143\n",
    "\n",
    "```\n",
    "\n",
    "## 예제 출력1\n",
    "\n",
    "```\n",
    "4321\n",
    "```\n",
    "\n",
    "## 알고리즘 분류\n",
    "\n",
    "- 문자열\n",
    "- 정렬\n"
   ]
  },
  {
   "cell_type": "markdown",
   "metadata": {},
   "source": [
    "---"
   ]
  },
  {
   "cell_type": "markdown",
   "metadata": {},
   "source": [
    "## 풀이방법\n",
    "\n",
    "### 문제 해결 아이디어\n",
    "\n",
    "- 데이터가 1,000,000,000까지 주어진다. 자리수로 따지면 최대 10자리\n",
    "- 각 자리수 기준으로 내림차순을 한다.\n",
    "    - 9부터 0까지 차례대로 확인한다.\n",
    "    - 각 숫자에 대하여 해당 숫자의 개수를 계산하여 출력\n",
    "\n",
    "- 예를 들어 입력이 999297 일때,\n",
    "|0|1|2|3|4|5|6|7|8|9|\n",
    "|-|-|-|-|-|-|-|-|-|-|\n",
    "|0|0|0|0|0|0|0|0|0|2| \n",
    "출력 : 99\n",
    "\n",
    "\n",
    "   \n",
    "|0|1|2|3|4|5|6|7|8|9|\n",
    "|-|-|-|-|-|-|-|-|-|-|\n",
    "|0|0|0|0|0|0|0|0|2|2|\n",
    "출력 : 9988\n",
    "    \n",
    "|0|1|2|3|4|5|6|7|8|9|\n",
    "|-|-|-|-|-|-|-|-|-|-|\n",
    "|0|0|0|0|0|0|0|1|0|2|\n",
    "출력 : 99887\n",
    "\n",
    "|0|1|2|3|4|5|6|7|8|9|\n",
    "|-|-|-|-|-|-|-|-|-|-|\n",
    "|0|0|1|0|0|0|0|0|0|2|\n",
    "출력 : 998872 \n",
    "    "
   ]
  },
  {
   "cell_type": "markdown",
   "metadata": {},
   "source": [
    "### 풀이 코드 1)"
   ]
  },
  {
   "cell_type": "code",
   "execution_count": null,
   "metadata": {},
   "outputs": [],
   "source": [
    "array = input()\n",
    "\n",
    "for i in range(9,-1,-1): # 9부터 0까지 모든 수를 확인 할 수 있도록 반복\n",
    "    for j in array: # 배열의 원소를 하나씩 꺼낼때\n",
    "        if int(j)==i: # 각 수가 9부터 0까지 반복하는 i에 해당하면\n",
    "            print(i,end='') # 출력"
   ]
  },
  {
   "cell_type": "markdown",
   "metadata": {},
   "source": [
    "### 풀이 코드 2)"
   ]
  },
  {
   "cell_type": "code",
   "execution_count": 21,
   "metadata": {},
   "outputs": [
    {
     "name": "stdout",
     "output_type": "stream",
     "text": [
      "999998999\n",
      "999999998\n"
     ]
    }
   ],
   "source": [
    "n=input()\n",
    "num=[n[i] for i in range(len(n))]\n",
    "num.sort(reverse=True, key=lambda x : x[0])\n",
    "print(''.join(num))"
   ]
  }
 ],
 "metadata": {
  "kernelspec": {
   "display_name": "Python 3 (ipykernel)",
   "language": "python",
   "name": "python3"
  },
  "language_info": {
   "codemirror_mode": {
    "name": "ipython",
    "version": 3
   },
   "file_extension": ".py",
   "mimetype": "text/x-python",
   "name": "python",
   "nbconvert_exporter": "python",
   "pygments_lexer": "ipython3",
   "version": "3.9.7"
  }
 },
 "nbformat": 4,
 "nbformat_minor": 4
}
