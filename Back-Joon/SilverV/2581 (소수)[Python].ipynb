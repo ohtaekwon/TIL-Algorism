{
 "cells": [
  {
   "cell_type": "markdown",
   "metadata": {},
   "source": [
    "# 소수\n",
    "\n",
    "<br>\n",
    "<br>\n",
    "\n",
    "## 문제\n",
    "\n",
    "---\n",
    "자연수 M과 N이 주어질 때 M이상 N이하의 자연수 중 소수인 것을 모두 골라 이들 소수의 합과 최솟값을 찾는 프로그램을 작성하시오.\n",
    "\n",
    "예를 들어 M=60, N=100인 경우 60이상 100이하의 자연수 중 소수는 61, 67, 71, 73, 79, 83, 89, 97 총 8개가 있으므로, 이들 소수의 합은 620이고, 최솟값은 61이 된다.\n",
    "<br>\n",
    "\n",
    "\n",
    "### 입력\n",
    "\n",
    "---\n",
    "입력의 첫째 줄에 M이, 둘째 줄에 N이 주어진다.\n",
    "\n",
    "M과 N은 10,000이하의 자연수이며, M은 N보다 작거나 같다.\n",
    "\n",
    "<br>\n",
    "\n",
    "### 출력\n",
    "---\n",
    "M이상 N이하의 자연수 중 소수인 것을 모두 찾아 첫째 줄에 그 합을, 둘째 줄에 그 중 최솟값을 출력한다. \n",
    "\n",
    "단, M이상 N이하의 자연수 중 소수가 없을 경우는 첫째 줄에 -1을 출력한다.\n",
    "<br>"
   ]
  },
  {
   "cell_type": "markdown",
   "metadata": {},
   "source": [
    "### 예제 입력1\n",
    "\n",
    "```\n",
    "60\n",
    "100\n",
    "```\n",
    "\n",
    "### 예제 출력1\n",
    "\n",
    "```\n",
    "620\n",
    "61\n",
    "```"
   ]
  },
  {
   "cell_type": "markdown",
   "metadata": {},
   "source": [
    "---"
   ]
  },
  {
   "cell_type": "markdown",
   "metadata": {},
   "source": [
    "### 풀이 1)"
   ]
  },
  {
   "cell_type": "code",
   "execution_count": 29,
   "metadata": {},
   "outputs": [
    {
     "name": "stdout",
     "output_type": "stream",
     "text": [
      "60\n",
      "100\n",
      "620\n",
      "61\n"
     ]
    }
   ],
   "source": [
    "m=int(input())\n",
    "n=int(input())\n",
    "li=[]\n",
    "for i in range(m,n+1):\n",
    "    result=True\n",
    "    if (i<2):\n",
    "        result=False\n",
    "    for j in range(2,i):\n",
    "        if(i%j==0):\n",
    "            result = False\n",
    "    if result:\n",
    "        li.append(i)\n",
    "        \n",
    "if len(li)==0:\n",
    "    print(-1)\n",
    "else:\n",
    "    print(sum(li), min(li), sep='\\n')\n"
   ]
  },
  {
   "cell_type": "markdown",
   "metadata": {},
   "source": [
    "----"
   ]
  },
  {
   "cell_type": "markdown",
   "metadata": {},
   "source": [
    "### 풀이 2)"
   ]
  },
  {
   "cell_type": "code",
   "execution_count": 22,
   "metadata": {},
   "outputs": [
    {
     "name": "stdout",
     "output_type": "stream",
     "text": [
      "64\n",
      "65\n",
      "-1\n"
     ]
    }
   ],
   "source": [
    "start_num = int(input())\n",
    "last_num = int(input())\n",
    "\n",
    "sosu_list = []\n",
    "for num in range(start_num, last_num+1):\n",
    "    error = 0\n",
    "    if num > 1 :\n",
    "        for i in range(2, num):  # 2부터 num-1까지\n",
    "            if num % i == 0:\n",
    "                error += 1\n",
    "                break  # 2부터 num-1까지 나눈 몫이 0이면 error가 증가하고 for문을 끝냄\n",
    "        if error == 0:\n",
    "            sosu_list.append(num)  # error가 없으면 소수리스트에 추가\n",
    "            \n",
    "if len(sosu_list) > 0 :\n",
    "    print(sum(sosu_list))\n",
    "    print(min(sosu_list))\n",
    "else:\n",
    "    print(-1)"
   ]
  },
  {
   "cell_type": "markdown",
   "metadata": {},
   "source": [
    "---"
   ]
  },
  {
   "cell_type": "markdown",
   "metadata": {},
   "source": [
    "##### 1. 코드에 대한 전체적인 내용 풀이\n",
    "\n",
    "이번 문제는 숫자의 범위가 주어지면 소수를 구하고서 소수들의 합과 최솟값을 출력하는 문제이다. 만일 소수가 없다면 -1을 출력하는 문제이다."
   ]
  },
  {
   "cell_type": "code",
   "execution_count": 39,
   "metadata": {},
   "outputs": [
    {
     "name": "stdout",
     "output_type": "stream",
     "text": [
      "60\n",
      "100\n"
     ]
    }
   ],
   "source": [
    "m=int(input())\n",
    "n=int(input())"
   ]
  },
  {
   "cell_type": "markdown",
   "metadata": {},
   "source": [
    "##### 2. 코드 중반부 소수를 구하는 코드를 작성한다."
   ]
  },
  {
   "cell_type": "code",
   "execution_count": 36,
   "metadata": {},
   "outputs": [],
   "source": [
    "sosu_list = []\n",
    "for num in range(m,n+1):\n",
    "    error=0\n",
    "    if num > 1:\n",
    "        for i in range(2,num): # 2부터 num-1까지\n",
    "            if num%i==0:\n",
    "                error+=1\n",
    "                break # 2부터 num-1까지 나눈 몫이 0이면 error가 증가하고 for문을 끝냄\n",
    "        if error==0:\n",
    "            sosu_list.append(num) # error가 없으면 소수리스트에 추가"
   ]
  },
  {
   "cell_type": "markdown",
   "metadata": {},
   "source": [
    "상위 for문에서 생선된 num 변수의 숫자를 나눈다."
   ]
  },
  {
   "cell_type": "code",
   "execution_count": 38,
   "metadata": {},
   "outputs": [
    {
     "data": {
      "text/plain": [
       "[61, 67, 71, 73, 79, 83, 89, 97]"
      ]
     },
     "execution_count": 38,
     "metadata": {},
     "output_type": "execute_result"
    }
   ],
   "source": [
    "sosu_list"
   ]
  },
  {
   "cell_type": "code",
   "execution_count": 37,
   "metadata": {},
   "outputs": [
    {
     "name": "stdout",
     "output_type": "stream",
     "text": [
      "620\n",
      "61\n"
     ]
    }
   ],
   "source": [
    "if len(sosu_list) >0:\n",
    "    print(sum(sosu_list))\n",
    "    print(min(sosu_list))\n",
    "else:\n",
    "    print(-1)"
   ]
  },
  {
   "cell_type": "markdown",
   "metadata": {},
   "source": [
    "### 풀이 3)"
   ]
  },
  {
   "cell_type": "code",
   "execution_count": 44,
   "metadata": {},
   "outputs": [
    {
     "name": "stdout",
     "output_type": "stream",
     "text": [
      "60\n",
      "100\n",
      "620\n",
      "61\n"
     ]
    }
   ],
   "source": [
    "M=int(input())\n",
    "N=int(input())\n",
    "arr=[]\n",
    "for i in range(M,N+1):\n",
    "    if i==1:\n",
    "        pass\n",
    "    elif i==2:\n",
    "        arr.append(i)\n",
    "    else:\n",
    "        for j in range(2,i):\n",
    "            if i%j==0:\n",
    "                break\n",
    "            elif j==i-1:\n",
    "                arr.append(i)\n",
    "if len(arr)==0:\n",
    "    print('-1')\n",
    "else:\n",
    "    print(sum(arr), min(arr), sep='\\n')"
   ]
  },
  {
   "cell_type": "code",
   "execution_count": null,
   "metadata": {},
   "outputs": [],
   "source": []
  }
 ],
 "metadata": {
  "kernelspec": {
   "display_name": "Python 3 (ipykernel)",
   "language": "python",
   "name": "python3"
  },
  "language_info": {
   "codemirror_mode": {
    "name": "ipython",
    "version": 3
   },
   "file_extension": ".py",
   "mimetype": "text/x-python",
   "name": "python",
   "nbconvert_exporter": "python",
   "pygments_lexer": "ipython3",
   "version": "3.9.7"
  }
 },
 "nbformat": 4,
 "nbformat_minor": 4
}
