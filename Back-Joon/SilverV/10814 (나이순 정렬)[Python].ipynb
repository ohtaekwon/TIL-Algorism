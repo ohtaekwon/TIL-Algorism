{
 "cells": [
  {
   "cell_type": "markdown",
   "metadata": {},
   "source": [
    "# [나이순 정렬](https://www.acmicpc.net/problem/10814)\n",
    "\n",
    "<br/>\n",
    "<br/>\n",
    "\n",
    "## 문제\n",
    "\n",
    "온라인 저지에 가입한 사람들의 나이와 이름이 가입한 순서대로 주어진다. 이때, 회원들을 나이가 증가하는 순으로, 나이가 같으면 먼저 가입한 사람이 앞에 오는 순서로 정렬하는 프로그램을 작성하시오.\n",
    "\n",
    "## 입력\n",
    "\n",
    "첫째 줄에 온라인 저지 회원의 수 N이 주어진다. (1 ≤ N ≤ 100,000)\n",
    "\n",
    "둘째 줄부터 N개의 줄에는 각 회원의 나이와 이름이 공백으로 구분되어 주어진다. 나이는 1보다 크거나 같으며, 200보다 작거나 같은 정수이고, 이름은 알파벳 대소문자로 이루어져 있고, 길이가 100보다 작거나 같은 문자열이다. 입력은 가입한 순서로 주어진다.\n",
    "\n",
    "\n",
    "## 출력\n",
    "\n",
    "첫째 줄부터 총 N개의 줄에 걸쳐 온라인 저지 회원을 나이 순, 나이가 같으면 가입한 순으로 한 줄에 한 명씩 나이와 이름을 공백으로 구분해 출력한다.\n",
    "\n",
    "\n",
    "## 예제 입력1\n",
    "\n",
    "```\n",
    "3\n",
    "21 Junkyu\n",
    "21 Dohyun\n",
    "20 Sunyoung\n",
    "```\n",
    "\n",
    "## 예제 출력1\n",
    "\n",
    "```\n",
    "20 Sunyoung\n",
    "21 Junkyu\n",
    "21 Dohyun\n",
    "```\n",
    "\n",
    "## 알고리즘 분류\n",
    "\n",
    "- 정렬\n"
   ]
  },
  {
   "cell_type": "markdown",
   "metadata": {},
   "source": [
    "---"
   ]
  },
  {
   "cell_type": "markdown",
   "metadata": {},
   "source": [
    "## 풀이방법\n",
    "\n",
    "### 문제 해결 아이디어\n",
    "\n",
    "- 데이터가 100,000까지 주어진다.\n",
    "- 단순 정렬을 하면, 시간이 오래 걸릴듯?\n",
    "- 나이는 1보다 크거나 같으며, 200보다 작음\n",
    "- 나이의 오름차순으로 정렬\n",
    "    - 나이가 같으면, 먼저 가입한 사람이 앞에 오는 순으로 정렬\n",
    "    - 입력한 순으로 가입한 순이다.\n",
    "1. (나이, 이름)의 정보를 입력 받은 뒤에 **나이를 기준으로 정렬한다.**\n",
    "2. 파이썬의 기본 정렬 라이브러리를 이용한다.\n",
    "3. 나이가 동일한 경우, 먼저 입력된 이름 순서를 따르도록 `key속성을 설정` 해야 한다.\n",
    "\n",
    "### 파이썬 정렬 방식 \n",
    "\n",
    "- `list.sort()` : 결과를 반환 x\n",
    "- `sorted(list)` : 정렬된 결과를 반환하는 방식"
   ]
  },
  {
   "cell_type": "markdown",
   "metadata": {},
   "source": [
    "### 풀이 코드 1)\n",
    "\n",
    "- 틀렸다고 나온다. 왜지??"
   ]
  },
  {
   "cell_type": "code",
   "execution_count": 64,
   "metadata": {},
   "outputs": [
    {
     "name": "stdout",
     "output_type": "stream",
     "text": [
      "3\n",
      "21 Junkyu\n",
      "21 Dohyun\n",
      "20 Sunyoung\n",
      "20 Sunyoung\n",
      "21 Junkyu\n",
      "21 Dohyun\n"
     ]
    }
   ],
   "source": [
    "n=int(input())\n",
    "user=[]\n",
    "for i in range(n):\n",
    "    user.append(list(map(str, input().split())))\n",
    "    \n",
    "user.sort(reverse=False, key=lambda x : x[0])\n",
    "for u in user:\n",
    "    print(' '.join(u))"
   ]
  },
  {
   "cell_type": "markdown",
   "metadata": {},
   "source": [
    "### 풀이 코드 2)\n",
    "\n",
    "- 튜플을 활용해 푼다."
   ]
  },
  {
   "cell_type": "code",
   "execution_count": 67,
   "metadata": {},
   "outputs": [
    {
     "name": "stdout",
     "output_type": "stream",
     "text": [
      "3\n",
      "21 Junkyu\n",
      "21 Dohyun\n",
      "20 Sunyoung\n",
      "20 Sunyoung\n",
      "21 Junkyu\n",
      "21 Dohyun\n"
     ]
    }
   ],
   "source": [
    "n=int(input()) \n",
    "\n",
    "array=[]\n",
    "\n",
    "for _ in range(n):\n",
    "    input_data = input().split(' ')\n",
    "    array.append((int(input_data[0]), input_data[1])) # 튜플로 입력\n",
    "    \n",
    "# sorted 함수 이용\n",
    "array = sorted(array, key=lambda x:x[0]) \n",
    "# 첫번째 원소만 비교하고, 나머지 원소는 stayble속성\n",
    "\n",
    "for i in array:\n",
    "    print(i[0],i[1])"
   ]
  }
 ],
 "metadata": {
  "kernelspec": {
   "display_name": "Python 3 (ipykernel)",
   "language": "python",
   "name": "python3"
  },
  "language_info": {
   "codemirror_mode": {
    "name": "ipython",
    "version": 3
   },
   "file_extension": ".py",
   "mimetype": "text/x-python",
   "name": "python",
   "nbconvert_exporter": "python",
   "pygments_lexer": "ipython3",
   "version": "3.9.7"
  }
 },
 "nbformat": 4,
 "nbformat_minor": 4
}
