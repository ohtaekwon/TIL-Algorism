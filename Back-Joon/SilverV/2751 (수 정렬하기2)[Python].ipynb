{
 "cells": [
  {
   "cell_type": "markdown",
   "metadata": {},
   "source": [
    "# [수 정렬하기 2](https://www.acmicpc.net/problem/2751)\n",
    "\n",
    "<br/>\n",
    "<br/>\n",
    "\n",
    "## 문제\n",
    "\n",
    "N개의 수가 주어졌을 때, 이를 오름차순으로 정렬하는 프로그램을 작성하시오.\n",
    "\n",
    "\n",
    "## 입력\n",
    "\n",
    "\n",
    "첫째 줄에 수의 개수 N(1 ≤ N ≤ 1,000,000)이 주어진다. 둘째 줄부터 N개의 줄에는 수가 주어진다. 이 수는 절댓값이 1,000,000보다 작거나 같은 정수이다. 수는 중복되지 않는다.\n",
    "\n",
    "\n",
    "## 출력\n",
    "\n",
    "첫째 줄부터 N개의 줄에 오름차순으로 정렬한 결과를 한 줄에 하나씩 출력한다.\n",
    "\n",
    "\n",
    "## 예제 입력1\n",
    "\n",
    "```\n",
    "5\n",
    "5\n",
    "4\n",
    "3\n",
    "2\n",
    "1\n",
    "\n",
    "```\n",
    "\n",
    "## 예제 출력1\n",
    "\n",
    "```\n",
    "1\n",
    "2\n",
    "3\n",
    "4\n",
    "5\n",
    "```\n",
    "\n",
    "## 알고리즘 분류 \n",
    "- 정렬"
   ]
  },
  {
   "cell_type": "markdown",
   "metadata": {},
   "source": [
    "---"
   ]
  },
  {
   "cell_type": "markdown",
   "metadata": {},
   "source": [
    "## 풀이 방법\n",
    "\n",
    "- N개의 수가 주어질때, 오름차순 정렬하라?\n",
    "    - sort()를 사용? \n",
    "    - $O$($n$log$n$) 의 시간 복잡도이다.\n",
    "- 데이터의 개수는  1,000,000 까지이므로,\n",
    "    - 2초안에 정렬을 마치기 위해서는 효과적인 알고리즘이 필요하다.\n",
    "- 이문제를 해결하기 위해서는 고급 정렬 알고리즘을 이용해야 한다.\n",
    "    - 퀵정렬\n",
    "    - 힙정렬\n",
    "    - 병합정렬 등\n",
    "    \n",
    "### 문제 풀이 - 핵심 아이디어\n",
    "\n",
    "- 데이터의 개수가 최대 1,000,000개이다.\n",
    "- 시간 복잡도는 $O$($n$log$n$)의 정렬 알고리즘을 이용해야 한다.\n",
    "- 고급 정렬 알고리즘(병합 정렬, 퀵 정렬, 힙 정렬 등)을 이용하여 문제를 해결할 수 있다.\n",
    "- 혹은 파이썬의 기본 정렬 라이브러리를 이용하여 문제를 풀 수 있다.\n",
    "- 메모리가 허용된다면, 되도록 PyPy3를 선택하여 코드를 제출\n",
    "\n",
    "\n",
    "### 병합 정렬(Merge Sort) 알고리즘\n",
    "\n",
    "- 분할 정복(Divide & Conquer) 방식을 이용한다.\n",
    "- 절반씩 합치면서 정렬하면, 전체 리스트가 정렬된다.\n",
    "- 시간 복잡도 $O$($n$log$n$)을 보장한다.\n",
    "\n",
    "#### 병합정렬 알고리즘 : 병합과정\n",
    "\n",
    "- 병합할때는 리스트의 앞 원소부터 차례대로 채워 넣는다.\n",
    "- i=0\n",
    "- j=0\n",
    "- k=0\n",
    "    - i=0\n",
    "    - j=1\n",
    "    - k=1"
   ]
  },
  {
   "cell_type": "markdown",
   "metadata": {},
   "source": [
    "### 풀이 코드 1)\n",
    "\n",
    "- 시간 초과가 발생한다.\n",
    "- 데이터의 개수가 100000가지 이므로, sort()정렬을 쓰는것은\n",
    "- 시간 복잡도가 오래 걸리게 된다."
   ]
  },
  {
   "cell_type": "code",
   "execution_count": null,
   "metadata": {},
   "outputs": [],
   "source": [
    "n=int(input())\n",
    "num=[int(input()) for _ in range(n)]\n",
    "num.sort()\n",
    "for i in range(len(num)):\n",
    "    print(num[i])"
   ]
  },
  {
   "cell_type": "markdown",
   "metadata": {},
   "source": [
    "### 풀이 코드 2)\n",
    "\n",
    "- 내장 라이브러리 sys를 사용할 수도 있다."
   ]
  },
  {
   "cell_type": "code",
   "execution_count": null,
   "metadata": {},
   "outputs": [],
   "source": [
    "import sys\n",
    "\n",
    "n=int(input())\n",
    "num=[int(sys.stdin.readline()) for _ in range(n)]\n",
    "num.sort()\n",
    "for i in range(len(num)):\n",
    "    print(num[i])"
   ]
  },
  {
   "cell_type": "markdown",
   "metadata": {},
   "source": [
    "### 풀이 코드3)\n",
    "\n",
    "- heapq를 활용한 풀이\n",
    "- 시간 초과가 나옴?"
   ]
  },
  {
   "cell_type": "code",
   "execution_count": 25,
   "metadata": {},
   "outputs": [
    {
     "name": "stdout",
     "output_type": "stream",
     "text": [
      "5\n",
      "5\n",
      "4\n",
      "3\n",
      "2\n",
      "1\n",
      "1\n",
      "2\n",
      "3\n",
      "4\n",
      "5\n"
     ]
    }
   ],
   "source": [
    "import heapq\n",
    "\n",
    "n=int(input())\n",
    "num=[int(input()) for _ in range(n)]\n",
    "\n",
    "heapq.heapify(num)\n",
    "\n",
    "for i in range(1,len(num)):\n",
    "    if num[i-1] > num[i]:\n",
    "        num[i-1],num[i]=num[i],num[i-1]\n",
    "\n",
    "for i in num:\n",
    "    print(int(i))"
   ]
  },
  {
   "cell_type": "markdown",
   "metadata": {},
   "source": [
    "### 풀이 코드 4)\n",
    "\n",
    "- 병합 정렬로 풀이"
   ]
  },
  {
   "cell_type": "code",
   "execution_count": 33,
   "metadata": {},
   "outputs": [
    {
     "name": "stdout",
     "output_type": "stream",
     "text": [
      "5\n",
      "5\n",
      "4\n",
      "3\n",
      "2\n",
      "1\n",
      "1\n",
      "2\n",
      "3\n",
      "4\n",
      "5\n"
     ]
    }
   ],
   "source": [
    "def merge_sort(array):\n",
    "    if len(array)<=1:\n",
    "        return array\n",
    "    mid = len(array) // 2 \n",
    "     # 왼쪽과 오른쪽으로 나눔\n",
    "    left = merge_sort(array[:mid])\n",
    "    right = merge_sort(array[mid:]) \n",
    "    i,j,k = 0,0,0\n",
    "    while i < len(left) and j < len(right): # 왼쪽 혹은 오른쪽이 끝날 때까지\n",
    "        if left[i] < right[j]:\n",
    "            array[k]=left[i]\n",
    "            i+=1\n",
    "        else:\n",
    "            array[k]=right[j]\n",
    "            j+=1\n",
    "        k+=1\n",
    "    # 왼쪽 리스트와 오른쪽 리스트중 먼저 끝난 경우\n",
    "    if i==len(left): # 왼쪽 리스트가 먼저 끝난 경우\n",
    "        while j < len(right):\n",
    "            array[k] = right[j]\n",
    "            j+=1\n",
    "            k+=1\n",
    "    elif j==len(right): # 오른쪽 리스트가 먼저 끝난 경우\n",
    "        while i < len(left):\n",
    "            array[k]=left[i]\n",
    "            i+=1\n",
    "            k+=1\n",
    "    return array\n",
    "\n",
    "n=int(input())\n",
    "array=[int(input()) for _ in range(n)]\n",
    "\n",
    "array = merge_sort(array)\n",
    "\n",
    "for data in array:\n",
    "    print(data)"
   ]
  },
  {
   "cell_type": "markdown",
   "metadata": {},
   "source": [
    "### 풀이 코드 5)\n",
    "\n",
    "- 단순 내장 함수 라이브러리 사용\n",
    "- sorted"
   ]
  },
  {
   "cell_type": "code",
   "execution_count": null,
   "metadata": {},
   "outputs": [],
   "source": [
    "n = int(input())\n",
    "array = []\n",
    "for _ in range(n):\n",
    "    array.append(int(input()))\n",
    "array = sorted(array)\n",
    "for data in array:\n",
    "    print(data)"
   ]
  }
 ],
 "metadata": {
  "kernelspec": {
   "display_name": "Python 3 (ipykernel)",
   "language": "python",
   "name": "python3"
  },
  "language_info": {
   "codemirror_mode": {
    "name": "ipython",
    "version": 3
   },
   "file_extension": ".py",
   "mimetype": "text/x-python",
   "name": "python",
   "nbconvert_exporter": "python",
   "pygments_lexer": "ipython3",
   "version": "3.9.7"
  }
 },
 "nbformat": 4,
 "nbformat_minor": 4
}
