{
 "cells": [
  {
   "cell_type": "markdown",
   "metadata": {},
   "source": [
    "# 크로아티아 알파벳\n",
    "\n",
    "\n",
    "<br>\n",
    "<br>\n",
    "\n",
    "## 문제\n",
    "\n",
    "---\n",
    "예전에는 운영체제에서 크로아티아 알파벳을 입력할 수가 없었다. 따라서, 다음과 같이 크로아티아 알파벳을 변경해서 입력했다.\n",
    "\n",
    "|크로아티아 알파벳|변경|\n",
    "|:--:|:--:|\n",
    "|č|c=|\n",
    "|ć|c-|\n",
    "|dž|dz=|\n",
    "|đ|d-|\n",
    "|lj|lj|\n",
    "|nj|nj|\n",
    "|š|s=|\n",
    "|ž|z=|\n",
    "\n",
    "예를 들어, ljes=njak은 크로아티아 알파벳 6개(lj, e, š, nj, a, k)로 이루어져 있다. 단어가 주어졌을 때, 몇 개의 크로아티아 알파벳으로 이루어져 있는지 출력한다.\n",
    "\n",
    "dž는 무조건 하나의 알파벳으로 쓰이고, d와 ž가 분리된 것으로 보지 않는다. lj와 nj도 마찬가지이다. 위 목록에 없는 알파벳은 한 글자씩 센다.\n",
    "\n",
    "<br>\n",
    "\n",
    "\n",
    "### 입력\n",
    "\n",
    "---\n",
    "첫째 줄에 최대 100글자의 단어가 주어진다. 알파벳 소문자와 '-', '='로만 이루어져 있다.\n",
    "\n",
    "단어는 크로아티아 알파벳으로 이루어져 있다. 문제 설명의 표에 나와있는 알파벳은 변경된 형태로 입력된다/\n",
    "\n",
    "<br>\n",
    "\n",
    "### 출력\n",
    "---\n",
    "입력으로 주어진 단어가 몇 개의 크로아티아 알파벳으로 이루어져 있는지 출력한다.\n",
    "\n",
    "\n",
    "\n",
    "<br>"
   ]
  },
  {
   "cell_type": "markdown",
   "metadata": {},
   "source": [
    "### 예제 입력1\n",
    "\n",
    "```\n",
    "ljes=njak\n",
    "\n",
    "```\n",
    "\n",
    "### 예제 출력1\n",
    "\n",
    "```\n",
    "6\n",
    "\n",
    "```"
   ]
  },
  {
   "cell_type": "markdown",
   "metadata": {},
   "source": [
    "---"
   ]
  },
  {
   "cell_type": "markdown",
   "metadata": {},
   "source": [
    "### 풀이 1)\n",
    "\n",
    "단순 입력된 전체 길이에서 특수한 경우의 문자를 뺴주는 것을 사용해보았으나\n",
    "\n",
    "오답으로 처리 되었다.\n"
   ]
  },
  {
   "cell_type": "code",
   "execution_count": 41,
   "metadata": {},
   "outputs": [
    {
     "name": "stdout",
     "output_type": "stream",
     "text": [
      "ljes=njak\n",
      "6\n"
     ]
    }
   ],
   "source": [
    "words=input()\n",
    "result=len(words)-words.count('li')-words.count('lj')-words.count('nj')-words.count('=')-words.count('-')-words.count(\"dz\")\n",
    "print(result)"
   ]
  },
  {
   "cell_type": "markdown",
   "metadata": {},
   "source": [
    "### 풀이 2)"
   ]
  },
  {
   "cell_type": "code",
   "execution_count": 44,
   "metadata": {},
   "outputs": [
    {
     "name": "stdout",
     "output_type": "stream",
     "text": [
      "ljes=njak\n",
      "6\n"
     ]
    }
   ],
   "source": [
    "croatia = ['c=', 'c-', 'dz=', 'd-', 'lj', 'nj', 's=', 'z=']\n",
    "word=input()\n",
    "\n",
    "for i in croatia:\n",
    "    word=word.replace(i,'*')\n",
    "print(len(word))"
   ]
  },
  {
   "cell_type": "markdown",
   "metadata": {},
   "source": [
    "#### 1. 코드 풀이에 대한 전체적인 내용 정리\n",
    "\n",
    "\n",
    "이 문제는 입력받는 문자열에서 크로아티아 알파벳의 개수를 출력하는 문제이다. 크로아티아 알파벳은 위 표에서의 알파벳 8개를 제외하고 모두 한글자이다. 표에서의 8개의 알파벳은 2글자~3글자로 이루어져 있다.\n",
    "\n",
    "문제를 풀기 위해서 입력받는 문자에서 2글자~3글자로 이루어진 8개의 알파벳이 있는 경우 한 글자로 변환을 하고서 이후에 변환된 문자열의 총 글자 수를 세는 방법으로 코드를 작성했다.\n",
    "\n",
    " \n",
    "문자를 변환하는 함수는 replace함수를 사용하였다. 이 함수를 for문 안에서 사용하며 주의했던 점은 문자를 변환하고서 저장하는 변수를 처음에 문자를 입력받을 때의 변수와 동일한 이름으로 지정한 것이다. replace함수는 함수를 사용한 문자열 원형을 변형시키지 않는 비파괴적 함수이기 때문이다. 이와 같은 사용 예시는 아래에서 설명한다.\n",
    "\n",
    "위 코드에서 변형된 문자열의 개수만 출력하지 않고 for문 안에서 replace를 함수를 사용하면서 단어가 수정되어가는 과정을 출력해 보았다."
   ]
  },
  {
   "cell_type": "markdown",
   "metadata": {},
   "source": [
    "#### 2. replace 함수로 수정된 문자를 입력받은 변수와 동일한 변수에 선언하는 경우\n"
   ]
  },
  {
   "cell_type": "code",
   "execution_count": 50,
   "metadata": {},
   "outputs": [
    {
     "name": "stdout",
     "output_type": "stream",
     "text": [
      "ljes=njak\n",
      "ljes=njak\n",
      "ljes=njak\n",
      "ljes=njak\n",
      "*es=njak\n",
      "*es=*ak\n",
      "*e**ak\n",
      "*e**ak\n",
      "6\n"
     ]
    }
   ],
   "source": [
    "croatia = ['c=', 'c-', 'dz=', 'd-', 'lj', 'nj', 's=', 'z=']\n",
    "word='ljes=njak'\n",
    "for i in croatia:\n",
    "    word=word.replace(i,'*') # input 변수와 동일한 이름의 변수\n",
    "    print(word)\n",
    "print(len(word))"
   ]
  },
  {
   "cell_type": "markdown",
   "metadata": {},
   "source": [
    "croatia 표의 8개의 문자를 꺼내면서 replace 함수로 변환하였다. 동일한 문자가 없는 경우는 변환되지 않다가 동일한 문자가 있으면 * 기호로 변환되는 것을 볼 수 있다. 최종적으로 변환된 문자열의 개수가 6개여서 최종적으로 6을 출력하는 것을 볼 수 있다."
   ]
  },
  {
   "cell_type": "markdown",
   "metadata": {},
   "source": [
    "#### 3. 다른 변수에 선언하는 경우"
   ]
  },
  {
   "cell_type": "code",
   "execution_count": 52,
   "metadata": {},
   "outputs": [
    {
     "name": "stdout",
     "output_type": "stream",
     "text": [
      "*e**ak\n",
      "*e**ak\n",
      "*e**ak\n",
      "*e**ak\n",
      "*e**ak\n",
      "*e**ak\n",
      "*e**ak\n",
      "*e**ak\n",
      "6\n"
     ]
    }
   ],
   "source": [
    "for i in croatia :\n",
    "    word2 = word.replace(i, '*')  # input 변수와 다른 이름의 변수\n",
    "    print(word2)\n",
    "print(len(word2))"
   ]
  },
  {
   "cell_type": "markdown",
   "metadata": {},
   "source": [
    "다른 변수에 선언을 하여도 문자열 원형인 word 변수 자체를 변형시키지 않기 때문에 출력 값에서 문자열이 *로 변경됐다가 다시 돌아가는 것을 볼 수 있다.\n",
    "\n",
    "replace 함수를 문자열 원형이 변형되도록 사용하려면 입력받은 변수와 동일한 이름으로 변수를 지정하여야 for문을 반복하는 동안 수정된 내용이 for문 끝날 때까지 유지될 수 있다."
   ]
  }
 ],
 "metadata": {
  "kernelspec": {
   "display_name": "Python 3",
   "language": "python",
   "name": "python3"
  },
  "language_info": {
   "codemirror_mode": {
    "name": "ipython",
    "version": 3
   },
   "file_extension": ".py",
   "mimetype": "text/x-python",
   "name": "python",
   "nbconvert_exporter": "python",
   "pygments_lexer": "ipython3",
   "version": "3.8.3"
  }
 },
 "nbformat": 4,
 "nbformat_minor": 4
}
