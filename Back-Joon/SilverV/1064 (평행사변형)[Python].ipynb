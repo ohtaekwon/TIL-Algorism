{
 "cells": [
  {
   "cell_type": "markdown",
   "metadata": {},
   "source": [
    "# 평행사변형\n",
    "\n",
    "<br>\n",
    "<br>\n",
    "\n",
    "## 문제\n",
    "\n",
    "---\n",
    "\n",
    "평행사변형은 평행한 두 변을 가진 사각형이다. 세 개의 서로 다른 점이 주어진다. A(xA,yA), B(xB,yB), C(xC,yC)\n",
    "\n",
    "이때, 적절히 점 D를 찾아서 네 점으로 평행사변형을 만들면 된다. 이때, D가 여러 개 나올 수도 있다.\n",
    "\n",
    "만들어진 모든 사각형 중 가장 큰 둘레 길이와 가장 작은 둘레 길이의 차이를 출력하는 프로그램을 작성하시오. 만약 만들 수 있는 평행사변형이 없다면 -1을 출력한다.\n",
    "\n",
    "<br>\n",
    "\n",
    "\n",
    "### 입력\n",
    "\n",
    "---\n",
    "첫째 줄에 xA yA xB yB xC yC가 주어진다. 모두 절댓값이 5000보다 작거나 같은 정수이다.\n",
    "\n",
    "\n",
    "<br>\n",
    "\n",
    "### 출력\n",
    "---\n",
    "첫째 줄에 문제의 정답을 출력한다. 절대/상대 오차는 10-9까지 허용한다.\n"
   ]
  },
  {
   "cell_type": "markdown",
   "metadata": {},
   "source": [
    "### 예제 입력1\n",
    "\n",
    "```\n",
    "0 0 0 1 1 0\n",
    "```\n",
    "\n",
    "### 예제 출력1\n",
    "\n",
    "```\n",
    "0.8284271247461898\n",
    "```"
   ]
  },
  {
   "cell_type": "markdown",
   "metadata": {},
   "source": [
    "---"
   ]
  },
  {
   "cell_type": "markdown",
   "metadata": {},
   "source": [
    "### 풀이 1-1)\n",
    "\n",
    "\n",
    "수학 공식을 활용하면 간단하게 풀 수 있는 문제\n",
    "\n",
    "알고리즘 분류 : 다이나믹 프로그래밍\n",
    "\n",
    "- 조합 공식으로 풀면 된다.\n",
    "\n",
    "m>n으로 m이 n보다 크기 때문에 최대 연결할 수 있는 다리의 개수는 n개이고\n",
    "\n",
    "m개의 지역에 n개의 다리를 놓을 수 있는 경우의 수를 구하는 것이기 때문에\n",
    "\n",
    "$mCn$ 으로 표현할 수 있고 이는 $m!$을 $(m-n)!n!$ 으로 나눈 값이 된다.\n"
   ]
  },
  {
   "cell_type": "code",
   "execution_count": 1,
   "metadata": {},
   "outputs": [
    {
     "name": "stdout",
     "output_type": "stream",
     "text": [
      "0 0 0 1 1 0\n"
     ]
    }
   ],
   "source": [
    "x_a, y_a, x_b, y_b, x_c, y_c = map(int, input().split())"
   ]
  },
  {
   "cell_type": "code",
   "execution_count": 10,
   "metadata": {},
   "outputs": [
    {
     "name": "stdout",
     "output_type": "stream",
     "text": [
      "0 0 0 1 1 0\n"
     ]
    }
   ],
   "source": [
    "from math import sqrt\n",
    "\n",
    "ax, ay, bx, by, cx, cy = list(map(int, input().split()))\n",
    "\n",
    "pos = [[ax, ay], [bx, by], [cx, cy]]\n",
    "pos = sorted(pos, key=lambda x: x[0])\n"
   ]
  },
  {
   "cell_type": "code",
   "execution_count": 11,
   "metadata": {},
   "outputs": [
    {
     "data": {
      "text/plain": [
       "[[0, 0], [0, 1], [1, 0]]"
      ]
     },
     "execution_count": 11,
     "metadata": {},
     "output_type": "execute_result"
    }
   ],
   "source": [
    "pos"
   ]
  },
  {
   "cell_type": "code",
   "execution_count": null,
   "metadata": {},
   "outputs": [],
   "source": [
    "x_inc = pos[1][0] - pos[0][0]\n",
    "y_inc = pos[1][1] - pos[0][1]\n",
    "\n",
    "if (ax - bx) == (ax - cx) == 0 or (ay - by) == (ay - cy) == 0:\n",
    "    print(-1.0)\n",
    "elif (ay - by) * (ax - cx) == (ay - cy) * (ax - bx):\n",
    "    print(-1.0)\n",
    "else:\n",
    "    line_1 = sqrt((ay - by) ** 2 + (ax - bx) ** 2)\n",
    "    line_2 = sqrt((by - cy) ** 2 + (bx - cx) ** 2)\n",
    "    line_3 = sqrt((cy - ay) ** 2 + (cx - ax) ** 2)\n",
    "\n",
    "    ret_max = max(line_1 + line_2, line_2 + line_3, line_3 + line_1)\n",
    "    ret_min = min(line_1 + line_2, line_2 + line_3, line_3 + line_1)\n",
    "    ret = (ret_max - ret_min) * 2\n",
    "    print(ret)"
   ]
  },
  {
   "cell_type": "code",
   "execution_count": 80,
   "metadata": {},
   "outputs": [
    {
     "name": "stdout",
     "output_type": "stream",
     "text": [
      "3\n",
      "1 5\n",
      "5\n",
      "2 2\n",
      "1\n",
      "13 29\n",
      "67863915\n"
     ]
    }
   ],
   "source": [
    "def factorial(n):\n",
    "    num = 1\n",
    "    for i in range(1, n+1):\n",
    "        num *= i\n",
    "    return num\n",
    "\n",
    "\n",
    "T = int(input())\n",
    "\n",
    "for _ in range(T):\n",
    "    n, m = map(int, input().split())\n",
    "    bridge = factorial(m) // (factorial(n) * factorial(m - n))\n",
    "    print(bridge)"
   ]
  },
  {
   "cell_type": "code",
   "execution_count": 73,
   "metadata": {},
   "outputs": [
    {
     "name": "stdout",
     "output_type": "stream",
     "text": [
      "13 29\n",
      "355687428096000\n",
      "13 29\n",
      "355687428096000\n",
      "13 29\n",
      "355687428096000\n"
     ]
    }
   ],
   "source": [
    "\n",
    "for _ in range(t):\n",
    "    n,m = map(int, input().split())\n",
    "    s=1\n",
    "    if n==m:\n",
    "        s=n//m\n",
    "    if n==1 and n<m:\n",
    "        s=n*m\n",
    "    if n!=1 and n<m:\n",
    "        a=m-n+1\n",
    "        for i in range(a,0,-1):\n",
    "            s*=i\n",
    "    print(s)"
   ]
  },
  {
   "cell_type": "markdown",
   "metadata": {},
   "source": [
    "### 풀이 1-2)\n",
    "\n",
    "\n",
    "`factorial`을 표현하기 위해 직접 함수를 만들어서 할 수 있지만,\n",
    "\n",
    "`math` 모듈을 `import`하면 `factorial`을 직접 구현하지 않아도 구할 수 있다."
   ]
  },
  {
   "cell_type": "code",
   "execution_count": 81,
   "metadata": {},
   "outputs": [
    {
     "name": "stdout",
     "output_type": "stream",
     "text": [
      "3\n",
      "1 5\n",
      "5\n",
      "2 2\n",
      "1\n",
      "13 29\n",
      "67863915\n"
     ]
    }
   ],
   "source": [
    "# 1010번\n",
    "\n",
    "import math\n",
    "\n",
    "T = int(input())\n",
    "\n",
    "for _ in range(T):\n",
    "    n, m = map(int, input().split())\n",
    "    bridge = math.factorial(m) // (math.factorial(n) * math.factorial(m - n))\n",
    "    print(bridge)"
   ]
  },
  {
   "cell_type": "markdown",
   "metadata": {},
   "source": [
    "### 풀이 2)\n",
    "\n",
    "- 다리를 지을 때 겹칠 수 없기 때문에 규칙을 찾아보면\n",
    "- 서쪽에 1개 동쪽에 n개 있을 때 다리는 n개 지을 수 있다.\n",
    "- 서쪽의 위치 개수와 동쪽의 위치 개수가 같다면 다리는 1개 지을 수 있다.\n",
    "- 서쪽의 위치 개수가 n, 동쪽의 위치 개수가 m이라면\n",
    "    - (서쪽에 n개, 동쪽에 m-1개로 지을 수 있는 다리) + (서쪽에 n-1개, 동쪽에 m-1개로 지을 수 있는 다리)와 같다.\n",
    "    \n",
    "- 위의 규칙에 맞게 프로그램을 구현하면 된다."
   ]
  },
  {
   "cell_type": "code",
   "execution_count": 86,
   "metadata": {},
   "outputs": [
    {
     "name": "stdout",
     "output_type": "stream",
     "text": [
      "3 \n",
      "1 5\n",
      "5\n",
      "2 2\n",
      "1\n",
      "13 29\n",
      "67863915\n"
     ]
    }
   ],
   "source": [
    "t=int(input())\n",
    "\n",
    "for _ in range(t):\n",
    "    n,m=map(int,input().split())\n",
    "    \n",
    "    dp=[[0 for _ in range(m+1)] for _ in range(n+1)]\n",
    "    \n",
    "    for i in range(1,n+1):\n",
    "        for j in range(1,m+1):\n",
    "            if i==1:\n",
    "                dp[i][j]=j\n",
    "                continue\n",
    "            if i==j:\n",
    "                dp[i][j]=1\n",
    "            else:\n",
    "                if j>i:\n",
    "                    dp[i][j]=dp[i][j-1] + dp[i-1][j-1]\n",
    "    print(dp[n][m])\n"
   ]
  },
  {
   "cell_type": "code",
   "execution_count": null,
   "metadata": {},
   "outputs": [],
   "source": []
  }
 ],
 "metadata": {
  "kernelspec": {
   "display_name": "Python 3",
   "language": "python",
   "name": "python3"
  },
  "language_info": {
   "codemirror_mode": {
    "name": "ipython",
    "version": 3
   },
   "file_extension": ".py",
   "mimetype": "text/x-python",
   "name": "python",
   "nbconvert_exporter": "python",
   "pygments_lexer": "ipython3",
   "version": "3.8.3"
  }
 },
 "nbformat": 4,
 "nbformat_minor": 4
}
