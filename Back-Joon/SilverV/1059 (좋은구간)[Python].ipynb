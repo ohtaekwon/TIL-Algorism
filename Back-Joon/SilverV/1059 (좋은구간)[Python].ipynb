{
 "cells": [
  {
   "cell_type": "markdown",
   "metadata": {},
   "source": [
    "# 약수\n",
    "\n",
    "<br>\n",
    "<br>\n",
    "\n",
    "## 문제\n",
    "\n",
    "---\n",
    "\n",
    "정수 집합 S가 주어졌을때, 다음 조건을 만족하는 구간 [A, B]를 좋은 구간이라고 한다.\n",
    "\n",
    "- A와 B는 양의 정수이고, A < B를 만족한다.\n",
    "- A ≤ x ≤ B를 만족하는 모든 정수 x가 집합 S에 속하지 않는다.\n",
    "집합 S와 n이 주어졌을 때, n을 포함하는 좋은 구간의 개수를 구해보자.\n",
    "\n",
    "### 입력\n",
    "\n",
    "---\n",
    "첫째 줄에 집합 S의 크기 L이 주어진다. 둘째 줄에는 집합에 포함된 정수가 주어진다. 셋째 줄에는 n이 주어진다.\n",
    "\n",
    "\n",
    "\n",
    "<br>\n",
    "\n",
    "### 출력\n",
    "---\n",
    "첫째 줄에 n을 포함하는 좋은 구간의 개수를 출력한다.\n",
    "\n",
    "\n",
    "<br>\n",
    "\n",
    "\n",
    "### 제한\n",
    "---\n",
    "\n",
    "- 1 ≤ L ≤ 50\n",
    "- 집합 S에는 중복되는 정수가 없다.\n",
    "- 집합 S에 포함된 모든 정수는 1보다 크거나 같고, 1,000보다 작거나 같다.\n",
    "- 1 ≤ n ≤ (집합 S에서 가장 큰 정수)\n",
    "\n"
   ]
  },
  {
   "cell_type": "markdown",
   "metadata": {},
   "source": [
    "### 예제 입력1\n",
    "\n",
    "```\n",
    "4\n",
    "1 7 14 10\n",
    "2\n",
    "```\n",
    "\n",
    "### 예제 출력1\n",
    "\n",
    "```\n",
    "4\n",
    "```\n",
    "\n",
    "[2,3], [2,4], [2,5], [2, 6]\n"
   ]
  },
  {
   "cell_type": "markdown",
   "metadata": {},
   "source": [
    "---"
   ]
  },
  {
   "cell_type": "markdown",
   "metadata": {},
   "source": [
    "### 풀이 1)"
   ]
  },
  {
   "cell_type": "code",
   "execution_count": 4,
   "metadata": {},
   "outputs": [
    {
     "name": "stdout",
     "output_type": "stream",
     "text": [
      "4\n",
      "1 7 14 10\n",
      "2\n"
     ]
    }
   ],
   "source": [
    "l=int(input())\n",
    "s=list(map(int,input().split()))\n",
    "n=int(input())"
   ]
  },
  {
   "cell_type": "code",
   "execution_count": 5,
   "metadata": {},
   "outputs": [
    {
     "data": {
      "text/plain": [
       "[1, 7, 14, 10]"
      ]
     },
     "execution_count": 5,
     "metadata": {},
     "output_type": "execute_result"
    }
   ],
   "source": [
    "s"
   ]
  },
  {
   "cell_type": "markdown",
   "metadata": {},
   "source": [
    "### 풀이 2)"
   ]
  }
 ],
 "metadata": {
  "kernelspec": {
   "display_name": "Python 3",
   "language": "python",
   "name": "python3"
  },
  "language_info": {
   "codemirror_mode": {
    "name": "ipython",
    "version": 3
   },
   "file_extension": ".py",
   "mimetype": "text/x-python",
   "name": "python",
   "nbconvert_exporter": "python",
   "pygments_lexer": "ipython3",
   "version": "3.8.3"
  }
 },
 "nbformat": 4,
 "nbformat_minor": 4
}
