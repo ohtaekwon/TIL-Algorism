{
 "cells": [
  {
   "cell_type": "markdown",
   "metadata": {},
   "source": [
    "# 막대기\n",
    "\n",
    "<br>\n",
    "<br>\n",
    "\n",
    "## 문제\n",
    "\n",
    "---\n",
    "\n",
    "재원이는 한 도시의 시장이 되었다. 이 도시에는 도시를 동쪽과 서쪽으로 나누는 큰 일직선 모양의 강이 흐르고 있다. 하지만 재원이는 다리가 없어서 시민들이 강을 건너는데 큰 불편을 겪고 있음을 알고 다리를 짓기로 결심하였다. 강 주변에서 다리를 짓기에 적합한 곳을 사이트라고 한다. 재원이는 강 주변을 면밀히 조사해 본 결과 강의 서쪽에는 N개의 사이트가 있고 동쪽에는 M개의 사이트가 있다는 것을 알았다. (N ≤ M)\n",
    "\n",
    "재원이는 서쪽의 사이트와 동쪽의 사이트를 다리로 연결하려고 한다. (이때 한 사이트에는 최대 한 개의 다리만 연결될 수 있다.) 재원이는 다리를 최대한 많이 지으려고 하기 때문에 서쪽의 사이트 개수만큼 (N개) 다리를 지으려고 한다. 다리끼리는 서로 겹쳐질 수 없다고 할 때 다리를 지을 수 있는 경우의 수를 구하는 프로그램을 작성하라.\n",
    "\n",
    "![](https://www.acmicpc.net/upload/201003/pic1.JPG)"
   ]
  },
  {
   "cell_type": "markdown",
   "metadata": {},
   "source": [
    "### 입력\n",
    "\n",
    "---\n",
    "입력의 첫 줄에는 테스트 케이스의 개수 T가 주어진다. 그 다음 줄부터 각각의 테스트케이스에 대해 강의 서쪽과 동쪽에 있는 사이트의 개수 정수 N, M (0 < N ≤ M < 30)이 주어진다.\n",
    "\n",
    "<br>\n",
    "\n",
    "### 출력\n",
    "---\n",
    "각 테스트 케이스에 대해 주어진 조건하에 다리를 지을 수 있는 경우의 수를 출력한다.\n"
   ]
  },
  {
   "cell_type": "markdown",
   "metadata": {},
   "source": [
    "### 예제 입력1\n",
    "\n",
    "```\n",
    "3\n",
    "2 2\n",
    "1 5\n",
    "13 29\n",
    "```\n",
    "\n",
    "### 예제 출력1\n",
    "\n",
    "```\n",
    "1\n",
    "5\n",
    "67863915\n",
    "```"
   ]
  },
  {
   "cell_type": "markdown",
   "metadata": {},
   "source": [
    "---"
   ]
  },
  {
   "cell_type": "markdown",
   "metadata": {},
   "source": [
    "### 풀이 1-1)\n",
    "\n",
    "\n",
    "수학 공식을 활용하면 간단하게 풀 수 있는 문제\n",
    "\n",
    "알고리즘 분류 : 다이나믹 프로그래밍\n",
    "\n",
    "- 조합 공식으로 풀면 된다.\n",
    "\n",
    "m>n으로 m이 n보다 크기 때문에 최대 연결할 수 있는 다리의 개수는 n개이고\n",
    "\n",
    "m개의 지역에 n개의 다리를 놓을 수 있는 경우의 수를 구하는 것이기 때문에\n",
    "\n",
    "$mCn$ 으로 표현할 수 있고 이는 $m!$을 $(m-n)!n!$ 으로 나눈 값이 된다.\n"
   ]
  },
  {
   "cell_type": "code",
   "execution_count": 80,
   "metadata": {},
   "outputs": [
    {
     "name": "stdout",
     "output_type": "stream",
     "text": [
      "3\n",
      "1 5\n",
      "5\n",
      "2 2\n",
      "1\n",
      "13 29\n",
      "67863915\n"
     ]
    }
   ],
   "source": [
    "def factorial(n):\n",
    "    num = 1\n",
    "    for i in range(1, n+1):\n",
    "        num *= i\n",
    "    return num\n",
    "\n",
    "\n",
    "T = int(input())\n",
    "\n",
    "for _ in range(T):\n",
    "    n, m = map(int, input().split())\n",
    "    bridge = factorial(m) // (factorial(n) * factorial(m - n))\n",
    "    print(bridge)"
   ]
  },
  {
   "cell_type": "code",
   "execution_count": 73,
   "metadata": {},
   "outputs": [
    {
     "name": "stdout",
     "output_type": "stream",
     "text": [
      "13 29\n",
      "355687428096000\n",
      "13 29\n",
      "355687428096000\n",
      "13 29\n",
      "355687428096000\n"
     ]
    }
   ],
   "source": [
    "\n",
    "for _ in range(t):\n",
    "    n,m = map(int, input().split())\n",
    "    s=1\n",
    "    if n==m:\n",
    "        s=n//m\n",
    "    if n==1 and n<m:\n",
    "        s=n*m\n",
    "    if n!=1 and n<m:\n",
    "        a=m-n+1\n",
    "        for i in range(a,0,-1):\n",
    "            s*=i\n",
    "    print(s)"
   ]
  },
  {
   "cell_type": "markdown",
   "metadata": {},
   "source": [
    "### 풀이 1-2)\n",
    "\n",
    "\n",
    "`factorial`을 표현하기 위해 직접 함수를 만들어서 할 수 있지만,\n",
    "\n",
    "`math` 모듈을 `import`하면 `factorial`을 직접 구현하지 않아도 구할 수 있다."
   ]
  },
  {
   "cell_type": "code",
   "execution_count": 81,
   "metadata": {},
   "outputs": [
    {
     "name": "stdout",
     "output_type": "stream",
     "text": [
      "3\n",
      "1 5\n",
      "5\n",
      "2 2\n",
      "1\n",
      "13 29\n",
      "67863915\n"
     ]
    }
   ],
   "source": [
    "# 1010번\n",
    "\n",
    "import math\n",
    "\n",
    "T = int(input())\n",
    "\n",
    "for _ in range(T):\n",
    "    n, m = map(int, input().split())\n",
    "    bridge = math.factorial(m) // (math.factorial(n) * math.factorial(m - n))\n",
    "    print(bridge)"
   ]
  },
  {
   "cell_type": "markdown",
   "metadata": {},
   "source": [
    "### 풀이 2)\n",
    "\n",
    "- 다리를 지을 때 겹칠 수 없기 때문에 규칙을 찾아보면\n",
    "- 서쪽에 1개 동쪽에 n개 있을 때 다리는 n개 지을 수 있다.\n",
    "- 서쪽의 위치 개수와 동쪽의 위치 개수가 같다면 다리는 1개 지을 수 있다.\n",
    "- 서쪽의 위치 개수가 n, 동쪽의 위치 개수가 m이라면\n",
    "    - (서쪽에 n개, 동쪽에 m-1개로 지을 수 있는 다리) + (서쪽에 n-1개, 동쪽에 m-1개로 지을 수 있는 다리)와 같다.\n",
    "    \n",
    "- 위의 규칙에 맞게 프로그램을 구현하면 된다."
   ]
  },
  {
   "cell_type": "code",
   "execution_count": 86,
   "metadata": {},
   "outputs": [
    {
     "name": "stdout",
     "output_type": "stream",
     "text": [
      "3 \n",
      "1 5\n",
      "5\n",
      "2 2\n",
      "1\n",
      "13 29\n",
      "67863915\n"
     ]
    }
   ],
   "source": [
    "t=int(input())\n",
    "\n",
    "for _ in range(t):\n",
    "    n,m=map(int,input().split())\n",
    "    \n",
    "    dp=[[0 for _ in range(m+1)] for _ in range(n+1)]\n",
    "    \n",
    "    for i in range(1,n+1):\n",
    "        for j in range(1,m+1):\n",
    "            if i==1:\n",
    "                dp[i][j]=j\n",
    "                continue\n",
    "            if i==j:\n",
    "                dp[i][j]=1\n",
    "            else:\n",
    "                if j>i:\n",
    "                    dp[i][j]=dp[i][j-1] + dp[i-1][j-1]\n",
    "    print(dp[n][m])\n"
   ]
  },
  {
   "cell_type": "code",
   "execution_count": null,
   "metadata": {},
   "outputs": [],
   "source": []
  }
 ],
 "metadata": {
  "kernelspec": {
   "display_name": "Python 3",
   "language": "python",
   "name": "python3"
  },
  "language_info": {
   "codemirror_mode": {
    "name": "ipython",
    "version": 3
   },
   "file_extension": ".py",
   "mimetype": "text/x-python",
   "name": "python",
   "nbconvert_exporter": "python",
   "pygments_lexer": "ipython3",
   "version": "3.8.3"
  }
 },
 "nbformat": 4,
 "nbformat_minor": 4
}
