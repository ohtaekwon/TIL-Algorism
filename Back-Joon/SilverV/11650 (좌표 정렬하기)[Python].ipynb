{
 "cells": [
  {
   "cell_type": "markdown",
   "metadata": {},
   "source": [
    "# [좌표 정렬하기](https://www.acmicpc.net/problem/11650)\n",
    "\n",
    "<br/>\n",
    "<br/>\n",
    "\n",
    "## 문제\n",
    "\n",
    "2차원 평면 위의 점 N개가 주어진다. 좌표를 x좌표가 증가하는 순으로, x좌표가 같으면 y좌표가 증가하는 순서로 정렬한 다음 출력하는 프로그램을 작성하시오.\n",
    "\n",
    "## 입력\n",
    "\n",
    "첫째 줄에 점의 개수 N (1 ≤ N ≤ 100,000)이 주어진다. 둘째 줄부터 N개의 줄에는 i번점의 위치 xi와 yi가 주어진다. (-100,000 ≤ xi, yi ≤ 100,000) 좌표는 항상 정수이고, 위치가 같은 두 점은 없다.\n",
    "\n",
    "\n",
    "## 출력\n",
    "\n",
    "첫째 줄부터 N개의 줄에 점을 정렬한 결과를 출력한다.\n",
    "\n",
    "\n",
    "## 예제 입력1\n",
    "\n",
    "```\n",
    "5\n",
    "3 4\n",
    "1 1\n",
    "1 -1\n",
    "2 2\n",
    "3 3\n",
    "```\n",
    "\n",
    "## 예제 출력1\n",
    "\n",
    "```\n",
    "1 -1\n",
    "1 1\n",
    "2 2\n",
    "3 3\n",
    "3 4\n",
    "```\n",
    "\n",
    "## 알고리즘 분류\n",
    "\n",
    "- 정렬\n"
   ]
  },
  {
   "cell_type": "markdown",
   "metadata": {},
   "source": [
    "---"
   ]
  },
  {
   "cell_type": "markdown",
   "metadata": {},
   "source": [
    "## 풀이방법\n",
    "\n",
    "### 문제 해결 아이디어\n",
    "\n",
    "- x좌표를 오름차순 정렬\n",
    "- x좌표가 같을 시에,\n",
    "- y좌표 오름차순 정렬\n",
    "- 튜플을 활용한다.\n",
    "- 주의할점은 `음수(-)`가 존재한다는 것\n",
    "\n",
    "1. (x좌표, y좌표)를 입력받은 뒤, x좌표, y좌표 순서대로 차례대로 오름차순 정렬한다.\n",
    "2. 파이썬의 기본 정렬 라이브러리는 기본적으로 튜플의 인덱스 순서대로 오름차순 정렬한다.\n",
    "3. 따라서, 단순히 기본 정렬 라이브러를 이용하면 된다. (`key속성 설정 없이`)\n",
    "\n",
    "\n",
    "### 파이썬 정렬 방식 \n",
    "\n",
    "- `list.sort()` : 결과를 반환 x\n",
    "- `sorted(list)` : 정렬된 결과를 반환하는 방식"
   ]
  },
  {
   "cell_type": "markdown",
   "metadata": {},
   "source": [
    "### 풀이 코드 1)\n",
    "\n",
    "- 틀렸다고 나온다.\n",
    "- 마이너스때문인가?"
   ]
  },
  {
   "cell_type": "code",
   "execution_count": 8,
   "metadata": {},
   "outputs": [
    {
     "name": "stdout",
     "output_type": "stream",
     "text": [
      "5\n",
      "3 4\n",
      "1 1\n",
      "1 -1\n",
      "2 2\n",
      "3 3\n",
      "1 -1\n",
      "1 1\n",
      "2 2\n",
      "3 3\n",
      "3 4\n"
     ]
    }
   ],
   "source": [
    "n=int(input())\n",
    "coor=[]\n",
    "for _ in range(n):\n",
    "    input_data = input().split(' ')\n",
    "    coor.append((input_data[0],input_data[1]))\n",
    "    \n",
    "coor=sorted(coor, reverse=False, key=lambda x : (x[0],x[1]))\n",
    "for c in coor:\n",
    "    print(c[0],c[1])"
   ]
  },
  {
   "cell_type": "markdown",
   "metadata": {},
   "source": [
    "### 풀이 코드 2)\n",
    "\n",
    "- 그냥 정렬 라이브러리 사용하면, 기본적으로 오름차순 정렬이 되므로,\n",
    "- 기본 라이브러리 사용하면 된다. \n",
    "- key 이용 x"
   ]
  },
  {
   "cell_type": "code",
   "execution_count": null,
   "metadata": {},
   "outputs": [
    {
     "name": "stdout",
     "output_type": "stream",
     "text": [
      "5\n",
      "3 4\n",
      "1 1\n",
      "1 -1\n"
     ]
    }
   ],
   "source": [
    "n=int(input())\n",
    "\n",
    "coor=[]\n",
    "for _ in range(n):\n",
    "    x,y = map(int,input().split(' '))\n",
    "    coor.append((x,y))\n",
    "coor=sorted(coor)\n",
    "\n",
    "for i in coor:\n",
    "    print(i[0],i[1])"
   ]
  },
  {
   "cell_type": "code",
   "execution_count": 11,
   "metadata": {},
   "outputs": [
    {
     "data": {
      "text/plain": [
       "int"
      ]
     },
     "execution_count": 11,
     "metadata": {},
     "output_type": "execute_result"
    }
   ],
   "source": [
    "type(-1)"
   ]
  },
  {
   "cell_type": "code",
   "execution_count": null,
   "metadata": {},
   "outputs": [],
   "source": []
  }
 ],
 "metadata": {
  "kernelspec": {
   "display_name": "Python 3 (ipykernel)",
   "language": "python",
   "name": "python3"
  },
  "language_info": {
   "codemirror_mode": {
    "name": "ipython",
    "version": 3
   },
   "file_extension": ".py",
   "mimetype": "text/x-python",
   "name": "python",
   "nbconvert_exporter": "python",
   "pygments_lexer": "ipython3",
   "version": "3.9.7"
  }
 },
 "nbformat": 4,
 "nbformat_minor": 4
}
