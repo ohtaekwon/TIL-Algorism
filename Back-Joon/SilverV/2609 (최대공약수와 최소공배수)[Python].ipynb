{
 "cells": [
  {
   "cell_type": "markdown",
   "metadata": {},
   "source": [
    "# 최대공약수와 최소공배수\n",
    "\n",
    "\n",
    "<br>\n",
    "<br>\n",
    "\n",
    "## 문제\n",
    "\n",
    "---\n",
    "두 개의 자연수를 입력받아 최대 공약수와 최소 공배수를 출력하는 프로그램을 작성하시오.\n",
    "\n",
    "<br>\n",
    "\n",
    "\n",
    "### 입력\n",
    "\n",
    "---\n",
    "첫째 줄에는 두 개의 자연수가 주어진다. 이 둘은 10,000이하의 자연수이며 사이에 한 칸의 공백이 주어진다.\n",
    "\n",
    "\n",
    "<br>\n",
    "\n",
    "### 출력\n",
    "---\n",
    "첫째 줄에는 입력으로 주어진 두 수의 최대공약수를, 둘째 줄에는 입력으로 주어진 두 수의 최소 공배수를 출력한다.\n",
    "\n",
    "<br>"
   ]
  },
  {
   "cell_type": "markdown",
   "metadata": {},
   "source": [
    "### 예제 입력1\n",
    "\n",
    "```\n",
    "24 18\n",
    "```\n",
    "\n",
    "### 예제 출력1\n",
    "\n",
    "```\n",
    "6\n",
    "72\n",
    "```"
   ]
  },
  {
   "cell_type": "markdown",
   "metadata": {},
   "source": [
    "---"
   ]
  },
  {
   "cell_type": "markdown",
   "metadata": {},
   "source": [
    "### 풀이 1)\n",
    "\n",
    "- n이 m보다 크면 둘의 값을 바꿔준다.\n",
    "\n",
    "- 유클리드 호제법을 이용하여 최대 공약수를 구한다.\n",
    "\n",
    "- 최소공배수는 n과 m을 곱한 후 최대공약수로 나누어준다."
   ]
  },
  {
   "cell_type": "code",
   "execution_count": 9,
   "metadata": {},
   "outputs": [
    {
     "name": "stdout",
     "output_type": "stream",
     "text": [
      "24 18\n",
      "24 18\n",
      "72.0\n"
     ]
    }
   ],
   "source": [
    "def gcd(n1,n2):\n",
    "    if n1<n2:\n",
    "        (n1,n2)=(n2,n1)\n",
    "        \n",
    "    while n2!=0:\n",
    "        (n1,n2)=(n2,n1%n2)\n",
    "        \n",
    "    return n1\n",
    "\n",
    "n1,n2=map(int, input().split())\n",
    "\n",
    "print(gcd(n1,n2)) # 최대공약수\n",
    "print((n1*n2)//gcd(n1,n2)) # 최소공배수"
   ]
  },
  {
   "cell_type": "markdown",
   "metadata": {},
   "source": [
    "### 최대공약수,\n",
    "\n",
    "최대공약수란, 숫자 a,b가 주어졌을 때, 공통되는 약수 중에서 `최대`값을 의미한다.\n",
    "\n",
    "\n",
    "### 최대공약수 구하기.\n",
    "\n",
    "#### 1. a, b 각각의 약수를 구해서 공통되는 약수중에서 가장 큰 값을 찾는 방법.\n",
    "- 찾이 않아도 되는 약수들 까지 구해야하기 때문에 효율적이지 않다.\n",
    "\n",
    "#### 2. 유클리드 호제법\n",
    "\n",
    "1. 유클리드 호제법이란,\n",
    "    \n",
    "    숫자 a,b가 있을 때, `a를 b로 나눈 나머지`와 `b`의 `최대 공약수`는 `a`와 `b`의 `최대 공약수`가 같다는 것을 의미한다.\n",
    "    \n",
    "    그럼, 계속해서 `a` 를 `b`로  나누어서 `b를 a`에 `나눈 나머지를 b` 에 대입시켜서 `b` 가 0이 될때 까지 반복을 하면, 남는 `a` 값이 바로 `최대 공약수` 이다."
   ]
  },
  {
   "cell_type": "code",
   "execution_count": 19,
   "metadata": {},
   "outputs": [
    {
     "data": {
      "text/plain": [
       "2"
      ]
     },
     "execution_count": 19,
     "metadata": {},
     "output_type": "execute_result"
    }
   ],
   "source": [
    "def gcd(a,b):\n",
    "    while b>0:\n",
    "        a,b = b, a%b\n",
    "    return a\n",
    "gcd(2,4)"
   ]
  },
  {
   "cell_type": "markdown",
   "metadata": {},
   "source": [
    "### 최소공배수\n",
    "\n",
    "서로 다른 수 a,b의 배수중에서 공통죄는 배수 중에 가장 작은 값을 의미한다.\n",
    "\n",
    "최소공배수는 a,b의 곱을 a,b의 최대 공약수로 나누면 나오게 된다.\n",
    "\n",
    "   (최소공배수 x 최대공약수) = $gcd^2$ x m x n [m,n은 서로수] → a x b 를 이용한 방법이다.\n",
    "   \n",
    " "
   ]
  },
  {
   "cell_type": "code",
   "execution_count": 21,
   "metadata": {},
   "outputs": [
    {
     "data": {
      "text/plain": [
       "4.0"
      ]
     },
     "execution_count": 21,
     "metadata": {},
     "output_type": "execute_result"
    }
   ],
   "source": [
    "def lcm(a,b):\n",
    "    return a*b / gcd(a,b)\n",
    "lcm(2,4)"
   ]
  }
 ],
 "metadata": {
  "kernelspec": {
   "display_name": "Python 3",
   "language": "python",
   "name": "python3"
  },
  "language_info": {
   "codemirror_mode": {
    "name": "ipython",
    "version": 3
   },
   "file_extension": ".py",
   "mimetype": "text/x-python",
   "name": "python",
   "nbconvert_exporter": "python",
   "pygments_lexer": "ipython3",
   "version": "3.8.3"
  }
 },
 "nbformat": 4,
 "nbformat_minor": 4
}
