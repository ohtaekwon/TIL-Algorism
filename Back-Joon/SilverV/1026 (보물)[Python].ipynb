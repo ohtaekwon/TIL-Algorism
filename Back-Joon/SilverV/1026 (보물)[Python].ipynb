{
 "cells": [
  {
   "cell_type": "markdown",
   "metadata": {},
   "source": [
    "# [보물](https://www.acmicpc.net/problem/1026)\n",
    "\n",
    "\n",
    "<br/>\n",
    "<br/>\n",
    "\n",
    "## 문제\n",
    "\n",
    "옛날 옛적에 수학이 항상 큰 골칫거리였던 나라가 있었다. 이 나라의 국왕 김지민은 다음과 같은 문제를 내고 큰 상금을 걸었다.\n",
    "\n",
    "길이가 N인 정수 배열 A와 B가 있다. 다음과 같이 함수 S를 정의하자.\n",
    "\n",
    "        S = A[0] × B[0] + ... + A[N-1] × B[N-1]\n",
    "\n",
    "S의 값을 가장 작게 만들기 위해 A의 수를 재배열하자. 단, B에 있는 수는 재배열하면 안 된다.\n",
    "\n",
    "S의 최솟값을 출력하는 프로그램을 작성하시오.\n",
    "\n",
    "## 입력\n",
    "\n",
    "첫째 줄에 N이 주어진다. 둘째 줄에는 A에 있는 N개의 수가 순서대로 주어지고, 셋째 줄에는 B에 있는 수가 순서대로 주어진다. N은 50보다 작거나 같은 자연수이고, A와 B의 각 원소는 100보다 작거나 같은 음이 아닌 정수이다.\n",
    "\n",
    "\n",
    "## 출력\n",
    "\n",
    "\n",
    "첫째 줄에 S의 최솟값을 출력한다.\n",
    "\n",
    "\n",
    "<br/><br/>\n",
    "\n",
    "### 예제 입력1\n",
    "\n",
    "```\n",
    "1 1 1 6 0\n",
    "2 7 8 3 1\n",
    "```\n",
    "\n",
    "### 예제 출력1\n",
    "\n",
    "```\n",
    "18\n",
    "```\n",
    "\n",
    "<br/>\n",
    "### 힌트\n",
    "\n",
    "예제 1의 경우 A를 {1, 1, 0, 1, 6}과 같이 재배열하면 된다.\n",
    "\n",
    "\n",
    "\n",
    "### 알고리즘 분류 \n",
    "\n",
    "- 수학\n",
    "- 그리디 알고리즘\n",
    "- 정렬"
   ]
  },
  {
   "cell_type": "markdown",
   "metadata": {},
   "source": [
    "---"
   ]
  },
  {
   "cell_type": "markdown",
   "metadata": {},
   "source": [
    "## 풀이 방법 \n",
    "\n",
    "- 합(S)의 값을 작게 만들기 위해서 A를 재배열한다.\n",
    "- 가장 작은 값이 나오려면?\n",
    "    - 처음 로직\n",
    "    - A의 가장 작은 수 * B의 가장 작은 수\n",
    "    - 새로운 배열에 넣기\n",
    "    - A의 가장 작은 수 뺴기, B의 가장 작은 수 빼기\n",
    "    - 두번째 로직\n",
    "    - A의 가장 작은 수 * B의 가장 작은 수\n",
    "    - 새로운 배열에 넣기\n",
    "    - A의 가장 작은 수 뺴기, B의 가장 작은 수 빼기\n",
    "    - 이러한 과정을 반복한다.\n",
    "\n",
    "\n",
    "### 알고리즘 설계 - 구현 \n",
    "\n",
    "- set 자료형을 통해서 교집합을 구한다.\n",
    "- 중복이 없으므로, set()을 써도 된다.\n",
    "    \n",
    "### 알고리즘의 복잡도\n",
    "\n",
    "- $O$(len(a) + len(b))"
   ]
  },
  {
   "cell_type": "markdown",
   "metadata": {},
   "source": [
    "### 코드 풀이 1)"
   ]
  },
  {
   "cell_type": "code",
   "execution_count": 34,
   "metadata": {},
   "outputs": [
    {
     "name": "stdout",
     "output_type": "stream",
     "text": [
      "5\n",
      "1 1 1 6 0\n",
      "2 7 8 3 1\n"
     ]
    }
   ],
   "source": [
    "# N과 A, B 입력\n",
    "n = int(input())\n",
    "a = list(map(int,input().split()))\n",
    "b = list(map(int,input().split()))"
   ]
  },
  {
   "cell_type": "code",
   "execution_count": 35,
   "metadata": {},
   "outputs": [],
   "source": [
    "# A를 오름차순으로 재배치\n",
    "a=sorted(a)"
   ]
  },
  {
   "cell_type": "code",
   "execution_count": 36,
   "metadata": {},
   "outputs": [
    {
     "name": "stdout",
     "output_type": "stream",
     "text": [
      "0 0 8\n",
      "7 1 7\n",
      "3 1 3\n",
      "2 1 2\n",
      "6 6 1\n"
     ]
    }
   ],
   "source": [
    "n = int(input())\n",
    "a = list(map(int,input().split()))\n",
    "b = list(map(int,input().split()))\n",
    "\n",
    "a=sorted(a)\n",
    "\n",
    "nums=[]\n",
    "\n",
    "for idx, value in enumerate(a):\n",
    "    num = value * max(b)\n",
    "#    print(num, value, max(b))\n",
    "    nums.append(num)\n",
    "    b.pop(b.index(max(b)))\n",
    "        \n",
    "        \n",
    "print(sum(nums))"
   ]
  }
 ],
 "metadata": {
  "kernelspec": {
   "display_name": "Python 3 (ipykernel)",
   "language": "python",
   "name": "python3"
  },
  "language_info": {
   "codemirror_mode": {
    "name": "ipython",
    "version": 3
   },
   "file_extension": ".py",
   "mimetype": "text/x-python",
   "name": "python",
   "nbconvert_exporter": "python",
   "pygments_lexer": "ipython3",
   "version": "3.9.7"
  }
 },
 "nbformat": 4,
 "nbformat_minor": 4
}
