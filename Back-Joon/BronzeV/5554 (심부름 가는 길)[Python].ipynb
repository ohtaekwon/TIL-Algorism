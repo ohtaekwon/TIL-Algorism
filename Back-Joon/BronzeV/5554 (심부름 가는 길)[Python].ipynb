{
 "cells": [
  {
   "cell_type": "markdown",
   "metadata": {},
   "source": [
    "# 심부름 가는 길\n",
    "\n",
    "<br>\n",
    "<br>\n",
    "\n",
    "### 문제\n",
    "---\n",
    "승균이는 매일 학교, PC방, 학원에 다닌다. 반복되는 일상에 익숙해진 승균이는 이동시간을 단축해서 PC방에 더 오래 머물고 싶었다. 그래서 스톱워치를 들고 이동할 때마다 기록을 잰 후 집에 가서 분석해보기로 했다.\n",
    "\n",
    "집에 도착한 승균이는 측정한 결과를 보는 데, 전부 초 단위로 기록되어있다! 맨날 놀기만 해서 총 이동 시간이 몇 분 몇 초인지 계산을 못 하는 승균이를 도와주자.\n",
    "\n",
    "하루 동안 측정한 결과가 주어지면, 이날의 총 이동 시간이 몇 분 몇 초인지 출력하는 프로그램을 작성하시오.\n",
    "\n",
    "\n",
    "\n",
    "### 입력\n",
    "---\n",
    "입력은 총 4줄이며, 한 줄에 하나씩 양의 정수가 적혀있다.\n",
    "\n",
    "- 첫 번째 줄에 집에서 학교까지의 이동 시간을 나타내는 초가 주어진다.\n",
    "- 두 번째 줄에 학교에서 PC방까지의 이동 시간을 나타내는 초가 주어진다.\n",
    "- 세 번째 줄에 PC방에서 학원까지의 이동 시간을 나타내는 초가 주어진다. \n",
    "- 마지막 줄에 학원에서 집까지의 이동 시간을 나타내는 초가 주어진다.\n",
    "집에 늦게 가면 혼나기 때문에, 총 이동시간은 항상 1 분 0 초 이상 59 분 59 초 이하이다.\n"
   ]
  },
  {
   "cell_type": "markdown",
   "metadata": {},
   "source": [
    "### 출력"
   ]
  },
  {
   "cell_type": "markdown",
   "metadata": {},
   "source": [
    "---\n",
    "총 이동시간 x 분 y 초를 출력한다. 첫 번째 줄에 x를, 두 번째 줄에 y를 출력한다"
   ]
  },
  {
   "cell_type": "markdown",
   "metadata": {},
   "source": [
    "### 예제 입력1\n",
    "```\n",
    "31\n",
    "34\n",
    "7\n",
    "151\n",
    "```\n",
    "### 예제 출력1\n",
    "```\n",
    "3\n",
    "43\n",
    "```\n",
    "----\n",
    "\n",
    "\n",
    "### 예제 입력2\n",
    "```\n",
    "316\n",
    "430\n",
    "643\n",
    "1253\n",
    "```\n",
    "\n",
    "\n",
    "\n",
    "### 예제 출력2\n",
    "```\n",
    "44\n",
    "2\n",
    "```\n",
    "\n",
    "----\n",
    "\n",
    "### 예제 입력3\n",
    "```\n",
    "5\n",
    "10\n",
    "15\n",
    "30\n",
    "```\n",
    "\n",
    "\n",
    "### 예제 출력3\n",
    "```\n",
    "1\n",
    "0\n",
    "```\n",
    "\n"
   ]
  },
  {
   "cell_type": "markdown",
   "metadata": {},
   "source": [
    "---"
   ]
  },
  {
   "cell_type": "markdown",
   "metadata": {},
   "source": [
    "### 풀이"
   ]
  },
  {
   "cell_type": "code",
   "execution_count": 20,
   "metadata": {},
   "outputs": [
    {
     "name": "stdout",
     "output_type": "stream",
     "text": [
      "31\n",
      "34\n",
      "7\n",
      "151\n",
      "3\n",
      "43\n"
     ]
    }
   ],
   "source": [
    "a=int(input())\n",
    "b=int(input())\n",
    "c=int(input())\n",
    "d=int(input())\n",
    "\n",
    "print((a+b+c+d)//60)\n",
    "print((a+b+c+d)%60)"
   ]
  },
  {
   "cell_type": "code",
   "execution_count": null,
   "metadata": {},
   "outputs": [],
   "source": []
  }
 ],
 "metadata": {
  "kernelspec": {
   "display_name": "Python 3",
   "language": "python",
   "name": "python3"
  },
  "language_info": {
   "codemirror_mode": {
    "name": "ipython",
    "version": 3
   },
   "file_extension": ".py",
   "mimetype": "text/x-python",
   "name": "python",
   "nbconvert_exporter": "python",
   "pygments_lexer": "ipython3",
   "version": "3.8.3"
  }
 },
 "nbformat": 4,
 "nbformat_minor": 4
}
