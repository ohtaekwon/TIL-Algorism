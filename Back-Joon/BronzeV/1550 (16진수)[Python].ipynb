{
 "cells": [
  {
   "cell_type": "markdown",
   "metadata": {},
   "source": [
    "# 16진수\n",
    "\n",
    "<br>\n",
    "<br>\n",
    "\n",
    "### 문제\n",
    "---\n",
    "16진수 수를 입력받아서 10진수로 출력하는 프로그램을 작성하시오.\n",
    "\n",
    "\n",
    "<br>\n",
    "\n",
    "### 입력\n",
    "---\n",
    "\n",
    "첫째 줄에 16진수 수가 주어진다. 이 수의 최대 길이는 6글자이다. 16진수 수는 0~9와 A~F로 이루어져 있고, A~F는 10~15를 뜻한다. 또, 이 수는 음이 아닌 정수이다.\n",
    "\n",
    "<br>\n",
    "\n",
    "### 출력\n",
    "---\n",
    "\n",
    "첫째 줄에 입력으로 주어진 16진수 수를 10진수로 변환해 출력한다.\n"
   ]
  },
  {
   "cell_type": "markdown",
   "metadata": {},
   "source": [
    "### 예제 입력1\n",
    "\n",
    "```\n",
    "A\n",
    "```\n",
    "\n",
    "### 예제 출력1\n",
    "\n",
    "```\n",
    "10\n",
    "```\n"
   ]
  },
  {
   "cell_type": "markdown",
   "metadata": {},
   "source": [
    "#### 풀이"
   ]
  },
  {
   "cell_type": "code",
   "execution_count": 8,
   "metadata": {},
   "outputs": [
    {
     "name": "stdout",
     "output_type": "stream",
     "text": [
      "A\n",
      "10\n"
     ]
    }
   ],
   "source": [
    "n=input()\n",
    "\n",
    "print(int(n,16))"
   ]
  }
 ],
 "metadata": {
  "kernelspec": {
   "display_name": "Python 3",
   "language": "python",
   "name": "python3"
  },
  "language_info": {
   "codemirror_mode": {
    "name": "ipython",
    "version": 3
   },
   "file_extension": ".py",
   "mimetype": "text/x-python",
   "name": "python",
   "nbconvert_exporter": "python",
   "pygments_lexer": "ipython3",
   "version": "3.8.3"
  }
 },
 "nbformat": 4,
 "nbformat_minor": 4
}
