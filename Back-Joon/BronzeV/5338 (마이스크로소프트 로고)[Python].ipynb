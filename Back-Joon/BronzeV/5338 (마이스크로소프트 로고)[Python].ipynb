{
 "cells": [
  {
   "cell_type": "markdown",
   "metadata": {},
   "source": [
    "# 마이크로소프트 로고\n",
    "\n",
    "<br>\n",
    "<br>\n",
    "\n",
    "### 문제\n",
    "---\n",
    "마이크로소프트 로고를 예제 출력처럼 출력하는 프로그램을 작성하시오."
   ]
  },
  {
   "cell_type": "markdown",
   "metadata": {},
   "source": [
    "### 출력"
   ]
  },
  {
   "cell_type": "markdown",
   "metadata": {},
   "source": [
    "---\n",
    "마이크로소프트 로고를 예제 출력처럼 출력한다."
   ]
  },
  {
   "cell_type": "markdown",
   "metadata": {},
   "source": [
    "### 예제 입력1\n",
    "\n",
    "```\n",
    "```\n",
    "\n",
    "### 예제 출력1\n",
    "\n",
    "```\n",
    "       _.-;;-._\n",
    "'-..-'|   ||   |\n",
    "'-..-'|_.-;;-._|\n",
    "'-..-'|   ||   |\n",
    "'-..-'|_.-''-._|\n",
    "```\n"
   ]
  },
  {
   "cell_type": "markdown",
   "metadata": {},
   "source": [
    "### 풀이"
   ]
  },
  {
   "cell_type": "code",
   "execution_count": 3,
   "metadata": {
    "scrolled": false
   },
   "outputs": [
    {
     "name": "stdout",
     "output_type": "stream",
     "text": [
      "\n",
      "       _.-;;-._\n",
      "'-..-'|   ||   |\n",
      "'-..-'|_.-;;-._|\n",
      "'-..-'|   ||   |\n",
      "'-..-'|_.-''-._|\n",
      "\n"
     ]
    }
   ],
   "source": [
    "print(\"\"\"\n",
    "       _.-;;-._\n",
    "'-..-'|   ||   |\n",
    "'-..-'|_.-;;-._|\n",
    "'-..-'|   ||   |\n",
    "'-..-'|_.-''-._|\n",
    "\"\"\")\n"
   ]
  }
 ],
 "metadata": {
  "kernelspec": {
   "display_name": "Python 3",
   "language": "python",
   "name": "python3"
  },
  "language_info": {
   "codemirror_mode": {
    "name": "ipython",
    "version": 3
   },
   "file_extension": ".py",
   "mimetype": "text/x-python",
   "name": "python",
   "nbconvert_exporter": "python",
   "pygments_lexer": "ipython3",
   "version": "3.8.3"
  }
 },
 "nbformat": 4,
 "nbformat_minor": 4
}
