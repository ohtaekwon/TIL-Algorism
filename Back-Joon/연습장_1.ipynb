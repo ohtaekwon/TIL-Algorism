{
 "cells": [
  {
   "cell_type": "code",
   "execution_count": 469,
   "metadata": {},
   "outputs": [
    {
     "data": {
      "text/plain": [
       "True"
      ]
     },
     "execution_count": 469,
     "metadata": {},
     "output_type": "execute_result"
    }
   ],
   "source": [
    "A = 150\n",
    "B = 266\n",
    "C = 427\n",
    "A * B * C == 150 * 266 * 427 "
   ]
  },
  {
   "cell_type": "code",
   "execution_count": 470,
   "metadata": {},
   "outputs": [
    {
     "data": {
      "text/plain": [
       "17037300"
      ]
     },
     "execution_count": 470,
     "metadata": {},
     "output_type": "execute_result"
    }
   ],
   "source": [
    "D = A * B * C \n",
    "D"
   ]
  },
  {
   "cell_type": "code",
   "execution_count": 471,
   "metadata": {},
   "outputs": [
    {
     "ename": "NameError",
     "evalue": "name 'mint' is not defined",
     "output_type": "error",
     "traceback": [
      "\u001b[1;31m---------------------------------------------------------------------------\u001b[0m",
      "\u001b[1;31mNameError\u001b[0m                                 Traceback (most recent call last)",
      "\u001b[1;32m<ipython-input-471-80d05832cf11>\u001b[0m in \u001b[0;36m<module>\u001b[1;34m\u001b[0m\n\u001b[1;32m----> 1\u001b[1;33m \u001b[0mnum\u001b[0m \u001b[1;33m=\u001b[0m \u001b[0mmint\u001b[0m\u001b[1;33m(\u001b[0m\u001b[0minput\u001b[0m\u001b[1;33m(\u001b[0m\u001b[1;33m)\u001b[0m\u001b[1;33m)\u001b[0m\u001b[1;33m\u001b[0m\u001b[1;33m\u001b[0m\u001b[0m\n\u001b[0m",
      "\u001b[1;31mNameError\u001b[0m: name 'mint' is not defined"
     ]
    }
   ],
   "source": [
    "num = mint(input())"
   ]
  },
  {
   "cell_type": "code",
   "execution_count": null,
   "metadata": {},
   "outputs": [],
   "source": [
    "map(int, input().split())"
   ]
  },
  {
   "cell_type": "code",
   "execution_count": null,
   "metadata": {},
   "outputs": [],
   "source": [
    "for _ range(n):\n",
    "    "
   ]
  },
  {
   "cell_type": "code",
   "execution_count": null,
   "metadata": {},
   "outputs": [],
   "source": [
    "a = [1,2,13,21,321,321,12,432,432,42,1,1,1,1,1,1,1,222,2,2,2,2,2,2,]\n",
    "set(a)\n",
    "a.count(max(set(a)))"
   ]
  },
  {
   "cell_type": "code",
   "execution_count": null,
   "metadata": {},
   "outputs": [],
   "source": [
    "if 'p' in 'python':\n",
    "    print(True)\n",
    "else:\n",
    "    print(False)"
   ]
  },
  {
   "cell_type": "code",
   "execution_count": null,
   "metadata": {},
   "outputs": [],
   "source": [
    "if 'a' in ('a','b','c'):\n",
    "    print(True)\n",
    "else:\n",
    "    print(False)"
   ]
  },
  {
   "cell_type": "code",
   "execution_count": null,
   "metadata": {
    "scrolled": true
   },
   "outputs": [],
   "source": [
    "print('hello 모듈 시작')\n",
    "print('hello.py __name__:', __name__)    # __name__ 변수 출력\n",
    "print('hello 모듈 끝')"
   ]
  },
  {
   "cell_type": "code",
   "execution_count": null,
   "metadata": {},
   "outputs": [],
   "source": []
  },
  {
   "cell_type": "code",
   "execution_count": null,
   "metadata": {},
   "outputs": [],
   "source": []
  },
  {
   "cell_type": "code",
   "execution_count": null,
   "metadata": {},
   "outputs": [],
   "source": []
  },
  {
   "cell_type": "code",
   "execution_count": null,
   "metadata": {},
   "outputs": [],
   "source": []
  },
  {
   "cell_type": "code",
   "execution_count": null,
   "metadata": {},
   "outputs": [],
   "source": []
  },
  {
   "cell_type": "code",
   "execution_count": null,
   "metadata": {},
   "outputs": [],
   "source": []
  },
  {
   "cell_type": "code",
   "execution_count": null,
   "metadata": {},
   "outputs": [],
   "source": []
  },
  {
   "cell_type": "code",
   "execution_count": null,
   "metadata": {},
   "outputs": [],
   "source": []
  },
  {
   "cell_type": "code",
   "execution_count": 472,
   "metadata": {},
   "outputs": [],
   "source": [
    "for _ in range(n):\n",
    "    int(input())"
   ]
  },
  {
   "cell_type": "code",
   "execution_count": null,
   "metadata": {},
   "outputs": [],
   "source": [
    "num = [int(input()) for _ in range(3)]"
   ]
  },
  {
   "cell_type": "code",
   "execution_count": null,
   "metadata": {},
   "outputs": [],
   "source": [
    "for i in range(3):\n",
    "    n = int(input())\n",
    "    \n",
    "    num = [int(input()) for _ in range(3)]\n",
    "    \n",
    "    if sum(num)==0:\n",
    "        print(\"0\")\n",
    "    elif sum(num)>0:\n",
    "        print(\"+\")\n",
    "    else:\n",
    "        print(\"-\")"
   ]
  },
  {
   "cell_type": "code",
   "execution_count": null,
   "metadata": {},
   "outputs": [],
   "source": [
    "chess=[]\n",
    "cnt=0\n",
    "for i in range(8):\n",
    "    chess.append(input())\n",
    "    \n",
    "for i in range(8):\n",
    "    for j in range(8):\n",
    "        if i%2==1 and j%2==1 and chess[i][j] == \"F\":\n",
    "            cnt+=1\n",
    "        if i%2==0 and j%2==0 and chess[i][j] == \"F\":\n",
    "            cnt+=1\n",
    "            \n",
    "print(cnt)\n",
    "    "
   ]
  },
  {
   "cell_type": "code",
   "execution_count": null,
   "metadata": {},
   "outputs": [],
   "source": [
    "n = int(input())\n",
    "f = int(input())\n",
    "\n",
    "front = n//100\n",
    "answer = front*100\n",
    "\n",
    "\n",
    "while answer%f!=0:\n",
    "    answer+=1\n",
    "    \n",
    "print(answer)"
   ]
  },
  {
   "cell_type": "code",
   "execution_count": null,
   "metadata": {},
   "outputs": [],
   "source": [
    "year = int(input())\n",
    "\n",
    "if (year%4==0) and (year%100!=0) or (year%400==0):\n",
    "    print(year, \"윤년\")\n",
    "else:\n",
    "    print(year, \"윤년x\")"
   ]
  },
  {
   "cell_type": "code",
   "execution_count": null,
   "metadata": {},
   "outputs": [],
   "source": [
    "from dateutil.relativedelta import relativedelta\n",
    "import datetime as dt\n",
    "\n",
    "y1, m1, d1 = map(int, input().split())\n",
    "y2, m2, d2 = map(int, input().split())\n",
    "\n",
    "start = dt.date(y1,m1,d1)\n",
    "finish = dt.date(y2,m2,d2)"
   ]
  },
  {
   "cell_type": "code",
   "execution_count": null,
   "metadata": {},
   "outputs": [],
   "source": [
    "start"
   ]
  },
  {
   "cell_type": "code",
   "execution_count": null,
   "metadata": {},
   "outputs": [],
   "source": [
    "from dateutil.relativedelta import relativedelta\n",
    "import datetime as dt \n",
    "\n",
    "after_1000year=start+relativedelta(years=1000\n",
    "                                   "
   ]
  },
  {
   "cell_type": "code",
   "execution_count": null,
   "metadata": {},
   "outputs": [],
   "source": [
    "x,y = map(str, input().split())\n",
    "\n",
    "xyPlus=(int(X[::-1])) + int(Y[::-1])\n",
    "\n",
    "Rev_pre = str(xyPlus)\n",
    "Rev= int(Rev_pre[::-1])\n",
    "print(Rev)"
   ]
  },
  {
   "cell_type": "code",
   "execution_count": null,
   "metadata": {},
   "outputs": [],
   "source": [
    "4%2"
   ]
  },
  {
   "cell_type": "code",
   "execution_count": null,
   "metadata": {},
   "outputs": [],
   "source": [
    "n=int(input())"
   ]
  },
  {
   "cell_type": "code",
   "execution_count": null,
   "metadata": {},
   "outputs": [],
   "source": [
    "n=int(input())\n",
    "star=\"*\"\n",
    "space=\" \"\n",
    "\n",
    "if n%2==0:\n",
    "    print(star+space*n+star+space*n+star)\n",
    "    print(space*(n-1)+star+space*(n-1)+star)\n",
    "else:\n",
    "    print(star+space*n+star+space*n+star)\n",
    "    print(space*(2*n-n-1)+star+space*n+star)\n",
    "    "
   ]
  },
  {
   "cell_type": "markdown",
   "metadata": {},
   "source": [
    "```\n",
    "*    *    *\n",
    "   *   *   \n",
    "```\n",
    "\n",
    "```\n",
    "*  *  *\n",
    " * *\n",
    "```"
   ]
  },
  {
   "cell_type": "code",
   "execution_count": null,
   "metadata": {},
   "outputs": [],
   "source": [
    "n=int(input())\n",
    "star=\"*\"\n",
    "space=\" \"\n",
    "\n",
    "if n%2==0:\n",
    "    print(star+space*n+star+space*n+star)\n",
    "    print(space*(n-1)+star+space*(n-1)+star)\n",
    "elif n==1:\n",
    "    print(star+space*n+star+space*n+star)\n",
    "    print(space*n+star+space*n+star)  \n",
    "else:\n",
    "    print(star+space*n+star+space*n+star)\n",
    "    print(space*(2*n-n-1)+star+space*n+star)"
   ]
  },
  {
   "cell_type": "code",
   "execution_count": null,
   "metadata": {},
   "outputs": [],
   "source": [
    "n=int(input())\n",
    "star=\"*\"\n",
    "space=\" \"\n",
    "\n",
    "\n",
    "if n==1:\n",
    "    print(star+space*n+star+space*n+star)\n",
    "    print(space*n+star+space*n+star,end=\" \")\n",
    "if n==2:\n",
    "    print(star+space*n+star+space*n+star)\n",
    "    print(space*n+star+space*(n-1)+star,end=\" \")    \n",
    "if n!=2 and n%2==0:\n",
    "    print(star+space*n+star+space*n+star)\n",
    "    print(space*(n-2)+star+space*(n-1)+star,end=\" \")\n",
    "if n!=1 and n%2==1:\n",
    "    print(star+space*n+star+space*n+star)\n",
    "    print(space*(2*n-n-1)+star+space*n+star)    "
   ]
  },
  {
   "cell_type": "markdown",
   "metadata": {},
   "source": [
    "```\n",
    "*    *    *\n",
    "   *   *\n",
    "```\n"
   ]
  },
  {
   "cell_type": "code",
   "execution_count": null,
   "metadata": {},
   "outputs": [],
   "source": [
    "n=int(input())\n",
    "star=\"*\"\n",
    "space=\" \"\n",
    "\n",
    "\n",
    "if n==1:\n",
    "    print(star+space*n+star+space*n+star)\n",
    "    print(space*n+star+space*n+star)\n",
    "if n==2:\n",
    "    print(star+space*n+star+space*n+star)\n",
    "    print(space*n+star+space*(n-1)+star)    \n",
    "if n!=2 and n%2==0:\n",
    "    print(star+space*n+star+space*n+star)\n",
    "    print(space*((n+2)//2)+star+space*(n-1)+star)\n",
    "if n!=1 and n%2==1:\n",
    "    print(star+space*n+star+space*n+star)\n",
    "    print(space*((n+2)//2)+star+space*n+star)    "
   ]
  },
  {
   "cell_type": "code",
   "execution_count": null,
   "metadata": {},
   "outputs": [],
   "source": [
    "(n+2)//2"
   ]
  },
  {
   "cell_type": "code",
   "execution_count": null,
   "metadata": {},
   "outputs": [],
   "source": [
    "(n+2)//2"
   ]
  },
  {
   "cell_type": "code",
   "execution_count": null,
   "metadata": {},
   "outputs": [],
   "source": [
    "# 클래스 선언\n",
    "class Member:\n",
    "\n",
    "    # 속성 생성\n",
    "    def __init__(self, name, age, address):\n",
    "        self.name = name\n",
    "        self.age = age\n",
    "        self.address = address\n",
    "\n",
    "    # 메소드 생성\n",
    "    def info(self):\n",
    "        print('저의 이름은 {0}이고, 나이는 {1}, 사는곳은 {2} 입니다'.format(self.name, self.age, self.address))\n",
    "\n",
    "# Member의 introduce 인스턴스 생성\n",
    "introduce = Member('nirsa', 80, '인천 광역시')\n",
    "\n",
    "# introduce 인스턴스의 info 메소드 호출\n",
    "introduce.info()"
   ]
  },
  {
   "cell_type": "code",
   "execution_count": null,
   "metadata": {},
   "outputs": [],
   "source": [
    "class Rectangle:\n",
    "    def __init__(self, a, b):\n",
    "        self.a=a\n",
    "        self.b=b\n",
    "    \n",
    "    def area(self):\n",
    "        return a*b\n",
    "    \n",
    "class Square:\n",
    "    def __init__(self, a):\n",
    "        self.a=a  \n",
    "    \n",
    "    def area(self):\n",
    "        return a*a\n"
   ]
  },
  {
   "cell_type": "code",
   "execution_count": null,
   "metadata": {},
   "outputs": [],
   "source": [
    "elice = Rectangle(10,20)\n",
    "print(elice.area())\n",
    "\n",
    "\n",
    "bob = Square(10)\n",
    "print(bob.area())"
   ]
  },
  {
   "cell_type": "code",
   "execution_count": null,
   "metadata": {},
   "outputs": [],
   "source": [
    "width,height=map(int,input().split())"
   ]
  },
  {
   "cell_type": "code",
   "execution_count": null,
   "metadata": {},
   "outputs": [],
   "source": [
    "class Rectangle:\n",
    "    def __init__(self, width, height):\n",
    "        self.width,=width,\n",
    "        self.height= height\n",
    "    \n",
    "    def area(self):\n",
    "        return width*height\n",
    "    \n",
    "class Square(Rectangle):\n",
    "    def __init__(self, width):\n",
    "        super(Rectangle,self).__init__()\n",
    "        self.width=width  \n",
    "    \n",
    "    def area(self):\n",
    "        return width*width\n",
    "    \n",
    "width,height=map(int,input().split())\n"
   ]
  },
  {
   "cell_type": "code",
   "execution_count": null,
   "metadata": {},
   "outputs": [],
   "source": [
    "def solution(width,height):\n",
    "    Rectangle(width, height)\n",
    "    Square(width)\n",
    "\n",
    "\n",
    "solution(width,height=map(int,input().split()))"
   ]
  },
  {
   "cell_type": "code",
   "execution_count": null,
   "metadata": {},
   "outputs": [],
   "source": [
    "\n",
    "print(elice.area())\n",
    "\n",
    "\n",
    "print(bob.area())"
   ]
  },
  {
   "cell_type": "code",
   "execution_count": null,
   "metadata": {},
   "outputs": [],
   "source": [
    "class Rectangle:\n",
    "    def __init__(self, width, height):\n",
    "        self.width,=width,\n",
    "        self.height= height\n",
    "    \n",
    "    def area(self):\n",
    "        return width*height\n",
    "    \n",
    "class Square(Rectangle):\n",
    "    def __init__(self, width):\n",
    "        super(Rectangle,self).__init__()\n",
    "        self.width=width  \n",
    "        return width*width"
   ]
  },
  {
   "cell_type": "code",
   "execution_count": null,
   "metadata": {},
   "outputs": [],
   "source": [
    "width,height=map(int,input().split())"
   ]
  },
  {
   "cell_type": "code",
   "execution_count": null,
   "metadata": {},
   "outputs": [],
   "source": [
    "elice = Rectangle(width, height)\n",
    "elice.area()"
   ]
  },
  {
   "cell_type": "code",
   "execution_count": null,
   "metadata": {},
   "outputs": [],
   "source": [
    "bob = Square(width)\n"
   ]
  },
  {
   "cell_type": "code",
   "execution_count": null,
   "metadata": {},
   "outputs": [],
   "source": [
    "7-1"
   ]
  },
  {
   "cell_type": "code",
   "execution_count": null,
   "metadata": {},
   "outputs": [],
   "source": [
    "11-7-1"
   ]
  },
  {
   "cell_type": "code",
   "execution_count": null,
   "metadata": {},
   "outputs": [],
   "source": [
    "17-11-1"
   ]
  },
  {
   "cell_type": "code",
   "execution_count": null,
   "metadata": {},
   "outputs": [],
   "source": [
    "17+7-17-1"
   ]
  },
  {
   "cell_type": "code",
   "execution_count": null,
   "metadata": {},
   "outputs": [],
   "source": [
    "17+11-17+7-1"
   ]
  },
  {
   "cell_type": "code",
   "execution_count": null,
   "metadata": {},
   "outputs": [],
   "source": [
    "82/14"
   ]
  },
  {
   "cell_type": "code",
   "execution_count": null,
   "metadata": {
    "scrolled": true
   },
   "outputs": [],
   "source": [
    "*2100 - 35*1000"
   ]
  },
  {
   "cell_type": "code",
   "execution_count": null,
   "metadata": {},
   "outputs": [],
   "source": [
    "30*1000"
   ]
  },
  {
   "cell_type": "code",
   "execution_count": null,
   "metadata": {},
   "outputs": [],
   "source": [
    "324-72"
   ]
  },
  {
   "cell_type": "code",
   "execution_count": null,
   "metadata": {},
   "outputs": [],
   "source": [
    "252/6"
   ]
  },
  {
   "cell_type": "code",
   "execution_count": null,
   "metadata": {},
   "outputs": [],
   "source": [
    "8598%17"
   ]
  },
  {
   "cell_type": "code",
   "execution_count": null,
   "metadata": {},
   "outputs": [],
   "source": [
    "1000*10000"
   ]
  },
  {
   "cell_type": "code",
   "execution_count": null,
   "metadata": {},
   "outputs": [],
   "source": [
    "10000/200"
   ]
  },
  {
   "cell_type": "code",
   "execution_count": null,
   "metadata": {},
   "outputs": [],
   "source": [
    "50*2000"
   ]
  },
  {
   "cell_type": "code",
   "execution_count": null,
   "metadata": {},
   "outputs": [],
   "source": [
    "750*0.6"
   ]
  },
  {
   "cell_type": "code",
   "execution_count": null,
   "metadata": {},
   "outputs": [],
   "source": [
    "750*0.4"
   ]
  },
  {
   "cell_type": "code",
   "execution_count": null,
   "metadata": {},
   "outputs": [],
   "source": [
    "120//8"
   ]
  },
  {
   "cell_type": "code",
   "execution_count": null,
   "metadata": {},
   "outputs": [],
   "source": [
    "for j in tzuyu:\n",
    "    if j=='금':\n",
    "        stealBag2.append(j)\n",
    "        \n",
    "        \n",
    "[j for j in tzuyu if j=='금']"
   ]
  },
  {
   "cell_type": "code",
   "execution_count": null,
   "metadata": {},
   "outputs": [],
   "source": [
    "for i in range(1,6):\n",
    "    print(\"*\"*i)"
   ]
  },
  {
   "cell_type": "code",
   "execution_count": null,
   "metadata": {},
   "outputs": [],
   "source": [
    "# 변수 answer에 수 1~50 중 하나를 넣어봅시다.\n",
    "answer = 3\n",
    "\n",
    "# input을 통해 숫자형으로 입력을 받아서 변수 submit에 저장해봅시다.\n",
    "submit=int(input())\n",
    "\n",
    "# if-elif-else문으로 Up-Down Game을 구현해봅시다.\n",
    "# 만약 answer보다 submit이 더 크면 \"정답보다 더 큰 수를 입력했습니다.\"\n",
    "# 만약 answer보다 submit이 더 작으면 \"정답보다 더 작은 수를 입력했습니다.\"\n",
    "# 만약 answer와 submit이 같으면 \"정답!\" 를 출력합니다.\n",
    "\n",
    "\n",
    "\n",
    "if answer<submit:\n",
    "    print(\"정답보다 더 큰 수를 입력했습니다.\")\n",
    "elif answer>submit:\n",
    "    print(\"정답보다 더 작은 수를 입력했습니다.\")\n",
    "else:\n",
    "    print(\"정답!\")"
   ]
  },
  {
   "cell_type": "code",
   "execution_count": null,
   "metadata": {},
   "outputs": [],
   "source": [
    "for i in range(5,0,-1):\n",
    "    if i!=3:\n",
    "        my_list.append(i)\n",
    "    "
   ]
  },
  {
   "cell_type": "code",
   "execution_count": null,
   "metadata": {},
   "outputs": [],
   "source": [
    "my_list=[i for i in range(5,0,-1) if i !=3]"
   ]
  },
  {
   "cell_type": "code",
   "execution_count": null,
   "metadata": {},
   "outputs": [],
   "source": [
    "my_list.insert(2,3)"
   ]
  },
  {
   "cell_type": "code",
   "execution_count": null,
   "metadata": {},
   "outputs": [],
   "source": [
    "my_list"
   ]
  },
  {
   "cell_type": "code",
   "execution_count": null,
   "metadata": {},
   "outputs": [],
   "source": [
    "my_list=[i for i in range(5,1,-1)]"
   ]
  },
  {
   "cell_type": "code",
   "execution_count": null,
   "metadata": {},
   "outputs": [],
   "source": [
    "my_list.remove(2)"
   ]
  },
  {
   "cell_type": "code",
   "execution_count": null,
   "metadata": {},
   "outputs": [],
   "source": [
    "my_list"
   ]
  },
  {
   "cell_type": "code",
   "execution_count": null,
   "metadata": {},
   "outputs": [],
   "source": [
    "my_str=\"Impossible\"\n",
    "len(my_str)"
   ]
  },
  {
   "cell_type": "code",
   "execution_count": null,
   "metadata": {},
   "outputs": [],
   "source": [
    "[print(my_list) for _ in range(3)]\n",
    "    my_list"
   ]
  },
  {
   "cell_type": "code",
   "execution_count": null,
   "metadata": {},
   "outputs": [],
   "source": [
    "str1 = \"py\"\n",
    "str2= \"thon\"\n",
    "\n",
    "my_list = [3,6,9]\n",
    "\n",
    "var1 = str1 + str2"
   ]
  },
  {
   "cell_type": "code",
   "execution_count": null,
   "metadata": {},
   "outputs": [],
   "source": [
    "var1"
   ]
  },
  {
   "cell_type": "code",
   "execution_count": null,
   "metadata": {},
   "outputs": [],
   "source": [
    "var2 = [my_list for _ in range(3)]\n",
    "var2"
   ]
  },
  {
   "cell_type": "code",
   "execution_count": null,
   "metadata": {},
   "outputs": [],
   "source": [
    "#dahyun의 가방 안에서 '다이아몬드'를 훔쳐볼까요?\n",
    "dahyun = ['은', '은', '은', '은', '은', '은', '은', '은', '은', '은', '은', '은', '은', '은', '은', '은', '은', '은', '은', '은', '은', '은', '은', '은', '은', '은', '은', '은', '은', '은', '은', '은', '은', '은', '은', '은', '은', '은', '은', '은', '은', '은', '다이아몬드', '은']\n",
    "\n",
    "#이 가방에 한번 넣어봅시다!\n",
    "stealBag1 = [j for j in dahyun if j==\"다이아몬드\"]\n"
   ]
  },
  {
   "cell_type": "code",
   "execution_count": null,
   "metadata": {},
   "outputs": [],
   "source": [
    "stealBag1"
   ]
  },
  {
   "cell_type": "code",
   "execution_count": null,
   "metadata": {},
   "outputs": [],
   "source": [
    "stealBag1 = [j for j in dahyun if j==\"다이아몬드\"]\n"
   ]
  },
  {
   "cell_type": "code",
   "execution_count": null,
   "metadata": {},
   "outputs": [],
   "source": [
    "for i in range(1,20):\n",
    "    print(\"19 *\" , i , \"=\" , 19*i)"
   ]
  },
  {
   "cell_type": "code",
   "execution_count": null,
   "metadata": {},
   "outputs": [],
   "source": [
    "j=1\n",
    "while(j<=10):\n",
    "    print(j,\"년쨰 수감 중입니다.\")\n",
    "    j+=1\n",
    "print(\"감옥에서 석방되었습니다!\")\n",
    "    "
   ]
  },
  {
   "cell_type": "code",
   "execution_count": null,
   "metadata": {},
   "outputs": [],
   "source": [
    "n=int(input())"
   ]
  },
  {
   "cell_type": "code",
   "execution_count": null,
   "metadata": {},
   "outputs": [],
   "source": [
    "numbers=[]\n",
    "\n",
    "while True:\n",
    "    n=int(input())\n",
    "    if n==0:\n",
    "        break\n",
    "    else:\n",
    "        numbers.append(n)\n",
    "    s=0\n",
    "    for i in numbers:\n",
    "        s+=i     \n",
    "sol=s/len(numbers)\n",
    "print(sol)"
   ]
  },
  {
   "cell_type": "code",
   "execution_count": null,
   "metadata": {},
   "outputs": [],
   "source": [
    "my_str = \"1/2/3/4/5\"\n",
    "print(my_str)\n",
    "print(my_str.split('/')) #['1', '2', '3', '4', '5'] \n",
    "\n",
    "my_list = [\"나\", \"너\", \"우리\"]\n",
    "print(\" 그리고 \".join(my_list)) #나 그리고 너 그리고 우리\n"
   ]
  },
  {
   "cell_type": "code",
   "execution_count": null,
   "metadata": {},
   "outputs": [],
   "source": [
    "my_str=\"beetea\"\n",
    "my_list=[\"Seeing\", \"is\", \"Believing\"]\n",
    "var1 = my_str.split('e')\n",
    "var2 = \" \".join(my_list)\n",
    "\n",
    "print(var1)\n",
    "print(var2)"
   ]
  },
  {
   "cell_type": "code",
   "execution_count": null,
   "metadata": {},
   "outputs": [],
   "source": [
    "lyrics = \"낙엽을,닮은,너의,눈동자를,나는,정말,정말,좋아했었어,가을을,닮은,너의,목소리를,나는,아직,아직,잊지,못했어,같이,걸으면서,들었던,낙엽,소리가,내,귓가에,들려오는,것만,같아,함께,앉아,있던,좁다란,나무,벤치엔,너의,온기가,남아있는,것만,같아,낙엽을,닮은,너의,눈동자를,나는,정말,정말,좋아했었어,가을을,닮은,너의,목소리를,나는,아직,아직,잊지,못했어\"\n",
    "\n",
    "my_list =lyrics.split(',')\n",
    "print(my_list)"
   ]
  },
  {
   "cell_type": "code",
   "execution_count": null,
   "metadata": {},
   "outputs": [],
   "source": [
    "my_list[n-1]"
   ]
  },
  {
   "cell_type": "code",
   "execution_count": null,
   "metadata": {},
   "outputs": [],
   "source": [
    "lyrics = \"낙엽을,닮은,너의,눈동자를,나는,정말,정말,좋아했었어,가을을,닮은,너의,목소리를,나는,아직,아직,잊지,못했어,같이,걸으면서,들었던,낙엽,소리가,내,귓가에,들려오는,것만,같아,함께,앉아,있던,좁다란,나무,벤치엔,너의,온기가,남아있는,것만,같아,낙엽을,닮은,너의,눈동자를,나는,정말,정말,좋아했었어,가을을,닮은,너의,목소리를,나는,아직,아직,잊지,못했어\"\n",
    "\n",
    "my_list =lyrics.split(',')\n",
    "print(my_list[n-1])"
   ]
  },
  {
   "cell_type": "code",
   "execution_count": null,
   "metadata": {},
   "outputs": [],
   "source": [
    "my_tuple = ('t', 'w', 'i', 'c', 'e')\n",
    "my_tuple.append('짱')\n",
    "print(my_tuple)"
   ]
  },
  {
   "cell_type": "code",
   "execution_count": null,
   "metadata": {},
   "outputs": [],
   "source": [
    "x = {'a': 10, 'b': 20, 'c': 30, 'd': 40}\n",
    "for i in x:\n",
    "    print(i, end=' ')\n"
   ]
  },
  {
   "cell_type": "code",
   "execution_count": null,
   "metadata": {},
   "outputs": [],
   "source": [
    "cvs = [\"Bello\", \"Bello\", \"Tulaliloo_ti_amo\", \"Tank_yu\", \"Poopaye\", \"Poopaye\"]\n",
    "\n",
    "# Minionese와 한국어가 담긴 miniWord 딕셔너리를 만드세요.\n",
    "miniWord = {\"Minionese\":\"한국어\",\n",
    "            \"Bello\":\"안녕\",\n",
    "            \"Poopaye\":\"잘가\",\n",
    "            \"Tank_yu\":\"고마워\",\n",
    "            \"Tulaliloo_ti_amo\":\"우린 너를 사랑해\",\n",
    "            }\n",
    "            \n",
    "            \n",
    "for key, value in miniWord.items():\n",
    "    print(key[\"Bello\"])\n"
   ]
  },
  {
   "cell_type": "code",
   "execution_count": null,
   "metadata": {},
   "outputs": [],
   "source": [
    "a=(1,23,213,4)\n",
    "\n",
    "b=sum(a)"
   ]
  },
  {
   "cell_type": "code",
   "execution_count": null,
   "metadata": {},
   "outputs": [],
   "source": [
    "my_list=(1,23,4,135,325)\n",
    "\n",
    "var1=sum(my_list)\n",
    "var2=len(my_list)\n",
    "var3=var1/var2"
   ]
  },
  {
   "cell_type": "code",
   "execution_count": null,
   "metadata": {},
   "outputs": [],
   "source": [
    "my_dic={1:\"one\",\n",
    "        2:\"two\",\n",
    "        3:\"three\",\n",
    "        }\n",
    "        \n",
    "var1=my_dict.keys()\n",
    "var1"
   ]
  },
  {
   "cell_type": "code",
   "execution_count": 7,
   "metadata": {},
   "outputs": [
    {
     "name": "stdout",
     "output_type": "stream",
     "text": [
      "None\n"
     ]
    }
   ],
   "source": [
    "def neverland(list):\n",
    "    list=list.sort()\n",
    "    return list\n",
    "\n",
    "\n",
    "\n",
    "queue = [30, 10, 20, 50, 40, 60]\n",
    "print(neverland(queue))\n"
   ]
  },
  {
   "cell_type": "code",
   "execution_count": 18,
   "metadata": {},
   "outputs": [
    {
     "name": "stdout",
     "output_type": "stream",
     "text": [
      "안녕\n",
      "안녕\n",
      "우린 너를 사랑해\n",
      "고마워\n",
      "잘가\n",
      "잘가\n"
     ]
    }
   ],
   "source": [
    "cvs = [\"Bello\", \"Bello\", \"Tulaliloo_ti_amo\", \"Tank_yu\", \"Poopaye\", \"Poopaye\"]\n",
    "\n",
    "# Minionese와 한국어가 담긴 miniWord 딕셔너리를 만드세요.\n",
    "miniWord = {\"Bello\":\"안녕\",\n",
    "            \"Poopaye\":\"잘가\",\n",
    "            \"Tank_yu\":\"고마워\",\n",
    "            \"Tulaliloo_ti_amo\":\"우린 너를 사랑해\",\n",
    "            }\n",
    "            \n",
    "for i in cvs:\n",
    "    for key,value in miniWord.items():\n",
    "        if key==i:\n",
    "            print(value)"
   ]
  }
 ],
 "metadata": {
  "kernelspec": {
   "display_name": "Python 3",
   "language": "python",
   "name": "python3"
  },
  "language_info": {
   "codemirror_mode": {
    "name": "ipython",
    "version": 3
   },
   "file_extension": ".py",
   "mimetype": "text/x-python",
   "name": "python",
   "nbconvert_exporter": "python",
   "pygments_lexer": "ipython3",
   "version": "3.8.3"
  }
 },
 "nbformat": 4,
 "nbformat_minor": 4
}
