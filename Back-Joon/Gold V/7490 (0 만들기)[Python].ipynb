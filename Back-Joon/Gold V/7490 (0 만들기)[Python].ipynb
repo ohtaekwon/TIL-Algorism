{
 "cells": [
  {
   "cell_type": "markdown",
   "metadata": {},
   "source": [
    "# [0 만들기](https://www.acmicpc.net/problem/7490)\n",
    "\n",
    "<br/>\n",
    "<br/>\n",
    "\n",
    "## 문제\n",
    "\n",
    "1부터 N까지의 수를 오름차순으로 쓴 수열 1 2 3 ... N을 생각하자.\n",
    "\n",
    "그리고 '+'나 '-', 또는 ' '(공백)을 숫자 사이에 삽입하자(+는 더하기, -는 빼기, 공백은 숫자를 이어 붙이는 것을 뜻한다). 이렇게 만든 수식의 값을 계산하고 그 결과가 0이 될 수 있는지를 살피자.\n",
    "\n",
    "N이 주어졌을 때 수식의 결과가 0이 되는 모든 수식을 찾는 프로그램을 작성하라.\n",
    "\n",
    "## 입력\n",
    "\n",
    "첫 번째 줄에 테스트 케이스의 개수가 주어진다(<10).\n",
    "\n",
    "각 테스트 케이스엔 자연수 N이 주어진다(3 <= N <= 9).\n",
    "\n",
    "## 출력\n",
    "\n",
    "각 테스트 케이스에 대해 ASCII 순서에 따라 결과가 0이 되는 모든 수식을 출력한다. 각 테스트 케이스의 결과는 한 줄을 띄워 구분한다.\n",
    "\n",
    "\n",
    "## 예제 입력\n",
    "\n",
    "```\n",
    "2\n",
    "3\n",
    "7\n",
    "```\n",
    "\n",
    "## 예제 출력\n",
    "\n",
    "```\n",
    "1+2-3\n",
    "\n",
    "1+2-3+4-5-6+7\n",
    "1+2-3-4+5+6-7\n",
    "1-2 3+4+5+6+7\n",
    "1-2 3-4 5+6 7\n",
    "1-2+3+4-5+6-7\n",
    "1-2-3-4-5+6+7\n",
    "```\n",
    "\n",
    "## 알고리즘 분류\n",
    "\n",
    "- 구현\n",
    "- 문자열\n",
    "- 브루트포스 알고리즘\n",
    "- 파싱\n",
    "- 백트래킹"
   ]
  },
  {
   "cell_type": "markdown",
   "metadata": {},
   "source": [
    "----"
   ]
  },
  {
   "cell_type": "markdown",
   "metadata": {},
   "source": [
    "## 풀이 방법\n",
    "\n",
    "### 문제 풀이 - 핵심 아이디어\n",
    "\n",
    "1. 자연수 N의 범위(3<= N <= 9)가 매우 한정적이므로 완전 탐색으로 문제를 해결할 수 있다.\n",
    "2. `수의 리스트`와 `연산자 리스트`를 분리하여 모든 경우의 수를 계산한다.\n",
    "\n",
    "### 예) 수 리스트가 `1,2,3` 인 경우\n",
    "\n",
    "- 수 리스트 : `1,2,3`\n",
    "- 연산자 리스트 :\n",
    "    - `|''|''|` / `|'+'|''|` / `|'-'|''|` \n",
    "    - `|''|'+'|` / `|'+'|'+'|` / `|'-'|'+'|`\n",
    "    - `|''|'-'|` / `|'+'|'-'|` / `|'-'|'-'|`\n",
    "    - '' 이거나 + 이거나 - 일 경우가 있기 때문에\n",
    "    - 따라서, 연산자 리스트의 크기 같은 경우의 수는 3$^n$$^-$$^1$\n",
    "    - 아래와 같이 전체 식에 대한 계산을 할 수 있다.\n",
    "- 전체 경우의 수\n",
    "    - `123` , `1+23`, `1-23`\n",
    "    - `12+3`, `1+2+3`, `1-2+3`\n",
    "    - `12-3`, `1+2-3`, `1-2-3`\n",
    "  \n",
    "\n",
    "### 문제 풀이 - 알고리즘\n",
    "\n",
    "1. 가능한 모든 경우를 고려하여 연산자 리스트를 만드는 것이 관건이다.(재귀 함수 이용)\n",
    "2. 파이썬의 `eval()`함수를 이용하여 문자열 형태의 표현식을 계산할 수 잇다."
   ]
  },
  {
   "cell_type": "markdown",
   "metadata": {},
   "source": [
    "### 풀이코드 1)"
   ]
  },
  {
   "cell_type": "code",
   "execution_count": null,
   "metadata": {},
   "outputs": [],
   "source": [
    "import copy # \n",
    "\n",
    "def recursive(array, n):\n",
    "    if len(array) == n:\n",
    "        operators_list.append(copy.deepcopy(array)) # copy를 통해 array의 내용이 copy\n",
    "        return\n",
    "    array.append(' ')\n",
    "    recursive(array, n)\n",
    "    array.pop()\n",
    "    array.append('+')\n",
    "    recursive(array, n)\n",
    "    array.pop()\n",
    "    array.append('-')\n",
    "    recursive(array, n)\n",
    "    array.pop()\n",
    "\n",
    "test_case = int(input())\n",
    "for _ in range(test_case):\n",
    "    operators_list = []\n",
    "    n = int(input())\n",
    "    recursive([], n - 1)\n",
    "    integers = [i for i in range(1, n + 1)]\n",
    "    for operators in operators_list:\n",
    "        string = \"\"\n",
    "        for i in range(n - 1):\n",
    "            string += str(integers[i]) + operators[i]\n",
    "        string += str(integers[-1])\n",
    "        if eval(string.replace(\" \", \"\")) == 0:\n",
    "            print(string)\n",
    "    print()\n",
    "    "
   ]
  }
 ],
 "metadata": {
  "kernelspec": {
   "display_name": "Python 3 (ipykernel)",
   "language": "python",
   "name": "python3"
  },
  "language_info": {
   "codemirror_mode": {
    "name": "ipython",
    "version": 3
   },
   "file_extension": ".py",
   "mimetype": "text/x-python",
   "name": "python",
   "nbconvert_exporter": "python",
   "pygments_lexer": "ipython3",
   "version": "3.9.7"
  }
 },
 "nbformat": 4,
 "nbformat_minor": 4
}
