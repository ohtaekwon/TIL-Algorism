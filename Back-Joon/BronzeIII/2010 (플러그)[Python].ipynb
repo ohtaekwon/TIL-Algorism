{
 "cells": [
  {
   "cell_type": "markdown",
   "metadata": {},
   "source": [
    "# 플러그\n",
    "\n",
    "\n",
    "<br>\n",
    "<br>\n",
    "\n",
    "## 문제\n",
    "\n",
    "---\n",
    "\n",
    "선영이의 집에는 콘센트를 꽂을 수 있는 플러그가 하나밖에 없다. 선영이는 많은 컴퓨터를 가지고 있는데, 컴퓨터의 전원 문제는 어떻게 해결하는 것일까?\n",
    "\n",
    "하나의 플러그가 있고, N개의 멀티탭이 있다. 각 멀티탭은 몇 개의 플러그로 이루어져 있다고 한다. 최대 몇 대의 컴퓨터를 전원에 연결할 수 있을까?\n",
    "\n",
    "### 입력\n",
    "---\n",
    "첫째 줄에 멀티탭의 개수 N이 주어진다. (1 ≤ N ≤ 500,000) 이어서 둘째 줄부터 N개의 줄에 걸쳐 각 멀티탭이 몇 개의 플러그를 꽂을 수 있도록 되어 있는지를 나타내는 자연수가 주어진다. 이 자연수는 1,000을 넘지 않는다.\n",
    "<br>\n",
    "\n",
    "### 출력\n",
    "---\n",
    "첫째 줄에 최대로 전원에 연결될 수 있는 컴퓨터의 수를 출력한다."
   ]
  },
  {
   "cell_type": "markdown",
   "metadata": {},
   "source": [
    "### 예제 입력1\n",
    "\n",
    "```\n",
    "3\n",
    "1\n",
    "1\n",
    "1\n",
    "```\n",
    "\n",
    "### 예제 출력1\n",
    "\n",
    "```\n",
    "1\n",
    "```\n"
   ]
  },
  {
   "cell_type": "markdown",
   "metadata": {},
   "source": [
    "----"
   ]
  },
  {
   "cell_type": "markdown",
   "metadata": {},
   "source": [
    "### 풀이 1)\n",
    "\n",
    "\n",
    "##### 1-1. 코드 풀이 내용 정리\n",
    "\n",
    "- 일단 먼저, 처음에 콘센트가 아무것도 없을 경우 최대로 꽂을 수 있는 컴퓨터는 1대 이기 때문에 `com=1`을 설정했다.\n",
    "\n",
    "- 이후 멀티탭을 꽂을 때마다 최대로 연결할 수 있는 컴퓨터의 수는 멀티탭의 수 -1을 하면 된다.\n",
    "\n",
    "\n",
    "\n",
    "\n",
    "하지만, 시간초과가 발생했다."
   ]
  },
  {
   "cell_type": "code",
   "execution_count": 23,
   "metadata": {},
   "outputs": [
    {
     "name": "stdout",
     "output_type": "stream",
     "text": [
      "3\n",
      "20\n",
      "100\n",
      "100\n",
      "218\n"
     ]
    }
   ],
   "source": [
    "n=int(input())\n",
    "\n",
    "com=1\n",
    "\n",
    "for _ in range(n):\n",
    "    mul=int(input())\n",
    "    com+=mul-1\n",
    "    \n",
    "print(com)"
   ]
  },
  {
   "cell_type": "markdown",
   "metadata": {},
   "source": [
    "### 풀이 1-1)\n",
    "\n",
    "시간 초과의 문제를 해결하기 위해 `sys.stdin.readline()` 사용\n"
   ]
  },
  {
   "cell_type": "code",
   "execution_count": null,
   "metadata": {},
   "outputs": [],
   "source": [
    "import sys\n",
    "\n",
    "n=int(sys.stdin.readline())\n",
    "com=1\n",
    "\n",
    "for _ in range(n):\n",
    "    mul=int(sys.stdin.readline())\n",
    "    com+=mul-1\n",
    "    \n",
    "print(com)"
   ]
  },
  {
   "cell_type": "code",
   "execution_count": null,
   "metadata": {},
   "outputs": [],
   "source": []
  }
 ],
 "metadata": {
  "kernelspec": {
   "display_name": "Python 3",
   "language": "python",
   "name": "python3"
  },
  "language_info": {
   "codemirror_mode": {
    "name": "ipython",
    "version": 3
   },
   "file_extension": ".py",
   "mimetype": "text/x-python",
   "name": "python",
   "nbconvert_exporter": "python",
   "pygments_lexer": "ipython3",
   "version": "3.8.3"
  }
 },
 "nbformat": 4,
 "nbformat_minor": 4
}
