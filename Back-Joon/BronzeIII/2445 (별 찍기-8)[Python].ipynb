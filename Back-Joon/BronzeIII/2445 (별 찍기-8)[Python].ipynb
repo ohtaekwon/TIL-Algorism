{
 "cells": [
  {
   "cell_type": "markdown",
   "metadata": {},
   "source": [
    "# 별 찍기 - 8\n",
    "\n",
    "\n",
    "<br>\n",
    "<br>\n",
    "\n",
    "## 문제\n",
    "\n",
    "예제를 보고 규칙을 유추한 뒤에 별을 찍어 보세요."
   ]
  },
  {
   "cell_type": "markdown",
   "metadata": {},
   "source": [
    "## 입력\n",
    "\n",
    "첫째 줄에 N(1 ≤ N ≤ 100)이 주어진다.\n",
    "\n",
    "<br>\n",
    "\n",
    "## 출력\n",
    "\n",
    "첫째 줄부터 2×N-1번째 줄까지 차례대로 별을 출력한다.\n"
   ]
  },
  {
   "cell_type": "markdown",
   "metadata": {},
   "source": [
    "\n",
    "---\n"
   ]
  },
  {
   "cell_type": "markdown",
   "metadata": {},
   "source": [
    "### 예제 입력1\n",
    "\n",
    "```\n",
    "5\n",
    "```\n",
    "\n",
    "\n",
    "### 예제 출력1\n",
    "```\n",
    "*        *\n",
    "**      **\n",
    "***    ***\n",
    "****  ****\n",
    "**********\n",
    "****  ****\n",
    "***    ***\n",
    "**      **\n",
    "*        *\n",
    "```"
   ]
  },
  {
   "cell_type": "markdown",
   "metadata": {},
   "source": [
    "----"
   ]
  },
  {
   "cell_type": "markdown",
   "metadata": {},
   "source": [
    "### 풀이"
   ]
  },
  {
   "cell_type": "markdown",
   "metadata": {},
   "source": [
    "`range함수` 매개변수에 숫자를 세개 넣는 경우\n",
    "\n",
    "`range(A,B,C)`\n",
    "- `A` 부터 `C` 숫자만큼의 간격으로 `B-1`까지의 정수 범위를 반환한다. `B`까지가 아닌 `B-1`이다.\n",
    "\n",
    "5줄도 아닌데 n이 5로 주어졌다.\n",
    "따라서, for문을 두 개 이용해서, 윗 칸, 아래 칸을 구현해야한다.\n",
    "\n",
    "별을 오름차순, 공백을 별 갯수로 빼고, 다음 공백도 같은 것을 더한 후 별을 오름차순 시킨다.\n",
    "\n",
    "즉, ABBA로 더해주면 된다."
   ]
  },
  {
   "cell_type": "markdown",
   "metadata": {},
   "source": [
    "### 정답"
   ]
  },
  {
   "cell_type": "code",
   "execution_count": null,
   "metadata": {},
   "outputs": [],
   "source": [
    "n = int(input())\n",
    "star = '*'\n",
    "space = ' '\n",
    "\n",
    "for i in range(0, n):\n",
    "    print(star * (i + 1) + space * (n - (i + 1)) + space * (n - (i + 1)) + star * (i + 1))\n",
    "\n",
    "for i in range(n-1, 0, -1):\n",
    "    print(star * i + space * (n - i) + space * (n - i) + star * i)"
   ]
  },
  {
   "cell_type": "markdown",
   "metadata": {},
   "source": [
    "### 연습"
   ]
  },
  {
   "cell_type": "code",
   "execution_count": 54,
   "metadata": {},
   "outputs": [
    {
     "name": "stdout",
     "output_type": "stream",
     "text": [
      "5\n",
      "*        *\n",
      "**      **\n",
      "***    ***\n",
      "****  ****\n",
      "**********\n",
      "****  ****\n",
      "***    ***\n",
      "**      **\n",
      "*        *\n"
     ]
    }
   ],
   "source": [
    "N = int(input())\n",
    "1<=N<=100\n",
    "\n",
    "\n",
    "for i in range(1,2*N-4):\n",
    "    print('*'*i + ' '*(-2*i+10) + '*'*i)\n",
    "for j in range(1,2*N-5):\n",
    "    print('*'*(5-j)+' '*(2*j)+'*'*(5-j))"
   ]
  },
  {
   "cell_type": "code",
   "execution_count": 57,
   "metadata": {},
   "outputs": [
    {
     "name": "stdout",
     "output_type": "stream",
     "text": [
      "7\n",
      "*        *\n",
      "**      **\n",
      "***    ***\n",
      "****  ****\n",
      "**********\n",
      "************\n",
      "**************\n",
      "******  ******\n",
      "******  ******\n",
      "******  ******\n",
      "******  ******\n",
      "******  ******\n",
      "******  ******\n"
     ]
    }
   ],
   "source": [
    "n=int(input())\n",
    "\n",
    "star='*'\n",
    "blank=' '\n",
    "\n",
    "\n",
    "for i in range(0,n):\n",
    "    print(star*(i+1) + blank * (-2*i+8) + star*(i+1))\n",
    "for I in range(n-1,0,-1):\n",
    "    print(star*i+ blank*((n-i)*2) + star*i)"
   ]
  },
  {
   "cell_type": "code",
   "execution_count": null,
   "metadata": {},
   "outputs": [],
   "source": []
  }
 ],
 "metadata": {
  "kernelspec": {
   "display_name": "Python 3",
   "language": "python",
   "name": "python3"
  },
  "language_info": {
   "codemirror_mode": {
    "name": "ipython",
    "version": 3
   },
   "file_extension": ".py",
   "mimetype": "text/x-python",
   "name": "python",
   "nbconvert_exporter": "python",
   "pygments_lexer": "ipython3",
   "version": "3.8.3"
  }
 },
 "nbformat": 4,
 "nbformat_minor": 4
}
