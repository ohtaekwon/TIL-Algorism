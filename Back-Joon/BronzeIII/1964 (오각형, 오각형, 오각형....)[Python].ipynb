{
 "cells": [
  {
   "cell_type": "markdown",
   "metadata": {},
   "source": [
    "# 지능형 기차\n",
    "\n",
    "\n",
    "<br>\n",
    "<br>\n",
    "\n",
    "## 문제\n",
    "\n",
    "---\n",
    "\n",
    "오각형의 각 변에 아래 그림과 같이 점을 찍어 나간다. N단계에서 점의 개수는 모두 몇 개일까?\n",
    "\n",
    "\n",
    "\n",
    "![](https://www.acmicpc.net/JudgeOnline/upload/201007/55555.png)\n",
    "\n"
   ]
  },
  {
   "cell_type": "markdown",
   "metadata": {},
   "source": [
    "### 입력\n",
    "\n",
    "---\n",
    "첫째 줄에 N(1 ≤ N ≤ 10,000,000)이 주어진다.\n",
    "\n",
    "\n",
    "### 출력\n",
    "---\n",
    "첫째 줄에 N단계에서 점의 개수를 45678로 나눈 나머지를 출력한다."
   ]
  },
  {
   "cell_type": "markdown",
   "metadata": {},
   "source": [
    "----"
   ]
  },
  {
   "cell_type": "markdown",
   "metadata": {},
   "source": [
    "### 예제 입력1\n",
    "\n",
    "```\n",
    "3\n",
    "```\n",
    "\n",
    "### 예제 출력1\n",
    "\n",
    "```\n",
    "22\n",
    "```\n",
    "---\n",
    "\n",
    "### 예제 입력2\n",
    "\n",
    "```\n",
    "1\n",
    "```\n",
    "\n",
    "### 예제 출력2\n",
    "\n",
    "```\n",
    "5\n",
    "```\n",
    "\n",
    "---\n",
    "\n",
    "### 예제 입력3\n",
    "\n",
    "```\n",
    "19\n",
    "```\n",
    "\n",
    "### 예제 출력3\n",
    "\n",
    "```\n",
    "590\n",
    "```"
   ]
  },
  {
   "cell_type": "markdown",
   "metadata": {},
   "source": [
    "----"
   ]
  },
  {
   "cell_type": "markdown",
   "metadata": {},
   "source": [
    "### 풀이\n",
    "\n",
    "- 1 단계 : 5\n",
    "- 2 단계 : 5 + 7(3+3+3-2) = 12\n",
    "- 3 단계 : 5 + 7 + 10(4+4+4-2) = 22\n",
    "- 4 단계 : 5 + 7 + 10 + 13(5+5+5-2) = 35\n",
    "- 5 단계 : 5 + 7 + 10  + 13 + 16(6+6+6-2) = 51\n",
    "....\n",
    "\n",
    "\n",
    "for문을 돌면서 만약 1단계라면 점의 개수를 저장하는 변수인 dot=5 를 해주고 만약 1단계가 아니라면 dot+=(i*3+1)을 해준다.\n",
    "\n",
    "최종적으로 dot를 45678로 나눈 나머지를 출력한다."
   ]
  },
  {
   "cell_type": "markdown",
   "metadata": {},
   "source": [
    "### 풀이 1)"
   ]
  },
  {
   "cell_type": "code",
   "execution_count": 175,
   "metadata": {},
   "outputs": [
    {
     "name": "stdout",
     "output_type": "stream",
     "text": [
      "200\n",
      "60501\n"
     ]
    }
   ],
   "source": [
    "n=int(input())\n",
    "a=5\n",
    "b=7\n",
    "c=0\n",
    "if n>=3:\n",
    "    for i in range(1,n-1):\n",
    "        c+=b+3*i\n",
    "    print(a+b+c)\n",
    "else:\n",
    "    if n==1:\n",
    "        print(a)\n",
    "    else:\n",
    "        print(a+b)\n",
    "\n"
   ]
  },
  {
   "cell_type": "markdown",
   "metadata": {},
   "source": [
    "### 풀이 2)"
   ]
  },
  {
   "cell_type": "code",
   "execution_count": 165,
   "metadata": {},
   "outputs": [
    {
     "name": "stdout",
     "output_type": "stream",
     "text": [
      "190\n",
      "8948\n"
     ]
    }
   ],
   "source": [
    "n = int(input())\n",
    "dot = 5\n",
    "inc = 7\n",
    "for i in range(1, n):\n",
    "    dot += inc\n",
    "    inc += 3\n",
    "print(dot % 45678)"
   ]
  },
  {
   "cell_type": "code",
   "execution_count": 176,
   "metadata": {},
   "outputs": [
    {
     "name": "stdout",
     "output_type": "stream",
     "text": [
      "200\n",
      "14823\n"
     ]
    }
   ],
   "source": [
    "# 한 줄로 쓰기\n",
    "n = int(input())\n",
    "print((((3*n*n+5*n)//2)+1)%45678) #3씩 증가하는 등차수열의 특징을 가진다"
   ]
  },
  {
   "cell_type": "code",
   "execution_count": null,
   "metadata": {},
   "outputs": [],
   "source": []
  }
 ],
 "metadata": {
  "kernelspec": {
   "display_name": "Python 3",
   "language": "python",
   "name": "python3"
  },
  "language_info": {
   "codemirror_mode": {
    "name": "ipython",
    "version": 3
   },
   "file_extension": ".py",
   "mimetype": "text/x-python",
   "name": "python",
   "nbconvert_exporter": "python",
   "pygments_lexer": "ipython3",
   "version": "3.8.3"
  }
 },
 "nbformat": 4,
 "nbformat_minor": 4
}
