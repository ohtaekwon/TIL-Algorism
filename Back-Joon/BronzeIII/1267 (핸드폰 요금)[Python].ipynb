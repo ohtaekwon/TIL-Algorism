{
 "cells": [
  {
   "cell_type": "markdown",
   "metadata": {},
   "source": [
    "# 핸드폰 요금\n",
    "\n",
    "\n",
    "<br>\n",
    "<br>\n",
    "\n",
    "## 문제\n",
    "\n",
    "---\n",
    "\n",
    "동호는 새악대로 T 통신사의 새 핸드폰 옴머나를 샀다. 새악대로 T 통신사는 동호에게 다음 두 가지 요금제 중 하나를 선택하라고 했다.\n",
    "\n",
    "    1. 영식 요금제\n",
    "    2. 민식 요금제\n",
    "\n",
    "영식 요금제는 30초마다 10원씩 청구된다. 이 말은 만약 29초 또는 그 보다 적은 시간 통화를 했으면 10원이 청구된다. 만약 30초부터 59초 사이로 통화를 했으면 20원이 청구된다.\n",
    "\n",
    "민식 요금제는 60초마다 15원씩 청구된다. 이 말은 만약 59초 또는 그 보다 적은 시간 통화를 했으면 15원이 청구된다. 만약 60초부터 119초 사이로 통화를 했으면 30원이 청구된다.\n",
    "\n",
    "동호가 저번 달에 새악대로 T 통신사를 이용할 때 통화 시간 목록이 주어지면 어느 요금제를 사용 하는 것이 저렴한지 출력하는 프로그램을 작성하시오."
   ]
  },
  {
   "cell_type": "markdown",
   "metadata": {},
   "source": [
    "### 입력\n",
    "\n",
    "---\n",
    "동호가 저번 달에 이용한 통화의 개수 N이 주어진다. N은 20보다 작거나 같은 자연수이다. 둘째 줄에 통화 시간 N개가 주어진다. 통화 시간은 10,000보다 작거나 같은 자연수이다.\n",
    "\n",
    "<br>\n",
    "\n",
    "### 출력\n",
    "---\n",
    "첫째 줄에 싼 요금제의 이름을 출력한다. 그 후에 공백을 사이에 두고 요금이 몇 원 나오는지 출력한다. 만약 두 요금제의 요금이 모두 같으면 영식을 먼저 쓰고 민식을 그 다음에 쓴다.\n",
    "\n",
    "영식은 Y로, 민식은 M으로 출력한다."
   ]
  },
  {
   "cell_type": "markdown",
   "metadata": {},
   "source": [
    "----"
   ]
  },
  {
   "cell_type": "markdown",
   "metadata": {},
   "source": [
    "### 예제 입력1\n",
    "\n",
    "```\n",
    "3\n",
    "40 40 40\n",
    "```\n",
    "\n",
    "### 예제 출력1\n",
    "\n",
    "```\n",
    "M 45\n",
    "```\n",
    "\n",
    "- 영식: 20 + 20 + 20 = 60\n",
    "- 민식: 15 + 15 + 15 = 45"
   ]
  },
  {
   "cell_type": "markdown",
   "metadata": {},
   "source": [
    "### 예제 입력2\n",
    "\n",
    "```\n",
    "3\n",
    "61 61 61\n",
    "```\n",
    "\n",
    "### 예제 출력2\n",
    "\n",
    "```\n",
    "Y M 90\n",
    "```"
   ]
  },
  {
   "cell_type": "markdown",
   "metadata": {},
   "source": [
    "### 예제 입력3\n",
    "\n",
    "```\n",
    "2\n",
    "61 10\n",
    "```\n",
    "\n",
    "### 예제 출력3\n",
    "\n",
    "```\n",
    "Y 40\n",
    "```\n",
    "\n",
    "- 영식: 30 + 10 = 40\n",
    "- 민식: 30 + 15 = 45\n"
   ]
  },
  {
   "cell_type": "markdown",
   "metadata": {},
   "source": [
    "### 예제 입력4\n",
    "\n",
    "```\n",
    "2\n",
    "60 65\n",
    "```\n",
    "\n",
    "### 예제 출력4\n",
    "\n",
    "```\n",
    "Y M 60\n",
    "```\n",
    "\n",
    "- 영식: 30 + 30 = 60\n",
    "- 민식: 30 + 30 = 60"
   ]
  },
  {
   "cell_type": "markdown",
   "metadata": {},
   "source": [
    "----"
   ]
  },
  {
   "cell_type": "markdown",
   "metadata": {},
   "source": [
    "### 풀이"
   ]
  },
  {
   "cell_type": "markdown",
   "metadata": {},
   "source": [
    "#### 답 1)"
   ]
  },
  {
   "cell_type": "code",
   "execution_count": 150,
   "metadata": {},
   "outputs": [
    {
     "name": "stdout",
     "output_type": "stream",
     "text": [
      "3\n",
      "61 61 61\n",
      "Y M 90\n"
     ]
    }
   ],
   "source": [
    "# 영식(Y)=10원 / 30초 , 민식(M) = 15원 / 60초\n",
    "\n",
    "import math as m\n",
    "\n",
    "N=int(input())\n",
    "T=list(map(int,input().split()))\n",
    "\n",
    "price=0\n",
    "name=''\n",
    "\n",
    "for time in T:\n",
    "    if time <= 30:\n",
    "        price+=10*(m.ceil(time/30))\n",
    "        name='Y'\n",
    "    if 60 >= time > 30:\n",
    "        price+=15*(m.ceil(time/60))\n",
    "        name='M'\n",
    "    if 120 > time >60:\n",
    "        price+=30\n",
    "        name='Y ' + 'M'\n",
    "    if time>120:\n",
    "        price+=15*(m.ceil(time/60))\n",
    "        name = 'M'\n",
    "        \n",
    "print(name, price)"
   ]
  },
  {
   "cell_type": "markdown",
   "metadata": {},
   "source": [
    "#### 답 2)"
   ]
  },
  {
   "cell_type": "code",
   "execution_count": null,
   "metadata": {},
   "outputs": [],
   "source": [
    "N=int(input())\n",
    "T=list(map(int,input().split()))\n",
    "\n",
    "y,m=0,0\n",
    "\n",
    "for n in T:\n",
    "    y+=(n//30+1) * 10\n",
    "    m+=(n//60+1) * 15\n",
    "    \n",
    "if m == y:\n",
    "    print('Y M', m)\n",
    "elif m<y:\n",
    "    print('M',m)\n",
    "else:\n",
    "    print('Y',y)"
   ]
  }
 ],
 "metadata": {
  "kernelspec": {
   "display_name": "Python 3",
   "language": "python",
   "name": "python3"
  },
  "language_info": {
   "codemirror_mode": {
    "name": "ipython",
    "version": 3
   },
   "file_extension": ".py",
   "mimetype": "text/x-python",
   "name": "python",
   "nbconvert_exporter": "python",
   "pygments_lexer": "ipython3",
   "version": "3.8.3"
  }
 },
 "nbformat": 4,
 "nbformat_minor": 4
}
