{
 "cells": [
  {
   "cell_type": "markdown",
   "metadata": {},
   "source": [
    "# 지수연산\n",
    "\n",
    "\n",
    "<br>\n",
    "<br>\n",
    "\n",
    "## 문제\n",
    "\n",
    "---\n",
    "자연수 N(1 ≤ N ≤ 250)이 주어졌을 때, 2의 -N승을 계산하는 프로그램을 작성하시오. 즉, 1/(2N)을 계산하는 것이다."
   ]
  },
  {
   "cell_type": "markdown",
   "metadata": {},
   "source": [
    "### 입력\n",
    "---\n",
    "첫째 줄에 N이 주어진다.\n",
    "\n",
    "\n",
    "\n",
    "### 출력\n",
    "---\n",
    "첫째 줄에 답을 출력한다. 답을 출력할 때에는 예제와 같이 0.xyz… 의 형식으로 출력하며, 뒤에 0을 덧붙이지 않는다."
   ]
  },
  {
   "cell_type": "markdown",
   "metadata": {},
   "source": [
    "### 예제 입력1\n",
    "\n",
    "```\n",
    "5\n",
    "```\n",
    "\n",
    "### 예제 출력1\n",
    "\n",
    "```\n",
    "0.03125\n",
    "```"
   ]
  },
  {
   "cell_type": "markdown",
   "metadata": {},
   "source": [
    "----"
   ]
  },
  {
   "cell_type": "markdown",
   "metadata": {},
   "source": [
    "### 풀이 1)\n",
    "\n",
    "이렇게하면 e를 사용한 지수의 값이 출력되기 때문에 이것을 해결해야한다."
   ]
  },
  {
   "cell_type": "code",
   "execution_count": 26,
   "metadata": {},
   "outputs": [
    {
     "name": "stdout",
     "output_type": "stream",
     "text": [
      "250\n",
      "5.527147875260445e-76\n"
     ]
    }
   ],
   "source": [
    "n=int(input())\n",
    "print(2**-n)"
   ]
  },
  {
   "cell_type": "code",
   "execution_count": 27,
   "metadata": {},
   "outputs": [
    {
     "name": "stdout",
     "output_type": "stream",
     "text": [
      "10\n",
      "0.0009765625\n"
     ]
    }
   ],
   "source": [
    "n=int(input())\n",
    "s= \"%.250f\"% (2**(-n))\n",
    "last=len(s)\n",
    "for i in range(last-1, 1, -1):\n",
    "    if s[i]!='0':\n",
    "        last=i\n",
    "        break\n",
    "print(s[:last+1])"
   ]
  },
  {
   "cell_type": "code",
   "execution_count": 38,
   "metadata": {},
   "outputs": [
    {
     "name": "stdout",
     "output_type": "stream",
     "text": [
      "10\n",
      "0.0009765625\n"
     ]
    }
   ],
   "source": [
    "# for문에서 reversed를 사용\n",
    "\n",
    "n=int(input())\n",
    "s= \"%.250f\"% (2**(-n))\n",
    "last=len(s)\n",
    "\n",
    "for i in reversed(range(last-1)):\n",
    "    if s[i]!='0':\n",
    "        last=i\n",
    "        break\n",
    "print(s[:last+1])"
   ]
  },
  {
   "cell_type": "markdown",
   "metadata": {},
   "source": [
    "### 풀이 2)\n",
    "\n",
    "\n",
    "그냥 출력하면 지수 형식으로 나오고, 쓸모없는 0이 뒤에 붙기 때문에 문자열을 이용한다.\n",
    "\n",
    "문자열 s에 결괏값을 250자리로 출력한다.\n",
    "\n",
    "문자열을 뒤에서부터 보면서 0이 아니라면 해당 인덱스를 대입하고 종료한다.\n",
    "\n",
    "그리고 결괏값은 s를 처음부터 해당 인덱스까지만 자른 값이 된다."
   ]
  },
  {
   "cell_type": "code",
   "execution_count": 19,
   "metadata": {},
   "outputs": [
    {
     "name": "stdout",
     "output_type": "stream",
     "text": [
      "250\n",
      "0.0000000000000000000000000000000000000000000000000000000000000000000000000005527147875260444560247265192192255725514240233239220086415170220907898754023953317101764802222264464998750268125535784702076863325972445883937922417317167855799198150634765625\n"
     ]
    }
   ],
   "source": [
    "N = int(input())\n",
    "s = f'{(2 ** (-N)):.250f}'\n",
    "index = 0\n",
    "for i in reversed(range(len(s))):\n",
    "    if s[i] != '0':\n",
    "        index = i\n",
    "        break\n",
    "result = s[:index + 1]\n",
    "print(result)"
   ]
  }
 ],
 "metadata": {
  "kernelspec": {
   "display_name": "Python 3",
   "language": "python",
   "name": "python3"
  },
  "language_info": {
   "codemirror_mode": {
    "name": "ipython",
    "version": 3
   },
   "file_extension": ".py",
   "mimetype": "text/x-python",
   "name": "python",
   "nbconvert_exporter": "python",
   "pygments_lexer": "ipython3",
   "version": "3.8.3"
  }
 },
 "nbformat": 4,
 "nbformat_minor": 4
}
