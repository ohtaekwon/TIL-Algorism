{
 "cells": [
  {
   "cell_type": "markdown",
   "metadata": {},
   "source": [
    "# 분산처리\n",
    "\n",
    "\n",
    "<br>\n",
    "<br>\n",
    "\n",
    "## 문제\n",
    "\n",
    "---\n",
    "\n",
    "어떤 자연수 p와 q가 있을 때, 만일 p를 q로 나누었을 때 나머지가 0이면 q는 p의 약수이다. \n",
    "\n",
    "6을 예로 들면\n",
    "\n",
    "- 6 ÷ 1 = 6 … 0\n",
    "- 6 ÷ 2 = 3 … 0\n",
    "- 6 ÷ 3 = 2 … 0\n",
    "- 6 ÷ 4 = 1 … 2\n",
    "- 6 ÷ 5 = 1 … 1\n",
    "- 6 ÷ 6 = 1 … 0\n",
    "그래서 6의 약수는 1, 2, 3, 6, 총 네 개이다.\n",
    "\n",
    "두 개의 자연수 N과 K가 주어졌을 때, N의 약수들 중 K번째로 작은 수를 출력하는 프로그램을 작성하시오.\n",
    "\n",
    "\n",
    "\n",
    "### 입력\n",
    "---\n",
    "첫째 줄에 N과 K가 빈칸을 사이에 두고 주어진다. N은 1 이상 10,000 이하이다. K는 1 이상 N 이하이다.\n",
    "\n",
    "<br>\n",
    "\n",
    "### 출력\n",
    "---\n",
    "첫째 줄에 N의 약수들 중 K번째로 작은 수를 출력한다. 만일 N의 약수의 개수가 K개보다 적어서 K번째 약수가 존재하지 않을 경우에는 0을 출력하시오."
   ]
  },
  {
   "cell_type": "markdown",
   "metadata": {},
   "source": [
    "### 예제 입력1\n",
    "\n",
    "```\n",
    "6 3\n",
    "```\n",
    "\n",
    "### 예제 출력1\n",
    "\n",
    "```\n",
    "3\n",
    "```\n"
   ]
  },
  {
   "cell_type": "markdown",
   "metadata": {},
   "source": [
    "----"
   ]
  },
  {
   "cell_type": "markdown",
   "metadata": {},
   "source": [
    "### 풀이 1)\n",
    "\n",
    "풀이방법\n",
    "\n",
    "먼저, n과 k를 input으로 받은 다음에 map과 int함수를 이용하여 정수값을 만들어준다.\n",
    "\n",
    "그 다음 for문을 돌면서 **나눴을 때 나머지가 0이 되는 수(약수)** 들을 리스트에 추가시킨다. \n",
    "\n",
    "따라서, `li`에 n의 약수들이 저장하게 된다.\n",
    "\n",
    "$ex)$ n으로 6이 들어오면 li = [1,2,3,6]으로 저장된다.\n",
    "\n",
    "n의 약수들의 개수가 k보다 크거나 같으면 값을 정상적으로 출력하며, k가 더 클 경우에는 0을 출력하도록 조건문을 설정한다.\n",
    "\n",
    "- 여기서 인덱스가 k가 아닌 k-1의 인덱스로 접근해야 원하는 값을 출력하게 된다."
   ]
  },
  {
   "cell_type": "code",
   "execution_count": 35,
   "metadata": {},
   "outputs": [
    {
     "name": "stdout",
     "output_type": "stream",
     "text": [
      "1735 1\n",
      "1\n"
     ]
    }
   ],
   "source": [
    "n,k=map(int, input().split())\n",
    "li=[i for i in range(1,n+1) if n%i==0]\n",
    "\n",
    "\n",
    "if k>len(li):\n",
    "    print(0)\n",
    "else:\n",
    "    print(li[k-1])"
   ]
  },
  {
   "cell_type": "code",
   "execution_count": 36,
   "metadata": {
    "scrolled": true
   },
   "outputs": [
    {
     "data": {
      "text/plain": [
       "[1, 5, 347, 1735]"
      ]
     },
     "execution_count": 36,
     "metadata": {},
     "output_type": "execute_result"
    }
   ],
   "source": [
    "li"
   ]
  }
 ],
 "metadata": {
  "kernelspec": {
   "display_name": "Python 3",
   "language": "python",
   "name": "python3"
  },
  "language_info": {
   "codemirror_mode": {
    "name": "ipython",
    "version": 3
   },
   "file_extension": ".py",
   "mimetype": "text/x-python",
   "name": "python",
   "nbconvert_exporter": "python",
   "pygments_lexer": "ipython3",
   "version": "3.8.3"
  }
 },
 "nbformat": 4,
 "nbformat_minor": 4
}
