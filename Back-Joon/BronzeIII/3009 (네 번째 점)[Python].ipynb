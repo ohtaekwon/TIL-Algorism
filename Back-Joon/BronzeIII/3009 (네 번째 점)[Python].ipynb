{
 "cells": [
  {
   "cell_type": "markdown",
   "metadata": {},
   "source": [
    "# 네 번째 점\n",
    "\n",
    "\n",
    "<br>\n",
    "<br>\n",
    "\n",
    "## 문제\n",
    "\n",
    "---\n",
    "세 점이 주어졌을 때, 축에 평행한 직사각형을 만들기 위해서 필요한 네 번째 점을 찾는 프로그램을 작성하시오.\n",
    "\n",
    "\n",
    "<br>\n",
    "\n",
    "\n",
    "### 입력\n",
    "---\n",
    "세 점의 좌표가 한 줄에 하나씩 주어진다. 좌표는 1보다 크거나 같고, 1000보다 작거나 같은 정수이다.\n",
    "\n",
    "\n",
    "\n",
    "<br>\n",
    "\n",
    "### 출력\n",
    "---\n",
    "직사각형의 네 번째 점의 좌표를 출력한다.\n",
    "\n"
   ]
  },
  {
   "cell_type": "markdown",
   "metadata": {},
   "source": [
    "### 예제 입력1\n",
    "\n",
    "```\n",
    "5 5\n",
    "5 7\n",
    "7 5\n",
    "```\n",
    "\n",
    "### 예제 출력1\n",
    "\n",
    "```\n",
    "7 7\n",
    "```\n"
   ]
  },
  {
   "cell_type": "markdown",
   "metadata": {},
   "source": [
    "----"
   ]
  },
  {
   "cell_type": "markdown",
   "metadata": {},
   "source": [
    "### 풀이 1)"
   ]
  },
  {
   "cell_type": "code",
   "execution_count": 27,
   "metadata": {},
   "outputs": [
    {
     "name": "stdout",
     "output_type": "stream",
     "text": [
      "5 5\n",
      "5 7\n",
      "7 5\n",
      "7 7\n"
     ]
    }
   ],
   "source": [
    "x_nums,y_nums=[],[]\n",
    "for _ in range(3):\n",
    "    x,y = map(int,input().split())\n",
    "    x_nums.append(x)\n",
    "    y_nums.append(y)\n",
    "    \n",
    "for i in range(3):\n",
    "    if x_nums.count(x_nums[i])==1:\n",
    "        x4=x_nums[i]\n",
    "    if y_nums.count(y_nums[i])==1:\n",
    "        y4=y_nums[i]\n",
    "        \n",
    "print(x4,y4)"
   ]
  },
  {
   "cell_type": "markdown",
   "metadata": {},
   "source": [
    "#### 1. 작성한 코드에 대한 전체적인 내용\n",
    "\n",
    "- 직사각형은 네 각의 크기가 모두 직각이고 마주 보는 두 변의 길이가 같다.\n",
    "- 직사각형의 이러한 특성을 이용하여 x좌표로 이루어진 네 개의 수와 y좌표로 이루어진 네 개의 수에서 각각 두 개씩 같은 수를 구할 수 있다.\n",
    "\n",
    "- 이 문제는 직사각형의 네 점의 좌표에서 세 점의좌표가 주어지면 나머지 한 개의 좌표를 출력하는 문제이다. \n",
    "- 따라서, 2개의 for문을 이용하여, x,y좌표로 주어진 각 좌표의 숫자 리스트에서 개수가 한 개만 있는 숫자를 찾는다."
   ]
  },
  {
   "cell_type": "markdown",
   "metadata": {},
   "source": [
    "#### 2. 첫 번째 for문 - x 좌표, y좌표를 모은 두 개의 리스트를 생성한다.\n",
    "\n",
    "```python\n",
    "x_nums,y_nums=[],[]\n",
    "for _ in range(3):\n",
    "    x,y = map(int,input().split())\n",
    "    x_nums.append(x)\n",
    "    y_nums.append(y)\n",
    "```\n",
    "\n",
    "이번 문제는 x,y 좌표를 나타내는 두 개의 수를 3번 입력받게 된다. 이 두 수를 입력받기 전 먼저 `x_nums`, `y_nums`라는 두개의 빈 리스트를 생성하고 `for`문을 화룡아형 3번 반복하면서 두 수를 입력받을 때마다 각각 `x_nums` 리스트, `y_nums` 리스트에 추가하는 코드를 작성한다.\n",
    "\n",
    "<br>\n",
    "\n",
    "#### 3. 두 번째 for문 - 두 개의 리스트에서 개수가 한 개인 요소를 찾아서 출력한다.\n",
    "\n",
    "```python\n",
    "for i in range(3):\n",
    "    if x_nums.count(x_nums[i])==1:\n",
    "        x4=x_nums[i]\n",
    "    if y_nums.count(y_nums[i])==1:\n",
    "        y4=y_nums[i]\n",
    "        \n",
    "print(x4,y4)\n",
    "```\n",
    "\n",
    "- 두 리스트가 모두 3개의 요소로 이루어졌기 때문에 0~2까지 숫자 범위를 `range` 함수를 이용해서 생성한다.\n",
    "- 이 숫자 범위는 `for`문의 반복 범위가 되어 두 리스트의 인덱스로 사용한다.\n",
    "- for문이 반복되는 동안 `count`함수를 이용하여 두 개의 리스트에서 각 인덱스에 위치한 요소의 개수가 한 개인지를 찾는다.\n",
    "    - if조건식으로 두 개의 리스트에서 `count`개수가 1인 요소를 각각 `x4`, `y4` 변수에 선언하여 출력한다.\n",
    "- `count` 함수는 문자열, 리스트와 같은 반복 가능한 `iterable`자료형에서 사용할 수 있다.\n",
    "    - `array.count(x)`형태로 사용고 `array`에서 괄호안의 문자를 찾아 해당 문자의 개수를 반환한다."
   ]
  }
 ],
 "metadata": {
  "kernelspec": {
   "display_name": "Python 3 (ipykernel)",
   "language": "python",
   "name": "python3"
  },
  "language_info": {
   "codemirror_mode": {
    "name": "ipython",
    "version": 3
   },
   "file_extension": ".py",
   "mimetype": "text/x-python",
   "name": "python",
   "nbconvert_exporter": "python",
   "pygments_lexer": "ipython3",
   "version": "3.9.7"
  }
 },
 "nbformat": 4,
 "nbformat_minor": 4
}
