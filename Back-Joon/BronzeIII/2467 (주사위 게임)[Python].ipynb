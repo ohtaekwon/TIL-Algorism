{
 "cells": [
  {
   "cell_type": "markdown",
   "metadata": {},
   "source": [
    "# 주사위 게임\n",
    "\n",
    "\n",
    "<br>\n",
    "<br>\n",
    "\n",
    "## 문제\n",
    "\n",
    "---\n",
    "\n",
    "1에서부터 6까지의 눈을 가진 3개의 주사위를 던져서 다음과 같은 규칙에 따라 상금을 받는 게임이 있다.\n",
    "\n",
    "1. 같은 눈이 3개가 나오면 10,000원+(같은 눈)×1,000원의 상금을 받게 된다. \n",
    "2. 같은 눈이 2개만 나오는 경우에는 1,000원+(같은 눈)×100원의 상금을 받게 된다. \n",
    "3. 모두 다른 눈이 나오는 경우에는 (그 중 가장 큰 눈)×100원의 상금을 받게 된다.\n",
    "\n",
    "예를 들어, 3개의 눈 3, 3, 6이 주어지면 상금은 1,000+3×100으로 계산되어 1,300원을 받게 된다. 또 3개의 눈이 2, 2, 2로 주어지면 10,000+2×1,000 으로 계산되어 12,000원을 받게 된다. 3개의 눈이 6, 2, 5로 주어지면 그 중 가장 큰 값이 6이므로 6×100으로 계산되어 600원을 상금으로 받게 된다.\n",
    "\n",
    "N(2 ≤ N ≤ 1,000)명이 주사위 게임에 참여하였을 때, 가장 많은 상금을 받은 사람의 상금을 출력하는 프로그램을 작성하시오.\n",
    "\n",
    "### 입력\n",
    "---\n",
    "첫째 줄에는 참여하는 사람 수 N이 주어지고 그 다음 줄부터 N개의 줄에 사람들이 주사위를 던진 3개의 눈이 빈칸을 사이에 두고 각각 주어진다. \n",
    "<br>\n",
    "\n",
    "### 출력\n",
    "---\n",
    "첫째 줄에 가장 많은 상금을 받은 사람의 상금을 출력한다."
   ]
  },
  {
   "cell_type": "markdown",
   "metadata": {},
   "source": [
    "### 예제 입력1\n",
    "\n",
    "```\n",
    "3\n",
    "3 3 6\n",
    "2 2 2\n",
    "6 2 5\n",
    "```\n",
    "\n",
    "### 예제 출력1\n",
    "\n",
    "```\n",
    "12000\n",
    "\n",
    "```"
   ]
  },
  {
   "cell_type": "markdown",
   "metadata": {},
   "source": [
    "----"
   ]
  },
  {
   "cell_type": "markdown",
   "metadata": {},
   "source": [
    "### 풀이 1)\n",
    "\n"
   ]
  },
  {
   "cell_type": "code",
   "execution_count": 24,
   "metadata": {},
   "outputs": [
    {
     "name": "stdout",
     "output_type": "stream",
     "text": [
      "3\n",
      "3 3 6\n",
      "2 2 2\n",
      "6 2 5\n",
      "12000\n"
     ]
    }
   ],
   "source": [
    "n = int(input())\n",
    "\n",
    "dice=[]\n",
    "\n",
    "for i in range(n):\n",
    "    a,b,c=map(int, input().split())\n",
    "    \n",
    "    if a==b==c:\n",
    "        dice.append(10000+a*1000)\n",
    "    elif a==b :\n",
    "        dice.append(1000+a*100)\n",
    "    elif a==c:\n",
    "        dice.append(1000+a*100)\n",
    "    elif b==c:\n",
    "        dice.append(1000+b*100)\n",
    "    elif a!=b!=c:\n",
    "        dice.append(max(a,b,c)*100)\n",
    "        \n",
    "print(max(dice))"
   ]
  },
  {
   "cell_type": "code",
   "execution_count": 19,
   "metadata": {},
   "outputs": [
    {
     "name": "stdout",
     "output_type": "stream",
     "text": [
      "3\n",
      "3 3 6\n",
      "2 2 2\n",
      "6 2 5\n",
      "13800\n"
     ]
    }
   ],
   "source": [
    "n = int(input())\n",
    "\n",
    "money=0\n",
    "for i in range(n):\n",
    "    dice=list(map(int, input().split()))\n",
    "    \n",
    "    if dice[0]==dice[1]==dice[2]:\n",
    "        money+=10000+dice[0]*1000\n",
    "    elif dice.count(dice[0])==2:\n",
    "        money+=1000+dice.count(dice[0])*100\n",
    "    elif dice.count(dice[2])==2:\n",
    "        money+=1000+dice.count(dice[2])*100\n",
    "    elif dice[0]!=dice[1]!=dice[2]:\n",
    "        money+=max(dice)*100\n",
    "        \n",
    "print(money)"
   ]
  },
  {
   "cell_type": "code",
   "execution_count": null,
   "metadata": {},
   "outputs": [],
   "source": [
    "li = []\n",
    "for _ in range(int(input())):\n",
    "    a, b, c = map(int, input().split())\n",
    "    if a == b and b == c:\n",
    "        li.append(10000 + a*1000)\n",
    "    elif a == b:\n",
    "        li.append(1000 + a*100)\n",
    "    elif b == c:\n",
    "        li.append(1000 + b*100)\n",
    "    elif c == a:\n",
    "        li.append(1000 + c*100)\n",
    "    else:\n",
    "        li.append(max(a, b, c)*100)\n",
    "print(max(li))"
   ]
  }
 ],
 "metadata": {
  "kernelspec": {
   "display_name": "Python 3",
   "language": "python",
   "name": "python3"
  },
  "language_info": {
   "codemirror_mode": {
    "name": "ipython",
    "version": 3
   },
   "file_extension": ".py",
   "mimetype": "text/x-python",
   "name": "python",
   "nbconvert_exporter": "python",
   "pygments_lexer": "ipython3",
   "version": "3.8.3"
  }
 },
 "nbformat": 4,
 "nbformat_minor": 4
}
