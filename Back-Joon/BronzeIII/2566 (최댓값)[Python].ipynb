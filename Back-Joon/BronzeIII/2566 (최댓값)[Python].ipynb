{
 "cells": [
  {
   "cell_type": "markdown",
   "metadata": {},
   "source": [
    "# 분산처리\n",
    "\n",
    "\n",
    "<br>\n",
    "<br>\n",
    "\n",
    "## 문제\n",
    "\n",
    "---\n",
    "\n",
    "<그림 1>과 같이 9×9 격자판에 쓰여진 81개의 자연수 또는 0이 주어질 때, 이들 중 최댓값을 찾고 그 최댓값이 몇 행 몇 열에 위치한 수인지 구하는 프로그램을 작성하시오.\n",
    "\n",
    "예를 들어, 다음과 같이 81개의 수가 주어지면\n",
    "\n",
    "\n",
    "\n",
    "이들 중 최댓값은 90이고, 이 값은 5행 7열에 위치한다.\n",
    "\n",
    "\n",
    "<br>\n",
    "\n",
    "\n",
    "### 입력\n",
    "---\n",
    "첫째 줄부터 아홉 번째 줄까지 한 줄에 아홉 개씩 수가 주어진다. 주어지는 수는 100보다 작은 자연수 또는 0이다.\n",
    "\n",
    "<br>\n",
    "\n",
    "### 출력\n",
    "---\n",
    "첫째 줄에 최댓값을 출력하고, 둘째 줄에 최댓값이 위치한 행 번호와 열 번호를 빈칸을 사이에 두고 차례로 출력한다. 최댓값이 두 개 이상인 경우 그 중 한 곳의 위치를 출력한다."
   ]
  },
  {
   "cell_type": "markdown",
   "metadata": {},
   "source": [
    "### 예제 입력1\n",
    "\n",
    "```\n",
    "3 23 85 34 17 74 25 52 65\n",
    "10 7 39 42 88 52 14 72 63\n",
    "87 42 18 78 53 45 18 84 53\n",
    "34 28 64 85 12 16 75 36 55\n",
    "21 77 45 35 28 75 90 76 1\n",
    "25 87 65 15 28 11 37 28 74\n",
    "65 27 75 41 7 89 78 64 39\n",
    "47 47 70 45 23 65 3 41 44\n",
    "87 13 82 38 31 12 29 29 80\n",
    "```\n",
    "\n",
    "### 예제 출력1\n",
    "\n",
    "```\n",
    "90\n",
    "5 7\n",
    "```\n"
   ]
  },
  {
   "cell_type": "markdown",
   "metadata": {},
   "source": [
    "----"
   ]
  },
  {
   "cell_type": "markdown",
   "metadata": {},
   "source": [
    "### 풀이 1)\n",
    "\n",
    "풀이방법\n",
    "\n",
    "먼저, n과 k를 input으로 받은 다음에 map과 int함수를 이용하여 정수값을 만들어준다.\n",
    "\n",
    "그 다음 for문을 돌면서 **나눴을 때 나머지가 0이 되는 수(약수)** 들을 리스트에 추가시킨다. \n",
    "\n",
    "따라서, `li`에 n의 약수들이 저장하게 된다.\n",
    "\n",
    "$ex)$ n으로 6이 들어오면 li = [1,2,3,6]으로 저장된다.\n",
    "\n",
    "n의 약수들의 개수가 k보다 크거나 같으면 값을 정상적으로 출력하며, k가 더 클 경우에는 0을 출력하도록 조건문을 설정한다.\n",
    "\n",
    "- 여기서 인덱스가 k가 아닌 k-1의 인덱스로 접근해야 원하는 값을 출력하게 된다."
   ]
  },
  {
   "cell_type": "code",
   "execution_count": 6,
   "metadata": {},
   "outputs": [
    {
     "name": "stdout",
     "output_type": "stream",
     "text": [
      "3 23 85 34 17 74 25 52 65\n",
      "3 23 85 34 17 74 25 52 65\n",
      "3 23 85 34 17 74 25 52 65\n",
      "3 23 85 34 17 74 25 52 65\n",
      "3 23 85 34 17 74 25 52 65\n",
      "3 23 85 34 17 74 25 52 65\n",
      "3 23 85 34 17 74 25 52 65\n",
      "3 23 85 34 17 74 25 52 65\n",
      "3 23 85 34 17 74 25 52 65\n"
     ]
    }
   ],
   "source": [
    "n=[]\n",
    "for _ in range(9):\n",
    "    n.append(list(map(int, input().split())))"
   ]
  },
  {
   "cell_type": "code",
   "execution_count": 17,
   "metadata": {
    "scrolled": true
   },
   "outputs": [
    {
     "name": "stdout",
     "output_type": "stream",
     "text": [
      "3 23 85 34 17 74 25 52 65\n",
      "10 7 39 42 88 52 14 72 63\n",
      "87 42 18 78 53 45 18 84 53\n",
      "34 28 64 85 12 16 75 36 55\n",
      "21 77 45 35 28 75 90 76 1\n",
      "25 87 65 15 28 11 37 28 74\n",
      "65 27 75 41 7 89 78 64 39\n",
      "47 47 70 45 23 65 3 41 44\n",
      "87 13 82 38 31 12 29 29 80\n"
     ]
    }
   ],
   "source": [
    "n=[list(map(int, input().split())) for _ in range(9)]"
   ]
  },
  {
   "cell_type": "code",
   "execution_count": 18,
   "metadata": {},
   "outputs": [],
   "source": [
    "a=[]\n",
    "for i in n:\n",
    "    for j in range(9):\n",
    "        a.append(i[j])"
   ]
  },
  {
   "cell_type": "code",
   "execution_count": 22,
   "metadata": {},
   "outputs": [
    {
     "ename": "NameError",
     "evalue": "name 'index' is not defined",
     "output_type": "error",
     "traceback": [
      "\u001b[1;31m---------------------------------------------------------------------------\u001b[0m",
      "\u001b[1;31mNameError\u001b[0m                                 Traceback (most recent call last)",
      "\u001b[1;32m<ipython-input-22-f6851bcf1b19>\u001b[0m in \u001b[0;36m<module>\u001b[1;34m\u001b[0m\n\u001b[1;32m----> 1\u001b[1;33m \u001b[0mindex\u001b[0m\u001b[1;33m(\u001b[0m\u001b[0mmax\u001b[0m\u001b[1;33m(\u001b[0m\u001b[0ma\u001b[0m\u001b[1;33m)\u001b[0m\u001b[1;33m)\u001b[0m\u001b[1;33m\u001b[0m\u001b[1;33m\u001b[0m\u001b[0m\n\u001b[0m",
      "\u001b[1;31mNameError\u001b[0m: name 'index' is not defined"
     ]
    }
   ],
   "source": [
    "max(a).indx("
   ]
  },
  {
   "cell_type": "code",
   "execution_count": null,
   "metadata": {},
   "outputs": [],
   "source": []
  }
 ],
 "metadata": {
  "kernelspec": {
   "display_name": "Python 3",
   "language": "python",
   "name": "python3"
  },
  "language_info": {
   "codemirror_mode": {
    "name": "ipython",
    "version": 3
   },
   "file_extension": ".py",
   "mimetype": "text/x-python",
   "name": "python",
   "nbconvert_exporter": "python",
   "pygments_lexer": "ipython3",
   "version": "3.8.3"
  }
 },
 "nbformat": 4,
 "nbformat_minor": 4
}
