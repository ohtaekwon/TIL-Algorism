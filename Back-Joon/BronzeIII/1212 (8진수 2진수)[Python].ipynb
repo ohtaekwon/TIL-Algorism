{
 "cells": [
  {
   "cell_type": "markdown",
   "metadata": {},
   "source": [
    "# 8진수 2진수\n",
    "\n",
    "\n",
    "<br>\n",
    "<br>\n",
    "\n",
    "## 문제\n",
    "\n",
    "---\n",
    "\n",
    "8진수가 주어졌을 때, 2진수로 변환하는 프로그램을 작성하시오."
   ]
  },
  {
   "cell_type": "markdown",
   "metadata": {},
   "source": [
    "### 입력\n",
    "---\n",
    "첫째 줄에 8진수가 주어진다. 주어지는 수의 길이는 333,334을 넘지 않는다.\n",
    "\n",
    "\n",
    "<br>\n",
    "\n",
    "### 출력\n",
    "---\n",
    "첫째 줄에 주어진 수를 2진수로 변환하여 출력한다. 수가 0인 경우를 제외하고는 반드시 1로 시작해야 한다."
   ]
  },
  {
   "cell_type": "markdown",
   "metadata": {},
   "source": [
    "### 예제 입력1\n",
    "\n",
    "```\n",
    "314\n",
    "\n",
    "```\n",
    "\n",
    "### 예제 출력1\n",
    "\n",
    "```\n",
    "11001100\n",
    "\n",
    "```\n"
   ]
  },
  {
   "cell_type": "markdown",
   "metadata": {},
   "source": [
    "----"
   ]
  },
  {
   "cell_type": "markdown",
   "metadata": {},
   "source": [
    "### 풀이"
   ]
  },
  {
   "cell_type": "markdown",
   "metadata": {},
   "source": [
    "- 파이썬은 int() 함수를 이용해 입력을 8진수로 받고 변환해서 2진수로 출력한다.\n",
    "\n",
    "- 다른 방법으로 문자열을 이용할 수 있다.\n",
    "\n",
    "- 8진수는 자리 하나가 2진수에서 세 자리를 만들 수 있다.\n",
    "\n",
    "- 8진수의 길이만큼 반복을 한다.\n",
    "\n",
    "- 첫 번째 글자부터 3번씩 반복해서 2로 나눈 나머지를 구하고, 그 몫을 다시 2로 나누기를 반복해 나온 수를 거꾸로 문자열로 붙여 누적한다.\n",
    "\n",
    "- 다 끝나면, 붙인 문자열이 맨 앞이 0이면 1이 나올 때까지 0을 없애준다.\n",
    "\n",
    "- 이 때, n이 0이었다면 0은 출력되어야 하므로 조건에 따라 제거한다."
   ]
  },
  {
   "cell_type": "markdown",
   "metadata": {},
   "source": [
    "##### 풀이 1)"
   ]
  },
  {
   "cell_type": "code",
   "execution_count": 99,
   "metadata": {},
   "outputs": [
    {
     "name": "stdout",
     "output_type": "stream",
     "text": [
      "314\n"
     ]
    },
    {
     "data": {
      "text/plain": [
       "'11001100'"
      ]
     },
     "execution_count": 99,
     "metadata": {},
     "output_type": "execute_result"
    }
   ],
   "source": [
    "# 8진수로 입력 \n",
    "n = int(input(),8)\n",
    "\n",
    "# 8진수를 2진수로 변환\n",
    "b=bin(n)\n",
    "\n",
    "\n",
    "print(b[2::])\n"
   ]
  },
  {
   "cell_type": "code",
   "execution_count": 102,
   "metadata": {},
   "outputs": [
    {
     "name": "stdout",
     "output_type": "stream",
     "text": [
      "314\n",
      "11001100\n"
     ]
    }
   ],
   "source": [
    "# 한줄로 푼다면\n",
    "\n",
    "print(bin(int(input(),8))[2::])"
   ]
  }
 ],
 "metadata": {
  "kernelspec": {
   "display_name": "Python 3",
   "language": "python",
   "name": "python3"
  },
  "language_info": {
   "codemirror_mode": {
    "name": "ipython",
    "version": 3
   },
   "file_extension": ".py",
   "mimetype": "text/x-python",
   "name": "python",
   "nbconvert_exporter": "python",
   "pygments_lexer": "ipython3",
   "version": "3.8.3"
  }
 },
 "nbformat": 4,
 "nbformat_minor": 4
}
