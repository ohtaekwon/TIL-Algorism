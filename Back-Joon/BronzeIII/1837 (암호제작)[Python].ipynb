{
 "cells": [
  {
   "cell_type": "markdown",
   "metadata": {},
   "source": [
    "# 암호제작\n",
    "\n",
    "\n",
    "<br>\n",
    "<br>\n",
    "\n",
    "## 문제\n",
    "\n",
    "---\n",
    "\n",
    "원룡이는 한 컴퓨터 보안 회사에서 일을 하고 있다. 그러던 도중, 원룡이는 YESWOA.COM 으로부터 홈페이지 유저들의 비밀키를 만들라는 지시를 받았다. 원룡이는 비밀 키를 다음과 같은 방법으로 만들었다.\n",
    "\n",
    "개인마다 어떤 특정한 소수 p와 q를 주어 두 소수의 곱 pq를 비밀 키로 두었다. 이렇게 해 주면 두 소수 p,q를 알지 못하는 이상, 비밀 키를 알 수 없다는 장점을 가지고 있다.\n",
    "\n",
    "하지만 원룡이는 한 가지 사실을 잊고 말았다. 최근 컴퓨터 기술이 발달함에 따라, 소수가 작은 경우에는 컴퓨터로 모든 경우의 수를 돌려보아 비밀 키를 쉽게 알 수 있다는 것이다.\n",
    "\n",
    "원룡이는 주성조교님께 비밀 키를 제출하려던 바로 직전에 이 사실을 알아냈다. 그래서 두 소수 p, q 중 하나라도 K보다 작은 암호는 좋지 않은 암호로 간주하여 제출하지 않기로 하였다. 이것을 손으로 직접 구해보는 일은 매우 힘들 것이다. 당신은 원룡이를 도와 두 소수의 곱으로 이루어진 암호와 K가 주어져 있을 때, 그 암호가 좋은 암호인지 좋지 않은 암호인지 구하는 프로그램을 작성하여야 한다.\n",
    "\n",
    "![](https://www.acmicpc.net/JudgeOnline/upload/201006/Screen%20shot%202010-06-11%20at%204_48_42%20PM.png)\n",
    "\n",
    "### 입력\n",
    "\n",
    "---\n",
    "암호 P(4 ≤ P ≤ 10100)와 K (2 ≤ K ≤ 106) 이 주어진다.\n",
    "\n"
   ]
  },
  {
   "cell_type": "markdown",
   "metadata": {},
   "source": [
    "\n",
    "### 출력\n",
    "---\n",
    "만약에 그 암호가 좋은 암호이면 첫째 줄에 GOOD을 출력하고, 만약에 좋지 않은 암호이면 BAD와 소수 r을 공백으로 구분하여 출력하는데 r은 암호를 이루는 두 소수 중 작은 소수를 의미한다."
   ]
  },
  {
   "cell_type": "markdown",
   "metadata": {},
   "source": [
    "### 예제 입력1\n",
    "\n",
    "```\n",
    "143 10\n",
    "```\n",
    "\n",
    "### 예제 출력1\n",
    "\n",
    "```\n",
    "GOOD\n",
    "```"
   ]
  },
  {
   "cell_type": "markdown",
   "metadata": {},
   "source": [
    "### 예제 입력2\n",
    "\n",
    "```\n",
    "77 12\n",
    "```\n",
    "\n",
    "### 예제 출력2\n",
    "\n",
    "```\n",
    "BAD 7\n",
    "```\n",
    "\n",
    "----"
   ]
  },
  {
   "cell_type": "markdown",
   "metadata": {},
   "source": [
    "### 풀이"
   ]
  },
  {
   "cell_type": "markdown",
   "metadata": {},
   "source": [
    "#### 답 1)"
   ]
  },
  {
   "cell_type": "code",
   "execution_count": 12,
   "metadata": {},
   "outputs": [
    {
     "name": "stdout",
     "output_type": "stream",
     "text": [
      "143 10\n",
      "GOOD\n"
     ]
    }
   ],
   "source": [
    "P, K = map(int, input().split())\n",
    "li = [1]*K\n",
    "for i in range(2, int(K**0.5)+1):\n",
    "    if li[i] == 1:\n",
    "        for j in range(i+i, K, i):\n",
    "            li[j] = 0\n",
    "prime = [i for i in range(2, K) if li[i] == 1]\n",
    "\n",
    "good, bad = 1, 0\n",
    "for n in prime:\n",
    "    if P%n == 0:\n",
    "        good, bad = 0, n\n",
    "        break\n",
    "print(\"GOOD\" if good else f\"BAD {bad}\")"
   ]
  },
  {
   "cell_type": "markdown",
   "metadata": {},
   "source": [
    "#### 답 2)"
   ]
  },
  {
   "cell_type": "code",
   "execution_count": null,
   "metadata": {},
   "outputs": [],
   "source": [
    "import sys\n",
    "input = sys.stdin.readline\n",
    "p, k = map(int, input().split())\n",
    "e = [0 for i in range(1000001)]\n",
    "result = 0\n",
    "for i in range(2, 1001):\n",
    "    if e[i] == 0:\n",
    "        n = i * 2\n",
    "        while n < 1000001:\n",
    "            e[n] = 1\n",
    "            n += i\n",
    "for i in range(2, 1000001):\n",
    "    if e[i] == 0:\n",
    "        if p % i == 0:\n",
    "            result = i\n",
    "            break\n",
    "if result == 0: print(\"GOOD\")\n",
    "else:\n",
    "    if result < k: print(\"BAD\", result)\n",
    "    else: print(\"GOOD\")"
   ]
  }
 ],
 "metadata": {
  "kernelspec": {
   "display_name": "Python 3",
   "language": "python",
   "name": "python3"
  },
  "language_info": {
   "codemirror_mode": {
    "name": "ipython",
    "version": 3
   },
   "file_extension": ".py",
   "mimetype": "text/x-python",
   "name": "python",
   "nbconvert_exporter": "python",
   "pygments_lexer": "ipython3",
   "version": "3.8.3"
  }
 },
 "nbformat": 4,
 "nbformat_minor": 4
}
