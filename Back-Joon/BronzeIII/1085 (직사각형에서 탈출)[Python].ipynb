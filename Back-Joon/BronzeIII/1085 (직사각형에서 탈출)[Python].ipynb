{
 "cells": [
  {
   "cell_type": "markdown",
   "metadata": {},
   "source": [
    "# 지능형 기차\n",
    "\n",
    "\n",
    "<br>\n",
    "<br>\n",
    "\n",
    "## 문제\n",
    "\n",
    "---\n",
    "\n",
    "한수는 지금 (x, y)에 있다. 직사각형은 각 변이 좌표축에 평행하고, 왼쪽 아래 꼭짓점은 (0, 0), 오른쪽 위 꼭짓점은 (w, h)에 있다. 직사각형의 경계선까지 가는 거리의 최솟값을 구하는 프로그램을 작성하시오.\n",
    "\n",
    "### 입력\n",
    "---\n",
    "첫째 줄에 x, y, w, h가 주어진다.\n",
    "\n",
    "\n",
    "<br>\n",
    "\n",
    "### 출력\n",
    "---\n",
    "첫째 줄에 문제의 정답을 출력한다.\n"
   ]
  },
  {
   "cell_type": "markdown",
   "metadata": {},
   "source": [
    "### 제한\n",
    "---\n",
    "\n",
    "- 1 ≤ w, h ≤ 1,000\n",
    "- 1 ≤ x ≤ w-1\n",
    "- 1 ≤ y ≤ h-1\n",
    "- x, y, w, h는 정수"
   ]
  },
  {
   "cell_type": "markdown",
   "metadata": {},
   "source": [
    "### 예제 입력1\n",
    "\n",
    "```\n",
    "6 2 10 3\n",
    "```\n",
    "\n",
    "### 예제 출력1\n",
    "\n",
    "```\n",
    "1\n",
    "```\n",
    "\n",
    "### 예제 입력2\n",
    "\n",
    "```\n",
    "1 1 5 5\n",
    "```\n",
    "\n",
    "### 예제 출력2\n",
    "\n",
    "```\n",
    "1\n",
    "```\n",
    "\n",
    "### 예제 입력3\n",
    "\n",
    "```\n",
    "653 375 1000 1000\n",
    "```\n",
    "\n",
    "### 예제 출력3\n",
    "```\n",
    "347\n",
    "```\n",
    "\n",
    "### 예제 입력4\n",
    "\n",
    "```\n",
    "161 181 762 375\n",
    "```\n",
    "\n",
    "### 예제 출력4\n",
    "```\n",
    "161\n",
    "```"
   ]
  },
  {
   "cell_type": "markdown",
   "metadata": {},
   "source": [
    "----"
   ]
  },
  {
   "cell_type": "markdown",
   "metadata": {},
   "source": [
    "### 풀이"
   ]
  },
  {
   "cell_type": "markdown",
   "metadata": {},
   "source": [
    "##### 1. 코드 풀이 내용 정리\n",
    "\n",
    "이 문제는 왼쪽 아래 꼭짓점을 (0,0) 좌표에 두고 오른쪽 위 꼭짓점을 (w,h) 좌표에 둔 직사각형이 있다.\n",
    "\n",
    "제한의 예시를 보면 (x,y)는 직사각형 내부의 점이라는 것을 알 수 있다.\n",
    "- 1 ≤ w, h ≤ 1,000\n",
    "- 1 ≤ x ≤ w-1\n",
    "- 1 ≤ y ≤ h-1\n",
    "- x, y, w, h는 정수\n",
    "\n",
    "직사각형 평면 내부의 어떤 점(x,y) 좌표에서 경계면까지의 거리를 그림으로 표현해보면 아래와 같다.\n",
    "\n",
    "![](https://github.com/ohtaekwon/TIL-Algorithms/blob/master/Back-Joon/img/1085_1.png?raw=true)\n",
    "\n",
    "그림에서 나타내는 4가지 선의 식을 설명하면\n",
    "\n",
    "- 왼쪽 아래 꼭짓점이 (0,0)에 위치하기 때문에 y축에서 (x,y)까지의 길이는 x값이 된다.\n",
    "\n",
    "- (x,y)좌표에서 y축과 평행하는 직사각형 우측 경계면까지의 길이는 w-x로 나타낼 수 있다.\n",
    "\n",
    "- x축에서 (x,y)까지의 세로 길이는 y값이 된다.\n",
    "\n",
    "- (x,y)좌표에서 x축과 평행하는 직사각형 윗 경계면까지의 거리는 h-y로 나타낼 수 있다.\n",
    "\n",
    "여기서 거리의 최소값을 구하기 때문에 (x,y)좌표에서 대각선의 길이는 고려하지 않아도 된다.\n",
    "\n",
    "즉, 길이의 최솟값을 구하기 때문에 x,y,w-x,h-y 중에서 가장 짧은 길이를 구하면 된다.\n",
    "\n",
    "- min 함수를 사용한다."
   ]
  },
  {
   "cell_type": "markdown",
   "metadata": {},
   "source": [
    "##### 풀이 1)"
   ]
  },
  {
   "cell_type": "code",
   "execution_count": 106,
   "metadata": {},
   "outputs": [
    {
     "name": "stdout",
     "output_type": "stream",
     "text": [
      "161 181 762 375\n",
      "161\n"
     ]
    }
   ],
   "source": [
    "x,y,w,h = map(int, input().split())\n",
    "\n",
    "r=0\n",
    "\n",
    "if w-x>h-y:\n",
    "    r=min(x,y,h-y)\n",
    "elif h-y>w-x:\n",
    "    r=min(x,y,w-x)\n",
    "else:\n",
    "    r=min(x,y)\n",
    "    \n",
    "print(int(r))"
   ]
  },
  {
   "cell_type": "markdown",
   "metadata": {},
   "source": [
    "##### 풀이 2)"
   ]
  },
  {
   "cell_type": "code",
   "execution_count": 107,
   "metadata": {},
   "outputs": [
    {
     "name": "stdout",
     "output_type": "stream",
     "text": [
      "161 181 762 375\n",
      "161\n"
     ]
    }
   ],
   "source": [
    "x,y,w,h = map(int, input().split())\n",
    "\n",
    "print(min(x,y,w-x,h-y))"
   ]
  }
 ],
 "metadata": {
  "kernelspec": {
   "display_name": "Python 3",
   "language": "python",
   "name": "python3"
  },
  "language_info": {
   "codemirror_mode": {
    "name": "ipython",
    "version": 3
   },
   "file_extension": ".py",
   "mimetype": "text/x-python",
   "name": "python",
   "nbconvert_exporter": "python",
   "pygments_lexer": "ipython3",
   "version": "3.8.3"
  }
 },
 "nbformat": 4,
 "nbformat_minor": 4
}
