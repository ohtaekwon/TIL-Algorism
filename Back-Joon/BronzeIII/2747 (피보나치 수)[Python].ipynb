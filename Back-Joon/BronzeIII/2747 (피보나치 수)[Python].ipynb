{
 "cells": [
  {
   "cell_type": "markdown",
   "metadata": {},
   "source": [
    "# [피보나치 수](https://www.acmicpc.net/problem/2747)\n",
    "\n",
    "<br/>\n",
    "<br/>\n",
    "\n",
    "## 문제\n",
    "\n",
    "피보나치 수는 0과 1로 시작한다. 0번째 피보나치 수는 0이고, 1번째 피보나치 수는 1이다. 그 다음 2번째 부터는 바로 앞 두 피보나치 수의 합이 된다.\n",
    "\n",
    "이를 식으로 써보면 Fn = Fn-1 + Fn-2 (n ≥ 2)가 된다.\n",
    "\n",
    "n=17일때 까지 피보나치 수를 써보면 다음과 같다.\n",
    "\n",
    "0, 1, 1, 2, 3, 5, 8, 13, 21, 34, 55, 89, 144, 233, 377, 610, 987, 1597\n",
    "\n",
    "n이 주어졌을 때, n번째 피보나치 수를 구하는 프로그램을 작성하시오.\n",
    "\n",
    "\n",
    "## 입력\n",
    "\n",
    "첫째 줄에 n이 주어진다. n은 45보다 작거나 같은 자연수이다.\n",
    "\n",
    "\n",
    "## 출력\n",
    "\n",
    "첫째 줄에 n번째 피보나치 수를 출력한다.\n",
    "\n",
    "## 예제 입력1\n",
    "\n",
    "```\n",
    "10\n",
    "```\n",
    "\n",
    "## 예제 출력1\n",
    "\n",
    "```\n",
    "55\n",
    "```\n",
    "\n",
    "## 알고리즘 분류 \n",
    "\n",
    "- 수학\n",
    "- 구현"
   ]
  },
  {
   "cell_type": "markdown",
   "metadata": {},
   "source": [
    "----"
   ]
  },
  {
   "cell_type": "markdown",
   "metadata": {},
   "source": [
    "## 풀이 방법\n",
    "\n",
    "- 점화식을 작성한다.\n",
    "- 재귀함수를 사용\n",
    "\n",
    "### 문제 풀이 - 핵심 아이디어\n",
    "\n",
    "1. 피보나치 수열의 점화식을 세운다.\n",
    "    - F[0]=0, F[1]=1 `F[n]=F[n-1]+F[n-2]`\n",
    "    - 점화식은 재귀함수 형태로서 알고리즘을 작동할 수 있다.\n",
    "2. 재귀 함수를 이용해 문제를 풀 수 있는지 검토해야 한다.\n",
    "3. 문제에서 N은 최대 45이다."
   ]
  },
  {
   "cell_type": "markdown",
   "metadata": {},
   "source": [
    "### 풀이코드1)\n",
    "\n",
    "- 시간초과가 나온다. \n",
    "    - 왜냐하면, 재귀적 구현의 한계이다.\n",
    "    - 구해야하는 피보나치함수의 개수가 많아진다.\n",
    "- 따라서, 단순히 재귀적으로 풀면 반복적으로 여러번 호출되고,\n",
    "- 시간 복잡도는 $O$(2$^n$) 이 소요된다.\n",
    "- 이러한 목적을 해결하기 위해 `다이나믹 프로그래밍`이 있다."
   ]
  },
  {
   "cell_type": "code",
   "execution_count": 6,
   "metadata": {},
   "outputs": [
    {
     "name": "stdout",
     "output_type": "stream",
     "text": [
      "3\n",
      "2\n"
     ]
    }
   ],
   "source": [
    "n=int(input())\n",
    "\n",
    "def fibo(n):\n",
    "    if n==0:\n",
    "        return 0\n",
    "    if n==1:\n",
    "        return 1\n",
    "    return fibo(n-1) + fibo(n-2)\n",
    "\n",
    "print(fibo(n))"
   ]
  },
  {
   "cell_type": "markdown",
   "metadata": {},
   "source": [
    "### 풀이 코드 2)\n",
    "\n",
    "- 0, 1  1  2  3\n",
    "- a  b\n",
    "    - a b\n",
    "       - a b\n",
    "          - a b"
   ]
  },
  {
   "cell_type": "code",
   "execution_count": 7,
   "metadata": {},
   "outputs": [
    {
     "name": "stdout",
     "output_type": "stream",
     "text": [
      "10\n",
      "55\n"
     ]
    }
   ],
   "source": [
    "n=int(input())\n",
    "\n",
    "a,b = 0,1\n",
    "\n",
    "while n>0:\n",
    "    a,b=b,a+b\n",
    "    n-=1\n",
    "print(a)"
   ]
  },
  {
   "cell_type": "code",
   "execution_count": 1,
   "metadata": {},
   "outputs": [
    {
     "name": "stdout",
     "output_type": "stream",
     "text": [
      "10\n",
      "55\n"
     ]
    }
   ],
   "source": [
    "n = int(input())\n",
    "\n",
    "fibonacci = [0, 1]\n",
    "for i in range(2, n+1):\n",
    "    num = fibonacci[i-1] + fibonacci[i-2]\n",
    "    fibonacci.append(num)\n",
    "print(fibonacci[n])"
   ]
  }
 ],
 "metadata": {
  "kernelspec": {
   "display_name": "Python 3 (ipykernel)",
   "language": "python",
   "name": "python3"
  },
  "language_info": {
   "codemirror_mode": {
    "name": "ipython",
    "version": 3
   },
   "file_extension": ".py",
   "mimetype": "text/x-python",
   "name": "python",
   "nbconvert_exporter": "python",
   "pygments_lexer": "ipython3",
   "version": "3.9.7"
  }
 },
 "nbformat": 4,
 "nbformat_minor": 4
}
