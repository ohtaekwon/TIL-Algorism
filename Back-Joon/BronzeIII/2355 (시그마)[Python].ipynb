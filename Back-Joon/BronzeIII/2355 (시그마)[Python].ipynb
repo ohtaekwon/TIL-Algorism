{
 "cells": [
  {
   "cell_type": "markdown",
   "metadata": {},
   "source": [
    "# 지능형 기차\n",
    "\n",
    "\n",
    "<br>\n",
    "<br>\n",
    "\n",
    "## 문제\n",
    "\n",
    "---\n",
    "\n",
    "두 정수 A와 B가 주어졌을 때, 두 정수 사이에 있는 수의 합을 구하는 프로그램을 작성하시오. 사이에 있는 수들은 A와 B도 포함한다.\n"
   ]
  },
  {
   "cell_type": "markdown",
   "metadata": {},
   "source": [
    "### 입력\n",
    "\n",
    "---\n",
    "첫째 줄에 두 정수 A, B가 주어진다. (-2,147,483,648 ≤ A, B ≤ 2,147,483,647)\n",
    "\n",
    "\n",
    "\n",
    "<br>\n",
    "\n",
    "### 출력\n",
    "---\n",
    "첫째 줄에 답을 출력한다. (-2,147,483,648 ≤ 답 ≤ 2,147,483,647)\n"
   ]
  },
  {
   "cell_type": "markdown",
   "metadata": {},
   "source": [
    "### 예제 입력1\n",
    "\n",
    "```\n",
    "1 2\n",
    "```\n",
    "\n",
    "### 예제 출력1\n",
    "\n",
    "```\n",
    "3\n",
    "```"
   ]
  },
  {
   "cell_type": "markdown",
   "metadata": {},
   "source": [
    "----"
   ]
  },
  {
   "cell_type": "markdown",
   "metadata": {},
   "source": [
    "### 풀이 1)\n",
    "\n",
    "이렇게 풀어본 결과 **시간초과** 와 **메모리 초과** 가 나왔다.\n",
    "\n",
    "뭐가 문제인가.."
   ]
  },
  {
   "cell_type": "code",
   "execution_count": 24,
   "metadata": {},
   "outputs": [
    {
     "name": "stdout",
     "output_type": "stream",
     "text": [
      "2 4\n",
      "9\n"
     ]
    }
   ],
   "source": [
    "# 시간 초과가 나왔다.\n",
    "a,b = map(int, input().split())\n",
    "solution = 0\n",
    "\n",
    "for i in range(a,b+1):\n",
    "    solution+=i\n",
    "print(solution)"
   ]
  },
  {
   "cell_type": "code",
   "execution_count": 25,
   "metadata": {},
   "outputs": [
    {
     "name": "stdout",
     "output_type": "stream",
     "text": [
      "2 5\n",
      "14\n"
     ]
    }
   ],
   "source": [
    "# 메모리 초과가 나왔다.\n",
    "a,b = map(int, input().split())\n",
    "solution = [i for i in range(a,b+1)]\n",
    "print(sum(solution))"
   ]
  },
  {
   "cell_type": "code",
   "execution_count": null,
   "metadata": {},
   "outputs": [],
   "source": []
  },
  {
   "cell_type": "markdown",
   "metadata": {},
   "source": [
    "### 풀이 2)\n",
    "\n",
    "수학 공식을 사용해보면 어떨까...? 수열 합의 공식 : n(n+1)//2\n",
    "\n",
    "시그마 합의 공식 더하기 나머지 숫자들을 더한다"
   ]
  },
  {
   "cell_type": "code",
   "execution_count": 27,
   "metadata": {},
   "outputs": [
    {
     "name": "stdout",
     "output_type": "stream",
     "text": [
      "10 6\n",
      "40\n"
     ]
    }
   ],
   "source": [
    "a, b = map(int, input().split())\n",
    "n_max = max(a, b)\n",
    "n_min = min(a, b)\n",
    "n = n_max - n_min\n",
    "s = (n * (n + 1)) // 2\n",
    "\n",
    "print(s + (n_min * (n + 1)))"
   ]
  },
  {
   "cell_type": "markdown",
   "metadata": {},
   "source": [
    "### 풀이 3)\n",
    "\n",
    "단순히 반복문을 이용해 풀면 시간 초과가 발생한다.\n",
    "\n",
    "a와 b를 포함한 사이의 수의 합은 ((a + b) / 2) * (b - a + 1)이다."
   ]
  },
  {
   "cell_type": "code",
   "execution_count": null,
   "metadata": {},
   "outputs": [],
   "source": [
    "a, b = map(int, input().split())\n",
    "\n",
    "# a 부터 b까지 연속된 합 ((a + b) / 2) * (b - a + 1)\n",
    "result = (a + b) * (abs(a - b) + 1) // 2\n",
    "\n",
    "print(result)"
   ]
  }
 ],
 "metadata": {
  "kernelspec": {
   "display_name": "Python 3",
   "language": "python",
   "name": "python3"
  },
  "language_info": {
   "codemirror_mode": {
    "name": "ipython",
    "version": 3
   },
   "file_extension": ".py",
   "mimetype": "text/x-python",
   "name": "python",
   "nbconvert_exporter": "python",
   "pygments_lexer": "ipython3",
   "version": "3.8.3"
  }
 },
 "nbformat": 4,
 "nbformat_minor": 4
}
