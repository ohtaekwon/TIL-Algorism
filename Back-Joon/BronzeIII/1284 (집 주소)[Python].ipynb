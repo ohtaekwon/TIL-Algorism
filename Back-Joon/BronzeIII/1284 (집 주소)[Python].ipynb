{
 "cells": [
  {
   "cell_type": "markdown",
   "metadata": {},
   "source": [
    "# 집 주소\n",
    "\n",
    "\n",
    "<br>\n",
    "<br>\n",
    "\n",
    "## 문제\n",
    "\n",
    "---\n",
    "재석이는 대문에 붙이는 (주소를 나타내는) 호수판 제작업체의 직원이다. 고객에게 전달할 호수판은 숫자와 숫자 사이 그리고 왼쪽 오른쪽으로 적당히 여백이 들어가 줘야하고 숫자마다 차지하는 간격이 조금씩 상이하다. 다행이도 규칙은 매우 간단하다. \n",
    "\n",
    "1. 각 숫자 사이에는 1cm의 여백이 들어가야한다.\n",
    "2. 1은 2cm의 너비를 차지해야한다. 0은 4cm의 너비를 차지해야한다. 나머지 숫자는 모두 3cm의 너비를 차지한다.\n",
    "3. 호수판의 경계와 숫자 사이에는 1cm의 여백이 들어가야한다.\n",
    "\n",
    "![](https://upload.acmicpc.net/f203f2d5-ff6a-4afb-9cfe-226612dd4095/-/preview/)\n",
    "\n",
    "예를 들어 위의 120 같은 경우,  각 숫자 사이에 여백이 1cm 씩 2개 들어간다. 1은 2cm, 2는 3cm, 0은 4cm를 차지한다. 오른쪽, 왼쪽 경계에서 각각 여백이 1cm씩 차지한다. 따라서 총 2 + 2 + 3 + 4 + 1 + 1 = 13(cm) 가 된다.\n",
    "\n",
    "재석이는 고객에게 전달해야할 호수판의 너비가 얼마나 되는지 궁금해졌다. 재석이를 도와주자!"
   ]
  },
  {
   "cell_type": "markdown",
   "metadata": {},
   "source": [
    "### 입력\n",
    "---\n",
    "호수판에 들어갈 숫자 N의 범위는 1 ≤ N ≤ 9999 이다.\n",
    "\n",
    "입력은 마지막에 0이 들어오기 전까지 계속해서 줄 단위로 주어진다.\n",
    "\n",
    "또한, 마지막의 0은 처리하지 않는다.\n",
    "<br>\n",
    "\n",
    "### 출력\n",
    "---\n",
    "각 입력마다 얼마만큼 너비를 차지하는지 정수로 출력하면 된다.\n",
    "\n",
    "각 출력은 줄바꿈으로 구분되어야한다."
   ]
  },
  {
   "cell_type": "markdown",
   "metadata": {},
   "source": [
    "### 예제 입력1\n",
    "\n",
    "```\n",
    "120\n",
    "5611\n",
    "100\n",
    "0\n",
    "```\n",
    "\n",
    "### 예제 출력1\n",
    "\n",
    "```\n",
    "13\n",
    "15\n",
    "14\n",
    "```\n"
   ]
  },
  {
   "cell_type": "markdown",
   "metadata": {},
   "source": [
    "----"
   ]
  },
  {
   "cell_type": "markdown",
   "metadata": {},
   "source": [
    "### 풀이"
   ]
  },
  {
   "cell_type": "code",
   "execution_count": 227,
   "metadata": {},
   "outputs": [
    {
     "name": "stdout",
     "output_type": "stream",
     "text": [
      "120\n",
      "5611\n",
      "100\n",
      "1000\n",
      "12321312\n",
      "123123123\n",
      "12312312313123\n",
      "123213123\n",
      "0\n"
     ]
    }
   ],
   "source": [
    "a = []\n",
    "while True:\n",
    "    num = list(map(int, list(input())))\n",
    "    a.append(num)\n",
    "    if len(num) == 1 and num[0] == 0:\n",
    "        break   "
   ]
  },
  {
   "cell_type": "code",
   "execution_count": 228,
   "metadata": {},
   "outputs": [
    {
     "data": {
      "text/plain": [
       "[[1, 2, 0],\n",
       " [5, 6, 1, 1],\n",
       " [1, 0, 0],\n",
       " [1, 0, 0, 0],\n",
       " [1, 2, 3, 2, 1, 3, 1, 2],\n",
       " [1, 2, 3, 1, 2, 3, 1, 2, 3],\n",
       " [1, 2, 3, 1, 2, 3, 1, 2, 3, 1, 3, 1, 2, 3],\n",
       " [1, 2, 3, 2, 1, 3, 1, 2, 3],\n",
       " [0]]"
      ]
     },
     "execution_count": 228,
     "metadata": {},
     "output_type": "execute_result"
    }
   ],
   "source": [
    "a"
   ]
  },
  {
   "cell_type": "markdown",
   "metadata": {},
   "source": [
    "`list(input()`을 다시 `list(map(int, list(input()))`로 하면서 리스트안에 리스트가 생성된다. 그리고 `input`으로 입력된 값은 리스트 처리가 되면서 각 자리수당 인덱싱이 가능하다."
   ]
  },
  {
   "cell_type": "markdown",
   "metadata": {},
   "source": [
    "##### 풀이 1)"
   ]
  },
  {
   "cell_type": "code",
   "execution_count": 254,
   "metadata": {},
   "outputs": [
    {
     "name": "stdout",
     "output_type": "stream",
     "text": [
      "120\n",
      "13\n",
      "5611\n",
      "15\n",
      "100\n",
      "14\n",
      "0\n"
     ]
    }
   ],
   "source": [
    "ans=0\n",
    "while True:\n",
    "    num = list(map(int, list(input()))) # 리스트안에 리스트\n",
    "    \n",
    "    # 0이면 break를 함으로써 마지막 0처리를 안하도록 한다.\n",
    "    if len(num) == 1 and num[0] == 0:\n",
    "        break\n",
    "        \n",
    "    # 글자의 여백을 위해 자리수 + 1을 하면 값의 여백 자리수가 나온다.    \n",
    "    ans = 1 + len(num) \n",
    "    \n",
    "    for item in num:\n",
    "        if item == 1:\n",
    "            ans +=2\n",
    "        elif item == 0:\n",
    "            ans +=4\n",
    "        else:\n",
    "            ans +=3\n",
    "    print(ans)"
   ]
  },
  {
   "cell_type": "code",
   "execution_count": 255,
   "metadata": {},
   "outputs": [
    {
     "name": "stdout",
     "output_type": "stream",
     "text": [
      "120\n",
      "13\n",
      "5611\n",
      "15\n",
      "100\n",
      "14\n",
      "0\n"
     ]
    }
   ],
   "source": [
    "while True:\n",
    "    num = list(map(int,list(input())))\n",
    "    s=0\n",
    "    \n",
    "    if len(num)==1 and num[0]==0:\n",
    "        break\n",
    "    \n",
    "    s=(len(num)+1)\n",
    "    \n",
    "    for item in num:\n",
    "        if item == 1:\n",
    "            s+=2\n",
    "        elif item==0:\n",
    "            s+=4\n",
    "        else:\n",
    "            s+=3\n",
    "    print(s)"
   ]
  },
  {
   "cell_type": "markdown",
   "metadata": {},
   "source": [
    "##### 연습)"
   ]
  },
  {
   "cell_type": "code",
   "execution_count": 257,
   "metadata": {},
   "outputs": [
    {
     "name": "stdout",
     "output_type": "stream",
     "text": [
      "120\n",
      "5611\n",
      "100\n",
      "0\n"
     ]
    }
   ],
   "source": [
    "# 1 -> 여백 2 / 0 -> 여백 4 / 나머지 -> 여백 3\n",
    "a=[]\n",
    "\n",
    "for _ in range(4):\n",
    "    nums = input()\n",
    "    for i in range(len(nums)):\n",
    "        b=len(nums[i])-1\n",
    "        nums[i][b] !='0' or nums[i][b] !='1'\n",
    "        a.append(nums[i])\n"
   ]
  },
  {
   "cell_type": "code",
   "execution_count": 258,
   "metadata": {},
   "outputs": [
    {
     "data": {
      "text/plain": [
       "['1', '2', '0', '5', '6', '1', '1', '1', '0', '0', '0']"
      ]
     },
     "execution_count": 258,
     "metadata": {},
     "output_type": "execute_result"
    }
   ],
   "source": [
    "a"
   ]
  },
  {
   "cell_type": "code",
   "execution_count": 259,
   "metadata": {},
   "outputs": [
    {
     "name": "stdout",
     "output_type": "stream",
     "text": [
      "120\n",
      "11\n",
      "5611\n",
      "26\n",
      "100\n",
      "37\n",
      "0\n",
      "40\n"
     ]
    }
   ],
   "source": [
    "nums=[]\n",
    "s = 0\n",
    "f = []\n",
    "for i in range(4):\n",
    "    num = input()\n",
    "    nums.append(num)\n",
    "    for j in range(len(nums[i])):\n",
    "        if nums[i][j] != '0':\n",
    "            s += 3\n",
    "        elif nums[i][j] != '1':\n",
    "            s += 3\n",
    "        elif nums[i][j] == '1':\n",
    "            s += 2\n",
    "        else:\n",
    "            s += 4\n",
    "    s += 1*(len(nums[i])-1)\n",
    "    \n",
    "    print(s)"
   ]
  },
  {
   "cell_type": "code",
   "execution_count": 260,
   "metadata": {},
   "outputs": [
    {
     "data": {
      "text/plain": [
       "40"
      ]
     },
     "execution_count": 260,
     "metadata": {},
     "output_type": "execute_result"
    }
   ],
   "source": [
    "s"
   ]
  }
 ],
 "metadata": {
  "kernelspec": {
   "display_name": "Python 3",
   "language": "python",
   "name": "python3"
  },
  "language_info": {
   "codemirror_mode": {
    "name": "ipython",
    "version": 3
   },
   "file_extension": ".py",
   "mimetype": "text/x-python",
   "name": "python",
   "nbconvert_exporter": "python",
   "pygments_lexer": "ipython3",
   "version": "3.8.3"
  }
 },
 "nbformat": 4,
 "nbformat_minor": 4
}
