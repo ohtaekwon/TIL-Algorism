{
 "cells": [
  {
   "cell_type": "markdown",
   "metadata": {},
   "source": [
    "# 지능형 기차\n",
    "\n",
    "\n",
    "<br>\n",
    "<br>\n",
    "\n",
    "## 문제\n",
    "\n",
    "---\n",
    "\n",
    "최근에 개발된 지능형 기차가 1번역(출발역)부터 10번역(종착역)까지 10개의 정차역이 있는 노선에서 운행되고 있다. 이 기차에는 타거나 내리는 사람 수를 자동으로 인식할 수 있는 장치가 있다. 이 장치를 이용하여 출발역에서 종착역까지 가는 도중 기차 안에 사람이 가장 많을 때의 사람 수를 계산하려고 한다. 단, 이 기차를 이용하는 사람들은 질서 의식이 투철하여, 역에서 기차에 탈 때, 내릴 사람이 모두 내린 후에 기차에 탄다고 가정한다.\n",
    "\n",
    "|  |내린 사람 수|탄 사람 수|\n",
    "|--|:----------:|:--------:|\n",
    "|1번역(출발역)|0|32|\n",
    "|2번역(출발역)|3|13|\n",
    "|3번역(출발역)|28|25|\n",
    "|4번역(출발역)|17|5|\n",
    "|5번역(출발역)|21|20|\n",
    "|6번역(출발역)|11|0|\n",
    "|7번역(출발역)|12|12|\n",
    "|8번역(출발역)|4|2|\n",
    "|9번역(출발역)|0|8|\n",
    "|10번역(출발역)|21|0|\n",
    "\n",
    "예를 들어, 위와 같은 경우를 살펴보자. 이 경우, 기차 안에 사람이 가장 많은 때는 2번역에서 3명의 사람이 기차에서 내리고, 13명의 사람이 기차에 탔을 때로, 총 42명의 사람이 기차 안에 있다.\n",
    "\n",
    "이 기차는 다음 조건을 만족하면서 운행된다고 가정한다.\n",
    "\n",
    " 1. 기차는 역 번호 순서대로 운행한다.\n",
    " 2. 출발역에서 내린 사람 수와 종착역에서 탄 사람 수는 0이다.\n",
    " 3. 각 역에서 현재 기차에 있는 사람보다 더 많은 사람이 내리는 경우는 없다.\n",
    " 4. 기차의 정원은 최대 10,000명이고, 정원을 초과하여 타는 경우는 없다.\n",
    "\n",
    "10개의 역에 대해 기차에서 내린 사람 수와 탄 사람 수가 주어졌을 때, 기차에 사람이 가장 많을 때의 사람 수를 계산하는 프로그램을 작성하시오."
   ]
  },
  {
   "cell_type": "markdown",
   "metadata": {},
   "source": [
    "### 입력\n",
    "\n",
    "---\n",
    "각 역에서 내린 사람 수와 탄 사람 수가 빈칸을 사이에 두고 첫째 줄부터 열 번째 줄까지 역 순서대로 한 줄에 하나씩 주어진다. \n",
    "\n",
    "<br>\n",
    "\n",
    "### 출력\n",
    "---\n",
    "첫째 줄에 최대 사람 수를 출력한다. "
   ]
  },
  {
   "cell_type": "markdown",
   "metadata": {},
   "source": [
    "----"
   ]
  },
  {
   "cell_type": "markdown",
   "metadata": {},
   "source": [
    "### 예제 입력1\n",
    "\n",
    "```\n",
    "0 32\n",
    "3 13\n",
    "28 25\n",
    "17 5\n",
    "21 20\n",
    "11 0\n",
    "12 12\n",
    "4 2\n",
    "0 8\n",
    "21 0\n",
    "```\n",
    "\n",
    "### 예제 출력1\n",
    "\n",
    "```\n",
    "42\n",
    "```"
   ]
  },
  {
   "cell_type": "markdown",
   "metadata": {},
   "source": [
    "----"
   ]
  },
  {
   "cell_type": "markdown",
   "metadata": {},
   "source": [
    "### 풀이 1)\n",
    "\n",
    "푸는 방법\n",
    "- 내린 수와 탄 사람 수의 변수를 각각 지정한다."
   ]
  },
  {
   "cell_type": "code",
   "execution_count": 2,
   "metadata": {},
   "outputs": [
    {
     "name": "stdout",
     "output_type": "stream",
     "text": [
      "0 32\n",
      "3 13\n",
      "28 25\n",
      "17 5\n",
      "21 20\n",
      "11 0\n",
      "12 12\n",
      "4 2\n",
      "0 8\n",
      "21 0\n",
      "42\n"
     ]
    }
   ],
   "source": [
    "people_nums = []\n",
    "people = 0\n",
    "\n",
    "for _ in range(10):\n",
    "    out_num, in_num = map(int, input().split())\n",
    "    people += in_num # 타는 사람\n",
    "    people -= out_num # 내리는 사람\n",
    "    \n",
    "    people_nums.append(people) # 종착역마다의 사람 수 추가\n",
    "    \n",
    "print(max(people_nums))"
   ]
  },
  {
   "cell_type": "code",
   "execution_count": 3,
   "metadata": {},
   "outputs": [
    {
     "name": "stdout",
     "output_type": "stream",
     "text": [
      "0 32\n",
      "3 13\n",
      "28 25\n",
      "17 5\n",
      "21 20\n",
      "11 0\n",
      "12 12\n",
      "4 2\n",
      "0 8\n",
      "21 0\n",
      "[32, 42, 39, 27, 26, 15, 15, 13, 21, 0]\n"
     ]
    }
   ],
   "source": [
    "people_numbers=[]\n",
    "people_cnt=0\n",
    "\n",
    "for _ in range(10):\n",
    "    out_n, in_n = map(int, input().split())\n",
    "    people_cnt+=in_n\n",
    "    people_cnt-=out_n\n",
    "    \n",
    "    people_numbers.append(people_cnt)\n",
    "    \n",
    "print(people_numbers)"
   ]
  },
  {
   "cell_type": "markdown",
   "metadata": {},
   "source": [
    "### 풀이 2)"
   ]
  },
  {
   "cell_type": "code",
   "execution_count": null,
   "metadata": {},
   "outputs": [],
   "source": [
    "passenger = 0\n",
    "max_passenger = 0\n",
    "\n",
    "for _ in range(10):\n",
    "    out_train, in_train  = map(int, input().split()) \n",
    "    passenger += in_train - out_train # 탄 사람 - 내린 사람 의 수를 더해준다.\n",
    "    max_passenger = max(passenger, max_passenger) \n",
    "    \n",
    "print(max_passenger)\n"
   ]
  }
 ],
 "metadata": {
  "kernelspec": {
   "display_name": "Python 3",
   "language": "python",
   "name": "python3"
  },
  "language_info": {
   "codemirror_mode": {
    "name": "ipython",
    "version": 3
   },
   "file_extension": ".py",
   "mimetype": "text/x-python",
   "name": "python",
   "nbconvert_exporter": "python",
   "pygments_lexer": "ipython3",
   "version": "3.8.3"
  }
 },
 "nbformat": 4,
 "nbformat_minor": 4
}
